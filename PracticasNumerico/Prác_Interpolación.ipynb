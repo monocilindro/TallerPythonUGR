{
 "cells": [
  {
   "cell_type": "markdown",
   "metadata": {},
   "source": [
    "# Interpolación polinómica en una variable\n",
    "#                  con Python"
   ]
  },
  {
   "cell_type": "markdown",
   "metadata": {},
   "source": [
    "Autor: Pedro González Rodelas\n",
    "\n",
    "Fecha de la primera versión: 27/08/2017\n",
    "\n",
    "Fecha de la última revisión: 16/09/2017\n",
    "\n",
    "Estructura del notebook y algunos ejemplos tomados o adaptados de los libros:\n",
    "\n",
    "- \"Numerical Python: A Practical Techniques Approach for Industry\" de Robert Johansson. Edit. Apress (2015) con ISBN-13 (electronic): 978-1-4842-0553-2\n",
    "- \"Numerical Methods in Engineering with Python 3\" de Jaan Kiusalaas. Edit Cambridge Univ. Press (2013) con ISBN: 978-1-107-03385-6\n",
    "- \"Análisis Numérico con Mathematica\" de V. Ramírez, D. Barrera, M. Pasadas y P. González. Edit. Ariel Ciencia (2001) con ISBN: 84-344-8036-0. Dep. Legal: B.31.425-2001"
   ]
  },
  {
   "cell_type": "markdown",
   "metadata": {},
   "source": [
    "En esta práctica nos ocuparemos de estudiar los problemas de interpolación polinómica más habituales, comprobando su unisolvencia así como los mejores procedimientos para su resolución computacional. Por otro lado introduciremos también las órdenes de Python que sirven para obtener los polinomios interpoladores correspondientes. "
   ]
  },
  {
   "cell_type": "markdown",
   "metadata": {},
   "source": [
    "## Carga de los módulos y \n",
    "## Definición de ciertas funciones empleadas"
   ]
  },
  {
   "cell_type": "markdown",
   "metadata": {},
   "source": [
    "Antes de empezar a realizar cualquier cálculo numérico o simbólico debemos de cargar los correspondientes módulos de Python que implementan la mayoría de funciones y procedimientos necesarios para ello: `NumPy` y `SymPy` que serán cargados con los pseudónimos habituales `np` y `sp`, respectivamente. Además cargaremos la función del módulo random que nos permitirá generar números aleatorios, cada vez que los necesitemos y el submódulo por excelencia para realizar todo tipo gráficos y figuras `MatPlotlib.Pyplot`, con el pseudónimo habitual `plt`. Además en esta práctica usaremos específicamente el submódulo `interpolate` del módulo `SciPy`."
   ]
  },
  {
   "cell_type": "code",
   "execution_count": 1,
   "metadata": {
    "collapsed": true
   },
   "outputs": [],
   "source": [
    "import numpy as np # Importamos el módulo NumPy con el pseudónimo np\n",
    "import sympy as sp # Importamos el módulo SymPy con el pseudónimo sp\n",
    "sp.init_printing() # con esta opción obtendremos bonitas fórmulas"
   ]
  },
  {
   "cell_type": "code",
   "execution_count": 2,
   "metadata": {},
   "outputs": [],
   "source": [
    "# usaremos una opción para poder visualizar los gráficos incrustados \n",
    "# en línea dentro de este mismo notebook\n",
    "%matplotlib inline \n",
    "import matplotlib.pyplot as plt  # "
   ]
  },
  {
   "cell_type": "code",
   "execution_count": 3,
   "metadata": {
    "collapsed": true
   },
   "outputs": [],
   "source": [
    "from random import random \n",
    "# Importamos la función generadora de números pseudoaleatorios"
   ]
  },
  {
   "cell_type": "code",
   "execution_count": 4,
   "metadata": {
    "collapsed": true
   },
   "outputs": [],
   "source": [
    "import timeit # para poder cronometrar la ejecución de ciertos códigos "
   ]
  },
  {
   "cell_type": "code",
   "execution_count": 5,
   "metadata": {
    "collapsed": true
   },
   "outputs": [],
   "source": [
    "from scipy import interpolate # importamos el submódulo interpolate\n",
    "?interpolate"
   ]
  },
  {
   "cell_type": "markdown",
   "metadata": {},
   "source": [
    "Como se puede consultar en la documentación correspondiente, este submódulo contiene clases de objetos y funciones que permitirán obtener tanto polinomios de interpolación uni y multi-variada, así como splines para problemas de interpolación de tipo Lagrange, y muchas más posibilidades que no vamos a contemplar de momento."
   ]
  },
  {
   "cell_type": "markdown",
   "metadata": {},
   "source": [
    "Por otra parte, también usaremos de vez en cuando una función propia, que vamos a definir a continuación y posteriormente vectorizar, con el objeto de poder redondear por cero cualquier número o lista/array de números en coma flotante que sea menor que un cierto valor máximo, que también podremos indicar opcionalmente, o bien tomar un valor por defecto adecuado para nuestros propósitos. "
   ]
  },
  {
   "cell_type": "code",
   "execution_count": 6,
   "metadata": {
    "collapsed": true
   },
   "outputs": [],
   "source": [
    "from mpmath import chop"
   ]
  },
  {
   "cell_type": "code",
   "execution_count": 7,
   "metadata": {},
   "outputs": [],
   "source": [
    "?chop"
   ]
  },
  {
   "cell_type": "code",
   "execution_count": 8,
   "metadata": {},
   "outputs": [
    {
     "data": {
      "text/plain": [
       "mpf('3.0')"
      ]
     },
     "execution_count": 8,
     "metadata": {},
     "output_type": "execute_result"
    }
   ],
   "source": [
    "chop(3+1e-16j)"
   ]
  },
  {
   "cell_type": "code",
   "execution_count": 9,
   "metadata": {},
   "outputs": [
    {
     "data": {
      "text/plain": [
       "[mpf('3.0'),\n",
       " mpf('3.0'),\n",
       " mpc(real='3.0', imag='9.9999999999999998e-13'),\n",
       " mpc(real='3.0', imag='9.9999999999999995e-7')]"
      ]
     },
     "execution_count": 9,
     "metadata": {},
     "output_type": "execute_result"
    }
   ],
   "source": [
    "chop([3+1e-16j,3+1e-14j,3+1e-12j,3+1e-6j])"
   ]
  },
  {
   "cell_type": "code",
   "execution_count": 11,
   "metadata": {},
   "outputs": [
    {
     "name": "stdout",
     "output_type": "stream",
     "text": [
      "[mpf('1.0'), mpf('0.0'), mpf('3.0'), mpf('-4.0'), mpf('2.0')]\n"
     ]
    }
   ],
   "source": [
    "print(chop([1.0, 1e-20, 3+1e-18j, -4, 2]))"
   ]
  },
  {
   "cell_type": "code",
   "execution_count": 12,
   "metadata": {
    "collapsed": true
   },
   "outputs": [],
   "source": [
    "def mychop(expr, *, max=10**(-14)): \n",
    "    if abs(expr) > max:\n",
    "      return expr \n",
    "    else:\n",
    "      return 0"
   ]
  },
  {
   "cell_type": "code",
   "execution_count": 13,
   "metadata": {
    "collapsed": true
   },
   "outputs": [],
   "source": [
    "chop_vec = np.vectorize(mychop) # versión vectorizada de 'mychop'"
   ]
  },
  {
   "cell_type": "code",
   "execution_count": 14,
   "metadata": {
    "collapsed": true
   },
   "outputs": [],
   "source": [
    "?np.product  # así usaremos la función producto de los elementos\n",
    "# de un array de NumPy"
   ]
  },
  {
   "cell_type": "code",
   "execution_count": 15,
   "metadata": {
    "collapsed": true
   },
   "outputs": [],
   "source": [
    "?sum         # información de la orden de sumatoria de los elementos\n",
    "# de una lista o array"
   ]
  },
  {
   "cell_type": "markdown",
   "metadata": {},
   "source": [
    "## El submódulo polynomial de NumPy"
   ]
  },
  {
   "cell_type": "code",
   "execution_count": 16,
   "metadata": {
    "collapsed": true
   },
   "outputs": [],
   "source": [
    "import numpy.polynomial as P # cargaremos el submódulo polynomial, \n",
    "# situado dentro del módulo NumPy, con el pseudónimo P"
   ]
  },
  {
   "cell_type": "code",
   "execution_count": 17,
   "metadata": {},
   "outputs": [
    {
     "data": {
      "text/plain": [
       "Polynomial([ 1.,  2.,  3.], [-1,  1], [-1,  1])"
      ]
     },
     "execution_count": 17,
     "metadata": {},
     "output_type": "execute_result"
    }
   ],
   "source": [
    "p1 = P.Polynomial([1,2,3]) # Instancia concreta de la clase Polynomial\n",
    "# a partir de los coeficientes indicados y la base canónica 1, x, x^2,...\n",
    "p1"
   ]
  },
  {
   "cell_type": "markdown",
   "metadata": {},
   "source": [
    "Nótese que aparte de obtener en una primera lista los coeficientes en la base canónica del polinomio en cuestión, también nos proporciona por defecto un intervalo donde se considera definido y un rango o ventana que nos permitirá focalizar las propiedades concretas de este polinomio, sobre todo si se pretende luego realizar alguna operación integral, como comprobar su ortogonalidad por ejemplo, ya que lo que se proporciona es una transformación lineal (escalado seguido de una traslación) que transforma el dominio del polinomio en otro intervalo de normalización, donde tendrían lugar los cálculos más exigentes a nivel de sensibilidad y número de condición. Por defecto esta afinidad suele ser la identidad en el intervalo $[-1,1]$, aunque como veremos hay otras muchas posibilidades."
   ]
  },
  {
   "cell_type": "code",
   "execution_count": 18,
   "metadata": {},
   "outputs": [
    {
     "data": {
      "text/plain": [
       "array([ 1.,  2.,  3.])"
      ]
     },
     "execution_count": 18,
     "metadata": {},
     "output_type": "execute_result"
    }
   ],
   "source": [
    "p1.coef   # de esta manera podemos recuperar los coeficientes de p1"
   ]
  },
  {
   "cell_type": "code",
   "execution_count": 19,
   "metadata": {},
   "outputs": [
    {
     "data": {
      "text/plain": [
       "array([-1,  1])"
      ]
     },
     "execution_count": 19,
     "metadata": {},
     "output_type": "execute_result"
    }
   ],
   "source": [
    "p1.domain # así obtendríamos el dominio de definición por defecto"
   ]
  },
  {
   "cell_type": "code",
   "execution_count": 20,
   "metadata": {},
   "outputs": [
    {
     "data": {
      "text/plain": [
       "array([-1,  1])"
      ]
     },
     "execution_count": 20,
     "metadata": {},
     "output_type": "execute_result"
    }
   ],
   "source": [
    "p1.window  # y así la ventana en la que está considerado \n",
    "# en este momento"
   ]
  },
  {
   "cell_type": "code",
   "execution_count": 21,
   "metadata": {
    "collapsed": true
   },
   "outputs": [],
   "source": [
    "?P.Polynomial # para obtener más información detallada de la orden\n",
    "# Polynomial, dentro del submódulo numpy.polynomial"
   ]
  },
  {
   "cell_type": "markdown",
   "metadata": {},
   "source": [
    "Por otra parte, para poder evaluar dicho polinomio en uno o varios valores concretos de la variable $x$, lo que tendremos que hacer es usarlo cómo si fuera una función, ya sea vectorizada o no."
   ]
  },
  {
   "cell_type": "code",
   "execution_count": 22,
   "metadata": {},
   "outputs": [
    {
     "data": {
      "image/png": "[encoded data removed]",
      "text/latex": [
       "$$\\left ( 2.0, \\quad 1.0, \\quad 6.0\\right )$$"
      ],
      "text/plain": [
       "(2.0, 1.0, 6.0)"
      ]
     },
     "execution_count": 22,
     "metadata": {},
     "output_type": "execute_result"
    }
   ],
   "source": [
    "p1(-1),p1(0),p1(1)"
   ]
  },
  {
   "cell_type": "markdown",
   "metadata": {},
   "source": [
    "Definamos ahora algunas instancias más de esta clase de polinomios y operemos con ellos, usando los operadores habituales de suma (`+`), resta (`-`), producto (`*`) y división entera de polinomios (`//`) desechando el resto si lo hubiera."
   ]
  },
  {
   "cell_type": "code",
   "execution_count": 27,
   "metadata": {},
   "outputs": [],
   "source": [
    "p2 = P.Polynomial([1,0,1])\n",
    "p3 = P.Polynomial([0,1,0])"
   ]
  },
  {
   "cell_type": "code",
   "execution_count": 28,
   "metadata": {},
   "outputs": [
    {
     "data": {
      "text/plain": [
       "Polynomial([ 1.,  1.,  1.], [-1.,  1.], [-1.,  1.])"
      ]
     },
     "execution_count": 28,
     "metadata": {},
     "output_type": "execute_result"
    }
   ],
   "source": [
    "p2 + p3"
   ]
  },
  {
   "cell_type": "code",
   "execution_count": 29,
   "metadata": {},
   "outputs": [
    {
     "data": {
      "text/plain": [
       "Polynomial([ 1., -1.,  1.], [-1.,  1.], [-1.,  1.])"
      ]
     },
     "execution_count": 29,
     "metadata": {},
     "output_type": "execute_result"
    }
   ],
   "source": [
    "p2 - p3"
   ]
  },
  {
   "cell_type": "code",
   "execution_count": 30,
   "metadata": {},
   "outputs": [
    {
     "data": {
      "text/plain": [
       "Polynomial([ 0.,  1.,  0.,  1.], [-1.,  1.], [-1.,  1.])"
      ]
     },
     "execution_count": 30,
     "metadata": {},
     "output_type": "execute_result"
    }
   ],
   "source": [
    "p2*p3"
   ]
  },
  {
   "cell_type": "code",
   "execution_count": 31,
   "metadata": {},
   "outputs": [
    {
     "data": {
      "text/plain": [
       "Polynomial([ 0.,  1.], [-1.,  1.], [-1.,  1.])"
      ]
     },
     "execution_count": 31,
     "metadata": {},
     "output_type": "execute_result"
    }
   ],
   "source": [
    "p2//p3  # nótese que el resto de la división polinómica es ignorado"
   ]
  },
  {
   "cell_type": "code",
   "execution_count": 32,
   "metadata": {},
   "outputs": [
    {
     "data": {
      "text/plain": [
       "Polynomial([ 0.], [-1.,  1.], [-1.,  1.])"
      ]
     },
     "execution_count": 32,
     "metadata": {},
     "output_type": "execute_result"
    }
   ],
   "source": [
    "p3//p2  # nótese que el resto de la división polinómica es ignorado"
   ]
  },
  {
   "cell_type": "markdown",
   "metadata": {},
   "source": [
    "Aparte de poder representar los polinomios en la base canónica habitual, también podríamos buscar sus correspondientes coeficientes en alguna de las bases de polinomios ortogonales más usados, como por ejemplo de Chebyshev, Legendre, Laguerre, Hermite, etc."
   ]
  },
  {
   "cell_type": "code",
   "execution_count": 33,
   "metadata": {},
   "outputs": [
    {
     "data": {
      "text/plain": [
       "array([-0.43425855,  0.76759188])"
      ]
     },
     "execution_count": 33,
     "metadata": {},
     "output_type": "execute_result"
    }
   ],
   "source": [
    "p1bis = P.Chebyshev([1,-2,3])\n",
    "p1bis.roots()"
   ]
  },
  {
   "cell_type": "code",
   "execution_count": 34,
   "metadata": {},
   "outputs": [
    {
     "data": {
      "image/png": "[encoded data removed]",
      "text/plain": [
       "<matplotlib.figure.Figure at 0x22206dab3c8>"
      ]
     },
     "metadata": {},
     "output_type": "display_data"
    }
   ],
   "source": [
    "xx = np.linspace(-1,1,100)\n",
    "yy = p1bis(xx)\n",
    "plt.plot(xx,yy);"
   ]
  },
  {
   "cell_type": "markdown",
   "metadata": {},
   "source": [
    "Pero recordemos las opciones para visualizar los ejes $Ox$ y $Oy$ centrados en el origen de coordenadas $(0,0)$."
   ]
  },
  {
   "cell_type": "code",
   "execution_count": 35,
   "metadata": {},
   "outputs": [
    {
     "data": {
      "image/png": "[encoded data removed]",
      "text/plain": [
       "<matplotlib.figure.Figure at 0x22206daba58>"
      ]
     },
     "metadata": {},
     "output_type": "display_data"
    }
   ],
   "source": [
    "fig, ax = plt.subplots()  # de esta forma generamos una instancia\n",
    "# de la clase figura, con sus correspondientes ejes \n",
    "# y con posibilidad de incluir varios gráficos en ella\n",
    "\n",
    "# estas opciones evitan que se dibujen\n",
    "ax.spines['right'].set_color('none')   # tanto el borde derecho\n",
    "ax.spines['top'].set_color('none') # como el superior del gráfico\n",
    " \n",
    "# mientras que las opciones siguientes sirven\n",
    "ax.xaxis.set_ticks_position('bottom')\n",
    "# para fijar la posición de las marcas en la parte inferior \n",
    "ax.spines['bottom'].set_position(('data',0)) \n",
    "# y situar el eje Ox en la recta horizontal y=0\n",
    "\n",
    "# y estas para fijar la posición de las marcas \n",
    "ax.yaxis.set_ticks_position('left')  # a la izquierda del eje Oy\n",
    "ax.spines['left'].set_position(('data',0))   \n",
    "# y situar éste en la recta vertical x=0\n",
    "\n",
    "# ahora es cuando generamos el gráfico en sí\n",
    "ax.plot(xx, yy); # como una instancia de la clase ejes"
   ]
  },
  {
   "cell_type": "code",
   "execution_count": 36,
   "metadata": {},
   "outputs": [
    {
     "data": {
      "text/plain": [
       "(Polynomial([ 1.,  2.,  3.], [-1,  1], [-1,  1]),\n",
       " Chebyshev([ 1., -2.,  3.], [-1,  1], [-1,  1]))"
      ]
     },
     "execution_count": 36,
     "metadata": {},
     "output_type": "execute_result"
    }
   ],
   "source": [
    "p1,p1bis # distintos tipos de polinomios "
   ]
  },
  {
   "cell_type": "code",
   "execution_count": 37,
   "metadata": {},
   "outputs": [],
   "source": [
    "# con los que no se podrá operar directamente entre ellos\n",
    "# p1 + p1bis  # descomente esta línea de código y compruébelo"
   ]
  },
  {
   "cell_type": "markdown",
   "metadata": {},
   "source": [
    "## Problemas de interpolación polinómica más habituales"
   ]
  },
  {
   "cell_type": "markdown",
   "metadata": {},
   "source": [
    "Los problemas de interpolación más habituales son los que involucran datos de la función en ciertos nodos (que se dirán de tipo lagrangiano) o bien de alguna de sus derivadas (que se denominarán de tipo Hermite). Véamos a continuación los casos más simples, pero al mismo tiempo los más empleados. "
   ]
  },
  {
   "cell_type": "markdown",
   "metadata": {},
   "source": [
    "### Línea que pasa por dos puntos dados"
   ]
  },
  {
   "cell_type": "markdown",
   "metadata": {},
   "source": [
    "Calculemos el segmento de línea recta que *interpola* (o pasa por) los datos $(x_L,y_L)$ y $(x_R,y_R)$."
   ]
  },
  {
   "cell_type": "code",
   "execution_count": 38,
   "metadata": {
    "collapsed": true
   },
   "outputs": [],
   "source": [
    "x = sp.Symbol('x')\n",
    "xL,yL,xR,yR = sp.symbols('xL,yL,xR,yR')"
   ]
  },
  {
   "cell_type": "markdown",
   "metadata": {},
   "source": [
    "Calculemos el segmento de línea recta que *interpola* (o pasa por) los datos $(x_L,y_L)$ y $(x_R,y_R)$."
   ]
  },
  {
   "cell_type": "code",
   "execution_count": 40,
   "metadata": {},
   "outputs": [
    {
     "data": {
      "image/png": "[encoded data removed]",
      "text/latex": [
       "$$\\left [ c_{0} - yL, \\quad c_{0} + c_{1} \\left(- xL + xR\\right) - yR\\right ]$$"
      ],
      "text/plain": [
       "[c₀ - yL, c₀ + c₁⋅(-xL + xR) - yR]"
      ]
     },
     "execution_count": 40,
     "metadata": {},
     "output_type": "execute_result"
    }
   ],
   "source": [
    "c0,c1 = sp.symbols('c0,c1')\n",
    "p1 = c0+c1*(x-xL)\n",
    "ec0 = p1.subs({x:xL})-yL\n",
    "ec1 = p1.subs({x:xR})-yR\n",
    "ecs = [ec0,ec1]\n",
    "ecs"
   ]
  },
  {
   "cell_type": "code",
   "execution_count": 41,
   "metadata": {},
   "outputs": [
    {
     "data": {
      "image/png": "[encoded data removed]",
      "text/latex": [
       "$$\\left \\{ c_{0} : yL, \\quad c_{1} : \\frac{yL - yR}{xL - xR}\\right \\}$$"
      ],
      "text/plain": [
       "⎧            yL - yR⎫\n",
       "⎨c₀: yL, c₁: ───────⎬\n",
       "⎩            xL - xR⎭"
      ]
     },
     "execution_count": 41,
     "metadata": {},
     "output_type": "execute_result"
    }
   ],
   "source": [
    "sol1 = sp.solve(ecs,[c0,c1])\n",
    "sol1"
   ]
  },
  {
   "cell_type": "code",
   "execution_count": 42,
   "metadata": {},
   "outputs": [
    {
     "data": {
      "image/png": "[encoded data removed]",
      "text/latex": [
       "$$yL + \\frac{\\left(x - xL\\right) \\left(yL - yR\\right)}{xL - xR}$$"
      ],
      "text/plain": [
       "     (x - xL)⋅(yL - yR)\n",
       "yL + ──────────────────\n",
       "          xL - xR      "
      ]
     },
     "execution_count": 42,
     "metadata": {},
     "output_type": "execute_result"
    }
   ],
   "source": [
    "p1.subs(sol1)"
   ]
  },
  {
   "cell_type": "code",
   "execution_count": 43,
   "metadata": {
    "collapsed": true
   },
   "outputs": [],
   "source": [
    "def linea(x,xL,yL,xR,yR):\n",
    "    \"\"\"linea que pasa por los puntos (xL,yL) y (xR,yR)\"\"\"\n",
    "    return yL+(x-xL)*(yL-yR)/(xL-xR)"
   ]
  },
  {
   "cell_type": "code",
   "execution_count": 45,
   "metadata": {},
   "outputs": [
    {
     "data": {
      "image/png": "[encoded data removed]",
      "text/latex": [
       "$$- 2 x + 1$$"
      ],
      "text/plain": [
       "-2⋅x + 1"
      ]
     },
     "execution_count": 45,
     "metadata": {},
     "output_type": "execute_result"
    }
   ],
   "source": [
    "linea(x,0,1,1,-1)"
   ]
  },
  {
   "cell_type": "markdown",
   "metadata": {},
   "source": [
    "### Línea que pasa por un punto y tiene una pendiente fijada"
   ]
  },
  {
   "cell_type": "markdown",
   "metadata": {},
   "source": [
    "Calculemos el segmento de línea recta que *interpola* (o pasa por) un punto dado $(x_L,y_L)$ y con pendiente $d_L$, cuya expresión se puede obtener muy fácilmente."
   ]
  },
  {
   "cell_type": "code",
   "execution_count": 46,
   "metadata": {
    "collapsed": true
   },
   "outputs": [],
   "source": [
    "x = sp.Symbol('x')\n",
    "xL,yL,dL = sp.symbols('xL,yL,dL')"
   ]
  },
  {
   "cell_type": "code",
   "execution_count": 51,
   "metadata": {},
   "outputs": [],
   "source": [
    "p1  = yL+dL*(x-xL) # Esta es claramente la expresión del polinomio de \n",
    "dp1 = sp.diff(p1,x)   # grado uno que cumple las condiciones requeridas"
   ]
  },
  {
   "cell_type": "code",
   "execution_count": 49,
   "metadata": {},
   "outputs": [
    {
     "data": {
      "image/png": "[encoded data removed]",
      "text/latex": [
       "$$\\left ( yL, \\quad dL\\right )$$"
      ],
      "text/plain": [
       "(yL, dL)"
      ]
     },
     "execution_count": 49,
     "metadata": {},
     "output_type": "execute_result"
    }
   ],
   "source": [
    "p1.subs({x:xL}),dp1 # aquí vemos la correspondiente comprobación"
   ]
  },
  {
   "cell_type": "markdown",
   "metadata": {},
   "source": [
    "### Parábola que pasa por tres puntos dados"
   ]
  },
  {
   "cell_type": "markdown",
   "metadata": {},
   "source": [
    "Calculemos ahora el trozo de parábola que *interpola* (o pasa por) los datos $(x_L,y_L)$, $(x_M,y_M)$ y $(x_R,y_R)$."
   ]
  },
  {
   "cell_type": "code",
   "execution_count": 52,
   "metadata": {
    "collapsed": true
   },
   "outputs": [],
   "source": [
    "x = sp.Symbol('x')\n",
    "xL,yL,xM,yM,xR,yR = sp.symbols('xL,yL,xM,yM,xR,yR')"
   ]
  },
  {
   "cell_type": "code",
   "execution_count": 53,
   "metadata": {},
   "outputs": [
    {
     "data": {
      "image/png": "[encoded data removed]",
      "text/latex": [
       "$$yL + \\frac{\\left(x - xL\\right) \\left(yL - yM\\right)}{xL - xM}$$"
      ],
      "text/plain": [
       "     (x - xL)⋅(yL - yM)\n",
       "yL + ──────────────────\n",
       "          xL - xM      "
      ]
     },
     "execution_count": 53,
     "metadata": {},
     "output_type": "execute_result"
    }
   ],
   "source": [
    "linea(x,xL,yL,xM,yM)"
   ]
  },
  {
   "cell_type": "code",
   "execution_count": 55,
   "metadata": {},
   "outputs": [],
   "source": [
    "p1 = linea(x,xL,yL,xM,yM)\n",
    "D2 = sp.Symbol('D2')\n",
    "p2 = p1 + (x-xL)*(x-xM)*D2\n",
    "ec2 = p2.subs({x:xR})-yR\n",
    "sol2 = sp.solve(ec2,D2)\n",
    "D2 = sol2[0]"
   ]
  },
  {
   "cell_type": "code",
   "execution_count": 57,
   "metadata": {},
   "outputs": [
    {
     "data": {
      "image/png": "[encoded data removed]",
      "text/latex": [
       "$$yL - \\frac{\\left(x - xL\\right) \\left(x - xM\\right) \\left(xL yM - xL yR - xM yL + xM yR + xR yL - xR yM\\right)}{xL^{2} xM - xL^{2} xR - xL xM^{2} + xL xR^{2} + xM^{2} xR - xM xR^{2}} + \\frac{\\left(x - xL\\right) \\left(yL - yM\\right)}{xL - xM}$$"
      ],
      "text/plain": [
       "     (x - xL)⋅(x - xM)⋅(xL⋅yM - xL⋅yR - xM⋅yL + xM⋅yR + xR⋅yL - xR⋅yM)   (x - \n",
       "yL - ───────────────────────────────────────────────────────────────── + ─────\n",
       "              2        2           2        2     2           2               \n",
       "            xL ⋅xM - xL ⋅xR - xL⋅xM  + xL⋅xR  + xM ⋅xR - xM⋅xR                \n",
       "\n",
       "xL)⋅(yL - yM)\n",
       "─────────────\n",
       "xL - xM      \n",
       "             "
      ]
     },
     "execution_count": 57,
     "metadata": {},
     "output_type": "execute_result"
    }
   ],
   "source": [
    "p2 = p1 + (x-xL)*(x-xM)*D2\n",
    "sp.simplify(p2)"
   ]
  },
  {
   "cell_type": "code",
   "execution_count": 59,
   "metadata": {},
   "outputs": [
    {
     "data": {
      "image/png": "[encoded data removed]",
      "text/latex": [
       "$$\\left ( yL, \\quad yM, \\quad yR\\right )$$"
      ],
      "text/plain": [
       "(yL, yM, yR)"
      ]
     },
     "execution_count": 59,
     "metadata": {},
     "output_type": "execute_result"
    }
   ],
   "source": [
    "p2.subs({x:xL}),sp.simplify(p2.subs({x:xM})),sp.simplify(p2.subs({x:xR}))"
   ]
  },
  {
   "cell_type": "code",
   "execution_count": 60,
   "metadata": {
    "collapsed": true
   },
   "outputs": [],
   "source": [
    "def parabola(x,xL,yL,xM,yM,xR,yR):\n",
    "    return yL -(x-xL)*(x-xM)*(xL*yM-xL*yR-xM*yL+xM*yR+xR*yL-xR*yM)/(xL**2*xM-xL**2*xR-xL*xM**2+xL*xR**2+xM**2*xR-xM*xR**2)+(x-xL)*(yL-yM)/(xL-xM)"
   ]
  },
  {
   "cell_type": "code",
   "execution_count": 61,
   "metadata": {},
   "outputs": [
    {
     "data": {
      "image/png": "[encoded data removed]",
      "text/latex": [
       "$$- 3 x^{2} + 2$$"
      ],
      "text/plain": [
       "     2    \n",
       "- 3⋅x  + 2"
      ]
     },
     "execution_count": 61,
     "metadata": {},
     "output_type": "execute_result"
    }
   ],
   "source": [
    "parabola(x,-1,-1,0,2,1,-1).simplify()"
   ]
  },
  {
   "cell_type": "markdown",
   "metadata": {},
   "source": [
    "**Ejercicio:** Utilice la función `parabola` definida más arriba para calcular varias parábolas bien conocidas, como por ejemplo $x^2$, $-x^2$, etc. introduciendo tres de los puntos por los que se sabe que pasan."
   ]
  },
  {
   "cell_type": "markdown",
   "metadata": {},
   "source": [
    "### Parábola que pasa por dos puntos y tiene la pendiente fijada en uno de ellos"
   ]
  },
  {
   "cell_type": "markdown",
   "metadata": {},
   "source": [
    "Calculemos ahora el trozo de parábola que pasa por los puntos (o *interpola* los datos) $(x_L,y_L)$, $(x_R,y_R)$ y tiene fijada la derivada en uno de ellos."
   ]
  },
  {
   "cell_type": "code",
   "execution_count": 62,
   "metadata": {
    "collapsed": true
   },
   "outputs": [],
   "source": [
    "x = sp.Symbol('x')\n",
    "xL,yL,xR,yR,d = sp.symbols('xL,yL,xR,yR,d')"
   ]
  },
  {
   "cell_type": "code",
   "execution_count": 63,
   "metadata": {},
   "outputs": [
    {
     "data": {
      "image/png": "[encoded data removed]",
      "text/latex": [
       "$$yL + \\frac{\\left(x - xL\\right) \\left(yL - yR\\right)}{xL - xR}$$"
      ],
      "text/plain": [
       "     (x - xL)⋅(yL - yR)\n",
       "yL + ──────────────────\n",
       "          xL - xR      "
      ]
     },
     "execution_count": 63,
     "metadata": {},
     "output_type": "execute_result"
    }
   ],
   "source": [
    "p1 = linea(x,xL,yL,xR,yR)\n",
    "p1"
   ]
  },
  {
   "cell_type": "code",
   "execution_count": 64,
   "metadata": {},
   "outputs": [
    {
     "data": {
      "image/png": "[encoded data removed]",
      "text/latex": [
       "$$\\left ( yL, \\quad yR\\right )$$"
      ],
      "text/plain": [
       "(yL, yR)"
      ]
     },
     "execution_count": 64,
     "metadata": {},
     "output_type": "execute_result"
    }
   ],
   "source": [
    "p1.subs({x:xL}),p1.subs({x:xR}).simplify()"
   ]
  },
  {
   "cell_type": "code",
   "execution_count": 65,
   "metadata": {},
   "outputs": [
    {
     "data": {
      "image/png": "[encoded data removed]",
      "text/latex": [
       "$$\\frac{1}{xL - xR} \\left(\\left(x - xL\\right) \\left(yL - yR\\right) + \\left(xL - xR\\right) \\left(D_{2} \\left(x - xL\\right) \\left(x - xR\\right) + yL\\right)\\right)$$"
      ],
      "text/plain": [
       "(x - xL)⋅(yL - yR) + (xL - xR)⋅(D₂⋅(x - xL)⋅(x - xR) + yL)\n",
       "──────────────────────────────────────────────────────────\n",
       "                         xL - xR                          "
      ]
     },
     "execution_count": 65,
     "metadata": {},
     "output_type": "execute_result"
    }
   ],
   "source": [
    "D2 = sp.Symbol('D2')\n",
    "p2 = p1 + D2*(x-xL)*(x-xR)\n",
    "p2.simplify()"
   ]
  },
  {
   "cell_type": "code",
   "execution_count": 66,
   "metadata": {},
   "outputs": [
    {
     "data": {
      "image/png": "[encoded data removed]",
      "text/latex": [
       "$$\\left ( yL, \\quad yR\\right )$$"
      ],
      "text/plain": [
       "(yL, yR)"
      ]
     },
     "execution_count": 66,
     "metadata": {},
     "output_type": "execute_result"
    }
   ],
   "source": [
    "p2.subs({x:xL}),p2.subs({x:xR}).simplify()"
   ]
  },
  {
   "cell_type": "code",
   "execution_count": 68,
   "metadata": {},
   "outputs": [
    {
     "data": {
      "image/png": "[encoded data removed]",
      "text/latex": [
       "$$D_{2} \\left(x - xL\\right) + D_{2} \\left(x - xR\\right) + \\frac{yL - yR}{xL - xR}$$"
      ],
      "text/plain": [
       "                            yL - yR\n",
       "D₂⋅(x - xL) + D₂⋅(x - xR) + ───────\n",
       "                            xL - xR"
      ]
     },
     "execution_count": 68,
     "metadata": {},
     "output_type": "execute_result"
    }
   ],
   "source": [
    "dp2 = sp.diff(p2,x)\n",
    "dp2"
   ]
  },
  {
   "cell_type": "code",
   "execution_count": 69,
   "metadata": {},
   "outputs": [
    {
     "data": {
      "image/png": "[encoded data removed]",
      "text/latex": [
       "$$\\left ( D_{2} \\left(xL - xR\\right) + \\frac{yL - yR}{xL - xR}, \\quad D_{2} \\left(- xL + xR\\right) + \\frac{yL - yR}{xL - xR}\\right )$$"
      ],
      "text/plain": [
       "⎛               yL - yR                  yL - yR⎞\n",
       "⎜D₂⋅(xL - xR) + ───────, D₂⋅(-xL + xR) + ───────⎟\n",
       "⎝               xL - xR                  xL - xR⎠"
      ]
     },
     "execution_count": 69,
     "metadata": {},
     "output_type": "execute_result"
    }
   ],
   "source": [
    "dp2.subs({x:xL}),dp2.subs({x:xR})"
   ]
  },
  {
   "cell_type": "code",
   "execution_count": 70,
   "metadata": {},
   "outputs": [
    {
     "data": {
      "image/png": "[encoded data removed]",
      "text/latex": [
       "$$\\frac{1}{\\left(xL - xR\\right)^{2}} \\left(d xL - d xR - yL + yR\\right)$$"
      ],
      "text/plain": [
       "d⋅xL - d⋅xR - yL + yR\n",
       "─────────────────────\n",
       "               2     \n",
       "      (xL - xR)      "
      ]
     },
     "execution_count": 70,
     "metadata": {},
     "output_type": "execute_result"
    }
   ],
   "source": [
    "ec2d  = dp2.subs({x:xL})-d\n",
    "sol2d = sp.solve(ec2d,D2)\n",
    "D2 = sol2d[0]\n",
    "D2"
   ]
  },
  {
   "cell_type": "code",
   "execution_count": 71,
   "metadata": {},
   "outputs": [
    {
     "data": {
      "image/png": "[encoded data removed]",
      "text/latex": [
       "$$\\frac{1}{\\left(xL - xR\\right)^{2}} \\left(yL \\left(xL - xR\\right)^{2} + \\left(x - xL\\right) \\left(x - xR\\right) \\left(d xL - d xR - yL + yR\\right) + \\left(x - xL\\right) \\left(xL - xR\\right) \\left(yL - yR\\right)\\right)$$"
      ],
      "text/plain": [
       "            2                                                                 \n",
       "yL⋅(xL - xR)  + (x - xL)⋅(x - xR)⋅(d⋅xL - d⋅xR - yL + yR) + (x - xL)⋅(xL - xR)\n",
       "──────────────────────────────────────────────────────────────────────────────\n",
       "                                                2                             \n",
       "                                       (xL - xR)                              \n",
       "\n",
       "          \n",
       "⋅(yL - yR)\n",
       "──────────\n",
       "          \n",
       "          "
      ]
     },
     "execution_count": 71,
     "metadata": {},
     "output_type": "execute_result"
    }
   ],
   "source": [
    "p2d = p1 + D2*(x-xL)*(x-xR)\n",
    "p2d.simplify()"
   ]
  },
  {
   "cell_type": "code",
   "execution_count": 73,
   "metadata": {},
   "outputs": [
    {
     "data": {
      "image/png": "[encoded data removed]",
      "text/latex": [
       "$$\\frac{1}{\\left(xL - xR\\right)^{2}} \\left(\\left(xL - xR\\right) \\left(yL - yR\\right) + \\left(2 x - xL - xR\\right) \\left(d xL - d xR - yL + yR\\right)\\right)$$"
      ],
      "text/plain": [
       "(xL - xR)⋅(yL - yR) + (2⋅x - xL - xR)⋅(d⋅xL - d⋅xR - yL + yR)\n",
       "─────────────────────────────────────────────────────────────\n",
       "                                   2                         \n",
       "                          (xL - xR)                          "
      ]
     },
     "execution_count": 73,
     "metadata": {},
     "output_type": "execute_result"
    }
   ],
   "source": [
    "dp2 = sp.diff(p2d,x)\n",
    "dp2.simplify()"
   ]
  },
  {
   "cell_type": "code",
   "execution_count": 74,
   "metadata": {},
   "outputs": [
    {
     "data": {
      "image/png": "[encoded data removed]",
      "text/latex": [
       "$$\\left ( yL, \\quad yR, \\quad d\\right )$$"
      ],
      "text/plain": [
       "(yL, yR, d)"
      ]
     },
     "execution_count": 74,
     "metadata": {},
     "output_type": "execute_result"
    }
   ],
   "source": [
    "p2d.subs({x:xL}),sp.simplify(p2d.subs({x:xR})),sp.simplify(dp2.subs({x:xL}))"
   ]
  },
  {
   "cell_type": "code",
   "execution_count": 75,
   "metadata": {},
   "outputs": [],
   "source": [
    "def parabolaconderivada(x,d,xL,yL,xR,yR):\n",
    "    \"\"\"parábola con derivada fijada en el primer punto\"\"\"\n",
    "    return (yL*(xL-xR)**2+(x-xL)*(x-xR)*(d*(xL-xR)+(yR-yL))+(x-xL)*(xL-xR)*(yL-yR))/(xL-xR)**2"
   ]
  },
  {
   "cell_type": "code",
   "execution_count": 76,
   "metadata": {},
   "outputs": [
    {
     "data": {
      "image/png": "[encoded data removed]",
      "text/latex": [
       "$$\\frac{1}{\\left(xL - xR\\right)^{2}} \\left(yL \\left(xL - xR\\right)^{2} + \\left(x - xL\\right) \\left(x - xR\\right) \\left(d \\left(xL - xR\\right) - yL + yR\\right) + \\left(x - xL\\right) \\left(xL - xR\\right) \\left(yL - yR\\right)\\right)$$"
      ],
      "text/plain": [
       "            2                                                                 \n",
       "yL⋅(xL - xR)  + (x - xL)⋅(x - xR)⋅(d⋅(xL - xR) - yL + yR) + (x - xL)⋅(xL - xR)\n",
       "──────────────────────────────────────────────────────────────────────────────\n",
       "                                                2                             \n",
       "                                       (xL - xR)                              \n",
       "\n",
       "          \n",
       "⋅(yL - yR)\n",
       "──────────\n",
       "          \n",
       "          "
      ]
     },
     "execution_count": 76,
     "metadata": {},
     "output_type": "execute_result"
    }
   ],
   "source": [
    "parabolaconderivada(x,d,xL,yL,xR,yR) # comprobemos la expresión"
   ]
  },
  {
   "cell_type": "code",
   "execution_count": 77,
   "metadata": {},
   "outputs": [
    {
     "data": {
      "image/png": "[encoded data removed]",
      "text/latex": [
       "$$yL$$"
      ],
      "text/plain": [
       "yL"
      ]
     },
     "execution_count": 77,
     "metadata": {},
     "output_type": "execute_result"
    }
   ],
   "source": [
    "parabolaconderivada(x,d,xL,yL,xR,yR).subs({x:xL})"
   ]
  },
  {
   "cell_type": "code",
   "execution_count": 78,
   "metadata": {},
   "outputs": [
    {
     "data": {
      "image/png": "[encoded data removed]",
      "text/latex": [
       "$$yR$$"
      ],
      "text/plain": [
       "yR"
      ]
     },
     "execution_count": 78,
     "metadata": {},
     "output_type": "execute_result"
    }
   ],
   "source": [
    "parabolaconderivada(x,d,xL,yL,xR,yR).subs({x:xR}).simplify()"
   ]
  },
  {
   "cell_type": "code",
   "execution_count": 80,
   "metadata": {},
   "outputs": [
    {
     "data": {
      "image/png": "[encoded data removed]",
      "text/latex": [
       "$$d$$"
      ],
      "text/plain": [
       "d"
      ]
     },
     "execution_count": 80,
     "metadata": {},
     "output_type": "execute_result"
    }
   ],
   "source": [
    "sp.diff(parabolaconderivada(x,d,xL,yL,xR,yR),x).subs({x:xL}).simplify()"
   ]
  },
  {
   "cell_type": "code",
   "execution_count": 81,
   "metadata": {},
   "outputs": [
    {
     "data": {
      "image/png": "[encoded data removed]",
      "text/latex": [
       "$$\\frac{1}{\\left(- xL + xR\\right)^{2}} \\left(yR \\left(- xL + xR\\right)^{2} + \\left(x - xL\\right) \\left(x - xR\\right) \\left(d \\left(- xL + xR\\right) + yL - yR\\right) + \\left(x - xR\\right) \\left(- xL + xR\\right) \\left(- yL + yR\\right)\\right)$$"
      ],
      "text/plain": [
       "             2                                                                \n",
       "yR⋅(-xL + xR)  + (x - xL)⋅(x - xR)⋅(d⋅(-xL + xR) + yL - yR) + (x - xR)⋅(-xL + \n",
       "──────────────────────────────────────────────────────────────────────────────\n",
       "                                                  2                           \n",
       "                                        (-xL + xR)                            \n",
       "\n",
       "              \n",
       "xR)⋅(-yL + yR)\n",
       "──────────────\n",
       "              \n",
       "              "
      ]
     },
     "execution_count": 81,
     "metadata": {},
     "output_type": "execute_result"
    }
   ],
   "source": [
    "parabolaconderivada(x,d,xR,yR,xL,yL) # y veámos que pasa al\n",
    "# intercambiar los puntos (xL,yL) y (xR,yR)."
   ]
  },
  {
   "cell_type": "code",
   "execution_count": 82,
   "metadata": {},
   "outputs": [
    {
     "data": {
      "image/png": "[encoded data removed]",
      "text/latex": [
       "$$yR$$"
      ],
      "text/plain": [
       "yR"
      ]
     },
     "execution_count": 82,
     "metadata": {},
     "output_type": "execute_result"
    }
   ],
   "source": [
    "parabolaconderivada(x,d,xR,yR,xL,yL).subs({x:xR})"
   ]
  },
  {
   "cell_type": "code",
   "execution_count": 83,
   "metadata": {},
   "outputs": [
    {
     "data": {
      "image/png": "[encoded data removed]",
      "text/latex": [
       "$$yL$$"
      ],
      "text/plain": [
       "yL"
      ]
     },
     "execution_count": 83,
     "metadata": {},
     "output_type": "execute_result"
    }
   ],
   "source": [
    "parabolaconderivada(x,d,xR,yR,xL,yL).subs({x:xL}).simplify()"
   ]
  },
  {
   "cell_type": "code",
   "execution_count": 85,
   "metadata": {},
   "outputs": [
    {
     "data": {
      "image/png": "[encoded data removed]",
      "text/latex": [
       "$$d$$"
      ],
      "text/plain": [
       "d"
      ]
     },
     "execution_count": 85,
     "metadata": {},
     "output_type": "execute_result"
    }
   ],
   "source": [
    "sp.diff(parabolaconderivada(x,d,xR,yR,xL,yL),x).subs({x:xR}).simplify()"
   ]
  },
  {
   "cell_type": "markdown",
   "metadata": {},
   "source": [
    "Veámos por último un simple ejemplo con datos concretos\n",
    "\n",
    "$$p'(0)=1,\\; p(0)=1,\\; p(1)=1 $$"
   ]
  },
  {
   "cell_type": "code",
   "execution_count": 88,
   "metadata": {},
   "outputs": [
    {
     "data": {
      "image/png": "[encoded data removed]",
      "text/latex": [
       "$$z^{2} - z + 1$$"
      ],
      "text/plain": [
       " 2        \n",
       "z  - z + 1"
      ]
     },
     "execution_count": 88,
     "metadata": {},
     "output_type": "execute_result"
    }
   ],
   "source": [
    "a = 0; b = 1; d = -1; ya = 1; yb = 1\n",
    "z = sp.Symbol('z')\n",
    "p2 = parabolaconderivada(z,d,a,ya,b,yb)\n",
    "p2.expand()"
   ]
  },
  {
   "cell_type": "code",
   "execution_count": 89,
   "metadata": {},
   "outputs": [
    {
     "data": {
      "image/png": "[encoded data removed]",
      "text/latex": [
       "$$\\left ( 1, \\quad 1\\right )$$"
      ],
      "text/plain": [
       "(1, 1)"
      ]
     },
     "execution_count": 89,
     "metadata": {},
     "output_type": "execute_result"
    }
   ],
   "source": [
    "def p(x):\n",
    "    return p2.subs({z:x})\n",
    "p(0),p(1)"
   ]
  },
  {
   "cell_type": "code",
   "execution_count": 90,
   "metadata": {},
   "outputs": [
    {
     "data": {
      "image/png": "[encoded data removed]",
      "text/plain": [
       "<matplotlib.figure.Figure at 0x2220864f390>"
      ]
     },
     "metadata": {},
     "output_type": "display_data"
    }
   ],
   "source": [
    "nxx = 100\n",
    "xx = np.linspace(a,b,nxx)\n",
    "yy = [p(x) for x in xx]\n",
    "plt.plot(xx,yy);"
   ]
  },
  {
   "cell_type": "markdown",
   "metadata": {},
   "source": [
    "### Cúbica que pasa por cuatro puntos"
   ]
  },
  {
   "cell_type": "code",
   "execution_count": 91,
   "metadata": {
    "collapsed": true
   },
   "outputs": [],
   "source": [
    "x = sp.Symbol('x')\n",
    "x1,y1,x2,y2,x3,y3,x4,y4 = sp.symbols('x1,y1,x2,y2,x3,y3,x4,y4')"
   ]
  },
  {
   "cell_type": "code",
   "execution_count": 92,
   "metadata": {},
   "outputs": [
    {
     "data": {
      "image/png": "[encoded data removed]",
      "text/latex": [
       "$$y_{1} - \\frac{\\left(x - x_{1}\\right) \\left(x - x_{2}\\right) \\left(x_{1} y_{2} - x_{1} y_{3} - x_{2} y_{1} + x_{2} y_{3} + x_{3} y_{1} - x_{3} y_{2}\\right)}{x_{1}^{2} x_{2} - x_{1}^{2} x_{3} - x_{1} x_{2}^{2} + x_{1} x_{3}^{2} + x_{2}^{2} x_{3} - x_{2} x_{3}^{2}} + \\frac{\\left(x - x_{1}\\right) \\left(y_{1} - y_{2}\\right)}{x_{1} - x_{2}}$$"
      ],
      "text/plain": [
       "     (x - x₁)⋅(x - x₂)⋅(x₁⋅y₂ - x₁⋅y₃ - x₂⋅y₁ + x₂⋅y₃ + x₃⋅y₁ - x₃⋅y₂)   (x - \n",
       "y₁ - ───────────────────────────────────────────────────────────────── + ─────\n",
       "              2        2           2        2     2           2               \n",
       "            x₁ ⋅x₂ - x₁ ⋅x₃ - x₁⋅x₂  + x₁⋅x₃  + x₂ ⋅x₃ - x₂⋅x₃                \n",
       "\n",
       "x₁)⋅(y₁ - y₂)\n",
       "─────────────\n",
       "x₁ - x₂      \n",
       "             "
      ]
     },
     "execution_count": 92,
     "metadata": {},
     "output_type": "execute_result"
    }
   ],
   "source": [
    "p2 = parabola(x,x1,y1,x2,y2,x3,y3).simplify()\n",
    "p2"
   ]
  },
  {
   "cell_type": "code",
   "execution_count": 93,
   "metadata": {},
   "outputs": [
    {
     "data": {
      "image/png": "[encoded data removed]",
      "text/latex": [
       "$$\\left ( y_{1}, \\quad y_{2}, \\quad y_{3}\\right )$$"
      ],
      "text/plain": [
       "(y₁, y₂, y₃)"
      ]
     },
     "execution_count": 93,
     "metadata": {},
     "output_type": "execute_result"
    }
   ],
   "source": [
    "p2.subs({x:x1}),p2.subs({x:x2}).simplify(),p2.subs({x:x3}).simplify()"
   ]
  },
  {
   "cell_type": "code",
   "execution_count": 94,
   "metadata": {},
   "outputs": [],
   "source": [
    "D3 = sp.Symbol('D3')\n",
    "p3 = p2 + D3*(x-x1)*(x-x2)*(x-x3)\n",
    "ec3 = p3.subs({x:x4})-y4\n",
    "sol3 = sp.solve(ec3,D3)\n",
    "D3 = sol3[0].simplify()"
   ]
  },
  {
   "cell_type": "code",
   "execution_count": 95,
   "metadata": {},
   "outputs": [
    {
     "data": {
      "image/png": "[encoded data removed]",
      "text/latex": [
       "$$y_{1} + \\frac{\\left(x - x_{1}\\right) \\left(x - x_{2}\\right) \\left(x - x_{3}\\right) \\left(x_{1}^{2} x_{2} y_{3} - x_{1}^{2} x_{2} y_{4} - x_{1}^{2} x_{3} y_{2} + x_{1}^{2} x_{3} y_{4} + x_{1}^{2} x_{4} y_{2} - x_{1}^{2} x_{4} y_{3} - x_{1} x_{2}^{2} y_{3} + x_{1} x_{2}^{2} y_{4} + x_{1} x_{3}^{2} y_{2} - x_{1} x_{3}^{2} y_{4} - x_{1} x_{4}^{2} y_{2} + x_{1} x_{4}^{2} y_{3} + x_{2}^{2} x_{3} y_{1} - x_{2}^{2} x_{3} y_{4} - x_{2}^{2} x_{4} y_{1} + x_{2}^{2} x_{4} y_{3} - x_{2} x_{3}^{2} y_{1} + x_{2} x_{3}^{2} y_{4} + x_{2} x_{4}^{2} y_{1} - x_{2} x_{4}^{2} y_{3} + x_{3}^{2} x_{4} y_{1} - x_{3}^{2} x_{4} y_{2} - x_{3} x_{4}^{2} y_{1} + x_{3} x_{4}^{2} y_{2}\\right)}{x_{1}^{3} x_{2}^{2} x_{3} - x_{1}^{3} x_{2}^{2} x_{4} - x_{1}^{3} x_{2} x_{3}^{2} + x_{1}^{3} x_{2} x_{4}^{2} + x_{1}^{3} x_{3}^{2} x_{4} - x_{1}^{3} x_{3} x_{4}^{2} - x_{1}^{2} x_{2}^{3} x_{3} + x_{1}^{2} x_{2}^{3} x_{4} + x_{1}^{2} x_{2} x_{3}^{3} - x_{1}^{2} x_{2} x_{4}^{3} - x_{1}^{2} x_{3}^{3} x_{4} + x_{1}^{2} x_{3} x_{4}^{3} + x_{1} x_{2}^{3} x_{3}^{2} - x_{1} x_{2}^{3} x_{4}^{2} - x_{1} x_{2}^{2} x_{3}^{3} + x_{1} x_{2}^{2} x_{4}^{3} + x_{1} x_{3}^{3} x_{4}^{2} - x_{1} x_{3}^{2} x_{4}^{3} - x_{2}^{3} x_{3}^{2} x_{4} + x_{2}^{3} x_{3} x_{4}^{2} + x_{2}^{2} x_{3}^{3} x_{4} - x_{2}^{2} x_{3} x_{4}^{3} - x_{2} x_{3}^{3} x_{4}^{2} + x_{2} x_{3}^{2} x_{4}^{3}} - \\frac{\\left(x - x_{1}\\right) \\left(x - x_{2}\\right) \\left(x_{1} y_{2} - x_{1} y_{3} - x_{2} y_{1} + x_{2} y_{3} + x_{3} y_{1} - x_{3} y_{2}\\right)}{x_{1}^{2} x_{2} - x_{1}^{2} x_{3} - x_{1} x_{2}^{2} + x_{1} x_{3}^{2} + x_{2}^{2} x_{3} - x_{2} x_{3}^{2}} + \\frac{\\left(x - x_{1}\\right) \\left(y_{1} - y_{2}\\right)}{x_{1} - x_{2}}$$"
      ],
      "text/plain": [
       "                                ⎛  2           2           2           2      \n",
       "     (x - x₁)⋅(x - x₂)⋅(x - x₃)⋅⎝x₁ ⋅x₂⋅y₃ - x₁ ⋅x₂⋅y₄ - x₁ ⋅x₃⋅y₂ + x₁ ⋅x₃⋅y₄\n",
       "y₁ + ─────────────────────────────────────────────────────────────────────────\n",
       "         3   2        3   2        3      2     3      2     3   2        3   \n",
       "       x₁ ⋅x₂ ⋅x₃ - x₁ ⋅x₂ ⋅x₄ - x₁ ⋅x₂⋅x₃  + x₁ ⋅x₂⋅x₄  + x₁ ⋅x₃ ⋅x₄ - x₁ ⋅x₃\n",
       "\n",
       "     2           2              2           2           2           2         \n",
       " + x₁ ⋅x₄⋅y₂ - x₁ ⋅x₄⋅y₃ - x₁⋅x₂ ⋅y₃ + x₁⋅x₂ ⋅y₄ + x₁⋅x₃ ⋅y₂ - x₁⋅x₃ ⋅y₄ - x₁⋅\n",
       "──────────────────────────────────────────────────────────────────────────────\n",
       "   2     2   3        2   3        2      3     2      3     2   3        2   \n",
       "⋅x₄  - x₁ ⋅x₂ ⋅x₃ + x₁ ⋅x₂ ⋅x₄ + x₁ ⋅x₂⋅x₃  - x₁ ⋅x₂⋅x₄  - x₁ ⋅x₃ ⋅x₄ + x₁ ⋅x₃\n",
       "\n",
       "  2           2        2           2           2           2              2   \n",
       "x₄ ⋅y₂ + x₁⋅x₄ ⋅y₃ + x₂ ⋅x₃⋅y₁ - x₂ ⋅x₃⋅y₄ - x₂ ⋅x₄⋅y₁ + x₂ ⋅x₄⋅y₃ - x₂⋅x₃ ⋅y₁\n",
       "──────────────────────────────────────────────────────────────────────────────\n",
       "   3        3   2        3   2        2   3        2   3        3   2        2\n",
       "⋅x₄  + x₁⋅x₂ ⋅x₃  - x₁⋅x₂ ⋅x₄  - x₁⋅x₂ ⋅x₃  + x₁⋅x₂ ⋅x₄  + x₁⋅x₃ ⋅x₄  - x₁⋅x₃ \n",
       "\n",
       "        2           2           2        2           2              2         \n",
       " + x₂⋅x₃ ⋅y₄ + x₂⋅x₄ ⋅y₁ - x₂⋅x₄ ⋅y₃ + x₃ ⋅x₄⋅y₁ - x₃ ⋅x₄⋅y₂ - x₃⋅x₄ ⋅y₁ + x₃⋅\n",
       "──────────────────────────────────────────────────────────────────────────────\n",
       "   3     3   2        3      2     2   3        2      3        3   2        2\n",
       "⋅x₄  - x₂ ⋅x₃ ⋅x₄ + x₂ ⋅x₃⋅x₄  + x₂ ⋅x₃ ⋅x₄ - x₂ ⋅x₃⋅x₄  - x₂⋅x₃ ⋅x₄  + x₂⋅x₃ \n",
       "\n",
       "  2   ⎞                                                                       \n",
       "x₄ ⋅y₂⎠   (x - x₁)⋅(x - x₂)⋅(x₁⋅y₂ - x₁⋅y₃ - x₂⋅y₁ + x₂⋅y₃ + x₃⋅y₁ - x₃⋅y₂)   \n",
       "─────── - ───────────────────────────────────────────────────────────────── + \n",
       "   3               2        2           2        2     2           2          \n",
       "⋅x₄              x₁ ⋅x₂ - x₁ ⋅x₃ - x₁⋅x₂  + x₁⋅x₃  + x₂ ⋅x₃ - x₂⋅x₃           \n",
       "\n",
       "                  \n",
       "(x - x₁)⋅(y₁ - y₂)\n",
       "──────────────────\n",
       "     x₁ - x₂      \n",
       "                  "
      ]
     },
     "execution_count": 95,
     "metadata": {},
     "output_type": "execute_result"
    }
   ],
   "source": [
    "p3 = p2 + D3*(x-x1)*(x-x2)*(x-x3)\n",
    "p3"
   ]
  },
  {
   "cell_type": "code",
   "execution_count": 96,
   "metadata": {},
   "outputs": [
    {
     "data": {
      "image/png": "[encoded data removed]",
      "text/latex": [
       "$$y_{1} + \\frac{\\left(x - x_{1}\\right) \\left(x - x_{2}\\right) \\left(x - x_{3}\\right) \\left(x_{1}^{2} x_{2} y_{3} - x_{1}^{2} x_{2} y_{4} - x_{1}^{2} x_{3} y_{2} + x_{1}^{2} x_{3} y_{4} + x_{1}^{2} x_{4} y_{2} - x_{1}^{2} x_{4} y_{3} - x_{1} x_{2}^{2} y_{3} + x_{1} x_{2}^{2} y_{4} + x_{1} x_{3}^{2} y_{2} - x_{1} x_{3}^{2} y_{4} - x_{1} x_{4}^{2} y_{2} + x_{1} x_{4}^{2} y_{3} + x_{2}^{2} x_{3} y_{1} - x_{2}^{2} x_{3} y_{4} - x_{2}^{2} x_{4} y_{1} + x_{2}^{2} x_{4} y_{3} - x_{2} x_{3}^{2} y_{1} + x_{2} x_{3}^{2} y_{4} + x_{2} x_{4}^{2} y_{1} - x_{2} x_{4}^{2} y_{3} + x_{3}^{2} x_{4} y_{1} - x_{3}^{2} x_{4} y_{2} - x_{3} x_{4}^{2} y_{1} + x_{3} x_{4}^{2} y_{2}\\right)}{x_{1}^{3} x_{2}^{2} x_{3} - x_{1}^{3} x_{2}^{2} x_{4} - x_{1}^{3} x_{2} x_{3}^{2} + x_{1}^{3} x_{2} x_{4}^{2} + x_{1}^{3} x_{3}^{2} x_{4} - x_{1}^{3} x_{3} x_{4}^{2} - x_{1}^{2} x_{2}^{3} x_{3} + x_{1}^{2} x_{2}^{3} x_{4} + x_{1}^{2} x_{2} x_{3}^{3} - x_{1}^{2} x_{2} x_{4}^{3} - x_{1}^{2} x_{3}^{3} x_{4} + x_{1}^{2} x_{3} x_{4}^{3} + x_{1} x_{2}^{3} x_{3}^{2} - x_{1} x_{2}^{3} x_{4}^{2} - x_{1} x_{2}^{2} x_{3}^{3} + x_{1} x_{2}^{2} x_{4}^{3} + x_{1} x_{3}^{3} x_{4}^{2} - x_{1} x_{3}^{2} x_{4}^{3} - x_{2}^{3} x_{3}^{2} x_{4} + x_{2}^{3} x_{3} x_{4}^{2} + x_{2}^{2} x_{3}^{3} x_{4} - x_{2}^{2} x_{3} x_{4}^{3} - x_{2} x_{3}^{3} x_{4}^{2} + x_{2} x_{3}^{2} x_{4}^{3}} - \\frac{\\left(x - x_{1}\\right) \\left(x - x_{2}\\right) \\left(x_{1} y_{2} - x_{1} y_{3} - x_{2} y_{1} + x_{2} y_{3} + x_{3} y_{1} - x_{3} y_{2}\\right)}{x_{1}^{2} x_{2} - x_{1}^{2} x_{3} - x_{1} x_{2}^{2} + x_{1} x_{3}^{2} + x_{2}^{2} x_{3} - x_{2} x_{3}^{2}} + \\frac{\\left(x - x_{1}\\right) \\left(y_{1} - y_{2}\\right)}{x_{1} - x_{2}}$$"
      ],
      "text/plain": [
       "                                ⎛  2           2           2           2      \n",
       "     (x - x₁)⋅(x - x₂)⋅(x - x₃)⋅⎝x₁ ⋅x₂⋅y₃ - x₁ ⋅x₂⋅y₄ - x₁ ⋅x₃⋅y₂ + x₁ ⋅x₃⋅y₄\n",
       "y₁ + ─────────────────────────────────────────────────────────────────────────\n",
       "         3   2        3   2        3      2     3      2     3   2        3   \n",
       "       x₁ ⋅x₂ ⋅x₃ - x₁ ⋅x₂ ⋅x₄ - x₁ ⋅x₂⋅x₃  + x₁ ⋅x₂⋅x₄  + x₁ ⋅x₃ ⋅x₄ - x₁ ⋅x₃\n",
       "\n",
       "     2           2              2           2           2           2         \n",
       " + x₁ ⋅x₄⋅y₂ - x₁ ⋅x₄⋅y₃ - x₁⋅x₂ ⋅y₃ + x₁⋅x₂ ⋅y₄ + x₁⋅x₃ ⋅y₂ - x₁⋅x₃ ⋅y₄ - x₁⋅\n",
       "──────────────────────────────────────────────────────────────────────────────\n",
       "   2     2   3        2   3        2      3     2      3     2   3        2   \n",
       "⋅x₄  - x₁ ⋅x₂ ⋅x₃ + x₁ ⋅x₂ ⋅x₄ + x₁ ⋅x₂⋅x₃  - x₁ ⋅x₂⋅x₄  - x₁ ⋅x₃ ⋅x₄ + x₁ ⋅x₃\n",
       "\n",
       "  2           2        2           2           2           2              2   \n",
       "x₄ ⋅y₂ + x₁⋅x₄ ⋅y₃ + x₂ ⋅x₃⋅y₁ - x₂ ⋅x₃⋅y₄ - x₂ ⋅x₄⋅y₁ + x₂ ⋅x₄⋅y₃ - x₂⋅x₃ ⋅y₁\n",
       "──────────────────────────────────────────────────────────────────────────────\n",
       "   3        3   2        3   2        2   3        2   3        3   2        2\n",
       "⋅x₄  + x₁⋅x₂ ⋅x₃  - x₁⋅x₂ ⋅x₄  - x₁⋅x₂ ⋅x₃  + x₁⋅x₂ ⋅x₄  + x₁⋅x₃ ⋅x₄  - x₁⋅x₃ \n",
       "\n",
       "        2           2           2        2           2              2         \n",
       " + x₂⋅x₃ ⋅y₄ + x₂⋅x₄ ⋅y₁ - x₂⋅x₄ ⋅y₃ + x₃ ⋅x₄⋅y₁ - x₃ ⋅x₄⋅y₂ - x₃⋅x₄ ⋅y₁ + x₃⋅\n",
       "──────────────────────────────────────────────────────────────────────────────\n",
       "   3     3   2        3      2     2   3        2      3        3   2        2\n",
       "⋅x₄  - x₂ ⋅x₃ ⋅x₄ + x₂ ⋅x₃⋅x₄  + x₂ ⋅x₃ ⋅x₄ - x₂ ⋅x₃⋅x₄  - x₂⋅x₃ ⋅x₄  + x₂⋅x₃ \n",
       "\n",
       "  2   ⎞                                                                       \n",
       "x₄ ⋅y₂⎠   (x - x₁)⋅(x - x₂)⋅(x₁⋅y₂ - x₁⋅y₃ - x₂⋅y₁ + x₂⋅y₃ + x₃⋅y₁ - x₃⋅y₂)   \n",
       "─────── - ───────────────────────────────────────────────────────────────── + \n",
       "   3               2        2           2        2     2           2          \n",
       "⋅x₄              x₁ ⋅x₂ - x₁ ⋅x₃ - x₁⋅x₂  + x₁⋅x₃  + x₂ ⋅x₃ - x₂⋅x₃           \n",
       "\n",
       "                  \n",
       "(x - x₁)⋅(y₁ - y₂)\n",
       "──────────────────\n",
       "     x₁ - x₂      \n",
       "                  "
      ]
     },
     "execution_count": 96,
     "metadata": {},
     "output_type": "execute_result"
    }
   ],
   "source": [
    "p3.simplify()"
   ]
  },
  {
   "cell_type": "code",
   "execution_count": 97,
   "metadata": {},
   "outputs": [],
   "source": [
    "def cubica(x,x1,y1,x2,y2,x3,y3,x4,y4):\n",
    "    \"\"\"cúbica que pasa por cuatro puntos dados\"\"\"\n",
    "    return y1+(x-x1)*(x-x2)*(x-x3)*(x1**2*x2*y3-x1**2*x2*y4-x1**2*x3*y2+x1**2*x3*y4+x1**2*x4*y2-x1**2*x4*y3-x1*x2**2*y3+x1*x2**2*y4+x1*x3**2*y2-x1*x3**2*y4-x1*x4**2*y2+x1*x4**2*y3+x2**2*x3*y1-x2**2*x3*y4-x2**2*x4*y1+x2**2*x4*y3-x2*x3**2*y1+x2*x3**2*y4+x2*x4**2*y1-x2*x4**2*y3+x3**2*x4*y1-x3**2*x4*y2-x3*x4**2*y1+x3*x4**2*y2)/(x1**3*x2**2*x3-x1**3*x2**2*x4-x1**3*x2*x3**2+x1**3*x2*x4**2+x1**3*x3**2*x4-x1**3*x3*x4**2-x1**2*x2**3*x3+x1**2*x2**2*x4+x1**2*x2*x3**3-x1**2*x2*x4**3-x1**2*x3**3*x4+x1**2*x3*x4**3+x1*x2**3*x3**2-x1*x2**3*x4**2-x1*x2**2*x3**3+x1*x2**2*x4**3+x1*x3**3*x4**2-x1*x3**2*x4**3-x2**3*x3**2*x4+x2**3*x3*x4**2+x2**2*x3**3*x4-x2**2*x3*x4**3-x2*x3**3*x4**2+x2*x3**2*x4**3)-(x-x1)*(x-x2)*(x1*y2-x1*y3-x2*y1+x2*y3+x3*y1-x3*y2)/(x1**2*x2-x1**2*x3-x1*x2**2+x1*x3**2+x2**2*x3-x2*x3**2)+(x-x1)*(y1-y2)/(x1-x2)"
   ]
  },
  {
   "cell_type": "code",
   "execution_count": 98,
   "metadata": {},
   "outputs": [
    {
     "data": {
      "image/png": "[encoded data removed]",
      "text/latex": [
       "$$- x^{3} + x^{2} + x$$"
      ],
      "text/plain": [
       "   3    2    \n",
       "- x  + x  + x"
      ]
     },
     "execution_count": 98,
     "metadata": {},
     "output_type": "execute_result"
    }
   ],
   "source": [
    "cubica(x,-1,1,0,0,1,1,2,-2).expand()"
   ]
  },
  {
   "cell_type": "markdown",
   "metadata": {},
   "source": [
    "### Cúbica que pasa por dos puntos, especificando también la pendiente en ellos"
   ]
  },
  {
   "cell_type": "code",
   "execution_count": 99,
   "metadata": {
    "collapsed": true
   },
   "outputs": [],
   "source": [
    "x = sp.Symbol('x')\n",
    "xL,yL,dL,xR,yR,dR = sp.symbols('xL,yL,dL,xR,yR,dR')"
   ]
  },
  {
   "cell_type": "code",
   "execution_count": 100,
   "metadata": {},
   "outputs": [
    {
     "data": {
      "image/png": "[encoded data removed]",
      "text/latex": [
       "$$\\frac{1}{\\left(xL - xR\\right)^{3}} \\left(dL xL - dL xR + dR xL - dR xR - 2 yL + 2 yR\\right)$$"
      ],
      "text/plain": [
       "dL⋅xL - dL⋅xR + dR⋅xL - dR⋅xR - 2⋅yL + 2⋅yR\n",
       "───────────────────────────────────────────\n",
       "                          3                \n",
       "                 (xL - xR)                 "
      ]
     },
     "execution_count": 100,
     "metadata": {},
     "output_type": "execute_result"
    }
   ],
   "source": [
    "p2 = parabolaconderivada(x,dL,xL,yL,xR,yR)\n",
    "DR = sp.Symbol('DR')\n",
    "p3 = p2 + DR*(x-xL)**2*(x-xR) \n",
    "dp3 = sp.diff(p3,x)\n",
    "ec3 = dp3.subs({x:xR}).simplify()-dR\n",
    "sol3 = sp.solve(ec3,DR)\n",
    "DR = sol3[0].simplify()\n",
    "DR"
   ]
  },
  {
   "cell_type": "code",
   "execution_count": 101,
   "metadata": {},
   "outputs": [],
   "source": [
    "def cubicaconderivadas(x,xL,yL,dL,xR,yR,dR):\n",
    "    \"\"\"cúbica con datos de Lagrange y Hermite en ambos extremos\"\"\"\n",
    "    # DR = sp.Symbol('DR')\n",
    "    # DR = sp.Rational(dL*xL-dL*xR+dR*xL-dR*xR-2*(yL-yR),(xL-xR)**3)\n",
    "    DR = (dL*xL-dL*xR+dR*xL-dR*xR-2*(yL-yR))/(xL-xR)**3\n",
    "    return parabolaconderivada(x,dL,xL,yL,xR,yR) + DR*(x-xL)**2*(x-xR)"
   ]
  },
  {
   "cell_type": "code",
   "execution_count": 102,
   "metadata": {},
   "outputs": [
    {
     "data": {
      "image/png": "[encoded data removed]",
      "text/latex": [
       "$$\\frac{1}{\\left(xL - xR\\right)^{2}} \\left(yL \\left(xL - xR\\right)^{2} + \\left(x - xL\\right) \\left(x - xR\\right) \\left(dL \\left(xL - xR\\right) - yL + yR\\right) + \\left(x - xL\\right) \\left(xL - xR\\right) \\left(yL - yR\\right)\\right)$$"
      ],
      "text/plain": [
       "            2                                                                 \n",
       "yL⋅(xL - xR)  + (x - xL)⋅(x - xR)⋅(dL⋅(xL - xR) - yL + yR) + (x - xL)⋅(xL - xR\n",
       "──────────────────────────────────────────────────────────────────────────────\n",
       "                                                 2                            \n",
       "                                        (xL - xR)                             \n",
       "\n",
       "           \n",
       ")⋅(yL - yR)\n",
       "───────────\n",
       "           \n",
       "           "
      ]
     },
     "execution_count": 102,
     "metadata": {},
     "output_type": "execute_result"
    }
   ],
   "source": [
    "parabolaconderivada(x,dL,xL,yL,xR,yR)"
   ]
  },
  {
   "cell_type": "code",
   "execution_count": 103,
   "metadata": {},
   "outputs": [
    {
     "data": {
      "image/png": "[encoded data removed]",
      "text/latex": [
       "$$\\frac{\\left(x - xL\\right)^{2}}{\\left(xL - xR\\right)^{3}} \\left(x - xR\\right) \\left(dL xL - dL xR + dR xL - dR xR - 2 yL + 2 yR\\right) + \\frac{1}{\\left(xL - xR\\right)^{2}} \\left(yL \\left(xL - xR\\right)^{2} + \\left(x - xL\\right) \\left(x - xR\\right) \\left(dL \\left(xL - xR\\right) - yL + yR\\right) + \\left(x - xL\\right) \\left(xL - xR\\right) \\left(yL - yR\\right)\\right)$$"
      ],
      "text/plain": [
       "        2                                                                     \n",
       "(x - xL) ⋅(x - xR)⋅(dL⋅xL - dL⋅xR + dR⋅xL - dR⋅xR - 2⋅yL + 2⋅yR)   yL⋅(xL - xR\n",
       "──────────────────────────────────────────────────────────────── + ───────────\n",
       "                                    3                                         \n",
       "                           (xL - xR)                                          \n",
       "\n",
       " 2                                                                            \n",
       ")  + (x - xL)⋅(x - xR)⋅(dL⋅(xL - xR) - yL + yR) + (x - xL)⋅(xL - xR)⋅(yL - yR)\n",
       "──────────────────────────────────────────────────────────────────────────────\n",
       "                                      2                                       \n",
       "                             (xL - xR)                                        "
      ]
     },
     "execution_count": 103,
     "metadata": {},
     "output_type": "execute_result"
    }
   ],
   "source": [
    "cubicaconderivadas(x,xL,yL,dL,xR,yR,dR)"
   ]
  },
  {
   "cell_type": "code",
   "execution_count": 104,
   "metadata": {},
   "outputs": [],
   "source": [
    "p1000 = cubicaconderivadas(x,0,1,0,1,0,0).simplify()\n",
    "p0100 = cubicaconderivadas(x,0,0,1,1,0,0).simplify()\n",
    "p0010 = cubicaconderivadas(x,0,0,0,1,1,0).simplify()\n",
    "p0001 = cubicaconderivadas(x,0,0,0,1,0,1).simplify()"
   ]
  },
  {
   "cell_type": "code",
   "execution_count": 105,
   "metadata": {},
   "outputs": [
    {
     "data": {
      "image/png": "[encoded data removed]",
      "text/latex": [
       "$$\\left ( 2.0 x^{3} - 3.0 x^{2} + 1.0, \\quad x \\left(x - 1\\right) \\left(1.0 x - 1\\right), \\quad x^{2} \\left(- 2.0 x + 3.0\\right), \\quad 1.0 x^{2} \\left(x - 1\\right)\\right )$$"
      ],
      "text/plain": [
       "⎛     3        2                                2                      2      \n",
       "⎝2.0⋅x  - 3.0⋅x  + 1.0, x⋅(x - 1)⋅(1.0⋅x - 1), x ⋅(-2.0⋅x + 3.0), 1.0⋅x ⋅(x - \n",
       "\n",
       "  ⎞\n",
       "1)⎠"
      ]
     },
     "execution_count": 105,
     "metadata": {},
     "output_type": "execute_result"
    }
   ],
   "source": [
    "p1000,p0100,p0010,p0001 # Más adelante veremos que estas cúbicas\n",
    "# concretas juegan un papel fundamental cuando se definan las bases\n",
    "# de funciones asociadas al denominado Elemento Finito de Hermite"
   ]
  },
  {
   "cell_type": "code",
   "execution_count": 106,
   "metadata": {},
   "outputs": [
    {
     "data": {
      "image/png": "[encoded data removed]",
      "text/latex": [
       "$$\\left ( 2.0 x^{3} - 3.0 x^{2} + 1.0, \\quad x \\left(x - 1\\right) \\left(1.0 x - 1\\right), \\quad x^{2} \\left(- 2.0 x + 3.0\\right), \\quad 1.0 x^{2} \\left(x - 1\\right)\\right )$$"
      ],
      "text/plain": [
       "⎛     3        2                                2                      2      \n",
       "⎝2.0⋅x  - 3.0⋅x  + 1.0, x⋅(x - 1)⋅(1.0⋅x - 1), x ⋅(-2.0⋅x + 3.0), 1.0⋅x ⋅(x - \n",
       "\n",
       "  ⎞\n",
       "1)⎠"
      ]
     },
     "execution_count": 106,
     "metadata": {},
     "output_type": "execute_result"
    }
   ],
   "source": [
    "p1000,p0100,p0010,p0001 # Más adelante veremos que estas cúbicas\n",
    "# concretas juegan un papel fundamental cuando se definan las bases\n",
    "# de funciones asociadas al denominado Elemento Finito de Hermite"
   ]
  },
  {
   "cell_type": "code",
   "execution_count": 107,
   "metadata": {
    "collapsed": true
   },
   "outputs": [],
   "source": [
    "?plt.plot"
   ]
  },
  {
   "cell_type": "code",
   "execution_count": 108,
   "metadata": {},
   "outputs": [],
   "source": [
    "x = sp.Symbol('x')"
   ]
  },
  {
   "cell_type": "code",
   "execution_count": 109,
   "metadata": {},
   "outputs": [],
   "source": [
    "def p1(x):\n",
    "    return 2*x**3-3*x**2+1\n",
    "def p2(x):\n",
    "    return x*(x-1)**2\n",
    "def p3(x):\n",
    "    return x**2*(3-2*x)\n",
    "def p4(x):\n",
    "    return x**2*(x-1)"
   ]
  },
  {
   "cell_type": "code",
   "execution_count": 110,
   "metadata": {},
   "outputs": [
    {
     "data": {
      "image/png": "[encoded data removed]",
      "text/plain": [
       "<matplotlib.figure.Figure at 0x22206ff86a0>"
      ]
     },
     "metadata": {},
     "output_type": "display_data"
    }
   ],
   "source": [
    "a = 0; b = 1; nxx = 100; # Veámos qué forma tienen sus gráficas\n",
    "xx = np.linspace(a,b,nxx)\n",
    "yy1 = p1(xx); yy2 = p2(xx); yy3 = p3(xx); yy4 = p4(xx)\n",
    "fig,ax = plt.subplots(figsize=(8,8))\n",
    "ax.plot(xx,yy1,label='$p_1(x)$')\n",
    "ax.plot(xx,yy2,label='$p_2(x)$')\n",
    "ax.plot(xx,yy3,label='$p_3(x)$')\n",
    "ax.plot(xx,yy4,label='$p_4(x)$')\n",
    "ax.legend(loc=9)\n",
    "ax.set_xlabel('$x$',fontsize=18)\n",
    "ax.set_ylabel('$y$',fontsize=18)\n",
    "ax.set_title('Funciones de base del E.F. de Hermite de clase $\\mathcal{C}^1$');"
   ]
  },
  {
   "cell_type": "markdown",
   "metadata": {},
   "source": [
    "Vemos pues claramente que cada uno de estos polinomios 'controla' perfectamente uno y sólo uno de los datos considerados en el intervalo $[0,1]$; es decir, cada uno de ellos toma el  valor $0$ en todos los datos considerados $\\{p(0),p'(0),p(1),p'(1)\\}$ salvo en uno de ellos en los que toma el valor $1$. Así pues juegan exactamente el mismo papel que la base de Lagrange para la interpolación con datos lagrangianos que vimos al principio de esta práctica. Por lo tanto, a partir de esta base, podríamos expresar sin demasiado esfuerzo el correspondiente polinomio $p(x)$ de grado menor o igual a $3$ que satisface dichos datos de interpolación, bastaría con usar la siguiente fórmula\n",
    "\n",
    "$$p(x) = p(0)p_1(x)+p'(0)p_2(x)+p(1)p_3(x)+p'(1)p_4(x)$$\n",
    "\n",
    "**Cuestión** La pregunta que surge ahora sería la siguiente: ¿Y si nuestros datos de interpolación de Hermite estuvieran dados en un intervalo genérico $[x_L,x_R]$ en vez de en el $[0,1]$?\n",
    "\n",
    "**Respuesta** Vamos a ver entonces, que bastaría con considerar adecuadamente la transformación afín que lleva dicho intervalo $F:[x_L,x_R]\\longrightarrow [0,1]$  $$F(z):=\\frac{x-x_L}{x_R-x_L}$$ cuya derivada es simplemente $\\frac{1}{x_R-x_L}$ y habrá que tener en cuenta también a la hora de ajustar los coeficientes de la nueva base en el intervalo $[x_L,x_R]$."
   ]
  },
  {
   "cell_type": "code",
   "execution_count": 111,
   "metadata": {},
   "outputs": [
    {
     "data": {
      "image/png": "[encoded data removed]",
      "text/latex": [
       "$$\\frac{1}{\\left(xL - xR\\right)^{3}} \\left(- 2 \\left(x - xL\\right)^{3} - 3 \\left(x - xL\\right)^{2} \\left(xL - xR\\right) + \\left(xL - xR\\right)^{3}\\right)$$"
      ],
      "text/plain": [
       "            3             2                      3\n",
       "- 2⋅(x - xL)  - 3⋅(x - xL) ⋅(xL - xR) + (xL - xR) \n",
       "──────────────────────────────────────────────────\n",
       "                             3                    \n",
       "                    (xL - xR)                     "
      ]
     },
     "execution_count": 111,
     "metadata": {},
     "output_type": "execute_result"
    }
   ],
   "source": [
    "p1((x-xL)/(xR-xL)).simplify()"
   ]
  },
  {
   "cell_type": "code",
   "execution_count": 112,
   "metadata": {},
   "outputs": [],
   "source": [
    "def p1xLxR(x,xL,xR):\n",
    "    return 1/(xL-xR)**3*(-2*(x-xL)**3-3*(x-xL)**2*(xL-xR)+(xL-xR)**3)"
   ]
  },
  {
   "cell_type": "code",
   "execution_count": 115,
   "metadata": {},
   "outputs": [
    {
     "data": {
      "image/png": "[encoded data removed]",
      "text/latex": [
       "$$\\left ( \\frac{1}{\\left(xL - xR\\right)^{3}} \\left(6 \\left(- x + xL\\right) \\left(xL - xR\\right) - 6 \\left(x - xL\\right)^{2}\\right), \\quad \\frac{6}{\\left(xL - xR\\right)^{3}} \\left(- x + xR\\right) \\left(x - xL\\right)\\right )$$"
      ],
      "text/plain": [
       "⎛  ⎛                              2⎞                      ⎞\n",
       "⎜6⋅⎝(-x + xL)⋅(xL - xR) - (x - xL) ⎠  6⋅(-x + xR)⋅(x - xL)⎟\n",
       "⎜───────────────────────────────────, ────────────────────⎟\n",
       "⎜                      3                            3     ⎟\n",
       "⎝             (xL - xR)                    (xL - xR)      ⎠"
      ]
     },
     "execution_count": 115,
     "metadata": {},
     "output_type": "execute_result"
    }
   ],
   "source": [
    "sp.diff(p1((x-xL)/(xR-xL)),x).simplify(),sp.diff(p1xLxR(x,xL,xR),x).simplify()"
   ]
  },
  {
   "cell_type": "code",
   "execution_count": 116,
   "metadata": {},
   "outputs": [
    {
     "data": {
      "image/png": "[encoded data removed]",
      "text/latex": [
       "$$\\left ( 1, \\quad 0\\right )$$"
      ],
      "text/plain": [
       "(1, 0)"
      ]
     },
     "execution_count": 116,
     "metadata": {},
     "output_type": "execute_result"
    }
   ],
   "source": [
    "p1xLxR(x,xL,xR).subs({x:xL}),p1xLxR(x,xL,xR).subs({x:xR}).simplify()"
   ]
  },
  {
   "cell_type": "code",
   "execution_count": 118,
   "metadata": {},
   "outputs": [
    {
     "data": {
      "image/png": "[encoded data removed]",
      "text/latex": [
       "$$\\left ( 0, \\quad 0\\right )$$"
      ],
      "text/plain": [
       "(0, 0)"
      ]
     },
     "execution_count": 118,
     "metadata": {},
     "output_type": "execute_result"
    }
   ],
   "source": [
    "sp.diff(p1xLxR(x,xL,xR),x).subs({x:xL}),sp.diff(p1xLxR(x,xL,xR),x).subs({x:xR}).simplify()"
   ]
  },
  {
   "cell_type": "code",
   "execution_count": 119,
   "metadata": {},
   "outputs": [
    {
     "data": {
      "image/png": "[encoded data removed]",
      "text/latex": [
       "$$\\frac{\\left(x - xR\\right)^{2}}{\\left(xL - xR\\right)^{3}} \\left(- x + xL\\right)$$"
      ],
      "text/plain": [
       "                  2\n",
       "(-x + xL)⋅(x - xR) \n",
       "───────────────────\n",
       "              3    \n",
       "     (xL - xR)     "
      ]
     },
     "execution_count": 119,
     "metadata": {},
     "output_type": "execute_result"
    }
   ],
   "source": [
    "p2((x-xL)/(xR-xL)).simplify()"
   ]
  },
  {
   "cell_type": "code",
   "execution_count": 120,
   "metadata": {},
   "outputs": [
    {
     "data": {
      "image/png": "[encoded data removed]",
      "text/latex": [
       "$$\\left ( - \\frac{1}{xL - xR}, \\quad 0\\right )$$"
      ],
      "text/plain": [
       "⎛  -1      ⎞\n",
       "⎜───────, 0⎟\n",
       "⎝xL - xR   ⎠"
      ]
     },
     "execution_count": 120,
     "metadata": {},
     "output_type": "execute_result"
    }
   ],
   "source": [
    "# Véamos que pasa ahora cuando intentamos hacer lo mismo con p2(x)\n",
    "sp.diff(p2((x-xL)/(xR-xL)),x).subs({x:xL}).simplify(),sp.diff(p2((x-xL)/(xR-xL)),x).subs({x:xR}).simplify()"
   ]
  },
  {
   "cell_type": "code",
   "execution_count": 121,
   "metadata": {},
   "outputs": [],
   "source": [
    "# Así pues, para que todo cuadre de nuevo tendremos que tener en\n",
    "def p2xLxR(x,xL,xR): # cuenta este factor multiplicativo \n",
    "    return (x-xR)**2/(xL-xR)**3*(-x+xL)*(xR-xL) # en la definición."
   ]
  },
  {
   "cell_type": "code",
   "execution_count": 122,
   "metadata": {},
   "outputs": [
    {
     "data": {
      "image/png": "[encoded data removed]",
      "text/latex": [
       "$$\\left ( 1, \\quad 0\\right )$$"
      ],
      "text/plain": [
       "(1, 0)"
      ]
     },
     "execution_count": 122,
     "metadata": {},
     "output_type": "execute_result"
    }
   ],
   "source": [
    "sp.diff(p2xLxR(x,xL,xR),x).subs({x:xL}).simplify(),sp.diff(p2xLxR(x,xL,xR),x).subs({x:xR}).simplify()"
   ]
  },
  {
   "cell_type": "markdown",
   "metadata": {},
   "source": [
    "De manera totalmente análoga definiríamos las correspondientes funciones de base genéricas `p3xLxR(x)` y `p4xLxR(x)`."
   ]
  },
  {
   "cell_type": "code",
   "execution_count": 123,
   "metadata": {},
   "outputs": [
    {
     "data": {
      "image/png": "[encoded data removed]",
      "text/latex": [
       "$$\\frac{\\left(x - xL\\right)^{2}}{\\left(- xL + xR\\right)^{2}} \\left(- \\frac{2 x - 2 xL}{- xL + xR} + 3\\right)$$"
      ],
      "text/plain": [
       "        2 ⎛  2⋅(x - xL)    ⎞\n",
       "(x - xL) ⋅⎜- ────────── + 3⎟\n",
       "          ⎝   -xL + xR     ⎠\n",
       "────────────────────────────\n",
       "                  2         \n",
       "        (-xL + xR)          "
      ]
     },
     "execution_count": 123,
     "metadata": {},
     "output_type": "execute_result"
    }
   ],
   "source": [
    "p3((x-xL)/(xR-xL))"
   ]
  },
  {
   "cell_type": "code",
   "execution_count": 124,
   "metadata": {},
   "outputs": [],
   "source": [
    "def p3xLxR(x,xL,xR):\n",
    "    return (x-xL)**2/(-xL+xR)**2*(-(2*x-2*xL)/(-xL+xR)+3)"
   ]
  },
  {
   "cell_type": "code",
   "execution_count": 125,
   "metadata": {},
   "outputs": [
    {
     "data": {
      "image/png": "[encoded data removed]",
      "text/latex": [
       "$$\\frac{\\left(x - xL\\right)^{2}}{\\left(- xL + xR\\right)^{2}} \\left(\\frac{x - xL}{- xL + xR} - 1\\right)$$"
      ],
      "text/plain": [
       "        2 ⎛ x - xL     ⎞\n",
       "(x - xL) ⋅⎜──────── - 1⎟\n",
       "          ⎝-xL + xR    ⎠\n",
       "────────────────────────\n",
       "                2       \n",
       "      (-xL + xR)        "
      ]
     },
     "execution_count": 125,
     "metadata": {},
     "output_type": "execute_result"
    }
   ],
   "source": [
    "p4((x-xL)/(xR-xL))"
   ]
  },
  {
   "cell_type": "code",
   "execution_count": 126,
   "metadata": {},
   "outputs": [
    {
     "data": {
      "image/png": "[encoded data removed]",
      "text/latex": [
       "$$\\frac{1}{- xL + xR}$$"
      ],
      "text/plain": [
       "   1    \n",
       "────────\n",
       "-xL + xR"
      ]
     },
     "execution_count": 126,
     "metadata": {},
     "output_type": "execute_result"
    }
   ],
   "source": [
    "sp.diff(p4((x-xL)/(xR-xL)),x).subs({x:xR})"
   ]
  },
  {
   "cell_type": "code",
   "execution_count": 127,
   "metadata": {
    "collapsed": true
   },
   "outputs": [],
   "source": [
    "def p4xLxR(x,xL,xR):\n",
    "    return (x-xL)**2/(-xL+xR)**2*((x-xL)/(-xL+xR)-1)*(xR-xL)"
   ]
  },
  {
   "cell_type": "code",
   "execution_count": 128,
   "metadata": {},
   "outputs": [],
   "source": [
    "p = yL*p1xLxR(x,xL,xR)+dL*p2xLxR(x,xL,xR)+yR*p3xLxR(x,xL,xR)+dR*p4xLxR(x,xL,xR)"
   ]
  },
  {
   "cell_type": "code",
   "execution_count": 129,
   "metadata": {},
   "outputs": [
    {
     "data": {
      "image/png": "[encoded data removed]",
      "text/latex": [
       "$$\\left ( yL, \\quad yR\\right )$$"
      ],
      "text/plain": [
       "(yL, yR)"
      ]
     },
     "execution_count": 129,
     "metadata": {},
     "output_type": "execute_result"
    }
   ],
   "source": [
    "p.subs({x:xL}),p.subs({x:xR}).simplify()"
   ]
  },
  {
   "cell_type": "code",
   "execution_count": 130,
   "metadata": {},
   "outputs": [
    {
     "data": {
      "image/png": "[encoded data removed]",
      "text/latex": [
       "$$\\left ( dL, \\quad dR\\right )$$"
      ],
      "text/plain": [
       "(dL, dR)"
      ]
     },
     "execution_count": 130,
     "metadata": {},
     "output_type": "execute_result"
    }
   ],
   "source": [
    "sp.diff(p,x).subs({x:xL}).simplify(),sp.diff(p,x).subs({x:xR}).simplify()"
   ]
  },
  {
   "cell_type": "markdown",
   "metadata": {},
   "source": [
    "### Quíntica que pasa por dos puntos, especificando también la pendiente, así como la derivada segunda en ellos"
   ]
  },
  {
   "cell_type": "code",
   "execution_count": 131,
   "metadata": {},
   "outputs": [],
   "source": [
    "x = sp.Symbol('x')\n",
    "xL,yL,dL,d2L,xR,yR,dR,d2R = sp.symbols('xL,yL,dL,d2L,xR,yR,dR,d2R')"
   ]
  },
  {
   "cell_type": "code",
   "execution_count": 132,
   "metadata": {},
   "outputs": [
    {
     "data": {
      "image/png": "[encoded data removed]",
      "text/latex": [
       "$$\\left ( x, \\quad xL, \\quad yL, \\quad dL, \\quad d2L, \\quad xR, \\quad yR, \\quad dR, \\quad d2R\\right )$$"
      ],
      "text/plain": [
       "(x, xL, yL, dL, d2L, xR, yR, dR, d2R)"
      ]
     },
     "execution_count": 132,
     "metadata": {},
     "output_type": "execute_result"
    }
   ],
   "source": [
    "x,xL,yL,dL,d2L,xR,yR,dR,d2R"
   ]
  },
  {
   "cell_type": "code",
   "execution_count": 133,
   "metadata": {},
   "outputs": [
    {
     "data": {
      "image/png": "[encoded data removed]",
      "text/latex": [
       "$$2.0 x^{2} \\left(x - 1\\right) - x \\left(x - 1\\right) - x + 1$$"
      ],
      "text/plain": [
       "     2                            \n",
       "2.0⋅x ⋅(x - 1) - x⋅(x - 1) - x + 1"
      ]
     },
     "execution_count": 133,
     "metadata": {},
     "output_type": "execute_result"
    }
   ],
   "source": [
    "cubicaconderivadas(x,0,1,0,1,0,0)"
   ]
  },
  {
   "cell_type": "code",
   "execution_count": 134,
   "metadata": {},
   "outputs": [
    {
     "data": {
      "image/png": "[encoded data removed]",
      "text/latex": [
       "$$\\frac{1}{\\left(xL - xR\\right)^{3}} \\left(\\left(x - xL\\right)^{2} \\left(x - xR\\right) \\left(dL xL - dL xR + dR xL - dR xR - 2 yL + 2 yR\\right) + \\left(xL - xR\\right) \\left(yL \\left(xL - xR\\right)^{2} + \\left(x - xL\\right) \\left(x - xR\\right) \\left(dL \\left(xL - xR\\right) - yL + yR\\right) + \\left(x - xL\\right) \\left(xL - xR\\right) \\left(yL - yR\\right)\\right)\\right)$$"
      ],
      "text/plain": [
       "        2                                                                    ⎛\n",
       "(x - xL) ⋅(x - xR)⋅(dL⋅xL - dL⋅xR + dR⋅xL - dR⋅xR - 2⋅yL + 2⋅yR) + (xL - xR)⋅⎝\n",
       "──────────────────────────────────────────────────────────────────────────────\n",
       "                                                                              \n",
       "                                                                              \n",
       "\n",
       "            2                                                                 \n",
       "yL⋅(xL - xR)  + (x - xL)⋅(x - xR)⋅(dL⋅(xL - xR) - yL + yR) + (x - xL)⋅(xL - xR\n",
       "──────────────────────────────────────────────────────────────────────────────\n",
       "          3                                                                   \n",
       " (xL - xR)                                                                    \n",
       "\n",
       "           ⎞\n",
       ")⋅(yL - yR)⎠\n",
       "────────────\n",
       "            \n",
       "            "
      ]
     },
     "execution_count": 134,
     "metadata": {},
     "output_type": "execute_result"
    }
   ],
   "source": [
    "p3 = cubicaconderivadas(x,xL,yL,dL,xR,yR,dR).simplify()\n",
    "p3"
   ]
  },
  {
   "cell_type": "code",
   "execution_count": 135,
   "metadata": {},
   "outputs": [],
   "source": [
    "p3 = cubicaconderivadas(x,xL,yL,dL,xR,yR,dR).simplify()\n",
    "D1,D2 = sp.symbols('D1,D2')\n",
    "p5 = p3 + D1*(x-xL)**2*(x-xR)**2+D2*(x-xL)**3*(x-xR)**2 \n",
    "d2p5 = sp.diff(p5,x,2).simplify()\n",
    "ecL = d2p5.subs({x:xL}).simplify()-d2L\n",
    "ecR = d2p5.subs({x:xR}).simplify()-d2R\n",
    "sol5 = sp.solve([ecL,ecR],[D1,D2])"
   ]
  },
  {
   "cell_type": "code",
   "execution_count": 136,
   "metadata": {},
   "outputs": [
    {
     "name": "stdout",
     "output_type": "stream",
     "text": [
      "(d2L*xL**2/2 - d2L*xL*xR + d2L*xR**2/2 - 2*dL*xL + 2*dL*xR - dR*xL + dR*xR + 3*yL - 3*yR)/(xL**4 - 4*xL**3*xR + 6*xL**2*xR**2 - 4*xL*xR**3 + xR**4)\n"
     ]
    }
   ],
   "source": [
    "D1 = D1.subs(sol5).simplify()\n",
    "print(D1)"
   ]
  },
  {
   "cell_type": "code",
   "execution_count": 137,
   "metadata": {},
   "outputs": [
    {
     "name": "stdout",
     "output_type": "stream",
     "text": [
      "(d2L*xL**2 - 2*d2L*xL*xR + d2L*xR**2 - d2R*xL**2 + 2*d2R*xL*xR - d2R*xR**2 - 6*dL*xL + 6*dL*xR - 6*dR*xL + 6*dR*xR + 12*yL - 12*yR)/(2*(xL**5 - 5*xL**4*xR + 10*xL**3*xR**2 - 10*xL**2*xR**3 + 5*xL*xR**4 - xR**5))\n"
     ]
    }
   ],
   "source": [
    "D2 = D2.subs(sol5).simplify()\n",
    "print(D2)"
   ]
  },
  {
   "cell_type": "code",
   "execution_count": 138,
   "metadata": {},
   "outputs": [],
   "source": [
    "p5 = p3 + D1*(x-xL)**2*(x-xR)**2+D2*(x-xL)**3*(x-xR)**2"
   ]
  },
  {
   "cell_type": "code",
   "execution_count": 139,
   "metadata": {},
   "outputs": [],
   "source": [
    "def quintica(x,xL,yL,dL,d2L,xR,yR,dR,d2R):\n",
    "    \"\"\"quíntica con datos de Lagrange y Hermite en ambos extremos\"\"\"\n",
    "    D1 = (d2L*xL**2/2 - d2L*xL*xR + d2L*xR**2/2 - 2*dL*xL + 2*dL*xR - dR*xL + dR*xR + 3*yL - 3*yR)/(xL**4 - 4*xL**3*xR + 6*xL**2*xR**2 - 4*xL*xR**3 + xR**4)\n",
    "    D2 = (d2L*xL**2 - 2*d2L*xL*xR + d2L*xR**2 - d2R*xL**2 + 2*d2R*xL*xR - d2R*xR**2 - 6*dL*xL + 6*dL*xR - 6*dR*xL + 6*dR*xR + 12*yL - 12*yR)/(2*(xL**5 - 5*xL**4*xR + 10*xL**3*xR**2 - 10*xL**2*xR**3 + 5*xL*xR**4 - xR**5))\n",
    "    return cubicaconderivadas(x,xL,yL,dL,xR,yR,dR) + D1*(x-xL)**2*(x-xR)**2+D2*(x-xL)**3*(x-xR)**2"
   ]
  },
  {
   "cell_type": "code",
   "execution_count": 140,
   "metadata": {},
   "outputs": [
    {
     "data": {
      "image/png": "[encoded data removed]",
      "text/latex": [
       "$$\\frac{\\left(x - xL\\right)^{3} \\left(x - xR\\right)^{2}}{2 xL^{5} - 10 xL^{4} xR + 20 xL^{3} xR^{2} - 20 xL^{2} xR^{3} + 10 xL xR^{4} - 2 xR^{5}} \\left(d2L xL^{2} - 2 d2L xL xR + d2L xR^{2} - d2R xL^{2} + 2 d2R xL xR - d2R xR^{2} - 6 dL xL + 6 dL xR - 6 dR xL + 6 dR xR + 12 yL - 12 yR\\right) + \\frac{\\left(x - xL\\right)^{2} \\left(x - xR\\right)^{2}}{xL^{4} - 4 xL^{3} xR + 6 xL^{2} xR^{2} - 4 xL xR^{3} + xR^{4}} \\left(\\frac{d2L xL^{2}}{2} - d2L xL xR + \\frac{d2L xR^{2}}{2} - 2 dL xL + 2 dL xR - dR xL + dR xR + 3 yL - 3 yR\\right) + \\frac{\\left(x - xL\\right)^{2}}{\\left(xL - xR\\right)^{3}} \\left(x - xR\\right) \\left(dL xL - dL xR + dR xL - dR xR - 2 yL + 2 yR\\right) + \\frac{1}{\\left(xL - xR\\right)^{2}} \\left(yL \\left(xL - xR\\right)^{2} + \\left(x - xL\\right) \\left(x - xR\\right) \\left(dL \\left(xL - xR\\right) - yL + yR\\right) + \\left(x - xL\\right) \\left(xL - xR\\right) \\left(yL - yR\\right)\\right)$$"
      ],
      "text/plain": [
       "                                                                              \n",
       "                                                                              \n",
       "        3         2 ⎛      2                       2         2                \n",
       "(x - xL) ⋅(x - xR) ⋅⎝d2L⋅xL  - 2⋅d2L⋅xL⋅xR + d2L⋅xR  - d2R⋅xL  + 2⋅d2R⋅xL⋅xR -\n",
       "──────────────────────────────────────────────────────────────────────────────\n",
       "                                            5        4           3   2        \n",
       "                                        2⋅xL  - 10⋅xL ⋅xR + 20⋅xL ⋅xR  - 20⋅xL\n",
       "\n",
       "                                                                              \n",
       "                                                                            2 \n",
       "       2                                                        ⎞   (x - xL) ⋅\n",
       " d2R⋅xR  - 6⋅dL⋅xL + 6⋅dL⋅xR - 6⋅dR⋅xL + 6⋅dR⋅xR + 12⋅yL - 12⋅yR⎠             \n",
       "───────────────────────────────────────────────────────────────── + ──────────\n",
       "2   3           4       5                                                     \n",
       " ⋅xR  + 10⋅xL⋅xR  - 2⋅xR                                                      \n",
       "\n",
       "          ⎛      2                     2                                      \n",
       "        2 ⎜d2L⋅xL                d2L⋅xR                                       \n",
       "(x - xR) ⋅⎜─────── - d2L⋅xL⋅xR + ─────── - 2⋅dL⋅xL + 2⋅dL⋅xR - dR⋅xL + dR⋅xR +\n",
       "          ⎝   2                     2                                         \n",
       "──────────────────────────────────────────────────────────────────────────────\n",
       "                     4       3          2   2          3     4                \n",
       "                   xL  - 4⋅xL ⋅xR + 6⋅xL ⋅xR  - 4⋅xL⋅xR  + xR                 \n",
       "\n",
       "            ⎞                                                                 \n",
       "            ⎟                                                                 \n",
       " 3⋅yL - 3⋅yR⎟           2                                                     \n",
       "            ⎠   (x - xL) ⋅(x - xR)⋅(dL⋅xL - dL⋅xR + dR⋅xL - dR⋅xR - 2⋅yL + 2⋅y\n",
       "───────────── + ──────────────────────────────────────────────────────────────\n",
       "                                                    3                         \n",
       "                                           (xL - xR)                          \n",
       "\n",
       "                                                                              \n",
       "                                                                              \n",
       "                 2                                                            \n",
       "R)   yL⋅(xL - xR)  + (x - xL)⋅(x - xR)⋅(dL⋅(xL - xR) - yL + yR) + (x - xL)⋅(xL\n",
       "── + ─────────────────────────────────────────────────────────────────────────\n",
       "                                                      2                       \n",
       "                                             (xL - xR)                        \n",
       "\n",
       "                \n",
       "                \n",
       "                \n",
       " - xR)⋅(yL - yR)\n",
       "────────────────\n",
       "                \n",
       "                "
      ]
     },
     "execution_count": 140,
     "metadata": {},
     "output_type": "execute_result"
    }
   ],
   "source": [
    "quintica(x,xL,yL,dL,d2L,xR,yR,dR,d2R).simplify()"
   ]
  },
  {
   "cell_type": "code",
   "execution_count": 141,
   "metadata": {},
   "outputs": [
    {
     "data": {
      "image/png": "[encoded data removed]",
      "text/latex": [
       "$$- 6.0 x^{5} + 15.0 x^{4} - 10.0 x^{3} + 1$$"
      ],
      "text/plain": [
       "       5         4         3    \n",
       "- 6.0⋅x  + 15.0⋅x  - 10.0⋅x  + 1"
      ]
     },
     "execution_count": 141,
     "metadata": {},
     "output_type": "execute_result"
    }
   ],
   "source": [
    "quintica(x,0,1,0,0,1,0,0,0).expand()"
   ]
  },
  {
   "cell_type": "code",
   "execution_count": 142,
   "metadata": {},
   "outputs": [
    {
     "data": {
      "image/png": "[encoded data removed]",
      "text/latex": [
       "$$- 3.0 x^{5} + 8.0 x^{4} - 6.0 x^{3} + x$$"
      ],
      "text/plain": [
       "       5        4        3    \n",
       "- 3.0⋅x  + 8.0⋅x  - 6.0⋅x  + x"
      ]
     },
     "execution_count": 142,
     "metadata": {},
     "output_type": "execute_result"
    }
   ],
   "source": [
    "quintica(x,0,0,1,0,1,0,0,0).expand()"
   ]
  },
  {
   "cell_type": "code",
   "execution_count": 143,
   "metadata": {},
   "outputs": [
    {
     "data": {
      "image/png": "[encoded data removed]",
      "text/latex": [
       "$$yL$$"
      ],
      "text/plain": [
       "yL"
      ]
     },
     "execution_count": 143,
     "metadata": {},
     "output_type": "execute_result"
    }
   ],
   "source": [
    "quintica(xL,xL,yL,dL,d2L,xR,yR,dR,d2R).simplify()"
   ]
  },
  {
   "cell_type": "code",
   "execution_count": 144,
   "metadata": {},
   "outputs": [
    {
     "data": {
      "image/png": "[encoded data removed]",
      "text/latex": [
       "$$yR$$"
      ],
      "text/plain": [
       "yR"
      ]
     },
     "execution_count": 144,
     "metadata": {},
     "output_type": "execute_result"
    }
   ],
   "source": [
    "quintica(xR,xL,yL,dL,d2L,xR,yR,dR,d2R).simplify()"
   ]
  },
  {
   "cell_type": "code",
   "execution_count": 146,
   "metadata": {},
   "outputs": [
    {
     "data": {
      "image/png": "[encoded data removed]",
      "text/latex": [
       "$$dL$$"
      ],
      "text/plain": [
       "dL"
      ]
     },
     "execution_count": 146,
     "metadata": {},
     "output_type": "execute_result"
    }
   ],
   "source": [
    "sp.diff(quintica(x,xL,yL,dL,d2L,xR,yR,dR,d2R),x).subs({x:xL}).simplify()"
   ]
  },
  {
   "cell_type": "code",
   "execution_count": 149,
   "metadata": {},
   "outputs": [
    {
     "data": {
      "image/png": "[encoded data removed]",
      "text/latex": [
       "$$dR$$"
      ],
      "text/plain": [
       "dR"
      ]
     },
     "execution_count": 149,
     "metadata": {},
     "output_type": "execute_result"
    }
   ],
   "source": [
    "sp.diff(quintica(x,xL,yL,dL,d2L,xR,yR,dR,d2R),x).subs({x:xR}).simplify()"
   ]
  },
  {
   "cell_type": "code",
   "execution_count": 150,
   "metadata": {},
   "outputs": [
    {
     "data": {
      "image/png": "[encoded data removed]",
      "text/latex": [
       "$$d2L$$"
      ],
      "text/plain": [
       "d2L"
      ]
     },
     "execution_count": 150,
     "metadata": {},
     "output_type": "execute_result"
    }
   ],
   "source": [
    "sp.diff(quintica(x,xL,yL,dL,d2L,xR,yR,dR,d2R),x,2).subs({x:xL}).simplify()"
   ]
  },
  {
   "cell_type": "code",
   "execution_count": 151,
   "metadata": {},
   "outputs": [
    {
     "data": {
      "image/png": "[encoded data removed]",
      "text/latex": [
       "$$d2R$$"
      ],
      "text/plain": [
       "d2R"
      ]
     },
     "execution_count": 151,
     "metadata": {},
     "output_type": "execute_result"
    }
   ],
   "source": [
    "sp.diff(quintica(x,xL,yL,dL,d2L,xR,yR,dR,d2R),x,2).subs({x:xR}).simplify()"
   ]
  },
  {
   "cell_type": "code",
   "execution_count": 152,
   "metadata": {},
   "outputs": [],
   "source": [
    "p01001000 = quintica(x,0,1,0,0,1,0,0,0).simplify()\n",
    "p00101000 = quintica(x,0,0,1,0,1,0,0,0).simplify()\n",
    "p00011000 = quintica(x,0,0,0,1,1,0,0,0).simplify()\n",
    "p00001100 = quintica(x,0,0,0,0,1,1,0,0).simplify()\n",
    "p00001010 = quintica(x,0,0,0,0,1,0,1,0).simplify()\n",
    "p00001001 = quintica(x,0,0,0,0,1,0,0,1).simplify()"
   ]
  },
  {
   "cell_type": "code",
   "execution_count": 153,
   "metadata": {},
   "outputs": [
    {
     "name": "stdout",
     "output_type": "stream",
     "text": [
      "-6.0*x**5 + 15.0*x**4 - 10.0*x**3 + 1.0\n",
      "x*(-3.0*x**4 + 8.0*x**3 - 6.0*x**2 + 1.0)\n",
      "0.5*x**2*(-x + 1)**3\n",
      "x**3*(6.0*x**2 - 15.0*x + 10.0)\n",
      "x**3*(-3.0*x**2 + 7.0*x - 4.0)\n",
      "0.5*x**3*(x - 1)**2\n"
     ]
    }
   ],
   "source": [
    "print(p01001000)\n",
    "print(p00101000)\n",
    "print(p00011000)\n",
    "print(p00001100)\n",
    "print(p00001010)\n",
    "print(p00001001)"
   ]
  },
  {
   "cell_type": "code",
   "execution_count": 154,
   "metadata": {},
   "outputs": [],
   "source": [
    "def p1(x):\n",
    "    return -6*x**5 + 15*x**4 - 10*x**3 + 1\n",
    "def p2(x):\n",
    "    return x*(-3*x**4 + 8*x**3 - 6*x**2 + 1)\n",
    "def p3(x):\n",
    "    return x**2/2*(-x + 1)**3\n",
    "def p4(x):\n",
    "    return x**3*(6*x**2 - 15*x + 10)\n",
    "def p5(x):\n",
    "    return x**3*(-3*x**2 + 7*x - 4)\n",
    "def p6(x):\n",
    "    return x**3*(x - 1)**2/2"
   ]
  },
  {
   "cell_type": "code",
   "execution_count": 155,
   "metadata": {},
   "outputs": [
    {
     "data": {
      "image/png": "[encoded data removed]",
      "text/plain": [
       "<matplotlib.figure.Figure at 0x22208482c50>"
      ]
     },
     "metadata": {},
     "output_type": "display_data"
    }
   ],
   "source": [
    "a = 0; b = 1; nxx = 100; # Veámos qué forma tienen sus gráficas\n",
    "xx = np.linspace(a,b,nxx)\n",
    "yy1 = p1(xx); yy2 = p2(xx); yy3 = p3(xx);\n",
    "yy4 = p4(xx); yy5 = p5(xx); yy6 = p6(xx);\n",
    "fig,ax = plt.subplots(figsize=(8,8))\n",
    "ax.plot(xx,yy1,label='$p_1(x)$')\n",
    "ax.plot(xx,yy2,label='$p_2(x)$')\n",
    "ax.plot(xx,yy3,label='$p_3(x)$')\n",
    "ax.plot(xx,yy4,label='$p_4(x)$')\n",
    "ax.plot(xx,yy5,label='$p_5(x)$')\n",
    "ax.plot(xx,yy6,label='$p_6(x)$')\n",
    "ax.legend(loc=9)\n",
    "ax.set_xlabel('$x$',fontsize=18)\n",
    "ax.set_ylabel('$y$',fontsize=18)\n",
    "ax.set_title('Funciones de base del E.F. de Hermite de clase $\\mathcal{C}^2$');"
   ]
  },
  {
   "cell_type": "code",
   "execution_count": 156,
   "metadata": {},
   "outputs": [
    {
     "name": "stdout",
     "output_type": "stream",
     "text": [
      "(6*(x - xL)**5 + 15*(x - xL)**4*(xL - xR) + 10*(x - xL)**3*(xL - xR)**2 + (xL - xR)**5)/(xL - xR)**5\n"
     ]
    }
   ],
   "source": [
    "print(p1((x-xL)/(xR-xL)).simplify())"
   ]
  },
  {
   "cell_type": "code",
   "execution_count": 157,
   "metadata": {},
   "outputs": [
    {
     "name": "stdout",
     "output_type": "stream",
     "text": [
      "-(x - xL)*(3*(x - xL)**4 + 8*(x - xL)**3*(xL - xR) + 6*(x - xL)**2*(xL - xR)**2 - (xL - xR)**4)/(xL - xR)**4\n"
     ]
    }
   ],
   "source": [
    "print((p2((x-xL)/(xR-xL))*(xR-xL)).simplify())"
   ]
  },
  {
   "cell_type": "code",
   "execution_count": 158,
   "metadata": {},
   "outputs": [
    {
     "name": "stdout",
     "output_type": "stream",
     "text": [
      "(x - xL)**2*(x - xR)**3/(2*(xL - xR)**3)\n"
     ]
    }
   ],
   "source": [
    "print((p3((x-xL)/(xR-xL))*(xR-xL)**2).simplify())"
   ]
  },
  {
   "cell_type": "code",
   "execution_count": 159,
   "metadata": {},
   "outputs": [
    {
     "name": "stdout",
     "output_type": "stream",
     "text": [
      "-(x - xL)**3*(6*(x - xL)**2 + 15*(x - xL)*(xL - xR) + 10*(xL - xR)**2)/(xL - xR)**5\n"
     ]
    }
   ],
   "source": [
    "print(p4((x-xL)/(xR-xL)).simplify())"
   ]
  },
  {
   "cell_type": "code",
   "execution_count": 160,
   "metadata": {},
   "outputs": [
    {
     "name": "stdout",
     "output_type": "stream",
     "text": [
      "-(x - xL)**3*(3*(x - xL)**2 + 7*(x - xL)*(xL - xR) + 4*(xL - xR)**2)/(xL - xR)**4\n"
     ]
    }
   ],
   "source": [
    "print((p5((x-xL)/(xR-xL))*(xR-xL)).simplify())"
   ]
  },
  {
   "cell_type": "code",
   "execution_count": 161,
   "metadata": {},
   "outputs": [
    {
     "name": "stdout",
     "output_type": "stream",
     "text": [
      "-(x - xL)**3*(x - xR)**2/(2*(xL - xR)**3)\n"
     ]
    }
   ],
   "source": [
    "print((p6((x-xL)/(xR-xL))*(xR-xL)**2).simplify())"
   ]
  },
  {
   "cell_type": "code",
   "execution_count": 162,
   "metadata": {
    "collapsed": true
   },
   "outputs": [],
   "source": [
    "def p1C2xLxR(x,xL,xR):\n",
    "    return (6*(x - xL)**5 + 15*(x - xL)**4*(xL - xR) + 10*(x - xL)**3*(xL - xR)**2 + (xL - xR)**5)/(xL - xR)**5\n",
    "def p2C2xLxR(x,xL,xR):\n",
    "    return -(x - xL)*(3*(x - xL)**4 + 8*(x - xL)**3*(xL - xR) + 6*(x - xL)**2*(xL - xR)**2 - (xL - xR)**4)/(xL - xR)**4\n",
    "def p3C2xLxR(x,xL,xR):\n",
    "    return (x - xL)**2*(x - xR)**3/(2*(xL - xR)**3)\n",
    "def p4C2xLxR(x,xL,xR):\n",
    "    return -(x - xL)**3*(6*(x - xL)**2 + 15*(x - xL)*(xL - xR) + 10*(xL - xR)**2)/(xL - xR)**5\n",
    "def p5C2xLxR(x,xL,xR):\n",
    "    return -(x - xL)**3*(3*(x - xL)**2 + 7*(x - xL)*(xL - xR) + 4*(xL - xR)**2)/(xL - xR)**4\n",
    "def p6C2xLxR(x,xL,xR):\n",
    "    return -(x - xL)**3*(x - xR)**2/(2*(xL - xR)**3)"
   ]
  },
  {
   "cell_type": "code",
   "execution_count": 163,
   "metadata": {},
   "outputs": [],
   "source": [
    "p = yL*p1C2xLxR(x,xL,xR)+dL*p2C2xLxR(x,xL,xR)+d2L*p3C2xLxR(x,xL,xR)+yR*p4C2xLxR(x,xL,xR)+dR*p5C2xLxR(x,xL,xR)+d2R*p6C2xLxR(x,xL,xR)"
   ]
  },
  {
   "cell_type": "code",
   "execution_count": 164,
   "metadata": {},
   "outputs": [
    {
     "data": {
      "image/png": "[encoded data removed]",
      "text/latex": [
       "$$\\left ( yL, \\quad yR\\right )$$"
      ],
      "text/plain": [
       "(yL, yR)"
      ]
     },
     "execution_count": 164,
     "metadata": {},
     "output_type": "execute_result"
    }
   ],
   "source": [
    "p.subs({x:xL}),p.subs({x:xR}).simplify()"
   ]
  },
  {
   "cell_type": "code",
   "execution_count": 167,
   "metadata": {},
   "outputs": [
    {
     "data": {
      "image/png": "[encoded data removed]",
      "text/latex": [
       "$$\\left ( dL, \\quad dR\\right )$$"
      ],
      "text/plain": [
       "(dL, dR)"
      ]
     },
     "execution_count": 167,
     "metadata": {},
     "output_type": "execute_result"
    }
   ],
   "source": [
    "sp.diff(p,x).subs({x:xL}),sp.diff(p,x).subs({x:xR}).simplify()"
   ]
  },
  {
   "cell_type": "code",
   "execution_count": 168,
   "metadata": {},
   "outputs": [
    {
     "data": {
      "image/png": "[encoded data removed]",
      "text/latex": [
       "$$\\left ( d2L, \\quad d2R\\right )$$"
      ],
      "text/plain": [
       "(d2L, d2R)"
      ]
     },
     "execution_count": 168,
     "metadata": {},
     "output_type": "execute_result"
    }
   ],
   "source": [
    "sp.diff(p,x,2).subs({x:xL}),sp.diff(p,x,2).subs({x:xR}).simplify()"
   ]
  },
  {
   "cell_type": "markdown",
   "metadata": {},
   "source": [
    "### La orden interpolate"
   ]
  },
  {
   "cell_type": "code",
   "execution_count": 174,
   "metadata": {
    "collapsed": true
   },
   "outputs": [],
   "source": [
    "?interpolate"
   ]
  },
  {
   "cell_type": "code",
   "execution_count": 170,
   "metadata": {
    "collapsed": true
   },
   "outputs": [],
   "source": [
    "datos = [[1, [5, 1, 0]], [3, [1, 3]], [5, -2]]"
   ]
  },
  {
   "cell_type": "code",
   "execution_count": 171,
   "metadata": {},
   "outputs": [],
   "source": [
    "x = np.array([1,3,5])\n",
    "xdatos = [[5,1,0],[1,3],-2]"
   ]
  },
  {
   "cell_type": "code",
   "execution_count": 177,
   "metadata": {},
   "outputs": [
    {
     "data": {
      "image/png": "[encoded data removed]",
      "text/latex": [
       "$$\\left [ 1, \\quad \\left [ 5, \\quad 1, \\quad 0\\right ]\\right ]$$"
      ],
      "text/plain": [
       "[1, [5, 1, 0]]"
      ]
     },
     "execution_count": 177,
     "metadata": {},
     "output_type": "execute_result"
    }
   ],
   "source": [
    "datos[0]"
   ]
  },
  {
   "cell_type": "code",
   "execution_count": 178,
   "metadata": {},
   "outputs": [
    {
     "data": {
      "image/png": "[encoded data removed]",
      "text/latex": [
       "$$\\left [ 3, \\quad \\left [ 1, \\quad 3\\right ]\\right ]$$"
      ],
      "text/plain": [
       "[3, [1, 3]]"
      ]
     },
     "execution_count": 178,
     "metadata": {},
     "output_type": "execute_result"
    }
   ],
   "source": [
    "datos[1]"
   ]
  },
  {
   "cell_type": "code",
   "execution_count": 179,
   "metadata": {},
   "outputs": [
    {
     "data": {
      "image/png": "[encoded data removed]",
      "text/latex": [
       "$$\\left [ 5, \\quad -2\\right ]$$"
      ],
      "text/plain": [
       "[5, -2]"
      ]
     },
     "execution_count": 179,
     "metadata": {},
     "output_type": "execute_result"
    }
   ],
   "source": [
    "datos[2]"
   ]
  },
  {
   "cell_type": "markdown",
   "metadata": {},
   "source": [
    "# Interpolación polinómica lagrangiana"
   ]
  },
  {
   "cell_type": "markdown",
   "metadata": {
    "collapsed": true
   },
   "source": [
    " Pero también dentro de la clase `Polynomial` hay un procedimiento `fit` que permite realizar el proceso de interpolación o ajuste de datos. Veámos la ayuda que proporciona Python para ver cómo se usa."
   ]
  },
  {
   "cell_type": "code",
   "execution_count": 180,
   "metadata": {},
   "outputs": [],
   "source": [
    "?P.Polynomial.fit"
   ]
  },
  {
   "cell_type": "code",
   "execution_count": 181,
   "metadata": {},
   "outputs": [],
   "source": [
    "x = np.array([-1,0,1,2])\n",
    "y = np.array([4,2,-3,1])"
   ]
  },
  {
   "cell_type": "code",
   "execution_count": 182,
   "metadata": {},
   "outputs": [
    {
     "data": {
      "text/plain": [
       "(-1, 2)"
      ]
     },
     "execution_count": 182,
     "metadata": {},
     "output_type": "execute_result"
    }
   ],
   "source": [
    "x.min(),x.max()"
   ]
  },
  {
   "cell_type": "code",
   "execution_count": 183,
   "metadata": {},
   "outputs": [
    {
     "data": {
      "text/plain": [
       "Polynomial([-0.875, -8.25 ,  3.375,  6.75 ], [-1.,  2.], [-1.,  1.])"
      ]
     },
     "execution_count": 183,
     "metadata": {},
     "output_type": "execute_result"
    }
   ],
   "source": [
    "grado = len(x)-1  # habrá que indicar el grado correcto\n",
    "pinterp = P.Polynomial.fit(x,y,grado) \n",
    "pinterp"
   ]
  },
  {
   "cell_type": "code",
   "execution_count": 184,
   "metadata": {},
   "outputs": [
    {
     "data": {
      "text/plain": [
       "Polynomial([ 1. , -2.1], [-1.,  2.], [-1.,  1.])"
      ]
     },
     "execution_count": 184,
     "metadata": {},
     "output_type": "execute_result"
    }
   ],
   "source": [
    "pajuste = P.Polynomial.fit(x,y,1) # nótese que al indicar un grado \n",
    "# inferior obtendremos sólo un polinomio de ajuste\n",
    "pajuste"
   ]
  },
  {
   "cell_type": "code",
   "execution_count": 185,
   "metadata": {},
   "outputs": [
    {
     "data": {
      "image/png": "[encoded data removed]",
      "text/plain": [
       "<matplotlib.figure.Figure at 0x22209075940>"
      ]
     },
     "metadata": {},
     "output_type": "display_data"
    }
   ],
   "source": [
    "xx = np.linspace(x.min(),x.max(),100)\n",
    "fig, ax = plt.subplots(1,1,figsize = (12,4))\n",
    "ax.plot(xx,pinterp(xx),'b',lw=2,label='pol. interpolador')\n",
    "ax.plot(xx,pajuste(xx),'r--',lw=2,label='pol. de ajuste')\n",
    "ax.scatter(x,y,lw = 4,label='datos lagrangianos')\n",
    "ax.legend(loc=3)\n",
    "ax.set_xticks(x)\n",
    "ax.set_ylabel(r\"$y$\",fontsize = 18)\n",
    "ax.set_ylabel(r\"$x$\",fontsize = 18)\n",
    "plt.show()"
   ]
  },
  {
   "cell_type": "markdown",
   "metadata": {},
   "source": [
    "Si lo que queremos es obtener la correspondiente matriz de Gramm (a veces también denominada de Vandermonde, en el caso de la interpolación lagrangiana), podemos obtenerla en diferentes bases de polinomios, de manera que aunque el polinomio interpolador será el mismo (dada la univolvencia del problema) habrá casos en los que podremos mejorar enormemente el número de condición de la matriz corespondiente, con lo que la resolución numérica del problema se verá mucho menos afectado por los pequeños errores de redondeo inherentes en todo este tipo de problemas."
   ]
  },
  {
   "cell_type": "code",
   "execution_count": 186,
   "metadata": {},
   "outputs": [
    {
     "data": {
      "image/png": "[encoded data removed]",
      "text/latex": [
       "$$\\left ( 30.0, \\quad 17.3178106235\\right )$$"
      ],
      "text/plain": [
       "(30.0, 17.3178106235)"
      ]
     },
     "execution_count": 186,
     "metadata": {},
     "output_type": "execute_result"
    }
   ],
   "source": [
    "APoly = P.polynomial.polyvander(x,grado)\n",
    "np.linalg.cond(APoly,np.inf),np.linalg.cond(APoly)"
   ]
  },
  {
   "cell_type": "code",
   "execution_count": 187,
   "metadata": {},
   "outputs": [
    {
     "data": {
      "image/png": "[encoded data removed]",
      "text/latex": [
       "$$\\left ( 45.0, \\quad 22.5152085847\\right )$$"
      ],
      "text/plain": [
       "(45.0, 22.5152085847)"
      ]
     },
     "execution_count": 187,
     "metadata": {},
     "output_type": "execute_result"
    }
   ],
   "source": [
    "ACheb = P.chebyshev.chebvander(x,grado)\n",
    "np.linalg.cond(ACheb,np.inf),np.linalg.cond(ACheb)"
   ]
  },
  {
   "cell_type": "code",
   "execution_count": 188,
   "metadata": {},
   "outputs": [
    {
     "data": {
      "image/png": "[encoded data removed]",
      "text/latex": [
       "$$\\left ( 243.333333333, \\quad 107.419913555\\right )$$"
      ],
      "text/plain": [
       "(243.333333333, 107.419913555)"
      ]
     },
     "execution_count": 188,
     "metadata": {},
     "output_type": "execute_result"
    }
   ],
   "source": [
    "ALaguerre = P.laguerre.lagvander(x,grado)\n",
    "np.linalg.cond(ALaguerre,np.inf),np.linalg.cond(ALaguerre)"
   ]
  },
  {
   "cell_type": "code",
   "execution_count": 189,
   "metadata": {},
   "outputs": [
    {
     "data": {
      "image/png": "[encoded data removed]",
      "text/latex": [
       "$$\\left ( 59.0, \\quad 26.8784680062\\right )$$"
      ],
      "text/plain": [
       "(59.0, 26.8784680062)"
      ]
     },
     "execution_count": 189,
     "metadata": {},
     "output_type": "execute_result"
    }
   ],
   "source": [
    "AHermite = P.hermite.hermvander(x,grado)\n",
    "np.linalg.cond(AHermite,np.inf),np.linalg.cond(AHermite)"
   ]
  },
  {
   "cell_type": "code",
   "execution_count": 190,
   "metadata": {},
   "outputs": [
    {
     "data": {
      "text/plain": [
       "array([False, False, False, False], dtype=bool)"
      ]
     },
     "execution_count": 190,
     "metadata": {},
     "output_type": "execute_result"
    }
   ],
   "source": [
    "cPoly = np.linalg.solve(APoly,y)\n",
    "pPoly = P.Polynomial(cPoly)\n",
    "pPoly(x) == y"
   ]
  },
  {
   "cell_type": "code",
   "execution_count": 191,
   "metadata": {},
   "outputs": [
    {
     "data": {
      "text/plain": [
       "array([False, False, False, False], dtype=bool)"
      ]
     },
     "execution_count": 191,
     "metadata": {},
     "output_type": "execute_result"
    }
   ],
   "source": [
    "cCheb = np.linalg.solve(ACheb,y)\n",
    "pCheb = P.Chebyshev(cCheb)\n",
    "pCheb(x) == y"
   ]
  },
  {
   "cell_type": "code",
   "execution_count": 192,
   "metadata": {},
   "outputs": [
    {
     "data": {
      "text/plain": [
       "(array([ 4.,  2., -3.,  1.]), array([ 4,  2, -3,  1]))"
      ]
     },
     "execution_count": 192,
     "metadata": {},
     "output_type": "execute_result"
    }
   ],
   "source": [
    "cLaguerre = np.linalg.solve(ALaguerre,y)\n",
    "pLaguerre = P.Laguerre(cLaguerre)\n",
    "pLaguerre(x),y"
   ]
  },
  {
   "cell_type": "code",
   "execution_count": 193,
   "metadata": {},
   "outputs": [
    {
     "data": {
      "text/plain": [
       "array([ True,  True,  True,  True], dtype=bool)"
      ]
     },
     "execution_count": 193,
     "metadata": {},
     "output_type": "execute_result"
    }
   ],
   "source": [
    "cHermite = np.linalg.solve(AHermite,y)\n",
    "pHermite = P.Hermite(cHermite)\n",
    "pHermite(x) == y"
   ]
  },
  {
   "cell_type": "code",
   "execution_count": 194,
   "metadata": {},
   "outputs": [
    {
     "data": {
      "image/png": "[encoded data removed]",
      "text/plain": [
       "<matplotlib.figure.Figure at 0x222084d1be0>"
      ]
     },
     "metadata": {},
     "output_type": "display_data"
    }
   ],
   "source": [
    "xx = np.linspace(x.min(),x.max(),100)\n",
    "fig, ax = plt.subplots(1,1,figsize = (12,4))\n",
    "ax.plot(xx,pPoly(xx),'b',lw=2,label='pol. usando base potencial')\n",
    "ax.plot(xx,pCheb(xx),'g*',lw=2,label='pol. usando base de Chebyshev')\n",
    "ax.plot(xx,pLaguerre(xx),'y',lw=2,label='pol. usando base de Laguerre')\n",
    "ax.plot(xx,pHermite(xx),'r--',lw=2,label='pol. usando base de Hermite')\n",
    "ax.scatter(x,y,lw = 4,label='datos lagrangianos')\n",
    "ax.legend(loc=3)\n",
    "ax.set_xticks(x)\n",
    "ax.set_ylabel(r\"$y$\",fontsize = 18)\n",
    "ax.set_ylabel(r\"$x$\",fontsize = 18)\n",
    "ax.set_title(\"Polinomio de interpolación usando diferentes bases\")\n",
    "plt.show()"
   ]
  },
  {
   "cell_type": "markdown",
   "metadata": {},
   "source": [
    "Pero hay una manera aún más directa y simple de obtener este polinomio de interpolación, o de ajuste en su caso, expresado en la base de polinomios que se indique. Para ello, cada clase de estos polinomios posee el método de clase `fit` que puede usarse para ello."
   ]
  },
  {
   "cell_type": "code",
   "execution_count": 195,
   "metadata": {},
   "outputs": [
    {
     "data": {
      "text/plain": [
       "Polynomial([-0.875, -8.25 ,  3.375,  6.75 ], [-1.,  2.], [-1.,  1.])"
      ]
     },
     "execution_count": 195,
     "metadata": {},
     "output_type": "execute_result"
    }
   ],
   "source": [
    "pPoly = P.Polynomial.fit(x,y,grado)\n",
    "pPoly"
   ]
  },
  {
   "cell_type": "code",
   "execution_count": 196,
   "metadata": {},
   "outputs": [
    {
     "data": {
      "text/plain": [
       "Chebyshev([ 0.8125, -3.1875,  1.6875,  1.6875], [-1.,  2.], [-1.,  1.])"
      ]
     },
     "execution_count": 196,
     "metadata": {},
     "output_type": "execute_result"
    }
   ],
   "source": [
    "pCheb = P.Chebyshev.fit(x,y,grado)\n",
    "pCheb"
   ]
  },
  {
   "cell_type": "code",
   "execution_count": 197,
   "metadata": {},
   "outputs": [
    {
     "data": {
      "text/plain": [
       "Laguerre([ 203.5, -712.5,  837. , -324. ], [-1.,  2.], [ 0.,  1.])"
      ]
     },
     "execution_count": 197,
     "metadata": {},
     "output_type": "execute_result"
    }
   ],
   "source": [
    "pLaguerre = P.Laguerre.fit(x,y,grado)\n",
    "pLaguerre"
   ]
  },
  {
   "cell_type": "markdown",
   "metadata": {},
   "source": [
    "Nótese además que, aún tratándose en todos los casos del mismo polinomio de interpolación, los coeficientes están dados en cada caso en la base indicada. Por otro lado, el dominio en el que se consideran está adaptado en todos los casos al intervalo dónde se encuentran las abcisas de los puntos de interpolación, mientras que el segundo intervalo sobre el que se transforman puede ser el $[-1,1]$ o bien el $[0,1]$, según convenga, mediante las transformaciones afines $x\\to 2\\frac{x-a}{b-a}-1$, o $x\\to \\frac{x-a}{b-a}$, respectivamente."
   ]
  },
  {
   "cell_type": "markdown",
   "metadata": {},
   "source": [
    "Podemos comprobar ahora hasta qué punto puede influir, en algunos casos, la adecuada transformación del intervalo de partida en un intervalo adecuado a la base de polinomios con el que estemos trabajando."
   ]
  },
  {
   "cell_type": "code",
   "execution_count": 198,
   "metadata": {},
   "outputs": [],
   "source": [
    "x = np.array([1,2,3,4]) # valores nuevos\n",
    "y = np.array([1,3,5,4])\n",
    "\n",
    "a = x.min(); b = x.max()\n",
    "grado = len(x)-1"
   ]
  },
  {
   "cell_type": "code",
   "execution_count": 199,
   "metadata": {},
   "outputs": [
    {
     "data": {
      "text/plain": [
       "array([ 2. , -3.5,  3. , -0.5])"
      ]
     },
     "execution_count": 199,
     "metadata": {},
     "output_type": "execute_result"
    }
   ],
   "source": [
    "A = P.polynomial.polyvander(x,grado)\n",
    "c = np.linalg.solve(A,y)\n",
    "c"
   ]
  },
  {
   "cell_type": "code",
   "execution_count": 200,
   "metadata": {},
   "outputs": [
    {
     "data": {
      "text/plain": [
       "Polynomial([ 2. , -3.5,  3. , -0.5], [-1,  1], [-1,  1])"
      ]
     },
     "execution_count": 200,
     "metadata": {},
     "output_type": "execute_result"
    }
   ],
   "source": [
    "p = P.Polynomial(c)\n",
    "p"
   ]
  },
  {
   "cell_type": "code",
   "execution_count": 201,
   "metadata": {},
   "outputs": [
    {
     "data": {
      "text/plain": [
       "array([ 3.5  , -3.875,  1.5  , -0.125])"
      ]
     },
     "execution_count": 201,
     "metadata": {},
     "output_type": "execute_result"
    }
   ],
   "source": [
    "ACheb = P.chebyshev.chebvander(x,grado)\n",
    "cCheb = np.linalg.solve(ACheb,y)\n",
    "cCheb"
   ]
  },
  {
   "cell_type": "code",
   "execution_count": 202,
   "metadata": {},
   "outputs": [
    {
     "data": {
      "text/plain": [
       "Chebyshev([ 3.5  , -3.875,  1.5  , -0.125], [-1,  1], [-1,  1])"
      ]
     },
     "execution_count": 202,
     "metadata": {},
     "output_type": "execute_result"
    }
   ],
   "source": [
    "pCheb = P.Chebyshev(cCheb)\n",
    "pCheb"
   ]
  },
  {
   "cell_type": "code",
   "execution_count": 203,
   "metadata": {},
   "outputs": [
    {
     "data": {
      "text/plain": [
       "Chebyshev([ 3.34375 ,  1.921875, -0.84375 , -0.421875], [ 1.,  4.], [-1.,  1.])"
      ]
     },
     "execution_count": 203,
     "metadata": {},
     "output_type": "execute_result"
    }
   ],
   "source": [
    "pChebbis = P.Chebyshev.fit(x,y,grado)\n",
    "pChebbis"
   ]
  },
  {
   "cell_type": "code",
   "execution_count": 204,
   "metadata": {},
   "outputs": [
    {
     "data": {
      "image/png": "[encoded data removed]",
      "text/latex": [
       "$$4659.73842414$$"
      ],
      "text/plain": [
       "4659.73842414"
      ]
     },
     "execution_count": 204,
     "metadata": {},
     "output_type": "execute_result"
    }
   ],
   "source": [
    "np.linalg.cond(P.chebyshev.chebvander(x,grado))"
   ]
  },
  {
   "cell_type": "code",
   "execution_count": 205,
   "metadata": {},
   "outputs": [
    {
     "data": {
      "image/png": "[encoded data removed]",
      "text/latex": [
       "$$1.85420334405$$"
      ],
      "text/plain": [
       "1.85420334405"
      ]
     },
     "execution_count": 205,
     "metadata": {},
     "output_type": "execute_result"
    }
   ],
   "source": [
    "np.linalg.cond(P.chebyshev.chebvander(2*(x-a)/(b-a)-1,grado))"
   ]
  },
  {
   "cell_type": "markdown",
   "metadata": {},
   "source": [
    "## Fórmulas de Lagrange y Newton para la interpolación polinómica lagrangiana"
   ]
  },
  {
   "cell_type": "markdown",
   "metadata": {},
   "source": [
    "Vamos a obtener y comparar la fórmulas de Lagrange y la de Newton para la interpolación polinómica lagrangiana. Los nodos de interpolación van a ser $0, 1, 2,\\ldots, 10$, y los guardaremos en una lista `x`. Los valores a interpolar serán números aleatorios comprendidos entre $0$ y $8$, que guardamos en un vector $y$. Se generan a partir de la orden `random()`."
   ]
  },
  {
   "cell_type": "code",
   "execution_count": 206,
   "metadata": {},
   "outputs": [],
   "source": [
    "n = 4\n",
    "xdatos = [i for i in range(n+1)]\n",
    "ydatos = [8*np.random.random() for i in range(n+1)]\n",
    "y = ydatos.copy()"
   ]
  },
  {
   "cell_type": "markdown",
   "metadata": {},
   "source": [
    "A partir de estos valores, el polinomio de interpolación se puede calcular directamente, a partir de las conocidas fórmulas de la base de Lagrange"
   ]
  },
  {
   "cell_type": "markdown",
   "metadata": {},
   "source": [
    "### Fórmula de Lagrange"
   ]
  },
  {
   "cell_type": "code",
   "execution_count": 207,
   "metadata": {
    "collapsed": true
   },
   "outputs": [],
   "source": [
    "t = sp.Symbol('t')"
   ]
  },
  {
   "cell_type": "code",
   "execution_count": 208,
   "metadata": {
    "collapsed": true
   },
   "outputs": [],
   "source": [
    "x = xdatos.copy() # hacemos una copia de las abcisas\n",
    "def pi(i,t):      # y definimos la base de Lagrange correspondiente\n",
    "    return np.product([(t-x[j])/(x[i]-x[j]) for j in range(i)])*np.product([(t-x[j])/(x[i]-x[j]) for j in range(i+1,n+1)])"
   ]
  },
  {
   "cell_type": "code",
   "execution_count": 209,
   "metadata": {},
   "outputs": [],
   "source": [
    "def p(t): # fórmula de Lagrange del polinomio de interpolación\n",
    "    return sum([y[i]*pi(i,t) for i in range(n+1)])\n",
    "p_vec = np.vectorize(p) # junto con su versión vectorizada"
   ]
  },
  {
   "cell_type": "code",
   "execution_count": 210,
   "metadata": {},
   "outputs": [
    {
     "data": {
      "text/plain": [
       "True"
      ]
     },
     "execution_count": 210,
     "metadata": {},
     "output_type": "execute_result"
    }
   ],
   "source": [
    "l=0;  # podríamos ir cambiando el índice 'l' \n",
    "p(x[l]) == y[l]  # para comprobar todos los datos"
   ]
  },
  {
   "cell_type": "code",
   "execution_count": 211,
   "metadata": {},
   "outputs": [
    {
     "data": {
      "text/plain": [
       "array([ True,  True,  True,  True,  True], dtype=bool)"
      ]
     },
     "execution_count": 211,
     "metadata": {},
     "output_type": "execute_result"
    }
   ],
   "source": [
    "p_vec(x) == y # comprobación de que la interpolación de Lagrange ha\n",
    "# sido realizada correctamente en los puntos inicialmente indicados"
   ]
  },
  {
   "cell_type": "code",
   "execution_count": 212,
   "metadata": {},
   "outputs": [
    {
     "data": {
      "text/plain": [
       "array([ 2.85346772,  4.41172611,  7.51845728,  1.94788073,  5.62810485])"
      ]
     },
     "execution_count": 212,
     "metadata": {},
     "output_type": "execute_result"
    }
   ],
   "source": [
    "p_vec(x)"
   ]
  },
  {
   "cell_type": "code",
   "execution_count": 213,
   "metadata": {
    "collapsed": true
   },
   "outputs": [],
   "source": [
    "?p_vec"
   ]
  },
  {
   "cell_type": "code",
   "execution_count": 214,
   "metadata": {},
   "outputs": [
    {
     "name": "stdout",
     "output_type": "stream",
     "text": [
      "2.85346772066\n"
     ]
    }
   ],
   "source": [
    "print(p(x[0]))"
   ]
  },
  {
   "cell_type": "code",
   "execution_count": 215,
   "metadata": {},
   "outputs": [
    {
     "data": {
      "text/plain": [
       "array([ 2.85346772,  4.41172611,  7.51845728,  1.94788073,  5.62810485])"
      ]
     },
     "execution_count": 215,
     "metadata": {},
     "output_type": "execute_result"
    }
   ],
   "source": [
    "p_vec(x)"
   ]
  },
  {
   "cell_type": "code",
   "execution_count": 216,
   "metadata": {},
   "outputs": [
    {
     "data": {
      "image/png": "[encoded data removed]",
      "text/plain": [
       "<matplotlib.figure.Figure at 0x222086c3f60>"
      ]
     },
     "metadata": {},
     "output_type": "display_data"
    }
   ],
   "source": [
    "xx = np.linspace(x[0],x[n],10*n)  # realicemos ahora\n",
    "yy = p_vec(xx)                    # un gráfico\n",
    "plt.plot(xx,yy)     # del polinomio de interpolación\n",
    "plt.scatter(x,y);   # así como de los puntos de partida \n",
    "# Nótense las excesivas oscilaciones en alguno de los casos."
   ]
  },
  {
   "cell_type": "markdown",
   "metadata": {},
   "source": [
    "### Fórmula de Newton"
   ]
  },
  {
   "cell_type": "markdown",
   "metadata": {},
   "source": [
    "Ahora vamos a obtener este mismo polinomio usando la denominada **fórmula de Newton**, que usa las llamadas *diferencias divididas*, que introduciremos más abajo. La idea de la fórmula de Newton consiste en ir obteniendo de manera sistemática polinomios de grado creciente, que vayan incorporando cada vez un dato lagrangiano más.\n",
    "Así pues, si tenemos los datos de interpolación lagrangianos de costumbre $(x_0,f(x_0)\\equiv y_0),(x_1,f(x_1)\\equiv y_1),\\ldots,(x_{n-1},f(x_{n-1})\\equiv y_{n-1}),(x_n,f(x_n)\\equiv y_n)$, con $x_0=a$, $x_n=b$ y $x_i\\in]a,b[$ con $x_i\\neq x_j, \\forall i\\neq j\\in\\{0,1,\\ldots,n\\}$, empezaríamos con el correspondiente polinomio de grado $0$ (constante) que interpola sólo el primer dato $p_0(x)=y_0=f(x_0)\\equiv f[x_0]$ e iremos añadiendo un dato nuevo distinto cada vez, de la siguiente manera \n",
    "$p_1(x)=p_0(x)+(x-x_0)f[x_0,x_1]$, donde $f[x_0,x_1]$ denotará la denominada *diferencia dividida* de la función asociada a los nodos $x_0,x_1$ y cuyo expresión general puede obtenerse sin más que imponer la nueva condición de interpolación \n",
    "$$y_1=f(x_1)=p_1(x_1)=p_0(x_1)+(x_1-x_0)f[x_0,x_1]$$ y despejarlo\n",
    "$$ f[x_0,x_1] = \\frac{f(x_1)-f(x_0)}{x_1-x_0}.$$\n",
    "\n",
    "Así seguiríamos aplicando el mismo procedimiento, de manera recursiva, hasta llegar al polinomio de interpolación solicitado, \n",
    "\n",
    "$$p_n(x)=p_{n-1}(x)+(x-x_0)(x-x_1)\\cdots(x-x_{n-1})f[x_0,x_1,\\ldots,x_n]$$\n",
    "\n",
    "imponiendo la última condición de interpolación $p_n(x_n)=f(x_n)=y_n$ y despejando la última diferencia dividida $f[x_0,x_1,\\ldots,x_n]$, asociada a todos los nodos $x_0,x_1,\\ldots,x_n$.\n",
    "\n",
    "No obstante, más abajo veremos otra manera más automatizada de calcular estas y otras diferencias divididas a partir de una tabla estructurada."
   ]
  },
  {
   "cell_type": "code",
   "execution_count": 217,
   "metadata": {},
   "outputs": [],
   "source": [
    "x  = sp.Symbol('x')\n",
    "f  = sp.Symbol('f')\n",
    "x0 = sp.symbols('x0')\n",
    "p0 = f(x0) # D0 = f(x0) = f[x0] será la primera diferencia dividida "
   ]
  },
  {
   "cell_type": "code",
   "execution_count": 218,
   "metadata": {},
   "outputs": [
    {
     "data": {
      "image/png": "[encoded data removed]",
      "text/latex": [
       "$$\\frac{1}{x_{0} - x_{1}} \\left(f{\\left (x_{0} \\right )} - f{\\left (x_{1} \\right )}\\right)$$"
      ],
      "text/plain": [
       "f(x₀) - f(x₁)\n",
       "─────────────\n",
       "   x₀ - x₁   "
      ]
     },
     "execution_count": 218,
     "metadata": {},
     "output_type": "execute_result"
    }
   ],
   "source": [
    "x1 = sp.symbols('x1')\n",
    "D1 = sp.Symbol('D1') # D1 será otra diferencia dividida asociada a  \n",
    "p1 = p0 + (x-x0)*D1  # los nodos de interpolación x0 y x1\n",
    "sol1 = sp.solve(p1.subs({x:x1})-f(x1),D1) # se notará f[x0,x1]\n",
    "sol1[0]"
   ]
  },
  {
   "cell_type": "code",
   "execution_count": 219,
   "metadata": {},
   "outputs": [
    {
     "data": {
      "image/png": "[encoded data removed]",
      "text/latex": [
       "$$\\frac{D_{1} x_{0} - D_{1} x_{2} - f{\\left (x_{0} \\right )} + f{\\left (x_{2} \\right )}}{x_{0} x_{1} - x_{0} x_{2} - x_{1} x_{2} + x_{2}^{2}}$$"
      ],
      "text/plain": [
       "D₁⋅x₀ - D₁⋅x₂ - f(x₀) + f(x₂)\n",
       "─────────────────────────────\n",
       "                           2 \n",
       " x₀⋅x₁ - x₀⋅x₂ - x₁⋅x₂ + x₂  "
      ]
     },
     "execution_count": 219,
     "metadata": {},
     "output_type": "execute_result"
    }
   ],
   "source": [
    "x2 = sp.symbols('x2')\n",
    "D2 = sp.Symbol('D2') # D2 será otra diferencia dividida asociada a  \n",
    "p2 = p1 + (x-x0)*(x-x1)*D2  # los nodos de interpolación x0, x1 y x2\n",
    "sol2 = sp.solve(p2.subs({x:x2})-f(x2),D2) # se notará f[x0,x1,x2]\n",
    "sol2[0]"
   ]
  },
  {
   "cell_type": "code",
   "execution_count": 220,
   "metadata": {},
   "outputs": [
    {
     "data": {
      "image/png": "[encoded data removed]",
      "text/latex": [
       "$$\\frac{1}{\\left(x_{0} - x_{1}\\right) \\left(x_{0} x_{1} - x_{0} x_{2} - x_{1} x_{2} + x_{2}^{2}\\right)} \\left(x_{0} \\left(f{\\left (x_{0} \\right )} - f{\\left (x_{1} \\right )}\\right) - x_{2} \\left(f{\\left (x_{0} \\right )} - f{\\left (x_{1} \\right )}\\right) + \\left(x_{0} - x_{1}\\right) \\left(- f{\\left (x_{0} \\right )} + f{\\left (x_{2} \\right )}\\right)\\right)$$"
      ],
      "text/plain": [
       "x₀⋅(f(x₀) - f(x₁)) - x₂⋅(f(x₀) - f(x₁)) + (x₀ - x₁)⋅(-f(x₀) + f(x₂))\n",
       "────────────────────────────────────────────────────────────────────\n",
       "                        ⎛                          2⎞               \n",
       "              (x₀ - x₁)⋅⎝x₀⋅x₁ - x₀⋅x₂ - x₁⋅x₂ + x₂ ⎠               "
      ]
     },
     "execution_count": 220,
     "metadata": {},
     "output_type": "execute_result"
    }
   ],
   "source": [
    "sol2[0].subs({D1:sol1[0]}).simplify()"
   ]
  },
  {
   "cell_type": "markdown",
   "metadata": {},
   "source": [
    "Podríamos seguir así, pero vemos la necesidad de calcular de una manera más sistemática estas *diferencias divididas*, que también podemos notar $\\nabla^{k}y_i,$ con $k,i \\in \\{0,1,\\ldots, n \\}$, \n",
    "a partir de la siguiente tabla de valores: \n",
    "\n",
    "$\\nabla^{0} y_i := y_i\\equiv f[x_i], \\; i = 0,1,\\ldots n$\n",
    "\n",
    "$\\nabla y_i\\equiv \\nabla^{1} y_i:= \\frac{y_i-y_0}{x_i-x_0}\\equiv f[x_0,x_i], \\; i = 1,\\ldots n$\n",
    "\n",
    "$\\nabla^{2} y_i:= \\frac{\\nabla y_i-\\nabla y_1}{x_i-x_1}, \\; i = 2,\\ldots n$\n",
    "\n",
    "$\\vdots$\n",
    "\n",
    "$\\nabla^{n} y_n:= \\frac{\\nabla^{n-1} y_n-\\nabla^{n-1} y_{n-1}}{x_n-x_{n-1}}$"
   ]
  },
  {
   "cell_type": "code",
   "execution_count": 221,
   "metadata": {},
   "outputs": [
    {
     "data": {
      "image/png": "[encoded data removed]",
      "text/latex": [
       "$$\\left [ 0, \\quad 1, \\quad 2, \\quad 3, \\quad 4\\right ]$$"
      ],
      "text/plain": [
       "[0, 1, 2, 3, 4]"
      ]
     },
     "execution_count": 221,
     "metadata": {},
     "output_type": "execute_result"
    }
   ],
   "source": [
    "xdatos"
   ]
  },
  {
   "cell_type": "code",
   "execution_count": 222,
   "metadata": {},
   "outputs": [
    {
     "data": {
      "image/png": "[encoded data removed]",
      "text/latex": [
       "$$\\left ( 4, \\quad 5\\right )$$"
      ],
      "text/plain": [
       "(4, 5)"
      ]
     },
     "execution_count": 222,
     "metadata": {},
     "output_type": "execute_result"
    }
   ],
   "source": [
    "a = ydatos.copy()  \n",
    "x = xdatos.copy() \n",
    "m = len(a)\n",
    "n = m-1\n",
    "(n,m)"
   ]
  },
  {
   "cell_type": "code",
   "execution_count": 223,
   "metadata": {},
   "outputs": [
    {
     "data": {
      "image/png": "[encoded data removed]",
      "text/latex": [
       "$$\\left [ 2.853467720661401, \\quad 1.558258384491567, \\quad 0.7742363927863631, \\quad -1.7042967498265522, \\quad 1.173078703013303\\right ]$$"
      ],
      "text/plain": [
       "[2.853467720661401, 1.558258384491567, 0.7742363927863631, -1.7042967498265522\n",
       ", 1.173078703013303]"
      ]
     },
     "execution_count": 223,
     "metadata": {},
     "output_type": "execute_result"
    }
   ],
   "source": [
    "for k in range(1,m):     # veremos cómo programar su cálculo\n",
    "    for i in range(k,m): # en un solo array almacenando finalmente\n",
    "        a[i] = (a[i]-a[k-1])/(x[i]-x[k-1])\n",
    "a   # sólo los que realmente se necesitan para la fórmula de Newton"
   ]
  },
  {
   "cell_type": "code",
   "execution_count": 224,
   "metadata": {},
   "outputs": [],
   "source": [
    "x = sp.Symbol('x')"
   ]
  },
  {
   "cell_type": "code",
   "execution_count": 225,
   "metadata": {},
   "outputs": [
    {
     "name": "stdout",
     "output_type": "stream",
     "text": [
      "x*((x - 1)*((x - 2)*((x - 3)*(1.1730787030133*x - 3.51923610903991) - 1.70429674982655) + 0.774236392786363) + 1.55825838449157) + 2.8534677206614\n"
     ]
    }
   ],
   "source": [
    "p = a[n]\n",
    "for k in range(n+1):\n",
    "    p = a[n-k]+(x-xdatos[n-k])*p\n",
    "print(p)"
   ]
  },
  {
   "cell_type": "code",
   "execution_count": 226,
   "metadata": {},
   "outputs": [
    {
     "data": {
      "image/png": "[encoded data removed]",
      "text/latex": [
       "$$\\left [ 0, \\quad 1, \\quad 2, \\quad 3, \\quad 4\\right ]$$"
      ],
      "text/plain": [
       "[0, 1, 2, 3, 4]"
      ]
     },
     "execution_count": 226,
     "metadata": {},
     "output_type": "execute_result"
    }
   ],
   "source": [
    "xdatos"
   ]
  },
  {
   "cell_type": "code",
   "execution_count": 227,
   "metadata": {},
   "outputs": [
    {
     "data": {
      "image/png": "[encoded data removed]",
      "text/latex": [
       "$$\\left ( 5.62810484854604, \\quad 5.628104848546047\\right )$$"
      ],
      "text/plain": [
       "(5.62810484854604, 5.628104848546047)"
      ]
     },
     "execution_count": 227,
     "metadata": {},
     "output_type": "execute_result"
    }
   ],
   "source": [
    "k=4\n",
    "p.subs({x:xdatos[k]}),ydatos[k]"
   ]
  },
  {
   "cell_type": "code",
   "execution_count": 228,
   "metadata": {},
   "outputs": [
    {
     "data": {
      "image/png": "[encoded data removed]",
      "text/latex": [
       "$$1.1730787030133 x^{5} - 10.5577083271197 x^{4} + 32.3149856375592 x^{3} - 39.8629427752528 x^{2} + 18.4908451462916 x + 2.8534677206614$$"
      ],
      "text/plain": [
       "                 5                     4                     3                \n",
       "1.1730787030133⋅x  - 10.5577083271197⋅x  + 32.3149856375592⋅x  - 39.8629427752\n",
       "\n",
       "     2                                       \n",
       "528⋅x  + 18.4908451462916⋅x + 2.8534677206614"
      ]
     },
     "execution_count": 228,
     "metadata": {},
     "output_type": "execute_result"
    }
   ],
   "source": [
    "sp.expand(p)"
   ]
  },
  {
   "cell_type": "code",
   "execution_count": 229,
   "metadata": {
    "collapsed": true
   },
   "outputs": [],
   "source": [
    "pfunc = lambda z: p.subs({x:z})\n",
    "pvec = np.vectorize(pfunc)"
   ]
  },
  {
   "cell_type": "code",
   "execution_count": 230,
   "metadata": {},
   "outputs": [
    {
     "data": {
      "image/png": "[encoded data removed]",
      "text/latex": [
       "$$2.8534677206614$$"
      ],
      "text/plain": [
       "2.85346772066140"
      ]
     },
     "execution_count": 230,
     "metadata": {},
     "output_type": "execute_result"
    }
   ],
   "source": [
    "pfunc(0)"
   ]
  },
  {
   "cell_type": "code",
   "execution_count": 231,
   "metadata": {},
   "outputs": [
    {
     "data": {
      "image/png": "[encoded data removed]",
      "text/latex": [
       "$$8.88178419700125 \\cdot 10^{-16}$$"
      ],
      "text/plain": [
       "8.88178419700125e-16"
      ]
     },
     "execution_count": 231,
     "metadata": {},
     "output_type": "execute_result"
    }
   ],
   "source": [
    "l=3  # podemos ahora ir variando este índice para ir comprobando\n",
    "pfunc(xdatos[l]) - ydatos[l]  # uno a uno los datos interpolados"
   ]
  },
  {
   "cell_type": "code",
   "execution_count": 232,
   "metadata": {},
   "outputs": [
    {
     "data": {
      "text/plain": [
       "array([0, 0, 0, 8.88178419700125e-16, -2.66453525910038e-15], dtype=object)"
      ]
     },
     "execution_count": 232,
     "metadata": {},
     "output_type": "execute_result"
    }
   ],
   "source": [
    "pvec(xdatos)-ydatos  # o todos a la vez usando la versión vectorizada"
   ]
  },
  {
   "cell_type": "code",
   "execution_count": 233,
   "metadata": {},
   "outputs": [
    {
     "data": {
      "text/plain": [
       "array([0, 0, 0, 0, 0])"
      ]
     },
     "execution_count": 233,
     "metadata": {},
     "output_type": "execute_result"
    }
   ],
   "source": [
    "chop_vec(pvec(xdatos)-ydatos)"
   ]
  },
  {
   "cell_type": "code",
   "execution_count": 234,
   "metadata": {},
   "outputs": [
    {
     "data": {
      "text/plain": [
       "array([2.85346772066140, 4.41172610515297, 7.51845727521726,\n",
       "       1.94788073189497, 5.62810484854604], dtype=object)"
      ]
     },
     "execution_count": 234,
     "metadata": {},
     "output_type": "execute_result"
    }
   ],
   "source": [
    "# t1 = time.clock()\n",
    "pvec(xdatos)\n",
    "# t2 = time.clock()\n",
    "# t2 - t1"
   ]
  },
  {
   "cell_type": "markdown",
   "metadata": {},
   "source": [
    "### Método de Neville"
   ]
  },
  {
   "cell_type": "code",
   "execution_count": 235,
   "metadata": {},
   "outputs": [],
   "source": [
    "y = ydatos.copy()\n",
    "for k in range(1,m):\n",
    "    for i in range(m-k):\n",
    "        y[i]=((x-xdatos[i+k]*y[i])+(xdatos[i]-x)*y[i+1])/(xdatos[i]-xdatos[i+k])"
   ]
  },
  {
   "cell_type": "markdown",
   "metadata": {},
   "source": [
    "### Comportamiento asintótico de la interpolación polinómica. Ejemplo de Runge"
   ]
  },
  {
   "cell_type": "markdown",
   "metadata": {},
   "source": [
    "¿Pero qué ocurre ahora cuando se aumenta el número de nodos de interpolación? Supongamos que en el intervalo $[-5,5]$ elegimos nodos uniformemente distribuidos en un número creciente y que interpolamos la función $f(x)=\\frac{1}{x^2+1}$ en esos nodos. Vamos a medir la distancia entre esta función y su polinomio de interpolación en el punto medio de los dos primeros nodos. Haremos uso de la expresión de Newton dado su  menor coste computacional."
   ]
  },
  {
   "cell_type": "markdown",
   "metadata": {},
   "source": [
    "Comenzaremos indicando el procedimiento que debe seguirse para representar el polinomio de interpolación de grado menor o igual que $10$, por ejemplo, y luego calculamos los valores en el punto medio de los dos primeros nodos de los errores de interpolación asociados a los polinomos de grados $10, 20,\\ldots , 80$, a fin de apreciar el comportamiento."
   ]
  },
  {
   "cell_type": "code",
   "execution_count": 236,
   "metadata": {},
   "outputs": [],
   "source": [
    "def fRunge(x):   # primero definimos la función con la que vamos\n",
    "    \"\"\"función 1/(x**2+1) \"\"\"\n",
    "    return 1/(x**2+1)   # a efectuar los cálculos en este caso\n",
    "fRunge_vec = np.vectorize(fRunge) # y la vectorizamos de la manera habitual"
   ]
  },
  {
   "cell_type": "markdown",
   "metadata": {},
   "source": [
    "Y formamos las listas de nodos (uniformemente espaciados en $[-5,5]$) y de valores de $f(z)$ que deben ser interpolados. En ellos calculamos las diferencias divididas y formamos el polinomio de interpolación."
   ]
  },
  {
   "cell_type": "code",
   "execution_count": 237,
   "metadata": {
    "collapsed": true
   },
   "outputs": [],
   "source": [
    "a = -5; b = 5"
   ]
  },
  {
   "cell_type": "code",
   "execution_count": 238,
   "metadata": {},
   "outputs": [],
   "source": [
    "n = 10;\n",
    "x = [a + i*(b-a)/n for i in range(n+1)]"
   ]
  },
  {
   "cell_type": "code",
   "execution_count": 239,
   "metadata": {},
   "outputs": [
    {
     "data": {
      "text/plain": [
       "array([ 0.03846154,  0.05882353,  0.1       ,  0.2       ,  0.5       ,\n",
       "        1.        ,  0.5       ,  0.2       ,  0.1       ,  0.05882353,\n",
       "        0.03846154])"
      ]
     },
     "execution_count": 239,
     "metadata": {},
     "output_type": "execute_result"
    }
   ],
   "source": [
    "fRunge_vec(x)"
   ]
  },
  {
   "cell_type": "code",
   "execution_count": 240,
   "metadata": {
    "collapsed": true
   },
   "outputs": [],
   "source": [
    "def ejemplo_Runge(n):\n",
    "    x = [a + i*(b-a)/n for i in range(n+1)]\n",
    "    p = P.Polynomial.fit(x,fRunge_vec(x),n)\n",
    "    return x,p"
   ]
  },
  {
   "cell_type": "code",
   "execution_count": 241,
   "metadata": {},
   "outputs": [
    {
     "data": {
      "text/plain": [
       "([-5.0, 0.0, 5.0],\n",
       " Polynomial([  1.00000000e+00,  -5.64951819e-17,  -9.61538462e-01], [-5.,  5.], [-1.,  1.]))"
      ]
     },
     "execution_count": 241,
     "metadata": {},
     "output_type": "execute_result"
    }
   ],
   "source": [
    "ejemplo_Runge(2)"
   ]
  },
  {
   "cell_type": "code",
   "execution_count": 242,
   "metadata": {},
   "outputs": [
    {
     "data": {
      "image/png": "[encoded data removed]",
      "text/latex": [
       "$$\\left [ -5.0, \\quad -4.0, \\quad -3.0, \\quad -2.0, \\quad -1.0, \\quad 0.0, \\quad 1.0, \\quad 2.0, \\quad 3.0, \\quad 4.0, \\quad 5.0\\right ]$$"
      ],
      "text/plain": [
       "[-5.0, -4.0, -3.0, -2.0, -1.0, 0.0, 1.0, 2.0, 3.0, 4.0, 5.0]"
      ]
     },
     "execution_count": 242,
     "metadata": {},
     "output_type": "execute_result"
    }
   ],
   "source": [
    "x"
   ]
  },
  {
   "cell_type": "code",
   "execution_count": 243,
   "metadata": {},
   "outputs": [
    {
     "data": {
      "image/png": "[encoded data removed]",
      "text/plain": [
       "<matplotlib.figure.Figure at 0x22208505630>"
      ]
     },
     "metadata": {},
     "output_type": "display_data"
    }
   ],
   "source": [
    "xx = np.linspace(a,b,250)\n",
    "fig,ax = plt.subplots(1,1,figsize = (8,4))\n",
    "ax.plot(xx,fRunge_vec(xx),'k',lw=2,label='función de Runge')\n",
    "# ax.plot(x,f_vec(x),'ro') # parecido a scatterplot\n",
    "\n",
    "# interpolaciones de distinto orden de la función\n",
    "n = 7; x,p = ejemplo_Runge(n)\n",
    "ax.plot(xx,p(xx),'b',label='interpolación de orden %d ' %n)\n",
    "n = 13; x,p = ejemplo_Runge(n)\n",
    "ax.plot(xx,p(xx),'r',label='interpolación de orden %d ' %n)\n",
    "n = 15; x,p = ejemplo_Runge(n)\n",
    "ax.plot(xx,p(xx),'g',label='interpolación de orden %d ' %n)\n",
    "ax.legend(loc=8)\n",
    "ax.set_xlim(-5.1,5.1)\n",
    "ax.set_ylim(-1.,2.)\n",
    "ax.set_xticks(range(a,b+1))\n",
    "ax.set_ylabel('$y$',fontsize=18)\n",
    "ax.set_ylabel('$x$',fontsize=18);"
   ]
  },
  {
   "cell_type": "markdown",
   "metadata": {},
   "source": [
    "#### Nodos de Chebyshev"
   ]
  },
  {
   "cell_type": "markdown",
   "metadata": {},
   "source": [
    "En el error de la interpolación polinómica lagrangiana para una función suficientemente suave intervienen dos elementos: de un lado, la norma del máximo de una cierta derivada de la función, y la norma del polinomio obtenido al multiplicar los binomios $t-x[i]$ y dividir por el factorial adecuado, del otro. Ésta última se minimiza cuando los nodos de interpolación son los ceros del correspondiente polinomio ortogonal de Chebyshev. Los ceros de los polinomios de Chebyshev de grado mayor o igual que cero, tomados como nodos de interpolación, permiten construir polinomios de interpolación de grado creciente. La continuidad de la primera derivada de la función interpolada garantiza la convergencia a cero del error de interpolación. Sin embargo, la continuidad no es, en general, suficiente."
   ]
  },
  {
   "cell_type": "markdown",
   "metadata": {},
   "source": [
    "Generemos, por ejemplo, los $11$ ceros del polinomio de Chebyshev de grado $11$ correspondientes al intervalo $[-5,5]$."
   ]
  },
  {
   "cell_type": "code",
   "execution_count": 244,
   "metadata": {},
   "outputs": [
    {
     "data": {
      "image/png": "[encoded data removed]",
      "text/latex": [
       "$$\\left ( -5, \\quad 5\\right )$$"
      ],
      "text/plain": [
       "(-5, 5)"
      ]
     },
     "execution_count": 244,
     "metadata": {},
     "output_type": "execute_result"
    }
   ],
   "source": [
    "a,b"
   ]
  },
  {
   "cell_type": "code",
   "execution_count": 245,
   "metadata": {},
   "outputs": [],
   "source": [
    "m = 11;\n",
    "xChebyshev = np.array([(a+b)/2 + 1/2*(a-b)*np.cos(((2*i-1)*np.pi)/(2*m)) for i in range(1,m+1)])"
   ]
  },
  {
   "cell_type": "code",
   "execution_count": 246,
   "metadata": {},
   "outputs": [
    {
     "data": {
      "image/png": "[encoded data removed]",
      "text/latex": [
       "$$\\left ( -4.9491072094, \\quad 4.9491072094\\right )$$"
      ],
      "text/plain": [
       "(-4.9491072094, 4.9491072094)"
      ]
     },
     "execution_count": 246,
     "metadata": {},
     "output_type": "execute_result"
    }
   ],
   "source": [
    "xChebyshev[0],xChebyshev[-1]"
   ]
  },
  {
   "cell_type": "code",
   "execution_count": 247,
   "metadata": {},
   "outputs": [],
   "source": [
    "a = xChebyshev.min()\n",
    "b = xChebyshev.max()"
   ]
  },
  {
   "cell_type": "code",
   "execution_count": 248,
   "metadata": {},
   "outputs": [
    {
     "data": {
      "text/plain": [
       "array([ 0.03922544,  0.04611321,  0.06544959,  0.12037588,  0.33508349,\n",
       "        1.        ,  0.33508349,  0.12037588,  0.06544959,  0.04611321,\n",
       "        0.03922544])"
      ]
     },
     "execution_count": 248,
     "metadata": {},
     "output_type": "execute_result"
    }
   ],
   "source": [
    "y = fRunge_vec(xChebyshev)\n",
    "y"
   ]
  },
  {
   "cell_type": "code",
   "execution_count": 249,
   "metadata": {},
   "outputs": [],
   "source": [
    "t = sp.Symbol('t')\n",
    "x = xChebyshev.copy() # hacemos una copia de las abcisas\n",
    "n = len(x)-1\n",
    "def pi(i,t):      # y definimos la base de Lagrange correspondiente\n",
    "    return np.product([(t-x[j])/(x[i]-x[j]) for j in range(i)])*np.product([(t-x[j])/(x[i]-x[j]) for j in range(i+1,n+1)])"
   ]
  },
  {
   "cell_type": "code",
   "execution_count": 250,
   "metadata": {},
   "outputs": [],
   "source": [
    "def p(t): # fórmula de Lagrange del polinomio de interpolación\n",
    "    return sum([y[i]*pi(i,t) for i in range(n+1)])\n",
    "p_vec = np.vectorize(p) # junto con su versión vectorizada"
   ]
  },
  {
   "cell_type": "code",
   "execution_count": 251,
   "metadata": {},
   "outputs": [
    {
     "data": {
      "image/png": "[encoded data removed]",
      "text/latex": [
       "$$\\left ( 0.0392254354563, \\quad 0.0392254354563\\right )$$"
      ],
      "text/plain": [
       "(0.0392254354563, 0.0392254354563)"
      ]
     },
     "execution_count": 251,
     "metadata": {},
     "output_type": "execute_result"
    }
   ],
   "source": [
    "p(a),p(b)"
   ]
  },
  {
   "cell_type": "code",
   "execution_count": 252,
   "metadata": {},
   "outputs": [
    {
     "data": {
      "text/plain": [
       "array([ True,  True,  True,  True,  True,  True,  True,  True,  True,\n",
       "        True,  True], dtype=bool)"
      ]
     },
     "execution_count": 252,
     "metadata": {},
     "output_type": "execute_result"
    }
   ],
   "source": [
    "p_vec(xChebyshev) == y"
   ]
  },
  {
   "cell_type": "code",
   "execution_count": 253,
   "metadata": {},
   "outputs": [
    {
     "data": {
      "image/png": "[encoded data removed]",
      "text/plain": [
       "<matplotlib.figure.Figure at 0x2220929bf28>"
      ]
     },
     "metadata": {},
     "output_type": "display_data"
    }
   ],
   "source": [
    "xx = np.linspace(x[0],x[n],10*n)  # realicemos ahora\n",
    "yy = p_vec(xx)                    # un gráfico\n",
    "\n",
    "fig, ax = plt.subplots()\n",
    "ax.plot(xx,fRunge_vec(xx), label = \"y = f(x)\"); # gráfica de la función\n",
    "ax.plot(xx, yy, label = \"y = p(x)\"); # polinomio de interpolación \n",
    "ax.plot(x,y,'ro') # parecido a scatterplot\n",
    "ax.legend();\n",
    "# ax.set_xlim(-5.1,5.1)\n",
    "ax.set_ylim(-0.1,1.1)\n",
    "ax.set_xlabel('x')\n",
    "ax.set_ylabel('y')\n",
    "ax.set_title('Gráficas de la función y del polinomio interpolador con nodos de Chebyshev');"
   ]
  },
  {
   "cell_type": "markdown",
   "metadata": {},
   "source": [
    "# Interpolación polinómica de Taylor"
   ]
  },
  {
   "cell_type": "code",
   "execution_count": 254,
   "metadata": {},
   "outputs": [],
   "source": [
    "from math import factorial\n",
    "?factorial"
   ]
  },
  {
   "cell_type": "code",
   "execution_count": 255,
   "metadata": {},
   "outputs": [
    {
     "data": {
      "image/png": "[encoded data removed]",
      "text/latex": [
       "$$\\left ( 1, \\quad 120\\right )$$"
      ],
      "text/plain": [
       "(1, 120)"
      ]
     },
     "execution_count": 255,
     "metadata": {},
     "output_type": "execute_result"
    }
   ],
   "source": [
    "factorial(0),factorial(5)"
   ]
  },
  {
   "cell_type": "code",
   "execution_count": 256,
   "metadata": {
    "collapsed": true
   },
   "outputs": [],
   "source": [
    "x = sp.Symbol('x')\n",
    "def f(x):\n",
    "    \"\"\"exp(x)/(6*x**2+5)\"\"\"\n",
    "    return sp.exp(x)/(6*x**2+5)\n",
    "f_vec = np.vectorize(f)"
   ]
  },
  {
   "cell_type": "code",
   "execution_count": 257,
   "metadata": {},
   "outputs": [
    {
     "data": {
      "image/png": "[encoded data removed]",
      "text/latex": [
       "$$\\frac{529 x^{4}}{3000} - \\frac{31 x^{3}}{150} - \\frac{7 x^{2}}{50} + \\frac{x}{5} + \\frac{1}{5}$$"
      ],
      "text/plain": [
       "     4       3      2        \n",
       "529⋅x    31⋅x    7⋅x    x   1\n",
       "────── - ───── - ──── + ─ + ─\n",
       " 3000     150     50    5   5"
      ]
     },
     "execution_count": 257,
     "metadata": {},
     "output_type": "execute_result"
    }
   ],
   "source": [
    "n = 5; x0 = 0\n",
    "sum([sp.diff(f(x),x,k).subs({x:x0})*(x-x0)**k/factorial(k) for k in range(n)])"
   ]
  },
  {
   "cell_type": "code",
   "execution_count": 258,
   "metadata": {},
   "outputs": [
    {
     "data": {
      "image/png": "[encoded data removed]",
      "text/latex": [
       "$$\\left ( - \\frac{12 x e^{x}}{\\left(6 x^{2} + 5\\right)^{2}} + \\frac{e^{x}}{6 x^{2} + 5}, \\quad \\frac{\\left(6 x^{2} - 12 x + 5\\right) e^{x}}{\\left(6 x^{2} + 5\\right)^{2}}\\right )$$"
      ],
      "text/plain": [
       "⎛          x         x     ⎛   2           ⎞  x⎞\n",
       "⎜    12⋅x⋅ℯ         ℯ      ⎝6⋅x  - 12⋅x + 5⎠⋅ℯ ⎟\n",
       "⎜- ─────────── + ────────, ────────────────────⎟\n",
       "⎜            2      2                    2     ⎟\n",
       "⎜  ⎛   2    ⎞    6⋅x  + 5      ⎛   2    ⎞      ⎟\n",
       "⎝  ⎝6⋅x  + 5⎠                  ⎝6⋅x  + 5⎠      ⎠"
      ]
     },
     "execution_count": 258,
     "metadata": {},
     "output_type": "execute_result"
    }
   ],
   "source": [
    "sp.diff(f(x),x),sp.simplify(sp.diff(f(x),x))"
   ]
  },
  {
   "cell_type": "code",
   "execution_count": 259,
   "metadata": {},
   "outputs": [
    {
     "data": {
      "image/png": "[encoded data removed]",
      "text/latex": [
       "$$\\left ( \\frac{e^{x}}{6 x^{2} + 5} \\left(\\frac{288 x^{2}}{\\left(6 x^{2} + 5\\right)^{2}} - \\frac{24 x}{6 x^{2} + 5} + 1 - \\frac{12}{6 x^{2} + 5}\\right), \\quad \\frac{e^{x}}{\\left(6 x^{2} + 5\\right)^{3}} \\left(288 x^{2} - 12 \\left(2 x + 1\\right) \\left(6 x^{2} + 5\\right) + \\left(6 x^{2} + 5\\right)^{2}\\right)\\right )$$"
      ],
      "text/plain": [
       "⎛⎛        2                            ⎞                                      \n",
       "⎜⎜   288⋅x        24⋅x            12   ⎟  x                                   \n",
       "⎜⎜─────────── - ──────── + 1 - ────────⎟⋅ℯ                                    \n",
       "⎜⎜          2      2              2    ⎟     ⎛                                \n",
       "⎜⎜⎛   2    ⎞    6⋅x  + 5       6⋅x  + 5⎟     ⎜     2                ⎛   2    ⎞\n",
       "⎜⎝⎝6⋅x  + 5⎠                           ⎠     ⎝288⋅x  - 12⋅(2⋅x + 1)⋅⎝6⋅x  + 5⎠\n",
       "⎜──────────────────────────────────────────, ─────────────────────────────────\n",
       "⎜                    2                                                     3  \n",
       "⎜                 6⋅x  + 5                                       ⎛   2    ⎞   \n",
       "⎝                                                                ⎝6⋅x  + 5⎠   \n",
       "\n",
       "                  ⎞\n",
       "                  ⎟\n",
       "                  ⎟\n",
       "             2⎞   ⎟\n",
       "   ⎛   2    ⎞ ⎟  x⎟\n",
       " + ⎝6⋅x  + 5⎠ ⎠⋅ℯ ⎟\n",
       "──────────────────⎟\n",
       "                  ⎟\n",
       "                  ⎟\n",
       "                  ⎠"
      ]
     },
     "execution_count": 259,
     "metadata": {},
     "output_type": "execute_result"
    }
   ],
   "source": [
    "sp.diff(f(x),x,2),sp.simplify(sp.diff(f(x),x,2))"
   ]
  },
  {
   "cell_type": "code",
   "execution_count": 260,
   "metadata": {},
   "outputs": [
    {
     "data": {
      "image/png": "[encoded data removed]",
      "text/latex": [
       "$$\\frac{1}{\\left(x^{2} + 1\\right)^{11}} \\left(3715891200 x^{10} - 8360755200 x^{8} \\left(x^{2} + 1\\right) + 6502809600 x^{6} \\left(x^{2} + 1\\right)^{2} - 2032128000 x^{4} \\left(x^{2} + 1\\right)^{3} + 217728000 x^{2} \\left(x^{2} + 1\\right)^{4} - 3628800 \\left(x^{2} + 1\\right)^{5}\\right)$$"
      ],
      "text/plain": [
       "        ⎛                                              2                  3   \n",
       "        ⎜      10         8 ⎛ 2    ⎞         6 ⎛ 2    ⎞         4 ⎛ 2    ⎞    \n",
       "3628800⋅⎝1024⋅x   - 2304⋅x ⋅⎝x  + 1⎠ + 1792⋅x ⋅⎝x  + 1⎠  - 560⋅x ⋅⎝x  + 1⎠  + \n",
       "──────────────────────────────────────────────────────────────────────────────\n",
       "                                                        11                    \n",
       "                                                ⎛ 2    ⎞                      \n",
       "                                                ⎝x  + 1⎠                      \n",
       "\n",
       "              4           5⎞\n",
       "    2 ⎛ 2    ⎞    ⎛ 2    ⎞ ⎟\n",
       "60⋅x ⋅⎝x  + 1⎠  - ⎝x  + 1⎠ ⎠\n",
       "────────────────────────────\n",
       "                            \n",
       "                            \n",
       "                            "
      ]
     },
     "execution_count": 260,
     "metadata": {},
     "output_type": "execute_result"
    }
   ],
   "source": [
    "sp.diff(fRunge(x),x,10).simplify()"
   ]
  },
  {
   "cell_type": "code",
   "execution_count": 261,
   "metadata": {},
   "outputs": [],
   "source": [
    "?f"
   ]
  },
  {
   "cell_type": "code",
   "execution_count": 262,
   "metadata": {
    "collapsed": true
   },
   "outputs": [],
   "source": [
    "from sympy import series"
   ]
  },
  {
   "cell_type": "code",
   "execution_count": null,
   "metadata": {
    "collapsed": true
   },
   "outputs": [],
   "source": [
    "?series"
   ]
  },
  {
   "cell_type": "code",
   "execution_count": null,
   "metadata": {
    "collapsed": true
   },
   "outputs": [],
   "source": [
    "?f"
   ]
  },
  {
   "cell_type": "code",
   "execution_count": 263,
   "metadata": {},
   "outputs": [],
   "source": [
    "x = sp.Symbol('x')"
   ]
  },
  {
   "cell_type": "code",
   "execution_count": 264,
   "metadata": {},
   "outputs": [
    {
     "data": {
      "image/png": "[encoded data removed]",
      "text/latex": [
       "$$\\frac{x}{5} + \\frac{1}{5}$$"
      ],
      "text/plain": [
       "x   1\n",
       "─ + ─\n",
       "5   5"
      ]
     },
     "execution_count": 264,
     "metadata": {},
     "output_type": "execute_result"
    }
   ],
   "source": [
    "p2 = series(f(x),x,0, n=2).removeO()\n",
    "p2"
   ]
  },
  {
   "cell_type": "code",
   "execution_count": 265,
   "metadata": {},
   "outputs": [
    {
     "data": {
      "image/png": "[encoded data removed]",
      "text/latex": [
       "$$\\left ( - \\frac{7 x^{2}}{50} + \\frac{x}{5} + \\frac{1}{5}, \\quad -2.23929126194444\\right )$$"
      ],
      "text/plain": [
       "⎛     2                           ⎞\n",
       "⎜  7⋅x    x   1                   ⎟\n",
       "⎜- ──── + ─ + ─, -2.23929126194444⎟\n",
       "⎝   50    5   5                   ⎠"
      ]
     },
     "execution_count": 265,
     "metadata": {},
     "output_type": "execute_result"
    }
   ],
   "source": [
    "p3 = series(f(x),x,0, n=3).removeO()\n",
    "p3,p3.subs({x:b})"
   ]
  },
  {
   "cell_type": "code",
   "execution_count": 266,
   "metadata": {},
   "outputs": [
    {
     "data": {
      "image/png": "[encoded data removed]",
      "text/latex": [
       "$$\\frac{529 x^{4}}{3000} - \\frac{31 x^{3}}{150} - \\frac{7 x^{2}}{50} + \\frac{x}{5} + \\frac{1}{5}$$"
      ],
      "text/plain": [
       "     4       3      2        \n",
       "529⋅x    31⋅x    7⋅x    x   1\n",
       "────── - ───── - ──── + ─ + ─\n",
       " 3000     150     50    5   5"
      ]
     },
     "execution_count": 266,
     "metadata": {},
     "output_type": "execute_result"
    }
   ],
   "source": [
    "p5 = series(f(x),x,0, n=5).removeO()\n",
    "p5"
   ]
  },
  {
   "cell_type": "code",
   "execution_count": 267,
   "metadata": {},
   "outputs": [
    {
     "data": {
      "image/png": "[encoded data removed]",
      "text/latex": [
       "$$- \\frac{19019 x^{6}}{90000} + \\frac{749 x^{5}}{3000} + \\frac{529 x^{4}}{3000} - \\frac{31 x^{3}}{150} - \\frac{7 x^{2}}{50} + \\frac{x}{5} + \\frac{1}{5}$$"
      ],
      "text/plain": [
       "         6        5        4       3      2        \n",
       "  19019⋅x    749⋅x    529⋅x    31⋅x    7⋅x    x   1\n",
       "- ──────── + ────── + ────── - ───── - ──── + ─ + ─\n",
       "   90000      3000     3000     150     50    5   5"
      ]
     },
     "execution_count": 267,
     "metadata": {},
     "output_type": "execute_result"
    }
   ],
   "source": [
    "p7 = series(f(x),x,0, n=7).removeO()\n",
    "p7"
   ]
  },
  {
   "cell_type": "code",
   "execution_count": 268,
   "metadata": {},
   "outputs": [
    {
     "data": {
      "image/png": "[encoded data removed]",
      "text/latex": [
       "$$\\frac{6390509 x^{8}}{25200000} - \\frac{188723 x^{7}}{630000} - \\frac{19019 x^{6}}{90000} + \\frac{749 x^{5}}{3000} + \\frac{529 x^{4}}{3000} - \\frac{31 x^{3}}{150} - \\frac{7 x^{2}}{50} + \\frac{x}{5} + \\frac{1}{5}$$"
      ],
      "text/plain": [
       "         8           7          6        5        4       3      2        \n",
       "6390509⋅x    188723⋅x    19019⋅x    749⋅x    529⋅x    31⋅x    7⋅x    x   1\n",
       "────────── - ───────── - ──────── + ────── + ────── - ───── - ──── + ─ + ─\n",
       " 25200000      630000     90000      3000     3000     150     50    5   5"
      ]
     },
     "execution_count": 268,
     "metadata": {},
     "output_type": "execute_result"
    }
   ],
   "source": [
    "p9 = series(f(x),x,0, n=9).removeO()\n",
    "p9"
   ]
  },
  {
   "cell_type": "code",
   "execution_count": 269,
   "metadata": {},
   "outputs": [
    {
     "data": {
      "image/png": "[encoded data removed]",
      "text/latex": [
       "$$\\left ( - \\frac{24341}{5625}, \\quad \\frac{4380163}{196875}\\right )$$"
      ],
      "text/plain": [
       "⎛-24341   4380163⎞\n",
       "⎜───────, ───────⎟\n",
       "⎝  5625    196875⎠"
      ]
     },
     "execution_count": 269,
     "metadata": {},
     "output_type": "execute_result"
    }
   ],
   "source": [
    "p7.subs({x:2}),p9.subs({x:2})"
   ]
  },
  {
   "cell_type": "code",
   "execution_count": 270,
   "metadata": {},
   "outputs": [
    {
     "data": {
      "image/png": "[encoded data removed]",
      "text/latex": [
       "$$\\frac{e^{2}}{29}$$"
      ],
      "text/plain": [
       " 2\n",
       "ℯ \n",
       "──\n",
       "29"
      ]
     },
     "execution_count": 270,
     "metadata": {},
     "output_type": "execute_result"
    }
   ],
   "source": [
    "f(2)"
   ]
  },
  {
   "cell_type": "code",
   "execution_count": 271,
   "metadata": {},
   "outputs": [],
   "source": [
    "xx = []; yy = []\n",
    "y2 = []; y3 = []; y5 = []; y7 = []; y9 = []\n",
    "x0 = 0; delta = 0.5;\n",
    "nxx = 100; a = x0 -delta; b = x0 + delta\n",
    "for i in range(nxx+1):\n",
    "    xaux = a + i*(b-a)/nxx\n",
    "    xx.append(xaux)\n",
    "    yy.append(f(xaux))\n",
    "    y2.append(p2.subs({x:xaux}))\n",
    "    y3.append(p3.subs({x:xaux}))\n",
    "    y5.append(p5.subs({x:xaux}))\n",
    "    y7.append(p7.subs({x:xaux}))\n",
    "    y9.append(p9.subs({x:xaux}))"
   ]
  },
  {
   "cell_type": "code",
   "execution_count": 272,
   "metadata": {},
   "outputs": [
    {
     "data": {
      "image/png": "[encoded data removed]",
      "text/latex": [
       "$$\\left ( 101, \\quad 101, \\quad 101\\right )$$"
      ],
      "text/plain": [
       "(101, 101, 101)"
      ]
     },
     "execution_count": 272,
     "metadata": {},
     "output_type": "execute_result"
    }
   ],
   "source": [
    "len(xx),len(yy),len(y9)"
   ]
  },
  {
   "cell_type": "code",
   "execution_count": 273,
   "metadata": {},
   "outputs": [
    {
     "data": {
      "image/png": "[encoded data removed]",
      "text/plain": [
       "<matplotlib.figure.Figure at 0x22208aad6d8>"
      ]
     },
     "metadata": {},
     "output_type": "display_data"
    }
   ],
   "source": [
    "fig, ax = plt.subplots() # Dibujaremos los polinomios de Taylor\n",
    "ax.plot(xx, y2, label = \"y = p2(x)\"); #  de orden 1 \n",
    "ax.plot(xx, y3, label = \"y = p3(x)\"); #  de orden 3 \n",
    "ax.plot(xx, y5, label = \"y = p5(x)\"); #  de orden 5\n",
    "ax.plot(xx, y7, label = \"y = p7(x)\"); #  de orden 7\n",
    "ax.plot(xx, y9, label = \"y = p9(x)\"); #  de orden 9\n",
    "ax.plot(xx,f_vec(xx), label = \"y = f(x)\"); # y la función f(x)\n",
    "ax.legend(loc=4);\n",
    "ax.set_xlabel('x')\n",
    "ax.set_ylabel('y')\n",
    "ax.set_title('Gráficas de la función y de los polinomios de Taylor');"
   ]
  },
  {
   "cell_type": "markdown",
   "metadata": {},
   "source": [
    "# Interpolación polinómica de Hermite clásica"
   ]
  },
  {
   "cell_type": "markdown",
   "metadata": {},
   "source": [
    "La interpolación de Hermite clásica consiste en que se satisfagan también datos de la derivada primera, aparte de los datos lagrangianos habituales, en los extremos del intervalo considerado; es decir, por ejemplo, en un intervalo $[a,b]$ de la recta real impondríamos que el polinomio de interpolación $p(x)$, que ahora tendría que ser de grado $3$, satisfaría las cuatro condiciones siguientes:\n",
    "$$p(a)=f(a),\\; p(b)=f(b),\\; p'(a)=f'(a),\\; p'(b)=f'(b)$$\n",
    "\n",
    "Una forma pues de obtener dicho polinomio de interpolación de Hermite sería imponer sin más estas cuatro condiciones a un polinomio genérico de grado $3$, \n",
    "$$p(x)\\equiv c_0+c_1 x+c_2 x^2 + c_3 x^3$$\n",
    "y resolver el sistema lineal de orden $4$ correspondiente. \n",
    "\n",
    "Otra forma algo más sútil sería expresar dicho polinomio en una base más conveniente, distinta de la canónica; por ejemplo \n",
    "$p(x)\\equiv d_0+d_1(x-a)+d_2(x-a)^2+d_3(x-a)^2(x-b)$ y obtener dichos coeficientes fácilmente a partir de las condiciones impuestas. Esto se podría hacer sin demasiada dificultad con la ayuda de las capacidades de cálculo simbólico de Python, via el módulo SymPy. Pero recordamos que un poco más arriba ya hemos calculado de manera genérica, la base de Hermite que permite calcular la cúbica que pasa por dos puntos determinados del plano sobre los que también hemos fijado las pendientes (o derivadas). Y esto lo hicimos trasladando al intervalor $[0,1]$ cualquier otro intervalo $[x_L,x_R]$ y ajustando con los factores convenientes la correspondiente base en el intervalo de referencia. Más adelante, veremos que esta es la idea fundamental del denominado **Método de los Elementos Finitos** y que este no es más que un caso particular, llamado **Elemento Finito de Hermite de clase $\\mathcal{C}^1$**, que a su vez no es más que un caso particular de los llamados **splines cúbicos de clase $\\mathcal{C}^1$**. \n",
    "\n",
    "Sin demasiado esfuerzo teórico, también podríamos ver que, usando el mismo tipo de ideas, también podríamos obtener polinomios de grado no superior a $5$ que satisfagan también datos de derivadas segundas en los extremos del intervalo, \n",
    "\n",
    "$$p(a)=f(a),\\; p(b)=f(b),\\; p'(a)=f'(a), p'(b)=f'(b)\\\\ p''(a)=f''(a),\\; p''(b)=f''(b)$$\n",
    "\n",
    "dando lugar posteriormente a los denominados **splines quínticos de clase $\\mathcal{C}^2$** o el correspondiente **Elemento Finito de Hermite de clase $\\mathcal{C}^2$**."
   ]
  },
  {
   "cell_type": "code",
   "execution_count": 274,
   "metadata": {},
   "outputs": [],
   "source": [
    "f   = sp.Symbol('f')\n",
    "df  = sp.Symbol('df')\n",
    "d2f = sp.Symbol('d2f')"
   ]
  },
  {
   "cell_type": "code",
   "execution_count": 275,
   "metadata": {
    "collapsed": true
   },
   "outputs": [],
   "source": [
    "a,b = sp.symbols('a,b')"
   ]
  },
  {
   "cell_type": "code",
   "execution_count": 276,
   "metadata": {
    "collapsed": true
   },
   "outputs": [],
   "source": [
    "x = sp.Symbol('x')"
   ]
  },
  {
   "cell_type": "code",
   "execution_count": 277,
   "metadata": {},
   "outputs": [
    {
     "data": {
      "image/png": "[encoded data removed]",
      "text/latex": [
       "$$\\frac{1}{\\left(a - b\\right)^{3}} \\left(\\left(a - b\\right) \\left(a - x\\right) \\left(\\left(a - x\\right) \\left(- b + x\\right) \\operatorname{df}{\\left (b \\right )} - \\left(b - x\\right)^{2} \\operatorname{df}{\\left (a \\right )}\\right) + \\left(a - x\\right)^{2} \\left(a - 3 b + 2 x\\right) f{\\left (b \\right )} + \\left(3 \\left(- a + b\\right) \\left(a - x\\right)^{2} + \\left(a - b\\right)^{3} + 2 \\left(a - x\\right)^{3}\\right) f{\\left (a \\right )}\\right)$$"
      ],
      "text/plain": [
       "                ⎛                                2      ⎞          2          \n",
       "(a - b)⋅(a - x)⋅⎝(a - x)⋅(-b + x)⋅df(b) - (b - x) ⋅df(a)⎠ + (a - x) ⋅(a - 3⋅b \n",
       "──────────────────────────────────────────────────────────────────────────────\n",
       "                                                                          3   \n",
       "                                                                   (a - b)    \n",
       "\n",
       "              ⎛                  2          3            3⎞     \n",
       "+ 2⋅x)⋅f(b) + ⎝3⋅(-a + b)⋅(a - x)  + (a - b)  + 2⋅(a - x) ⎠⋅f(a)\n",
       "────────────────────────────────────────────────────────────────\n",
       "                                                                \n",
       "                                                                "
      ]
     },
     "execution_count": 277,
     "metadata": {},
     "output_type": "execute_result"
    }
   ],
   "source": [
    "p = f(a)*p1xLxR(x,a,b)+df(a)*p2xLxR(x,a,b)+f(b)*p3xLxR(x,a,b)+df(b)*p4xLxR(x,a,b)\n",
    "p.simplify()"
   ]
  },
  {
   "cell_type": "code",
   "execution_count": 278,
   "metadata": {},
   "outputs": [
    {
     "data": {
      "image/png": "[encoded data removed]",
      "text/latex": [
       "$$\\left ( f{\\left (a \\right )}, \\quad f{\\left (b \\right )}\\right )$$"
      ],
      "text/plain": [
       "(f(a), f(b))"
      ]
     },
     "execution_count": 278,
     "metadata": {},
     "output_type": "execute_result"
    }
   ],
   "source": [
    "p.subs({x:a}),p.subs({x:b}).simplify()"
   ]
  },
  {
   "cell_type": "code",
   "execution_count": 282,
   "metadata": {},
   "outputs": [
    {
     "data": {
      "image/png": "[encoded data removed]",
      "text/latex": [
       "$$\\left ( \\operatorname{df}{\\left (a \\right )}, \\quad \\operatorname{df}{\\left (b \\right )}\\right )$$"
      ],
      "text/plain": [
       "(df(a), df(b))"
      ]
     },
     "execution_count": 282,
     "metadata": {},
     "output_type": "execute_result"
    }
   ],
   "source": [
    "sp.diff(p,x).subs({x:a}).simplify(),sp.diff(p,x).subs({x:b}).simplify()"
   ]
  },
  {
   "cell_type": "markdown",
   "metadata": {},
   "source": [
    "Ahora podemos definir un procedimiento o función que nos proporcione el correspondiente polinomio de interpolación de Hermite, a partir de los datos necesarios en el intervalo $[a,b]$; es decir, $f(a),f(b),f'(a),f'(b)$."
   ]
  },
  {
   "cell_type": "code",
   "execution_count": 283,
   "metadata": {},
   "outputs": [],
   "source": [
    "def polHermiteC1(a,b,x,fa,fb,dfa,dfb):\n",
    "    \"\"\"polinomio de interpolación de Hermite\"\"\"\n",
    "    return fa*p1xLxR(x,a,b)+dfa*p2xLxR(x,a,b)+fb*p3xLxR(x,a,b)+dfb*p4xLxR(x,a,b)"
   ]
  },
  {
   "cell_type": "code",
   "execution_count": 287,
   "metadata": {},
   "outputs": [
    {
     "data": {
      "image/png": "[encoded data removed]",
      "text/latex": [
       "$$f{\\left (a \\right )}$$"
      ],
      "text/plain": [
       "f(a)"
      ]
     },
     "execution_count": 287,
     "metadata": {},
     "output_type": "execute_result"
    }
   ],
   "source": [
    "polHermiteC1(a,b,x,f(a),f(b),df(a),df(b)).subs({x:a}).simplify()"
   ]
  },
  {
   "cell_type": "code",
   "execution_count": 288,
   "metadata": {},
   "outputs": [
    {
     "data": {
      "image/png": "[encoded data removed]",
      "text/latex": [
       "$$f{\\left (b \\right )}$$"
      ],
      "text/plain": [
       "f(b)"
      ]
     },
     "execution_count": 288,
     "metadata": {},
     "output_type": "execute_result"
    }
   ],
   "source": [
    "polHermiteC1(a,b,x,f(a),f(b),df(a),df(b)).subs({x:b}).simplify()"
   ]
  },
  {
   "cell_type": "code",
   "execution_count": 289,
   "metadata": {},
   "outputs": [
    {
     "data": {
      "image/png": "[encoded data removed]",
      "text/latex": [
       "$$\\operatorname{df}{\\left (a \\right )}$$"
      ],
      "text/plain": [
       "df(a)"
      ]
     },
     "execution_count": 289,
     "metadata": {},
     "output_type": "execute_result"
    }
   ],
   "source": [
    "sp.diff(polHermiteC1(a,b,x,f(a),f(b),df(a),df(b)),x).subs({x:a}).simplify()"
   ]
  },
  {
   "cell_type": "code",
   "execution_count": 291,
   "metadata": {},
   "outputs": [
    {
     "data": {
      "image/png": "[encoded data removed]",
      "text/latex": [
       "$$\\operatorname{df}{\\left (b \\right )}$$"
      ],
      "text/plain": [
       "df(b)"
      ]
     },
     "execution_count": 291,
     "metadata": {},
     "output_type": "execute_result"
    }
   ],
   "source": [
    "sp.diff(polHermiteC1(a,b,x,f(a),f(b),df(a),df(b)),x).subs({x:b}).simplify()"
   ]
  },
  {
   "cell_type": "code",
   "execution_count": null,
   "metadata": {},
   "outputs": [],
   "source": [
    "polHermiteC1(x,a,b,f(a),f(b),df(a),df(b)).simplify()"
   ]
  },
  {
   "cell_type": "markdown",
   "metadata": {},
   "source": [
    "Obtenemos finalmente, terminando de factorizar alguna de las expresiones, que\n",
    "$$p(x)\\equiv f(a) + (x-a)f'(a) + (x-a)^2\\left(\n",
    "\\frac{f(b)-f(a)}{(b-a)^2}-\\frac{f'(a)}{b-a}\\right)+(x-a)^3\\left(\n",
    "\\frac{f'(b)+f'(a)}{(b-a)^2}-2\\frac{f(b)-f(a)}{(b-a)^3}\n",
    "\\right)$$"
   ]
  },
  {
   "cell_type": "markdown",
   "metadata": {},
   "source": [
    "Y lo mismo podríamos hacer en el caso de la interpolación de Hermite con derivadas hasta segundo orden, tal y cómo lo desarrollamos un poco más arriba en esta práctica, con los correspondientes polinomios de grado no superior a $5$."
   ]
  },
  {
   "cell_type": "code",
   "execution_count": 292,
   "metadata": {},
   "outputs": [],
   "source": [
    "def polHermiteC2(a,b,x,fa,fb,dfa,dfb,d2fa,d2fb):\n",
    "    \"\"\"polinomio de interpolación de Hermite\"\"\"\n",
    "    return fa*p1C2xLxR(x,a,b)+dfa*p2C2xLxR(x,a,b)+d2fa*p3C2xLxR(x,a,b)+fb*p4C2xLxR(x,a,b)+dfb*p5C2xLxR(x,a,b)+d2fb*p6C2xLxR(x,a,b)"
   ]
  },
  {
   "cell_type": "code",
   "execution_count": 293,
   "metadata": {},
   "outputs": [
    {
     "data": {
      "image/png": "[encoded data removed]",
      "text/latex": [
       "$$- \\frac{\\left(- a + x\\right)^{3} \\left(- b + x\\right)^{2}}{2 \\left(a - b\\right)^{3}} \\operatorname{d2f}{\\left (b \\right )} - \\frac{\\left(- a + x\\right)^{3}}{\\left(a - b\\right)^{4}} \\left(\\left(- 7 a + 7 x\\right) \\left(a - b\\right) + 3 \\left(- a + x\\right)^{2} + 4 \\left(a - b\\right)^{2}\\right) \\operatorname{df}{\\left (b \\right )} - \\frac{\\left(- a + x\\right)^{3}}{\\left(a - b\\right)^{5}} \\left(\\left(- 15 a + 15 x\\right) \\left(a - b\\right) + 6 \\left(- a + x\\right)^{2} + 10 \\left(a - b\\right)^{2}\\right) f{\\left (b \\right )} + \\frac{\\left(- a + x\\right)^{2} \\left(- b + x\\right)^{3}}{2 \\left(a - b\\right)^{3}} \\operatorname{d2f}{\\left (a \\right )} + \\frac{\\operatorname{df}{\\left (a \\right )}}{\\left(a - b\\right)^{4}} \\left(a - x\\right) \\left(3 \\left(- a + x\\right)^{4} + 8 \\left(- a + x\\right)^{3} \\left(a - b\\right) + 6 \\left(- a + x\\right)^{2} \\left(a - b\\right)^{2} - \\left(a - b\\right)^{4}\\right) + \\frac{f{\\left (a \\right )}}{\\left(a - b\\right)^{5}} \\left(6 \\left(- a + x\\right)^{5} + 15 \\left(- a + x\\right)^{4} \\left(a - b\\right) + 10 \\left(- a + x\\right)^{3} \\left(a - b\\right)^{2} + \\left(a - b\\right)^{5}\\right)$$"
      ],
      "text/plain": [
       "          3         2                  3 ⎛                                 2  \n",
       "  (-a + x) ⋅(-b + x) ⋅d2f(b)   (-a + x) ⋅⎝(-7⋅a + 7⋅x)⋅(a - b) + 3⋅(-a + x)  +\n",
       "- ────────────────────────── - ───────────────────────────────────────────────\n",
       "                   3                                               4          \n",
       "          2⋅(a - b)                                         (a - b)           \n",
       "\n",
       "          2⎞                 3 ⎛                                   2          \n",
       " 4⋅(a - b) ⎠⋅df(b)   (-a + x) ⋅⎝(-15⋅a + 15⋅x)⋅(a - b) + 6⋅(-a + x)  + 10⋅(a -\n",
       "────────────────── - ─────────────────────────────────────────────────────────\n",
       "                                                          5                   \n",
       "                                                   (a - b)                    \n",
       "\n",
       "   2⎞                2         3                  ⎛          4             3  \n",
       " b) ⎠⋅f(b)   (-a + x) ⋅(-b + x) ⋅d2f(a)   (a - x)⋅⎝3⋅(-a + x)  + 8⋅(-a + x) ⋅(\n",
       "────────── + ────────────────────────── + ────────────────────────────────────\n",
       "                              3                                               \n",
       "                     2⋅(a - b)                                                \n",
       "\n",
       "                   2        2          4⎞         ⎛          5              4 \n",
       "a - b) + 6⋅(-a + x) ⋅(a - b)  - (a - b) ⎠⋅df(a)   ⎝6⋅(-a + x)  + 15⋅(-a + x) ⋅\n",
       "─────────────────────────────────────────────── + ────────────────────────────\n",
       "         4                                                                    \n",
       "  (a - b)                                                                     \n",
       "\n",
       "                     3        2          5⎞     \n",
       "(a - b) + 10⋅(-a + x) ⋅(a - b)  + (a - b) ⎠⋅f(a)\n",
       "────────────────────────────────────────────────\n",
       "             5                                  \n",
       "      (a - b)                                   "
      ]
     },
     "execution_count": 293,
     "metadata": {},
     "output_type": "execute_result"
    }
   ],
   "source": [
    "polHermiteC2(a,b,x,f(a),f(b),df(a),df(b),d2f(a),d2f(b))"
   ]
  },
  {
   "cell_type": "code",
   "execution_count": 294,
   "metadata": {},
   "outputs": [
    {
     "data": {
      "image/png": "[encoded data removed]",
      "text/latex": [
       "$$f{\\left (a \\right )}$$"
      ],
      "text/plain": [
       "f(a)"
      ]
     },
     "execution_count": 294,
     "metadata": {},
     "output_type": "execute_result"
    }
   ],
   "source": [
    "polHermiteC2(a,b,x,f(a),f(b),df(a),df(b),d2f(a),d2f(b)).subs({x:a})"
   ]
  },
  {
   "cell_type": "code",
   "execution_count": 295,
   "metadata": {},
   "outputs": [
    {
     "data": {
      "image/png": "[encoded data removed]",
      "text/latex": [
       "$$f{\\left (b \\right )}$$"
      ],
      "text/plain": [
       "f(b)"
      ]
     },
     "execution_count": 295,
     "metadata": {},
     "output_type": "execute_result"
    }
   ],
   "source": [
    "polHermiteC2(a,b,x,f(a),f(b),df(a),df(b),d2f(a),d2f(b)).subs({x:b}).simplify()"
   ]
  },
  {
   "cell_type": "code",
   "execution_count": 296,
   "metadata": {},
   "outputs": [
    {
     "data": {
      "image/png": "[encoded data removed]",
      "text/latex": [
       "$$\\operatorname{df}{\\left (a \\right )}$$"
      ],
      "text/plain": [
       "df(a)"
      ]
     },
     "execution_count": 296,
     "metadata": {},
     "output_type": "execute_result"
    }
   ],
   "source": [
    "sp.diff(polHermiteC2(a,b,x,f(a),f(b),df(a),df(b),d2f(a),d2f(b)),x).subs({x:a}).simplify()"
   ]
  },
  {
   "cell_type": "code",
   "execution_count": 297,
   "metadata": {},
   "outputs": [
    {
     "data": {
      "image/png": "[encoded data removed]",
      "text/latex": [
       "$$\\operatorname{df}{\\left (b \\right )}$$"
      ],
      "text/plain": [
       "df(b)"
      ]
     },
     "execution_count": 297,
     "metadata": {},
     "output_type": "execute_result"
    }
   ],
   "source": [
    "sp.diff(polHermiteC2(a,b,x,f(a),f(b),df(a),df(b),d2f(a),d2f(b)),x).subs({x:b}).simplify()"
   ]
  },
  {
   "cell_type": "code",
   "execution_count": 298,
   "metadata": {},
   "outputs": [
    {
     "data": {
      "image/png": "[encoded data removed]",
      "text/latex": [
       "$$\\operatorname{d2f}{\\left (a \\right )}$$"
      ],
      "text/plain": [
       "d2f(a)"
      ]
     },
     "execution_count": 298,
     "metadata": {},
     "output_type": "execute_result"
    }
   ],
   "source": [
    "sp.diff(polHermiteC2(a,b,x,f(a),f(b),df(a),df(b),d2f(a),d2f(b)),x,2).subs({x:a}).simplify()"
   ]
  },
  {
   "cell_type": "code",
   "execution_count": 299,
   "metadata": {},
   "outputs": [
    {
     "data": {
      "image/png": "[encoded data removed]",
      "text/latex": [
       "$$\\operatorname{d2f}{\\left (b \\right )}$$"
      ],
      "text/plain": [
       "d2f(b)"
      ]
     },
     "execution_count": 299,
     "metadata": {},
     "output_type": "execute_result"
    }
   ],
   "source": [
    "sp.diff(polHermiteC2(a,b,x,f(a),f(b),df(a),df(b),d2f(a),d2f(b)),x,2).subs({x:b}).simplify()"
   ]
  },
  {
   "cell_type": "markdown",
   "metadata": {
    "collapsed": true
   },
   "source": [
    "Haremos a continuación un ejemplo concreto de interpolación de Hermite clásica, a partir de los valores de una cierta función en los extremos del intervalo considerado. "
   ]
  },
  {
   "cell_type": "code",
   "execution_count": 300,
   "metadata": {
    "collapsed": true
   },
   "outputs": [],
   "source": [
    "x = sp.Symbol('x')\n",
    "def f(x):\n",
    "    \"\"\"sin(x)\"\"\"\n",
    "    return sp.sin(x)\n",
    "f_vec = np.vectorize(f)"
   ]
  },
  {
   "cell_type": "code",
   "execution_count": 301,
   "metadata": {},
   "outputs": [
    {
     "name": "stdout",
     "output_type": "stream",
     "text": [
      "cos(x)\n"
     ]
    }
   ],
   "source": [
    "print(sp.diff(f(x),x).simplify())"
   ]
  },
  {
   "cell_type": "code",
   "execution_count": 302,
   "metadata": {
    "collapsed": true
   },
   "outputs": [],
   "source": [
    "def df(x):\n",
    "    return sp.cos(x)"
   ]
  },
  {
   "cell_type": "code",
   "execution_count": 303,
   "metadata": {},
   "outputs": [
    {
     "name": "stdout",
     "output_type": "stream",
     "text": [
      "-sin(x)\n"
     ]
    }
   ],
   "source": [
    "print(sp.diff(f(x),x,2).simplify())"
   ]
  },
  {
   "cell_type": "code",
   "execution_count": 304,
   "metadata": {
    "collapsed": true
   },
   "outputs": [],
   "source": [
    "def d2f(x):\n",
    "    return -sp.sin(x)"
   ]
  },
  {
   "cell_type": "code",
   "execution_count": 305,
   "metadata": {},
   "outputs": [],
   "source": [
    "a,b = -sp.pi,sp.pi"
   ]
  },
  {
   "cell_type": "code",
   "execution_count": 306,
   "metadata": {},
   "outputs": [
    {
     "data": {
      "image/png": "[encoded data removed]",
      "text/latex": [
       "$$\\left ( 0, \\quad 0, \\quad -1, \\quad -1, \\quad 0, \\quad 0\\right )$$"
      ],
      "text/plain": [
       "(0, 0, -1, -1, 0, 0)"
      ]
     },
     "execution_count": 306,
     "metadata": {},
     "output_type": "execute_result"
    }
   ],
   "source": [
    "f(a),f(b),df(a),df(b),d2f(a),d2f(b)"
   ]
  },
  {
   "cell_type": "code",
   "execution_count": 307,
   "metadata": {},
   "outputs": [
    {
     "data": {
      "image/png": "[encoded data removed]",
      "text/latex": [
       "$$- \\frac{x^{3}}{2 \\pi^{2}} + \\frac{x}{2}$$"
      ],
      "text/plain": [
       "    3     \n",
       "   x     x\n",
       "- ──── + ─\n",
       "     2   2\n",
       "  2⋅π     "
      ]
     },
     "execution_count": 307,
     "metadata": {},
     "output_type": "execute_result"
    }
   ],
   "source": [
    "p3HermiteC1 = polHermiteC1(a,b,x,f(a),f(b),df(a),df(b))\n",
    "p3HermiteC1.expand()"
   ]
  },
  {
   "cell_type": "code",
   "execution_count": 308,
   "metadata": {},
   "outputs": [
    {
     "data": {
      "image/png": "[encoded data removed]",
      "text/latex": [
       "$$\\frac{3 x^{5}}{8 \\pi^{4}} - \\frac{5 x^{3}}{4 \\pi^{2}} + \\frac{7 x}{8}$$"
      ],
      "text/plain": [
       "   5      3      \n",
       "3⋅x    5⋅x    7⋅x\n",
       "──── - ──── + ───\n",
       "   4      2    8 \n",
       "8⋅π    4⋅π       "
      ]
     },
     "execution_count": 308,
     "metadata": {},
     "output_type": "execute_result"
    }
   ],
   "source": [
    "p5HermiteC2 = polHermiteC2(a,b,x,f(a),f(b),df(a),df(b),d2f(a),d2f(b))\n",
    "p5HermiteC2.expand()"
   ]
  },
  {
   "cell_type": "code",
   "execution_count": 309,
   "metadata": {
    "collapsed": true
   },
   "outputs": [],
   "source": [
    "xx = []; yy = []\n",
    "yHermiteC1 = []; yHermiteC2 = []\n",
    "nxx = 100\n",
    "for i in range(nxx+1):\n",
    "    xaux = a + i*(b-a)/nxx\n",
    "    xx.append(xaux)\n",
    "    yy.append(f(xaux))\n",
    "    yHermiteC1.append(p3HermiteC1.subs({x:xaux}))\n",
    "    yHermiteC2.append(p5HermiteC2.subs({x:xaux}))"
   ]
  },
  {
   "cell_type": "code",
   "execution_count": 310,
   "metadata": {},
   "outputs": [
    {
     "data": {
      "image/png": "[encoded data removed]",
      "text/plain": [
       "<matplotlib.figure.Figure at 0x22209027668>"
      ]
     },
     "metadata": {},
     "output_type": "display_data"
    }
   ],
   "source": [
    "fig, ax = plt.subplots() # Dibujaremos los polinomios de Hermite\n",
    "ax.plot(xx, yHermiteC1, label = \"y = p3(x)\"); #  de clase 1 \n",
    "ax.plot(xx, yHermiteC2, label = \"y = p5(x)\"); #  de clase 2\n",
    "ax.plot(xx,yy, label = \"y = f(x)\"); # y la función f(x)\n",
    "ax.legend(loc=4);\n",
    "ax.set_xlabel('x')\n",
    "ax.set_ylabel('y')\n",
    "ax.set_title('Gráficas de la función y de los polinomios de Hermite');"
   ]
  },
  {
   "cell_type": "markdown",
   "metadata": {},
   "source": [
    "Hagamos ahora las comprobaciones oportunas respecto a las condiciones de interpolación impuestas en ambos extremos del intervalo, aunque gráficamente se ve perfectamente que se cumplen."
   ]
  },
  {
   "cell_type": "code",
   "execution_count": 311,
   "metadata": {},
   "outputs": [
    {
     "data": {
      "image/png": "[encoded data removed]",
      "text/latex": [
       "$$\\left ( 0, \\quad 0, \\quad 0\\right )$$"
      ],
      "text/plain": [
       "(0, 0, 0)"
      ]
     },
     "execution_count": 311,
     "metadata": {},
     "output_type": "execute_result"
    }
   ],
   "source": [
    "p3HermiteC1.subs({x:a}),p5HermiteC2.subs({x:a}),f(a)"
   ]
  },
  {
   "cell_type": "code",
   "execution_count": 312,
   "metadata": {},
   "outputs": [
    {
     "data": {
      "image/png": "[encoded data removed]",
      "text/latex": [
       "$$\\left ( -1, \\quad -1, \\quad -1\\right )$$"
      ],
      "text/plain": [
       "(-1, -1, -1)"
      ]
     },
     "execution_count": 312,
     "metadata": {},
     "output_type": "execute_result"
    }
   ],
   "source": [
    "sp.diff(p3HermiteC1,x).subs({x:a}),sp.diff(p5HermiteC2,x).subs({x:a}),df(a)"
   ]
  },
  {
   "cell_type": "code",
   "execution_count": 313,
   "metadata": {},
   "outputs": [
    {
     "data": {
      "image/png": "[encoded data removed]",
      "text/latex": [
       "$$\\left ( \\frac{3}{\\pi}, \\quad 0, \\quad 0\\right )$$"
      ],
      "text/plain": [
       "⎛3      ⎞\n",
       "⎜─, 0, 0⎟\n",
       "⎝π      ⎠"
      ]
     },
     "execution_count": 313,
     "metadata": {},
     "output_type": "execute_result"
    }
   ],
   "source": [
    "sp.diff(p3HermiteC1,x,2).subs({x:a}),sp.diff(p5HermiteC2,x,2).subs({x:a}),d2f(a)\n",
    "# Nótese que la que no coincide es la derivada segunda de la cúbica"
   ]
  },
  {
   "cell_type": "code",
   "execution_count": 314,
   "metadata": {},
   "outputs": [
    {
     "data": {
      "image/png": "[encoded data removed]",
      "text/latex": [
       "$$\\left ( 0, \\quad 0, \\quad 0\\right )$$"
      ],
      "text/plain": [
       "(0, 0, 0)"
      ]
     },
     "execution_count": 314,
     "metadata": {},
     "output_type": "execute_result"
    }
   ],
   "source": [
    "p3HermiteC1.subs({x:b}),p5HermiteC2.subs({x:b}),f(b)"
   ]
  },
  {
   "cell_type": "code",
   "execution_count": 315,
   "metadata": {},
   "outputs": [
    {
     "data": {
      "image/png": "[encoded data removed]",
      "text/latex": [
       "$$\\left ( -1, \\quad -1, \\quad -1\\right )$$"
      ],
      "text/plain": [
       "(-1, -1, -1)"
      ]
     },
     "execution_count": 315,
     "metadata": {},
     "output_type": "execute_result"
    }
   ],
   "source": [
    "sp.diff(p3HermiteC1,x).subs({x:a}),sp.diff(p5HermiteC2,x).subs({x:a}),df(a)"
   ]
  },
  {
   "cell_type": "code",
   "execution_count": 316,
   "metadata": {},
   "outputs": [
    {
     "data": {
      "image/png": "[encoded data removed]",
      "text/latex": [
       "$$\\left ( \\frac{3}{\\pi}, \\quad 0, \\quad 0\\right )$$"
      ],
      "text/plain": [
       "⎛3      ⎞\n",
       "⎜─, 0, 0⎟\n",
       "⎝π      ⎠"
      ]
     },
     "execution_count": 316,
     "metadata": {},
     "output_type": "execute_result"
    }
   ],
   "source": [
    "sp.diff(p3HermiteC1,x,2).subs({x:a}),sp.diff(p5HermiteC2,x,2).subs({x:a}),d2f(a)\n",
    "# Nótese que la que no coincide es la derivada segunda de la cúbica"
   ]
  },
  {
   "cell_type": "markdown",
   "metadata": {},
   "source": [
    "# Interpolación polinómica de Hermite generalizada"
   ]
  },
  {
   "cell_type": "markdown",
   "metadata": {},
   "source": [
    "La interpolación de Hermite generalizada consiste en que se satisfagan también datos de ciertas derivadas sucesivas consecutivas de la función a interpolar, aparte de los datos lagrangianos habituales, en los nodos especificados del intervalo considerado. En estos casos impondremos:\n",
    "\n",
    "$$p^{l)}(x_i)=f^{l)}(x_i),\\; l = 0,1,\\ldots,m_i\\quad i = 0,1,\\ldots n $$"
   ]
  },
  {
   "cell_type": "markdown",
   "metadata": {},
   "source": [
    "# Ejercicios"
   ]
  },
  {
   "cell_type": "markdown",
   "metadata": {},
   "source": [
    "1.- Se considera la función no negativa \n",
    "$e^{\\left(-\\left(3.9+\\frac{5}{2000}\\right)t\\right)}t^2$. Calcule su polinomio de interpolación en los nodos $0,1,2,3,4,5$. Represéntelo gráficamente y calcule su valor en el punto $4.75$. \n",
    "\n",
    "\n",
    "2.- Interpole la función $e^x + \\frac{x}{5}$ en los puntos \n",
    "$-n,\\ldots,-1,0,1,\\ldots,n$ para $n=1, 2, 3$. Represente la función y los interpolantes en el intervalo $[-3,3]$ utilizando diferentes colores.\n",
    "\n",
    "3.- Para la misma función del ejercicio anterior, halle el interpolante de Hermite en el espacio de los polinomios de grado menor o igual que trece para los nodos $-3,-2,-1,0,1,2, 3$. Calcule también el de Taylor en el mismo espacio con nodo $x=0$. Represéntelos en $[-3,3]$. Observe que la función de partida puede ser monótona o convexa y los interpolantes no.\n",
    "\n",
    "4.- Para qué valores del parámetro $a$ es unisolvente el problema consistente en interpolar en el conjunto de los polinomios de\n",
    "grado $5$ los datos $g(0),g''(0), g'''(0), g'(1),g'(a), g''(a)$ (problema de Hermite-Birkhoff).\n",
    "\n",
    "5.- Para qué valores del parámetro $a$ es unisolvente el problema consistente en interpolar en el conjunto de los polinomios de\n",
    "grado $5$ los datos $g(0),g''(0), g'''''(0), g'(1),g'(a), g''(a)$."
   ]
  }
 ],
 "metadata": {
  "anaconda-cloud": {},
  "kernelspec": {
   "display_name": "Python 3",
   "language": "python",
   "name": "python3"
  },
  "language_info": {
   "codemirror_mode": {
    "name": "ipython",
    "version": 3
   },
   "file_extension": ".py",
   "mimetype": "text/x-python",
   "name": "python",
   "nbconvert_exporter": "python",
   "pygments_lexer": "ipython3",
   "version": "3.6.1"
  }
 },
 "nbformat": 4,
 "nbformat_minor": 1
}
