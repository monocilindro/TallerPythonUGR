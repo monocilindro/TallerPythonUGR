{
 "cells": [
  {
   "cell_type": "markdown",
   "metadata": {},
   "source": [
    "# Algoritmos y Tipos de Errores en el Análisis Numérico"
   ]
  },
  {
   "cell_type": "markdown",
   "metadata": {},
   "source": [
    "Autor: Pedro González Rodelas\n",
    "\n",
    "Fecha de la primera versión: 10/08/2017\n",
    "\n",
    "Fecha de la última revisión: 14/08/2017\n",
    "\n",
    "Notebook adaptado y extendido a partir del notebook original de Mathematica incluido en el libro \"Análisis Numérico con Mathematica\" de Ariel Ciencia. ISBN: 84-344-8036-0. Dep. Legal: B.31.425-2001."
   ]
  },
  {
   "cell_type": "markdown",
   "metadata": {},
   "source": [
    "## Carga de los módulos y funciones empleadas"
   ]
  },
  {
   "cell_type": "markdown",
   "metadata": {},
   "source": [
    "Antes de empezar a realizar cualquier cálculo numérico o simbólico debemos de cargar los correspondientes módulos de Python que implementan la mayoría de funciones y procedimientos necesarios para ello: NumPy y SymPy, que serán cargados con los pseudónimos np y sp, respectivamente. Además cargaremos la función del módulo random que nos permitirá generar números aleatorios, cada vez que los necesitemos."
   ]
  },
  {
   "cell_type": "code",
   "execution_count": 1,
   "metadata": {
    "collapsed": true
   },
   "outputs": [],
   "source": [
    "import numpy as np # Importamos el módulo NumPy con el pseudónimo np\n",
    "import sympy as sp # Importamos el módulo SymPy con el pseudónimo sp"
   ]
  },
  {
   "cell_type": "code",
   "execution_count": 2,
   "metadata": {
    "collapsed": true
   },
   "outputs": [],
   "source": [
    "from random import random \n",
    "# Importamos la función generadora de números pseudoaleatorios"
   ]
  },
  {
   "cell_type": "markdown",
   "metadata": {},
   "source": [
    "Por otra parte, también usaremos de vez en cuando una función propia, que vamos a definir a continuación y posteriormente vectorizar, con el objeto de poder redondear por cero cualquier número o lista/array de números en coma flotante que sea menor que un cierto valor máximo, que también podremos indicar opcionalmente, aunque se suele tomar el valor $10^{-16}$ por defecto. "
   ]
  },
  {
   "cell_type": "code",
   "execution_count": 3,
   "metadata": {
    "collapsed": true
   },
   "outputs": [],
   "source": [
    "def mychop(expr, *, max=10**(-16)): \n",
    "    if abs(expr) > max:\n",
    "      return expr \n",
    "    else:\n",
    "      return 0"
   ]
  },
  {
   "cell_type": "code",
   "execution_count": 4,
   "metadata": {
    "collapsed": true
   },
   "outputs": [],
   "source": [
    "chop_vec = np.vectorize(mychop)"
   ]
  },
  {
   "cell_type": "code",
   "execution_count": 5,
   "metadata": {
    "collapsed": false
   },
   "outputs": [
    {
     "data": {
      "text/plain": [
       "0"
      ]
     },
     "execution_count": 5,
     "metadata": {},
     "output_type": "execute_result"
    }
   ],
   "source": [
    "mychop(10**(-16))"
   ]
  },
  {
   "cell_type": "code",
   "execution_count": 6,
   "metadata": {
    "collapsed": false
   },
   "outputs": [
    {
     "data": {
      "text/plain": [
       "-1e-06"
      ]
     },
     "execution_count": 6,
     "metadata": {},
     "output_type": "execute_result"
    }
   ],
   "source": [
    "mychop(-10**(-6))"
   ]
  },
  {
   "cell_type": "code",
   "execution_count": 7,
   "metadata": {
    "collapsed": false
   },
   "outputs": [
    {
     "data": {
      "text/plain": [
       "0"
      ]
     },
     "execution_count": 7,
     "metadata": {},
     "output_type": "execute_result"
    }
   ],
   "source": [
    "mychop(-0.2, max=0.25)"
   ]
  },
  {
   "cell_type": "code",
   "execution_count": 10,
   "metadata": {
    "collapsed": true
   },
   "outputs": [],
   "source": [
    "# mychop([0.2, 0.3, 0.1], max = 0.2) \n",
    "# Atención, ¡esta versión no está vectorizada!"
   ]
  },
  {
   "cell_type": "code",
   "execution_count": 8,
   "metadata": {
    "collapsed": false
   },
   "outputs": [
    {
     "data": {
      "text/plain": [
       "array([0, 0])"
      ]
     },
     "execution_count": 8,
     "metadata": {},
     "output_type": "execute_result"
    }
   ],
   "source": [
    " chop_vec([0.3, 0.5], max = 0.3)"
   ]
  },
  {
   "cell_type": "code",
   "execution_count": 9,
   "metadata": {
    "collapsed": false
   },
   "outputs": [
    {
     "data": {
      "text/plain": [
       "array([[  1.00000000e-01,   2.00000000e-01],\n",
       "       [  1.00000000e-06,   4.00000000e-01],\n",
       "       [  5.00000000e-01,   0.00000000e+00]])"
      ]
     },
     "execution_count": 9,
     "metadata": {},
     "output_type": "execute_result"
    }
   ],
   "source": [
    "chop_vec([[0.1,0.2],[10**(-6),0.4],[0.5,10**(-16)]])"
   ]
  },
  {
   "cell_type": "code",
   "execution_count": 10,
   "metadata": {
    "collapsed": false
   },
   "outputs": [
    {
     "data": {
      "text/plain": [
       "0.5"
      ]
     },
     "execution_count": 10,
     "metadata": {},
     "output_type": "execute_result"
    }
   ],
   "source": [
    "mychop(0.5,max = 0.25)"
   ]
  },
  {
   "cell_type": "code",
   "execution_count": 11,
   "metadata": {
    "collapsed": false
   },
   "outputs": [
    {
     "data": {
      "text/plain": [
       "array([ 0.5,  0. ])"
      ]
     },
     "execution_count": 11,
     "metadata": {},
     "output_type": "execute_result"
    }
   ],
   "source": [
    "chop_vec([0.5,0.2], max = 0.25)"
   ]
  },
  {
   "cell_type": "markdown",
   "metadata": {},
   "source": [
    "Una vez escrito (en algún pseudo lenguaje estandard) un algoritmo para resolver un problema es inmediato realizar el programa correspondiente en algún lenguaje de programación concreto. En este sentido Python es un lenguaje muy versátil, porque tiene muchas órdenes, y módulos específicos, que permiten resolver directamente un problema o parte del mismo y, además, permite estructurar el programa en pequeños módulos que podemos procesar por separado para verificar si funcionan correctamente y unirlos después, si se desea.\n",
    "\n",
    "Vamos a calcular la suma de $n$ números. Para ello los introducimos en un vector $v$ y después sumamos las componentes de $v$ mediante el algoritmo descrito en el ejemplo $1$."
   ]
  },
  {
   "cell_type": "code",
   "execution_count": 12,
   "metadata": {
    "collapsed": true
   },
   "outputs": [],
   "source": [
    "v = [1,-3.6,4.2,5]"
   ]
  },
  {
   "cell_type": "code",
   "execution_count": 13,
   "metadata": {
    "collapsed": false
   },
   "outputs": [
    {
     "data": {
      "text/plain": [
       "(1, 5)"
      ]
     },
     "execution_count": 13,
     "metadata": {},
     "output_type": "execute_result"
    }
   ],
   "source": [
    "v[0],v[-1]  # en Python el primer índice siempre es el 0, y éstos se \n",
    "# comportan como si el array estuviera cerrado de manera circular,\n",
    "# de manera que el índice -1 correspondería al último elemento."
   ]
  },
  {
   "cell_type": "code",
   "execution_count": 14,
   "metadata": {
    "collapsed": false
   },
   "outputs": [
    {
     "data": {
      "text/plain": [
       "4"
      ]
     },
     "execution_count": 14,
     "metadata": {},
     "output_type": "execute_result"
    }
   ],
   "source": [
    "n=len(v);  # para obtener la longitud total del array\n",
    "n"
   ]
  },
  {
   "cell_type": "code",
   "execution_count": 15,
   "metadata": {
    "collapsed": false
   },
   "outputs": [
    {
     "data": {
      "text/plain": [
       "6.6"
      ]
     },
     "execution_count": 15,
     "metadata": {},
     "output_type": "execute_result"
    }
   ],
   "source": [
    "s=0;         # variable que será usada como acumulador para la suma\n",
    "for i in range(n):\n",
    "    s = s + v[i]     # sumas parciales\n",
    "    # print ( \" + \", v[i],\" = \",s)\n",
    "s   # valor final de la suma"
   ]
  },
  {
   "cell_type": "markdown",
   "metadata": {},
   "source": [
    "Podemos obtener el mismo resultado con la orden directa sum."
   ]
  },
  {
   "cell_type": "code",
   "execution_count": 16,
   "metadata": {
    "collapsed": false
   },
   "outputs": [
    {
     "data": {
      "text/plain": [
       "6.6"
      ]
     },
     "execution_count": 16,
     "metadata": {},
     "output_type": "execute_result"
    }
   ],
   "source": [
    "sum(v)  # orden equivalente para sumar los elementos de un array"
   ]
  },
  {
   "cell_type": "markdown",
   "metadata": {},
   "source": [
    "Programamos a continuación el algoritmo que permite calcular el producto de las componentes no nulas de un vector $v$."
   ]
  },
  {
   "cell_type": "code",
   "execution_count": 17,
   "metadata": {
    "collapsed": true
   },
   "outputs": [],
   "source": [
    "v = [1,0,1,2,-1,7] # un array o vector con elementos nulos"
   ]
  },
  {
   "cell_type": "code",
   "execution_count": 18,
   "metadata": {
    "collapsed": true
   },
   "outputs": [],
   "source": [
    "n = len(v)  # su longitud"
   ]
  },
  {
   "cell_type": "code",
   "execution_count": 19,
   "metadata": {
    "collapsed": false
   },
   "outputs": [
    {
     "name": "stdout",
     "output_type": "stream",
     "text": [
      "componente  2 -ésima nula\n",
      "producto de las componentes no nulas igual a  -14\n"
     ]
    }
   ],
   "source": [
    "p = 1;   # variable que se usará como acumulador para los productos\n",
    "for i in range(n):\n",
    "    if v[i]==0:  # identificación de los elementos nulos del vector\n",
    "        print(\"componente \",i+1,\"-ésima nula\")\n",
    "    else:\n",
    "        p = p*v[i]   # productos parciales\n",
    "print(\"producto de las componentes no nulas igual a \",p)        "
   ]
  },
  {
   "cell_type": "markdown",
   "metadata": {},
   "source": [
    "# Comportamientos extraños debidos a los errores de redondeo"
   ]
  },
  {
   "cell_type": "markdown",
   "metadata": {},
   "source": [
    "El ordenador puede trabajar con números que sean muy pequeños o muy grandes, pero, si trabaja con ambos simultáneamente, el número\n",
    "pequeño puede perder su valor debido al redondeo. Por ejemplo, para un valor grande de $x$ es posible que $51.2+x$ lo tome como $x$. Para\n",
    "simplificar, nos vamos a limitar a la sucesión de potencias de  $10$: $1$, $10$, $100$, $1000$, etc., es decir, de la forma $10^i$. Podemos buscar\n",
    "el menor de ellos que cumple $51.2+x=x$ con el siguiente programa:"
   ]
  },
  {
   "cell_type": "code",
   "execution_count": 20,
   "metadata": {
    "collapsed": false
   },
   "outputs": [
    {
     "name": "stdout",
     "output_type": "stream",
     "text": [
      "para i = 0  resulta que 51.2+10^i =  52.2\n",
      "para i = 1  resulta que 51.2+10^i =  61.2\n",
      "para i = 2  resulta que 51.2+10^i =  151.2\n",
      "para i = 3  resulta que 51.2+10^i =  1051.2\n",
      "para i = 4  resulta que 51.2+10^i =  10051.2\n",
      "para i = 5  resulta que 51.2+10^i =  100051.2\n",
      "para i = 6  resulta que 51.2+10^i =  1000051.2\n",
      "para i = 7  resulta que 51.2+10^i =  10000051.2\n",
      "para i = 8  resulta que 51.2+10^i =  100000051.2\n",
      "para i = 9  resulta que 51.2+10^i =  1000000051.2\n",
      "para i = 10  resulta que 51.2+10^i =  10000000051.2\n",
      "para i = 11  resulta que 51.2+10^i =  100000000051.2\n",
      "para i = 12  resulta que 51.2+10^i =  1000000000051.2\n",
      "para i = 13  resulta que 51.2+10^i =  10000000000051.2\n",
      "para i = 14  resulta que 51.2+10^i =  100000000000051.2\n",
      "para i = 15  resulta que 51.2+10^i =  1000000000000051.2\n",
      "para i = 16  resulta que 51.2+10^i =  1.0000000000000052e+16\n",
      "para i = 17  resulta que 51.2+10^i =  1.0000000000000005e+17\n",
      "para i = 18  resulta que 51.2+10^i =  1e+18\n",
      "para i = 19  resulta que 51.2+10^i =  1e+19\n"
     ]
    }
   ],
   "source": [
    "for i in range(20):\n",
    "    print(\"para i =\",i,\" resulta que 51.2+10^i = \", 51.2+10**i)"
   ]
  },
  {
   "cell_type": "markdown",
   "metadata": {},
   "source": [
    "Como bien puede comprobarse, se ha necesitado llegar a $10^{18}$ para que $51.2$ deje de influir para nada en la suma, aunque todo empieza a fallar, de alguna u otra manera, a partir de $10^{16}$. Esto es debido a que en los cálculos efectuados en coma flotante, los bits que habitualmente se dedican a almacenar la mantisa (52 bits) de un número decimal sólo pueden proporcionar una precisión que ronda los 16 dígitos significativos en base 10 (calcúlese el valor aproximado de $2^{-52}$). Por otro lado en lo que habitualmente se denomina \"doble precisión\" (64 bits en total) los otros 12 bits se suelen emplear de la siguiente manera: 11 bits para el exponente y el bit que resta para el signo."
   ]
  },
  {
   "cell_type": "code",
   "execution_count": 21,
   "metadata": {
    "collapsed": false
   },
   "outputs": [
    {
     "name": "stdout",
     "output_type": "stream",
     "text": [
      "índice  0 2^i 1\n",
      "índice  1 2^i 2\n",
      "índice  2 2^i 4\n",
      "índice  3 2^i 8\n",
      "índice  4 2^i 16\n",
      "índice  5 2^i 32\n",
      "índice  6 2^i 64\n",
      "índice  7 2^i 128\n",
      "índice  8 2^i 256\n",
      "índice  9 2^i 512\n",
      "índice  10 2^i 1024\n",
      "máximo valor para el exponente 2047\n"
     ]
    }
   ],
   "source": [
    "s=0;\n",
    "for i in range(11):\n",
    "    # print(\"índice \", i)\n",
    "    print(\"índice \", i, \"2^i\", 2**i)\n",
    "    s = s + 2**i\n",
    "print(\"máximo valor para el exponente\", s)"
   ]
  },
  {
   "cell_type": "code",
   "execution_count": 118,
   "metadata": {
    "collapsed": true
   },
   "outputs": [],
   "source": [
    "# 323+308"
   ]
  },
  {
   "cell_type": "markdown",
   "metadata": {},
   "source": [
    "Por otro lado, en el caso del exponente, en vez de usar otro de los bits para su signo, se prefiere realizar una traslación de este valor máximo $11111111111_2 = 2047_10$, restando su mitad entera, $2047//2 = 1023$. "
   ]
  },
  {
   "cell_type": "code",
   "execution_count": 22,
   "metadata": {
    "collapsed": false
   },
   "outputs": [
    {
     "data": {
      "text/plain": [
       "1023"
      ]
     },
     "execution_count": 22,
     "metadata": {},
     "output_type": "execute_result"
    }
   ],
   "source": [
    "2047//2"
   ]
  },
  {
   "cell_type": "markdown",
   "metadata": {},
   "source": [
    "Así pues, en teoría cualquier número en coma flotante que no se encuentre en el rango de valores $10^{-1023}$ y $10^{+1024}$ daría lugar a los típicos errores de tipo \"underflow\" y \"overflow\", respectivamente. No obstante, como fácilmente podemos comprobar, Python usa una representación interna específica que hace que dichos errores de tipo \"underflow\" y \"overflow\" se den para otros valores concretos del exponente, que por supuesto nos conviene conocer para evitar los correspondientes errores en nuestros cálculos. Mientras que el error por \"underflow\" prácticamente se elimina, el error por \"overflow\" tiene lugar para un valor del exponente mucho más pequeño del esperado."
   ]
  },
  {
   "cell_type": "code",
   "execution_count": 23,
   "metadata": {
    "collapsed": false
   },
   "outputs": [
    {
     "data": {
      "text/plain": [
       "(0.0,\n",
       " 10000000000000000000000000000000000000000000000000000000000000000000000000000000000000000000000000000000000000000000000000000000000000000000000000000000000000000000000000000000000000000000000000000000000000000000000000000000000000000000000000000000000000000000000000000000000000000000000000000000000000000000000000000000000000000000000000000000000000000000000000000000000000000000000000000000000000000000000000000000000000000000000000000000000000000000000000000000000000000000000000000000000000000000000000000000000000000000000000000000000000000000000000000000000000000000000000000000000000000000000000000000000000000000000000000000000000000000000000000000000000000000000000000000000000000000000000000000000000000000000000000000000000000000000000000000000000000000000000000000000000000000000000000000000000000000000000000000000000000000000000000000000000000000000000000000000000000000000000000000000000000000000000000000000000000000000000000000000000000000000000000000000000000000000000000000000000000000000000000000000000000)"
      ]
     },
     "execution_count": 23,
     "metadata": {},
     "output_type": "execute_result"
    }
   ],
   "source": [
    "10**(-1023),10**1024"
   ]
  },
  {
   "cell_type": "markdown",
   "metadata": {},
   "source": [
    "No obstante, no hay que dejarse engañar, porque de momento todavía no se está trabajando en coma (o punto) flotante, sino que se están empleando números enteros, sólo que de manera simbólica, y por tanto admite muchos más decimales de los que en un principio podríamos creer."
   ]
  },
  {
   "cell_type": "code",
   "execution_count": 24,
   "metadata": {
    "collapsed": false
   },
   "outputs": [
    {
     "data": {
      "text/plain": [
       "(0.0,\n",
       " 10000000000000000000000000000000000000000000000000000000000000000000000000000000000000000000000000000000000000000000000000000000000000000000000000000000000000000000000000000000000000000000000000000000000000000000000000000000000000000000000000000000000000000000000000000000000000000000000000000000000000000000000000000000000000000000000000000000000000000000000000000000000000000000000000000000000000000000000000000000000000000000000000000000000000000000000000000000000000000000000000000000000000000000000000000000000000000000000000000000000000000000000000000000000000000000000000000000000000000000000000000000000000000000000000000000000000000000000000000000000000000000000000000000000000000000000000000000000000000000000000000000000000000000000000000000000000000000000000000000000000000000000000000000000000000000000000000000000000000000000000000000000000000000000000000000000000000000000000000000000000000000000000000000000000000000000000000000000000000000000000000000000000000000000000000000000000000000000000000000000000000000000000000000000000000000000000000000000000000000000000000000000000000000000000000000000000000000000000000000000000000000000000000000000000000000000000000000000000000000000000000000000000000000000000000000000000000000000000000000000000000000000000000000000000000000000000000000000000000000000000000000000000000000000000000000000000000000000000000000000000000000000000000000000000000000000000000000000000000000000000000000000000000000000000000000000000000000000000000000000000000000000000000000000000000000000000000000000000000000000000000000000000000000000000000000000000000000000000000000000000000000000000000000000000000000000000000000000000000000000000000000000000000000000000000000000000000000000000000000000000000000000000000000000000000000000000000000000000000000000000000000000000000000000000000000000000000000000000000000000000000000000000000000000000000000000000000000000000000000000000000000000000000000000000000000000000000000000000000000000000000000000000000000000000000000000000000000000000000000000000000000000000000000000000000000000000000000000000000000000000000000000000000000000000000000000000000000000000000000000000000000000000000000000000000000000000000000000000000000000000000000000000000000000000000000000000000000000000000000000000000000000000000000000000000000000000000000000000000000000000000000000000000000000000000000000000000000000000000000000000000000000000000000000000000000000000000000000000000000000000000000000000000000000000000000000000000000000000000000000000000000000000000000000000000000000000000000000000000000000000000000000000000000000000000000000000000000000000000000000000000000000000000000000000000000000000000000000000000000000000000000000000000000000000000000000000000000000000000000000000000000000000000000000000000000000000000000000000000000000000000000000000000000000000000000000000000000000000000000000000000000000000000000000000000000000000000000000000000000000000000000000000000000000000000000000000000000000000000000000000000000000000000000000000000000000000000000000000000000000000000000000000000000000000000000000000000000000000000000000000000000000000000000000000000000000000000000000000000000000000000000000000000000000000000000000000000000000000000000000000000000000000000000000000000000000000000000000000000000000000000000000000000000000000000000000000000000000000000000000000000000000000000000000000000000000000000000000000000000000000000000000000000000000000000000000000000000000000000000000000000000000000000000000000000000000000000000000000000000000000000000000000000000000000000000000000000000000000000000000000000000000000000000000000000000000000000000000000000000000000000000000000000000000000000000000000000000000000000000000000000000000000000000000000000000000000000000000000000000000000000000000000000000000000000000000000000000000000000000000000000000000000000000000000000000000000000000000000000000000000000000000000000000000000000000000000000000000000000000000000000000000000000000000000000000000000000000000000000000000000000000000000000000000000000000000000000000000000000000000000000000000000000000000000000000000000000000000000000000000000000000000000000000000000000000000000000000000000000000000000000000000000000000000000000000000000000000000000000000000000000000000000000000000000000000000000000000000000000000000000000000000000000000000000000000000000000000000000000000000000000000000000000000000000000000000000000000000000000000000000000000000000000000000000000000000000000000000000000000000000000000000000000000000000000000000000000000000000000000000000000000000000000000000000000000000000000000000000000000000000000000000000000000000000000000000000000000000000000000000000000000000000000000000000000000000000000000000000000000000000000000000000000000000000000000000000000000000000000000000000000000000000000000000000000000000000000000000000000000000000000000000000000000000000000000000000000000000000000000000000000000000000000000000000000000000000000000000000000000000000000000000000000000000000000000000000000000000000000000000000000000000000000000000000000000000000000000000000000000000000000000000000000000000000000000000000000000000000000000000000000000000000000000000000000000000000000000000000000000000000000000000000000000000000000000000000000000000000000000000000000000000000000000000000000000000000000000000000000000000000000000000000000000000000000000000000000000000000000000000000000000000000000000000000000000000000000000000000000000000000000000000000000000000000000000000000000000000000000000000000000000000000000000000000000000000000000000000000000000000000000000000000000000000000000000000000000000000000000000000000000000000000000000000000000000000000000000000000000000000000000000000000000000000000000000000000000000000000000000000000000000000000000000000000000000000000000000000000000000000000000000000000000000000000000000000000000000000000000000000000000000000000000000000000000000000000000000000000000000000000000000000000000000000000000000000000000000000000000000000000000000000000000000000000000000000000000000000000000000000000000000000000000000000000000000000000000000000000000000000000000000000000000000000000000000000000000000000000000000000000000000000000000000000000000000000000000000000000000000000000000000000000000000000000000000000000000000000000000000000000000000000000000000000000000000000000000000000000000000000000000000000000000000000000000000000000000000000000000000000000000000000000000000000000000000000000000000000000000000000000000000000000000000000000000000000000000000000000000000000000000000000000000000000000000000000000000000000000000000000000000000000000000000000000000000000000000000000000000000000000000000000000000000000000000000000000000000000000000000000000000000000000000000000000000000000000000000000000000000000000000000000000000000000000000000000000000000000000000000000000000000000000000000000000000000000000000000000000000000000000000000000000000000000000000000000000000000000000000000000000000000000000000000000000000000000000000000000000000000000000000000000000000000000000000000000000000000000000000000000000000000000000000000000000000000000000000000000000000000000000000000000000000000000000000000000000000000000000000000000000000000000000000000000000000000000000000000000000000000000000000000000000000000000000000000000000000000000000000000000000000000000000000000000000000000000000000000000000000000000000000000000000000000000000000000000000000000000000000000000000000000000000000000000000000000000000000000000000000000000000000000000000000000000000000000000000000000000000000000000000000000000000000000000000000000000000000000000000000000000000000000000000000000000000000000000000000000000000000000000000000000000000000000000000000000000000000000000000000000000000000000000000000000000000000000000000000000000000000000000000000000000000000000000000000000000000000000000000000000000000000000000000000000000000000000000000000000000000000000000000000000000000000000000000000000000000000000000000000000000000000000000000000000000000000000000000000000000000000000000000000000000000000000000000000000000000000000000000000000000000000000000000000000000000000000000000000000000000000000000000000000000000000000000000000000000000000000000000000000000000000000000000000000000000000000000000000000000000000000000000000000000000000000000000000000000000000000000000000000000000000000000000000000000000000000000000000000000000000000000000000000000000000000000000000000000000000000000000000000000000000000000000000000000000000000000000000000000000000000000000000000000000000000000000000000000000000000000000000000000000000000000000000000000000000000000000000000000000000000000000000000000000000000000000000000000000000000000000000000000000000000000000000000000000000000000000000000000000000000000000000000000000000000000000000000000000000000000000000000000000000000000000000000000000000000000000000000000000000000000000000000000000000000000000000000000000000000000000000000000000000000000000000000000000000000000000000000000000000000000000000000000000000000000000000000000000000000000000000000000000000000000000000000000000000000000000000000000000000000000000000000000000000000000000000000000000000000000000000000000000000000000000000000000000000000000000000000000000000000000000000000000000000000000000000000000000000000000000000000000000000000000000000000000000000000000000000000000000000000000000000000000000000000000000000000000000000000000000000000000000000000000000000000000000000000000000000000000000000000000000000000000000000000000000000000000000000000000000000000000000000000000000000000000000000000000000000000000000000000000000000000000000000000000000000000000000000000000000000000000000000000000000000000000000000000000000000000000000000000000000000000000000000000000000000000000000000000000000000000000000000000000000000000000000000000000000000000000000000000000000000000000000000000000000000000000000000000000000000000000000000000000000000000000000000000000000000000000000000000000000000000000000000000000000000000000000000000000000000000000000000000000000000000000000000000000000000000000000000000000000000000000000000000000000000000000000000000000000000000000000000000000000000000000000000000000000000000000000000000000000000000000000000000000000000000000000000)"
      ]
     },
     "execution_count": 24,
     "metadata": {},
     "output_type": "execute_result"
    }
   ],
   "source": [
    "10**(-10230),10**10240"
   ]
  },
  {
   "cell_type": "markdown",
   "metadata": {},
   "source": [
    "Pero, ¿qué pasaría si alguno de los números tuviera decimales y el resultado se tuviera que dar en coma flotante?"
   ]
  },
  {
   "cell_type": "code",
   "execution_count": 25,
   "metadata": {
    "collapsed": false
   },
   "outputs": [
    {
     "data": {
      "text/plain": [
       "(0.0, 0.0)"
      ]
     },
     "execution_count": 25,
     "metadata": {},
     "output_type": "execute_result"
    }
   ],
   "source": [
    "10.**(-1024),10.**(-10240)"
   ]
  },
  {
   "cell_type": "markdown",
   "metadata": {},
   "source": [
    "Vemos por ejemplo que en el caso de potencias negativas no habría ningún problema, ya que Python 3 por defecto da $0.$ como resultado a partir de la potencia $-324$, como podemos comprobar fácilmente. De esta manera el error por \"underflow\" prácticamente se elimina, como puede comprobarse con los siguientes ejemplos:"
   ]
  },
  {
   "cell_type": "code",
   "execution_count": 26,
   "metadata": {
    "collapsed": false
   },
   "outputs": [
    {
     "data": {
      "text/plain": [
       "(1e-323, 0.0, 0.0)"
      ]
     },
     "execution_count": 26,
     "metadata": {},
     "output_type": "execute_result"
    }
   ],
   "source": [
    "10.**(-323),10.**(-324), 10**(-500000000000000000000000000000)"
   ]
  },
  {
   "cell_type": "markdown",
   "metadata": {},
   "source": [
    "En cuanto a las potencias positivas, ya es otra cuestión, como también se puede comprobar mediante los ejemplos adecuados."
   ]
  },
  {
   "cell_type": "code",
   "execution_count": 27,
   "metadata": {
    "collapsed": false
   },
   "outputs": [
    {
     "data": {
      "text/plain": [
       "1e+308"
      ]
     },
     "execution_count": 27,
     "metadata": {},
     "output_type": "execute_result"
    }
   ],
   "source": [
    "10.**308"
   ]
  },
  {
   "cell_type": "code",
   "execution_count": 28,
   "metadata": {
    "collapsed": false
   },
   "outputs": [
    {
     "ename": "OverflowError",
     "evalue": "(34, 'Result too large')",
     "output_type": "error",
     "traceback": [
      "\u001b[0;31m---------------------------------------------------------------------------\u001b[0m",
      "\u001b[0;31mOverflowError\u001b[0m                             Traceback (most recent call last)",
      "\u001b[0;32m<ipython-input-28-6a3aa552521a>\u001b[0m in \u001b[0;36m<module>\u001b[0;34m()\u001b[0m\n\u001b[0;32m----> 1\u001b[0;31m \u001b[1;36m10.\u001b[0m\u001b[1;33m**\u001b[0m\u001b[1;36m309\u001b[0m\u001b[1;33m\u001b[0m\u001b[0m\n\u001b[0m",
      "\u001b[0;31mOverflowError\u001b[0m: (34, 'Result too large')"
     ]
    }
   ],
   "source": [
    "10.**309"
   ]
  },
  {
   "cell_type": "code",
   "execution_count": 29,
   "metadata": {
    "collapsed": false
   },
   "outputs": [
    {
     "data": {
      "text/plain": [
       "631"
      ]
     },
     "execution_count": 29,
     "metadata": {},
     "output_type": "execute_result"
    }
   ],
   "source": [
    "323+308"
   ]
  },
  {
   "cell_type": "markdown",
   "metadata": {},
   "source": [
    "Veámos otro típico ejemplo en el que un posible error de \"overflow\" es convertido en un valor infinito por la propia librería de funciones matemáticas implementadas en Python."
   ]
  },
  {
   "cell_type": "code",
   "execution_count": 29,
   "metadata": {
    "collapsed": false
   },
   "outputs": [
    {
     "name": "stderr",
     "output_type": "stream",
     "text": [
      "C:\\Program Files\\Anaconda3\\lib\\site-packages\\ipykernel\\__main__.py:1: RuntimeWarning: overflow encountered in exp\n",
      "  if __name__ == '__main__':\n"
     ]
    },
    {
     "data": {
      "text/plain": [
       "inf"
      ]
     },
     "execution_count": 29,
     "metadata": {},
     "output_type": "execute_result"
    }
   ],
   "source": [
    "np.exp(-4*1000000*-0.0641515994108)"
   ]
  },
  {
   "cell_type": "markdown",
   "metadata": {},
   "source": [
    "Si queremos saber con qué precisón opera realmente nuestro ordenador, vamos a encontrar el menor número $h$ de la\n",
    "forma $h=10^{-i}$, con $i$ perteneciente a los naturales, tal que $1+h=1$. Supondremos a priori que $i$ es $100$ a lo sumo."
   ]
  },
  {
   "cell_type": "code",
   "execution_count": 30,
   "metadata": {
    "collapsed": false
   },
   "outputs": [
    {
     "name": "stdout",
     "output_type": "stream",
     "text": [
      "el primer valor para el que se da la igualdad 1+10^(-i)=1 es  i =  16\n",
      "Hemos terminado \n"
     ]
    }
   ],
   "source": [
    "for i in range(100):\n",
    "    if 1+10.**(-i) == 1:\n",
    "        print(\"el primer valor para el que se da la igualdad 1+10^(-i)=1 es  i = \",i)\n",
    "        break\n",
    "print(\"Hemos terminado \")"
   ]
  },
  {
   "cell_type": "markdown",
   "metadata": {},
   "source": [
    "## Error por truncatura, cancelación y por redondeo"
   ]
  },
  {
   "cell_type": "markdown",
   "metadata": {},
   "source": [
    "Si aproximamos ahora la derivada de una función en un cierto punto $x$ mediante la fórmula de derivación numérica $\\frac{1}{h}(f(x+h)-f(x))$, cuando $h$ tome un valor similar al obtenido\n",
    "anteriormente, la respuesta pues va a ser cero (de ahí que se denomine error de cancelación), pero antes habrán entrado en juego otros tipos de errores: el conocido error de redondeo (que tiene lugar en cualquier representación decimal finita), aparte del error de truncatura (inherente a la fórmula numérica empleada), y después el de cancelación (que unido a los demás tipos de errores es el que producirá resultados aún más extraños). Supongamos que el valor obtenido de $i$ anteriormente fue menor que $20$. Vamos a escribir aproximaciones de la derivada de $e^x$ en el punto\n",
    "$x=1$. Las almacenamos en una lista, `aprox`, que posteriormente mostramos."
   ]
  },
  {
   "cell_type": "code",
   "execution_count": 31,
   "metadata": {
    "collapsed": false
   },
   "outputs": [
    {
     "data": {
      "text/plain": [
       "[4.6707742704716058,\n",
       " 2.858841954873883,\n",
       " 2.7319186557871245,\n",
       " 2.7196414225332255,\n",
       " 2.7184177470829241,\n",
       " 2.7182954199567173,\n",
       " 2.7182831874306146,\n",
       " 2.7182819684057336,\n",
       " 2.7182818218562943,\n",
       " 2.7182820439008992,\n",
       " 2.7182833761685288,\n",
       " 2.7183144624132183,\n",
       " 2.7187141427020833,\n",
       " 2.7178259642823832,\n",
       " 2.708944180085382,\n",
       " 3.1086244689504379,\n",
       " 0.0,\n",
       " 0.0,\n",
       " 0.0,\n",
       " 0.0]"
      ]
     },
     "execution_count": 31,
     "metadata": {},
     "output_type": "execute_result"
    }
   ],
   "source": [
    "aprox = [];\n",
    "for i in range(20):\n",
    "    aprox.append((np.exp(1+10**(-i))-np.exp(1.))/(10**(-i)))\n",
    "aprox"
   ]
  },
  {
   "cell_type": "code",
   "execution_count": 32,
   "metadata": {
    "collapsed": false
   },
   "outputs": [
    {
     "data": {
      "text/plain": [
       "2.7182818284590451"
      ]
     },
     "execution_count": 32,
     "metadata": {},
     "output_type": "execute_result"
    }
   ],
   "source": [
    "np.exp(1)"
   ]
  },
  {
   "cell_type": "markdown",
   "metadata": {},
   "source": [
    "Vemos claramente cómo las primeras aproximaciones distan sustancialmente del valor exacto debido a que el error de la fórmula empleada es importante cuando $h$ no es suficientemente pequeño, ya que procede de truncar el desarrollo de Taylor por el primer término y el error queda del mismo orden de $h$ (es el denominado error por truncatura). Cuando aumenta el valor de $i$ la aproximación de la derivada cada vez se acerca más al valor exacto, que con 16 decimales sería $2.7182818284590451$. Sin embargo, después de un cierto empeoramiento en el resultado (hay varios resultados que empiezan a alejarse del valor exacto debido a que se está produciendo un importante error de redondeo y empieza a actuar el denominado error por cancelación) al final acaba dando cero (que es el error por cancelación puro), como era de esperar, puesto que estaríamos restando dos números idénticos para el ordenador (que redondea $x+h$ y $x$ al mismo número máquina y será incapaz de distinguirlos)."
   ]
  },
  {
   "cell_type": "markdown",
   "metadata": {},
   "source": [
    "Nuevamente comprobamos el error de cancelación al procesar el valor de la diferencia entre dos cantidades muy similares, concretamente entre\n",
    "las raíces de $y+1$ e $y$ multiplicada por $y$, $\\left(\\sqrt{y+1}-\\sqrt{y}\\right)y$, para valores grandes de $y$, que equivale a\n",
    "$\\frac{y}{\\sqrt{y+1}+\\sqrt{y}}$ y que vale aproximadamente $\\frac{\\sqrt{y}}{2}$. Tomamos $y=2.5\\ 10^i$. Almacenamos los valores obtenidos en una **lista** o **array**."
   ]
  },
  {
   "cell_type": "code",
   "execution_count": 33,
   "metadata": {
    "collapsed": false
   },
   "outputs": [
    {
     "data": {
      "text/plain": [
       "[0.72422465825695226,\n",
       " 2.4754878398196123,\n",
       " 7.8978042282407124,\n",
       " 24.997500499868153,\n",
       " 79.0561509504073,\n",
       " 249.99974999673213,\n",
       " 790.56933600440971,\n",
       " 2499.999982319423,\n",
       " 7905.6944741751067,\n",
       " 25000.008463393897,\n",
       " 79056.917456910014,\n",
       " 250001.90362334251,\n",
       " 790460.03520488739,\n",
       " 2491287.887096405,\n",
       " 7916241.8842315674,\n",
       " 18626451.49230957,\n",
       " 0.0,\n",
       " 0.0,\n",
       " 0.0,\n",
       " 0.0]"
      ]
     },
     "execution_count": 33,
     "metadata": {},
     "output_type": "execute_result"
    }
   ],
   "source": [
    "listapordif = []; listaporcoc = [];\n",
    "for i in range(20):\n",
    "    pordif = (np.sqrt(1+2.5*10**i)-np.sqrt(2.5*10**i))*2.5*10**i\n",
    "    porcoc = 2.5*10**i/(np.sqrt(1+2.5*10**i)+np.sqrt(2.5*10**i))\n",
    "    listapordif.append(pordif)\n",
    "    listaporcoc.append(porcoc)\n",
    "listapordif"
   ]
  },
  {
   "cell_type": "code",
   "execution_count": 34,
   "metadata": {
    "collapsed": false
   },
   "outputs": [
    {
     "data": {
      "text/plain": [
       "[0.72422465825695259,\n",
       " 2.4754878398196207,\n",
       " 7.897804228240707,\n",
       " 24.997500499875038,\n",
       " 79.056150950605428,\n",
       " 249.9997500005,\n",
       " 790.56933598516912,\n",
       " 2499.9999750000006,\n",
       " 7905.6941425152545,\n",
       " 24999.999997499999,\n",
       " 79056.941503418915,\n",
       " 249999.99999975,\n",
       " 790569.41504201572,\n",
       " 2499999.9999999749,\n",
       " 7905694.1504209405,\n",
       " 25000000.0,\n",
       " 79056941.504209474,\n",
       " 250000000.0,\n",
       " 790569415.04209483,\n",
       " 2500000000.0]"
      ]
     },
     "execution_count": 34,
     "metadata": {},
     "output_type": "execute_result"
    }
   ],
   "source": [
    "listaporcoc"
   ]
  },
  {
   "cell_type": "markdown",
   "metadata": {},
   "source": [
    "## Condicionamiento"
   ]
  },
  {
   "cell_type": "markdown",
   "metadata": {},
   "source": [
    "Veamos ahora cómo se comporta la evaluación de diferentes funciones, por ejemplo suponemos dos funciones $f_1$ y $f_2$, que se van\n",
    "a evaluar en $x=0.05$. Vamos a mostrar también los valores de $f_1$ y $f_2$ en otros dos puntos próximos a $0.05$, que distan\n",
    "de éste una milésima. y en dos puntos más: uno fijo."
   ]
  },
  {
   "cell_type": "code",
   "execution_count": 35,
   "metadata": {
    "collapsed": true
   },
   "outputs": [],
   "source": [
    "def f1(x):\n",
    "    return sp.exp(200*x)+20"
   ]
  },
  {
   "cell_type": "code",
   "execution_count": 36,
   "metadata": {
    "collapsed": false
   },
   "outputs": [
    {
     "data": {
      "text/plain": [
       "(18053.7449278285, 22046.4657948067, 26923.1860742975)"
      ]
     },
     "execution_count": 36,
     "metadata": {},
     "output_type": "execute_result"
    }
   ],
   "source": [
    "f1(0.049),f1(0.05),f1(0.051)"
   ]
  },
  {
   "cell_type": "code",
   "execution_count": 37,
   "metadata": {
    "collapsed": true
   },
   "outputs": [],
   "source": [
    "def f2(x):\n",
    "    return sp.exp(-200*x)+20"
   ]
  },
  {
   "cell_type": "code",
   "execution_count": 38,
   "metadata": {
    "collapsed": false
   },
   "outputs": [
    {
     "data": {
      "text/plain": [
       "(20.0000554515994, 20.0000453999298, 20.0000371703187)"
      ]
     },
     "execution_count": 38,
     "metadata": {},
     "output_type": "execute_result"
    }
   ],
   "source": [
    "f2(0.049),f2(0.05),f2(0.051)"
   ]
  },
  {
   "cell_type": "markdown",
   "metadata": {},
   "source": [
    "En el primer caso las diferencias son enormes, mientras que en el segundo son insignificantes. Una variación de una milésima en el valor de $x$ implica una variación igual a $\\frac{1}{1000}f_1^{'}(0.05)=4405.29$ en la primera función y $\\frac{1}{1000}f_2^{'}(0.05)=-0.000009$."
   ]
  },
  {
   "cell_type": "code",
   "execution_count": 39,
   "metadata": {
    "collapsed": true
   },
   "outputs": [],
   "source": [
    "x = sp.Symbol('x')"
   ]
  },
  {
   "cell_type": "code",
   "execution_count": 40,
   "metadata": {
    "collapsed": false
   },
   "outputs": [
    {
     "data": {
      "text/plain": [
       "(200*exp(200*x), -200*exp(-200*x))"
      ]
     },
     "execution_count": 40,
     "metadata": {},
     "output_type": "execute_result"
    }
   ],
   "source": [
    "sp.diff(f1(x),x),sp.diff(f2(x),x)"
   ]
  },
  {
   "cell_type": "code",
   "execution_count": 41,
   "metadata": {
    "collapsed": true
   },
   "outputs": [],
   "source": [
    "def df1(x):\n",
    "    return 200*sp.exp(200*x)"
   ]
  },
  {
   "cell_type": "code",
   "execution_count": 42,
   "metadata": {
    "collapsed": true
   },
   "outputs": [],
   "source": [
    "def df2(x):\n",
    "    return -200*sp.exp(-200*x)"
   ]
  },
  {
   "cell_type": "code",
   "execution_count": 43,
   "metadata": {
    "collapsed": false
   },
   "outputs": [
    {
     "data": {
      "text/plain": [
       "(4405.29315896134, -9.07998595249697e-6)"
      ]
     },
     "execution_count": 43,
     "metadata": {},
     "output_type": "execute_result"
    }
   ],
   "source": [
    "df1(0.05)/1000,df2(0.05)/1000"
   ]
  },
  {
   "cell_type": "markdown",
   "metadata": {},
   "source": [
    "Por otra parte, hay matrices que están bien condicionadas, por ejemplo las de Householder. Estas matrices son de la forma $I-2 u u^\\top$, donde $u$ es un vector con norma euclídea igual a la unidad. Sea por ejemplo $u=\\left(\\frac{4}{7},\\frac{4}{7},\\frac{4}{7},\\frac{1}{7}\\right)$, entonces la matriz de Householder correspondiente es"
   ]
  },
  {
   "cell_type": "code",
   "execution_count": 44,
   "metadata": {
    "collapsed": true
   },
   "outputs": [],
   "source": [
    "u = [4/7,4/7,4/7,1/7]"
   ]
  },
  {
   "cell_type": "code",
   "execution_count": 45,
   "metadata": {
    "collapsed": false
   },
   "outputs": [
    {
     "data": {
      "text/plain": [
       "4"
      ]
     },
     "execution_count": 45,
     "metadata": {},
     "output_type": "execute_result"
    }
   ],
   "source": [
    "n = len(u);\n",
    "n"
   ]
  },
  {
   "cell_type": "code",
   "execution_count": 46,
   "metadata": {
    "collapsed": false
   },
   "outputs": [
    {
     "data": {
      "text/plain": [
       "array([[ 1.,  0.,  0.,  0.],\n",
       "       [ 0.,  1.,  0.,  0.],\n",
       "       [ 0.,  0.,  1.,  0.],\n",
       "       [ 0.,  0.,  0.,  1.]])"
      ]
     },
     "execution_count": 46,
     "metadata": {},
     "output_type": "execute_result"
    }
   ],
   "source": [
    "np.identity(n)"
   ]
  },
  {
   "cell_type": "code",
   "execution_count": 47,
   "metadata": {
    "collapsed": false
   },
   "outputs": [
    {
     "data": {
      "text/plain": [
       "array([[ 0.34693878, -0.65306122, -0.65306122, -0.16326531],\n",
       "       [-0.65306122,  0.34693878, -0.65306122, -0.16326531],\n",
       "       [-0.65306122, -0.65306122,  0.34693878, -0.16326531],\n",
       "       [-0.16326531, -0.16326531, -0.16326531,  0.95918367]])"
      ]
     },
     "execution_count": 47,
     "metadata": {},
     "output_type": "execute_result"
    }
   ],
   "source": [
    "A = np.identity(n)-[[2*u[i]*u[j] for i in range(n)] for j in range(n)];\n",
    "A"
   ]
  },
  {
   "cell_type": "markdown",
   "metadata": {},
   "source": [
    "Vemos que su inversa es ella misma"
   ]
  },
  {
   "cell_type": "code",
   "execution_count": 48,
   "metadata": {
    "collapsed": false
   },
   "outputs": [
    {
     "data": {
      "text/plain": [
       "array([[ 0.34693878, -0.65306122, -0.65306122, -0.16326531],\n",
       "       [-0.65306122,  0.34693878, -0.65306122, -0.16326531],\n",
       "       [-0.65306122, -0.65306122,  0.34693878, -0.16326531],\n",
       "       [-0.16326531, -0.16326531, -0.16326531,  0.95918367]])"
      ]
     },
     "execution_count": 48,
     "metadata": {},
     "output_type": "execute_result"
    }
   ],
   "source": [
    "np.linalg.inv(A)"
   ]
  },
  {
   "cell_type": "code",
   "execution_count": 49,
   "metadata": {
    "collapsed": false
   },
   "outputs": [
    {
     "data": {
      "text/plain": [
       "array([[  1.00000000e+00,  -1.28369537e-16,  -1.28369537e-16,\n",
       "         -2.77555756e-17],\n",
       "       [ -1.28369537e-16,   1.00000000e+00,  -1.28369537e-16,\n",
       "         -2.77555756e-17],\n",
       "       [ -1.28369537e-16,  -1.28369537e-16,   1.00000000e+00,\n",
       "         -2.77555756e-17],\n",
       "       [ -2.77555756e-17,  -2.77555756e-17,  -2.77555756e-17,\n",
       "          1.00000000e+00]])"
      ]
     },
     "execution_count": 49,
     "metadata": {},
     "output_type": "execute_result"
    }
   ],
   "source": [
    "np.dot(A,A)"
   ]
  },
  {
   "cell_type": "code",
   "execution_count": 50,
   "metadata": {
    "collapsed": false
   },
   "outputs": [
    {
     "data": {
      "text/plain": [
       "array([[  1.00000000e+00,  -1.28369537e-16,  -1.28369537e-16,\n",
       "          0.00000000e+00],\n",
       "       [ -1.28369537e-16,   1.00000000e+00,  -1.28369537e-16,\n",
       "          0.00000000e+00],\n",
       "       [ -1.28369537e-16,  -1.28369537e-16,   1.00000000e+00,\n",
       "          0.00000000e+00],\n",
       "       [  0.00000000e+00,   0.00000000e+00,   0.00000000e+00,\n",
       "          1.00000000e+00]])"
      ]
     },
     "execution_count": 50,
     "metadata": {},
     "output_type": "execute_result"
    }
   ],
   "source": [
    "chop_vec(_)"
   ]
  },
  {
   "cell_type": "markdown",
   "metadata": {},
   "source": [
    "Si calculamos ahora la norma del máximo, vemos que $A$ tiene norma menor que $2$, por lo que su condicionamiento (con esta misma\n",
    "norma del máximo) es menor que 4."
   ]
  },
  {
   "cell_type": "code",
   "execution_count": 51,
   "metadata": {
    "collapsed": false
   },
   "outputs": [
    {
     "data": {
      "text/plain": [
       "1.9999999999999998"
      ]
     },
     "execution_count": 51,
     "metadata": {},
     "output_type": "execute_result"
    }
   ],
   "source": [
    "np.linalg.norm(A)"
   ]
  },
  {
   "cell_type": "markdown",
   "metadata": {},
   "source": [
    "Veamos cómo cambia la solución de un sistema cuando se perturba su matriz de coeficientes, $A$.\n",
    "Por ejemplo, vamos a tomar como términos independientes (por comodidad) el vector $\\left(-\\frac{55}{49},-\\frac{55}{49},-\\frac{55}{49},\\frac{23}{49}\\right)$,\n",
    "con lo cual la solución del sistema correspondiente es $(1,1,1,1)$."
   ]
  },
  {
   "cell_type": "code",
   "execution_count": 52,
   "metadata": {
    "collapsed": true
   },
   "outputs": [],
   "source": [
    "b = [-55/49,-55/49,-55/49,23/49]"
   ]
  },
  {
   "cell_type": "code",
   "execution_count": 53,
   "metadata": {
    "collapsed": false
   },
   "outputs": [
    {
     "data": {
      "text/plain": [
       "array([ 1.,  1.,  1.,  1.])"
      ]
     },
     "execution_count": 53,
     "metadata": {},
     "output_type": "execute_result"
    }
   ],
   "source": [
    "np.linalg.solve(A,b)"
   ]
  },
  {
   "cell_type": "markdown",
   "metadata": {},
   "source": [
    "Perturbamos cada coeficiente de forma aleatoria, por ejemplo, con valores comprendidos entre $-0.05$ y $0.05$, para lo que definimos, y mostramos, una matriz cuyos elementos son dichas perturbaciones."
   ]
  },
  {
   "cell_type": "code",
   "execution_count": 54,
   "metadata": {
    "collapsed": false
   },
   "outputs": [
    {
     "name": "stdout",
     "output_type": "stream",
     "text": [
      "[[0.034808828150944326, -0.0020672646014371215, -0.01229768112700573, -0.012548959153440543], [0.02376063882630429, -0.027305782703430006, -0.026660213366700283, -0.04714226464387135], [0.019706050709157083, -0.0046725599318108366, 0.049715990630344625, 0.009906979909847978], [-0.027054157789787016, 0.03817633254672584, 0.04380760167379032, 0.044421019766376454]]\n"
     ]
    }
   ],
   "source": [
    "B = [[1/10*random()-0.05 for i in range(n)] for j in range(n)];\n",
    "print(B)"
   ]
  },
  {
   "cell_type": "code",
   "execution_count": 55,
   "metadata": {
    "collapsed": false
   },
   "outputs": [
    {
     "data": {
      "text/plain": [
       "array([ 1.01035041,  1.09419524,  0.94919245,  0.90866177])"
      ]
     },
     "execution_count": 55,
     "metadata": {},
     "output_type": "execute_result"
    }
   ],
   "source": [
    "np.linalg.solve(A+B,b)"
   ]
  },
  {
   "cell_type": "markdown",
   "metadata": {},
   "source": [
    "Podríamos procesar varias veces y ver que las soluciones oscilan poco con respecto a la solución del sistema original. "
   ]
  },
  {
   "cell_type": "markdown",
   "metadata": {},
   "source": [
    "Pero si repetimos ahora lo mismo\n",
    "con una nueva matriz A, que indicamos a continuación, los resultados sí que cambian significativamente:"
   ]
  },
  {
   "cell_type": "code",
   "execution_count": 56,
   "metadata": {
    "collapsed": true
   },
   "outputs": [],
   "source": [
    "A = [[93,-80,88,25],[-69,88,87,35],[7,7,6,6],[85,-84,83,20]]"
   ]
  },
  {
   "cell_type": "markdown",
   "metadata": {},
   "source": [
    "Para tener de nuevo, por simplicidad, la solución $(1,1,1,1)$, tomamos como término independiente $b$ el vector $(126,141,26,104)$."
   ]
  },
  {
   "cell_type": "code",
   "execution_count": 57,
   "metadata": {
    "collapsed": true
   },
   "outputs": [],
   "source": [
    "b = [126,141,26,104]"
   ]
  },
  {
   "cell_type": "code",
   "execution_count": 58,
   "metadata": {
    "collapsed": false
   },
   "outputs": [
    {
     "data": {
      "text/plain": [
       "array([ 1.,  1.,  1.,  1.])"
      ]
     },
     "execution_count": 58,
     "metadata": {},
     "output_type": "execute_result"
    }
   ],
   "source": [
    "np.linalg.solve(A,b)"
   ]
  },
  {
   "cell_type": "markdown",
   "metadata": {},
   "source": [
    "Veámos ahora cuál es la inversa de esta nueva matriz $A$, así como las correspondientes normas matriciales."
   ]
  },
  {
   "cell_type": "code",
   "execution_count": 59,
   "metadata": {
    "collapsed": true
   },
   "outputs": [],
   "source": [
    "Ainv = np.linalg.inv(A)"
   ]
  },
  {
   "cell_type": "code",
   "execution_count": 60,
   "metadata": {
    "collapsed": false
   },
   "outputs": [
    {
     "data": {
      "text/plain": [
       "(257.79255225859418, 1723.1407158312077)"
      ]
     },
     "execution_count": 60,
     "metadata": {},
     "output_type": "execute_result"
    }
   ],
   "source": [
    "np.linalg.norm(A), np.linalg.norm(Ainv)"
   ]
  },
  {
   "cell_type": "markdown",
   "metadata": {},
   "source": [
    "Las matrices de Hilbert son otro ejemplo de matrices mal condicionadas. Definamos a continuación la de orden $4$, así como un vector de términos independientes adecuado para que la solución del correspondiente sistema siga siendo $(1,1,1,1)$."
   ]
  },
  {
   "cell_type": "code",
   "execution_count": 61,
   "metadata": {
    "collapsed": false
   },
   "outputs": [
    {
     "name": "stdout",
     "output_type": "stream",
     "text": [
      "[[ 0.5         0.33333333  0.25        0.2       ]\n",
      " [ 0.33333333  0.25        0.2         0.16666667]\n",
      " [ 0.25        0.2         0.16666667  0.14285714]\n",
      " [ 0.2         0.16666667  0.14285714  0.125     ]]\n"
     ]
    }
   ],
   "source": [
    "A = np.array([[1/(i+j) for i in range(1,5)] for j in range(1,5)])\n",
    "print(A)"
   ]
  },
  {
   "cell_type": "code",
   "execution_count": 62,
   "metadata": {
    "collapsed": true
   },
   "outputs": [],
   "source": [
    "n = len(A)"
   ]
  },
  {
   "cell_type": "code",
   "execution_count": 63,
   "metadata": {
    "collapsed": false
   },
   "outputs": [
    {
     "data": {
      "text/plain": [
       "16"
      ]
     },
     "execution_count": 63,
     "metadata": {},
     "output_type": "execute_result"
    }
   ],
   "source": [
    "np.size(A)"
   ]
  },
  {
   "cell_type": "code",
   "execution_count": 64,
   "metadata": {
    "collapsed": true
   },
   "outputs": [],
   "source": [
    "b = np.array([77/60, 19/20, 319/420, 533/840])"
   ]
  },
  {
   "cell_type": "markdown",
   "metadata": {},
   "source": [
    "Como antes, perturbamos aleatoriamente la matriz $A$ y resolvemos el nuevo sistema, repitiendo varias veces el procedimiento para ver cómo afectan estas pequeñas perturbaciones a la solución final del mismo."
   ]
  },
  {
   "cell_type": "code",
   "execution_count": 65,
   "metadata": {
    "collapsed": false
   },
   "outputs": [
    {
     "data": {
      "text/plain": [
       "array([-0.79120281,  2.15453017,  6.21627752, -3.39199843])"
      ]
     },
     "execution_count": 65,
     "metadata": {},
     "output_type": "execute_result"
    }
   ],
   "source": [
    "B = np.array([[1/10*random()-0.05 for i in range(n)] for j in range(n)])\n",
    "np.linalg.solve(A+B,b)"
   ]
  },
  {
   "cell_type": "code",
   "execution_count": 66,
   "metadata": {
    "collapsed": false
   },
   "outputs": [
    {
     "name": "stdout",
     "output_type": "stream",
     "text": [
      "[[ 0.5187826   0.33095843  0.28390475  0.2311602 ]\n",
      " [ 0.31331527  0.28549046  0.1716799   0.14281014]\n",
      " [ 0.25823639  0.22112564  0.13217594  0.09853278]\n",
      " [ 0.22992523  0.12266185  0.18103547  0.16898713]]\n"
     ]
    }
   ],
   "source": [
    "print(A+B)"
   ]
  },
  {
   "cell_type": "code",
   "execution_count": 67,
   "metadata": {
    "collapsed": false
   },
   "outputs": [
    {
     "data": {
      "text/plain": [
       "array([-0.79120281,  2.15453017,  6.21627752, -3.39199843])"
      ]
     },
     "execution_count": 67,
     "metadata": {},
     "output_type": "execute_result"
    }
   ],
   "source": [
    "np.linalg.solve(A+B,b)"
   ]
  },
  {
   "cell_type": "markdown",
   "metadata": {},
   "source": [
    "# Precisión finita o infinita con Python"
   ]
  },
  {
   "cell_type": "markdown",
   "metadata": {},
   "source": [
    "Evidentemente cualquiera de nosotros quisiera que los cálculos efectuados con el ordenador respondieran fidedignamente a los resultados que obtendríamos realizando dichos cálculos nosotros mismos con lápiz y papel, ya sean de tipo simbólico o con un determinado número de cifras decimales. Sin embargo, veámos qué pasa con alguna de las operaciones que vienen a continuación cuando las realizamos en una computadora usando un lenguaje de programación cualquiera, como Python en este caso:"
   ]
  },
  {
   "cell_type": "code",
   "execution_count": 68,
   "metadata": {
    "collapsed": false
   },
   "outputs": [
    {
     "data": {
      "text/plain": [
       "3.3000000000000003"
      ]
     },
     "execution_count": 68,
     "metadata": {},
     "output_type": "execute_result"
    }
   ],
   "source": [
    "1.1+2.2"
   ]
  },
  {
   "cell_type": "code",
   "execution_count": 69,
   "metadata": {
    "collapsed": false
   },
   "outputs": [
    {
     "data": {
      "text/plain": [
       "0.7999999999999999"
      ]
     },
     "execution_count": 69,
     "metadata": {},
     "output_type": "execute_result"
    }
   ],
   "source": [
    "0.7+0.1"
   ]
  },
  {
   "cell_type": "code",
   "execution_count": 70,
   "metadata": {
    "collapsed": false
   },
   "outputs": [
    {
     "data": {
      "text/plain": [
       "0.30000000000000004"
      ]
     },
     "execution_count": 70,
     "metadata": {},
     "output_type": "execute_result"
    }
   ],
   "source": [
    "0.1+0.2"
   ]
  },
  {
   "cell_type": "code",
   "execution_count": 71,
   "metadata": {
    "collapsed": false
   },
   "outputs": [
    {
     "data": {
      "text/plain": [
       "0.30000000000000004"
      ]
     },
     "execution_count": 71,
     "metadata": {},
     "output_type": "execute_result"
    }
   ],
   "source": [
    "1/10+1/5"
   ]
  },
  {
   "cell_type": "markdown",
   "metadata": {},
   "source": [
    "Todos estos resultados escapan a toda lógica, si suponemos que estamos operando con al menos un decimal en base 10; pero la cuestión es que cualquier sistema digital (ya sea una simple calculadora, un ordenador portátil o super ordenador de cálculo científico) opera internamente en sistema binario (sólo ceros y unos); con lo cuál cualquier número (ya sea entero, fraccionario, decimal en coma flotante, etc.) debe de convertirse previamente a un número en base 2 y almacenarse de alguna manera en forma de una colección de bits en uno o varios registros electrónicos, que constituyen parte de la memoria RAM o de tipo Cache a distintos niveles dentro de la máquina, antes de poder realizarse cualquier operación con él."
   ]
  },
  {
   "cell_type": "markdown",
   "metadata": {},
   "source": [
    "Afortunadamente, hoy en día los diferentes sistemas de computación simbólica (CAS de las siglas en inglés) poseen herramientas que hacen posible la computación con diferentes grados de precisión, hasta llegar incluso a la llamada precisión infinita, cuando se permite el cálculo de tipo simbólico. En el caso de Python, esta computación simbólica viene de la mano del módulo SymPy, que ya habíamos cargado al principio de este notebook con el alias sp."
   ]
  },
  {
   "cell_type": "markdown",
   "metadata": {},
   "source": [
    "Por otra parte, SymPy posee tipos de datos numéricos propios: Rational, Integer, etc. pero ya que las nuevas versiones de Python admiten la posibilidad de trabajar por defecto con enteros \"largos\", como veremos en algunos ejemplos a continuación, nos centraremos fundamentalmente en cómo trabajar con fracciones."
   ]
  },
  {
   "cell_type": "markdown",
   "metadata": {},
   "source": [
    "Pero con el objeto de obtener unas bonitas salidas de resultados en formato $\\LaTeX$ ejecutemos también la siguiente orden."
   ]
  },
  {
   "cell_type": "code",
   "execution_count": 72,
   "metadata": {
    "collapsed": true
   },
   "outputs": [],
   "source": [
    "sp.init_printing()"
   ]
  },
  {
   "cell_type": "code",
   "execution_count": 73,
   "metadata": {
    "collapsed": true
   },
   "outputs": [],
   "source": [
    "n1 = sp.Integer(12345678901234567890123456789012345678909)\n",
    "n2 = sp.Integer(99999999999999999999999999999999999999999)"
   ]
  },
  {
   "cell_type": "code",
   "execution_count": 74,
   "metadata": {
    "collapsed": false
   },
   "outputs": [
    {
     "data": {
      "image/png": "[encoded data removed]",
      "text/latex": [
       "$$112345678901234567890123456789012345678908$$"
      ],
      "text/plain": [
       "112345678901234567890123456789012345678908"
      ]
     },
     "execution_count": 74,
     "metadata": {},
     "output_type": "execute_result"
    }
   ],
   "source": [
    "n1+n2"
   ]
  },
  {
   "cell_type": "code",
   "execution_count": 75,
   "metadata": {
    "collapsed": false
   },
   "outputs": [
    {
     "data": {
      "image/png": "[encoded data removed]",
      "text/latex": [
       "$$112345678901234567890123456789012345678908$$"
      ],
      "text/plain": [
       "112345678901234567890123456789012345678908"
      ]
     },
     "execution_count": 75,
     "metadata": {},
     "output_type": "execute_result"
    }
   ],
   "source": [
    "12345678901234567890123456789012345678909+99999999999999999999999999999999999999999"
   ]
  },
  {
   "cell_type": "code",
   "execution_count": 76,
   "metadata": {
    "collapsed": true
   },
   "outputs": [],
   "source": [
    "r1 = sp.Rational(4,5)\n",
    "r2 = sp.Rational(5,3)"
   ]
  },
  {
   "cell_type": "code",
   "execution_count": 77,
   "metadata": {
    "collapsed": true
   },
   "outputs": [],
   "source": [
    "r = r1+r2"
   ]
  },
  {
   "cell_type": "code",
   "execution_count": 78,
   "metadata": {
    "collapsed": false
   },
   "outputs": [
    {
     "data": {
      "image/png": "[encoded data removed]",
      "text/latex": [
       "$$\\frac{37}{15}$$"
      ],
      "text/plain": [
       "37\n",
       "──\n",
       "15"
      ]
     },
     "execution_count": 78,
     "metadata": {},
     "output_type": "execute_result"
    }
   ],
   "source": [
    "r"
   ]
  },
  {
   "cell_type": "markdown",
   "metadata": {},
   "source": [
    "Para poder evaluar ahora numéricamente dicha fracción y obtener las cifras significativas (ya sean enteras o decimales) que nececesitemos, podemos usar varias funciones específicas para ello."
   ]
  },
  {
   "cell_type": "code",
   "execution_count": 79,
   "metadata": {
    "collapsed": false
   },
   "outputs": [
    {
     "data": {
      "image/png": "[encoded data removed]",
      "text/latex": [
       "$$\\left ( 2.46666666666667, \\quad 2.46667, \\quad 2.4666666666666666666666667\\right )$$"
      ],
      "text/plain": [
       "(2.46666666666667, 2.46667, 2.4666666666666666666666667)"
      ]
     },
     "execution_count": 79,
     "metadata": {},
     "output_type": "execute_result"
    }
   ],
   "source": [
    "sp.N(r), sp.N(r,6),  sp.N(r,26) "
   ]
  },
  {
   "cell_type": "code",
   "execution_count": 80,
   "metadata": {
    "collapsed": false
   },
   "outputs": [
    {
     "data": {
      "image/png": "[encoded data removed]",
      "text/latex": [
       "$$\\left ( 2.46666666666667, \\quad 2.46667, \\quad 2.4666666666666666666666667\\right )$$"
      ],
      "text/plain": [
       "(2.46666666666667, 2.46667, 2.4666666666666666666666667)"
      ]
     },
     "execution_count": 80,
     "metadata": {},
     "output_type": "execute_result"
    }
   ],
   "source": [
    "r.evalf(),r.evalf(n=6), r.evalf(n=26)"
   ]
  },
  {
   "cell_type": "markdown",
   "metadata": {},
   "source": [
    "Vemos que por defecto, si no indicamos un número de cifras concreto,\n",
    "se suelen presentar los resultados con unas 15 cifras significativas, aunque internamente se suela trabajar con unas 16 cifras por defecto."
   ]
  },
  {
   "cell_type": "markdown",
   "metadata": {},
   "source": [
    "Por otro lado, vemos también que cuando los números que se usan como datos son todos enteros, racionales o reales pero de tipo simbólico y no se indica que se utilice una aproximación numérica de los mismos, entonces *Python* opera en modo simbólico y, por tanto, con precisión infinita. Sin embargo, también podemos indicar que alguno o algunos de ellos sean considerados en coma (o punto) flotante y todas las operaciones en las que intervenga las hará también en ese formato. Observe los siguientes ejemplos, y fíjese en el hecho de poder cambiar el tipo de muchas constantes un números reales sin más que cambiar el módulo del que provienen (sp. por np.):"
   ]
  },
  {
   "cell_type": "code",
   "execution_count": 81,
   "metadata": {
    "collapsed": false
   },
   "outputs": [
    {
     "data": {
      "image/png": "[encoded data removed]",
      "text/latex": [
       "$$12345678901234567890123456789012345678918$$"
      ],
      "text/plain": [
       "12345678901234567890123456789012345678918"
      ]
     },
     "execution_count": 81,
     "metadata": {},
     "output_type": "execute_result"
    }
   ],
   "source": [
    "12345678901234567890123456789012345678909 + 9"
   ]
  },
  {
   "cell_type": "code",
   "execution_count": 82,
   "metadata": {
    "collapsed": false
   },
   "outputs": [
    {
     "data": {
      "image/png": "[encoded data removed]",
      "text/latex": [
       "$$1.2345678901234568e+40$$"
      ],
      "text/plain": [
       "1.2345678901234568e+40"
      ]
     },
     "execution_count": 82,
     "metadata": {},
     "output_type": "execute_result"
    }
   ],
   "source": [
    "12345678901234567890123456789012345678909 + 9."
   ]
  },
  {
   "cell_type": "code",
   "execution_count": 83,
   "metadata": {
    "collapsed": false
   },
   "outputs": [
    {
     "data": {
      "image/png": "[encoded data removed]",
      "text/latex": [
       "$$- e - \\sqrt{3} - \\log{\\left (2 \\right )} + \\pi + \\frac{53}{15}$$"
      ],
      "text/plain": [
       "                       53\n",
       "-ℯ - √3 - log(2) + π + ──\n",
       "                       15"
      ]
     },
     "execution_count": 83,
     "metadata": {},
     "output_type": "execute_result"
    }
   ],
   "source": [
    "sp.Rational(1,3)+sp.Rational(32,10)-sp.log(2)-sp.sqrt(3)+sp.pi-sp.E"
   ]
  },
  {
   "cell_type": "code",
   "execution_count": 84,
   "metadata": {
    "collapsed": false
   },
   "outputs": [
    {
     "data": {
      "image/png": "[encoded data removed]",
      "text/latex": [
       "$$- e - \\sqrt{3} - \\log{\\left (2 \\right )} + \\pi + 3.53333333333333$$"
      ],
      "text/plain": [
       "-ℯ - √3 - log(2) + π + 3.53333333333333"
      ]
     },
     "execution_count": 84,
     "metadata": {},
     "output_type": "execute_result"
    }
   ],
   "source": [
    "sp.Rational(1,3)+3.2-sp.log(2)-sp.sqrt(3)+sp.pi-sp.E"
   ]
  },
  {
   "cell_type": "code",
   "execution_count": 85,
   "metadata": {
    "collapsed": false
   },
   "outputs": [
    {
     "data": {
      "image/png": "[encoded data removed]",
      "text/latex": [
       "$$- e - \\log{\\left (2 \\right )} + 1.80128252576446 + \\pi$$"
      ],
      "text/plain": [
       "-ℯ - log(2) + 1.80128252576446 + π"
      ]
     },
     "execution_count": 85,
     "metadata": {},
     "output_type": "execute_result"
    }
   ],
   "source": [
    "sp.Rational(1,3)-sp.log(2)-np.sqrt(3)+sp.pi-sp.E + 3.2"
   ]
  },
  {
   "cell_type": "code",
   "execution_count": 86,
   "metadata": {
    "collapsed": false
   },
   "outputs": [
    {
     "data": {
      "image/png": "[encoded data removed]",
      "text/latex": [
       "$$- e + 4.31639466546097$$"
      ],
      "text/plain": [
       "-ℯ + 4.31639466546097"
      ]
     },
     "execution_count": 86,
     "metadata": {},
     "output_type": "execute_result"
    }
   ],
   "source": [
    "sp.Rational(2,5)-np.log(2)-np.sqrt(3)+np.pi-sp.E + 3.2"
   ]
  },
  {
   "cell_type": "code",
   "execution_count": 87,
   "metadata": {
    "collapsed": false
   },
   "outputs": [
    {
     "data": {
      "image/png": "[encoded data removed]",
      "text/latex": [
       "$$1.53144617033526$$"
      ],
      "text/plain": [
       "1.53144617033526"
      ]
     },
     "execution_count": 87,
     "metadata": {},
     "output_type": "execute_result"
    }
   ],
   "source": [
    "sp.Rational(1,3)-np.log(2)-np.sqrt(3)+np.pi-np.e + 3.2\n",
    "# nótese el detalle del número e en mayúscula o minúscula, \n",
    "# según provenga del módulo SymPy o NumPy, respectivamente. "
   ]
  },
  {
   "cell_type": "markdown",
   "metadata": {},
   "source": [
    "Pero también podríamos preguntarnos ahora, ¿con qué precisión ha considerado el valor $\\frac{1}{3}$ o $\\frac{32}{10}$ en cualquiera de estos cálculos? ¿Podríamos pedir el resultado anterior con más cifras decimales? Veámos qué ocurre cuando le pedimos 10, 20 o 50 cifras, por ejemplo:"
   ]
  },
  {
   "cell_type": "code",
   "execution_count": 88,
   "metadata": {
    "collapsed": false
   },
   "outputs": [
    {
     "data": {
      "image/png": "[encoded data removed]",
      "text/latex": [
       "$$\\left ( 0.333, \\quad 0.333333333333333333333333333333, \\quad 0.33333333333333333333333333333333333333333333333333\\right )$$"
      ],
      "text/plain": [
       "(0.333, 0.333333333333333333333333333333, 0.3333333333333333333333333333333333\n",
       "3333333333333333)"
      ]
     },
     "execution_count": 88,
     "metadata": {},
     "output_type": "execute_result"
    }
   ],
   "source": [
    "r = sp.Rational(1,3);\n",
    "r.evalf(n=3),r.evalf(n=30), r.evalf(50)"
   ]
  },
  {
   "cell_type": "code",
   "execution_count": 89,
   "metadata": {
    "collapsed": true
   },
   "outputs": [],
   "source": [
    "r = 3.2;\n",
    "# r.evalf(n=3)\n",
    "# Esta función no está implementada para números en coma flotante"
   ]
  },
  {
   "cell_type": "code",
   "execution_count": 90,
   "metadata": {
    "collapsed": false
   },
   "outputs": [
    {
     "data": {
      "image/png": "[encoded data removed]",
      "text/latex": [
       "$$\\left ( 3.2, \\quad 3.2, \\quad 3.2000000000000002, \\quad 3.2000000000000001776, \\quad 3.2000000000000001776356839400250464677810668945313\\right )$$"
      ],
      "text/plain": [
       "(3.2, 3.2, 3.2000000000000002, 3.2000000000000001776, 3.2000000000000001776356\n",
       "839400250464677810668945313)"
      ]
     },
     "execution_count": 90,
     "metadata": {},
     "output_type": "execute_result"
    }
   ],
   "source": [
    "r = 3.2;\n",
    "sp.N(r,10),sp.N(r,16),sp.N(r,17),sp.N(r,20),sp.N(r,50)\n",
    "# Sin embargo es posible emplear la evaluación mediante sp.N\n",
    "# aunque con resultados nada coherentes si se piden más cifras\n",
    "# de las que realmente disponemos almacenadas internamente."
   ]
  },
  {
   "cell_type": "markdown",
   "metadata": {},
   "source": [
    "Ello se debe a que cuando se introduce en un sistema digital un número con punto decimal, por ejemplo $0.7$ o $3.2$, *Python* lo considera internamente con un máximo de 16 cifras significativas; ya que en todo caso lo tiene que redondear al número máquina más próximo a él, aunque unas veces el redondeo será por defecto y otras por exceso. Pero lo mismo ocurrirá si le solicitamos más cifras y forzamos a que dicho número máquina sea completado para mostrarnos más cifras de las almacenadas. Veámoslo:"
   ]
  },
  {
   "cell_type": "code",
   "execution_count": 91,
   "metadata": {
    "collapsed": false
   },
   "outputs": [
    {
     "data": {
      "image/png": "[encoded data removed]",
      "text/latex": [
       "$$\\left ( 0.7, \\quad 0.69999999999999996\\right )$$"
      ],
      "text/plain": [
       "(0.7, 0.69999999999999996)"
      ]
     },
     "execution_count": 91,
     "metadata": {},
     "output_type": "execute_result"
    }
   ],
   "source": [
    "sp.N(0.7,16),sp.N(0.7,17)"
   ]
  },
  {
   "cell_type": "code",
   "execution_count": 92,
   "metadata": {
    "collapsed": false
   },
   "outputs": [
    {
     "data": {
      "image/png": "[encoded data removed]",
      "text/latex": [
       "$$\\left ( 0.69999999999999996, \\quad 0.69999999999999996\\right )$$"
      ],
      "text/plain": [
       "(0.69999999999999996, 0.69999999999999996)"
      ]
     },
     "execution_count": 92,
     "metadata": {},
     "output_type": "execute_result"
    }
   ],
   "source": [
    "sp.N(sp.Rational(7/10),17),sp.Rational(7/10).evalf(17)"
   ]
  },
  {
   "cell_type": "code",
   "execution_count": 93,
   "metadata": {
    "collapsed": false
   },
   "outputs": [
    {
     "data": {
      "image/png": "[encoded data removed]",
      "text/latex": [
       "$$\\left ( 0.69999999999999995559, \\quad 0.69999999999999995559\\right )$$"
      ],
      "text/plain": [
       "(0.69999999999999995559, 0.69999999999999995559)"
      ]
     },
     "execution_count": 93,
     "metadata": {},
     "output_type": "execute_result"
    }
   ],
   "source": [
    "sp.N(sp.Rational(7/10),20),sp.Rational(7/10).evalf(20)"
   ]
  },
  {
   "cell_type": "code",
   "execution_count": 94,
   "metadata": {
    "collapsed": false
   },
   "outputs": [
    {
     "data": {
      "image/png": "[encoded data removed]",
      "text/latex": [
       "$$\\left ( 3.2, \\quad 3.2000000000000002\\right )$$"
      ],
      "text/plain": [
       "(3.2, 3.2000000000000002)"
      ]
     },
     "execution_count": 94,
     "metadata": {},
     "output_type": "execute_result"
    }
   ],
   "source": [
    "sp.N(3.2,16),sp.N(3.2,17)"
   ]
  },
  {
   "cell_type": "markdown",
   "metadata": {},
   "source": [
    "Otros ejemplos son los siguientes:"
   ]
  },
  {
   "cell_type": "code",
   "execution_count": 95,
   "metadata": {
    "collapsed": false
   },
   "outputs": [
    {
     "data": {
      "image/png": "[encoded data removed]",
      "text/latex": [
       "$$123456.11999999999534$$"
      ],
      "text/plain": [
       "123456.11999999999534"
      ]
     },
     "execution_count": 95,
     "metadata": {},
     "output_type": "execute_result"
    }
   ],
   "source": [
    "sp.N(123456.12,20)"
   ]
  },
  {
   "cell_type": "code",
   "execution_count": 96,
   "metadata": {
    "collapsed": false
   },
   "outputs": [
    {
     "data": {
      "image/png": "[encoded data removed]",
      "text/latex": [
       "$$\\left ( 1234.56789012346, \\quad 1234.5678901234568912\\right )$$"
      ],
      "text/plain": [
       "(1234.56789012346, 1234.5678901234568912)"
      ]
     },
     "execution_count": 96,
     "metadata": {},
     "output_type": "execute_result"
    }
   ],
   "source": [
    "sp.N(1234.5678901234567890),sp.N(1234.5678901234567890,20)"
   ]
  },
  {
   "cell_type": "code",
   "execution_count": 97,
   "metadata": {
    "collapsed": false
   },
   "outputs": [
    {
     "data": {
      "image/png": "[encoded data removed]",
      "text/latex": [
       "$$1234.5678901234568911604583263397216796875$$"
      ],
      "text/plain": [
       "1234.5678901234568911604583263397216796875000000000"
      ]
     },
     "execution_count": 97,
     "metadata": {},
     "output_type": "execute_result"
    }
   ],
   "source": [
    "sp.N(1234.56789012345678901234567890123456,50)"
   ]
  },
  {
   "cell_type": "markdown",
   "metadata": {},
   "source": [
    "Así pues, hay que cuidar bien la entrada de datos. Observemos por ejemplo el resultado de la siguiente operación, cuyo valor exacto es realmente cero: "
   ]
  },
  {
   "cell_type": "code",
   "execution_count": 98,
   "metadata": {
    "collapsed": false
   },
   "outputs": [
    {
     "data": {
      "image/png": "[encoded data removed]",
      "text/latex": [
       "$$4.153837486827862e+34$$"
      ],
      "text/plain": [
       "4.153837486827862e+34"
      ]
     },
     "execution_count": 98,
     "metadata": {},
     "output_type": "execute_result"
    }
   ],
   "source": [
    "3.1*10**50-31*10**49\n",
    "# Obtenemos pues un resultado completamente erróneo"
   ]
  },
  {
   "cell_type": "markdown",
   "metadata": {},
   "source": [
    "Vemos pues, que si lo que queremos o necesitamos es trabajar en todo momento con una determinada precisión, diferente a la estandar (de 16 cifras significativas) para cálculos en coma flotante, tendríamos que trabajar en todo momento en simbólico (si queremos una precisión mayor a la estandar) o bien en coma flotante (para cualquier precisión inferior a la estandar) y luego forzar a que los resultados finales se muestren con la precisión deseada.  "
   ]
  },
  {
   "cell_type": "markdown",
   "metadata": {},
   "source": [
    "Otras alternativas pasarían por emplear o programar nosotros mismos otros módulos específicos que nos permitan trabajar y obtener resultados con precisión deseada. Uno de estos módulos es **decimal** del que mostramos a continuación algunas de sus posibilidades y forma de uso."
   ]
  },
  {
   "cell_type": "code",
   "execution_count": 99,
   "metadata": {
    "collapsed": false
   },
   "outputs": [
    {
     "data": {
      "text/plain": [
       "Context(prec=28, rounding=ROUND_HALF_EVEN, Emin=-999999, Emax=999999, capitals=1, clamp=0, flags=[], traps=[InvalidOperation, DivisionByZero, Overflow])"
      ]
     },
     "execution_count": 99,
     "metadata": {},
     "output_type": "execute_result"
    }
   ],
   "source": [
    "from decimal import *\n",
    "getcontext()"
   ]
  },
  {
   "cell_type": "code",
   "execution_count": 100,
   "metadata": {
    "collapsed": true
   },
   "outputs": [],
   "source": [
    "mporig = getcontext().prec # Nótese que laa precisión por defecto \n",
    "# que tiene este módulo viene prefijada con el valor prec = 28."
   ]
  },
  {
   "cell_type": "code",
   "execution_count": 101,
   "metadata": {
    "collapsed": false
   },
   "outputs": [
    {
     "data": {
      "text/plain": [
       "(Decimal('2.718281828459045090795598298427648842334747314453125'),\n",
       " Decimal('3.141592653589793115997963468544185161590576171875'),\n",
       " Decimal('1.4142135623730951454746218587388284504413604736328125'),\n",
       " Decimal('0.69314718055994528622676398299518041312694549560546875'))"
      ]
     },
     "execution_count": 101,
     "metadata": {},
     "output_type": "execute_result"
    }
   ],
   "source": [
    "Decimal(np.e),Decimal(np.pi),Decimal(np.sqrt(2)),Decimal(np.log(2))"
   ]
  },
  {
   "cell_type": "code",
   "execution_count": 102,
   "metadata": {
    "collapsed": true
   },
   "outputs": [],
   "source": [
    "getcontext().prec = 6"
   ]
  },
  {
   "cell_type": "code",
   "execution_count": 103,
   "metadata": {
    "collapsed": false
   },
   "outputs": [
    {
     "data": {
      "text/plain": [
       "(Decimal('1.73205'),\n",
       " Decimal('1.732050807568877193176604123436845839023590087890625'))"
      ]
     },
     "execution_count": 103,
     "metadata": {},
     "output_type": "execute_result"
    }
   ],
   "source": [
    "Decimal(3).sqrt(),Decimal(np.sqrt(3))\n",
    "# Nótese la diferencia en el número de cifras"
   ]
  },
  {
   "cell_type": "code",
   "execution_count": 104,
   "metadata": {
    "collapsed": false
   },
   "outputs": [
    {
     "data": {
      "text/plain": [
       "(Decimal('0.693147'),\n",
       " Decimal('0.69314718055994528622676398299518041312694549560546875'))"
      ]
     },
     "execution_count": 104,
     "metadata": {},
     "output_type": "execute_result"
    }
   ],
   "source": [
    "Decimal(2).ln(), Decimal(np.log(2))\n",
    "# Nótese la diferencia en el número de cifras"
   ]
  },
  {
   "cell_type": "code",
   "execution_count": 105,
   "metadata": {
    "collapsed": false
   },
   "outputs": [
    {
     "data": {
      "text/plain": [
       "(Decimal('2.718281828459045090795598298427648842334747314453125'),\n",
       " Decimal('3.141592653589793115997963468544185161590576171875'))"
      ]
     },
     "execution_count": 105,
     "metadata": {},
     "output_type": "execute_result"
    }
   ],
   "source": [
    "Decimal(np.e),Decimal(np.pi)"
   ]
  },
  {
   "cell_type": "code",
   "execution_count": 106,
   "metadata": {
    "collapsed": false
   },
   "outputs": [
    {
     "data": {
      "text/plain": [
       "Decimal('0.333333')"
      ]
     },
     "execution_count": 106,
     "metadata": {},
     "output_type": "execute_result"
    }
   ],
   "source": [
    "Decimal(1) / Decimal(3)"
   ]
  },
  {
   "cell_type": "code",
   "execution_count": 107,
   "metadata": {
    "collapsed": false
   },
   "outputs": [
    {
     "data": {
      "text/plain": [
       "Decimal('1.83333')"
      ]
     },
     "execution_count": 107,
     "metadata": {},
     "output_type": "execute_result"
    }
   ],
   "source": [
    "frac = Decimal(1)/Decimal(3) + Decimal(3)/Decimal(2)\n",
    "frac"
   ]
  },
  {
   "cell_type": "code",
   "execution_count": 108,
   "metadata": {
    "collapsed": false
   },
   "outputs": [
    {
     "data": {
      "image/png": "[encoded data removed]",
      "text/latex": [
       "$$\\left ( 1.83333, \\quad 1.83, \\quad 1.83333\\right )$$"
      ],
      "text/plain": [
       "(1.83333, 1.83, 1.83333)"
      ]
     },
     "execution_count": 108,
     "metadata": {},
     "output_type": "execute_result"
    }
   ],
   "source": [
    "sp.N(frac),sp.N(frac,3),sp.N(frac,10)  # Fíjese qué ocurre si le \n",
    "# pedimos más decimales de los que tenemos almacenados en este caso"
   ]
  },
  {
   "cell_type": "code",
   "execution_count": 109,
   "metadata": {
    "collapsed": false
   },
   "outputs": [
    {
     "data": {
      "text/plain": [
       "Decimal('-0.168562')"
      ]
     },
     "execution_count": 109,
     "metadata": {},
     "output_type": "execute_result"
    }
   ],
   "source": [
    "frac-Decimal(np.log(2))-Decimal(np.sqrt(3))+Decimal(np.pi)-Decimal(np.e)\n",
    "# Nótese la manera en la que podríamos controlar el número de dígitos"
   ]
  },
  {
   "cell_type": "code",
   "execution_count": 110,
   "metadata": {
    "collapsed": false
   },
   "outputs": [
    {
     "data": {
      "text/plain": [
       "Decimal('0.3333333333333333333333333333')"
      ]
     },
     "execution_count": 110,
     "metadata": {},
     "output_type": "execute_result"
    }
   ],
   "source": [
    "getcontext().prec = mporig\n",
    "Decimal(1) / Decimal(3)"
   ]
  },
  {
   "cell_type": "code",
   "execution_count": 111,
   "metadata": {
    "collapsed": false
   },
   "outputs": [
    {
     "data": {
      "text/plain": [
       "(Decimal('2.718281828459045090795598298427648842334747314453125'),\n",
       " Decimal('3.141592653589793115997963468544185161590576171875'))"
      ]
     },
     "execution_count": 111,
     "metadata": {},
     "output_type": "execute_result"
    }
   ],
   "source": [
    "Decimal(np.e),Decimal(np.pi)"
   ]
  },
  {
   "cell_type": "code",
   "execution_count": 112,
   "metadata": {
    "collapsed": false
   },
   "outputs": [
    {
     "data": {
      "text/plain": [
       "Decimal('1.833333333333333333333333333')"
      ]
     },
     "execution_count": 112,
     "metadata": {},
     "output_type": "execute_result"
    }
   ],
   "source": [
    "frac = Decimal(1)/Decimal(3) + Decimal(3)/Decimal(2)\n",
    "frac"
   ]
  },
  {
   "cell_type": "code",
   "execution_count": 113,
   "metadata": {
    "collapsed": false
   },
   "outputs": [
    {
     "data": {
      "text/plain": [
       "Decimal('-0.1685538296647411208676696034')"
      ]
     },
     "execution_count": 113,
     "metadata": {},
     "output_type": "execute_result"
    }
   ],
   "source": [
    "frac-Decimal(np.log(2))-Decimal(np.sqrt(3))+Decimal(np.pi)-Decimal(np.e)"
   ]
  },
  {
   "cell_type": "code",
   "execution_count": 114,
   "metadata": {
    "collapsed": false
   },
   "outputs": [
    {
     "data": {
      "text/plain": [
       "(Decimal('0.6931471805599453094172321215'),\n",
       " Decimal('0.69314718055994528622676398299518041312694549560546875'))"
      ]
     },
     "execution_count": 114,
     "metadata": {},
     "output_type": "execute_result"
    }
   ],
   "source": [
    "Decimal(2).ln(), Decimal(np.log(2))\n",
    "# Nótese la diferencia en el número de cifras"
   ]
  },
  {
   "cell_type": "code",
   "execution_count": 115,
   "metadata": {
    "collapsed": false
   },
   "outputs": [
    {
     "data": {
      "text/plain": [
       "(Decimal('1.732050807568877293527446342'),\n",
       " Decimal('1.732050807568877193176604123436845839023590087890625'))"
      ]
     },
     "execution_count": 115,
     "metadata": {},
     "output_type": "execute_result"
    }
   ],
   "source": [
    "Decimal(3).sqrt(),Decimal(np.sqrt(3))\n",
    "# Nótese la diferencia en el número de cifras"
   ]
  },
  {
   "cell_type": "code",
   "execution_count": 116,
   "metadata": {
    "collapsed": false
   },
   "outputs": [
    {
     "data": {
      "text/plain": [
       "Decimal('-0.1685538296647412444089799594')"
      ]
     },
     "execution_count": 116,
     "metadata": {},
     "output_type": "execute_result"
    }
   ],
   "source": [
    "frac-Decimal(2).ln()-Decimal(3).sqrt()+Decimal(np.pi)-Decimal(np.e)"
   ]
  },
  {
   "cell_type": "markdown",
   "metadata": {},
   "source": [
    "## Estabilidad"
   ]
  },
  {
   "cell_type": "markdown",
   "metadata": {},
   "source": [
    "Vamos a generar ahora $20$ términos de la sucesión $\\frac{1}{2^n}$ por dos procedimientos diferentes. Uno estable y otro inestable cuando operamos con pocas cifras ($6$ en principio), aunque inicialmente no cometamos error alguno."
   ]
  },
  {
   "cell_type": "code",
   "execution_count": 117,
   "metadata": {
    "collapsed": true
   },
   "outputs": [],
   "source": [
    "getcontext().prec = 6"
   ]
  },
  {
   "cell_type": "code",
   "execution_count": 118,
   "metadata": {
    "collapsed": false
   },
   "outputs": [
    {
     "data": {
      "text/plain": [
       "[Decimal('0.5'),\n",
       " Decimal('0.25'),\n",
       " Decimal('0.125'),\n",
       " Decimal('0.0625'),\n",
       " Decimal('0.03125'),\n",
       " Decimal('0.015625'),\n",
       " Decimal('0.0078125'),\n",
       " Decimal('0.00390625'),\n",
       " Decimal('0.00195312'),\n",
       " Decimal('0.00097656'),\n",
       " Decimal('0.00048828'),\n",
       " Decimal('0.00024414'),\n",
       " Decimal('0.00012207'),\n",
       " Decimal('0.000061035'),\n",
       " Decimal('0.0000305175'),\n",
       " Decimal('0.0000152588'),\n",
       " Decimal('0.0000076294'),\n",
       " Decimal('0.0000038147'),\n",
       " Decimal('0.00000190735'),\n",
       " Decimal('9.53675E-7'),\n",
       " Decimal('4.76838E-7')]"
      ]
     },
     "execution_count": 118,
     "metadata": {},
     "output_type": "execute_result"
    }
   ],
   "source": [
    "x = Decimal(1)/Decimal(2); lista = [x];\n",
    "for i in range(20):\n",
    "    x = x/Decimal(2)\n",
    "    lista.append(x)\n",
    "lista"
   ]
  },
  {
   "cell_type": "code",
   "execution_count": 119,
   "metadata": {
    "collapsed": false
   },
   "outputs": [
    {
     "data": {
      "text/plain": [
       "[Decimal('0.5'),\n",
       " Decimal('0.25'),\n",
       " Decimal('0.125'),\n",
       " Decimal('0.0625'),\n",
       " Decimal('0.03125'),\n",
       " Decimal('0.015625'),\n",
       " Decimal('0.007813'),\n",
       " Decimal('0.0039120'),\n",
       " Decimal('0.0020165'),\n",
       " Decimal('0.0016738'),\n",
       " Decimal('0.0081579'),\n",
       " Decimal('0.0846099'),\n",
       " Decimal('0.928146'),\n",
       " Decimal('10.2083'),\n",
       " Decimal('112.290'),\n",
       " Decimal('1235.19'),\n",
       " Decimal('13587.1'),\n",
       " Decimal('149458'),\n",
       " Decimal('1.64404E+6'),\n",
       " Decimal('1.80845E+7'),\n",
       " Decimal('1.98930E+8')]"
      ]
     },
     "execution_count": 119,
     "metadata": {},
     "output_type": "execute_result"
    }
   ],
   "source": [
    "x = Decimal(1)/Decimal(2); y =Decimal(1)/Decimal(4); lista = [x,y];\n",
    "for i in range(19):\n",
    "    z = Decimal(23)/Decimal(2)*y-Decimal(11)/Decimal(2)*x\n",
    "    lista.append(z)\n",
    "    x = y; y = z\n",
    "lista"
   ]
  },
  {
   "cell_type": "markdown",
   "metadata": {},
   "source": [
    "Vemos pues claramente como en este segundo procedimiento, debido a la precisión limitada de nuestros cálculos, los pequeños errores que se van cometiendo desde los primeros términos se van agrandando cada vez más, a medida que se va generando la correspondiente sucesión, llegando a dar resultados completamente desorbitados y fuera de lugar para una sucesión que debería de tender a cero."
   ]
  },
  {
   "cell_type": "markdown",
   "metadata": {},
   "source": [
    "# Ejercicios"
   ]
  },
  {
   "cell_type": "markdown",
   "metadata": {},
   "source": [
    "1.- Programe el paso de la numeración decimal a la binaria y aplíquelo para obtener la representación en binario de los números\n",
    "del sistema decimal 5500 y 0.1.\n",
    "\n",
    "2.- Obtenga aproximaciones de la derivada de la función seno en el punto $0.25$, a partir de la fórmula $\\frac{1}{h}sen(0.25+h)-sen(h))$,\n",
    "con $h$ de la forma $10^{-i}$, con $i=1,2,3,\\ldots\\text{...}$, deteniéndose cuando la diferencia entre dos aproximaciones consecutivas aumente.\n",
    "\n",
    "3.- Programe la sucesión de término general $\\frac{1}{3^n}$, a partir de las siguientes leyes de recurrencia:\n",
    "\n",
    "$\\quad $a) $a_0=1$; $a_n=\\frac{1}{3}a_{n-1}, n\\geq 1$.\n",
    "\n",
    "$\\quad $b) $a_0=1$; $a_1=\\frac{1}{3}$; $a_n=\\frac{4}{3}a_{n-1}-\\frac{1}{3}a_{n-2}, n\\geq 2$.\n",
    "\n",
    "$\\quad $c) $a_0=1$, $a_1=\\frac{1}{3}$, $a_n=\\frac{10}{3}a_{n-1}-a_{n-2}$.\n",
    "\n",
    "Comprobará la mala propagación de los errores en algunos casos."
   ]
  }
 ],
 "metadata": {
  "anaconda-cloud": {},
  "kernelspec": {
   "display_name": "Python [default]",
   "language": "python",
   "name": "python3"
  },
  "language_info": {
   "codemirror_mode": {
    "name": "ipython",
    "version": 3
   },
   "file_extension": ".py",
   "mimetype": "text/x-python",
   "name": "python",
   "nbconvert_exporter": "python",
   "pygments_lexer": "ipython3",
   "version": "3.5.2"
  }
 },
 "nbformat": 4,
 "nbformat_minor": 2
}
