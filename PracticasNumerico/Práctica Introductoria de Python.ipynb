{
 "cells": [
  {
   "cell_type": "markdown",
   "metadata": {},
   "source": [
    "# Introducción a Python y a sus módulos fundamentales"
   ]
  },
  {
   "cell_type": "markdown",
   "metadata": {},
   "source": [
    "Autor: Pedro González Rodelas\n",
    "\n",
    "Fecha de la primera versión: 06/05/1018\n",
    "\n",
    "Sucesivas revisiones: 06/05/2018\n",
    "\n",
    "Fecha de la última revisión: 07/05/2018"
   ]
  },
  {
   "cell_type": "markdown",
   "metadata": {},
   "source": [
    "## Ficheros de programa en Python"
   ]
  },
  {
   "cell_type": "markdown",
   "metadata": {},
   "source": [
    "* Usualmente el código Python es almacenado en ficheros de texto plano con la extensión \"`.py`\":\n",
    "\n",
    "        miprograma.py\n",
    "\n",
    "* Cada línea de un programa en Python se asume que es una (o parte de una) sentencia del lengaje Python. \n",
    "\n",
    "* No obstante, también existen los denominados notebooks de Python, con extensión \"`.ipynb`\" en los que se puede incluir y combinar código Python en ciertas celdillas interactivas de entrada (numeradas con In[]), junto con sus correspondientes celdillas de salida (indicadas con Out[]), aparte de celdillas de texto explicativo y de estructuración en secciones, subsecciones, etc (usando código Markdown), salidas de gráficos, etc. \n",
    "\n",
    "* Un ejemplo de este tipo de ficheros (en formato JSON), es este propio notebook de IPython, que se puede ejecutar gracias al servidor de Jupyter (consultar la página web oficial d [Jupyter](http://www.jupyter.org)) y permite también ejecutar notebooks con otros muchos lenguajes, como 'R', 'Julia', etc.\n",
    "\n",
    "* Aparte de todo esto, estos notebooks también permiten el uso de órdenes propias del sistema operativo, así como otras pseudo-órdenes genéricas (o comandos 'mágicos' que a veces suelen ir precedidos de '%' o '!'), independientes del SO, que se traducirán al SO sobre el que se esté ejecutando el notebook, para poder realizar acciones propias de dicho sistema e interactuar con ficheros y directorios sin necesidad de salir del propio notebook."
   ]
  },
  {
   "cell_type": "markdown",
   "metadata": {},
   "source": [
    "### Ejemplos:"
   ]
  },
  {
   "cell_type": "code",
   "execution_count": 1,
   "metadata": {
    "collapsed": true
   },
   "outputs": [],
   "source": [
    "a = 2; b = 3;  # así es como se suele dar valores a las variables"
   ]
  },
  {
   "cell_type": "code",
   "execution_count": 2,
   "metadata": {
    "collapsed": false
   },
   "outputs": [
    {
     "data": {
      "text/plain": [
       "(5, 6)"
      ]
     },
     "execution_count": 2,
     "metadata": {},
     "output_type": "execute_result"
    }
   ],
   "source": [
    "a+b, a*b       # aquí estamos realizando operaciones de suma y producto"
   ]
  },
  {
   "cell_type": "code",
   "execution_count": 3,
   "metadata": {
    "collapsed": false
   },
   "outputs": [
    {
     "data": {
      "text/plain": [
       "(2, 3)"
      ]
     },
     "execution_count": 3,
     "metadata": {},
     "output_type": "execute_result"
    }
   ],
   "source": [
    "# varios valores separados por comas conforman lo que se denomina una tupla\n",
    "a,b   # en este caso se trata de una simple pareja de valores"
   ]
  },
  {
   "cell_type": "code",
   "execution_count": 1,
   "metadata": {
    "collapsed": false
   },
   "outputs": [
    {
     "data": {
      "text/plain": [
       "'/Users/pedrogonzalez/Desktop/Dropbox (Backup versión anterior)/Titularidad/MiProyecto/Python/NotebooksPython/NotebooksFinales'"
      ]
     },
     "execution_count": 1,
     "metadata": {},
     "output_type": "execute_result"
    }
   ],
   "source": [
    "pwd   # para mostrar el directoriio actual de trabajo"
   ]
  },
  {
   "cell_type": "code",
   "execution_count": 10,
   "metadata": {
    "collapsed": false
   },
   "outputs": [
    {
     "name": "stdout",
     "output_type": "stream",
     "text": [
      "hola-en-castellano-bis.py hola-en-castellano.py     version_information.py\r\n"
     ]
    }
   ],
   "source": [
    "!ls *.py   # para listar los ficheros en el directorio"
   ]
  },
  {
   "cell_type": "code",
   "execution_count": 12,
   "metadata": {
    "collapsed": false
   },
   "outputs": [
    {
     "name": "stdout",
     "output_type": "stream",
     "text": [
      "\u001b[?1h\u001b=#!/usr/bin/env python\r\n",
      "# -*- coding: UTF-8 -*-\r\n",
      "\r\n",
      "print(\"¡Hola, en español!\")\r\n",
      "\r",
      "\u001b[K\u001b[?1l\u001b>"
     ]
    }
   ],
   "source": [
    "!more hola-en-castellano.py   # usar %type en SO de windows"
   ]
  },
  {
   "cell_type": "code",
   "execution_count": 13,
   "metadata": {
    "collapsed": false
   },
   "outputs": [],
   "source": [
    "# cd ..  para cambiar al directorio padre"
   ]
  },
  {
   "cell_type": "markdown",
   "metadata": {},
   "source": [
    "### Codificación de caracteres"
   ]
  },
  {
   "cell_type": "markdown",
   "metadata": {},
   "source": [
    "La codificación de caracteres estándar es la ASCII (acrónimo inglés de American Standard Code for Information Interchange — Código Estándar Estadounidense para el Intercambio de Información), pero nosotros podríamos usar cualqier otro sistema de codificación, por ejemplo UTF-8, que también nos permitirá incluir caracteres acentuados y la letra 'ñ', tan habituales en el idioma español.\n",
    "\n",
    "Para especificar que UTF-8 será usado, debemos incluir la siguiente línea especial\n",
    "\n",
    "    # -*- coding: UTF-8 -*-\n",
    "\n",
    "al principio del fichero. De esta manera podremos usar también caracteres acentuados o internacionales en nuestro archivo. Aunque esta opción ya se está convirtiendo en la opción por defecto en las nuevas versiones de Python e IPython."
   ]
  },
  {
   "cell_type": "markdown",
   "metadata": {},
   "source": [
    "Aparte de estas dos líneas *opcionales* al comienzo de cualquier fichero de código Python, no se requiere código adicional alguno para inicializar un programa Python, salvo el código del programa propiamente dicho. "
   ]
  },
  {
   "cell_type": "markdown",
   "metadata": {},
   "source": [
    "##  Notebooks de IPython"
   ]
  },
  {
   "cell_type": "markdown",
   "metadata": {},
   "source": [
    "Este fichero - que se trata de un notebook de IPython -  no sigue este patrón estándar de simple código Python en un fichero de texto. En vez de esto, un notebook de IPython es almacenado como un fichero con formato [JSON](http://en.wikipedia.org/wiki/JSON). La principal ventaja es que podremos mezclar texto formateado, código Python, junto con las correspondientes salidas y resultados. Esto requiere que al mismo tiempo se esté ejecutando el correspondiente servidor de notebooks de IPython, y por lo tanto no se trataría ya de un simple programa de Python ejecutándose de manera independiente, como en los casos explicados anteriormente. Aparte de este detalle, no hay diferencias entre el código Python que habría que introducir en un fichero de código Python y el que escribiremos en un notebook IPython como este. "
   ]
  },
  {
   "cell_type": "markdown",
   "metadata": {},
   "source": [
    "## Módulos"
   ]
  },
  {
   "cell_type": "markdown",
   "metadata": {},
   "source": [
    "Por otra parte, la mayor functionalidad de Python se la proporcionarán los correspondientes *módulos* que cargemos. La biblioteca Estándar de Python es una enorme colección de módulos que  proporcionan una implementación independiente de la plataforma o sistema operativo  de todos las acciones más comunes, tales como el propio aceso el sistema operativo, operaciones de entrada y salida, trabajo con cadenas de caracteres (\"strings\" en inglés), comunicaciones, y mucho más."
   ]
  },
  {
   "cell_type": "markdown",
   "metadata": {},
   "source": [
    "### Referencias"
   ]
  },
  {
   "cell_type": "markdown",
   "metadata": {},
   "source": [
    " * The Python Language Reference: https://docs.python.org/3.5/library/\n",
    " * The Python Standard Library: http://docs.python.org/3/library/\n",
    " * Página web del proyecto SymPy: http://sympy.org/en/index.html\n",
    " * Version Online de SymPy para tests y demostraciones: http://live.sympy.org \n",
    " * Tutorial de NumPy: http://scipy.org/Tentative_NumPy_Tutorial\n",
    " * Una guía de Numpy para usuarios de MATLAB: http://scipy.org/NumPy_for_Matlab_Users\n",
    " * Documentación oficial del proyecto Scipy: http://numpy.scipy.org\n",
    " * Un tutorial sobre cómo empezar a usar SciPy: http://docs.scipy.org/doc/scipy/reference/tutorial/index.html\n",
    " * La página web del proyecto matplotlib: http://www.matplotlib.org\n",
    " * Una extensa galeria que muestra varios tipos de gráficos creados con matplotlib: http://matplotlib.org/gallery.html \n",
    " * Un buen turorial de matplotlib:\n",
    "http://www.loria.fr/~rougier/teaching/matplotlib\n",
    " * Otra buena referencia para matplotlib; \n",
    " http://scipy-lectures.github.io/matplotlib/matplotlib.html"
   ]
  },
  {
   "cell_type": "markdown",
   "metadata": {},
   "source": [
    "Para usar alguna función o procedimiento incluido en un módulo en un programa Python éste tiene que ser cargado primero. Estos deberán ser importados usando la orden `import`. "
   ]
  },
  {
   "cell_type": "markdown",
   "metadata": {},
   "source": [
    "Por ejemplo, para importar por completo alguno de los módulos `NumPy`, `SciPy`, `SymPy`, `MatPlotlib` que contienen nuevas clases de objetos (como los 'arrays'), numerosas funciones matemáticas y numéricas, aparte de poder realizar cálculos simbólicos y obtener representaciones gráficas muy variadas, escribiríamos por ejemplo:"
   ]
  },
  {
   "cell_type": "code",
   "execution_count": 14,
   "metadata": {
    "collapsed": true
   },
   "outputs": [],
   "source": [
    "from numpy import *\n",
    "from sympy import *\n",
    "from scipy import *\n",
    "from matplotlib import *"
   ]
  },
  {
   "cell_type": "markdown",
   "metadata": {},
   "source": [
    "Estas sentencias cargarían los módulos completos, haciéndo disponible su uso posterior en el programa o notebook."
   ]
  },
  {
   "cell_type": "markdown",
   "metadata": {},
   "source": [
    "Este patrón puede resultar conveniente, pero en programas de cierta envergadura, que incluyan numerosos módulos, puede resultar a menudo una buena idea mantener los símbolos y funciones de cada módulo en su propio entorno de nombres (\"namespace\" en inglés), usando simplemente el patrón `import numpy`. Esto elminaría problemas de confusión, con potenciales y posibles colisiones entre los nombres de funciones entre diferentes módulos. No obstante en este último caso tendremos que anteponer el nombre del módulo antes de cada una de las funciones del módulo a usar:"
   ]
  },
  {
   "cell_type": "code",
   "execution_count": 20,
   "metadata": {
    "collapsed": true
   },
   "outputs": [],
   "source": [
    "import numpy"
   ]
  },
  {
   "cell_type": "markdown",
   "metadata": {},
   "source": [
    "### Consultando el contenido de un módulo, así como su documentación"
   ]
  },
  {
   "cell_type": "markdown",
   "metadata": {},
   "source": [
    "Una vez importado un módulo, podremos listar los símbolos y funciones que proporciona usando la función o comando `dir`:"
   ]
  },
  {
   "cell_type": "code",
   "execution_count": 27,
   "metadata": {
    "collapsed": false
   },
   "outputs": [
    {
     "name": "stdout",
     "output_type": "stream",
     "text": [
      "['ALLOW_THREADS', 'BUFSIZE', 'CLIP', 'ComplexWarning', 'DataSource', 'ERR_CALL', 'ERR_DEFAULT', 'ERR_IGNORE', 'ERR_LOG', 'ERR_PRINT', 'ERR_RAISE', 'ERR_WARN', 'FLOATING_POINT_SUPPORT', 'FPE_DIVIDEBYZERO', 'FPE_INVALID', 'FPE_OVERFLOW', 'FPE_UNDERFLOW', 'False_', 'Inf', 'Infinity', 'MAXDIMS', 'MAY_SHARE_BOUNDS', 'MAY_SHARE_EXACT', 'MachAr', 'ModuleDeprecationWarning', 'NAN', 'NINF', 'NZERO', 'NaN', 'PINF', 'PZERO', 'PackageLoader', 'RAISE', 'RankWarning', 'SHIFT_DIVIDEBYZERO', 'SHIFT_INVALID', 'SHIFT_OVERFLOW', 'SHIFT_UNDERFLOW', 'ScalarType', 'Tester', 'TooHardError', 'True_', 'UFUNC_BUFSIZE_DEFAULT', 'UFUNC_PYVALS_NAME', 'VisibleDeprecationWarning', 'WRAP', '_NoValue', '__NUMPY_SETUP__', '__all__', '__builtins__', '__cached__', '__config__', '__doc__', '__file__', '__git_revision__', '__loader__', '__mkl_version__', '__name__', '__package__', '__path__', '__spec__', '__version__', '_import_tools', '_mat', 'abs', 'absolute', 'absolute_import', 'add', 'add_docstring', 'add_newdoc', 'add_newdoc_ufunc', 'add_newdocs', 'alen', 'all', 'allclose', 'alltrue', 'alterdot', 'amax', 'amin', 'angle', 'any', 'append', 'apply_along_axis', 'apply_over_axes', 'arange', 'arccos', 'arccosh', 'arcsin', 'arcsinh', 'arctan', 'arctan2', 'arctanh', 'argmax', 'argmin', 'argpartition', 'argsort', 'argwhere', 'around', 'array', 'array2string', 'array_equal', 'array_equiv', 'array_repr', 'array_split', 'array_str', 'asanyarray', 'asarray', 'asarray_chkfinite', 'ascontiguousarray', 'asfarray', 'asfortranarray', 'asmatrix', 'asscalar', 'atleast_1d', 'atleast_2d', 'atleast_3d', 'average', 'bartlett', 'base_repr', 'bench', 'binary_repr', 'bincount', 'bitwise_and', 'bitwise_not', 'bitwise_or', 'bitwise_xor', 'blackman', 'bmat', 'bool', 'bool8', 'bool_', 'broadcast', 'broadcast_arrays', 'broadcast_to', 'busday_count', 'busday_offset', 'busdaycalendar', 'byte', 'byte_bounds', 'bytes0', 'bytes_', 'c_', 'can_cast', 'cast', 'cbrt', 'cdouble', 'ceil', 'cfloat', 'char', 'character', 'chararray', 'choose', 'clip', 'clongdouble', 'clongfloat', 'column_stack', 'common_type', 'compare_chararrays', 'compat', 'complex', 'complex128', 'complex256', 'complex64', 'complex_', 'complexfloating', 'compress', 'concatenate', 'conj', 'conjugate', 'convolve', 'copy', 'copysign', 'copyto', 'core', 'corrcoef', 'correlate', 'cos', 'cosh', 'count_nonzero', 'cov', 'cross', 'csingle', 'ctypeslib', 'cumprod', 'cumproduct', 'cumsum', 'datetime64', 'datetime_as_string', 'datetime_data', 'deg2rad', 'degrees', 'delete', 'deprecate', 'deprecate_with_doc', 'diag', 'diag_indices', 'diag_indices_from', 'diagflat', 'diagonal', 'diff', 'digitize', 'disp', 'divide', 'division', 'dot', 'double', 'dsplit', 'dstack', 'dtype', 'e', 'ediff1d', 'einsum', 'emath', 'empty', 'empty_like', 'equal', 'errstate', 'euler_gamma', 'exp', 'exp2', 'expand_dims', 'expm1', 'extract', 'eye', 'fabs', 'fastCopyAndTranspose', 'fft', 'fill_diagonal', 'find_common_type', 'finfo', 'fix', 'flatiter', 'flatnonzero', 'flexible', 'fliplr', 'flipud', 'float', 'float128', 'float16', 'float32', 'float64', 'float_', 'floating', 'floor', 'floor_divide', 'fmax', 'fmin', 'fmod', 'format_parser', 'frexp', 'frombuffer', 'fromfile', 'fromfunction', 'fromiter', 'frompyfunc', 'fromregex', 'fromstring', 'full', 'full_like', 'fv', 'generic', 'genfromtxt', 'get_array_wrap', 'get_include', 'get_printoptions', 'getbufsize', 'geterr', 'geterrcall', 'geterrobj', 'gradient', 'greater', 'greater_equal', 'half', 'hamming', 'hanning', 'histogram', 'histogram2d', 'histogramdd', 'hsplit', 'hstack', 'hypot', 'i0', 'identity', 'iinfo', 'imag', 'in1d', 'index_exp', 'indices', 'inexact', 'inf', 'info', 'infty', 'inner', 'insert', 'int', 'int0', 'int16', 'int32', 'int64', 'int8', 'int_', 'int_asbuffer', 'intc', 'integer', 'interp', 'intersect1d', 'intp', 'invert', 'ipmt', 'irr', 'is_busday', 'isclose', 'iscomplex', 'iscomplexobj', 'isfinite', 'isfortran', 'isinf', 'isnan', 'isneginf', 'isposinf', 'isreal', 'isrealobj', 'isscalar', 'issctype', 'issubclass_', 'issubdtype', 'issubsctype', 'iterable', 'ix_', 'kaiser', 'kron', 'ldexp', 'left_shift', 'less', 'less_equal', 'lexsort', 'lib', 'linalg', 'linspace', 'little_endian', 'load', 'loads', 'loadtxt', 'log', 'log10', 'log1p', 'log2', 'logaddexp', 'logaddexp2', 'logical_and', 'logical_not', 'logical_or', 'logical_xor', 'logspace', 'long', 'longcomplex', 'longdouble', 'longfloat', 'longlong', 'lookfor', 'ma', 'mafromtxt', 'mask_indices', 'mat', 'math', 'matmul', 'matrix', 'matrixlib', 'max', 'maximum', 'maximum_sctype', 'may_share_memory', 'mean', 'median', 'memmap', 'meshgrid', 'mgrid', 'min', 'min_scalar_type', 'minimum', 'mintypecode', 'mirr', 'mod', 'modf', 'moveaxis', 'msort', 'multiply', 'nan', 'nan_to_num', 'nanargmax', 'nanargmin', 'nanmax', 'nanmean', 'nanmedian', 'nanmin', 'nanpercentile', 'nanprod', 'nanstd', 'nansum', 'nanvar', 'nbytes', 'ndarray', 'ndenumerate', 'ndfromtxt', 'ndim', 'ndindex', 'nditer', 'negative', 'nested_iters', 'newaxis', 'nextafter', 'nonzero', 'not_equal', 'nper', 'npv', 'numarray', 'number', 'obj2sctype', 'object', 'object0', 'object_', 'ogrid', 'oldnumeric', 'ones', 'ones_like', 'outer', 'packbits', 'pad', 'partition', 'percentile', 'pi', 'piecewise', 'pkgload', 'place', 'pmt', 'poly', 'poly1d', 'polyadd', 'polyder', 'polydiv', 'polyfit', 'polyint', 'polymul', 'polynomial', 'polysub', 'polyval', 'power', 'ppmt', 'print_function', 'prod', 'product', 'promote_types', 'ptp', 'put', 'putmask', 'pv', 'r_', 'rad2deg', 'radians', 'random', 'rank', 'rate', 'ravel', 'ravel_multi_index', 'real', 'real_if_close', 'rec', 'recarray', 'recfromcsv', 'recfromtxt', 'reciprocal', 'record', 'remainder', 'repeat', 'require', 'reshape', 'resize', 'restoredot', 'result_type', 'right_shift', 'rint', 'roll', 'rollaxis', 'roots', 'rot90', 'round', 'round_', 'row_stack', 's_', 'safe_eval', 'save', 'savetxt', 'savez', 'savez_compressed', 'sctype2char', 'sctypeDict', 'sctypeNA', 'sctypes', 'searchsorted', 'select', 'set_numeric_ops', 'set_printoptions', 'set_string_function', 'setbufsize', 'setdiff1d', 'seterr', 'seterrcall', 'seterrobj', 'setxor1d', 'shape', 'shares_memory', 'short', 'show_config', 'sign', 'signbit', 'signedinteger', 'sin', 'sinc', 'single', 'singlecomplex', 'sinh', 'size', 'sometrue', 'sort', 'sort_complex', 'source', 'spacing', 'split', 'sqrt', 'square', 'squeeze', 'stack', 'std', 'str', 'str0', 'str_', 'string_', 'subtract', 'sum', 'swapaxes', 'take', 'tan', 'tanh', 'tensordot', 'test', 'testing', 'tile', 'timedelta64', 'trace', 'transpose', 'trapz', 'tri', 'tril', 'tril_indices', 'tril_indices_from', 'trim_zeros', 'triu', 'triu_indices', 'triu_indices_from', 'true_divide', 'trunc', 'typeDict', 'typeNA', 'typecodes', 'typename', 'ubyte', 'ufunc', 'uint', 'uint0', 'uint16', 'uint32', 'uint64', 'uint8', 'uintc', 'uintp', 'ulonglong', 'unicode', 'unicode_', 'union1d', 'unique', 'unpackbits', 'unravel_index', 'unsignedinteger', 'unwrap', 'ushort', 'vander', 'var', 'vdot', 'vectorize', 'version', 'void', 'void0', 'vsplit', 'vstack', 'warnings', 'where', 'who', 'zeros', 'zeros_like']\n"
     ]
    }
   ],
   "source": [
    "print(dir(numpy))"
   ]
  },
  {
   "cell_type": "code",
   "execution_count": 22,
   "metadata": {
    "collapsed": false
   },
   "outputs": [
    {
     "data": {
      "text/plain": [
       "array([0, 1, 2, 3, 4, 5, 6, 7, 8, 9])"
      ]
     },
     "execution_count": 22,
     "metadata": {},
     "output_type": "execute_result"
    }
   ],
   "source": [
    "numpy.arange(0,10,1)  # fíjese que lo que estaríamos generando es un array que va de 0 a 9"
   ]
  },
  {
   "cell_type": "markdown",
   "metadata": {},
   "source": [
    "Como una tercera alternativa, también podemos importar sólo una selección de símbolos de un determinado módulo, listando explícitamente sólo aquellos que queramos importar, en vez de usar el carácter comodín `*`:"
   ]
  },
  {
   "cell_type": "code",
   "execution_count": 16,
   "metadata": {
    "collapsed": true
   },
   "outputs": [],
   "source": [
    "# Por ejemplo para operar de manera simbólica con senos y cosenos importaríamos\n",
    "# las siguientes funciones y órdenes incluidas dentro del módulo 'SymPy'\n",
    "from sympy import Symbol, simplify, sin, cos, pi"
   ]
  },
  {
   "cell_type": "code",
   "execution_count": 24,
   "metadata": {
    "collapsed": false
   },
   "outputs": [],
   "source": [
    "x = Symbol('x')   # para usar la letra 'x' como variable simbólica"
   ]
  },
  {
   "cell_type": "code",
   "execution_count": 25,
   "metadata": {
    "collapsed": true
   },
   "outputs": [],
   "source": [
    "x?"
   ]
  },
  {
   "cell_type": "code",
   "execution_count": 18,
   "metadata": {
    "collapsed": false
   },
   "outputs": [
    {
     "data": {
      "text/plain": [
       "1"
      ]
     },
     "execution_count": 18,
     "metadata": {},
     "output_type": "execute_result"
    }
   ],
   "source": [
    "simplify(sin(x)**2+cos(x)**2)  # así simplificaríamos la expresión trinonométrica"
   ]
  },
  {
   "cell_type": "code",
   "execution_count": 19,
   "metadata": {
    "collapsed": false
   },
   "outputs": [
    {
     "name": "stdout",
     "output_type": "stream",
     "text": [
      "1\n"
     ]
    }
   ],
   "source": [
    "x = cos(2 * pi)\n",
    "\n",
    "print(x)"
   ]
  },
  {
   "cell_type": "code",
   "execution_count": 23,
   "metadata": {
    "collapsed": true
   },
   "outputs": [],
   "source": [
    "x?"
   ]
  },
  {
   "cell_type": "code",
   "execution_count": 59,
   "metadata": {
    "collapsed": false
   },
   "outputs": [],
   "source": [
    "# Es habitual cargar alguno de estos módulos con un pseudónimo determinado\n",
    "import numpy as np              # aquí cargamos el módulo numpy con el pseudónimo np               \n",
    "import sympy as sp              # y el módulo sympy de cálculo simbólico como sp\n",
    "import matplotlib.pyplot as plt # este módulo nos permitirá obtener gráficos\n",
    "# También se podrían cargar estos módulos sin pseudónimos, pero en ese caso tendríamos\n",
    "# que anteponer el nombre completo del módulo delante de cada una de las funciones y\n",
    "# procedimientos incluidos en dicho submódulo. Por ejemplo:\n",
    "#   numpy.sin(x) en vez de np.sin(x)  para usar y evaluar la función seno numéricamente\n",
    "#   sympy.sin(x) en vez de sp.sin(x)  si queremos realizar más bien cálculos simbólicos"
   ]
  },
  {
   "cell_type": "code",
   "execution_count": 26,
   "metadata": {
    "collapsed": false
   },
   "outputs": [
    {
     "name": "stdout",
     "output_type": "stream",
     "text": [
      "['Abs', 'AccumBounds', 'Add', 'Adjoint', 'AlgebraicField', 'AlgebraicNumber', 'And', 'AppliedPredicate', 'AssumptionsContext', 'Atom', 'AtomicExpr', 'BasePolynomialError', 'Basic', 'BlockDiagMatrix', 'BlockMatrix', 'C', 'CC', 'CRootOf', 'Catalan', 'Chi', 'Ci', 'Circle', 'ClassRegistry', 'CoercionFailed', 'Complement', 'ComplexField', 'ComplexRegion', 'ComplexRootOf', 'ComputationFailed', 'ConditionSet', 'Contains', 'CosineTransform', 'Curve', 'DeferredVector', 'Derivative', 'Determinant', 'DiagonalMatrix', 'DiagonalOf', 'Dict', 'DiracDelta', 'Domain', 'DomainError', 'Dummy', 'E', 'E1', 'EPath', 'EX', 'Ei', 'Eijk', 'Ellipse', 'EmptySequence', 'EmptySet', 'Eq', 'Equality', 'Equivalent', 'EulerGamma', 'EvaluationFailed', 'ExactQuotientFailed', 'Expr', 'ExpressionDomain', 'ExtraneousFactors', 'FF', 'FF_gmpy', 'FF_python', 'FU', 'FallingFactorial', 'FiniteField', 'FiniteSet', 'FlagError', 'Float', 'FourierTransform', 'FractionField', 'Function', 'FunctionClass', 'FunctionMatrix', 'GF', 'GMPYFiniteField', 'GMPYIntegerRing', 'GMPYRationalField', 'Ge', 'GeneratorsError', 'GeneratorsNeeded', 'GeometryError', 'GoldenRatio', 'GramSchmidt', 'GreaterThan', 'GroebnerBasis', 'Gt', 'HadamardProduct', 'HankelTransform', 'Heaviside', 'HeuristicGCDFailed', 'HomomorphismFailed', 'I', 'ITE', 'Id', 'Identity', 'Idx', 'ImageSet', 'ImmutableDenseMatrix', 'ImmutableMatrix', 'ImmutableSparseMatrix', 'Implies', 'Indexed', 'IndexedBase', 'Integer', 'IntegerRing', 'Integral', 'Intersection', 'Interval', 'Inverse', 'InverseCosineTransform', 'InverseFourierTransform', 'InverseHankelTransform', 'InverseLaplaceTransform', 'InverseMellinTransform', 'InverseSineTransform', 'IsomorphismFailed', 'KroneckerDelta', 'LC', 'LM', 'LT', 'Lambda', 'LambertW', 'LaplaceTransform', 'Le', 'LessThan', 'LeviCivita', 'Li', 'Limit', 'Line', 'Line3D', 'Lt', 'MatAdd', 'MatMul', 'MatPow', 'Matrix', 'MatrixBase', 'MatrixExpr', 'MatrixSlice', 'MatrixSymbol', 'Max', 'MellinTransform', 'Min', 'Mod', 'Monomial', 'Mul', 'MultivariatePolynomialError', 'MutableDenseMatrix', 'MutableMatrix', 'MutableSparseMatrix', 'N', 'Nand', 'Ne', 'NonSquareMatrixError', 'Nor', 'Not', 'NotAlgebraic', 'NotInvertible', 'NotReversible', 'Number', 'NumberSymbol', 'O', 'OperationNotSupported', 'OptionError', 'Options', 'Or', 'Order', 'POSform', 'Piecewise', 'Plane', 'Point', 'Point2D', 'Point3D', 'PoleError', 'PolificationFailed', 'Poly', 'Polygon', 'PolynomialDivisionFailed', 'PolynomialError', 'PolynomialRing', 'Pow', 'PrecisionExhausted', 'Predicate', 'Product', 'ProductSet', 'PurePoly', 'PythonFiniteField', 'PythonIntegerRing', 'PythonRationalField', 'Q', 'QQ', 'QQ_gmpy', 'QQ_python', 'RR', 'Range', 'Rational', 'RationalField', 'Ray', 'Ray3D', 'RealField', 'RealNumber', 'RefinementFailed', 'RegularPolygon', 'Rel', 'RisingFactorial', 'RootOf', 'RootSum', 'S', 'SOPform', 'SYMPY_DEBUG', 'Segment', 'Segment3D', 'SeqAdd', 'SeqFormula', 'SeqMul', 'SeqPer', 'Set', 'ShapeError', 'Shi', 'Si', 'Sieve', 'SineTransform', 'SparseMatrix', 'StrictGreaterThan', 'StrictLessThan', 'Subs', 'Sum', 'Symbol', 'SymmetricDifference', 'SympifyError', 'TableForm', 'Trace', 'Transpose', 'Triangle', 'Tuple', 'Unequality', 'UnificationFailed', 'Union', 'UnivariatePolynomialError', 'Wild', 'WildFunction', 'Xor', 'Ynm', 'Ynm_c', 'ZZ', 'ZZ_gmpy', 'ZZ_python', 'ZeroMatrix', 'Znm', '__builtins__', '__cached__', '__doc__', '__file__', '__loader__', '__name__', '__package__', '__path__', '__spec__', '__sympy_debug', '__version__', 'acos', 'acosh', 'acot', 'acoth', 'acsc', 'add', 'adjoint', 'airyai', 'airyaiprime', 'airybi', 'airybiprime', 'apart', 'apart_list', 'apply_finite_diff', 'are_similar', 'arg', 'as_finite_diff', 'asec', 'asech', 'asin', 'asinh', 'ask', 'ask_generated', 'assemble_partfrac_list', 'assoc_laguerre', 'assoc_legendre', 'assume', 'assuming', 'assumptions', 'atan', 'atan2', 'atanh', 'basic', 'bell', 'bernoulli', 'besseli', 'besselj', 'besselk', 'besselsimp', 'bessely', 'beta', 'binomial', 'binomial_coefficients', 'binomial_coefficients_list', 'bivariate', 'block_collapse', 'blockcut', 'bool_map', 'boolalg', 'bottom_up', 'bspline_basis', 'bspline_basis_set', 'cache', 'cacheit', 'calculus', 'cancel', 'capture', 'cartes', 'casoratian', 'catalan', 'cbrt', 'ccode', 'ceiling', 'centroid', 'chebyshevt', 'chebyshevt_poly', 'chebyshevt_root', 'chebyshevu', 'chebyshevu_poly', 'chebyshevu_root', 'checkodesol', 'checkpdesol', 'checksol', 'class_registry', 'classify_ode', 'classify_pde', 'closest_points', 'cofactors', 'collect', 'collect_const', 'combinatorial', 'combsimp', 'comp', 'compatibility', 'compose', 'concrete', 'conditionset', 'conjugate', 'construct_domain', 'containers', 'contains', 'content', 'continued_fraction', 'continued_fraction_convergents', 'continued_fraction_iterator', 'continued_fraction_periodic', 'continued_fraction_reduce', 'convex_hull', 'core', 'coreerrors', 'cos', 'cosh', 'cosine_transform', 'cot', 'coth', 'count_ops', 'count_roots', 'csc', 'csch', 'cse', 'cse_main', 'cse_opts', 'curve', 'cycle_length', 'cyclotomic_poly', 'decompogen', 'decompose', 'decorator', 'decorators', 'default_sort_key', 'deg', 'degree', 'degree_list', 'denom', 'dense', 'deprecated', 'det', 'det_quick', 'deutils', 'diag', 'dict_merge', 'diff', 'difference_delta', 'digamma', 'dirichlet_eta', 'discriminant', 'div', 'divisor_count', 'divisor_sigma', 'divisors', 'doctest', 'dsolve', 'egyptian_fraction', 'elementary', 'ellipse', 'elliptic_e', 'elliptic_f', 'elliptic_k', 'elliptic_pi', 'entity', 'enumerative', 'epath', 'epathtools', 'erf', 'erf2', 'erf2inv', 'erfc', 'erfcinv', 'erfi', 'erfinv', 'euler', 'euler_equations', 'evalf', 'evaluate', 'exceptions', 'exp', 'exp_polar', 'expand', 'expand_complex', 'expand_func', 'expand_log', 'expand_mul', 'expand_multinomial', 'expand_power_base', 'expand_power_exp', 'expand_trig', 'expint', 'expr', 'expr_with_intlimits', 'expr_with_limits', 'expressions', 'exprtools', 'exptrigsimp', 'exquo', 'external', 'eye', 'factor', 'factor_', 'factor_list', 'factor_nc', 'factor_terms', 'factorial', 'factorial2', 'factorint', 'factorrat', 'facts', 'false', 'fancysets', 'farthest_points', 'fcode', 'ff', 'fibonacci', 'field', 'field_isomorphism', 'filldedent', 'finite_diff', 'finite_diff_weights', 'flatten', 'floor', 'fourier_series', 'fourier_transform', 'fps', 'frac', 'fraction', 'fresnelc', 'fresnels', 'fu', 'function', 'functions', 'gamma', 'gcd', 'gcd_list', 'gcd_terms', 'gcdex', 'gegenbauer', 'generate', 'genocchi', 'geometry', 'get_contraction_structure', 'get_indices', 'gff', 'gff_list', 'gosper', 'grevlex', 'grlex', 'groebner', 'ground_roots', 'group', 'gruntz', 'hadamard_product', 'half_gcdex', 'hankel1', 'hankel2', 'hankel_transform', 'harmonic', 'has_dups', 'has_variety', 'hermite', 'hermite_poly', 'hessian', 'hn1', 'hn2', 'homogeneous_order', 'horner', 'hyper', 'hyperexpand', 'hypersimilar', 'hypersimp', 'idiff', 'igcd', 'igrevlex', 'igrlex', 'ilcm', 'ilex', 'im', 'imageset', 'immutable', 'index_methods', 'indexed', 'inequalities', 'inference', 'init_printing', 'init_session', 'integer_nthroot', 'integrals', 'integrate', 'interactive', 'interactive_traversal', 'interpolate', 'interpolating_poly', 'intersection', 'intervals', 'inv_quick', 'inverse_cosine_transform', 'inverse_fourier_transform', 'inverse_hankel_transform', 'inverse_laplace_transform', 'inverse_mellin_transform', 'inverse_sine_transform', 'invert', 'is_decreasing', 'is_increasing', 'is_monotonic', 'is_nthpow_residue', 'is_primitive_root', 'is_quad_residue', 'is_strictly_decreasing', 'is_strictly_increasing', 'is_zero_dimensional', 'isolate', 'isprime', 'iterables', 'itermonomials', 'jacobi', 'jacobi_normalized', 'jacobi_poly', 'jacobi_symbol', 'jn', 'jn_zeros', 'jordan_cell', 'jscode', 'julia_code', 'laguerre', 'laguerre_poly', 'lambdify', 'laplace_transform', 'latex', 'lcm', 'lcm_list', 'legendre', 'legendre_poly', 'legendre_symbol', 'lerchphi', 'lex', 'li', 'limit', 'limit_seq', 'line', 'line3d', 'line_integrate', 'linear_eq_to_matrix', 'linsolve', 'list2numpy', 'ln', 'log', 'logcombine', 'loggamma', 'logic', 'lowergamma', 'lucas', 'magic', 'manualintegrate', 'mathematica_code', 'mathieuc', 'mathieucprime', 'mathieus', 'mathieusprime', 'matrices', 'matrix2numpy', 'matrix_multiply_elementwise', 'matrix_symbols', 'meijerg', 'meijerint', 'mellin_transform', 'memoization', 'memoize_property', 'minimal_polynomial', 'minpoly', 'misc', 'mobius', 'mod', 'mod_inverse', 'monic', 'mpmath', 'mul', 'multidimensional', 'multinomial', 'multinomial_coefficients', 'multiplicity', 'n_order', 'nan', 'nextprime', 'nfloat', 'not_empty_in', 'npartitions', 'nroots', 'nsimplify', 'nsolve', 'nth_power_roots_poly', 'ntheory', 'nthroot_mod', 'numbered_symbols', 'numbers', 'numer', 'octave_code', 'ode', 'ode_order', 'ones', 'oo', 'operations', 'ordered', 'pager_print', 'parallel_poly_from_expr', 'parsing', 'partitions_', 'pde', 'pde_separate', 'pde_separate_add', 'pde_separate_mul', 'pdiv', 'pdsolve', 'perfect_power', 'periodic_argument', 'pexquo', 'pi', 'piecewise_fold', 'plane', 'plot', 'plot_backends', 'plot_implicit', 'plotting', 'point', 'polar_lift', 'polarify', 'pollard_pm1', 'pollard_rho', 'poly', 'poly_from_expr', 'polygamma', 'polygon', 'polylog', 'polys', 'polysys', 'posify', 'postfixes', 'postorder_traversal', 'powdenest', 'power', 'powsimp', 'pprint', 'pprint_try_use_unicode', 'pprint_use_unicode', 'pquo', 'prefixes', 'prem', 'preorder_traversal', 'pretty', 'pretty_print', 'preview', 'prevprime', 'prime', 'primefactors', 'primepi', 'primerange', 'primetest', 'primitive', 'primitive_element', 'primitive_root', 'primorial', 'principal_branch', 'print_gtk', 'print_python', 'print_tree', 'printing', 'prod', 'product', 'products', 'public', 'python', 'quadratic_residues', 'quo', 'rad', 'radsimp', 'randMatrix', 'random_poly', 'randprime', 'rational_interpolate', 'ratsimp', 'ratsimpmodprime', 'rcollect', 're', 'real_root', 'real_roots', 'recurr', 'reduce_abs_inequalities', 'reduce_abs_inequality', 'reduce_inequalities', 'reduced', 'refine', 'refine_root', 'register_handler', 'relational', 'release', 'rem', 'remove_handler', 'reshape', 'residue', 'residue_ntheory', 'resultant', 'rf', 'ring', 'root', 'rootof', 'roots', 'rot_axis1', 'rot_axis2', 'rot_axis3', 'rsolve', 'rsolve_hyper', 'rsolve_poly', 'rsolve_ratio', 'rules', 'runtests', 'satisfiable', 'sec', 'sech', 'separatevars', 'sequence', 'series', 'seterr', 'sets', 'sfield', 'sieve', 'sift', 'sign', 'signsimp', 'simplify', 'simplify_logic', 'sin', 'sinc', 'sine_transform', 'singleton', 'singularities', 'sinh', 'solve', 'solve_linear', 'solve_linear_system', 'solve_linear_system_LU', 'solve_poly_inequality', 'solve_poly_system', 'solve_rational_inequalities', 'solve_triangulated', 'solve_undetermined_coeffs', 'solve_univariate_inequality', 'solvers', 'solveset', 'source', 'sparse', 'special', 'sqf', 'sqf_list', 'sqf_norm', 'sqf_part', 'sqrt', 'sqrt_mod', 'sqrt_mod_iter', 'sqrtdenest', 'srepr', 'sring', 'sstr', 'sstrrepr', 'stieltjes', 'strategies', 'sturm', 'subfactorial', 'subresultants', 'subsets', 'summation', 'summations', 'swinnerton_dyer_poly', 'symarray', 'symbol', 'symbols', 'symmetric_poly', 'symmetrize', 'sympify', 'take', 'tan', 'tanh', 'tensor', 'terms_gcd', 'test', 'textplot', 'threaded', 'timed', 'timeutils', 'to_cnf', 'to_dnf', 'to_nnf', 'to_number_field', 'together', 'topological_sort', 'totient', 'trace', 'trailing', 'transforms', 'transpose', 'traversaltools', 'trigamma', 'trigonometry', 'trigsimp', 'true', 'trunc', 'unbranched_argument', 'unflatten', 'unpolarify', 'uppergamma', 'use', 'util', 'utilities', 'var', 'variations', 'vectorize', 'vfield', 'viete', 'vring', 'wronskian', 'xfield', 'xring', 'xthreaded', 'yn', 'zeros', 'zeta', 'zoo']\n"
     ]
    }
   ],
   "source": [
    "import sympy\n",
    "\n",
    "print(dir(sympy))"
   ]
  },
  {
   "cell_type": "markdown",
   "metadata": {},
   "source": [
    "A su vez, usando la función de ayuda (`help`) también podremos obtener una descripción de cada una de las funciones (ya que casi todas, pero no todas las funciones poseen una adecuada documentación o \"docstrings\", pero la gran mayoría de ellas sí que estarán documentadas de esta manera). "
   ]
  },
  {
   "cell_type": "code",
   "execution_count": 7,
   "metadata": {
    "collapsed": false
   },
   "outputs": [
    {
     "name": "stdout",
     "output_type": "stream",
     "text": [
      "Help on built-in function log in module math:\n",
      "\n",
      "log(...)\n",
      "    log(x[, base])\n",
      "    \n",
      "    Return the logarithm of x to the given base.\n",
      "    If the base not specified, returns the natural logarithm (base e) of x.\n",
      "\n"
     ]
    }
   ],
   "source": [
    "help(math.log)"
   ]
  },
  {
   "cell_type": "code",
   "execution_count": 34,
   "metadata": {
    "collapsed": false
   },
   "outputs": [
    {
     "data": {
      "text/plain": [
       "2.302585092994046"
      ]
     },
     "execution_count": 34,
     "metadata": {},
     "output_type": "execute_result"
    }
   ],
   "source": [
    "from math import log\n",
    "log(10.)"
   ]
  },
  {
   "cell_type": "code",
   "execution_count": 35,
   "metadata": {
    "collapsed": false
   },
   "outputs": [
    {
     "data": {
      "text/plain": [
       "3.3219280948873626"
      ]
     },
     "execution_count": 35,
     "metadata": {},
     "output_type": "execute_result"
    }
   ],
   "source": [
    "log(10, 2)"
   ]
  },
  {
   "cell_type": "markdown",
   "metadata": {},
   "source": [
    "Podemos también usar la función `help` directamente para módulos: Prueba por ejemplo\n",
    "\n",
    "    help(math) \n",
    "\n",
    "Algunos módulos muy útiles conforman las librerías estándar de Python  `os`, `sys`, `math`, `shutil`, `re`, `subprocess`, `multiprocessing`, `threading`. \n",
    "\n",
    "Una lista completa de los módulos estándar para Python 2 y Python 3 se tienen en http://docs.python.org/2/library/ y http://docs.python.org/3/library/, respectivamente."
   ]
  },
  {
   "cell_type": "markdown",
   "metadata": {},
   "source": [
    "## Variables y tipos de objetos"
   ]
  },
  {
   "cell_type": "markdown",
   "metadata": {},
   "source": [
    "### Nombres de símbolos "
   ]
  },
  {
   "cell_type": "markdown",
   "metadata": {},
   "source": [
    "Los nombres de las variable en Python pueden contener caracteres alfanuméricos `a-z`, `A-Z`, `0-9` y alguno de los caracteres especiales como `_`, pero obligatoriamente deben de comenzar con una letra.\n",
    "\n",
    "Por convención, los nombres de variable empezarán con una letra minúscula, mientras que los nombres de \"Clases\" comenzarán con una letra mayúscula. \n",
    "\n",
    "Además, existe cierto número de palabras clave en Python que no pueden ser usadas como nombres de variables. Estas palabras clave son:\n",
    "\n",
    "    and, as, assert, break, class, continue, def, del, elif, else, except, \n",
    "    exec, finally, for, from, global, if, import, in, is, lambda, not, or,\n",
    "    pass, print, raise, return, try, while, with, yield\n",
    "\n",
    "Nota: Tenga cuidado con la palabra clave `lambda`, que podría habitualmente ser un nombre de variable en un programa científico. Pero al tratarse también de una palabra clave, no estaría permitido su uso como variable en este caso."
   ]
  },
  {
   "cell_type": "markdown",
   "metadata": {},
   "source": [
    "### Sentencias de asignación"
   ]
  },
  {
   "cell_type": "markdown",
   "metadata": {},
   "source": [
    "\n",
    "El operador de asignación en Python es `=`. Python tiene un tipado de variables dinámico, lo que hace que no tengamos que especificar el tipo de una variable cuando la creamos.\n",
    "\n",
    "Asignando cierto valor a una nueva variable, estaríamos creando la variable:"
   ]
  },
  {
   "cell_type": "code",
   "execution_count": 14,
   "metadata": {
    "collapsed": false
   },
   "outputs": [],
   "source": [
    "# asignación de variable\n",
    "x = 1.0\n",
    "mi_variable = 12.2"
   ]
  },
  {
   "cell_type": "markdown",
   "metadata": {},
   "source": [
    "Así pues, aunque no haya sido explicitamente especificado, una variable sí que tendría un tipo asociado, derivado por cierto del valor que tenga asignado en ese momento (de ahí el término de tipaje dinámico)."
   ]
  },
  {
   "cell_type": "code",
   "execution_count": 15,
   "metadata": {
    "collapsed": false
   },
   "outputs": [
    {
     "data": {
      "text/plain": [
       "float"
      ]
     },
     "execution_count": 15,
     "metadata": {},
     "output_type": "execute_result"
    }
   ],
   "source": [
    "type(x)"
   ]
  },
  {
   "cell_type": "markdown",
   "metadata": {},
   "source": [
    "Así pues, si le asignamos un nuevo valor a la variable, este tipo puede cambiar."
   ]
  },
  {
   "cell_type": "code",
   "execution_count": 16,
   "metadata": {
    "collapsed": false
   },
   "outputs": [],
   "source": [
    "x = 1"
   ]
  },
  {
   "cell_type": "code",
   "execution_count": 17,
   "metadata": {
    "collapsed": false
   },
   "outputs": [
    {
     "data": {
      "text/plain": [
       "int"
      ]
     },
     "execution_count": 17,
     "metadata": {},
     "output_type": "execute_result"
    }
   ],
   "source": [
    "type(x)"
   ]
  },
  {
   "cell_type": "markdown",
   "metadata": {},
   "source": [
    "Si tratamos de usar una variable que aún no ha sido definida obtendríamos un `NameError`:"
   ]
  },
  {
   "cell_type": "code",
   "execution_count": 1,
   "metadata": {
    "collapsed": false
   },
   "outputs": [],
   "source": [
    "# Habría que descomentar la línea inferior antes de ejecutarla\n",
    "# print(y)"
   ]
  },
  {
   "cell_type": "markdown",
   "metadata": {},
   "source": [
    "### Tipos Fundamentales"
   ]
  },
  {
   "cell_type": "code",
   "execution_count": 17,
   "metadata": {
    "collapsed": false
   },
   "outputs": [
    {
     "data": {
      "text/plain": [
       "int"
      ]
     },
     "execution_count": 17,
     "metadata": {},
     "output_type": "execute_result"
    }
   ],
   "source": [
    "# enteros\n",
    "x = 1\n",
    "type(x)"
   ]
  },
  {
   "cell_type": "code",
   "execution_count": 18,
   "metadata": {
    "collapsed": false
   },
   "outputs": [
    {
     "data": {
      "text/plain": [
       "float"
      ]
     },
     "execution_count": 18,
     "metadata": {},
     "output_type": "execute_result"
    }
   ],
   "source": [
    "# números en coma flotante\n",
    "x = 1.0\n",
    "type(x)"
   ]
  },
  {
   "cell_type": "code",
   "execution_count": 19,
   "metadata": {
    "collapsed": false
   },
   "outputs": [
    {
     "data": {
      "text/plain": [
       "bool"
      ]
     },
     "execution_count": 19,
     "metadata": {},
     "output_type": "execute_result"
    }
   ],
   "source": [
    "# booleanos\n",
    "b1 = True\n",
    "b2 = False\n",
    "\n",
    "type(b1)"
   ]
  },
  {
   "cell_type": "code",
   "execution_count": 20,
   "metadata": {
    "collapsed": false
   },
   "outputs": [
    {
     "data": {
      "text/plain": [
       "complex"
      ]
     },
     "execution_count": 20,
     "metadata": {},
     "output_type": "execute_result"
    }
   ],
   "source": [
    "# números complejos: nótese el uso de `j` para especificar la unidad imaginaria\n",
    "x = 1.0 - 1.0j\n",
    "type(x)"
   ]
  },
  {
   "cell_type": "code",
   "execution_count": 21,
   "metadata": {
    "collapsed": false
   },
   "outputs": [
    {
     "name": "stdout",
     "output_type": "stream",
     "text": [
      "(1-1j)\n"
     ]
    }
   ],
   "source": [
    "print(x)"
   ]
  },
  {
   "cell_type": "code",
   "execution_count": 22,
   "metadata": {
    "collapsed": false
   },
   "outputs": [
    {
     "name": "stdout",
     "output_type": "stream",
     "text": [
      "(1.0, -1.0)\n"
     ]
    }
   ],
   "source": [
    "print(x.real, x.imag)"
   ]
  },
  {
   "cell_type": "markdown",
   "metadata": {},
   "source": [
    "### Utilidades de tipado (\"Type utilities\")"
   ]
  },
  {
   "cell_type": "markdown",
   "metadata": {},
   "source": [
    "El módulo `types` contiene un cierto número de definiciones y funciones relacionadas con tipos de nombres que pueden ser usados para probar si las variables son de un determinado tipo:"
   ]
  },
  {
   "cell_type": "code",
   "execution_count": 1,
   "metadata": {
    "collapsed": false
   },
   "outputs": [
    {
     "name": "stdout",
     "output_type": "stream",
     "text": [
      "['BooleanType', 'BufferType', 'BuiltinFunctionType', 'BuiltinMethodType', 'ClassType', 'CodeType', 'ComplexType', 'DictProxyType', 'DictType', 'DictionaryType', 'EllipsisType', 'FileType', 'FloatType', 'FrameType', 'FunctionType', 'GeneratorType', 'GetSetDescriptorType', 'InstanceType', 'IntType', 'LambdaType', 'ListType', 'LongType', 'MemberDescriptorType', 'MethodType', 'ModuleType', 'NoneType', 'NotImplementedType', 'ObjectType', 'SliceType', 'StringType', 'StringTypes', 'TracebackType', 'TupleType', 'TypeType', 'UnboundMethodType', 'UnicodeType', 'XRangeType', '__all__', '__builtins__', '__doc__', '__file__', '__name__', '__package__']\n"
     ]
    }
   ],
   "source": [
    "import types\n",
    "\n",
    "# imprime todos los tipos definidos en el módulo `types`\n",
    "print(dir(types))"
   ]
  },
  {
   "cell_type": "code",
   "execution_count": 2,
   "metadata": {
    "collapsed": false
   },
   "outputs": [
    {
     "data": {
      "text/plain": [
       "True"
      ]
     },
     "execution_count": 2,
     "metadata": {},
     "output_type": "execute_result"
    }
   ],
   "source": [
    "x = 1.0\n",
    "\n",
    "# esta sentencia chequea si la variable x es de tipo coma flotante ('float')\n",
    "type(x) is float"
   ]
  },
  {
   "cell_type": "code",
   "execution_count": 3,
   "metadata": {
    "collapsed": false
   },
   "outputs": [
    {
     "data": {
      "text/plain": [
       "False"
      ]
     },
     "execution_count": 3,
     "metadata": {},
     "output_type": "execute_result"
    }
   ],
   "source": [
    "# y esta si la variable x es de tipo entero ('int')\n",
    "type(x) is int"
   ]
  },
  {
   "cell_type": "markdown",
   "metadata": {},
   "source": [
    "También podemos usar el método `isinstance` para testear los tipos de las variables:"
   ]
  },
  {
   "cell_type": "code",
   "execution_count": 4,
   "metadata": {
    "collapsed": false
   },
   "outputs": [
    {
     "data": {
      "text/plain": [
       "True"
      ]
     },
     "execution_count": 4,
     "metadata": {},
     "output_type": "execute_result"
    }
   ],
   "source": [
    "isinstance(x, float)"
   ]
  },
  {
   "cell_type": "markdown",
   "metadata": {},
   "source": [
    "### Repertorio de Tipos ('type' en inglés)"
   ]
  },
  {
   "cell_type": "code",
   "execution_count": 2,
   "metadata": {
    "collapsed": false
   },
   "outputs": [
    {
     "name": "stdout",
     "output_type": "stream",
     "text": [
      "(1.5, <type 'float'>)\n"
     ]
    }
   ],
   "source": [
    "x = 1.5\n",
    "\n",
    "print(x, type(x))"
   ]
  },
  {
   "cell_type": "code",
   "execution_count": 3,
   "metadata": {
    "collapsed": false
   },
   "outputs": [
    {
     "name": "stdout",
     "output_type": "stream",
     "text": [
      "(1, <type 'int'>)\n"
     ]
    }
   ],
   "source": [
    "x = int(x)\n",
    "\n",
    "print(x, type(x))"
   ]
  },
  {
   "cell_type": "code",
   "execution_count": 4,
   "metadata": {
    "collapsed": false
   },
   "outputs": [
    {
     "name": "stdout",
     "output_type": "stream",
     "text": [
      "((1+0j), <type 'complex'>)\n"
     ]
    }
   ],
   "source": [
    "z = complex(x)\n",
    "\n",
    "print(z, type(z))"
   ]
  },
  {
   "cell_type": "code",
   "execution_count": 2,
   "metadata": {
    "collapsed": false
   },
   "outputs": [],
   "source": [
    "# x = float(z)"
   ]
  },
  {
   "cell_type": "markdown",
   "metadata": {},
   "source": [
    "Comprobamos que las variables complejas no pueden ser convertidas a tipo real o entero. Necesitaríamos usar más bien `z.real` o `z.imag` para extraer la parte real o imaginaria del número complejo que queramos:"
   ]
  },
  {
   "cell_type": "code",
   "execution_count": 6,
   "metadata": {
    "collapsed": false
   },
   "outputs": [
    {
     "name": "stdout",
     "output_type": "stream",
     "text": [
      "(1.0, ' -> ', True, <type 'bool'>)\n",
      "(0.0, ' -> ', False, <type 'bool'>)\n"
     ]
    }
   ],
   "source": [
    "y = bool(z.real)\n",
    "\n",
    "print(z.real, \" -> \", y, type(y))\n",
    "\n",
    "y = bool(z.imag)\n",
    "\n",
    "print(z.imag, \" -> \", y, type(y))"
   ]
  },
  {
   "cell_type": "markdown",
   "metadata": {},
   "source": [
    "## Operadores y comparaciones"
   ]
  },
  {
   "cell_type": "markdown",
   "metadata": {},
   "source": [
    "La mayor parte de los operadores y comparaciones que efectuemos en Python funcionarán como se espera:\n",
    "\n",
    "* Operadores Aritméticos `+`, `-`, `*`, `/`, `//` (división entera), '**' exponenciación, etc."
   ]
  },
  {
   "cell_type": "code",
   "execution_count": 10,
   "metadata": {
    "collapsed": false
   },
   "outputs": [
    {
     "data": {
      "text/plain": [
       "(3, -1, 2, 0)"
      ]
     },
     "execution_count": 10,
     "metadata": {},
     "output_type": "execute_result"
    }
   ],
   "source": [
    "1 + 2, 1 - 2, 1 * 2, 1 / 2    #  ¡atención con la división entera!"
   ]
  },
  {
   "cell_type": "code",
   "execution_count": 11,
   "metadata": {
    "collapsed": false
   },
   "outputs": [
    {
     "data": {
      "text/plain": [
       "(3.0, -1.0, 2.0, 0.5)"
      ]
     },
     "execution_count": 11,
     "metadata": {},
     "output_type": "execute_result"
    }
   ],
   "source": [
    "1.0 + 2.0, 1.0 - 2.0, 1.0 * 2.0, 1.0 / 2.0"
   ]
  },
  {
   "cell_type": "code",
   "execution_count": 12,
   "metadata": {
    "collapsed": false
   },
   "outputs": [
    {
     "data": {
      "text/plain": [
       "1.0"
      ]
     },
     "execution_count": 12,
     "metadata": {},
     "output_type": "execute_result"
    }
   ],
   "source": [
    "# También podemos forzar una división entera de números reales\n",
    "3.0 // 2.0"
   ]
  },
  {
   "cell_type": "code",
   "execution_count": 13,
   "metadata": {
    "collapsed": false
   },
   "outputs": [
    {
     "data": {
      "text/plain": [
       "4"
      ]
     },
     "execution_count": 13,
     "metadata": {},
     "output_type": "execute_result"
    }
   ],
   "source": [
    "# Nótese que el operador exponenciación en python no es ^, sino **\n",
    "2 ** 2"
   ]
  },
  {
   "cell_type": "code",
   "execution_count": 15,
   "metadata": {
    "collapsed": false
   },
   "outputs": [
    {
     "data": {
      "text/plain": [
       "(3, 0, 1, 5)"
      ]
     },
     "execution_count": 15,
     "metadata": {},
     "output_type": "execute_result"
    }
   ],
   "source": [
    "# ^ más bien realiza una comparación \n",
    "# de la representación binaria de ambos operandos\n",
    "# y el resultado se vuelve a pasar a base 10\n",
    "1^2, 2^2, 2^3, 1^4"
   ]
  },
  {
   "cell_type": "markdown",
   "metadata": {},
   "source": [
    "## Por otro lado, el operador `/` siempre realizará una división en coma flotante, siempre que estemos usando una versión de Python 3.x.\n",
    "Sin embargo este no es el caso en Python 2.x, donde el resultado de `/` es siempre un entero si los operadores son enteros.\n",
    "para ser más específicos, `1/2 = 0.5` (`float`) en Python 3.x, y `1/2 = 0` (`int`) en Python 2.x (pero `1.0/2 = 0.5` en Python 2.x)."
   ]
  },
  {
   "cell_type": "markdown",
   "metadata": {},
   "source": [
    "* Los operadores booleanos serán `and`, `not`, `or`. "
   ]
  },
  {
   "cell_type": "code",
   "execution_count": 16,
   "metadata": {
    "collapsed": false
   },
   "outputs": [
    {
     "data": {
      "text/plain": [
       "False"
      ]
     },
     "execution_count": 16,
     "metadata": {},
     "output_type": "execute_result"
    }
   ],
   "source": [
    "True and False"
   ]
  },
  {
   "cell_type": "code",
   "execution_count": 17,
   "metadata": {
    "collapsed": false
   },
   "outputs": [
    {
     "data": {
      "text/plain": [
       "True"
      ]
     },
     "execution_count": 17,
     "metadata": {},
     "output_type": "execute_result"
    }
   ],
   "source": [
    "not False"
   ]
  },
  {
   "cell_type": "code",
   "execution_count": 18,
   "metadata": {
    "collapsed": false
   },
   "outputs": [
    {
     "data": {
      "text/plain": [
       "True"
      ]
     },
     "execution_count": 18,
     "metadata": {},
     "output_type": "execute_result"
    }
   ],
   "source": [
    "True or False"
   ]
  },
  {
   "cell_type": "markdown",
   "metadata": {},
   "source": [
    "* Los operadores de comparación `>`, `<`, `>=` (mayor, menor, mayor o igual), `<=` (menor o igual), `==` igualdad, `is` identidad."
   ]
  },
  {
   "cell_type": "code",
   "execution_count": 19,
   "metadata": {
    "collapsed": false
   },
   "outputs": [
    {
     "data": {
      "text/plain": [
       "(True, False)"
      ]
     },
     "execution_count": 19,
     "metadata": {},
     "output_type": "execute_result"
    }
   ],
   "source": [
    "2 > 1, 2 < 1"
   ]
  },
  {
   "cell_type": "code",
   "execution_count": 20,
   "metadata": {
    "collapsed": false
   },
   "outputs": [
    {
     "data": {
      "text/plain": [
       "(False, False)"
      ]
     },
     "execution_count": 20,
     "metadata": {},
     "output_type": "execute_result"
    }
   ],
   "source": [
    "2 > 2, 2 < 2"
   ]
  },
  {
   "cell_type": "code",
   "execution_count": 21,
   "metadata": {
    "collapsed": false
   },
   "outputs": [
    {
     "data": {
      "text/plain": [
       "(True, True)"
      ]
     },
     "execution_count": 21,
     "metadata": {},
     "output_type": "execute_result"
    }
   ],
   "source": [
    "2 >= 2, 2 <= 2"
   ]
  },
  {
   "cell_type": "code",
   "execution_count": 22,
   "metadata": {
    "collapsed": false
   },
   "outputs": [
    {
     "data": {
      "text/plain": [
       "True"
      ]
     },
     "execution_count": 22,
     "metadata": {},
     "output_type": "execute_result"
    }
   ],
   "source": [
    "# igualdad\n",
    "[1,2] == [1,2]"
   ]
  },
  {
   "cell_type": "code",
   "execution_count": 23,
   "metadata": {
    "collapsed": false
   },
   "outputs": [
    {
     "data": {
      "text/plain": [
       "True"
      ]
     },
     "execution_count": 23,
     "metadata": {},
     "output_type": "execute_result"
    }
   ],
   "source": [
    "# ¿objetos idénticos?\n",
    "l1 = l2 = [1,2]\n",
    "\n",
    "l1 is l2"
   ]
  },
  {
   "cell_type": "markdown",
   "metadata": {},
   "source": [
    "## Tipos compuestos: Strings, Listas y diccionarios"
   ]
  },
  {
   "cell_type": "markdown",
   "metadata": {},
   "source": [
    "### Strings (o cadenas de carácteres)"
   ]
  },
  {
   "cell_type": "markdown",
   "metadata": {},
   "source": [
    "Los strings serán el tipo de variable usado para almacenar mensajes de texto. "
   ]
  },
  {
   "cell_type": "code",
   "execution_count": 24,
   "metadata": {
    "collapsed": false
   },
   "outputs": [
    {
     "data": {
      "text/plain": [
       "str"
      ]
     },
     "execution_count": 24,
     "metadata": {},
     "output_type": "execute_result"
    }
   ],
   "source": [
    "s = \"Hola mundo\"\n",
    "type(s)"
   ]
  },
  {
   "cell_type": "code",
   "execution_count": 25,
   "metadata": {
    "collapsed": false
   },
   "outputs": [
    {
     "data": {
      "text/plain": [
       "10"
      ]
     },
     "execution_count": 25,
     "metadata": {},
     "output_type": "execute_result"
    }
   ],
   "source": [
    "# para obtener la longitud del string: el número de caracteres\n",
    "len(s)"
   ]
  },
  {
   "cell_type": "code",
   "execution_count": 26,
   "metadata": {
    "collapsed": false
   },
   "outputs": [
    {
     "name": "stdout",
     "output_type": "stream",
     "text": [
      "Hola amigo\n"
     ]
    }
   ],
   "source": [
    "# para reemplazar un substring (subconjunto de caracteres) en un \n",
    "# string con otra expresión, usaremos la función 'replace'\n",
    "s2 = s.replace(\"mundo\", \"amigo\")\n",
    "print(s2)"
   ]
  },
  {
   "cell_type": "markdown",
   "metadata": {},
   "source": [
    "Se puede indexar cada uno de los caracteres en un string usando `[]`, teniendo en cuenta eso sí, que el primer carácter empezará con el índice 0 y no el 1."
   ]
  },
  {
   "cell_type": "code",
   "execution_count": 27,
   "metadata": {
    "collapsed": false
   },
   "outputs": [
    {
     "data": {
      "text/plain": [
       "'H'"
      ]
     },
     "execution_count": 27,
     "metadata": {},
     "output_type": "execute_result"
    }
   ],
   "source": [
    "s[0]"
   ]
  },
  {
   "cell_type": "markdown",
   "metadata": {},
   "source": [
    "**Aviso importante pues para usuarios habituales de MATLAB o Mathematica:** \n",
    "\n",
    "¡El indexado siempre empieza por 0!\n",
    "\n",
    "También podemos extraer una parte concreta del string usando la sintaxis `[inicio:final]`, que extraerá aquellos caracteres de la cadena comprendidos entre el índice `inicio` y `final` -1 (teniendo en cuenta lo ya resaltado anteriormente acerca de que el primer índice siempre será el 0 y que el carácter con índice `final` no será pues incluido:"
   ]
  },
  {
   "cell_type": "code",
   "execution_count": 45,
   "metadata": {
    "collapsed": false
   },
   "outputs": [
    {
     "name": "stdout",
     "output_type": "stream",
     "text": [
      "Hola\n"
     ]
    }
   ],
   "source": [
    "str1=s[0:4]\n",
    "print(str1)"
   ]
  },
  {
   "cell_type": "code",
   "execution_count": 46,
   "metadata": {
    "collapsed": false
   },
   "outputs": [
    {
     "name": "stdout",
     "output_type": "stream",
     "text": [
      " \n"
     ]
    }
   ],
   "source": [
    "str2=s[4:5]\n",
    "print(str2)"
   ]
  },
  {
   "cell_type": "code",
   "execution_count": 48,
   "metadata": {
    "collapsed": false
   },
   "outputs": [
    {
     "name": "stdout",
     "output_type": "stream",
     "text": [
      "mundo\n"
     ]
    }
   ],
   "source": [
    "str3=s[5:10]\n",
    "print(str3)"
   ]
  },
  {
   "cell_type": "markdown",
   "metadata": {},
   "source": [
    "Por otro lado, si omitimos alguno (o ambos) de los límites `inicio` o `final` en `[inicio:final]`, entonces por defecto se tomará el comienzo y/o el final de la cadena, respectivamente:"
   ]
  },
  {
   "cell_type": "code",
   "execution_count": 49,
   "metadata": {
    "collapsed": false
   },
   "outputs": [
    {
     "data": {
      "text/plain": [
       "'Hola'"
      ]
     },
     "execution_count": 49,
     "metadata": {},
     "output_type": "execute_result"
    }
   ],
   "source": [
    "s[:4]"
   ]
  },
  {
   "cell_type": "code",
   "execution_count": 50,
   "metadata": {
    "collapsed": false
   },
   "outputs": [
    {
     "data": {
      "text/plain": [
       "'mundo'"
      ]
     },
     "execution_count": 50,
     "metadata": {},
     "output_type": "execute_result"
    }
   ],
   "source": [
    "s[5:]"
   ]
  },
  {
   "cell_type": "code",
   "execution_count": 35,
   "metadata": {
    "collapsed": false
   },
   "outputs": [
    {
     "data": {
      "text/plain": [
       "'Hola mundo'"
      ]
     },
     "execution_count": 35,
     "metadata": {},
     "output_type": "execute_result"
    }
   ],
   "source": [
    "s[:]"
   ]
  },
  {
   "cell_type": "markdown",
   "metadata": {},
   "source": [
    "También podemos definir un paso de salto usando la sintaxis `[inicio:final:paso]` (el valor por defecto para `paso` es 1, como ya se ha visto más arriba):"
   ]
  },
  {
   "cell_type": "code",
   "execution_count": 51,
   "metadata": {
    "collapsed": false
   },
   "outputs": [
    {
     "data": {
      "text/plain": [
       "'Hola mundo'"
      ]
     },
     "execution_count": 51,
     "metadata": {},
     "output_type": "execute_result"
    }
   ],
   "source": [
    "s[::1]"
   ]
  },
  {
   "cell_type": "code",
   "execution_count": 52,
   "metadata": {
    "collapsed": false
   },
   "outputs": [
    {
     "data": {
      "text/plain": [
       "('Hl ud', 'oamno')"
      ]
     },
     "execution_count": 52,
     "metadata": {},
     "output_type": "execute_result"
    }
   ],
   "source": [
    "s[::2], s[1::2]"
   ]
  },
  {
   "cell_type": "markdown",
   "metadata": {},
   "source": [
    "Esta técnica se denomina rebanadora (*slicing* en inglés). Puede consultar más acerca de la sintaxis correspondiente en: http://docs.python.org/release/2.7.3/library/functions.html?highlight=slice#slice"
   ]
  },
  {
   "cell_type": "markdown",
   "metadata": {},
   "source": [
    "De hecho Python tiene un conjunto muy rico de funciones para el procesamiento de texto. Consultar por ejemplo http://docs.python.org/2/library/string.html para más información."
   ]
  },
  {
   "cell_type": "markdown",
   "metadata": {},
   "source": [
    "#### Ejemplos de formateo de texto ('strings') "
   ]
  },
  {
   "cell_type": "code",
   "execution_count": 55,
   "metadata": {
    "collapsed": false
   },
   "outputs": [
    {
     "name": "stdout",
     "output_type": "stream",
     "text": [
      "('Hola', 1.0, False, -1j)\n"
     ]
    }
   ],
   "source": [
    "print(str1, 1.0, False, -1j)  \n",
    "# De hecho, la sentencia 'print' convierte todos\n",
    "# los argumentos a strings"
   ]
  },
  {
   "cell_type": "code",
   "execution_count": 59,
   "metadata": {
    "collapsed": false
   },
   "outputs": [
    {
     "name": "stdout",
     "output_type": "stream",
     "text": [
      "Hola mundo\n"
     ]
    }
   ],
   "source": [
    "print(str1 + str2 + str3) \n",
    "# los strings sumados con '+' simplemente son concatenados"
   ]
  },
  {
   "cell_type": "code",
   "execution_count": 60,
   "metadata": {
    "collapsed": false
   },
   "outputs": [
    {
     "data": {
      "text/plain": [
       "'Hola mundo'"
      ]
     },
     "execution_count": 60,
     "metadata": {},
     "output_type": "execute_result"
    }
   ],
   "source": [
    "# También podríamos simplemente haber escrito \n",
    "str1+str2+str3"
   ]
  },
  {
   "cell_type": "code",
   "execution_count": 62,
   "metadata": {
    "collapsed": false
   },
   "outputs": [
    {
     "name": "stdout",
     "output_type": "stream",
     "text": [
      "value = 1.000000\n"
     ]
    }
   ],
   "source": [
    "print(\"value = %f\" % 1.0)       \n",
    "# podemos también usar un estilo de formateo tipo lenguaje C"
   ]
  },
  {
   "cell_type": "code",
   "execution_count": 64,
   "metadata": {
    "collapsed": false
   },
   "outputs": [
    {
     "name": "stdout",
     "output_type": "stream",
     "text": [
      "valor1 = 3.14. valor2 = 1\n"
     ]
    }
   ],
   "source": [
    "# así podemos crear un string formateada como queramos\n",
    "s2 = \"valor1 = %.2f. valor2 = %d\" % (3.1415, 1.5)\n",
    "\n",
    "print(s2)"
   ]
  },
  {
   "cell_type": "code",
   "execution_count": 65,
   "metadata": {
    "collapsed": false
   },
   "outputs": [
    {
     "name": "stdout",
     "output_type": "stream",
     "text": [
      "valor1 = 3.1415, valor2 = 1.5\n"
     ]
    }
   ],
   "source": [
    "# otra alternativa más intuitiva sería \n",
    "s3 = 'valor1 = {0}, valor2 = {1}'.format(3.1415, 1.5)\n",
    "\n",
    "print(s3)"
   ]
  },
  {
   "cell_type": "markdown",
   "metadata": {},
   "source": [
    "### Listas"
   ]
  },
  {
   "cell_type": "markdown",
   "metadata": {},
   "source": [
    "Las listas son muy similares a las cadenas de caracteres, excepto que cada elemento puede ser de cualquier tipo.\n",
    "\n",
    "La sintaxis para crear listas en Python es usando corchetes `[...]`:"
   ]
  },
  {
   "cell_type": "code",
   "execution_count": 66,
   "metadata": {
    "collapsed": false
   },
   "outputs": [
    {
     "name": "stdout",
     "output_type": "stream",
     "text": [
      "<type 'list'>\n",
      "[1, 2, 3, 4]\n"
     ]
    }
   ],
   "source": [
    "l = [1,2,3,4]\n",
    "\n",
    "print(type(l))\n",
    "print(l)"
   ]
  },
  {
   "cell_type": "markdown",
   "metadata": {},
   "source": [
    "También podemos usar la misma técnica de rebanado o \"slicing\" que usamos con los strings para manipular listas:"
   ]
  },
  {
   "cell_type": "code",
   "execution_count": 67,
   "metadata": {
    "collapsed": false
   },
   "outputs": [
    {
     "name": "stdout",
     "output_type": "stream",
     "text": [
      "[1, 2, 3, 4]\n",
      "[2, 3]\n",
      "[1, 3]\n"
     ]
    }
   ],
   "source": [
    "print(l)\n",
    "\n",
    "print(l[1:3])\n",
    "\n",
    "print(l[::2])"
   ]
  },
  {
   "cell_type": "markdown",
   "metadata": {},
   "source": [
    "**Volvemos a recordar a los usuarios habituales de MATLAB o Mathematica ¡que el indexado en Python comienza en 0!** "
   ]
  },
  {
   "cell_type": "code",
   "execution_count": 68,
   "metadata": {
    "collapsed": false
   },
   "outputs": [
    {
     "data": {
      "text/plain": [
       "1"
      ]
     },
     "execution_count": 68,
     "metadata": {},
     "output_type": "execute_result"
    }
   ],
   "source": [
    "l[0]"
   ]
  },
  {
   "cell_type": "markdown",
   "metadata": {},
   "source": [
    "Los elementos en una lista no tienen que ser del mismo tipo:"
   ]
  },
  {
   "cell_type": "code",
   "execution_count": 66,
   "metadata": {
    "collapsed": false
   },
   "outputs": [
    {
     "name": "stdout",
     "output_type": "stream",
     "text": [
      "[1, 'a', 1.0, (1-1j)]\n"
     ]
    }
   ],
   "source": [
    "l = [1, 'a', 1.0, 1-1j]\n",
    "\n",
    "print(l)"
   ]
  },
  {
   "cell_type": "markdown",
   "metadata": {},
   "source": [
    "A su vez, las listas en Python aparte de ser no homogéneas, también pueden anidarse arbitrariamente:"
   ]
  },
  {
   "cell_type": "code",
   "execution_count": 69,
   "metadata": {
    "collapsed": false
   },
   "outputs": [
    {
     "data": {
      "text/plain": [
       "[1, [2, [3, [4, [5]]]]]"
      ]
     },
     "execution_count": 69,
     "metadata": {},
     "output_type": "execute_result"
    }
   ],
   "source": [
    "lista_anidada = [1, [2, [3, [4, [5]]]]]\n",
    "\n",
    "lista_anidada"
   ]
  },
  {
   "cell_type": "markdown",
   "metadata": {},
   "source": [
    "Las listas a su vez juegan un papel muy importante en Python. Por ejemplo serán usadas en bucles y otras estructuras de control de flujo (discutidas más abajo). También se dispone de un cierto número de convenientes funciones para generar listas de varios tipos, por ejemplo la función `range` :"
   ]
  },
  {
   "cell_type": "code",
   "execution_count": 81,
   "metadata": {
    "collapsed": false
   },
   "outputs": [
    {
     "data": {
      "text/plain": [
       "[10, 12, 14, 16, 18, 20, 22, 24, 26, 28]"
      ]
     },
     "execution_count": 81,
     "metadata": {},
     "output_type": "execute_result"
    }
   ],
   "source": [
    "inicio = 10\n",
    "final  = 30\n",
    "paso   = 2\n",
    "\n",
    "range(inicio, final, paso)"
   ]
  },
  {
   "cell_type": "code",
   "execution_count": 82,
   "metadata": {
    "collapsed": false
   },
   "outputs": [
    {
     "data": {
      "text/plain": [
       "[10, 12, 14, 16, 18, 20, 22, 24, 26, 28]"
      ]
     },
     "execution_count": 82,
     "metadata": {},
     "output_type": "execute_result"
    }
   ],
   "source": [
    "# En Python 3 range genera más bien un iterador\n",
    "# que puede convertirse en una lista usando 'list(...)'.\n",
    "# Pero esto no tiene ningún efecto en Python 2\n",
    "list(range(inicio, final, paso))"
   ]
  },
  {
   "cell_type": "code",
   "execution_count": 83,
   "metadata": {
    "collapsed": false
   },
   "outputs": [
    {
     "data": {
      "text/plain": [
       "[-10, -9, -8, -7, -6, -5, -4, -3, -2, -1, 0, 1, 2, 3, 4, 5, 6, 7, 8, 9]"
      ]
     },
     "execution_count": 83,
     "metadata": {},
     "output_type": "execute_result"
    }
   ],
   "source": [
    "list(range(-10, 10))"
   ]
  },
  {
   "cell_type": "code",
   "execution_count": 84,
   "metadata": {
    "collapsed": false
   },
   "outputs": [
    {
     "data": {
      "text/plain": [
       "'Hola mundo'"
      ]
     },
     "execution_count": 84,
     "metadata": {},
     "output_type": "execute_result"
    }
   ],
   "source": [
    "s"
   ]
  },
  {
   "cell_type": "code",
   "execution_count": 85,
   "metadata": {
    "collapsed": false
   },
   "outputs": [
    {
     "data": {
      "text/plain": [
       "['H', 'o', 'l', 'a', ' ', 'm', 'u', 'n', 'd', 'o']"
      ]
     },
     "execution_count": 85,
     "metadata": {},
     "output_type": "execute_result"
    }
   ],
   "source": [
    "# Para convertir un string en una lista de caracteres podemos usar:\n",
    "s2 = list(s)\n",
    "\n",
    "s2"
   ]
  },
  {
   "cell_type": "code",
   "execution_count": 86,
   "metadata": {
    "collapsed": false
   },
   "outputs": [
    {
     "name": "stdout",
     "output_type": "stream",
     "text": [
      "[' ', 'H', 'a', 'd', 'l', 'm', 'n', 'o', 'o', 'u']\n"
     ]
    }
   ],
   "source": [
    "# Ordenando listas\n",
    "s2.sort()\n",
    "\n",
    "print(s2)"
   ]
  },
  {
   "cell_type": "markdown",
   "metadata": {},
   "source": [
    "#### Añadiendo, insertando, modificando, y eliminando elementos de listas"
   ]
  },
  {
   "cell_type": "code",
   "execution_count": 87,
   "metadata": {
    "collapsed": false
   },
   "outputs": [
    {
     "name": "stdout",
     "output_type": "stream",
     "text": [
      "['A', 'd', 'd']\n"
     ]
    }
   ],
   "source": [
    "# Empezamos creando una nueva lista vacía\n",
    "l = []\n",
    "\n",
    "# y añadimos elementos usando `append`\n",
    "l.append(\"A\")\n",
    "l.append(\"d\")\n",
    "l.append(\"d\")\n",
    "\n",
    "print(l)"
   ]
  },
  {
   "cell_type": "markdown",
   "metadata": {},
   "source": [
    "Ahora podemos modificar listas asignandoles nuevos valores a ciertos elementos de la lista. Hablando en una jerga técnica, las listas son *mutables*."
   ]
  },
  {
   "cell_type": "code",
   "execution_count": 88,
   "metadata": {
    "collapsed": false
   },
   "outputs": [
    {
     "name": "stdout",
     "output_type": "stream",
     "text": [
      "['A', 'p', 'p']\n"
     ]
    }
   ],
   "source": [
    "l[1] = \"p\"\n",
    "l[2] = \"p\"\n",
    "\n",
    "print(l)"
   ]
  },
  {
   "cell_type": "code",
   "execution_count": 89,
   "metadata": {
    "collapsed": false
   },
   "outputs": [
    {
     "name": "stdout",
     "output_type": "stream",
     "text": [
      "['A', 'd', 'd']\n"
     ]
    }
   ],
   "source": [
    "l[1:3] = [\"d\", \"d\"]\n",
    "\n",
    "print(l)"
   ]
  },
  {
   "cell_type": "markdown",
   "metadata": {},
   "source": [
    "Podemos insertar un elemento en una posición specifica usando `insert`"
   ]
  },
  {
   "cell_type": "code",
   "execution_count": 90,
   "metadata": {
    "collapsed": false
   },
   "outputs": [
    {
     "name": "stdout",
     "output_type": "stream",
     "text": [
      "['i', 'n', 's', 'e', 'r', 't', 'A', 'd', 'd']\n"
     ]
    }
   ],
   "source": [
    "l.insert(0, \"i\")\n",
    "l.insert(1, \"n\")\n",
    "l.insert(2, \"s\")\n",
    "l.insert(3, \"e\")\n",
    "l.insert(4, \"r\")\n",
    "l.insert(5, \"t\")\n",
    "\n",
    "print(l)"
   ]
  },
  {
   "cell_type": "markdown",
   "metadata": {},
   "source": [
    "Para eliminar el primer elemento con un valor específico usaremos 'remove'"
   ]
  },
  {
   "cell_type": "code",
   "execution_count": 78,
   "metadata": {
    "collapsed": false
   },
   "outputs": [
    {
     "name": "stdout",
     "output_type": "stream",
     "text": [
      "['i', 'n', 's', 'e', 'r', 't', 'd', 'd']\n"
     ]
    }
   ],
   "source": [
    "l.remove(\"A\")\n",
    "\n",
    "print(l)"
   ]
  },
  {
   "cell_type": "markdown",
   "metadata": {},
   "source": [
    "mientras que para eliminar el elemento en una posición específica usaremos más bien `del`:"
   ]
  },
  {
   "cell_type": "code",
   "execution_count": 91,
   "metadata": {
    "collapsed": false
   },
   "outputs": [
    {
     "name": "stdout",
     "output_type": "stream",
     "text": [
      "['i', 'n', 's', 'e', 'r', 't', 'd']\n"
     ]
    }
   ],
   "source": [
    "del l[7]\n",
    "del l[6]\n",
    "\n",
    "print(l)"
   ]
  },
  {
   "cell_type": "markdown",
   "metadata": {},
   "source": [
    "Consultar `help(list)` para ver más detalles, o lea la documentación online al respecto "
   ]
  },
  {
   "cell_type": "markdown",
   "metadata": {},
   "source": [
    "### Tuplas (\"Tuples\" en inglés)"
   ]
  },
  {
   "cell_type": "markdown",
   "metadata": {},
   "source": [
    "Las tuplas son parecidas a las listas, excepto en el hecho de que no pueden ser modificadas después de ser creadas; esto es son *inmutables*. \n",
    "\n",
    "En Python, las tuplas se crean usando la sintaxis `(..., ..., ...)`, o incluso sin paréntesis `..., ...`:"
   ]
  },
  {
   "cell_type": "code",
   "execution_count": 93,
   "metadata": {
    "collapsed": false
   },
   "outputs": [
    {
     "name": "stdout",
     "output_type": "stream",
     "text": [
      "((10, 20), <type 'tuple'>)\n"
     ]
    }
   ],
   "source": [
    "punto = (10, 20)\n",
    "\n",
    "print(punto, type(punto))"
   ]
  },
  {
   "cell_type": "code",
   "execution_count": 94,
   "metadata": {
    "collapsed": false
   },
   "outputs": [
    {
     "name": "stdout",
     "output_type": "stream",
     "text": [
      "((10, 20), <type 'tuple'>)\n"
     ]
    }
   ],
   "source": [
    "punto = 10, 20\n",
    "\n",
    "print(punto, type(punto))"
   ]
  },
  {
   "cell_type": "markdown",
   "metadata": {},
   "source": [
    "Podemos desempaquetar una tupla asignándola a una lista de variables separadas por comas:"
   ]
  },
  {
   "cell_type": "code",
   "execution_count": 95,
   "metadata": {
    "collapsed": false
   },
   "outputs": [
    {
     "name": "stdout",
     "output_type": "stream",
     "text": [
      "('x =', 10)\n",
      "('y =', 20)\n"
     ]
    }
   ],
   "source": [
    "x, y = punto\n",
    "\n",
    "print(\"x =\", x)\n",
    "print(\"y =\", y)"
   ]
  },
  {
   "cell_type": "markdown",
   "metadata": {},
   "source": [
    "Pero si intentamos asignar un nuevo valor a un cierto elemento de una tupla el intérprete de Python nos devolverá un error o excepción:"
   ]
  },
  {
   "cell_type": "code",
   "execution_count": 4,
   "metadata": {
    "collapsed": false
   },
   "outputs": [],
   "source": [
    "# point[0] = 20"
   ]
  },
  {
   "cell_type": "markdown",
   "metadata": {},
   "source": [
    "### Diccionarios"
   ]
  },
  {
   "cell_type": "markdown",
   "metadata": {},
   "source": [
    "Los diccionarios también son como las listas, excepto que cada elemento es un par de tipo llave-valor (\"key-value\" en inglés). Así pues, la sintaxis para los  diccionarios es `{llave1 : valor1, ...}`:"
   ]
  },
  {
   "cell_type": "code",
   "execution_count": 11,
   "metadata": {
    "collapsed": false
   },
   "outputs": [
    {
     "name": "stdout",
     "output_type": "stream",
     "text": [
      "<type 'dict'>\n",
      "{'parametro1': 1.0, 'parametro3': 3.0, 'parametro2': 2.0}\n"
     ]
    }
   ],
   "source": [
    "parametros = {\"parametro1\" : 1.0,\n",
    "              \"parametro2\" : 2.0,\n",
    "              \"parametro3\" : 3.0,}\n",
    "\n",
    "print(type(parametros))\n",
    "print(parametros)"
   ]
  },
  {
   "cell_type": "code",
   "execution_count": 97,
   "metadata": {
    "collapsed": false
   },
   "outputs": [
    {
     "name": "stdout",
     "output_type": "stream",
     "text": [
      "parametro1 = 1.0\n",
      "parametro2 = 2.0\n",
      "parametro3 = 3.0\n"
     ]
    }
   ],
   "source": [
    "print(\"parametro1 = \" + str(parametros[\"parametro1\"]))\n",
    "print(\"parametro2 = \" + str(parametros[\"parametro2\"]))\n",
    "print(\"parametro3 = \" + str(parametros[\"parametro3\"]))"
   ]
  },
  {
   "cell_type": "code",
   "execution_count": 12,
   "metadata": {
    "collapsed": false
   },
   "outputs": [
    {
     "name": "stdout",
     "output_type": "stream",
     "text": [
      "parametro1 = A\n",
      "parametro2 = B\n",
      "parametro3 = 3.0\n",
      "parametro4 = D\n"
     ]
    }
   ],
   "source": [
    "parametros[\"parametro1\"] = \"A\"\n",
    "parametros[\"parametro2\"] = \"B\"\n",
    "\n",
    "# añadiendo una nueva entrada\n",
    "parametros[\"parametro4\"] = \"D\"\n",
    "\n",
    "print(\"parametro1 = \" + str(parametros[\"parametro1\"]))\n",
    "print(\"parametro2 = \" + str(parametros[\"parametro2\"]))\n",
    "print(\"parametro3 = \" + str(parametros[\"parametro3\"]))\n",
    "print(\"parametro4 = \" + str(parametros[\"parametro4\"]))"
   ]
  },
  {
   "cell_type": "markdown",
   "metadata": {},
   "source": [
    "## Control de  Flujo"
   ]
  },
  {
   "cell_type": "markdown",
   "metadata": {},
   "source": [
    "### Sentencias condicionales: if, elif, else"
   ]
  },
  {
   "cell_type": "markdown",
   "metadata": {},
   "source": [
    "La sintaxis de Python para la ejecución de órdenes condicionales de código usa la palabras clave `if`, `elif` (else if), `else`:"
   ]
  },
  {
   "cell_type": "code",
   "execution_count": 2,
   "metadata": {
    "collapsed": false
   },
   "outputs": [
    {
     "name": "stdout",
     "output_type": "stream",
     "text": [
      "sentencia1 y sentencia2 son Falsas\n"
     ]
    }
   ],
   "source": [
    "sentencia1 = False\n",
    "sentencia2 = False\n",
    "\n",
    "if sentencia1:\n",
    "    print(\"sentencia1 es Verdad\")\n",
    "    \n",
    "elif sentencia2:\n",
    "    print(\"sentencia2 es Verdad\")\n",
    "    \n",
    "else:\n",
    "    print(\"sentencia1 y sentencia2 son Falsas\")"
   ]
  },
  {
   "cell_type": "markdown",
   "metadata": {},
   "source": [
    "Aquí encontramos por primera vez una característica peculiar y algo inusual del lenguaje de programación Python: los bloques de programa vienen definidos por su nivel de indentación.\n",
    "\n",
    "Compare con el código equivalente en lenguaje C:\n",
    "\n",
    "\n",
    "    if (statement1)\n",
    "    {\n",
    "        printf(\"statement1 is True\\n\");\n",
    "    }\n",
    "    else if (statement2)\n",
    "    {\n",
    "        printf(\"statement2 is True\\n\");\n",
    "    }\n",
    "    else\n",
    "    {\n",
    "        printf(\"statement1 and statement2 are False\\n\");\n",
    "    }\n",
    "\n",
    "Vemos que en lenguaje C los bloques de programa vienen delimitados por llaves `{` y `}`. Por otra parte, el nivel de indentación (espacios en blanco antes de las sentencias del código) realmente no importan (siendo completamente opcionales).\n",
    "\n",
    "Sin embargo, en Python, la extensión y alcance de un bloque de código viene definido por el nivel de indentación (usualmente un tabulado o bien unos cuatro espacios en blanco). Esto significa que debemos ser cuidadosos para indentar correctamente nuestro código, si no queremos tener errores de sintaxis."
   ]
  },
  {
   "cell_type": "markdown",
   "metadata": {},
   "source": [
    "#### Ejemplos:"
   ]
  },
  {
   "cell_type": "code",
   "execution_count": 1,
   "metadata": {
    "collapsed": false
   },
   "outputs": [
    {
     "name": "stdout",
     "output_type": "stream",
     "text": [
      "ambas sentencia1 y setencia2 son verdad (True)\n"
     ]
    }
   ],
   "source": [
    "sentencia1 = sentencia2 = True\n",
    "\n",
    "if sentencia1:\n",
    "    if sentencia2:\n",
    "        print(\"ambas sentencia1 y setencia2 son verdad (True)\")"
   ]
  },
  {
   "cell_type": "code",
   "execution_count": 2,
   "metadata": {
    "collapsed": false
   },
   "outputs": [
    {
     "ename": "IndentationError",
     "evalue": "expected an indented block (<ipython-input-2-f2c23337a17a>, line 4)",
     "output_type": "error",
     "traceback": [
      "\u001b[1;36m  File \u001b[1;32m\"<ipython-input-2-f2c23337a17a>\"\u001b[1;36m, line \u001b[1;32m4\u001b[0m\n\u001b[1;33m    print(\"ambas sentencia1 y setencia2 son verdad (True)\")\u001b[0m\n\u001b[1;37m        ^\u001b[0m\n\u001b[1;31mIndentationError\u001b[0m\u001b[1;31m:\u001b[0m expected an indented block\n"
     ]
    }
   ],
   "source": [
    "# ¡Mala indentación!\n",
    "if sentencia1:\n",
    "    if sentencia2:\n",
    "    print(\"ambas sentencia1 y setencia2 son verdad (True)\")  \n",
    "    # esta línea está mal indentada"
   ]
  },
  {
   "cell_type": "code",
   "execution_count": 3,
   "metadata": {
    "collapsed": false
   },
   "outputs": [],
   "source": [
    "sentencia1 = False \n",
    "\n",
    "if sentencia1:\n",
    "    print(\"imprime si la sentencia1 es verdad (True)\")\n",
    "    \n",
    "    print(\"todavía dentro del bloque if\")"
   ]
  },
  {
   "cell_type": "code",
   "execution_count": 5,
   "metadata": {
    "collapsed": false
   },
   "outputs": [
    {
     "name": "stdout",
     "output_type": "stream",
     "text": [
      "ya estamos fuera del bloque if\n"
     ]
    }
   ],
   "source": [
    "if sentencia1:\n",
    "    print(\"imprime si la sentencia1 es verdad (True)\")\n",
    "    \n",
    "print(\"ya estamos fuera del bloque if\")"
   ]
  },
  {
   "cell_type": "markdown",
   "metadata": {},
   "source": [
    "## Bucles"
   ]
  },
  {
   "cell_type": "markdown",
   "metadata": {},
   "source": [
    "En Python, los bucles pueden programarse de diferentes formas, pero la más común es mediante la sentencia `for`, que se usa junto con objetos iterables, como las listas. Su sintaxis básica es:"
   ]
  },
  {
   "cell_type": "markdown",
   "metadata": {},
   "source": [
    "### **bucles `for` **:"
   ]
  },
  {
   "cell_type": "code",
   "execution_count": 6,
   "metadata": {
    "collapsed": false
   },
   "outputs": [
    {
     "name": "stdout",
     "output_type": "stream",
     "text": [
      "1\n",
      "2\n",
      "3\n"
     ]
    }
   ],
   "source": [
    "for x in [1,2,3]:\n",
    "    print(x)"
   ]
  },
  {
   "cell_type": "markdown",
   "metadata": {},
   "source": [
    "El bucle `for` itera sobre los elementos de la lista suministrada, y ejecuta el bloque de código contenido dentro del bucle, una vez para cada elemento. Cualquier tipo de lista puede ser usada en un bucle `for`. Por ejemplo:"
   ]
  },
  {
   "cell_type": "code",
   "execution_count": 7,
   "metadata": {
    "collapsed": false
   },
   "outputs": [
    {
     "name": "stdout",
     "output_type": "stream",
     "text": [
      "0\n",
      "1\n",
      "2\n",
      "3\n"
     ]
    }
   ],
   "source": [
    "for x in range(4): # por defecto range empieza en 0\n",
    "    print(x)"
   ]
  },
  {
   "cell_type": "markdown",
   "metadata": {},
   "source": [
    "Nota: ¡`range(4)` no incluye el 4 !"
   ]
  },
  {
   "cell_type": "code",
   "execution_count": 8,
   "metadata": {
    "collapsed": false
   },
   "outputs": [
    {
     "name": "stdout",
     "output_type": "stream",
     "text": [
      "-3\n",
      "-2\n",
      "-1\n",
      "0\n",
      "1\n",
      "2\n"
     ]
    }
   ],
   "source": [
    "for x in range(-3,3):\n",
    "    print(x)"
   ]
  },
  {
   "cell_type": "code",
   "execution_count": 9,
   "metadata": {
    "collapsed": false
   },
   "outputs": [
    {
     "name": "stdout",
     "output_type": "stream",
     "text": [
      "cálculo\n",
      "científico\n",
      "con\n",
      "Python\n"
     ]
    }
   ],
   "source": [
    "for palabra in [u\"cálculo\", u\"científico\", \"con\", \"Python\"]:\n",
    "    print(palabra)\n",
    "# nótese el carácter u delante de las comillas para poder usar caracteres\n",
    "# acentuados dentro de los strings usados"
   ]
  },
  {
   "cell_type": "markdown",
   "metadata": {},
   "source": [
    "Para iterar sobre pares llave-valor (key-value) de un diccionario:"
   ]
  },
  {
   "cell_type": "code",
   "execution_count": 14,
   "metadata": {
    "collapsed": false
   },
   "outputs": [
    {
     "name": "stdout",
     "output_type": "stream",
     "text": [
      "parametro1 = A\n",
      "parametro3 = 3.0\n",
      "parametro2 = B\n",
      "parametro4 = D\n"
     ]
    }
   ],
   "source": [
    "for llave, valor in parametros.items():\n",
    "    print(llave + \" = \" + str(valor))"
   ]
  },
  {
   "cell_type": "markdown",
   "metadata": {},
   "source": [
    "A veces es útil tener acceso a los indices de los valores mientras iteramos sobre una lista. Podemos usar la función `enumerate` para esto:"
   ]
  },
  {
   "cell_type": "code",
   "execution_count": 15,
   "metadata": {
    "collapsed": false
   },
   "outputs": [
    {
     "name": "stdout",
     "output_type": "stream",
     "text": [
      "(0, -3)\n",
      "(1, -2)\n",
      "(2, -1)\n",
      "(3, 0)\n",
      "(4, 1)\n",
      "(5, 2)\n"
     ]
    }
   ],
   "source": [
    "for idx, x in enumerate(range(-3,3)):\n",
    "    print(idx, x)"
   ]
  },
  {
   "cell_type": "markdown",
   "metadata": {},
   "source": [
    "### Compresión de listas:"
   ]
  },
  {
   "cell_type": "markdown",
   "metadata": {},
   "source": [
    "Una forma conveniente y compacta de inicializar listas es la siguiente:"
   ]
  },
  {
   "cell_type": "code",
   "execution_count": 16,
   "metadata": {
    "collapsed": false
   },
   "outputs": [
    {
     "name": "stdout",
     "output_type": "stream",
     "text": [
      "[0, 1, 4, 9, 16]\n"
     ]
    }
   ],
   "source": [
    "l1 = [x**2 for x in range(0,5)]\n",
    "\n",
    "print(l1)"
   ]
  },
  {
   "cell_type": "markdown",
   "metadata": {},
   "source": [
    "###  Bucles `while`:"
   ]
  },
  {
   "cell_type": "code",
   "execution_count": 17,
   "metadata": {
    "collapsed": false
   },
   "outputs": [
    {
     "name": "stdout",
     "output_type": "stream",
     "text": [
      "0\n",
      "1\n",
      "2\n",
      "3\n",
      "4\n",
      "hecho\n"
     ]
    }
   ],
   "source": [
    "i = 0\n",
    "\n",
    "while i < 5:\n",
    "    print(i)\n",
    "    \n",
    "    i = i + 1\n",
    "    \n",
    "print(\"hecho\")"
   ]
  },
  {
   "cell_type": "markdown",
   "metadata": {},
   "source": [
    "Nótese que la sentencia `print(\"hecho\")` no forma parte del cuerpo de la sentencia `while` por la diferente indentación."
   ]
  },
  {
   "cell_type": "markdown",
   "metadata": {},
   "source": [
    "## Funciones"
   ]
  },
  {
   "cell_type": "markdown",
   "metadata": {},
   "source": [
    "Una función en Python se define usando la palabra clave `def`, seguida por un nombre de función, con sus correspondientes paréntesis `()`, y los dos puntos `:`. El código siguiente, con un nivel de indentación adicional, es el cuerpo de la función."
   ]
  },
  {
   "cell_type": "code",
   "execution_count": 18,
   "metadata": {
    "collapsed": false
   },
   "outputs": [],
   "source": [
    "def func0():   \n",
    "    print(\"prueba\")"
   ]
  },
  {
   "cell_type": "code",
   "execution_count": 19,
   "metadata": {
    "collapsed": false
   },
   "outputs": [
    {
     "name": "stdout",
     "output_type": "stream",
     "text": [
      "prueba\n"
     ]
    }
   ],
   "source": [
    "func0()"
   ]
  },
  {
   "cell_type": "markdown",
   "metadata": {},
   "source": [
    "Optionally, but highly recommended, we can define a so called \"docstring\", which is a description of the functions purpose and behaivor. The docstring should follow directly after the function definition, before the code in the function body."
   ]
  },
  {
   "cell_type": "code",
   "execution_count": 22,
   "metadata": {
    "collapsed": false
   },
   "outputs": [],
   "source": [
    "def func1(s):\n",
    "    \"\"\"\n",
    "    Imprime un string 's' y nos dice cuantos caracteres tiene    \n",
    "    \"\"\"\n",
    "    \n",
    "    print(s + \" tiene \" + str(len(s)) + \" caracteres\")"
   ]
  },
  {
   "cell_type": "code",
   "execution_count": 23,
   "metadata": {
    "collapsed": false
   },
   "outputs": [
    {
     "name": "stdout",
     "output_type": "stream",
     "text": [
      "Help on function func1 in module __main__:\n",
      "\n",
      "func1(s)\n",
      "    Imprime un string 's' y nos dice cuantos caracteres tiene\n",
      "\n"
     ]
    }
   ],
   "source": [
    "help(func1)"
   ]
  },
  {
   "cell_type": "code",
   "execution_count": 25,
   "metadata": {
    "collapsed": false
   },
   "outputs": [
    {
     "name": "stdout",
     "output_type": "stream",
     "text": [
      "prueba tiene 6 caracteres\n"
     ]
    }
   ],
   "source": [
    "func1(\"prueba\")"
   ]
  },
  {
   "cell_type": "markdown",
   "metadata": {},
   "source": [
    "Vemos pues que funciones que devuelven un valor usan la palabra clave `return`:"
   ]
  },
  {
   "cell_type": "code",
   "execution_count": 26,
   "metadata": {
    "collapsed": false
   },
   "outputs": [],
   "source": [
    "def cuadrado(x):\n",
    "    \"\"\"\n",
    "    Devuelve el cuadrado del número x.\n",
    "    \"\"\"\n",
    "    return x ** 2"
   ]
  },
  {
   "cell_type": "code",
   "execution_count": 27,
   "metadata": {
    "collapsed": false
   },
   "outputs": [
    {
     "data": {
      "text/plain": [
       "16"
      ]
     },
     "execution_count": 27,
     "metadata": {},
     "output_type": "execute_result"
    }
   ],
   "source": [
    "cuadrado(4)"
   ]
  },
  {
   "cell_type": "markdown",
   "metadata": {},
   "source": [
    "Podemos devolver múltiples valores de una función usando tuplas (ver más arriba):"
   ]
  },
  {
   "cell_type": "code",
   "execution_count": 28,
   "metadata": {
    "collapsed": false
   },
   "outputs": [],
   "source": [
    "def potencias(x):\n",
    "    \"\"\"\n",
    "    Devuelve unas cuantas potencias de x.\n",
    "    \"\"\"\n",
    "    return x ** 2, x ** 3, x ** 4"
   ]
  },
  {
   "cell_type": "code",
   "execution_count": 29,
   "metadata": {
    "collapsed": false
   },
   "outputs": [
    {
     "data": {
      "text/plain": [
       "(9, 27, 81)"
      ]
     },
     "execution_count": 29,
     "metadata": {},
     "output_type": "execute_result"
    }
   ],
   "source": [
    "potencias(3)"
   ]
  },
  {
   "cell_type": "code",
   "execution_count": 30,
   "metadata": {
    "collapsed": false
   },
   "outputs": [
    {
     "name": "stdout",
     "output_type": "stream",
     "text": [
      "27\n"
     ]
    }
   ],
   "source": [
    "x2, x3, x4 = potencias(3)\n",
    "\n",
    "print(x3)"
   ]
  },
  {
   "cell_type": "markdown",
   "metadata": {},
   "source": [
    "###  Argumentos por defecto y palabras clave (\"keywords\") como argumentos"
   ]
  },
  {
   "cell_type": "markdown",
   "metadata": {},
   "source": [
    "En la propia definición de una función, podemos dar valores por defecto a los argumentos que puede tomar dicha función:"
   ]
  },
  {
   "cell_type": "code",
   "execution_count": 31,
   "metadata": {
    "collapsed": false
   },
   "outputs": [],
   "source": [
    "def mifuncion(x, p=2, debug=False):\n",
    "    if debug:\n",
    "        print(\"evaluando mifuncion para x = \" + str(x) \n",
    "              + \" usando un exponente p = \" + str(p))\n",
    "    return x**p"
   ]
  },
  {
   "cell_type": "markdown",
   "metadata": {},
   "source": [
    "De esta manera, si no proporcionamos ningún valor para el argumento correspondiente a `debug` cuando llamamos a la función `mifuncion` su valor por defecto será el valor indicado en la definición de la función:"
   ]
  },
  {
   "cell_type": "code",
   "execution_count": 33,
   "metadata": {
    "collapsed": false
   },
   "outputs": [
    {
     "data": {
      "text/plain": [
       "25"
      ]
     },
     "execution_count": 33,
     "metadata": {},
     "output_type": "execute_result"
    }
   ],
   "source": [
    "mifuncion(5)"
   ]
  },
  {
   "cell_type": "code",
   "execution_count": 34,
   "metadata": {
    "collapsed": false
   },
   "outputs": [
    {
     "name": "stdout",
     "output_type": "stream",
     "text": [
      "evaluando mifuncion para x = 5 usando un exponente p = 2\n"
     ]
    },
    {
     "data": {
      "text/plain": [
       "25"
      ]
     },
     "execution_count": 34,
     "metadata": {},
     "output_type": "execute_result"
    }
   ],
   "source": [
    "mifuncion(5, debug=True)"
   ]
  },
  {
   "cell_type": "markdown",
   "metadata": {},
   "source": [
    "Sin embargo, si proporcionamos de manera explícita el nombre de los argumentos en la correspondiente llamada a la función, entonces ni siquiera es necesario que éstos vengan en el mismo orden en el que se definió la función. Esta propiedad se denomina argumentos por palabras claves (*keyword*), y a menudo es bastante útil para funciones con muchos argumentos opcionales, cuyo orden no tenemos que memorizar en absoluto."
   ]
  },
  {
   "cell_type": "code",
   "execution_count": 35,
   "metadata": {
    "collapsed": false
   },
   "outputs": [
    {
     "name": "stdout",
     "output_type": "stream",
     "text": [
      "evaluando mifuncion para x = 7 usando un exponente p = 3\n"
     ]
    },
    {
     "data": {
      "text/plain": [
       "343"
      ]
     },
     "execution_count": 35,
     "metadata": {},
     "output_type": "execute_result"
    }
   ],
   "source": [
    "mifuncion(p=3, debug=True, x=7)"
   ]
  },
  {
   "cell_type": "markdown",
   "metadata": {},
   "source": [
    "### Funciones sin nombre (o funciones \"lambda\")"
   ]
  },
  {
   "cell_type": "markdown",
   "metadata": {},
   "source": [
    "En Python podemos tamién crear funciones sin nombre, usando la palabra clave `lambda`:"
   ]
  },
  {
   "cell_type": "code",
   "execution_count": 36,
   "metadata": {
    "collapsed": false
   },
   "outputs": [],
   "source": [
    "f1 = lambda x: x**2\n",
    "    \n",
    "# es equivalente a \n",
    "\n",
    "def f2(x):\n",
    "    return x**2"
   ]
  },
  {
   "cell_type": "code",
   "execution_count": 37,
   "metadata": {
    "collapsed": false
   },
   "outputs": [
    {
     "data": {
      "text/plain": [
       "(4, 4)"
      ]
     },
     "execution_count": 37,
     "metadata": {},
     "output_type": "execute_result"
    }
   ],
   "source": [
    "ef1(2), f2(2)"
   ]
  },
  {
   "cell_type": "markdown",
   "metadata": {},
   "source": [
    "Esta técnica es útil por ejemplo cuando queremos pasarle una simple función como argumento a otra función, como esta:"
   ]
  },
  {
   "cell_type": "code",
   "execution_count": 38,
   "metadata": {
    "collapsed": false
   },
   "outputs": [
    {
     "data": {
      "text/plain": [
       "[9, 4, 1, 0, 1, 4, 9]"
      ]
     },
     "execution_count": 38,
     "metadata": {},
     "output_type": "execute_result"
    }
   ],
   "source": [
    "# map es a su vez una función incorporada en python\n",
    "map(lambda x: x**2, range(-3,4))"
   ]
  },
  {
   "cell_type": "code",
   "execution_count": 117,
   "metadata": {
    "collapsed": false
   },
   "outputs": [
    {
     "data": {
      "text/plain": [
       "[9, 4, 1, 0, 1, 4, 9]"
      ]
     },
     "execution_count": 117,
     "metadata": {},
     "output_type": "execute_result"
    }
   ],
   "source": [
    "# en Python 3 podemos usar `list(...)` para convertir el iterador \n",
    "# en una lista explícita\n",
    "list(map(lambda x: x**2, range(-3,4)))"
   ]
  },
  {
   "cell_type": "markdown",
   "metadata": {},
   "source": [
    "## Clases"
   ]
  },
  {
   "cell_type": "markdown",
   "metadata": {},
   "source": [
    "Las clases son una característica clave en la programación orientada a objetos (\"object-oriented programming\" en inglés). Una clase es una estructura para representar a un objecto así como las distintas operaciones que pueden realizarse sobre dicho objecto. \n",
    "\n",
    "En Python una clase puede contener *atributos* (variables) y *métodos* (funciones).\n",
    "\n",
    "Por otro lado, una clase se define casi de la misma manera que una función, pero usando la palabra clave `class`; además la definición de clase contiene usualmente también un cierto número de definiciones de métodos de clase (que serán funciones en la clase).\n",
    "\n",
    "* Cada método de la clase deberá tener un argumento `self` como primer argumento de la lista de argumentos. Este objecto es una auto-referencia (\"self-reference\" en inglés).\n",
    "\n",
    "* Otros nombres de métodos de la clase también tendrán un significado especial, por ejemplo:\n",
    "\n",
    "    * `__init__`: Es el nombre del método que es invocado cuando el objecto es creado.\n",
    "    * `__str__` : Es un método que es invocado cuando sólo se necesita una simple reperesentación alfanumérica de la clase, como por ejemplo al imprimir.\n",
    "    * Hay otras muchos nombres especiales asociados a las clases, consultar por ejemplo http://docs.python.org/2/reference/datamodel.html#special-method-names"
   ]
  },
  {
   "cell_type": "code",
   "execution_count": 43,
   "metadata": {
    "collapsed": false
   },
   "outputs": [],
   "source": [
    "class Point:\n",
    "    \"\"\"\n",
    "    Clase para representar un punto en un sistema de coordenadas \n",
    "    cartesianas.\n",
    "    \"\"\"\n",
    "   \n",
    "    def __init__(self, x, y):\n",
    "        \"\"\"\n",
    "        Crea un nuevo Punto con coordenaddas  x, y.\n",
    "        \"\"\"\n",
    "        self.x = x\n",
    "        self.y = y\n",
    "        \n",
    "    def translate(self, dx, dy):\n",
    "        \"\"\"\n",
    "        Traslada el punto mediante un desplazamiento dx y dy \n",
    "        en cada dirección.\n",
    "        \"\"\"\n",
    "        self.x += dx\n",
    "        self.y += dy\n",
    "        \n",
    "    def __str__(self):\n",
    "        return(\"Punto en [%f, %f]\" % (self.x, self.y))"
   ]
  },
  {
   "cell_type": "markdown",
   "metadata": {},
   "source": [
    "Para crear una nueva instancia de una clase:"
   ]
  },
  {
   "cell_type": "code",
   "execution_count": 44,
   "metadata": {
    "collapsed": false
   },
   "outputs": [
    {
     "name": "stdout",
     "output_type": "stream",
     "text": [
      "Punto en [0.000000, 0.000000]\n"
     ]
    }
   ],
   "source": [
    "p1 = Point(0, 0) \n",
    "\n",
    "# esto invoca el método  __init__ en la clase Point\n",
    "\n",
    "print(p1)         # esto invoca el método __str__"
   ]
  },
  {
   "cell_type": "markdown",
   "metadata": {},
   "source": [
    "Para invocar un método de la  clase en la instancia `p` de dicha clase:"
   ]
  },
  {
   "cell_type": "code",
   "execution_count": 45,
   "metadata": {
    "collapsed": false
   },
   "outputs": [
    {
     "name": "stdout",
     "output_type": "stream",
     "text": [
      "Punto en [0.250000, 1.500000]\n",
      "Punto en [1.000000, 1.000000]\n"
     ]
    }
   ],
   "source": [
    "p2 = Point(1, 1)\n",
    "\n",
    "p1.translate(0.25, 1.5)\n",
    "\n",
    "print(p1)\n",
    "print(p2)"
   ]
  },
  {
   "cell_type": "markdown",
   "metadata": {},
   "source": [
    "Nótese que la llamada a un método de la clase puede modificar de hecho esa particular instancia del objeto en cuestión, pero no tiene efecto sobre cualquier otra instancia de la clase, ni tampoco sobre cualquier otra variable global que se estuviera usando en ese momento.\n",
    "\n",
    "Esta es una de las convenientes propiedades que tiene el diseño orientado a objetos: programar funciones y variables relacionadas que son agrupadas en entidades separadas e independientes."
   ]
  },
  {
   "cell_type": "markdown",
   "metadata": {},
   "source": [
    "## Módulos"
   ]
  },
  {
   "cell_type": "markdown",
   "metadata": {},
   "source": [
    "Uno de los conceptos más importantes en este tipo de programación es la reutilización de código para evitar repeticiones.\n",
    "\n",
    "La idea es escribir funciones y clases con un propósito y objetivo bien definido, y reutilizarlas siempre que un código similar se necesite en una parte diferente del programa (programación modular). El resultado en general suele ser una gran mejora en el buen mantenimiento e interpretación del código, que en la práctica supone que nuestro programa tendrá menos errores (\"bugs\" en inglés), y será más fácil de depurar y extender.\n",
    "\n",
    "Python soporta este tipo de programación modular a diferentes niveles. Funciones y clases son ejemplos de herramientas para una programción modular de bajo nivel. Por otro lado, los módulos de Python son otra construcción de más alto nivel para este tipo de programción. En estos módulos recolectamos variables relacionadas, funciones y clases en un determinado módulo. Así pues un módulo de Python se define en un fichero de python (con la extensión `.py`), de manera que puede ser accesible a  otros módulos y programas de Python usando la sentencia `import`. \n",
    "\n",
    "Considere el ejemplo siguiente: el fichero `mimodulo.py` contiene una simple  ejemplo de implementación de una variable, una función y una clase:"
   ]
  },
  {
   "cell_type": "code",
   "execution_count": 57,
   "metadata": {
    "collapsed": false
   },
   "outputs": [
    {
     "name": "stdout",
     "output_type": "stream",
     "text": [
      "Overwriting mimodulo.py\n"
     ]
    }
   ],
   "source": [
    "%%file mimodulo.py\n",
    "\"\"\"\n",
    "Ejemplo de modulo python. Contiene una variable llamada mi_variable,\n",
    "una funcion llamada mi_funcion, y una clase llamada MiClase.\n",
    "\"\"\"\n",
    "\n",
    "mi_variable = 0\n",
    "\n",
    "def mi_funcion():\n",
    "    \"\"\"\n",
    "    Ejemplo de funcion\n",
    "    \"\"\"\n",
    "    return mi_variable\n",
    "    \n",
    "class MiClase:\n",
    "    \"\"\"\n",
    "    Ejemplo de clase.\n",
    "    \"\"\"\n",
    "\n",
    "    def __init__(self):\n",
    "        self.variable = mi_variable\n",
    "        \n",
    "    def set_variable(self, nuevo_valor):\n",
    "        u\"\"\"\n",
    "        Le da a  self.variable un nuevo valor\n",
    "        \"\"\"\n",
    "        self.variable = nuevo_valor\n",
    "        \n",
    "    def get_variable(self):\n",
    "        return self.variable"
   ]
  },
  {
   "cell_type": "markdown",
   "metadata": {},
   "source": [
    "Ahora ya podemos importar el módulo `mimodulo` en cualquiera de nuestros programas Python usando `import`:"
   ]
  },
  {
   "cell_type": "code",
   "execution_count": 58,
   "metadata": {
    "collapsed": false
   },
   "outputs": [],
   "source": [
    "import mimodulo"
   ]
  },
  {
   "cell_type": "markdown",
   "metadata": {},
   "source": [
    "Usamos `help(modulo)` para obtener un resumen de lo que nos proporciona dicho modulo:"
   ]
  },
  {
   "cell_type": "code",
   "execution_count": 60,
   "metadata": {
    "collapsed": false
   },
   "outputs": [
    {
     "name": "stdout",
     "output_type": "stream",
     "text": [
      "Help on module mimodulo:\n",
      "\n",
      "NAME\n",
      "    mimodulo\n",
      "\n",
      "FILE\n",
      "    c:\\users\\pedro\\mimodulo.py\n",
      "\n",
      "DESCRIPTION\n",
      "    Ejemplo de modulo python. Contiene una variable llamada mi_variable,\n",
      "    una funcion llamada mi_funcion, y una clase llamada MiClase.\n",
      "\n",
      "CLASSES\n",
      "    MiClase\n",
      "    \n",
      "    class MiClase\n",
      "     |  Ejemplo de clase.\n",
      "     |  \n",
      "     |  Methods defined here:\n",
      "     |  \n",
      "     |  __init__(self)\n",
      "     |  \n",
      "     |  get_variable(self)\n",
      "     |  \n",
      "     |  set_variable(self, nuevo_valor)\n",
      "     |      Le da a  self.variable un nuevo valor\n",
      "\n",
      "FUNCTIONS\n",
      "    mi_funcion()\n",
      "        Ejemplo de funcion\n",
      "\n",
      "DATA\n",
      "    mi_variable = 0\n",
      "\n",
      "\n"
     ]
    }
   ],
   "source": [
    "help(mimodulo)"
   ]
  },
  {
   "cell_type": "code",
   "execution_count": 61,
   "metadata": {
    "collapsed": false
   },
   "outputs": [
    {
     "data": {
      "text/plain": [
       "0"
      ]
     },
     "execution_count": 61,
     "metadata": {},
     "output_type": "execute_result"
    }
   ],
   "source": [
    "mimodulo.mi_variable"
   ]
  },
  {
   "cell_type": "code",
   "execution_count": 63,
   "metadata": {
    "collapsed": false
   },
   "outputs": [
    {
     "data": {
      "text/plain": [
       "0"
      ]
     },
     "execution_count": 63,
     "metadata": {},
     "output_type": "execute_result"
    }
   ],
   "source": [
    "mimodulo.mi_funcion() "
   ]
  },
  {
   "cell_type": "code",
   "execution_count": 64,
   "metadata": {
    "collapsed": false
   },
   "outputs": [
    {
     "data": {
      "text/plain": [
       "10"
      ]
     },
     "execution_count": 64,
     "metadata": {},
     "output_type": "execute_result"
    }
   ],
   "source": [
    "mi_clase = mimodulo.MiClase() \n",
    "mi_clase.set_variable(10)\n",
    "mi_clase.get_variable()"
   ]
  },
  {
   "cell_type": "markdown",
   "metadata": {},
   "source": [
    "Si en cualquier momento efectuamos cambios en el código de `mimodulo.py`, necesitaremos volver a cargar dicho módulo usando la orden `reload`:"
   ]
  },
  {
   "cell_type": "code",
   "execution_count": 65,
   "metadata": {
    "collapsed": false
   },
   "outputs": [
    {
     "data": {
      "text/plain": [
       "<module 'mimodulo' from 'mimodulo.pyc'>"
      ]
     },
     "execution_count": 65,
     "metadata": {},
     "output_type": "execute_result"
    }
   ],
   "source": [
    "reload(mimodulo)  # funciona sólo con python 2"
   ]
  },
  {
   "cell_type": "markdown",
   "metadata": {},
   "source": [
    "## Excepciones"
   ]
  },
  {
   "cell_type": "markdown",
   "metadata": {},
   "source": [
    "En Python los errores deben ser manejados con un languaje especial  construido expresamente y denominado \"Exceptions\". Así pues, cuando ocurre algún error se generan las denominadas excepciones, que pueden interrumpir el flujo normal del programa y llevarnos a otro punto concreto del código donde se han definido convenientemente otras sentencias para tratar estas excepciones."
   ]
  },
  {
   "cell_type": "markdown",
   "metadata": {},
   "source": [
    "Para generar una de estas excepciones podemos usar la sentencia `raise`, que toma un argumento que debe ser una instancia de la clase `BaseException` o cierta clase derivada de esta. "
   ]
  },
  {
   "cell_type": "code",
   "execution_count": 128,
   "metadata": {
    "collapsed": false
   },
   "outputs": [
    {
     "ename": "Exception",
     "evalue": "description of the error",
     "output_type": "error",
     "traceback": [
      "\u001b[0;31m---------------------------------------------------------------------------\u001b[0m",
      "\u001b[0;31mException\u001b[0m                                 Traceback (most recent call last)",
      "\u001b[0;32m<ipython-input-128-8f47ba831d5a>\u001b[0m in \u001b[0;36m<module>\u001b[0;34m()\u001b[0m\n\u001b[0;32m----> 1\u001b[0;31m \u001b[0;32mraise\u001b[0m \u001b[0mException\u001b[0m\u001b[0;34m(\u001b[0m\u001b[0;34m\"description of the error\"\u001b[0m\u001b[0;34m)\u001b[0m\u001b[0;34m\u001b[0m\u001b[0m\n\u001b[0m",
      "\u001b[0;31mException\u001b[0m: description of the error"
     ]
    }
   ],
   "source": [
    "raise Exception(\"descripción del error\")"
   ]
  },
  {
   "cell_type": "markdown",
   "metadata": {},
   "source": [
    "Un uso típico de una de tales excepciones es abortar ciertas funciones cuando ocurre alguna condición de error, por ejemplo:\n",
    "\n",
    "    def mi_funcion(argumentos):\n",
    "    \n",
    "        if not verify(argumentos):\n",
    "            raise Exception(\"Argumentos invalidos\")\n",
    "        \n",
    "        # aquí iría el resto del código"
   ]
  },
  {
   "cell_type": "markdown",
   "metadata": {},
   "source": [
    "Para captar errores generados por ciertas funciones y métodos de clases, o por el propio intérprete de Python, use las órdenes `try` y  `except`:\n",
    "\n",
    "    try:\n",
    "        # aquí iría el código normal\n",
    "    except:\n",
    "        # aquí iría el código para tratar de solucionar el error\n",
    "        # este código no se ejecutaría si no tiene lugar\n",
    "        # el error generado más arrriba\n",
    "\n",
    "Por ejemplo:"
   ]
  },
  {
   "cell_type": "code",
   "execution_count": 66,
   "metadata": {
    "collapsed": false
   },
   "outputs": [
    {
     "name": "stdout",
     "output_type": "stream",
     "text": [
      "test\n",
      "Una excepción ha sido capturada\n"
     ]
    }
   ],
   "source": [
    "try:\n",
    "    print(\"test\")\n",
    "    # genera un error: la variable test no está definida\n",
    "    print(test)\n",
    "except:\n",
    "    print(\"Una excepción ha sido capturada\")"
   ]
  },
  {
   "cell_type": "markdown",
   "metadata": {},
   "source": [
    "Para obtener información acerca del error, podemos acceder a la instancia e la clase `Exception` que describe la excepción usando por ejemplo:\n",
    "\n",
    "    except Exception as e:"
   ]
  },
  {
   "cell_type": "code",
   "execution_count": 68,
   "metadata": {
    "collapsed": false
   },
   "outputs": [
    {
     "name": "stdout",
     "output_type": "stream",
     "text": [
      "test\n",
      "Excepción capturada:  name 'test' is not defined\n"
     ]
    }
   ],
   "source": [
    "try:\n",
    "    print(\"test\")\n",
    "    # genera un error: la variable test no está definida\n",
    "    print(test)\n",
    "except Exception as e:\n",
    "    print(u\"Excepción capturada:  \" + str(e))"
   ]
  },
  {
   "cell_type": "markdown",
   "metadata": {},
   "source": [
    "## Lecturas adicionales"
   ]
  },
  {
   "cell_type": "markdown",
   "metadata": {},
   "source": [
    "* http://www.python.org - La página oficial del lenguaje de programación Python.\n",
    "* http://www.python.org/dev/peps/pep-0008 - Una guía de estilo para la programación con Python. Muy recomendada. \n",
    "* http://www.greenteapress.com/thinkpython/ - Un libro gratis sobre programación con Python.\n",
    "* [Python Essential Reference](http://www.amazon.com/Python-Essential-Reference-4th-Edition/dp/0672329786) - Un buen libro de referencia sobre programación con Python."
   ]
  },
  {
   "cell_type": "markdown",
   "metadata": {},
   "source": [
    "## Versiones"
   ]
  },
  {
   "cell_type": "code",
   "execution_count": 36,
   "metadata": {
    "collapsed": false
   },
   "outputs": [
    {
     "data": {
      "application/json": {
       "Software versions": [
        {
         "module": "Python",
         "version": "3.5.2 64bit [GCC 4.2.1 Compatible Apple LLVM 4.2 (clang-425.0.28)]"
        },
        {
         "module": "IPython",
         "version": "5.1.0"
        },
        {
         "module": "OS",
         "version": "Darwin 14.5.0 x86_64 i386 64bit"
        }
       ]
      },
      "text/html": [
       "<table><tr><th>Software</th><th>Version</th></tr><tr><td>Python</td><td>3.5.2 64bit [GCC 4.2.1 Compatible Apple LLVM 4.2 (clang-425.0.28)]</td></tr><tr><td>IPython</td><td>5.1.0</td></tr><tr><td>OS</td><td>Darwin 14.5.0 x86_64 i386 64bit</td></tr><tr><td colspan='2'>Tue May 08 00:51:09 2018 CEST</td></tr></table>"
      ],
      "text/latex": [
       "\\begin{tabular}{|l|l|}\\hline\n",
       "{\\bf Software} & {\\bf Version} \\\\ \\hline\\hline\n",
       "Python & 3.5.2 64bit [GCC 4.2.1 Compatible Apple LLVM 4.2 (clang-425.0.28)] \\\\ \\hline\n",
       "IPython & 5.1.0 \\\\ \\hline\n",
       "OS & Darwin 14.5.0 x86\\_64 i386 64bit \\\\ \\hline\n",
       "\\hline \\multicolumn{2}{|l|}{Tue May 08 00:51:09 2018 CEST} \\\\ \\hline\n",
       "\\end{tabular}\n"
      ],
      "text/plain": [
       "Software versions\n",
       "Python 3.5.2 64bit [GCC 4.2.1 Compatible Apple LLVM 4.2 (clang-425.0.28)]\n",
       "IPython 5.1.0\n",
       "OS Darwin 14.5.0 x86_64 i386 64bit\n",
       "Tue May 08 00:51:09 2018 CEST"
      ]
     },
     "execution_count": 36,
     "metadata": {},
     "output_type": "execute_result"
    }
   ],
   "source": [
    "%load_ext version_information\n",
    "\n",
    "%version_information"
   ]
  },
  {
   "cell_type": "code",
   "execution_count": null,
   "metadata": {
    "collapsed": true
   },
   "outputs": [],
   "source": []
  }
 ],
 "metadata": {
  "anaconda-cloud": {},
  "kernelspec": {
   "display_name": "Python [conda root]",
   "language": "python",
   "name": "conda-root-py"
  },
  "language_info": {
   "codemirror_mode": {
    "name": "ipython",
    "version": 3
   },
   "file_extension": ".py",
   "mimetype": "text/x-python",
   "name": "python",
   "nbconvert_exporter": "python",
   "pygments_lexer": "ipython3",
   "version": "3.5.2"
  }
 },
 "nbformat": 4,
 "nbformat_minor": 0
}
