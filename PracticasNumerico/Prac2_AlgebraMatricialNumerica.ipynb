{
 "cells": [
  {
   "cell_type": "markdown",
   "metadata": {},
   "source": [
    "# Álgebra Matricial con Python"
   ]
  },
  {
   "cell_type": "markdown",
   "metadata": {},
   "source": [
    "Autor: Pedro González Rodelas\n",
    "\n",
    "Fecha de la primera versión: 22/08/1017\n",
    "\n",
    "Fecha de la última revisión: 25/08/2017\n"
   ]
  },
  {
   "cell_type": "markdown",
   "metadata": {},
   "source": [
    "En esta práctica se introducen los conceptos básicos relacionados con las matrices de números reales, como son la traspuesta, inversa, etc. de una dada; los tipos fundamentales de matrices: simétricas, inversibles, ortogonales, etc.; así como las técnicas elementales del algebra matricial, como son la suma de matrices y el producto por un escalar, el producto de matrices, etc."
   ]
  },
  {
   "cell_type": "markdown",
   "metadata": {},
   "source": [
    "## Carga de los módulos y Definición de ciertas funciones empleadas"
   ]
  },
  {
   "cell_type": "markdown",
   "metadata": {},
   "source": [
    "Antes de empezar a realizar cualquier cálculo numérico o simbólico debemos de cargar los correspondientes módulos de Python que implementan la mayoría de funciones y procedimientos necesarios para ello: NumPy y SymPy, que serán cargados con los pseudónimos np y sp, respectivamente. Además cargaremos la función del módulo random que nos permitirá generar números aleatorios, cada vez que los necesitemos."
   ]
  },
  {
   "cell_type": "code",
   "execution_count": 55,
   "metadata": {
    "collapsed": true
   },
   "outputs": [],
   "source": [
    "import numpy as np # Importamos el módulo NumPy con el pseudónimo np\n",
    "import sympy as sp # Importamos el módulo SymPy con el pseudónimo sp"
   ]
  },
  {
   "cell_type": "code",
   "execution_count": 5,
   "metadata": {
    "collapsed": true
   },
   "outputs": [],
   "source": [
    "from random import random \n",
    "# Importamos la función generadora de números pseudoaleatorios"
   ]
  },
  {
   "cell_type": "markdown",
   "metadata": {},
   "source": [
    "También definiremos cierta función propia, `mychop`, que nos permitirá cambiar por $0$ cualquier valor que obtengamos, después de ciertos cálculos que involucren errores de redondeo, propios del cálculo con números en coma flotante. A su vez usaremos una versión vectorizada de la misma, que podremos aplicar a cualquier lista, tupla o array con valores numéricos en coma flotante."
   ]
  },
  {
   "cell_type": "code",
   "execution_count": 2,
   "metadata": {
    "collapsed": true
   },
   "outputs": [],
   "source": [
    "def mychop(expr, *, max=10**(-15)): \n",
    "    if abs(expr) > max:\n",
    "      return expr \n",
    "    else:\n",
    "      return 0"
   ]
  },
  {
   "cell_type": "code",
   "execution_count": 6,
   "metadata": {
    "collapsed": false
   },
   "outputs": [],
   "source": [
    "chop_vec = np.vectorize(mychop)"
   ]
  },
  {
   "cell_type": "markdown",
   "metadata": {},
   "source": [
    "## Introducción"
   ]
  },
  {
   "cell_type": "markdown",
   "metadata": {},
   "source": [
    "Hay varias maneras de introducir y trabajar con *objetos* pertenecientes a *clases* concretas que nos permitirán trabajar con ellos de manera parecida a  como si fueran las *matrices* que conocemos del Álgebra Lineal. Pero habrá que tener mucho cuidado, porque no todas esas *clases de objetos* tendrán las mismas *propiedades*, ni se podrán realizar las todas las *operaciones* que conocemos, ni tampoco el *resultado* final será el esperado en algunos casos; por lo tanto, más vale realizar un repaso exhaustivo de todas estas posibilidades antes de aventurarnos a trabajar con las supuestas matrices en Python."
   ]
  },
  {
   "cell_type": "code",
   "execution_count": 7,
   "metadata": {
    "collapsed": true
   },
   "outputs": [],
   "source": [
    "u = [1,2,3,4]; v = [5,6,7,8]   # aquí tenemos simplemente dos listas \n",
    "# de números con el mismo número de elementos cada una "
   ]
  },
  {
   "cell_type": "code",
   "execution_count": 8,
   "metadata": {
    "collapsed": false
   },
   "outputs": [
    {
     "data": {
      "text/plain": [
       "1"
      ]
     },
     "execution_count": 8,
     "metadata": {},
     "output_type": "execute_result"
    }
   ],
   "source": [
    "u[0] # podemos acceder a cada uno de los elementos de estas listas\n",
    "# con su correspondiente índice (en Python el primero será siempre 0)"
   ]
  },
  {
   "cell_type": "code",
   "execution_count": 9,
   "metadata": {
    "collapsed": false
   },
   "outputs": [
    {
     "data": {
      "text/plain": [
       "21"
      ]
     },
     "execution_count": 9,
     "metadata": {},
     "output_type": "execute_result"
    }
   ],
   "source": [
    "u[2]*v[2] # por supuesto que también podemos operar con éstos"
   ]
  },
  {
   "cell_type": "code",
   "execution_count": 10,
   "metadata": {
    "collapsed": false
   },
   "outputs": [
    {
     "data": {
      "text/plain": [
       "[1, 2, 3, 4, 5, 6, 7, 8]"
      ]
     },
     "execution_count": 10,
     "metadata": {},
     "output_type": "execute_result"
    }
   ],
   "source": [
    "u + v # pero fíjese qué ocurre cuando se intentan sumar"
   ]
  },
  {
   "cell_type": "code",
   "execution_count": 1,
   "metadata": {
    "collapsed": false
   },
   "outputs": [],
   "source": [
    "# u*v # o multiplicar"
   ]
  },
  {
   "cell_type": "markdown",
   "metadata": {},
   "source": [
    "Vemos pues que cualquier operación elemento a elemento, tal y cómo estamos acostumbrados a considerar, no estaría definida por defecto en Python para las listas de elementos, a no ser que las programemos nosotros expresamente."
   ]
  },
  {
   "cell_type": "code",
   "execution_count": 12,
   "metadata": {
    "collapsed": false
   },
   "outputs": [
    {
     "data": {
      "text/plain": [
       "[6, 8, 10, 12]"
      ]
     },
     "execution_count": 12,
     "metadata": {},
     "output_type": "execute_result"
    }
   ],
   "source": [
    "[u[i]+v[i] for i in range(len(v))] #  suma elemento a elemento"
   ]
  },
  {
   "cell_type": "code",
   "execution_count": 13,
   "metadata": {
    "collapsed": false
   },
   "outputs": [
    {
     "data": {
      "text/plain": [
       "[5, 12, 21, 32]"
      ]
     },
     "execution_count": 13,
     "metadata": {},
     "output_type": "execute_result"
    }
   ],
   "source": [
    "[u[i]*v[i] for i in range(len(v))] #  producto elemento a elemento"
   ]
  },
  {
   "cell_type": "code",
   "execution_count": 14,
   "metadata": {
    "collapsed": false
   },
   "outputs": [
    {
     "data": {
      "text/plain": [
       "70"
      ]
     },
     "execution_count": 14,
     "metadata": {},
     "output_type": "execute_result"
    }
   ],
   "source": [
    "sum([u[i]*v[i] for i in range(len(v))]) # producto escalar de u y v"
   ]
  },
  {
   "cell_type": "code",
   "execution_count": 15,
   "metadata": {
    "collapsed": true
   },
   "outputs": [],
   "source": [
    "A = [u,v]  # también podemos definir una lista formada por otras \n",
    "# nuevas sublistas, cada una de ellas con sus propios elementos."
   ]
  },
  {
   "cell_type": "code",
   "execution_count": 16,
   "metadata": {
    "collapsed": false
   },
   "outputs": [
    {
     "data": {
      "text/plain": [
       "[1, 2, 3, 4]"
      ]
     },
     "execution_count": 16,
     "metadata": {},
     "output_type": "execute_result"
    }
   ],
   "source": [
    "A[0] # podemos acceder pues a cada una de estas sublistas completas"
   ]
  },
  {
   "cell_type": "code",
   "execution_count": 17,
   "metadata": {
    "collapsed": false
   },
   "outputs": [
    {
     "data": {
      "text/plain": [
       "5"
      ]
     },
     "execution_count": 17,
     "metadata": {},
     "output_type": "execute_result"
    }
   ],
   "source": [
    "A[1][0] # también podremos acceder fácilmente a cada uno de\n",
    "# los elementos de estas sublistas, usando un doble índice"
   ]
  },
  {
   "cell_type": "code",
   "execution_count": 18,
   "metadata": {
    "collapsed": false
   },
   "outputs": [
    {
     "data": {
      "text/plain": [
       "[[1, 2, 3, 4], [5, 6, 7, 8], [1, 2, 3, 4], [5, 6, 7, 8]]"
      ]
     },
     "execution_count": 18,
     "metadata": {},
     "output_type": "execute_result"
    }
   ],
   "source": [
    "2*A # pero vemos que ocurre algo raro cuando intentamos operar con\n",
    "# los elementos de esta estructura; por ejemplo al intentar \n",
    "# multiplicar por un valor entero lo que obtenemos es otra lista, \n",
    "# con copias de las anteriores."
   ]
  },
  {
   "cell_type": "code",
   "execution_count": 2,
   "metadata": {
    "collapsed": false
   },
   "outputs": [],
   "source": [
    "# A + 2  # incluso nos da error si intentamos sumarle cualquier número"
   ]
  },
  {
   "cell_type": "code",
   "execution_count": 20,
   "metadata": {
    "collapsed": false
   },
   "outputs": [
    {
     "data": {
      "text/plain": [
       "[[1, 2, 3, 4], [5, 6, 7, 8], 2]"
      ]
     },
     "execution_count": 20,
     "metadata": {},
     "output_type": "execute_result"
    }
   ],
   "source": [
    "A + [2]  # sin embargo lo admite cuando incluimos ese número entre []\n",
    "# pero lo que realiza es una simple concatenación"
   ]
  },
  {
   "cell_type": "code",
   "execution_count": 21,
   "metadata": {
    "collapsed": false
   },
   "outputs": [
    {
     "data": {
      "text/plain": [
       "[[1, 2, 3, 4], [5, 6, 7, 8], [9, 10, 11, 12]]"
      ]
     },
     "execution_count": 21,
     "metadata": {},
     "output_type": "execute_result"
    }
   ],
   "source": [
    " A + [[9,10,11,12]] # de esta manera hemos conseguido incluso añadir\n",
    "# otra sublista, con el mismo número de elementos que las anteriores"
   ]
  },
  {
   "cell_type": "code",
   "execution_count": 22,
   "metadata": {
    "collapsed": false
   },
   "outputs": [
    {
     "data": {
      "text/plain": [
       "[[1, 2, 3, 4], [5, 6, 7, 8], [9, 10, 11]]"
      ]
     },
     "execution_count": 22,
     "metadata": {},
     "output_type": "execute_result"
    }
   ],
   "source": [
    "A + [[9,10,11]] # aunque este último no es un requisito indispensable"
   ]
  },
  {
   "cell_type": "markdown",
   "metadata": {},
   "source": [
    "Llegamos pues a la conclusión de que las listas de sublistas, al contrario de lo que suele ocurrir con otros sistemas CAS como Mathematica o MATLAB por ejemplo, no es lo más adecuado en este caso para trabajar con matrices en Python y que tendremos que usar otras *clases* de *objetos* que sí nos sirvan."
   ]
  },
  {
   "cell_type": "markdown",
   "metadata": {},
   "source": [
    "No obstante, como veremos a lo largo de esta práctica, existen muchas opciones y posibilidades para trabajar eficientemente con matrices y vectores, haciendo uso de las estructuras y *clases de objetos* adecuados, incluidos en alguno de los paquetes por excelencia para el cálculo científico en Python: SymPy (cuando necesitemos trabajar de manera simbólica) y NumPy (cuando nuestros cálculos sean fundamentalmente numéricos)."
   ]
  },
  {
   "cell_type": "markdown",
   "metadata": {},
   "source": [
    "## Álgebra matricial simbólica"
   ]
  },
  {
   "cell_type": "code",
   "execution_count": 54,
   "metadata": {
    "collapsed": false
   },
   "outputs": [],
   "source": [
    "from sympy import Matrix, symbols, solve, simplify, init_printing \n",
    "# empecemos con la opción simbólica e indiquemos salidas \n",
    "init_printing() #  de resultados formateadas elegantemente"
   ]
  },
  {
   "cell_type": "code",
   "execution_count": 24,
   "metadata": {
    "collapsed": false
   },
   "outputs": [],
   "source": [
    "m11, m12, m21, m22 = symbols('m11, m12, m21, m22')\n",
    "b1, b2 = symbols('b1, b2')"
   ]
  },
  {
   "cell_type": "code",
   "execution_count": 25,
   "metadata": {
    "collapsed": false
   },
   "outputs": [
    {
     "data": {
      "image/png": "[encoded data removed]",
      "text/latex": [
       "$$\\left ( m_{11}, \\quad m_{12}, \\quad m_{21}, \\quad m_{22}\\right )$$"
      ],
      "text/plain": [
       "(m₁₁, m₁₂, m₂₁, m₂₂)"
      ]
     },
     "execution_count": 25,
     "metadata": {},
     "output_type": "execute_result"
    }
   ],
   "source": [
    "# También se podrían haber generado de golpe las variables simbólicas\n",
    "# de la matriz de orden 2 con la siguiente orden\n",
    "symbols('m(1:3)(1:3)')"
   ]
  },
  {
   "cell_type": "code",
   "execution_count": 26,
   "metadata": {
    "collapsed": true
   },
   "outputs": [],
   "source": [
    "A = Matrix([[m11,m12],[m21,m22]])"
   ]
  },
  {
   "cell_type": "code",
   "execution_count": 96,
   "metadata": {
    "collapsed": true
   },
   "outputs": [],
   "source": [
    "b = Matrix([[b1],[b2]])"
   ]
  },
  {
   "cell_type": "code",
   "execution_count": 97,
   "metadata": {
    "collapsed": false
   },
   "outputs": [
    {
     "data": {
      "image/png": "[encoded data removed]",
      "text/latex": [
       "$$\\left[\\begin{matrix}m_{11} & m_{12}\\\\m_{21} & m_{22}\\end{matrix}\\right]$$"
      ],
      "text/plain": [
       "⎡m₁₁  m₁₂⎤\n",
       "⎢        ⎥\n",
       "⎣m₂₁  m₂₂⎦"
      ]
     },
     "execution_count": 97,
     "metadata": {},
     "output_type": "execute_result"
    }
   ],
   "source": [
    "A"
   ]
  },
  {
   "cell_type": "code",
   "execution_count": 98,
   "metadata": {
    "collapsed": false
   },
   "outputs": [
    {
     "data": {
      "image/png": "[encoded data removed]",
      "text/latex": [
       "$$\\left[\\begin{matrix}b_{1}\\\\b_{2}\\end{matrix}\\right]$$"
      ],
      "text/plain": [
       "⎡b₁⎤\n",
       "⎢  ⎥\n",
       "⎣b₂⎦"
      ]
     },
     "execution_count": 98,
     "metadata": {},
     "output_type": "execute_result"
    }
   ],
   "source": [
    "b"
   ]
  },
  {
   "cell_type": "code",
   "execution_count": 99,
   "metadata": {
    "collapsed": false
   },
   "outputs": [
    {
     "data": {
      "text/plain": [
       "(sympy.matrices.dense.MutableDenseMatrix,\n",
       " sympy.matrices.dense.MutableDenseMatrix)"
      ]
     },
     "execution_count": 99,
     "metadata": {},
     "output_type": "execute_result"
    }
   ],
   "source": [
    "type(A),type(b)  # comprobemos el tipo de estos nuevos objetos"
   ]
  },
  {
   "cell_type": "code",
   "execution_count": 100,
   "metadata": {
    "collapsed": false
   },
   "outputs": [
    {
     "data": {
      "image/png": "[encoded data removed]",
      "text/latex": [
       "$$\\left[\\begin{matrix}b_{1} m_{11} + b_{2} m_{12}\\\\b_{1} m_{21} + b_{2} m_{22}\\end{matrix}\\right]$$"
      ],
      "text/plain": [
       "⎡b₁⋅m₁₁ + b₂⋅m₁₂⎤\n",
       "⎢               ⎥\n",
       "⎣b₁⋅m₂₁ + b₂⋅m₂₂⎦"
      ]
     },
     "execution_count": 100,
     "metadata": {},
     "output_type": "execute_result"
    }
   ],
   "source": [
    "A*b # Vemos que ahora con las instancias de este tipo de objetos\n",
    "# sí que podemos realizar las operaciones matriciales habituales\n",
    "# y además de manera simbólica en este caso."
   ]
  },
  {
   "cell_type": "code",
   "execution_count": 101,
   "metadata": {
    "collapsed": false
   },
   "outputs": [
    {
     "data": {
      "image/png": "[encoded data removed]",
      "text/latex": [
       "$$\\left[\\begin{matrix}m_{11}^{2} + m_{12} m_{21} & m_{11} m_{12} + m_{12} m_{22}\\\\m_{11} m_{21} + m_{21} m_{22} & m_{12} m_{21} + m_{22}^{2}\\end{matrix}\\right]$$"
      ],
      "text/plain": [
       "⎡    2                               ⎤\n",
       "⎢ m₁₁  + m₁₂⋅m₂₁    m₁₁⋅m₁₂ + m₁₂⋅m₂₂⎥\n",
       "⎢                                    ⎥\n",
       "⎢                                 2  ⎥\n",
       "⎣m₁₁⋅m₂₁ + m₂₁⋅m₂₂   m₁₂⋅m₂₁ + m₂₂   ⎦"
      ]
     },
     "execution_count": 101,
     "metadata": {},
     "output_type": "execute_result"
    }
   ],
   "source": [
    "A**2 # aquí hemos obtenido el cuadrado de la matriz A"
   ]
  },
  {
   "cell_type": "code",
   "execution_count": 102,
   "metadata": {
    "collapsed": false
   },
   "outputs": [
    {
     "data": {
      "image/png": "[encoded data removed]",
      "text/latex": [
       "$$m_{11} m_{22} - m_{12} m_{21}$$"
      ],
      "text/plain": [
       "m₁₁⋅m₂₂ - m₁₂⋅m₂₁"
      ]
     },
     "execution_count": 102,
     "metadata": {},
     "output_type": "execute_result"
    }
   ],
   "source": [
    "A.det() # este sería el determinante de la matriz cuadrada 2x2"
   ]
  },
  {
   "cell_type": "code",
   "execution_count": 104,
   "metadata": {
    "collapsed": false
   },
   "outputs": [],
   "source": [
    "Ainv = A.inv() # incluso la inversa de ciertas matrices también podemos \n",
    "# obtenerlo de manera simbólica (haría falta que no sea singular)."
   ]
  },
  {
   "cell_type": "code",
   "execution_count": 123,
   "metadata": {
    "collapsed": false
   },
   "outputs": [
    {
     "data": {
      "image/png": "[encoded data removed]",
      "text/latex": [
       "$$\\left[\\begin{matrix}\\frac{b_{1} m_{22} - b_{2} m_{12}}{m_{11} m_{22} - m_{12} m_{21}}\\\\\\frac{- b_{1} m_{21} + b_{2} m_{11}}{m_{11} m_{22} - m_{12} m_{21}}\\end{matrix}\\right]$$"
      ],
      "text/plain": [
       "⎡ b₁⋅m₂₂ - b₂⋅m₁₂ ⎤\n",
       "⎢─────────────────⎥\n",
       "⎢m₁₁⋅m₂₂ - m₁₂⋅m₂₁⎥\n",
       "⎢                 ⎥\n",
       "⎢ -b₁⋅m₂₁ + b₂⋅m₁₁⎥\n",
       "⎢─────────────────⎥\n",
       "⎣m₁₁⋅m₂₂ - m₁₂⋅m₂₁⎦"
      ]
     },
     "execution_count": 123,
     "metadata": {},
     "output_type": "execute_result"
    }
   ],
   "source": [
    "simplify(Ainv*b)   # He aquí pues la solución del correspondiente \n",
    "# sistema lineal Ax = b, despejando x = A^(-1)b"
   ]
  },
  {
   "cell_type": "markdown",
   "metadata": {},
   "source": [
    "Hagamos ahora el intento de resolver simbólicamente cualquier sistema lineal compatible determinado de orden dos mediante la orden de resolució simbólica de ecuaciones `solve`; para ello usaremos la matriz y el vector de términos independientes ya definidos previamente y definamos también un vector de incógnitas también simbólico para poder construir el sistema final de dos ecuaciones (igualado a cero), indicando así mismo las dos incógnitas del mismo, dentro de la orden de resolución simbólica de ecuaciones `solve` (que ya hemos precargado previamente dentro del módulo SymPy)."
   ]
  },
  {
   "cell_type": "code",
   "execution_count": 54,
   "metadata": {
    "collapsed": false
   },
   "outputs": [],
   "source": [
    "?solve   # de esta manera podemos obtener información sobre la orden"
   ]
  },
  {
   "cell_type": "code",
   "execution_count": 107,
   "metadata": {
    "collapsed": true
   },
   "outputs": [],
   "source": [
    "x1, x2 = symbols('x1, x2')"
   ]
  },
  {
   "cell_type": "code",
   "execution_count": 108,
   "metadata": {
    "collapsed": true
   },
   "outputs": [],
   "source": [
    "x = Matrix([[x1], [x2]])"
   ]
  },
  {
   "cell_type": "code",
   "execution_count": 109,
   "metadata": {
    "collapsed": false
   },
   "outputs": [
    {
     "data": {
      "image/png": "[encoded data removed]",
      "text/latex": [
       "$$\\left[\\begin{matrix}m_{11} x_{1} + m_{12} x_{2}\\\\m_{21} x_{1} + m_{22} x_{2}\\end{matrix}\\right]$$"
      ],
      "text/plain": [
       "⎡m₁₁⋅x₁ + m₁₂⋅x₂⎤\n",
       "⎢               ⎥\n",
       "⎣m₂₁⋅x₁ + m₂₂⋅x₂⎦"
      ]
     },
     "execution_count": 109,
     "metadata": {},
     "output_type": "execute_result"
    }
   ],
   "source": [
    "A*x"
   ]
  },
  {
   "cell_type": "code",
   "execution_count": 110,
   "metadata": {
    "collapsed": false
   },
   "outputs": [
    {
     "data": {
      "image/png": "[encoded data removed]",
      "text/latex": [
       "$$\\left[\\begin{matrix}- b_{1} + m_{11} x_{1} + m_{12} x_{2}\\\\- b_{2} + m_{21} x_{1} + m_{22} x_{2}\\end{matrix}\\right]$$"
      ],
      "text/plain": [
       "⎡-b₁ + m₁₁⋅x₁ + m₁₂⋅x₂⎤\n",
       "⎢                     ⎥\n",
       "⎣-b₂ + m₂₁⋅x₁ + m₂₂⋅x₂⎦"
      ]
     },
     "execution_count": 110,
     "metadata": {},
     "output_type": "execute_result"
    }
   ],
   "source": [
    "A*x-b"
   ]
  },
  {
   "cell_type": "code",
   "execution_count": 111,
   "metadata": {
    "collapsed": false
   },
   "outputs": [
    {
     "data": {
      "image/png": "[encoded data removed]",
      "text/latex": [
       "$$\\left \\{ x_{1} : \\frac{b_{1} m_{22} - b_{2} m_{12}}{m_{11} m_{22} - m_{12} m_{21}}, \\quad x_{2} : \\frac{- b_{1} m_{21} + b_{2} m_{11}}{m_{11} m_{22} - m_{12} m_{21}}\\right \\}$$"
      ],
      "text/plain": [
       "⎧     b₁⋅m₂₂ - b₂⋅m₁₂        -b₁⋅m₂₁ + b₂⋅m₁₁⎫\n",
       "⎨x₁: ─────────────────, x₂: ─────────────────⎬\n",
       "⎩    m₁₁⋅m₂₂ - m₁₂⋅m₂₁      m₁₁⋅m₂₂ - m₁₂⋅m₂₁⎭"
      ]
     },
     "execution_count": 111,
     "metadata": {},
     "output_type": "execute_result"
    }
   ],
   "source": [
    "solve(A*x-b,[x1,x2])"
   ]
  },
  {
   "cell_type": "markdown",
   "metadata": {},
   "source": [
    "Vemos claramente la solución genérica (simbólica) de un sistema 2x2 que para que sea compatible y determinado bastará con que su determinante (que justo es el valor que aparece en el denominador de las soluciones) sea distinto de cero."
   ]
  },
  {
   "cell_type": "code",
   "execution_count": 120,
   "metadata": {
    "collapsed": false
   },
   "outputs": [
    {
     "data": {
      "image/png": "[encoded data removed]",
      "text/latex": [
       "$$\\left[\\begin{matrix}\\frac{1}{m_{11}} \\left(b_{1} - \\frac{m_{12} \\left(- \\frac{b_{1} m_{21}}{m_{11}} + b_{2}\\right)}{m_{22} - \\frac{m_{12} m_{21}}{m_{11}}}\\right)\\\\\\frac{- \\frac{b_{1} m_{21}}{m_{11}} + b_{2}}{m_{22} - \\frac{m_{12} m_{21}}{m_{11}}}\\end{matrix}\\right]$$"
      ],
      "text/plain": [
       "⎡         ⎛  b₁⋅m₂₁     ⎞⎤\n",
       "⎢     m₁₂⋅⎜- ────── + b₂⎟⎥\n",
       "⎢         ⎝   m₁₁       ⎠⎥\n",
       "⎢b₁ - ───────────────────⎥\n",
       "⎢              m₁₂⋅m₂₁   ⎥\n",
       "⎢        m₂₂ - ───────   ⎥\n",
       "⎢                m₁₁     ⎥\n",
       "⎢────────────────────────⎥\n",
       "⎢          m₁₁           ⎥\n",
       "⎢                        ⎥\n",
       "⎢       b₁⋅m₂₁           ⎥\n",
       "⎢     - ────── + b₂      ⎥\n",
       "⎢        m₁₁             ⎥\n",
       "⎢     ─────────────      ⎥\n",
       "⎢           m₁₂⋅m₂₁      ⎥\n",
       "⎢     m₂₂ - ───────      ⎥\n",
       "⎣             m₁₁        ⎦"
      ]
     },
     "execution_count": 120,
     "metadata": {},
     "output_type": "execute_result"
    }
   ],
   "source": [
    "A.LUsolve(b)   # Esta es otra posibilidad usando LUsolve"
   ]
  },
  {
   "cell_type": "code",
   "execution_count": 121,
   "metadata": {
    "collapsed": false
   },
   "outputs": [
    {
     "data": {
      "image/png": "[encoded data removed]",
      "text/latex": [
       "$$\\left[\\begin{matrix}\\frac{b_{1} m_{22} - b_{2} m_{12}}{m_{11} m_{22} - m_{12} m_{21}}\\\\\\frac{- b_{1} m_{21} + b_{2} m_{11}}{m_{11} m_{22} - m_{12} m_{21}}\\end{matrix}\\right]$$"
      ],
      "text/plain": [
       "⎡ b₁⋅m₂₂ - b₂⋅m₁₂ ⎤\n",
       "⎢─────────────────⎥\n",
       "⎢m₁₁⋅m₂₂ - m₁₂⋅m₂₁⎥\n",
       "⎢                 ⎥\n",
       "⎢ -b₁⋅m₂₁ + b₂⋅m₁₁⎥\n",
       "⎢─────────────────⎥\n",
       "⎣m₁₁⋅m₂₂ - m₁₂⋅m₂₁⎦"
      ]
     },
     "execution_count": 121,
     "metadata": {},
     "output_type": "execute_result"
    }
   ],
   "source": [
    "simplify(_)"
   ]
  },
  {
   "cell_type": "markdown",
   "metadata": {},
   "source": [
    "**Ejercicio:** Intente repetir el mismo proceso para obtener de manera simbólica las soluciones genéricas de un sistema compatible y determinado 3x3.\n",
    "\n",
    "**Ayuda:** Con el objeto de mecanizar el proceso de creación de la matriz simbólica, se puede usar la siguiente orden que permite generar de golpe todos los símbolos necesarios\n",
    "\n",
    "    M = Matrix(3, 3, symbols('M(1:4)(1:4)'))"
   ]
  },
  {
   "cell_type": "code",
   "execution_count": 81,
   "metadata": {
    "collapsed": false
   },
   "outputs": [
    {
     "data": {
      "image/png": "[encoded data removed]",
      "text/latex": [
       "$$\\left[\\begin{matrix}M_{11} & M_{12} & M_{13}\\\\M_{21} & M_{22} & M_{23}\\\\M_{31} & M_{32} & M_{33}\\end{matrix}\\right]$$"
      ],
      "text/plain": [
       "⎡M₁₁  M₁₂  M₁₃⎤\n",
       "⎢             ⎥\n",
       "⎢M₂₁  M₂₂  M₂₃⎥\n",
       "⎢             ⎥\n",
       "⎣M₃₁  M₃₂  M₃₃⎦"
      ]
     },
     "execution_count": 81,
     "metadata": {},
     "output_type": "execute_result"
    }
   ],
   "source": [
    "M = Matrix(3, 3, symbols('M(1:4)(1:4)'))\n",
    "M"
   ]
  },
  {
   "cell_type": "markdown",
   "metadata": {},
   "source": [
    "También es posible generar de manera sistemática matrices de cualquier orden, siempre que tengamos la ley o función generadora, dependiendo de la fila y columna que ocupe cada elemento de la misma.\n",
    "\n",
    "Veámos como ejemplo la generación de una matriz de Toeplitz, con diagonales constantes, por ejemplo a partir de un vector de $2n-1$ datos $a_k, \\; k = 1,\\ldots, 2n-1$, a partir de la siguiente fórmula generadora:\n",
    "\n",
    "$$T_{i,j} = a_{i-j+(n-1)},\\; i,j = 0,\\ldots, n-1 $$"
   ]
  },
  {
   "cell_type": "code",
   "execution_count": 90,
   "metadata": {
    "collapsed": true
   },
   "outputs": [],
   "source": [
    "def toeplitz(n):   # definimos una función dependiendo de 'n'\n",
    "    a = symbols('a:'+str(2*n)) # generamos los símbolos necesarios\n",
    "    f = lambda i,j: a[i-j+n-1] # función generadora (anónima)\n",
    "    return Matrix(n,n,f)       # devuelve la matriz final"
   ]
  },
  {
   "cell_type": "code",
   "execution_count": 124,
   "metadata": {
    "collapsed": false
   },
   "outputs": [],
   "source": [
    "M = toeplitz(5) # aquí hacemos una llamada concreta a la anterior función"
   ]
  },
  {
   "cell_type": "code",
   "execution_count": 125,
   "metadata": {
    "collapsed": false
   },
   "outputs": [
    {
     "data": {
      "image/png": "[encoded data removed]",
      "text/latex": [
       "$$\\left[\\begin{matrix}a_{4} & a_{3} & a_{2} & a_{1} & a_{0}\\\\a_{5} & a_{4} & a_{3} & a_{2} & a_{1}\\\\a_{6} & a_{5} & a_{4} & a_{3} & a_{2}\\\\a_{7} & a_{6} & a_{5} & a_{4} & a_{3}\\\\a_{8} & a_{7} & a_{6} & a_{5} & a_{4}\\end{matrix}\\right]$$"
      ],
      "text/plain": [
       "⎡a₄  a₃  a₂  a₁  a₀⎤\n",
       "⎢                  ⎥\n",
       "⎢a₅  a₄  a₃  a₂  a₁⎥\n",
       "⎢                  ⎥\n",
       "⎢a₆  a₅  a₄  a₃  a₂⎥\n",
       "⎢                  ⎥\n",
       "⎢a₇  a₆  a₅  a₄  a₃⎥\n",
       "⎢                  ⎥\n",
       "⎣a₈  a₇  a₆  a₅  a₄⎦"
      ]
     },
     "execution_count": 125,
     "metadata": {},
     "output_type": "execute_result"
    }
   ],
   "source": [
    "M"
   ]
  },
  {
   "cell_type": "code",
   "execution_count": 133,
   "metadata": {
    "collapsed": false
   },
   "outputs": [
    {
     "data": {
      "image/png": "[encoded data removed]",
      "text/latex": [
       "$$\\left[\\begin{matrix}a_{4} & a_{3} & 0 & a_{1} & a_{0}\\\\a_{5} & a_{4} & a_{3} & 0 & a_{1}\\\\a_{6} & a_{5} & a_{4} & a_{3} & 0\\\\1 & a_{6} & a_{5} & a_{4} & a_{3}\\\\a_{8} & 1 & a_{6} & a_{5} & a_{4}\\end{matrix}\\right]$$"
      ],
      "text/plain": [
       "⎡a₄  a₃  0   a₁  a₀⎤\n",
       "⎢                  ⎥\n",
       "⎢a₅  a₄  a₃  0   a₁⎥\n",
       "⎢                  ⎥\n",
       "⎢a₆  a₅  a₄  a₃  0 ⎥\n",
       "⎢                  ⎥\n",
       "⎢1   a₆  a₅  a₄  a₃⎥\n",
       "⎢                  ⎥\n",
       "⎣a₈  1   a₆  a₅  a₄⎦"
      ]
     },
     "execution_count": 133,
     "metadata": {},
     "output_type": "execute_result"
    }
   ],
   "source": [
    "a2, a7 = symbols('a2, a7')  # los usaremos de nuevo como símbolos\n",
    "M.subs(a2,0).subs(a7,1) # ahora podemos sustituirlos por algún valor \n",
    "# numérico por ejemplo."
   ]
  },
  {
   "cell_type": "markdown",
   "metadata": {},
   "source": [
    "## Álgebra matricial numérica"
   ]
  },
  {
   "cell_type": "markdown",
   "metadata": {},
   "source": [
    "No cabe la menor duda pues de que las operaciones vectoriales y/o matriciales son indispensables en la computación científica. Por ello algunos módulos de Python utilizan diferentes estructuras y clases de objetos que implementan todas las operaciones habituales relacionadas. Entre estos módulos por excelencia que se basan en este tipo de estructuras vectoriales (también denominados arrays) cabe destacar sin duda `NumPy`."
   ]
  },
  {
   "cell_type": "markdown",
   "metadata": {},
   "source": [
    "A diferencia de las variables genéricas en Python, que son de tipado dinámico y pueden llegar a almacenar sucesivamente todo tipo de datos uno tras otro, las variables y arrays definidos en NumPy van a ser de tipo estático y homogéneo, determinado desde su inicio o definición y las operaciones posibles entre ellas estarán también predeterminadas de antemano, según el tipo de los operandos. Esto, aunque parezca que le quita cierta flexibilidad a las posibilidades de Python, hace que muchas operaciones de cómputo intensivo, tan necesarias en cálculo científico, se puedan realizar con una rapidez y eficiencia casi comparable al de los lenguajes compilados (como Fortran, C, C++ y otros), aún manteniendo la característica de lenguaje interpretado que tantas ventajas tiene de cara a interactividad y facilidad de programación."
   ]
  },
  {
   "cell_type": "code",
   "execution_count": 160,
   "metadata": {
    "collapsed": true
   },
   "outputs": [],
   "source": [
    "import numpy as np  # para ello lo primero que debemos hacer (si no) \n",
    "# lo hubiéramos hecho ya antes, es importar dicho módulo"
   ]
  },
  {
   "cell_type": "code",
   "execution_count": 1,
   "metadata": {
    "collapsed": false
   },
   "outputs": [],
   "source": [
    "# help(np.ndarray)  # para obtener la máxima información sobre la clase\n",
    "# de objetos ndarray que vamos a emplear."
   ]
  },
  {
   "cell_type": "code",
   "execution_count": 161,
   "metadata": {
    "collapsed": true
   },
   "outputs": [],
   "source": [
    "datos = np.array([[1,2],[3,4],[5,6]])  # he aquí un primer ejemplo"
   ]
  },
  {
   "cell_type": "code",
   "execution_count": 162,
   "metadata": {
    "collapsed": false
   },
   "outputs": [
    {
     "data": {
      "text/plain": [
       "numpy.ndarray"
      ]
     },
     "execution_count": 162,
     "metadata": {},
     "output_type": "execute_result"
    }
   ],
   "source": [
    "type(datos)   # comprobemos ahora el tipo de dato de que se trata"
   ]
  },
  {
   "cell_type": "code",
   "execution_count": 163,
   "metadata": {
    "collapsed": false
   },
   "outputs": [
    {
     "data": {
      "text/plain": [
       "array([[1, 2],\n",
       "       [3, 4],\n",
       "       [5, 6]])"
      ]
     },
     "execution_count": 163,
     "metadata": {},
     "output_type": "execute_result"
    }
   ],
   "source": [
    "datos"
   ]
  },
  {
   "cell_type": "markdown",
   "metadata": {},
   "source": [
    "Ahora, para extraer alguno de los elementos de estos *arrays* debemos indicar los índices de la correspondiente fila y columna mediante corchetes; mientras que si sólo indicamos un índice, éste corresponderá a toda una fila. Veámoslo:"
   ]
  },
  {
   "cell_type": "code",
   "execution_count": 164,
   "metadata": {
    "collapsed": false
   },
   "outputs": [
    {
     "data": {
      "text/plain": [
       "(array([1, 2]), 1)"
      ]
     },
     "execution_count": 164,
     "metadata": {},
     "output_type": "execute_result"
    }
   ],
   "source": [
    "datos[0], datos[0,0]"
   ]
  },
  {
   "cell_type": "code",
   "execution_count": 165,
   "metadata": {
    "collapsed": false
   },
   "outputs": [
    {
     "data": {
      "text/plain": [
       "array([3, 4])"
      ]
     },
     "execution_count": 165,
     "metadata": {},
     "output_type": "execute_result"
    }
   ],
   "source": [
    "datos[1]"
   ]
  },
  {
   "cell_type": "code",
   "execution_count": 166,
   "metadata": {
    "collapsed": false
   },
   "outputs": [
    {
     "data": {
      "image/png": "[encoded data removed]",
      "text/latex": [
       "$$2$$"
      ],
      "text/plain": [
       "2"
      ]
     },
     "execution_count": 166,
     "metadata": {},
     "output_type": "execute_result"
    }
   ],
   "source": [
    "datos.ndim   # para obtener el número de dimensiones del array"
   ]
  },
  {
   "cell_type": "code",
   "execution_count": 167,
   "metadata": {
    "collapsed": false
   },
   "outputs": [
    {
     "data": {
      "image/png": "[encoded data removed]",
      "text/latex": [
       "$$\\left ( \\left ( 3, \\quad 2\\right ), \\quad 6\\right )$$"
      ],
      "text/plain": [
       "((3, 2), 6)"
      ]
     },
     "execution_count": 167,
     "metadata": {},
     "output_type": "execute_result"
    }
   ],
   "source": [
    "datos.shape, datos.size # para obtener sus 'forma' y 'tamaño'"
   ]
  },
  {
   "cell_type": "markdown",
   "metadata": {},
   "source": [
    "Vemos que la salida de la sentencia 'shape' es una tupla, donde el primer elemento es el número de filas y el segundo el de columnas y así sucesivamente. Así pues, también podremos extraer cada uno de estos valores empleando corchetes, como sigue:"
   ]
  },
  {
   "cell_type": "code",
   "execution_count": 389,
   "metadata": {
    "collapsed": false
   },
   "outputs": [
    {
     "data": {
      "image/png": "[encoded data removed]",
      "text/latex": [
       "$$\\left ( 3, \\quad 2\\right )$$"
      ],
      "text/plain": [
       "(3, 2)"
      ]
     },
     "execution_count": 389,
     "metadata": {},
     "output_type": "execute_result"
    }
   ],
   "source": [
    "datos.shape[0],datos.shape[1]"
   ]
  },
  {
   "cell_type": "code",
   "execution_count": 184,
   "metadata": {
    "collapsed": false
   },
   "outputs": [
    {
     "data": {
      "text/plain": [
       "(dtype('int64'), 48)"
      ]
     },
     "execution_count": 184,
     "metadata": {},
     "output_type": "execute_result"
    }
   ],
   "source": [
    "datos.dtype, datos.nbytes # estas órdenes nos proporcionan tanto el \n",
    "# tipo de datos que contiene el array, así como el total de bytes"
   ]
  },
  {
   "cell_type": "code",
   "execution_count": 169,
   "metadata": {
    "collapsed": false
   },
   "outputs": [],
   "source": [
    "datos[0,0] = 10  # así cambiaríamos el valor de un elemento concreto"
   ]
  },
  {
   "cell_type": "code",
   "execution_count": 172,
   "metadata": {
    "collapsed": false
   },
   "outputs": [],
   "source": [
    "datos[1] = [30,40] # y así una fila completa"
   ]
  },
  {
   "cell_type": "code",
   "execution_count": 173,
   "metadata": {
    "collapsed": false
   },
   "outputs": [
    {
     "data": {
      "text/plain": [
       "array([[10,  2],\n",
       "       [30, 40],\n",
       "       [ 5,  6]])"
      ]
     },
     "execution_count": 173,
     "metadata": {},
     "output_type": "execute_result"
    }
   ],
   "source": [
    "datos # aquí vemos como ha quedado el array después de los cambios"
   ]
  },
  {
   "cell_type": "code",
   "execution_count": 174,
   "metadata": {
    "collapsed": true
   },
   "outputs": [],
   "source": [
    "datos[2,0] = 15.4 # veámos que pasa ahora al intentar darle un valor\n",
    "# con decimales a una de las posiciones del array"
   ]
  },
  {
   "cell_type": "code",
   "execution_count": 175,
   "metadata": {
    "collapsed": false
   },
   "outputs": [
    {
     "data": {
      "text/plain": [
       "array([[10,  2],\n",
       "       [30, 40],\n",
       "       [15,  6]])"
      ]
     },
     "execution_count": 175,
     "metadata": {},
     "output_type": "execute_result"
    }
   ],
   "source": [
    "datos  # vemos que se ha convertido automáticamente a tipo entero\n",
    "# al ser el tipo de datos fijo del array desde su creación"
   ]
  },
  {
   "cell_type": "code",
   "execution_count": 176,
   "metadata": {
    "collapsed": true
   },
   "outputs": [],
   "source": [
    "datosbis = np.array([[1.,2],[3,4],[5,6]]) # véamos qué pasa ahora al \n",
    "# haber introducido un valor con el punto decimal en una posición"
   ]
  },
  {
   "cell_type": "code",
   "execution_count": 177,
   "metadata": {
    "collapsed": false
   },
   "outputs": [
    {
     "data": {
      "text/plain": [
       "array([[ 1.,  2.],\n",
       "       [ 3.,  4.],\n",
       "       [ 5.,  6.]])"
      ]
     },
     "execution_count": 177,
     "metadata": {},
     "output_type": "execute_result"
    }
   ],
   "source": [
    "datosbis # resulta que todos los datos se han reconvertido, ya que\n",
    "# todos los datos de cualquier array deben ser del mismo tipo"
   ]
  },
  {
   "cell_type": "code",
   "execution_count": 183,
   "metadata": {
    "collapsed": false
   },
   "outputs": [
    {
     "data": {
      "text/plain": [
       "(dtype('float64'), 48)"
      ]
     },
     "execution_count": 183,
     "metadata": {},
     "output_type": "execute_result"
    }
   ],
   "source": [
    "datosbis.dtype, datosbis.nbytes # vemos que aunque ahora el tipo de \n",
    "# dato ha cambiado a float, se emplean el mismo número de bytes "
   ]
  },
  {
   "cell_type": "code",
   "execution_count": 185,
   "metadata": {
    "collapsed": false
   },
   "outputs": [
    {
     "data": {
      "image/png": "[encoded data removed]",
      "text/latex": [
       "$$\\left ( \\left ( 3, \\quad 2\\right ), \\quad 6\\right )$$"
      ],
      "text/plain": [
       "((3, 2), 6)"
      ]
     },
     "execution_count": 185,
     "metadata": {},
     "output_type": "execute_result"
    }
   ],
   "source": [
    "datosbis.shape, datosbis.size  # coincide con el ejemplo anterior"
   ]
  },
  {
   "cell_type": "markdown",
   "metadata": {},
   "source": [
    "No obstante, como veremos, también se puede especificar el tipo concreto de dato que queremos que se considere cuando se va a definir un array de NumPy. Veánse los ejemplos siguientes:"
   ]
  },
  {
   "cell_type": "code",
   "execution_count": 200,
   "metadata": {
    "collapsed": false
   },
   "outputs": [
    {
     "data": {
      "text/plain": [
       "array([1, 1, 1], dtype=int16)"
      ]
     },
     "execution_count": 200,
     "metadata": {},
     "output_type": "execute_result"
    }
   ],
   "source": [
    "np.array([1,1,1], dtype = np.int16)"
   ]
  },
  {
   "cell_type": "code",
   "execution_count": 201,
   "metadata": {
    "collapsed": false
   },
   "outputs": [
    {
     "data": {
      "image/png": "[encoded data removed]",
      "text/latex": [
       "$$6$$"
      ],
      "text/plain": [
       "6"
      ]
     },
     "execution_count": 201,
     "metadata": {},
     "output_type": "execute_result"
    }
   ],
   "source": [
    "_.nbytes"
   ]
  },
  {
   "cell_type": "code",
   "execution_count": 196,
   "metadata": {
    "collapsed": false
   },
   "outputs": [
    {
     "data": {
      "text/plain": [
       "array([ 1.,  1.,  1.], dtype=float16)"
      ]
     },
     "execution_count": 196,
     "metadata": {},
     "output_type": "execute_result"
    }
   ],
   "source": [
    "np.array([1,1,1], dtype = np.float16)"
   ]
  },
  {
   "cell_type": "code",
   "execution_count": 197,
   "metadata": {
    "collapsed": false
   },
   "outputs": [
    {
     "data": {
      "image/png": "[encoded data removed]",
      "text/latex": [
       "$$6$$"
      ],
      "text/plain": [
       "6"
      ]
     },
     "execution_count": 197,
     "metadata": {},
     "output_type": "execute_result"
    }
   ],
   "source": [
    "_.nbytes"
   ]
  },
  {
   "cell_type": "code",
   "execution_count": 198,
   "metadata": {
    "collapsed": false
   },
   "outputs": [
    {
     "data": {
      "text/plain": [
       "array([ 1.0,  1.0,  1.0], dtype=float128)"
      ]
     },
     "execution_count": 198,
     "metadata": {},
     "output_type": "execute_result"
    }
   ],
   "source": [
    "np.array([1,1,1], dtype = np.float128)"
   ]
  },
  {
   "cell_type": "code",
   "execution_count": 199,
   "metadata": {
    "collapsed": false
   },
   "outputs": [
    {
     "data": {
      "image/png": "[encoded data removed]",
      "text/latex": [
       "$$48$$"
      ],
      "text/plain": [
       "48"
      ]
     },
     "execution_count": 199,
     "metadata": {},
     "output_type": "execute_result"
    }
   ],
   "source": [
    "_.nbytes"
   ]
  },
  {
   "cell_type": "code",
   "execution_count": 202,
   "metadata": {
    "collapsed": false
   },
   "outputs": [
    {
     "data": {
      "text/plain": [
       "array([ 1.+0.j,  1.+0.j,  1.+0.j])"
      ]
     },
     "execution_count": 202,
     "metadata": {},
     "output_type": "execute_result"
    }
   ],
   "source": [
    "np.array([1,1,1], dtype = np.complex)"
   ]
  },
  {
   "cell_type": "code",
   "execution_count": 203,
   "metadata": {
    "collapsed": false
   },
   "outputs": [
    {
     "data": {
      "image/png": "[encoded data removed]",
      "text/latex": [
       "$$48$$"
      ],
      "text/plain": [
       "48"
      ]
     },
     "execution_count": 203,
     "metadata": {},
     "output_type": "execute_result"
    }
   ],
   "source": [
    "_.nbytes"
   ]
  },
  {
   "cell_type": "code",
   "execution_count": 205,
   "metadata": {
    "collapsed": false
   },
   "outputs": [
    {
     "data": {
      "text/plain": [
       "array([[1, 2],\n",
       "       [3, 4],\n",
       "       [5, 6]])"
      ]
     },
     "execution_count": 205,
     "metadata": {},
     "output_type": "execute_result"
    }
   ],
   "source": [
    "datosbis.astype(np.int)  # aunque también es posible cambiar el tipo\n",
    "# de datos de todo el array completo mediante este procedimiento"
   ]
  },
  {
   "cell_type": "code",
   "execution_count": 206,
   "metadata": {
    "collapsed": false
   },
   "outputs": [
    {
     "data": {
      "text/plain": [
       "array([[ 10.+0.j,   2.+0.j],\n",
       "       [ 30.+0.j,  40.+0.j],\n",
       "       [ 15.+0.j,   6.+0.j]])"
      ]
     },
     "execution_count": 206,
     "metadata": {},
     "output_type": "execute_result"
    }
   ],
   "source": [
    "datos.astype(np.complex)"
   ]
  },
  {
   "cell_type": "code",
   "execution_count": 210,
   "metadata": {
    "collapsed": false
   },
   "outputs": [
    {
     "data": {
      "text/plain": [
       "array([[ 11.,   4.],\n",
       "       [ 33.,  44.],\n",
       "       [ 20.,  12.]])"
      ]
     },
     "execution_count": 210,
     "metadata": {},
     "output_type": "execute_result"
    }
   ],
   "source": [
    "datos + datosbis # Nótese que ahora sí que podemos operar con arrays\n",
    "# que posean la misma estructura (número de filas y columnas)"
   ]
  },
  {
   "cell_type": "code",
   "execution_count": 212,
   "metadata": {
    "collapsed": false
   },
   "outputs": [
    {
     "data": {
      "text/plain": [
       "dtype('float64')"
      ]
     },
     "execution_count": 212,
     "metadata": {},
     "output_type": "execute_result"
    }
   ],
   "source": []
  },
  {
   "cell_type": "code",
   "execution_count": 34,
   "metadata": {
    "collapsed": true
   },
   "outputs": [],
   "source": [
    "v1 = np.array([1,2,3], dtype = float)\n",
    "v2 = np.array([4,5,6]) # podemos generar arrays de distintos tipos"
   ]
  },
  {
   "cell_type": "code",
   "execution_count": 35,
   "metadata": {
    "collapsed": false
   },
   "outputs": [
    {
     "data": {
      "text/plain": [
       "array([  5.,  10.,  15.])"
      ]
     },
     "execution_count": 35,
     "metadata": {},
     "output_type": "execute_result"
    }
   ],
   "source": [
    "5*v1"
   ]
  },
  {
   "cell_type": "code",
   "execution_count": 36,
   "metadata": {
    "collapsed": false
   },
   "outputs": [
    {
     "data": {
      "text/plain": [
       "array([ 5.,  7.,  9.])"
      ]
     },
     "execution_count": 36,
     "metadata": {},
     "output_type": "execute_result"
    }
   ],
   "source": [
    "v1 + v2 # y operar con ellos como si fueran vectores o matrices\n",
    "# siempre y cuando tengan la misma estructura (filas y columnas)"
   ]
  },
  {
   "cell_type": "code",
   "execution_count": 37,
   "metadata": {
    "collapsed": false
   },
   "outputs": [
    {
     "data": {
      "text/plain": [
       "dtype('float64')"
      ]
     },
     "execution_count": 37,
     "metadata": {},
     "output_type": "execute_result"
    }
   ],
   "source": [
    "_.dtype  # El resultado se ha convertido en un array de tipo float64"
   ]
  },
  {
   "cell_type": "code",
   "execution_count": 38,
   "metadata": {
    "collapsed": false
   },
   "outputs": [
    {
     "data": {
      "text/plain": [
       "dtype('int64')"
      ]
     },
     "execution_count": 38,
     "metadata": {},
     "output_type": "execute_result"
    }
   ],
   "source": [
    "v2.dtype # aunque v2 fuera un array de números enteros"
   ]
  },
  {
   "cell_type": "code",
   "execution_count": 39,
   "metadata": {
    "collapsed": false
   },
   "outputs": [
    {
     "data": {
      "text/plain": [
       "array([ 2.        ,  2.23606798,  2.44948974])"
      ]
     },
     "execution_count": 39,
     "metadata": {},
     "output_type": "execute_result"
    }
   ],
   "source": [
    "np.sqrt(v2) # ahora podemos aplicar también a todos los elementos \n",
    "# del array al mismo tiempo cualquier función de NumPy "
   ]
  },
  {
   "cell_type": "code",
   "execution_count": 40,
   "metadata": {
    "collapsed": false
   },
   "outputs": [
    {
     "data": {
      "text/plain": [
       "array([16, 25, 36])"
      ]
     },
     "execution_count": 40,
     "metadata": {},
     "output_type": "execute_result"
    }
   ],
   "source": [
    "v2**2"
   ]
  },
  {
   "cell_type": "code",
   "execution_count": 41,
   "metadata": {
    "collapsed": false
   },
   "outputs": [
    {
     "data": {
      "text/plain": [
       "array([ 1.38629436,  1.60943791,  1.79175947])"
      ]
     },
     "execution_count": 41,
     "metadata": {},
     "output_type": "execute_result"
    }
   ],
   "source": [
    "np.log(v2)"
   ]
  },
  {
   "cell_type": "code",
   "execution_count": 42,
   "metadata": {
    "collapsed": false
   },
   "outputs": [
    {
     "data": {
      "text/plain": [
       "array([ 0.84147098,  0.90929743,  0.14112001])"
      ]
     },
     "execution_count": 42,
     "metadata": {},
     "output_type": "execute_result"
    }
   ],
   "source": [
    "np.sin(v1)"
   ]
  },
  {
   "cell_type": "markdown",
   "metadata": {},
   "source": [
    "### Generando y modificando arrays y matrices especiales"
   ]
  },
  {
   "cell_type": "code",
   "execution_count": 43,
   "metadata": {
    "collapsed": false
   },
   "outputs": [
    {
     "data": {
      "text/plain": [
       "array([[ 1.,  0.,  0.],\n",
       "       [ 0.,  1.,  0.],\n",
       "       [ 0.,  0.,  1.]])"
      ]
     },
     "execution_count": 43,
     "metadata": {},
     "output_type": "execute_result"
    }
   ],
   "source": [
    "np.identity(3) # para generar la matriz identidad de orden n"
   ]
  },
  {
   "cell_type": "code",
   "execution_count": 44,
   "metadata": {
    "collapsed": false
   },
   "outputs": [
    {
     "data": {
      "text/plain": [
       "array([[ 0.,  0.,  0.],\n",
       "       [ 0.,  0.,  0.]])"
      ]
     },
     "execution_count": 44,
     "metadata": {},
     "output_type": "execute_result"
    }
   ],
   "source": [
    "np.zeros([2,3])"
   ]
  },
  {
   "cell_type": "code",
   "execution_count": 45,
   "metadata": {
    "collapsed": false
   },
   "outputs": [
    {
     "data": {
      "text/plain": [
       "array([[ 1.,  1.,  1.],\n",
       "       [ 1.,  1.,  1.]])"
      ]
     },
     "execution_count": 45,
     "metadata": {},
     "output_type": "execute_result"
    }
   ],
   "source": [
    "np.ones([2,3])  # generación de un array 2x3 formado sólo con 1's"
   ]
  },
  {
   "cell_type": "code",
   "execution_count": 46,
   "metadata": {
    "collapsed": false
   },
   "outputs": [
    {
     "data": {
      "text/plain": [
       "array([[ 1.,  1.,  1.],\n",
       "       [ 1.,  1.,  1.]])"
      ]
     },
     "execution_count": 46,
     "metadata": {},
     "output_type": "execute_result"
    }
   ],
   "source": [
    "np.ones(6).reshape(2,3) # una forma equivalente de obtenerlo"
   ]
  },
  {
   "cell_type": "code",
   "execution_count": 47,
   "metadata": {
    "collapsed": false
   },
   "outputs": [
    {
     "data": {
      "text/plain": [
       "array([[1, 0, 0, 0, 0],\n",
       "       [0, 3, 0, 0, 0],\n",
       "       [0, 0, 5, 0, 0],\n",
       "       [0, 0, 0, 7, 0],\n",
       "       [0, 0, 0, 0, 9]])"
      ]
     },
     "execution_count": 47,
     "metadata": {},
     "output_type": "execute_result"
    }
   ],
   "source": [
    "np.diag(range(1,10,2))  # así generamos un array con los elementos\n",
    "# indicados por la orden de Python range"
   ]
  },
  {
   "cell_type": "code",
   "execution_count": 48,
   "metadata": {
    "collapsed": false
   },
   "outputs": [
    {
     "data": {
      "text/plain": [
       "array([1, 3, 5, 7, 9])"
      ]
     },
     "execution_count": 48,
     "metadata": {},
     "output_type": "execute_result"
    }
   ],
   "source": [
    "np.arange(1,10,2)  # esta orden de NumPy es una variante de range\n",
    "# que genera directamente un array"
   ]
  },
  {
   "cell_type": "code",
   "execution_count": 49,
   "metadata": {
    "collapsed": false
   },
   "outputs": [
    {
     "data": {
      "text/plain": [
       "array([1, 3, 5, 7, 9])"
      ]
     },
     "execution_count": 49,
     "metadata": {},
     "output_type": "execute_result"
    }
   ],
   "source": [
    "np.array(range(1,10,2)) # esta sería una manera equivalente"
   ]
  },
  {
   "cell_type": "markdown",
   "metadata": {},
   "source": [
    "Table[1/(i+j),{i,5},{j,0,6,2}]//MatrixForm"
   ]
  },
  {
   "cell_type": "code",
   "execution_count": 159,
   "metadata": {
    "collapsed": false
   },
   "outputs": [
    {
     "data": {
      "text/plain": [
       "array([[1, 1/2, 1/3, 1/4, 1/5],\n",
       "       [1/3, 1/4, 1/5, 1/6, 1/7],\n",
       "       [1/5, 1/6, 1/7, 1/8, 1/9]], dtype=object)"
      ]
     },
     "execution_count": 159,
     "metadata": {},
     "output_type": "execute_result"
    }
   ],
   "source": [
    "mat = np.array([[sp.Rational(1,i+j) \n",
    "                 for i in range(1,6)] for j in range(0,6,2)])\n",
    "mat"
   ]
  },
  {
   "cell_type": "code",
   "execution_count": 58,
   "metadata": {
    "collapsed": false
   },
   "outputs": [
    {
     "data": {
      "text/plain": [
       "array([[2, 1, 2/3, 1/2, 2/5],\n",
       "       [2/3, 1/2, 2/5, 1/3, 2/7],\n",
       "       [2/5, 1/3, 2/7, 1/4, 2/9]], dtype=object)"
      ]
     },
     "execution_count": 58,
     "metadata": {},
     "output_type": "execute_result"
    }
   ],
   "source": [
    "2*mat"
   ]
  },
  {
   "cell_type": "code",
   "execution_count": 59,
   "metadata": {
    "collapsed": false
   },
   "outputs": [
    {
     "data": {
      "text/plain": [
       "array([[a, a/2, a/3, a/4, a/5],\n",
       "       [a/3, a/4, a/5, a/6, a/7],\n",
       "       [a/5, a/6, a/7, a/8, a/9]], dtype=object)"
      ]
     },
     "execution_count": 59,
     "metadata": {},
     "output_type": "execute_result"
    }
   ],
   "source": [
    "a = symbols('a')\n",
    "a*mat"
   ]
  },
  {
   "cell_type": "code",
   "execution_count": 334,
   "metadata": {
    "collapsed": false
   },
   "outputs": [],
   "source": [
    "?np.ndarray"
   ]
  },
  {
   "cell_type": "code",
   "execution_count": 60,
   "metadata": {
    "collapsed": false
   },
   "outputs": [
    {
     "data": {
      "text/plain": [
       "array([  0.,   1.,   2.,   3.,   4.,   5.,   6.,   7.,   8.,   9.,  10.])"
      ]
     },
     "execution_count": 60,
     "metadata": {},
     "output_type": "execute_result"
    }
   ],
   "source": [
    "np.linspace(0,10,11) # así generamos un array de puntos igualmente\n",
    "# espaciados (partición uniforme) con los extremos indicados"
   ]
  },
  {
   "cell_type": "code",
   "execution_count": 61,
   "metadata": {
    "collapsed": false
   },
   "outputs": [
    {
     "data": {
      "text/plain": [
       "array([  1.00000000e+00,   1.00000000e+01,   1.00000000e+02,\n",
       "         1.00000000e+03,   1.00000000e+04,   1.00000000e+05,\n",
       "         1.00000000e+06,   1.00000000e+07,   1.00000000e+08,\n",
       "         1.00000000e+09,   1.00000000e+10])"
      ]
     },
     "execution_count": 61,
     "metadata": {},
     "output_type": "execute_result"
    }
   ],
   "source": [
    "np.logspace(0,10,11)"
   ]
  },
  {
   "cell_type": "markdown",
   "metadata": {},
   "source": [
    "## Operaciones vectoriales y matriciales"
   ]
  },
  {
   "cell_type": "markdown",
   "metadata": {},
   "source": [
    "Todas las matrices para las que el número de filas coincide con el de columnas se denominan matrices cuadradas. Veámos a continuación algunos ejemplos y cómo podemos operar con ellas."
   ]
  },
  {
   "cell_type": "code",
   "execution_count": 168,
   "metadata": {
    "collapsed": true
   },
   "outputs": [],
   "source": [
    "matriz1 = np.random.randn(3,3) # así generamos matrices 3x3 con \n",
    "matriz2 = np.random.randn(3,3) # elementos aleatorios obtenidos a \n",
    "# partir de una distribución normal de media 0 y varianza 1"
   ]
  },
  {
   "cell_type": "code",
   "execution_count": 169,
   "metadata": {
    "collapsed": false
   },
   "outputs": [],
   "source": [
    "matriz0 = np.zeros([3,3])\n",
    "matrizI = np.identity(3)"
   ]
  },
  {
   "cell_type": "markdown",
   "metadata": {},
   "source": [
    "Las llamadas matrices *escalares* se pueden construir a partir de la matriz identidad de orden n, que se obtiene con la orden  `np.identity(n)` que define una matriz de orden n  con unos en la diagonal y ceros en el resto de posiciones."
   ]
  },
  {
   "cell_type": "code",
   "execution_count": 170,
   "metadata": {
    "collapsed": false
   },
   "outputs": [
    {
     "data": {
      "text/plain": [
       "array([[1.0*a, 0, 0],\n",
       "       [0, 1.0*a, 0],\n",
       "       [0, 0, 1.0*a]], dtype=object)"
      ]
     },
     "execution_count": 170,
     "metadata": {},
     "output_type": "execute_result"
    }
   ],
   "source": [
    "a*matrizI"
   ]
  },
  {
   "cell_type": "markdown",
   "metadata": {},
   "source": [
    "Como hemos visto en el último ejemplo, el producto de una matriz por un escalar se realiza de una forma inmediata, sin más que separar ambos por un `*` (como para el producto entre dos números cualesquiera). "
   ]
  },
  {
   "cell_type": "code",
   "execution_count": 171,
   "metadata": {
    "collapsed": false
   },
   "outputs": [
    {
     "data": {
      "text/plain": [
       "(array([[-1.2271086 ,  0.27111544, -0.29913254],\n",
       "        [-0.67989161,  0.15945346, -0.33063799],\n",
       "        [-1.33665875, -1.50466628, -0.16752379]]),\n",
       " array([[ 1.36646044,  0.71814713,  0.61599475],\n",
       "        [ 0.86250925, -1.63546477, -0.4402806 ],\n",
       "        [-1.28710319,  0.37965115,  1.85616901]]))"
      ]
     },
     "execution_count": 171,
     "metadata": {},
     "output_type": "execute_result"
    }
   ],
   "source": [
    "matriz1, matriz2"
   ]
  },
  {
   "cell_type": "markdown",
   "metadata": {},
   "source": [
    "En cuanto a la suma y resta de vectores (arrays unidimensionales) matrices (arrays bidimensionales) o bien arrays multidimensionales en general, es necesario de antemano que ambos tengan los mismos órdenes/dimensiones para poder realizar dicha operación; es decir, el mismo número de filas, de columnas, etc., ya que estas operaciones entre vectores, matrices o arrays en general se realizan componente a componente. No obstante, en el caso de matrices cuadradas y del mismo orden, no habrá ningún problema tanto para la suma, ni para el producto. Veamos algunos ejemplos:"
   ]
  },
  {
   "cell_type": "markdown",
   "metadata": {},
   "source": [
    "Nótese que `mat0` es el elemento neutro para  la suma de matrices. En cuanto a la matriz identidad, lo será para la multiplicación."
   ]
  },
  {
   "cell_type": "code",
   "execution_count": 172,
   "metadata": {
    "collapsed": false
   },
   "outputs": [
    {
     "data": {
      "text/plain": [
       "array([[-1.2271086 ,  0.27111544, -0.29913254],\n",
       "       [-0.67989161,  0.15945346, -0.33063799],\n",
       "       [-1.33665875, -1.50466628, -0.16752379]])"
      ]
     },
     "execution_count": 172,
     "metadata": {},
     "output_type": "execute_result"
    }
   ],
   "source": [
    "matriz0 + matriz1  # la matriz0 es el elemento neutro para la suma"
   ]
  },
  {
   "cell_type": "code",
   "execution_count": 173,
   "metadata": {
    "collapsed": false
   },
   "outputs": [
    {
     "data": {
      "text/plain": [
       "array([[ 0.13935184,  0.98926256,  0.31686221],\n",
       "       [ 0.18261764, -1.47601132, -0.77091859],\n",
       "       [-2.62376193, -1.12501513,  1.68864522]])"
      ]
     },
     "execution_count": 173,
     "metadata": {},
     "output_type": "execute_result"
    }
   ],
   "source": [
    "matriz1 + matriz2"
   ]
  },
  {
   "cell_type": "markdown",
   "metadata": {},
   "source": [
    "La multiplicación matricial como tal (no elemento a elemento que proporciona `*`) se obtendrá a partir de la orden `np.dot()`"
   ]
  },
  {
   "cell_type": "code",
   "execution_count": 174,
   "metadata": {
    "collapsed": false
   },
   "outputs": [
    {
     "data": {
      "text/plain": [
       "array([[-1.2271086 ,  0.27111544, -0.29913254],\n",
       "       [-0.67989161,  0.15945346, -0.33063799],\n",
       "       [-1.33665875, -1.50466628, -0.16752379]])"
      ]
     },
     "execution_count": 174,
     "metadata": {},
     "output_type": "execute_result"
    }
   ],
   "source": [
    "np.dot(matrizI,matriz1) # y matrizI el elemento neutro para el producto "
   ]
  },
  {
   "cell_type": "code",
   "execution_count": 175,
   "metadata": {
    "collapsed": false
   },
   "outputs": [
    {
     "data": {
      "text/plain": [
       "array([[-1.05794136, -1.43821027, -1.43049986],\n",
       "       [-0.36594969, -0.87456981, -1.10273392],\n",
       "       [-2.90865948,  1.43731046, -0.47185187]])"
      ]
     },
     "execution_count": 175,
     "metadata": {},
     "output_type": "execute_result"
    }
   ],
   "source": [
    "np.dot(matriz1,matriz2)"
   ]
  },
  {
   "cell_type": "code",
   "execution_count": 176,
   "metadata": {
    "collapsed": false
   },
   "outputs": [
    {
     "data": {
      "text/plain": [
       "array([[ 1.72130454,  0.16063685,  0.32753886],\n",
       "       [ 1.16783994,  0.33859614,  0.20604606],\n",
       "       [ 2.88715757, -0.35024566,  0.92540218]])"
      ]
     },
     "execution_count": 176,
     "metadata": {},
     "output_type": "execute_result"
    }
   ],
   "source": [
    "np.linalg.matrix_power(matriz1,2) # así obtendríamos la potencia\n",
    "# entera de una matriz cuadrada"
   ]
  },
  {
   "cell_type": "code",
   "execution_count": 177,
   "metadata": {
    "collapsed": false
   },
   "outputs": [
    {
     "data": {
      "text/plain": [
       "array([[  2.93475159,  -2.00499327,  -0.5923092 ],\n",
       "       [ -3.69853852,   4.9273024 ,   0.21197686],\n",
       "       [-10.55593719,   8.12025075,   3.00878258]])"
      ]
     },
     "execution_count": 177,
     "metadata": {},
     "output_type": "execute_result"
    }
   ],
   "source": [
    "np.linalg.matrix_power(matriz1,-2) # aunque en algunas ocasiones\n",
    "# también podremos calcular ciertas raíces de estas matrices"
   ]
  },
  {
   "cell_type": "code",
   "execution_count": 178,
   "metadata": {
    "collapsed": false
   },
   "outputs": [
    {
     "data": {
      "text/plain": [
       "array([[ 1.,  0.,  0.],\n",
       "       [ 0.,  1.,  0.],\n",
       "       [ 0.,  0.,  1.]])"
      ]
     },
     "execution_count": 178,
     "metadata": {},
     "output_type": "execute_result"
    }
   ],
   "source": [
    "np.linalg.matrix_power(matriz1,0) # vemos cómo al elevar a 0 una\n",
    "# matriz cuadrada obtenemos la matriz identidad correspondiente"
   ]
  },
  {
   "cell_type": "code",
   "execution_count": 179,
   "metadata": {
    "collapsed": false
   },
   "outputs": [
    {
     "data": {
      "text/plain": [
       "array([[-1.44636555,  1.36718104, -0.11572685],\n",
       "       [ 0.90513617, -0.53600992, -0.55831134],\n",
       "       [ 3.41067545, -6.09428918, -0.03128182]])"
      ]
     },
     "execution_count": 179,
     "metadata": {},
     "output_type": "execute_result"
    }
   ],
   "source": [
    "np.linalg.matrix_power(matriz1,-1) # y esta potencia -1 deberá ser\n",
    "# equivalente a la correspondiente matriz inversa de dicha matriz"
   ]
  },
  {
   "cell_type": "code",
   "execution_count": 180,
   "metadata": {
    "collapsed": false
   },
   "outputs": [
    {
     "data": {
      "text/plain": [
       "array([[  1.00000000e+00,   2.14044751e-16,   4.91433504e-17],\n",
       "       [  4.01488835e-18,   1.00000000e+00,  -1.77848840e-17],\n",
       "       [  5.66931237e-17,  -4.35591089e-16,   1.00000000e+00]])"
      ]
     },
     "execution_count": 180,
     "metadata": {},
     "output_type": "execute_result"
    }
   ],
   "source": [
    "np.dot(np.linalg.matrix_power(matriz1,-1),matriz1) # multiplicando\n",
    "# pues estas dos matrices obtenemos, salvo los inevitables errores \n",
    "# de redondeo, una matriz que se puede considerar la matriz identidad"
   ]
  },
  {
   "cell_type": "code",
   "execution_count": 181,
   "metadata": {
    "collapsed": false
   },
   "outputs": [
    {
     "data": {
      "text/plain": [
       "array([[ 1.,  0.,  0.],\n",
       "       [ 0.,  1.,  0.],\n",
       "       [ 0.,  0.,  1.]])"
      ]
     },
     "execution_count": 181,
     "metadata": {},
     "output_type": "execute_result"
    }
   ],
   "source": [
    "chop_vec(_)"
   ]
  },
  {
   "cell_type": "markdown",
   "metadata": {},
   "source": [
    "Pero no toda matriz cuadrada podrá tener un elemento inverso para la multiplicación; sólo aquellas que lo posean se denominarán inversibles. Python  dispone de una orden directa para su cálculo en caso de que ésta exista. Esta sentencia es `np.linalg.inv(matriz)`."
   ]
  },
  {
   "cell_type": "code",
   "execution_count": 182,
   "metadata": {
    "collapsed": false
   },
   "outputs": [
    {
     "data": {
      "text/plain": [
       "array([[-1.44636555,  1.36718104, -0.11572685],\n",
       "       [ 0.90513617, -0.53600992, -0.55831134],\n",
       "       [ 3.41067545, -6.09428918, -0.03128182]])"
      ]
     },
     "execution_count": 182,
     "metadata": {},
     "output_type": "execute_result"
    }
   ],
   "source": [
    "matriz1inv = np.linalg.inv(matriz1) # equivaldría a la inversa de la \n",
    "# matriz (siempre y cuando ésta sea regular)\n",
    "matriz1inv"
   ]
  },
  {
   "cell_type": "markdown",
   "metadata": {},
   "source": [
    "Se comprueba fácilmente que este conjunto de las matrices cuadradas de orden n, junto con las operaciones de suma y producto (cada una con su correspondiente elemento neutro) tiene estructura de anillo no conmutativo (satisfaciendo pues los correspondientes axiomas y propiedades) con divisores de cero (justo esto es lo que impide que no toda matriz cuadrada tenga inversa) como veremos a continuación:"
   ]
  },
  {
   "cell_type": "code",
   "execution_count": 83,
   "metadata": {
    "collapsed": false
   },
   "outputs": [],
   "source": [
    "mat1 = np.array([[1,0],[4,0]])  # aquí tenemos dos matrices\n",
    "mat2 = np.array([[0,0],[4,5]])  # cuadradas de orden 2"
   ]
  },
  {
   "cell_type": "code",
   "execution_count": 84,
   "metadata": {
    "collapsed": false
   },
   "outputs": [
    {
     "data": {
      "text/plain": [
       "array([[0, 0],\n",
       "       [0, 0]])"
      ]
     },
     "execution_count": 84,
     "metadata": {},
     "output_type": "execute_result"
    }
   ],
   "source": [
    "np.dot(mat1,mat2)  # cuyo producto matricial es la matriz nula"
   ]
  },
  {
   "cell_type": "code",
   "execution_count": 85,
   "metadata": {
    "collapsed": false
   },
   "outputs": [
    {
     "data": {
      "text/plain": [
       "array([[ 0,  0],\n",
       "       [24,  0]])"
      ]
     },
     "execution_count": 85,
     "metadata": {},
     "output_type": "execute_result"
    }
   ],
   "source": [
    "np.dot(mat2,mat1)  # pero vemos que el producto no es conmutativo"
   ]
  },
  {
   "cell_type": "markdown",
   "metadata": {},
   "source": [
    "Trabajemos ahora con algunos ejemplos de matrices (arrays bidimensionales) rectangulares (no cuadradas), donde no coincida el número de filas y columnas."
   ]
  },
  {
   "cell_type": "code",
   "execution_count": 183,
   "metadata": {
    "collapsed": false
   },
   "outputs": [
    {
     "data": {
      "text/plain": [
       "array([[-1.2271086 ,  0.27111544, -0.29913254],\n",
       "       [-0.67989161,  0.15945346, -0.33063799],\n",
       "       [-1.33665875, -1.50466628, -0.16752379]])"
      ]
     },
     "execution_count": 183,
     "metadata": {},
     "output_type": "execute_result"
    }
   ],
   "source": [
    "matriz1bis = np.random.randn(2,3) # así generamos matrices 2x3 con \n",
    "matriz2bis = np.random.randn(2,3) # elementos aleatorios obtenidos a \n",
    "# partir de una distribución normal de media 0 y varianza 1\n",
    "matriz1  "
   ]
  },
  {
   "cell_type": "code",
   "execution_count": 184,
   "metadata": {
    "collapsed": false
   },
   "outputs": [
    {
     "data": {
      "text/plain": [
       "array([[-1.62275267, -0.16373944, -1.4920871 ],\n",
       "       [ 0.6666975 ,  0.5206618 , -0.08748341]])"
      ]
     },
     "execution_count": 184,
     "metadata": {},
     "output_type": "execute_result"
    }
   ],
   "source": [
    "matriz2bis"
   ]
  },
  {
   "cell_type": "code",
   "execution_count": 189,
   "metadata": {
    "collapsed": false
   },
   "outputs": [
    {
     "data": {
      "text/plain": [
       "2"
      ]
     },
     "execution_count": 189,
     "metadata": {},
     "output_type": "execute_result"
    }
   ],
   "source": [
    "np.linalg.matrix_rank(matriz2bis) # para saber el rango de una matriz\n",
    "# osea número de filas o columnas linealmente independientes"
   ]
  },
  {
   "cell_type": "code",
   "execution_count": 185,
   "metadata": {
    "collapsed": false
   },
   "outputs": [
    {
     "data": {
      "text/plain": [
       "array([[-0.19199588, -1.94456754],\n",
       "       [ 1.39057997, -0.38376925],\n",
       "       [-0.91214082, -0.67081702]])"
      ]
     },
     "execution_count": 185,
     "metadata": {},
     "output_type": "execute_result"
    }
   ],
   "source": [
    "matriz1bisT = matriz1bis.T  # así obtenemos la matriz traspuesta\n",
    "matriz1bisT"
   ]
  },
  {
   "cell_type": "markdown",
   "metadata": {},
   "source": [
    "De manera que la matriz resultante tendrá un número de filas y columnas coincidentes con el número de columnas y filas de la primera."
   ]
  },
  {
   "cell_type": "code",
   "execution_count": 89,
   "metadata": {
    "collapsed": false
   },
   "outputs": [
    {
     "data": {
      "image/png": "[encoded data removed]",
      "text/latex": [
       "$$\\left ( \\left ( 2, \\quad 3\\right ), \\quad \\left ( 3, \\quad 2\\right )\\right )$$"
      ],
      "text/plain": [
       "((2, 3), (3, 2))"
      ]
     },
     "execution_count": 89,
     "metadata": {},
     "output_type": "execute_result"
    }
   ],
   "source": [
    "matriz1bis.shape,matriz1bisT.shape # vemos cómo se intercambian el \n",
    "# número de filas y columnas al obtener la matriz traspuesta"
   ]
  },
  {
   "cell_type": "code",
   "execution_count": 90,
   "metadata": {
    "collapsed": false
   },
   "outputs": [
    {
     "data": {
      "text/plain": [
       "array([[-1.65825271,  1.94792657],\n",
       "       [ 0.18745247, -0.21350849],\n",
       "       [-0.0645324 ,  0.10655299]])"
      ]
     },
     "execution_count": 90,
     "metadata": {},
     "output_type": "execute_result"
    }
   ],
   "source": [
    "np.transpose(matriz1bis)  # otra forma de trasponer una matriz"
   ]
  },
  {
   "cell_type": "code",
   "execution_count": 91,
   "metadata": {
    "collapsed": false
   },
   "outputs": [
    {
     "data": {
      "text/plain": [
       "array([[-0.0645324 ,  0.10655299],\n",
       "       [ 0.18745247, -0.21350849],\n",
       "       [-1.65825271,  1.94792657]])"
      ]
     },
     "execution_count": 91,
     "metadata": {},
     "output_type": "execute_result"
    }
   ],
   "source": [
    "np.rot90(matriz1bis) # aquí se hace algo equivalente a 'rotar' \n",
    "# los elementos de las dos primeras dimensiones de la matriz o array "
   ]
  },
  {
   "cell_type": "code",
   "execution_count": 92,
   "metadata": {
    "collapsed": false
   },
   "outputs": [
    {
     "data": {
      "text/plain": [
       "array([[-1.65825271, -0.0645324 ,  0.18745247],\n",
       "       [-0.21350849,  0.10655299,  1.94792657]])"
      ]
     },
     "execution_count": 92,
     "metadata": {},
     "output_type": "execute_result"
    }
   ],
   "source": [
    "np.sort(matriz1bis) # ordena los elementos de cada una de las filas\n",
    "# equivalente a la siguiente orden 'np.sort(matriz1,1)'"
   ]
  },
  {
   "cell_type": "code",
   "execution_count": 93,
   "metadata": {
    "collapsed": false
   },
   "outputs": [
    {
     "data": {
      "text/plain": [
       "array([[-1.65825271, -0.21350849, -0.0645324 ],\n",
       "       [ 1.94792657,  0.18745247,  0.10655299]])"
      ]
     },
     "execution_count": 93,
     "metadata": {},
     "output_type": "execute_result"
    }
   ],
   "source": [
    "np.sort(matriz1bis,0) # compare con la ordenación anterior"
   ]
  },
  {
   "cell_type": "code",
   "execution_count": 94,
   "metadata": {
    "collapsed": false
   },
   "outputs": [
    {
     "data": {
      "text/plain": [
       "array([[-1.65825271,  0.18745247, -0.0645324 ],\n",
       "       [ 1.94792657, -0.21350849,  0.10655299]])"
      ]
     },
     "execution_count": 94,
     "metadata": {},
     "output_type": "execute_result"
    }
   ],
   "source": [
    "matriz1bis"
   ]
  },
  {
   "cell_type": "code",
   "execution_count": 95,
   "metadata": {
    "collapsed": true
   },
   "outputs": [],
   "source": [
    "np.ndarray.sort(matriz1bis) # con esta orden además de realizar dicha\n",
    "# ordenación por filas, finalmente se modifica la propia matriz "
   ]
  },
  {
   "cell_type": "code",
   "execution_count": 96,
   "metadata": {
    "collapsed": false
   },
   "outputs": [
    {
     "data": {
      "text/plain": [
       "array([[-1.65825271, -0.0645324 ,  0.18745247],\n",
       "       [-0.21350849,  0.10655299,  1.94792657]])"
      ]
     },
     "execution_count": 96,
     "metadata": {},
     "output_type": "execute_result"
    }
   ],
   "source": [
    "matriz1bis # compárese con la matriz original más arriba"
   ]
  },
  {
   "cell_type": "code",
   "execution_count": 268,
   "metadata": {
    "collapsed": false
   },
   "outputs": [],
   "source": [
    "?np.fliplr"
   ]
  },
  {
   "cell_type": "code",
   "execution_count": 267,
   "metadata": {
    "collapsed": true
   },
   "outputs": [],
   "source": [
    "?np.flipud"
   ]
  },
  {
   "cell_type": "code",
   "execution_count": 362,
   "metadata": {
    "collapsed": false
   },
   "outputs": [
    {
     "data": {
      "text/plain": [
       "array([[ 1.37838747,  0.64667905,  0.30002715],\n",
       "       [ 0.53221937, -0.54275283, -2.03760456]])"
      ]
     },
     "execution_count": 362,
     "metadata": {},
     "output_type": "execute_result"
    }
   ],
   "source": [
    "np.fliplr(matriz1bis)"
   ]
  },
  {
   "cell_type": "code",
   "execution_count": 363,
   "metadata": {
    "collapsed": false
   },
   "outputs": [
    {
     "data": {
      "text/plain": [
       "array([[-2.03760456, -0.54275283,  0.53221937],\n",
       "       [ 0.30002715,  0.64667905,  1.37838747]])"
      ]
     },
     "execution_count": 363,
     "metadata": {},
     "output_type": "execute_result"
    }
   ],
   "source": [
    "np.flipud(matriz1bis)"
   ]
  },
  {
   "cell_type": "code",
   "execution_count": 97,
   "metadata": {
    "collapsed": false
   },
   "outputs": [
    {
     "data": {
      "text/plain": [
       "(array([ 1.,  2.,  3.]), array([4, 5, 6]))"
      ]
     },
     "execution_count": 97,
     "metadata": {},
     "output_type": "execute_result"
    }
   ],
   "source": [
    "v1,v2"
   ]
  },
  {
   "cell_type": "code",
   "execution_count": 98,
   "metadata": {
    "collapsed": false
   },
   "outputs": [
    {
     "data": {
      "image/png": "[encoded data removed]",
      "text/latex": [
       "$$32.0$$"
      ],
      "text/plain": [
       "32.0"
      ]
     },
     "execution_count": 98,
     "metadata": {},
     "output_type": "execute_result"
    }
   ],
   "source": [
    "np.dot(v1,v2)   # este sería el producto escalar de vectores"
   ]
  },
  {
   "cell_type": "code",
   "execution_count": 99,
   "metadata": {
    "collapsed": false
   },
   "outputs": [
    {
     "data": {
      "image/png": "[encoded data removed]",
      "text/latex": [
       "$$32.0$$"
      ],
      "text/plain": [
       "32.0"
      ]
     },
     "execution_count": 99,
     "metadata": {},
     "output_type": "execute_result"
    }
   ],
   "source": [
    "np.inner(v1,v2) # y esta sería una manera equivalente de hacerlo"
   ]
  },
  {
   "cell_type": "code",
   "execution_count": 102,
   "metadata": {
    "collapsed": false
   },
   "outputs": [
    {
     "data": {
      "text/plain": [
       "array([[ 2.78910489,  0.71231856],\n",
       "       [ 0.71231856,  3.85135732]])"
      ]
     },
     "execution_count": 102,
     "metadata": {},
     "output_type": "execute_result"
    }
   ],
   "source": [
    "np.dot(matriz1bis,matriz1bisT)  # también sirve para multiplicar \n",
    "# matrices con las dimensiones adecuadas"
   ]
  },
  {
   "cell_type": "code",
   "execution_count": 103,
   "metadata": {
    "collapsed": false
   },
   "outputs": [
    {
     "data": {
      "text/plain": [
       "array([-1.22496012,  5.84337718])"
      ]
     },
     "execution_count": 103,
     "metadata": {},
     "output_type": "execute_result"
    }
   ],
   "source": [
    "np.dot(matriz1bis,v1)  # y por supuesto matrices y vectores"
   ]
  },
  {
   "cell_type": "code",
   "execution_count": 104,
   "metadata": {
    "collapsed": false
   },
   "outputs": [
    {
     "data": {
      "text/plain": [
       "array([-3.,  6., -3.])"
      ]
     },
     "execution_count": 104,
     "metadata": {},
     "output_type": "execute_result"
    }
   ],
   "source": [
    "np.cross(v1,v2)  # este sería el producto vectorial de vectores"
   ]
  },
  {
   "cell_type": "code",
   "execution_count": 105,
   "metadata": {
    "collapsed": false
   },
   "outputs": [
    {
     "data": {
      "text/plain": [
       "array([[  4.,   5.,   6.],\n",
       "       [  8.,  10.,  12.],\n",
       "       [ 12.,  15.,  18.]])"
      ]
     },
     "execution_count": 105,
     "metadata": {},
     "output_type": "execute_result"
    }
   ],
   "source": [
    "np.outer(v1,v2)  # producto exterior de vectores"
   ]
  },
  {
   "cell_type": "code",
   "execution_count": 107,
   "metadata": {
    "collapsed": false
   },
   "outputs": [
    {
     "data": {
      "text/plain": [
       "array([[[[ 2.74980204,  0.35405104],\n",
       "         [ 0.10701103, -0.17669178],\n",
       "         [-0.31084356, -3.2301545 ]],\n",
       "\n",
       "        [[ 0.10701103,  0.01377822],\n",
       "         [ 0.00416443, -0.00687612],\n",
       "         [-0.01209676, -0.12570438]],\n",
       "\n",
       "        [[-0.31084356, -0.04002269],\n",
       "         [-0.01209676,  0.01997362],\n",
       "         [ 0.03513843,  0.36514364]]],\n",
       "\n",
       "\n",
       "       [[[ 0.35405104,  0.04558588],\n",
       "         [ 0.01377822, -0.02274997],\n",
       "         [-0.04002269, -0.41589887]],\n",
       "\n",
       "        [[-0.17669178, -0.02274997],\n",
       "         [-0.00687612,  0.01135354],\n",
       "         [ 0.01997362,  0.2075574 ]],\n",
       "\n",
       "        [[-3.2301545 , -0.41589887],\n",
       "         [-0.12570438,  0.2075574 ],\n",
       "         [ 0.36514364,  3.7944179 ]]]])"
      ]
     },
     "execution_count": 107,
     "metadata": {},
     "output_type": "execute_result"
    }
   ],
   "source": [
    "np.tensordot(matriz1bis,matriz1bisT,0) # producto tensorial \n",
    "# de matrices según la dimensión indicada"
   ]
  },
  {
   "cell_type": "code",
   "execution_count": 108,
   "metadata": {
    "collapsed": false
   },
   "outputs": [
    {
     "data": {
      "text/plain": [
       "array([[ 2.78910489,  0.71231856],\n",
       "       [ 0.71231856,  3.85135732]])"
      ]
     },
     "execution_count": 108,
     "metadata": {},
     "output_type": "execute_result"
    }
   ],
   "source": [
    "np.tensordot(matriz1bis,matriz1bisT,1) # nótese la diferencia cuando\n",
    "# cambiamos el índice '0' por el '1'"
   ]
  },
  {
   "cell_type": "code",
   "execution_count": 109,
   "metadata": {
    "collapsed": false
   },
   "outputs": [
    {
     "data": {
      "text/plain": [
       "array([[ 0.75475945,  0.17883763, -0.14475289,  0.02937215,  0.00695963,\n",
       "        -0.00563319, -0.08531964, -0.02021619,  0.01636318],\n",
       "       [-0.46492589,  0.85932406,  0.50424052, -0.01809301,  0.03344137,\n",
       "         0.01962298,  0.05255623, -0.09713985, -0.05700044],\n",
       "       [ 0.09717913,  0.02302626, -0.01863767, -0.04849796, -0.01149142,\n",
       "         0.00930127, -0.88660551, -0.21007809,  0.17003922],\n",
       "       [-0.05986158,  0.11064236,  0.06492354,  0.02987436, -0.05521688,\n",
       "        -0.03240057,  0.54614202, -1.00943612, -0.59232438]])"
      ]
     },
     "execution_count": 109,
     "metadata": {},
     "output_type": "execute_result"
    }
   ],
   "source": [
    "np.kron(matriz1bis,matriz2bis)"
   ]
  },
  {
   "cell_type": "code",
   "execution_count": 294,
   "metadata": {
    "collapsed": false
   },
   "outputs": [],
   "source": [
    "?np.einsum"
   ]
  },
  {
   "cell_type": "markdown",
   "metadata": {},
   "source": [
    "### Normas matriciales y vectoriales"
   ]
  },
  {
   "cell_type": "markdown",
   "metadata": {},
   "source": [
    "En el siguiente link podrá consultar información relevante acerca de las posibilidades de calcular con Python tanto [normas matriciales](https://docs.scipy.org/doc/numpy-1.10.4/reference/generated/numpy.linalg.norm.html) así como el [número de condición](https://docs.scipy.org/doc/numpy-1.10.1/reference/generated/numpy.linalg.cond.html) de una matriz cuadrada inversible."
   ]
  },
  {
   "cell_type": "code",
   "execution_count": 116,
   "metadata": {
    "collapsed": false
   },
   "outputs": [
    {
     "data": {
      "image/png": "[encoded data removed]",
      "text/latex": [
       "$$\\left ( 3.01501737298, \\quad 3.01501737298\\right )$$"
      ],
      "text/plain": [
       "(3.01501737298, 3.01501737298)"
      ]
     },
     "execution_count": 116,
     "metadata": {},
     "output_type": "execute_result"
    }
   ],
   "source": [
    "np.linalg.norm(matriz1),np.linalg.norm(matriz1.T)"
   ]
  },
  {
   "cell_type": "code",
   "execution_count": 117,
   "metadata": {
    "collapsed": false
   },
   "outputs": [
    {
     "data": {
      "image/png": "[encoded data removed]",
      "text/latex": [
       "$$\\left ( 3.39060131825, \\quad 1.11206919387\\right )$$"
      ],
      "text/plain": [
       "(3.39060131825, 1.11206919387)"
      ]
     },
     "execution_count": 117,
     "metadata": {},
     "output_type": "execute_result"
    }
   ],
   "source": [
    "np.linalg.norm(matriz1,np.inf),np.linalg.norm(matriz1,-np.inf)"
   ]
  },
  {
   "cell_type": "code",
   "execution_count": 118,
   "metadata": {
    "collapsed": false
   },
   "outputs": [
    {
     "data": {
      "image/png": "[encoded data removed]",
      "text/latex": [
       "$$\\left ( 3.01501737298, \\quad 3.38263848162\\right )$$"
      ],
      "text/plain": [
       "(3.01501737298, 3.38263848162)"
      ]
     },
     "execution_count": 118,
     "metadata": {},
     "output_type": "execute_result"
    }
   ],
   "source": [
    "np.linalg.norm(matriz1,'fro'),np.linalg.norm(matriz1,1)"
   ]
  },
  {
   "cell_type": "code",
   "execution_count": 119,
   "metadata": {
    "collapsed": false
   },
   "outputs": [
    {
     "data": {
      "text/plain": [
       "array([ 1.61601402,  3.38263848,  1.98865053])"
      ]
     },
     "execution_count": 119,
     "metadata": {},
     "output_type": "execute_result"
    }
   ],
   "source": [
    "np.linalg.norm(matriz1,1, axis = 0)"
   ]
  },
  {
   "cell_type": "code",
   "execution_count": 120,
   "metadata": {
    "collapsed": false
   },
   "outputs": [
    {
     "data": {
      "text/plain": [
       "array([ 2.48463251,  1.11206919,  3.39060132])"
      ]
     },
     "execution_count": 120,
     "metadata": {},
     "output_type": "execute_result"
    }
   ],
   "source": [
    "np.linalg.norm(matriz1,1, axis = 1)"
   ]
  },
  {
   "cell_type": "code",
   "execution_count": 121,
   "metadata": {
    "collapsed": false
   },
   "outputs": [
    {
     "data": {
      "text/plain": [
       "(array([ 0.86436975, -1.61186115, -0.00840161]), 2.4846325136338065)"
      ]
     },
     "execution_count": 121,
     "metadata": {},
     "output_type": "execute_result"
    }
   ],
   "source": [
    "matriz1[0], np.linalg.norm(matriz1[0], 1)"
   ]
  },
  {
   "cell_type": "code",
   "execution_count": 122,
   "metadata": {
    "collapsed": false
   },
   "outputs": [
    {
     "data": {
      "text/plain": [
       "(array([ 0.86436975, -1.61186115, -0.00840161]), 1.1120691938684506)"
      ]
     },
     "execution_count": 122,
     "metadata": {},
     "output_type": "execute_result"
    }
   ],
   "source": [
    "matriz1[0], np.linalg.norm(matriz1[1], 1)"
   ]
  },
  {
   "cell_type": "code",
   "execution_count": 123,
   "metadata": {
    "collapsed": false
   },
   "outputs": [
    {
     "data": {
      "image/png": "[encoded data removed]",
      "text/latex": [
       "$$3.38263848162$$"
      ],
      "text/plain": [
       "3.38263848162"
      ]
     },
     "execution_count": 123,
     "metadata": {},
     "output_type": "execute_result"
    }
   ],
   "source": [
    "np.linalg.norm(matriz1, 1, axis = (0,1))"
   ]
  },
  {
   "cell_type": "code",
   "execution_count": 124,
   "metadata": {
    "collapsed": false
   },
   "outputs": [
    {
     "data": {
      "image/png": "[encoded data removed]",
      "text/latex": [
       "$$3.39060131825$$"
      ],
      "text/plain": [
       "3.39060131825"
      ]
     },
     "execution_count": 124,
     "metadata": {},
     "output_type": "execute_result"
    }
   ],
   "source": [
    "np.linalg.norm(matriz1, 1, axis = (1,0))"
   ]
  },
  {
   "cell_type": "code",
   "execution_count": 156,
   "metadata": {
    "collapsed": false
   },
   "outputs": [
    {
     "data": {
      "image/png": "[encoded data removed]",
      "text/latex": [
       "$$\\left ( 19.6400006086, \\quad 19.6400006086\\right )$$"
      ],
      "text/plain": [
       "(19.6400006086, 19.6400006086)"
      ]
     },
     "execution_count": 156,
     "metadata": {},
     "output_type": "execute_result"
    }
   ],
   "source": [
    "np.linalg.cond(matriz1,np.inf),np.linalg.cond(matriz1inv,np.inf)\n",
    "# comprobamos cómo el número de condición (en este caso con la norma\n",
    "# del infinito) de una matriz coincide con el de su traspuesta"
   ]
  },
  {
   "cell_type": "code",
   "execution_count": 157,
   "metadata": {
    "collapsed": false
   },
   "outputs": [
    {
     "data": {
      "image/png": "[encoded data removed]",
      "text/latex": [
       "$$\\left ( 3.39060131825, \\quad 5.79248303329\\right )$$"
      ],
      "text/plain": [
       "(3.39060131825, 5.79248303329)"
      ]
     },
     "execution_count": 157,
     "metadata": {},
     "output_type": "execute_result"
    }
   ],
   "source": [
    "np.linalg.norm(matriz1,np.inf),np.linalg.norm(matriz1inv,np.inf)\n",
    "# he aquí las correspondientes normas de la matriz y de su inversa"
   ]
  },
  {
   "cell_type": "code",
   "execution_count": 155,
   "metadata": {
    "collapsed": false
   },
   "outputs": [
    {
     "data": {
      "image/png": "[encoded data removed]",
      "text/latex": [
       "$$19.6400006086$$"
      ],
      "text/plain": [
       "19.6400006086"
      ]
     },
     "execution_count": 155,
     "metadata": {},
     "output_type": "execute_result"
    }
   ],
   "source": [
    "np.linalg.norm(matriz1,np.inf)*np.linalg.norm(matriz1inv,np.inf)\n",
    "# de manera que su producto da lugar a su número de condición "
   ]
  },
  {
   "cell_type": "code",
   "execution_count": 158,
   "metadata": {
    "collapsed": false
   },
   "outputs": [
    {
     "data": {
      "image/png": "[encoded data removed]",
      "text/latex": [
       "$$\\left ( 13.5870385968, \\quad 23.281889486\\right )$$"
      ],
      "text/plain": [
       "(13.5870385968, 23.281889486)"
      ]
     },
     "execution_count": 158,
     "metadata": {},
     "output_type": "execute_result"
    }
   ],
   "source": [
    "np.linalg.cond(matriz1,2),np.linalg.cond(matriz1,1)\n",
    "# He aquí los números de condición de la misma matriz\n",
    "# asociados a otras normas habituales  "
   ]
  },
  {
   "cell_type": "code",
   "execution_count": 136,
   "metadata": {
    "collapsed": false
   },
   "outputs": [
    {
     "data": {
      "image/png": "[encoded data removed]",
      "text/latex": [
       "$$43.2639649145$$"
      ],
      "text/plain": [
       "43.2639649145"
      ]
     },
     "execution_count": 136,
     "metadata": {},
     "output_type": "execute_result"
    }
   ],
   "source": [
    "np.linalg.cond(matriz2) # a mayor número de condición, peor \n",
    "# condicionado estará el problema de resolución de cualquier \n",
    "# sistema lineal asociado con dicha matriz"
   ]
  },
  {
   "cell_type": "code",
   "execution_count": 138,
   "metadata": {
    "collapsed": false
   },
   "outputs": [
    {
     "data": {
      "image/png": "[encoded data removed]",
      "text/latex": [
       "$$\\left ( 53.2156633846, \\quad 75.6290581723\\right )$$"
      ],
      "text/plain": [
       "(53.2156633846, 75.6290581723)"
      ]
     },
     "execution_count": 138,
     "metadata": {},
     "output_type": "execute_result"
    }
   ],
   "source": [
    "np.linalg.cond(matriz2,np.inf),np.linalg.cond(matriz2,1)"
   ]
  },
  {
   "cell_type": "markdown",
   "metadata": {},
   "source": [
    "## Ejercicios"
   ]
  },
  {
   "cell_type": "markdown",
   "metadata": {},
   "source": [
    "1.- Considere la siguiente matriz cuadrada\n",
    "\n",
    "$$\n",
    "A=\\left(\n",
    "\\begin{array}{cccc}\n",
    " 2 & 4 & 3 & 1 \\\\\n",
    " 5 & 6 & 4 & 3 \\\\\n",
    " 7 & 3 & 1 & 9 \\\\\n",
    " 2 & 3 & 2 & 1 \\\\\n",
    "\\end{array}\n",
    "\\right).$$\n",
    "\n",
    "Halle su traspuesta, su determinante y su rango. ¿Es invertible? En caso afirmativo, halle su inversa. Asimismo, determine las matrices $A^2$ y $A^3$. \n",
    "\n",
    "2.- Calcule las $p$-normas (con $p=1,2,\\infty$) de la matriz anterior con las órdenes directas de Python indicadas. \n",
    "\n",
    "3.- Calcule también el número de condicionamiento de dicha matriz a la hora de resolver sistemas lineales. Para ello emplee la orden directa de Python indicada."
   ]
  }
 ],
 "metadata": {
  "anaconda-cloud": {},
  "kernelspec": {
   "display_name": "Python [default]",
   "language": "python",
   "name": "python3"
  },
  "language_info": {
   "codemirror_mode": {
    "name": "ipython",
    "version": 3
   },
   "file_extension": ".py",
   "mimetype": "text/x-python",
   "name": "python",
   "nbconvert_exporter": "python",
   "pygments_lexer": "ipython3",
   "version": "3.5.2"
  }
 },
 "nbformat": 4,
 "nbformat_minor": 1
}
