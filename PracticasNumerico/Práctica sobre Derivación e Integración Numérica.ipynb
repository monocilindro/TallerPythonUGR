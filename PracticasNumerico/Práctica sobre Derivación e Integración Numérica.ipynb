{
 "cells": [
  {
   "cell_type": "markdown",
   "metadata": {},
   "source": [
    "# Fórmulas de Derivación e Integración Numérica"
   ]
  },
  {
   "cell_type": "markdown",
   "metadata": {},
   "source": [
    "Autor: Pedro González Rodelas\n",
    "\n",
    "Fecha de la primera versión: 08/09/2017\n",
    "\n",
    "Sucesivas revisiones: 22/09/2017, 12/09/2018\n",
    "\n",
    "Fecha de la última revisión: 13/09/2018\n",
    "\n",
    "Notebook adaptado y extendido a partir del notebook original de Mathematica incluido en el libro \"Análisis Numérico con Mathematica\" de Ariel Ciencia. ISBN: 84-344-8036-0. Dep. Legal: B.31.425-2001."
   ]
  },
  {
   "cell_type": "markdown",
   "metadata": {},
   "source": [
    "En esta práctica nos ocuparemos de los métodos y algoritmos habituales para la derivación y la integración numéricas. Fundamentalmente nos centraremos en las fórmulas de tipo interpolatorio, que asumen que derivaremos o integraremos el correspondiente polinomio que interpole a la función en los nodos usados en la fórmula. En particular destacaremos las fórmulas que usan nodos equidistantes para la derivación aproximada, y revisaremos las fórmulas de integración numérica de Newton-Cotes más habituales (de los rectángulos, trapecios, Simpson, etc.), tanto en su versión simple como en sus versiones compuestas. También se presentarán fórmulas algo más avanzadas, como la integración de Romberg y las fórmulas de cuadratura gaussiana."
   ]
  },
  {
   "cell_type": "markdown",
   "metadata": {},
   "source": [
    "## Carga de los módulos y Definición de ciertas funciones empleadas"
   ]
  },
  {
   "cell_type": "markdown",
   "metadata": {},
   "source": [
    "Antes de empezar a realizar cualquier cálculo numérico o simbólico debemos de cargar los correspondientes módulos de Python que implementan la mayoría de funciones y procedimientos necesarios para ello: NumPy y SymPy, que serán cargados con los pseudónimos habituales: np y sp, respectivamente. Además cargaremos la función del módulo random que nos permitirá generar números aleatorios, cada vez que los necesitemos."
   ]
  },
  {
   "cell_type": "code",
   "execution_count": 1,
   "metadata": {
    "collapsed": true
   },
   "outputs": [],
   "source": [
    "import numpy as np # Importamos el módulo NumPy con el pseudónimo np\n",
    "import sympy as sp # Importamos el módulo SymPy con el pseudónimo sp\n",
    "sp.init_printing() # con esta opción obtendremos bonitas fórmulas en la pantalla"
   ]
  },
  {
   "cell_type": "code",
   "execution_count": 2,
   "metadata": {
    "collapsed": false
   },
   "outputs": [],
   "source": [
    "# Aquí importaremos dentro del módulo de gráficos Matplotlib el submódulo\n",
    "import matplotlib.pyplot as plt  #  Pyplot con el pseudónimo plt\n",
    "# usaremos una opción para poder visualizar los gráficos incrustados \n",
    "%matplotlib inline               \n",
    "#  en línea dentro de este mismo notebook"
   ]
  },
  {
   "cell_type": "code",
   "execution_count": 3,
   "metadata": {
    "collapsed": true
   },
   "outputs": [],
   "source": [
    "from random import random \n",
    "# Importamos la función generadora de números pseudoaleatorios"
   ]
  },
  {
   "cell_type": "markdown",
   "metadata": {},
   "source": [
    "También definiremos cierta función propia, `mychop`, que nos permitirá cambiar por $0$ cualquier valor bastante pequeño que obtengamos, después de ciertos cálculos que involucren errores de redondeo, propios del cálculo con números en coma flotante. A su vez usaremos una versión vectorizada de la misma, que podremos aplicar a cualquier lista, tupla o array con valores numéricos en coma flotante."
   ]
  },
  {
   "cell_type": "code",
   "execution_count": 4,
   "metadata": {
    "collapsed": true
   },
   "outputs": [],
   "source": [
    "def mychop(expr, *, max=10**(-15)): \n",
    "    if abs(expr) > max:\n",
    "      return expr \n",
    "    else:\n",
    "      return 0"
   ]
  },
  {
   "cell_type": "code",
   "execution_count": 5,
   "metadata": {
    "collapsed": true
   },
   "outputs": [],
   "source": [
    "chop_vec = np.vectorize(mychop)"
   ]
  },
  {
   "cell_type": "code",
   "execution_count": 6,
   "metadata": {
    "collapsed": false
   },
   "outputs": [
    {
     "data": {
      "text/plain": [
       "array([  1.00000000e-14,   0.00000000e+00,   0.00000000e+00])"
      ]
     },
     "execution_count": 6,
     "metadata": {},
     "output_type": "execute_result"
    }
   ],
   "source": [
    "chop_vec([10**(-14),10**(-15),10**(-16)])"
   ]
  },
  {
   "cell_type": "markdown",
   "metadata": {},
   "source": [
    "## Obtención de fórmulas de tipo interpolatorio"
   ]
  },
  {
   "cell_type": "markdown",
   "metadata": {},
   "source": [
    "Para obtener fórmulas de derivación o integración numéricas a partir de la interpolación polinómica necesitamos calcular, en primer lugar, el polinomio de interpolación y después la derivada correspondiente en un punto $a$ o la integral en un intervalo $[a,b]$. En lo que respecta a la derivación numérica, consideraremos distintos órdenes de derivación. Los datos de interpolación para las fórmulas de derivación numérica podrán ser lagrangianos fundamentalmente, aunque para las fórmulas de integración numérica también podrían ser de tipo Hermite. Así pues la idea detrás de todas estas fórmulas de tipo interpolatorio será la de obtener en primer lugar el correspondiente polinomio interpolador (satisfaciendo los datos indicados) y posteriormente aplicarle la derivada o integral a dicho polinomio en vez de a la función, para obtener así la correspondiente fórmula numérica. Es decir $$\\mathcal{L}(f)\\simeq\\mathcal{L}(p) $$\n",
    "donde $p$ es el polinomio que interpola a $f$ en los datos concretos indicados."
   ]
  },
  {
   "cell_type": "markdown",
   "metadata": {},
   "source": [
    "### Obtención de fórmulas de derivación numérica"
   ]
  },
  {
   "cell_type": "markdown",
   "metadata": {},
   "source": [
    "En las fórmulas de derivación numérica, los nodos que intervienen, es decir los puntos de interpolación de la función $f$, suelen ser\n",
    "el punto $a$ y/o ciertos puntos cercanos a su derecha e/o izquierda, de la forma $a\\pm h$, $a\\pm 2h$, etc. \n",
    "\n",
    "Las primeras fórmulas que vamos a obtener son las que utilizan los nodos $a$ y $a+h$, o $a-h$, para la derivada primera."
   ]
  },
  {
   "cell_type": "code",
   "execution_count": 231,
   "metadata": {
    "collapsed": false
   },
   "outputs": [],
   "source": [
    "f = sp.Function('f')\n",
    "a,h = sp.symbols('a,h')\n",
    "x = [a,a+h]"
   ]
  },
  {
   "cell_type": "code",
   "execution_count": 232,
   "metadata": {
    "collapsed": true
   },
   "outputs": [],
   "source": [
    "y = [f(x[0]),f(x[1])]"
   ]
  },
  {
   "cell_type": "code",
   "execution_count": 233,
   "metadata": {
    "collapsed": false
   },
   "outputs": [
    {
     "data": {
      "image/png": "[encoded data removed]",
      "text/latex": [
       "$$f{\\left (a \\right )} + \\frac{1}{h} \\left(- a + z\\right) \\left(- f{\\left (a \\right )} + f{\\left (a + h \\right )}\\right)$$"
      ],
      "text/plain": [
       "       (-a + z)⋅(-f(a) + f(a + h))\n",
       "f(a) + ───────────────────────────\n",
       "                    h             "
      ]
     },
     "execution_count": 233,
     "metadata": {},
     "output_type": "execute_result"
    }
   ],
   "source": [
    "z = sp.Symbol('z')  # utilizaremos z como variable simbólica\n",
    "p = (y[1]-y[0])/(x[1]-x[0])*(z-x[0])+y[0]\n",
    "p  # este sería el polinomio interpolador de grado $1$"
   ]
  },
  {
   "cell_type": "code",
   "execution_count": 234,
   "metadata": {
    "collapsed": false
   },
   "outputs": [
    {
     "data": {
      "image/png": "[encoded data removed]",
      "text/latex": [
       "$$\\left ( f{\\left (a \\right )}, \\quad f{\\left (a + h \\right )}\\right )$$"
      ],
      "text/plain": [
       "(f(a), f(a + h))"
      ]
     },
     "execution_count": 234,
     "metadata": {},
     "output_type": "execute_result"
    }
   ],
   "source": [
    "p.subs({z:x[0]}),p.subs({z:x[1]}) #  mera comprobación"
   ]
  },
  {
   "cell_type": "markdown",
   "metadata": {},
   "source": [
    "Derivemos ahora simbólicamente dicho polinomio, para ver cúal sería su derivada de primer orden"
   ]
  },
  {
   "cell_type": "code",
   "execution_count": 235,
   "metadata": {
    "collapsed": false
   },
   "outputs": [
    {
     "data": {
      "image/png": "[encoded data removed]",
      "text/latex": [
       "$$\\frac{1}{h} \\left(- f{\\left (a \\right )} + f{\\left (a + h \\right )}\\right)$$"
      ],
      "text/plain": [
       "-f(a) + f(a + h)\n",
       "────────────────\n",
       "       h        "
      ]
     },
     "execution_count": 235,
     "metadata": {},
     "output_type": "execute_result"
    }
   ],
   "source": [
    "sp.diff(p,z)"
   ]
  },
  {
   "cell_type": "markdown",
   "metadata": {},
   "source": [
    "Esta será pues la fórmula de derivación numérica obtenida a partir de estos datos de interpolación $(a,f(a))$ y $(a+h,f(a+h))$\n",
    "\n",
    "$\\mathcal{L}(f)\\equiv f'(a) \\simeq p'(a) = \\frac{f(a+h)-f(a)}{h}$"
   ]
  },
  {
   "cell_type": "markdown",
   "metadata": {},
   "source": [
    "**Ejercicio:** Pruebe ahora a repetir el mismo proceso, pero con los datos de interpolación  $(a-h,f(a-h))$ y $(a,f(a))$ por un lado y $(a-h,f(a-h))$ junto con $(a+h,f(a+h))$ por otro. ¿Qué fórmulas de derivación numérica se obtiene en cada caso?"
   ]
  },
  {
   "cell_type": "markdown",
   "metadata": {},
   "source": [
    "A continuación vamos a usar tres nodos en vez de dos, empecemos por ejemplo con $a-h$, $a$ y $a+h$ para la derivada primera. Este tipo de fómulas que emplean de manera simétrica puntos a ambos lados del punto de derivación se suelen denominar *centradas*."
   ]
  },
  {
   "cell_type": "code",
   "execution_count": 236,
   "metadata": {
    "collapsed": false
   },
   "outputs": [
    {
     "data": {
      "image/png": "[encoded data removed]",
      "text/latex": [
       "$$\\left [ f{\\left (a - h \\right )}, \\quad f{\\left (a \\right )}, \\quad f{\\left (a + h \\right )}\\right ]$$"
      ],
      "text/plain": [
       "[f(a - h), f(a), f(a + h)]"
      ]
     },
     "execution_count": 236,
     "metadata": {},
     "output_type": "execute_result"
    }
   ],
   "source": [
    "x = [a-h,a,a+h]  # estos serán los nodos de interpolación\n",
    "y = [f(x[0]),f(x[1]),f(x[2])]  # y los valores interpolados\n",
    "y"
   ]
  },
  {
   "cell_type": "code",
   "execution_count": 237,
   "metadata": {
    "collapsed": true
   },
   "outputs": [],
   "source": [
    "p0 = y[0]  # vamos a ir construyendo el polinomio de interpolación\n",
    "p1 = p0 + (z-x[0])/(x[1]-x[0])*(y[1]-y[0]) # usando la idea de Newton"
   ]
  },
  {
   "cell_type": "code",
   "execution_count": 238,
   "metadata": {
    "collapsed": false
   },
   "outputs": [
    {
     "data": {
      "image/png": "[encoded data removed]",
      "text/latex": [
       "$$D \\left(- a + z\\right) \\left(- a + h + z\\right) + f{\\left (a - h \\right )} + \\frac{1}{h} \\left(f{\\left (a \\right )} - f{\\left (a - h \\right )}\\right) \\left(- a + h + z\\right)$$"
      ],
      "text/plain": [
       "                                     (f(a) - f(a - h))⋅(-a + h + z)\n",
       "D⋅(-a + z)⋅(-a + h + z) + f(a - h) + ──────────────────────────────\n",
       "                                                   h               "
      ]
     },
     "execution_count": 238,
     "metadata": {},
     "output_type": "execute_result"
    }
   ],
   "source": [
    "D = sp.Symbol('D')   # D será la correspondiente diferencia dividida\n",
    "p2 = p1 + (z-x[0])*(z-x[1])*D # D = f[x0,x1,x2]\n",
    "p2  # ya tenemos la expresión genérica de dicho polinomio de grado 2"
   ]
  },
  {
   "cell_type": "code",
   "execution_count": 239,
   "metadata": {
    "collapsed": false
   },
   "outputs": [
    {
     "data": {
      "text/plain": [
       "(True, True)"
      ]
     },
     "execution_count": 239,
     "metadata": {},
     "output_type": "execute_result"
    }
   ],
   "source": [
    "p2.subs({z:x[0]})==y[0],p2.subs({z:x[1]})==y[1] \n",
    "# que interpola y0 e y1, "
   ]
  },
  {
   "cell_type": "code",
   "execution_count": 240,
   "metadata": {
    "collapsed": false
   },
   "outputs": [
    {
     "data": {
      "image/png": "[encoded data removed]",
      "text/latex": [
       "$$\\left [ \\frac{1}{2 h^{2}} \\left(- 2 f{\\left (a \\right )} + f{\\left (a - h \\right )} + f{\\left (a + h \\right )}\\right)\\right ]$$"
      ],
      "text/plain": [
       "⎡-2⋅f(a) + f(a - h) + f(a + h)⎤\n",
       "⎢─────────────────────────────⎥\n",
       "⎢                2            ⎥\n",
       "⎣             2⋅h             ⎦"
      ]
     },
     "execution_count": 240,
     "metadata": {},
     "output_type": "execute_result"
    }
   ],
   "source": [
    "# pero también tenemos aún que garantizar que p(x2) = y2\n",
    "sol2=sp.solve(p2.subs({z:x[2]})-y[2],D)  # para ello resolvemos\n",
    "sol2    # la ecuación correspondiente y despejamos el valor de D"
   ]
  },
  {
   "cell_type": "code",
   "execution_count": 241,
   "metadata": {
    "collapsed": false
   },
   "outputs": [
    {
     "data": {
      "image/png": "[encoded data removed]",
      "text/latex": [
       "$$f{\\left (a - h \\right )} + \\frac{1}{h} \\left(f{\\left (a \\right )} - f{\\left (a - h \\right )}\\right) \\left(- a + h + z\\right) + \\frac{1}{2 h^{2}} \\left(- a + z\\right) \\left(- a + h + z\\right) \\left(- 2 f{\\left (a \\right )} + f{\\left (a - h \\right )} + f{\\left (a + h \\right )}\\right)$$"
      ],
      "text/plain": [
       "           (f(a) - f(a - h))⋅(-a + h + z)   (-a + z)⋅(-a + h + z)⋅(-2⋅f(a) + f\n",
       "f(a - h) + ────────────────────────────── + ──────────────────────────────────\n",
       "                         h                                              2     \n",
       "                                                                     2⋅h      \n",
       "\n",
       "(a - h) + f(a + h))\n",
       "───────────────────\n",
       "                   \n",
       "                   "
      ]
     },
     "execution_count": 241,
     "metadata": {},
     "output_type": "execute_result"
    }
   ],
   "source": [
    "D = sol2[0]\n",
    "p2 = p1 + (z-x[0])*(z-x[1])*D\n",
    "p2  # para obtener el polinomio final de interpolación"
   ]
  },
  {
   "cell_type": "code",
   "execution_count": 242,
   "metadata": {
    "collapsed": false
   },
   "outputs": [
    {
     "data": {
      "image/png": "[encoded data removed]",
      "text/latex": [
       "$$- \\frac{a^{2}}{h^{2}} f{\\left (a \\right )} + \\frac{a^{2}}{2 h^{2}} f{\\left (a - h \\right )} + \\frac{a^{2}}{2 h^{2}} f{\\left (a + h \\right )} + \\frac{a}{2 h} f{\\left (a - h \\right )} - \\frac{a}{2 h} f{\\left (a + h \\right )} + \\frac{2 a}{h^{2}} z f{\\left (a \\right )} - \\frac{a z}{h^{2}} f{\\left (a - h \\right )} - \\frac{a z}{h^{2}} f{\\left (a + h \\right )} + f{\\left (a \\right )} - \\frac{z}{2 h} f{\\left (a - h \\right )} + \\frac{z}{2 h} f{\\left (a + h \\right )} - \\frac{z^{2}}{h^{2}} f{\\left (a \\right )} + \\frac{z^{2}}{2 h^{2}} f{\\left (a - h \\right )} + \\frac{z^{2}}{2 h^{2}} f{\\left (a + h \\right )}$$"
      ],
      "text/plain": [
       "   2         2             2                                                  \n",
       "  a ⋅f(a)   a ⋅f(a - h)   a ⋅f(a + h)   a⋅f(a - h)   a⋅f(a + h)   2⋅a⋅z⋅f(a)  \n",
       "- ─────── + ─────────── + ─────────── + ────────── - ────────── + ────────── -\n",
       "      2            2             2         2⋅h          2⋅h            2      \n",
       "     h          2⋅h           2⋅h                                     h       \n",
       "\n",
       "                                                                 2         2  \n",
       " a⋅z⋅f(a - h)   a⋅z⋅f(a + h)          z⋅f(a - h)   z⋅f(a + h)   z ⋅f(a)   z ⋅f\n",
       " ──────────── - ──────────── + f(a) - ────────── + ────────── - ─────── + ────\n",
       "       2              2                  2⋅h          2⋅h           2         \n",
       "      h              h                                             h          \n",
       "\n",
       "           2         \n",
       "(a - h)   z ⋅f(a + h)\n",
       "─────── + ───────────\n",
       "   2             2   \n",
       "2⋅h           2⋅h    "
      ]
     },
     "execution_count": 242,
     "metadata": {},
     "output_type": "execute_result"
    }
   ],
   "source": [
    "sp.expand(p2)"
   ]
  },
  {
   "cell_type": "code",
   "execution_count": 243,
   "metadata": {
    "collapsed": false
   },
   "outputs": [
    {
     "data": {
      "text/plain": [
       "True"
      ]
     },
     "execution_count": 243,
     "metadata": {},
     "output_type": "execute_result"
    }
   ],
   "source": [
    "p2.subs({z:x[2]})==y[2] # que también interpola el valor y[2]"
   ]
  },
  {
   "cell_type": "markdown",
   "metadata": {},
   "source": [
    "Ahora para obtener la correspondiente fórmula de derivación numérica, bastará con derivar dicho polinomio respecto de la variable independiente y evaular en el punto donde queremos aproximar la derivada, es decir calculamos $p_2'(a) = \\frac{f(a+h)-f(a-h)}{2h}$. \n",
    "\n",
    "Vemos que resulta una fórmula con sólo dos nodos, uno a cada lado del punto $a$, ya que el coeficiente de $f(a)$ vale cero. Comprobémoslo:"
   ]
  },
  {
   "cell_type": "code",
   "execution_count": 244,
   "metadata": {
    "collapsed": false
   },
   "outputs": [
    {
     "data": {
      "image/png": "[encoded data removed]",
      "text/latex": [
       "$$\\frac{1}{2 h} \\left(- f{\\left (a - h \\right )} + f{\\left (a + h \\right )}\\right)$$"
      ],
      "text/plain": [
       "-f(a - h) + f(a + h)\n",
       "────────────────────\n",
       "        2⋅h         "
      ]
     },
     "execution_count": 244,
     "metadata": {},
     "output_type": "execute_result"
    }
   ],
   "source": [
    "sp.diff(p2,z).subs({z:a}).simplify()"
   ]
  },
  {
   "cell_type": "markdown",
   "metadata": {},
   "source": [
    "Pero al tratarse ahora de un polinomio de interpolación de grado $2$ nada nos impide calcular también su derivada de segundo orden, que nos serviría en este caso como aproximación del correspondiente operador de derivada segunda\n",
    "\n",
    "$$\\mathcal{L}(f)\\equiv f''(a)\\simeq p''(a)$$"
   ]
  },
  {
   "cell_type": "code",
   "execution_count": 21,
   "metadata": {
    "collapsed": false
   },
   "outputs": [
    {
     "data": {
      "image/png": "[encoded data removed]",
      "text/latex": [
       "$$\\frac{1}{h^{2}} \\left(- 2 f{\\left (a \\right )} + f{\\left (a - h \\right )} + f{\\left (a + h \\right )}\\right)$$"
      ],
      "text/plain": [
       "-2⋅f(a) + f(a - h) + f(a + h)\n",
       "─────────────────────────────\n",
       "               2             \n",
       "              h              "
      ]
     },
     "execution_count": 21,
     "metadata": {},
     "output_type": "execute_result"
    }
   ],
   "source": [
    "sp.diff(p2,z,2) # Nótese que en este caso, ni siquiera hemos tenido\n",
    "# que evaluar dicha derivada en el punto x=a, al ser esta constante."
   ]
  },
  {
   "cell_type": "markdown",
   "metadata": {},
   "source": [
    "Por último vamos a obtener también otras fórmulas para la derivada primera o segunda, que sean de tipo *descentrado*, utilizando por ejemplo los nodos $a$, $a+h$ y $a+2h$."
   ]
  },
  {
   "cell_type": "code",
   "execution_count": 22,
   "metadata": {
    "collapsed": false
   },
   "outputs": [
    {
     "data": {
      "image/png": "[encoded data removed]",
      "text/latex": [
       "$$\\left [ f{\\left (a \\right )}, \\quad f{\\left (a + h \\right )}, \\quad f{\\left (a + 2 h \\right )}\\right ]$$"
      ],
      "text/plain": [
       "[f(a), f(a + h), f(a + 2⋅h)]"
      ]
     },
     "execution_count": 22,
     "metadata": {},
     "output_type": "execute_result"
    }
   ],
   "source": [
    "x = [a,a+h,a+2*h]\n",
    "y = [f(x[0]),f(x[1]),f(x[2])]\n",
    "y"
   ]
  },
  {
   "cell_type": "code",
   "execution_count": 23,
   "metadata": {
    "collapsed": false
   },
   "outputs": [
    {
     "data": {
      "image/png": "[encoded data removed]",
      "text/latex": [
       "$$f{\\left (a \\right )} + \\frac{1}{h} \\left(- a + z\\right) \\left(- f{\\left (a \\right )} + f{\\left (a + h \\right )}\\right) + \\frac{1}{2 h^{2}} \\left(- a + z\\right) \\left(- a - h + z\\right) \\left(f{\\left (a \\right )} - 2 f{\\left (a + h \\right )} + f{\\left (a + 2 h \\right )}\\right)$$"
      ],
      "text/plain": [
       "       (-a + z)⋅(-f(a) + f(a + h))   (-a + z)⋅(-a - h + z)⋅(f(a) - 2⋅f(a + h) \n",
       "f(a) + ─────────────────────────── + ─────────────────────────────────────────\n",
       "                    h                                            2            \n",
       "                                                              2⋅h             \n",
       "\n",
       "+ f(a + 2⋅h))\n",
       "─────────────\n",
       "             \n",
       "             "
      ]
     },
     "execution_count": 23,
     "metadata": {},
     "output_type": "execute_result"
    }
   ],
   "source": [
    "p0 = y[0]  # vamos a ir construyendo el polinomio de interpolación\n",
    "p1 = p0 + (z-x[0])/(x[1]-x[0])*(y[1]-y[0]) # igual que antes\n",
    "D = sp.Symbol('D')\n",
    "p2 = p1 + (z-x[0])*(z-x[1])*D\n",
    "sol2 =sp.solve(p2.subs({z:x[2]})-y[2],D)\n",
    "D = sol2[0]\n",
    "p2 = p1 + (z-x[0])*(z-x[1])*D\n",
    "p2  # para obtener el polinomio final de interpolación"
   ]
  },
  {
   "cell_type": "code",
   "execution_count": 24,
   "metadata": {
    "collapsed": false
   },
   "outputs": [
    {
     "data": {
      "image/png": "[encoded data removed]",
      "text/latex": [
       "$$\\frac{1}{2 h} \\left(- 3 f{\\left (a \\right )} + 4 f{\\left (a + h \\right )} - f{\\left (a + 2 h \\right )}\\right)$$"
      ],
      "text/plain": [
       "-3⋅f(a) + 4⋅f(a + h) - f(a + 2⋅h)\n",
       "─────────────────────────────────\n",
       "               2⋅h               "
      ]
     },
     "execution_count": 24,
     "metadata": {},
     "output_type": "execute_result"
    }
   ],
   "source": [
    "sp.diff(p2,z).subs({z:a}).simplify() # he aquí la aproximación de\n",
    "# la derivada primera de la función en el punto x=a"
   ]
  },
  {
   "cell_type": "code",
   "execution_count": 25,
   "metadata": {
    "collapsed": false
   },
   "outputs": [
    {
     "data": {
      "image/png": "[encoded data removed]",
      "text/latex": [
       "$$\\frac{1}{h^{2}} \\left(f{\\left (a \\right )} - 2 f{\\left (a + h \\right )} + f{\\left (a + 2 h \\right )}\\right)$$"
      ],
      "text/plain": [
       "f(a) - 2⋅f(a + h) + f(a + 2⋅h)\n",
       "──────────────────────────────\n",
       "               2              \n",
       "              h               "
      ]
     },
     "execution_count": 25,
     "metadata": {},
     "output_type": "execute_result"
    }
   ],
   "source": [
    "sp.diff(p2,z,2) # y aquí la de la derivada segunda en ese punto"
   ]
  },
  {
   "cell_type": "markdown",
   "metadata": {},
   "source": [
    "Pero si queremos obtener otras *fórmulas centradas* para la derivada segunda, usando ahora por ejemplo cinco nodos simétricos, $a-2h, \\; a-h, \\; a,\n",
    "\\; a+h$ y $a+2h$, deberemos calcular entonces el correspondiente polinomio de interpolación de grado $4$."
   ]
  },
  {
   "cell_type": "markdown",
   "metadata": {},
   "source": [
    "Procedamos como antes, de manera progresiva, calculando lo correspondientes polinomios de interpolación de Newton, interpolando un dato más de Lagrange cada vez."
   ]
  },
  {
   "cell_type": "code",
   "execution_count": 26,
   "metadata": {
    "collapsed": false
   },
   "outputs": [
    {
     "data": {
      "image/png": "[encoded data removed]",
      "text/latex": [
       "$$\\left [ f{\\left (a - 2 h \\right )}, \\quad f{\\left (a - h \\right )}, \\quad f{\\left (a \\right )}, \\quad f{\\left (a + h \\right )}, \\quad f{\\left (a + 2 h \\right )}\\right ]$$"
      ],
      "text/plain": [
       "[f(a - 2⋅h), f(a - h), f(a), f(a + h), f(a + 2⋅h)]"
      ]
     },
     "execution_count": 26,
     "metadata": {},
     "output_type": "execute_result"
    }
   ],
   "source": [
    "x = [a-2*h,a-h,a,a+h,a+2*h] # nodos de interpolación\n",
    "y = [f(x[0]),f(x[1]),f(x[2]),f(x[3]),f(x[4])]\n",
    "y  # valores a interpolar"
   ]
  },
  {
   "cell_type": "code",
   "execution_count": 27,
   "metadata": {
    "collapsed": true
   },
   "outputs": [],
   "source": [
    "p0 = y[0]  # vamos a ir construyendo el polinomio de interpolación\n",
    "p1 = p0 + (z-x[0])/(x[1]-x[0])*(y[1]-y[0]) # igual que antes\n",
    "D1 = sp.Symbol('D1')\n",
    "p2 = p1 + (z-x[0])*(z-x[1])*D1\n",
    "sol1 =sp.solve(p2.subs({z:x[2]})-y[2],D1)\n",
    "D1 = sol1[0]\n",
    "p2 = p1 + (z-x[0])*(z-x[1])*D1\n",
    "D2 = sp.Symbol('D2') \n",
    "p3 = p2 + (z-x[0])*(z-x[1])*(z-x[2])*D2\n",
    "sol2 =sp.solve(p3.subs({z:x[3]})-y[3],D2)\n",
    "D2 = sol2[0]\n",
    "p3 = p2 + (z-x[0])*(z-x[1])*(z-x[2])*D2\n",
    "D3 = sp.Symbol('D3') \n",
    "p4 = p3 + (z-x[0])*(z-x[1])*(z-x[2])*(z-x[3])*D3\n",
    "sol3 =sp.solve(p4.subs({z:x[4]})-y[4],D3)\n",
    "D3 = sol3[0]\n",
    "p4 = p3 + (z-x[0])*(z-x[1])*(z-x[2])*(z-x[3])*D3"
   ]
  },
  {
   "cell_type": "code",
   "execution_count": 28,
   "metadata": {
    "collapsed": false
   },
   "outputs": [
    {
     "data": {
      "image/png": "[encoded data removed]",
      "text/latex": [
       "$$\\frac{1}{12 h^{2}} \\left(- 30 f{\\left (a \\right )} - f{\\left (a - 2 h \\right )} + 16 f{\\left (a - h \\right )} + 16 f{\\left (a + h \\right )} - f{\\left (a + 2 h \\right )}\\right)$$"
      ],
      "text/plain": [
       "-30⋅f(a) - f(a - 2⋅h) + 16⋅f(a - h) + 16⋅f(a + h) - f(a + 2⋅h)\n",
       "──────────────────────────────────────────────────────────────\n",
       "                                2                             \n",
       "                            12⋅h                              "
      ]
     },
     "execution_count": 28,
     "metadata": {},
     "output_type": "execute_result"
    }
   ],
   "source": [
    "formula=sp.diff(p4,z,2).subs({z:a}).simplify() # esta será la fórmula\n",
    "# obtenida esta vez para aproximar la derivada segunda f''(a)\n",
    "formula"
   ]
  },
  {
   "cell_type": "markdown",
   "metadata": {},
   "source": [
    "Y de igual forma se obtendría cualquier otra fórmula de derivación numérica de tipo interpolatorio. La cuestión será obtener primero el correspondiente polinomio de interpolación, usando la fórmula o el procedimiento simbólico que consideremos más oportuno, y después derivar dicho polinomio, también simbólicamente, antes de evaluar en el punto en cuestión donde queremos aproximar la derivada, tal y cómo hemos hecho en los ejemplos anteriores."
   ]
  },
  {
   "cell_type": "markdown",
   "metadata": {},
   "source": [
    "A continuación vamos a analizar otra de las cuestiones importantes que tienen que ver con este tipo de fórmulas, *el orden o grado de exactitud* de la misma (se presupone que para funciones de tipo polinómico). Comprobémoslo por ejemplo en el caso de la última fórmula obtenida. Tenemos que ver hasta qué potencia del tipo $x^i$, con $i$ entero natural, dicha fórmula no sólo es aproximada, sino que resulta exacta. De antemano, por construcción, dicha exactitud está garantizada para $i=0,\\,1,\\, 2,\\, 3$ y $4$, por tratarse de una fórmula de tipo interpolatorio. Sin embargo, vamos a probar que pasa con el valor $i=5$ y posteriores."
   ]
  },
  {
   "cell_type": "code",
   "execution_count": 29,
   "metadata": {
    "collapsed": true
   },
   "outputs": [],
   "source": [
    "def formula(f):\n",
    "    return (-30*f(a)-f(a-2*h)+16*f(a-h)+16*f(a+h)-f(a+2*h))/(12*h**2)"
   ]
  },
  {
   "cell_type": "code",
   "execution_count": 30,
   "metadata": {
    "collapsed": false
   },
   "outputs": [
    {
     "data": {
      "image/png": "[encoded data removed]",
      "text/latex": [
       "$$\\left [ 0, \\quad 0, \\quad 2, \\quad 6 a, \\quad 12 a^{2}, \\quad 20 a^{3}, \\quad 30 a^{4}, \\quad 42 a^{5}, \\quad 56 a^{6}, \\quad 72 a^{7}\\right ]$$"
      ],
      "text/plain": [
       "⎡                  2      3      4      5      6      7⎤\n",
       "⎣0, 0, 2, 6⋅a, 12⋅a , 20⋅a , 30⋅a , 42⋅a , 56⋅a , 72⋅a ⎦"
      ]
     },
     "execution_count": 30,
     "metadata": {},
     "output_type": "execute_result"
    }
   ],
   "source": [
    "[sp.diff(z**i,z,2).subs({z:a}) for i in range(10)]"
   ]
  },
  {
   "cell_type": "code",
   "execution_count": 31,
   "metadata": {
    "collapsed": false
   },
   "outputs": [
    {
     "data": {
      "image/png": "[encoded data removed]",
      "text/latex": [
       "$$\\left [ 0, \\quad 0, \\quad 2, \\quad 6 a, \\quad 12 a^{2}, \\quad 20 a^{3}, \\quad 30 a^{4} - 8 h^{4}, \\quad 42 a^{5} - 56 a h^{4}, \\quad 56 a^{6} - 224 a^{2} h^{4} - 40 h^{6}, \\quad 72 a^{7} - 672 a^{3} h^{4} - 360 a h^{6}\\right ]$$"
      ],
      "text/plain": [
       "⎡                  2      3      4      4      5         4      6        2  4 \n",
       "⎣0, 0, 2, 6⋅a, 12⋅a , 20⋅a , 30⋅a  - 8⋅h , 42⋅a  - 56⋅a⋅h , 56⋅a  - 224⋅a ⋅h  \n",
       "\n",
       "      6      7        3  4          6⎤\n",
       "- 40⋅h , 72⋅a  - 672⋅a ⋅h  - 360⋅a⋅h ⎦"
      ]
     },
     "execution_count": 31,
     "metadata": {},
     "output_type": "execute_result"
    }
   ],
   "source": [
    "[formula(lambda z:z**i).simplify() for i in range(10)]"
   ]
  },
  {
   "cell_type": "markdown",
   "metadata": {},
   "source": [
    "Observamos claramente que efectivamente la fórmula es exacta para polinomios hasta grado $5$, ya que los resultados obtenidos al aplicar la fórmula a los monomios correspondientes da idéntico resultado que calculando sus derivadas segundas directamente, y claramente el proceso de derivación constituye una forma lineal. \n",
    "\n",
    "Sin embargo, para $i=6$ por ejemplo, el valor proporcionado es $30 a^4-8h^4$, cuya diferencia con el valor exacto es el término $-8h^4$. Errores del mismo orden $O(h^4)$ también aparecen en los demás casos, con $i\\geq 6$. Así pues concluimos que el orden de exactitud para funciones polinómicas es $5$ y que el orden de precisión puede ser $4$, aunque habrá que comprobarlo fehacientemente para funciones arbitrarias (no sólo polinómicas) mediante desarrollos de Taylor."
   ]
  },
  {
   "cell_type": "code",
   "execution_count": 246,
   "metadata": {
    "collapsed": true
   },
   "outputs": [],
   "source": [
    "?f"
   ]
  },
  {
   "cell_type": "code",
   "execution_count": 247,
   "metadata": {
    "collapsed": false
   },
   "outputs": [
    {
     "data": {
      "image/png": "[encoded data removed]",
      "text/latex": [
       "$$f{\\left (z \\right )}$$"
      ],
      "text/plain": [
       "f(z)"
      ]
     },
     "execution_count": 247,
     "metadata": {},
     "output_type": "execute_result"
    }
   ],
   "source": [
    "f(z)"
   ]
  },
  {
   "cell_type": "code",
   "execution_count": 248,
   "metadata": {
    "collapsed": false
   },
   "outputs": [
    {
     "data": {
      "image/png": "[encoded data removed]",
      "text/latex": [
       "$$\\frac{d}{d z} f{\\left (z \\right )}$$"
      ],
      "text/plain": [
       "d       \n",
       "──(f(z))\n",
       "dz      "
      ]
     },
     "execution_count": 248,
     "metadata": {},
     "output_type": "execute_result"
    }
   ],
   "source": [
    "sp.diff(f(z),z) # podemos perfectamente obtener derivadas simbólicas"
   ]
  },
  {
   "cell_type": "code",
   "execution_count": 253,
   "metadata": {
    "collapsed": false
   },
   "outputs": [
    {
     "data": {
      "image/png": "[encoded data removed]",
      "text/latex": [
       "$$\\frac{d^{5}}{d z^{5}}  f{\\left (z \\right )}$$"
      ],
      "text/plain": [
       "  5      \n",
       " d       \n",
       "───(f(z))\n",
       "  5      \n",
       "dz       "
      ]
     },
     "execution_count": 253,
     "metadata": {},
     "output_type": "execute_result"
    }
   ],
   "source": [
    "sp.diff(f(z),z,5) # del orden que necesitemos"
   ]
  },
  {
   "cell_type": "code",
   "execution_count": 254,
   "metadata": {
    "collapsed": false
   },
   "outputs": [
    {
     "data": {
      "image/png": "[encoded data removed]",
      "text/latex": [
       "$$\\frac{d}{d a} f{\\left (a \\right )}$$"
      ],
      "text/plain": [
       "d       \n",
       "──(f(a))\n",
       "da      "
      ]
     },
     "execution_count": 254,
     "metadata": {},
     "output_type": "execute_result"
    }
   ],
   "source": [
    "(sp.diff(f(z),z)).subs({z:a}) #  pero vemos que ¡habrá que tener \n",
    "# cuidado cuando se evaluen las derivadas en puntos concretos!"
   ]
  },
  {
   "cell_type": "code",
   "execution_count": 255,
   "metadata": {
    "collapsed": false
   },
   "outputs": [
    {
     "data": {
      "image/png": "[encoded data removed]",
      "text/latex": [
       "$$\\left. \\frac{d^{2}}{d \\xi_{1}^{2}}  f{\\left (\\xi_{1} \\right )} \\right|_{\\substack{ \\xi_{1}=a }}$$"
      ],
      "text/plain": [
       "⎛  2        ⎞│    \n",
       "⎜ d         ⎟│    \n",
       "⎜────(f(ξ₁))⎟│    \n",
       "⎜   2       ⎟│    \n",
       "⎝dξ₁        ⎠│ξ₁=a"
      ]
     },
     "execution_count": 255,
     "metadata": {},
     "output_type": "execute_result"
    }
   ],
   "source": [
    "k=2;\n",
    "sp.diff(f(z-h),z,k).subs({z:a+h}) # Esto puede simular la derivada \n",
    "# del orden requerido, evaluada en el punto concreto z = a"
   ]
  },
  {
   "cell_type": "code",
   "execution_count": 256,
   "metadata": {
    "collapsed": false
   },
   "outputs": [],
   "source": [
    "?sp.series  # pero para obtener el correspondiente polinomio de Taylor\n",
    "# será mejor echar mano de la orden series, perteneciente al módulo SymPy"
   ]
  },
  {
   "cell_type": "code",
   "execution_count": 257,
   "metadata": {
    "collapsed": false
   },
   "outputs": [],
   "source": [
    "n=5;\n",
    "fseries = (f(z).series(z,a,n)).removeO()\n",
    "fmas    = fseries.subs({(-a+z):h})\n",
    "fmenos  = fseries.subs({(-a+z):-h})"
   ]
  },
  {
   "cell_type": "code",
   "execution_count": 258,
   "metadata": {
    "collapsed": false
   },
   "outputs": [
    {
     "data": {
      "image/png": "[encoded data removed]",
      "text/latex": [
       "$$\\left ( \\frac{h^{4}}{24} \\left. \\frac{d^{4}}{d \\xi_{1}^{4}}  f{\\left (\\xi_{1} \\right )} \\right|_{\\substack{ \\xi_{1}=a }} + \\frac{h^{3}}{6} \\left. \\frac{d^{3}}{d \\xi_{1}^{3}}  f{\\left (\\xi_{1} \\right )} \\right|_{\\substack{ \\xi_{1}=a }} + \\frac{h^{2}}{2} \\left. \\frac{d^{2}}{d \\xi_{1}^{2}}  f{\\left (\\xi_{1} \\right )} \\right|_{\\substack{ \\xi_{1}=a }} + h \\left. \\frac{d}{d \\xi_{1}} f{\\left (\\xi_{1} \\right )} \\right|_{\\substack{ \\xi_{1}=a }} + f{\\left (a \\right )}, \\quad \\frac{h^{4}}{24} \\left. \\frac{d^{4}}{d \\xi_{1}^{4}}  f{\\left (\\xi_{1} \\right )} \\right|_{\\substack{ \\xi_{1}=a }} - \\frac{h^{3}}{6} \\left. \\frac{d^{3}}{d \\xi_{1}^{3}}  f{\\left (\\xi_{1} \\right )} \\right|_{\\substack{ \\xi_{1}=a }} + \\frac{h^{2}}{2} \\left. \\frac{d^{2}}{d \\xi_{1}^{2}}  f{\\left (\\xi_{1} \\right )} \\right|_{\\substack{ \\xi_{1}=a }} - h \\left. \\frac{d}{d \\xi_{1}} f{\\left (\\xi_{1} \\right )} \\right|_{\\substack{ \\xi_{1}=a }} + f{\\left (a \\right )}\\right )$$"
      ],
      "text/plain": [
       "⎛   ⎛  4        ⎞│          ⎛  3        ⎞│          ⎛  2        ⎞│            \n",
       "⎜ 4 ⎜ d         ⎟│        3 ⎜ d         ⎟│        2 ⎜ d         ⎟│            \n",
       "⎜h ⋅⎜────(f(ξ₁))⎟│       h ⋅⎜────(f(ξ₁))⎟│       h ⋅⎜────(f(ξ₁))⎟│            \n",
       "⎜   ⎜   4       ⎟│          ⎜   3       ⎟│          ⎜   2       ⎟│            \n",
       "⎜   ⎝dξ₁        ⎠│ξ₁=a      ⎝dξ₁        ⎠│ξ₁=a      ⎝dξ₁        ⎠│ξ₁=a     ⎛ d\n",
       "⎜───────────────────── + ───────────────────── + ───────────────────── + h⋅⎜──\n",
       "⎝          24                      6                       2               ⎝dξ\n",
       "\n",
       "                          ⎛  4        ⎞│          ⎛  3        ⎞│          ⎛  2\n",
       "                        4 ⎜ d         ⎟│        3 ⎜ d         ⎟│        2 ⎜ d \n",
       "                       h ⋅⎜────(f(ξ₁))⎟│       h ⋅⎜────(f(ξ₁))⎟│       h ⋅⎜───\n",
       "                          ⎜   4       ⎟│          ⎜   3       ⎟│          ⎜   \n",
       "        ⎞│                ⎝dξ₁        ⎠│ξ₁=a      ⎝dξ₁        ⎠│ξ₁=a      ⎝dξ₁\n",
       "─(f(ξ₁))⎟│     + f(a), ───────────────────── - ───────────────────── + ───────\n",
       "₁       ⎠│ξ₁=a                   24                      6                    \n",
       "\n",
       "        ⎞│                                 ⎞\n",
       "        ⎟│                                 ⎟\n",
       "─(f(ξ₁))⎟│                                 ⎟\n",
       "2       ⎟│                                 ⎟\n",
       "        ⎠│ξ₁=a     ⎛ d        ⎞│           ⎟\n",
       "────────────── - h⋅⎜───(f(ξ₁))⎟│     + f(a)⎟\n",
       "   2               ⎝dξ₁       ⎠│ξ₁=a       ⎠"
      ]
     },
     "execution_count": 258,
     "metadata": {},
     "output_type": "execute_result"
    }
   ],
   "source": [
    "fmas,fmenos"
   ]
  },
  {
   "cell_type": "code",
   "execution_count": 259,
   "metadata": {
    "collapsed": false
   },
   "outputs": [
    {
     "data": {
      "image/png": "[encoded data removed]",
      "text/latex": [
       "$$\\frac{h^{2}}{6} \\left. \\frac{d^{3}}{d \\xi_{1}^{3}}  f{\\left (\\xi_{1} \\right )} \\right|_{\\substack{ \\xi_{1}=a }} + \\left. \\frac{d}{d \\xi_{1}} f{\\left (\\xi_{1} \\right )} \\right|_{\\substack{ \\xi_{1}=a }}$$"
      ],
      "text/plain": [
       "   ⎛  3        ⎞│                        \n",
       " 2 ⎜ d         ⎟│                        \n",
       "h ⋅⎜────(f(ξ₁))⎟│                        \n",
       "   ⎜   3       ⎟│                        \n",
       "   ⎝dξ₁        ⎠│ξ₁=a   ⎛ d        ⎞│    \n",
       "───────────────────── + ⎜───(f(ξ₁))⎟│    \n",
       "          6             ⎝dξ₁       ⎠│ξ₁=a"
      ]
     },
     "execution_count": 259,
     "metadata": {},
     "output_type": "execute_result"
    }
   ],
   "source": [
    "sp.simplify((fmas-fmenos)/(2*h)) # fórmula centrada para aprox. f'(a)"
   ]
  },
  {
   "cell_type": "code",
   "execution_count": 262,
   "metadata": {
    "collapsed": false
   },
   "outputs": [
    {
     "data": {
      "image/png": "[encoded data removed]",
      "text/latex": [
       "$$\\frac{h^{2}}{12} \\left. \\frac{d^{4}}{d \\xi_{1}^{4}}  f{\\left (\\xi_{1} \\right )} \\right|_{\\substack{ \\xi_{1}=a }} + \\left. \\frac{d^{2}}{d \\xi_{1}^{2}}  f{\\left (\\xi_{1} \\right )} \\right|_{\\substack{ \\xi_{1}=a }}$$"
      ],
      "text/plain": [
       "   ⎛  4        ⎞│                         \n",
       " 2 ⎜ d         ⎟│                         \n",
       "h ⋅⎜────(f(ξ₁))⎟│                         \n",
       "   ⎜   4       ⎟│       ⎛  2        ⎞│    \n",
       "   ⎝dξ₁        ⎠│ξ₁=a   ⎜ d         ⎟│    \n",
       "───────────────────── + ⎜────(f(ξ₁))⎟│    \n",
       "          12            ⎜   2       ⎟│    \n",
       "                        ⎝dξ₁        ⎠│ξ₁=a"
      ]
     },
     "execution_count": 262,
     "metadata": {},
     "output_type": "execute_result"
    }
   ],
   "source": [
    "sp.simplify((fmas-2*f(a)+fmenos)/h**2) # fórmula para aprox. f''(a)"
   ]
  },
  {
   "cell_type": "markdown",
   "metadata": {},
   "source": [
    "Estas dos últimas comprobaciones no hacen más que corroborar lo que ya intuíamos, que tanto la fórmula centrada usada para aproximar la derivada primera,  como la que hemos empleado para aproximar la derivada segunda, respectivamente: $f'(a)\\simeq\\frac{f(a+h)-f(a-h)}{2h}$ y $f''(a)\\simeq\\frac{f(a+h)-f(a)+f(a-h)}{h^2}$, ambas tienen un error de truncatura del tipo $O(h^2)$; es decir poseen *orden de aproximación* $2$.\n",
    "\n",
    "**Ejercicio:** En lo que respecta *al orden o grado de exactitud* (para funciones polinómicas) de las demás fórmulas vistas, realizar las comprobaciones pertinentes para ver si en estos casos coinciden o no con los respectivos *órdenes de aproximación* (para funciones arbitrarias, suficientemente derivables) obtenidos."
   ]
  },
  {
   "cell_type": "code",
   "execution_count": 45,
   "metadata": {
    "collapsed": true
   },
   "outputs": [],
   "source": [
    "def formulad1(f):\n",
    "    return (f(a+h)-f(a-h))/(2*h)"
   ]
  },
  {
   "cell_type": "code",
   "execution_count": 46,
   "metadata": {
    "collapsed": false
   },
   "outputs": [
    {
     "data": {
      "image/png": "[encoded data removed]",
      "text/latex": [
       "$$\\left [ 0, \\quad 1, \\quad 2 a, \\quad 3 a^{2}, \\quad 4 a^{3}\\right ]$$"
      ],
      "text/plain": [
       "⎡              2     3⎤\n",
       "⎣0, 1, 2⋅a, 3⋅a , 4⋅a ⎦"
      ]
     },
     "execution_count": 46,
     "metadata": {},
     "output_type": "execute_result"
    }
   ],
   "source": [
    "[sp.diff(z**i,z).subs({z:a}) for i in range(5)]"
   ]
  },
  {
   "cell_type": "code",
   "execution_count": 47,
   "metadata": {
    "collapsed": false
   },
   "outputs": [
    {
     "data": {
      "image/png": "[encoded data removed]",
      "text/latex": [
       "$$\\left [ 0, \\quad 1, \\quad 2 a, \\quad 3 a^{2} + h^{2}, \\quad 4 a \\left(a^{2} + h^{2}\\right)\\right ]$$"
      ],
      "text/plain": [
       "⎡              2    2      ⎛ 2    2⎞⎤\n",
       "⎣0, 1, 2⋅a, 3⋅a  + h , 4⋅a⋅⎝a  + h ⎠⎦"
      ]
     },
     "execution_count": 47,
     "metadata": {},
     "output_type": "execute_result"
    }
   ],
   "source": [
    "[formulad1(lambda z:z**i).simplify() for i in range(5)]\n",
    "# vemos que esta fórmula resulta exacta para polinomios hasta grado 2"
   ]
  },
  {
   "cell_type": "code",
   "execution_count": 48,
   "metadata": {
    "collapsed": true
   },
   "outputs": [],
   "source": [
    "def formulad2(f):\n",
    "    return (f(a-h)-2*f(a)+f(a+h))/(h**2)"
   ]
  },
  {
   "cell_type": "code",
   "execution_count": 49,
   "metadata": {
    "collapsed": false
   },
   "outputs": [
    {
     "data": {
      "image/png": "[encoded data removed]",
      "text/latex": [
       "$$\\left [ 0, \\quad 0, \\quad 2, \\quad 6 a, \\quad 12 a^{2}\\right ]$$"
      ],
      "text/plain": [
       "⎡                  2⎤\n",
       "⎣0, 0, 2, 6⋅a, 12⋅a ⎦"
      ]
     },
     "execution_count": 49,
     "metadata": {},
     "output_type": "execute_result"
    }
   ],
   "source": [
    "[sp.diff(z**i,z,2).subs({z:a}) for i in range(5)]"
   ]
  },
  {
   "cell_type": "code",
   "execution_count": 50,
   "metadata": {
    "collapsed": false
   },
   "outputs": [
    {
     "data": {
      "image/png": "[encoded data removed]",
      "text/latex": [
       "$$\\left [ 0, \\quad 0, \\quad 2, \\quad 6 a, \\quad 12 a^{2} + 2 h^{2}\\right ]$$"
      ],
      "text/plain": [
       "⎡                  2      2⎤\n",
       "⎣0, 0, 2, 6⋅a, 12⋅a  + 2⋅h ⎦"
      ]
     },
     "execution_count": 50,
     "metadata": {},
     "output_type": "execute_result"
    }
   ],
   "source": [
    "[formulad2(lambda z:z**i).simplify() for i in range(5)]\n",
    "# sin embargo esta otra resulta exacta también para polinomios de grado 3"
   ]
  },
  {
   "cell_type": "markdown",
   "metadata": {},
   "source": [
    "## Fórmulas para derivadas de orden elevado"
   ]
  },
  {
   "cell_type": "markdown",
   "metadata": {},
   "source": [
    "Para la obtención de nuevas fórmulas de derivación numérica de alto orden, otra estrategia posible sería la aplicación reiterada de otras fórmulas de orden inferior. Esta técnica suele proporcionar nuevas fórmulas que aproximan bien esta derivada de orden superior, sobre todo cuando se usan fórmulas centradas o bien fórmulas descentradas, pero todas en la misma dirección. Si no se respeta esta premisa, la fórmula resultante puede ser inservible y habrá que verificarla en todo caso. Veámos algunos ejemplos de cómo hacerlo.\n",
    "\n",
    "Veámos cómo obtener aproximaciones de la derivada segunda a partir de la aplicación reiterada de fórmulas para la derivada primera:\n",
    "\n",
    "Si $f'(a)\\simeq \\frac{f(a+h)-f(a)}{h}$ y $f'(a+h)\\simeq \\frac{f(a+2h)-f(a+h)}{h}$, entonces podemos introducirlas en la siguiente aproximación de la derivada segunda\n",
    "\n",
    "$$f''(a)\\simeq \\frac{f'(a+h)-f'(a)}{h}\\simeq \\frac{\\frac{f(a+2h)-f(a+h)}{h}-\\frac{f(a+h)-f(a)}{h}}{h}=\\frac{f(a+2h)-2f(a+h)+f(a)}{h^2}$$\n",
    "\n",
    "De forma totalmente análoga podríamos haber obtenido la corresponiente fórmula descentrada en el otro sentido\n",
    "\n",
    "$$f''(a)\\simeq \\frac{f'(a)-f'(a-h)}{h}\\simeq \\frac{\\frac{f(a)-f(a-h)}{h}-\\frac{f(a-h)-f(a-2h)}{h}}{h}=\\frac{f(a)-2f(a-h)+f(a-2h)}{h^2}$$\n",
    "\n",
    "Si ahora empleamos fórmulas centradas, $f'(a)\\simeq \\frac{f(a+h)-f(a-h)}{2h}$ entonces tendríamos\n",
    "\n",
    "$$f''(a)\\simeq \\frac{f'(a+h)-f'(a-h)}{2h}\\simeq \\frac{\\frac{f(a+2h)-f(a)}{2h}-\\frac{f(a)-f(a-2h)}{2h}}{2h}=\\frac{f(a+2h)-2f(a)+f(a-2h)}{4h^2}$$\n"
   ]
  },
  {
   "cell_type": "markdown",
   "metadata": {},
   "source": [
    "Aproximemos ahora la derivada de una función suficientemente derivable, de la que podemos disponer de sus valores tanto a la izquierda como a la derecha del punto donde queremos obtener la derivada cuarta\n",
    "\n",
    "$$f^{iv)}(a)\\equiv \\frac{d^2}{dx^2}_{|x=a}f''(x)\\simeq \\frac{f''(a+h)-2f''(a)+f''(a-h)}{h^2}\\simeq\n",
    "\\frac{\\frac{f(a+2h)-2f(a+h)+f(a)}{h^2}-2\\frac{f(a+h)-2f(a)+f(a-h)}{h^2}+\\frac{f(a)-2f(a-h)+f(a-2h)}{h^2}}{h^2}=\n",
    "\\frac{f(a+2h)-4f(a+h)+6f(a)-f(a-h)+f(a-2h) }{h^4}$$"
   ]
  },
  {
   "cell_type": "markdown",
   "metadata": {},
   "source": [
    "## Comportamiento del error en las fórmulas de derivación numérica"
   ]
  },
  {
   "cell_type": "markdown",
   "metadata": {},
   "source": [
    "Como es bien conocido, aunque sea muy simple, toda fórmula de derivación numérica que se obtuvo en el desarrollo teórico es convergente.\n",
    "Los errores teóricos siempre tienden a cero cuando $h$ tiende a cero. Sin embargo, en el cálculo llevado a cabo por ordenador suelen aparecer otros errores que pueden desaconsejar el uso\n",
    "de valores muy pequeños de $h$ si se quiere una buena aproximación. Es lo que ocurre con el eror de cancelación en las fórmulas\n",
    "de derivación numérica. Veámoslo con algún ejemplo: vamos a dar el valor de las derivadas numéricas de una función $f$ en el punto $a=2$,\n",
    "con la fórmula $\\frac{f(a+h)-f(a)}{h}$ para valores de $h$ de la forma $h=10^{-j}$ con $j\\geq 1$.Veremos que llega un momento en el\n",
    "que la derivada numérica deja de converger, con unas oscilaciones no controlables, para después pasar a valer cero, porque el numerador\n",
    "vale cero. Esto último ocurre cuando $h$ es tan pequeño que para el ordenador $a+h$ y $h$ toman el mismo valor como *número máquina*."
   ]
  },
  {
   "cell_type": "code",
   "execution_count": 51,
   "metadata": {
    "collapsed": true
   },
   "outputs": [],
   "source": [
    "z = sp.Symbol('z')\n",
    "def func(z):\n",
    "    \"\"\"función (z-0.5)/(1+z^2)\"\"\"\n",
    "    return (z-0.5)/(1+z**2)"
   ]
  },
  {
   "cell_type": "code",
   "execution_count": 52,
   "metadata": {
    "collapsed": true
   },
   "outputs": [],
   "source": [
    "f = func"
   ]
  },
  {
   "cell_type": "code",
   "execution_count": 53,
   "metadata": {
    "collapsed": false
   },
   "outputs": [
    {
     "data": {
      "image/png": "[encoded data removed]",
      "text/latex": [
       "$$-0.04$$"
      ],
      "text/plain": [
       "-0.0400000000000000"
      ]
     },
     "execution_count": 53,
     "metadata": {},
     "output_type": "execute_result"
    }
   ],
   "source": [
    "a=2. # El valor exacto de la derivada de la función en este punto\n",
    "vexacto = (sp.diff(f(z),z)).subs({z:a}) # sería el siguiente\n",
    "vexacto"
   ]
  },
  {
   "cell_type": "code",
   "execution_count": 54,
   "metadata": {
    "collapsed": false
   },
   "outputs": [
    {
     "name": "stdout",
     "output_type": "stream",
     "text": [
      "[-0.05       -0.04251386 -0.04027698 -0.04002797 -0.0400028  -0.04000028\n",
      " -0.04000003 -0.04       -0.04       -0.04       -0.03999967 -0.04000134\n",
      " -0.03996803 -0.03996803 -0.03885781  0.          0.          0.          0.\n",
      "  0.          0.        ]\n"
     ]
    }
   ],
   "source": [
    "n=20 # Calculemos aproximaciones, mediante una fórmula numérica\n",
    "dersnum = np.array([(f(a+10**(-j))-f(a))/(10**(-j)) for j in range(n+1)])\n",
    "print(dersnum)  # con h desde 10^0 hasta el valor 10^(-n). "
   ]
  },
  {
   "cell_type": "code",
   "execution_count": 55,
   "metadata": {
    "collapsed": false
   },
   "outputs": [
    {
     "name": "stdout",
     "output_type": "stream",
     "text": [
      "[-0.0100000000000000 -0.00251386321626584 -0.000276978631370606\n",
      " -2.79696187167056e-5 -2.79969607058783e-6 -2.79993845941906e-7\n",
      " -2.80120771578574e-8 -2.75450334763505e-9 2.24150026317815e-9\n",
      " -3.30961485994763e-9 3.29757292527599e-7 -1.33557724441014e-6\n",
      " 3.19711134943446e-5 3.19711134943446e-5 0.00114219413811950\n",
      " 0.0400000000000000 0.0400000000000000 0.0400000000000000\n",
      " 0.0400000000000000 0.0400000000000000 0.0400000000000000]\n"
     ]
    }
   ],
   "source": [
    "errores = np.array(dersnum) - vexacto  # Aquí podemos ver una tabla\n",
    "print(errores)                         # con los errores cometidos"
   ]
  },
  {
   "cell_type": "markdown",
   "metadata": {},
   "source": [
    "Vemos pues que los valores redondeados, con seis cifras significativas, de la derivada numérica para $j=6,7,8$ y $9$ coincidirán con el valor exacto. Además observamos que al principio, a medida que $h$ disminuye, el error (fundamentalmente de *truncatura*) también disminuye, después empieza a haber comportamientos extraños, donde los errores pueden empezar a aumentar de nuevo; y finalmente la aproximación que da es cero (aquí el error predominante sería el de *cancelación*). Comprobémoslo a continuación."
   ]
  },
  {
   "cell_type": "code",
   "execution_count": 56,
   "metadata": {
    "collapsed": false
   },
   "outputs": [
    {
     "data": {
      "image/png": "[encoded data removed]",
      "text/latex": [
       "$$\\left [ -0.05, \\quad -0.0425139, \\quad -0.040277, \\quad -0.040028, \\quad -0.0400028, \\quad -0.0400003, \\quad -0.04, \\quad -0.04, \\quad -0.04, \\quad -0.04, \\quad -0.0399997, \\quad -0.0400013, \\quad -0.039968, \\quad -0.039968, \\quad -0.0388578, \\quad 0, \\quad 0, \\quad 0, \\quad 0, \\quad 0, \\quad 0\\right ]$$"
      ],
      "text/plain": [
       "[-0.05, -0.0425139, -0.040277, -0.040028, -0.0400028, -0.0400003, -0.04, -0.04\n",
       ", -0.04, -0.04, -0.0399997, -0.0400013, -0.039968, -0.039968, -0.0388578, 0, 0\n",
       ", 0, 0, 0, 0]"
      ]
     },
     "execution_count": 56,
     "metadata": {},
     "output_type": "execute_result"
    }
   ],
   "source": [
    "[sp.N(dersnum[k],6) for k in range(n+1)] # con 6 cifras significativas"
   ]
  },
  {
   "cell_type": "markdown",
   "metadata": {},
   "source": [
    "**Ejercicio:** Puede cambiar ahora el valor de $a$ y comprobar este mismo hecho para otros valores y otras funciones. Por ejemplo el comportamiento del error en $a=-1$ se muestra a continuación:"
   ]
  },
  {
   "cell_type": "code",
   "execution_count": 57,
   "metadata": {
    "collapsed": false
   },
   "outputs": [
    {
     "data": {
      "image/png": "[encoded data removed]",
      "text/latex": [
       "$$-0.25$$"
      ],
      "text/plain": [
       "-0.250000000000000"
      ]
     },
     "execution_count": 57,
     "metadata": {},
     "output_type": "execute_result"
    }
   ],
   "source": [
    "a=-1.  # Calculemos el valor exacto de la derivada de la función en este punto\n",
    "vexacto = (sp.diff(f(z),z)).subs({z:a}) # Éste sería el valor exacto\n",
    "vexacto"
   ]
  },
  {
   "cell_type": "code",
   "execution_count": 58,
   "metadata": {
    "collapsed": false
   },
   "outputs": [
    {
     "name": "stdout",
     "output_type": "stream",
     "text": [
      "[ 0.25       -0.23480663 -0.24872481 -0.24987475 -0.2499875  -0.24999875\n",
      " -0.24999988 -0.24999999 -0.25       -0.24999991 -0.25000002 -0.25000002\n",
      " -0.2499112  -0.2509104  -0.2553513  -0.33306691 -1.11022302  0.          0.\n",
      "  0.          0.        ]\n"
     ]
    }
   ],
   "source": [
    "n=20 # Hagamos ahora aproximaciones, mediante una fórmula numérica simple\n",
    "dersnum = np.array([(f(a+10**(-j))-f(a))/(10**(-j)) for j in range(n+1)])\n",
    "print(dersnum)  # con h desde 10^0 hasta el valor 10^(-n). "
   ]
  },
  {
   "cell_type": "code",
   "execution_count": 59,
   "metadata": {
    "collapsed": false
   },
   "outputs": [
    {
     "name": "stdout",
     "output_type": "stream",
     "text": [
      "[0.500000000000000 0.0151933701657467 0.00127518812181293\n",
      " 0.000125250187471337 1.25024996187051e-5 1.25003177234295e-6\n",
      " 1.24976168081048e-7 1.15113749643569e-8 1.51936774273054e-9\n",
      " 9.03372097404986e-8 -2.06850927497726e-8 -2.06850927497726e-8\n",
      " 8.87971568772628e-5 -0.000910403565285378 -0.00535129566378600\n",
      " -0.0830669073875470 -0.860223024625157 0.250000000000000 0.250000000000000\n",
      " 0.250000000000000 0.250000000000000]\n"
     ]
    }
   ],
   "source": [
    "errores = np.array(dersnum) - vexacto\n",
    "print(errores)  # Aquí podemos ver una tabla o array con los errores cometidos"
   ]
  },
  {
   "cell_type": "markdown",
   "metadata": {},
   "source": [
    "Vemos pues que el error mínimo en valor absoluto se alcanza cuando $j=8$; después empieza a aumentar hasta $j=16$. A partir de $j=17$, el error\n",
    "se hace constante porque la derivada numérica es cero. \n",
    "\n",
    "Cambiamos ahora a una fórmula de mayor precisión y volvemos a calcular las derivadas numéricas y los errores."
   ]
  },
  {
   "cell_type": "code",
   "execution_count": 60,
   "metadata": {
    "collapsed": false
   },
   "outputs": [
    {
     "name": "stdout",
     "output_type": "stream",
     "text": [
      "[ 0.         -0.24749381 -0.249975   -0.24999975 -0.25       -0.25       -0.25\n",
      " -0.25       -0.25       -0.24999997 -0.25000002 -0.25000002 -0.24996671\n",
      " -0.25035529 -0.24980018 -0.27755576 -0.55511151  0.          0.          0.\n",
      "  0.        ]\n"
     ]
    }
   ],
   "source": [
    "n=20 # Hagamos ahora aproximaciones, mediante una fórmula numérica simple\n",
    "dersnum2 = np.array([(f(a+10**(-j))-f(a-10**(-j)))/(2*10**(-j)) for j in range(n+1)])\n",
    "print(dersnum2)  # con h desde 10^0 hasta el valor 10^(-n). "
   ]
  },
  {
   "cell_type": "code",
   "execution_count": 61,
   "metadata": {
    "collapsed": false
   },
   "outputs": [
    {
     "name": "stdout",
     "output_type": "stream",
     "text": [
      "[0.250000000000000 0.00250618734531727 2.50006249367107e-5\n",
      " 2.49999992707473e-7 2.49969467347455e-9 2.61178023652775e-11\n",
      " -3.49444917446817e-11 -7.01078306519776e-10 1.51936774273054e-9\n",
      " 3.48260585092408e-8 -2.06850927497726e-8 -2.06850927497726e-8\n",
      " 3.32860056460049e-5 -0.000355292052972800 0.000199819459339778\n",
      " -0.0275557561562891 -0.305111512312578 0.250000000000000 0.250000000000000\n",
      " 0.250000000000000 0.250000000000000]\n"
     ]
    }
   ],
   "source": [
    "errores2 = np.array(dersnum2) - vexacto\n",
    "print(errores2)  # Aquí podemos ver una tabla o array con los errores cometidos"
   ]
  },
  {
   "cell_type": "markdown",
   "metadata": {},
   "source": [
    "Vemos que el comportamiento es similar al de la primera fórmula, sólo que el error es menor. Se consiguen más cifras exactas, once en este caso, sin que $h$ tenga que disminuir tanto como antes. Ahora con $j=5$ se han conseguido once cifras. Antes el error mínimo se alcanzó con $j=8$\n",
    "y fueron sólo unas ocho cifras significativas. Aquí se ve claramente cómo esta fórmula tiene un orden de aproximación superior."
   ]
  },
  {
   "cell_type": "markdown",
   "metadata": {},
   "source": [
    "# Integración numérica"
   ]
  },
  {
   "cell_type": "markdown",
   "metadata": {},
   "source": [
    "## Fórmulas de los rectángulos"
   ]
  },
  {
   "cell_type": "markdown",
   "metadata": {},
   "source": [
    "Entre las fórmulas de integración numérica más simples que hay están las denominas *fórmulas de los rectángulos*, que además son usadas normalmente para la definición de las denominadas *sumas de Riemann* y el correspondiente concepto de *Integral de Riemann*. \n",
    "\n",
    "Veámos a continuación cómo obtenerlas; en el caso de considerar un sólo rectángulo que aproxime por ejemplo a la siguiente región del semiplano superior (con $y\\geq 0$) \n",
    "$$\\mathcal{R}\\equiv\\{ (x,y)\\in \\mathbb{R}^2 : a\\leq x\\leq b,\\; 0\\leq y\\leq f(x)  \\}$$\n",
    "\n",
    "aproximaríamos la correspondiente integral de la siguiente manera, sustituyéndo la función integrando por una función constante en dicho intervalo de integración\n",
    "\n",
    "$$area(R)=\\int_a^b f(x)\\,dx \\simeq\\int_a^b f(x_0)\\,dx =(b-a)f(x_0),$$ para cierto punto $x_0\\in[a,b]$, que a veces tomaremos como:\n",
    "- $x_0=a$, obteniéndose la *fórmula del rectángulo izquierdo* $\\int_a^b f(x)\\,dx \\simeq (b-a)f(a),$\n",
    "- $x_0=b$, obteniéndose la *fórmula del rectángulo derecho* $\\int_a^b f(x)\\,dx \\simeq (b-a)f(b),$\n",
    "- $x_0=\\frac{a+b}{2}$, obteniéndose en este caso la *fórmula del rectángulo del punto medio* $\\int_a^b f(x)\\,dx \\simeq (b-a)f(\\frac{a+b}{2})$.\n",
    "\n",
    "Nótese que, en todos los casos, lo que se tiene es el área del correspondiente rectángulo, cuya base mide $b-a$ y la altura será la determinada por el valor $f(x_0)$. Cuando este valor de la función sea negativo en vez de positivo, entonces obtendríamos el área del correspondiente rectángulo pero cambiada de signo, que ahora estaría por debajo del eje $Ox$, justo lo mismo que el concepto de integral mide el área de la regiones del semiplano inferior (con $y\\leq 0$) \n",
    "$$\\mathcal{R}\\equiv\\{ (x,y)\\in \\mathbb{R}^2 : a\\leq x\\leq b,\\; f(x)\\leq y\\leq 0 \\},$$ donde $$\\int_a^b f(x)\\,dx = -area(\\mathcal{R})$$ en este caso."
   ]
  },
  {
   "cell_type": "code",
   "execution_count": 62,
   "metadata": {
    "collapsed": true
   },
   "outputs": [],
   "source": [
    "import matplotlib.patches as patches"
   ]
  },
  {
   "cell_type": "code",
   "execution_count": 63,
   "metadata": {
    "collapsed": true
   },
   "outputs": [],
   "source": [
    "z = sp.Symbol('z')\n",
    "xL,yL,xM,yM,xR,yR = sp.symbols('xL,yL,xM,yM,xR,yR')\n",
    "dyL,dyR = sp.symbols('dyL,dyR')\n",
    "\n",
    "def linea(z,xL,yL,xR,yR):\n",
    "    \"\"\"línea uniendo los puntos (xL,yL) y (xR,yR)\"\"\"\n",
    "    return (z-xL)/(xR-xL)*yR+(xR-z)/(xR-xL)*yL\n",
    "\n",
    "def parabola(z,xL,yL,xM,yM,xR,yR):\n",
    "    \"\"\"parábola uniendo los puntos (xL,yL), (xM,yM) y (xR,yR)\"\"\"\n",
    "    D1 = (yM-yL)/(xM-xL)\n",
    "    D2 = (yR-yL-(xR-xL)*D1)/((xR-xL)*(xR-xM))\n",
    "    return yL+D1*(z-xL)+D2*(z-xL)*(z-xM)"
   ]
  },
  {
   "cell_type": "code",
   "execution_count": 64,
   "metadata": {
    "collapsed": true
   },
   "outputs": [],
   "source": [
    "def func(z):\n",
    "    \"\"\"función z^2+1\"\"\"\n",
    "    return z**2+1\n",
    "# f_vec = np.vectorize(f)"
   ]
  },
  {
   "cell_type": "code",
   "execution_count": 65,
   "metadata": {
    "collapsed": true
   },
   "outputs": [],
   "source": [
    "f = func"
   ]
  },
  {
   "cell_type": "code",
   "execution_count": 66,
   "metadata": {
    "collapsed": false
   },
   "outputs": [
    {
     "data": {
      "image/png": "[encoded data removed]",
      "text/latex": [
       "$$2 z$$"
      ],
      "text/plain": [
       "2⋅z"
      ]
     },
     "execution_count": 66,
     "metadata": {},
     "output_type": "execute_result"
    }
   ],
   "source": [
    "sp.diff(f(z),z)"
   ]
  },
  {
   "cell_type": "code",
   "execution_count": 67,
   "metadata": {
    "collapsed": true
   },
   "outputs": [],
   "source": [
    "def dfunc(z):\n",
    "    \"\"\"función 2z, derivada de f(z)\"\"\"\n",
    "    return 2*z"
   ]
  },
  {
   "cell_type": "code",
   "execution_count": 68,
   "metadata": {
    "collapsed": true
   },
   "outputs": [],
   "source": [
    "df = dfunc"
   ]
  },
  {
   "cell_type": "code",
   "execution_count": 69,
   "metadata": {
    "collapsed": false
   },
   "outputs": [
    {
     "data": {
      "image/png": "[encoded data removed]",
      "text/plain": [
       "<matplotlib.figure.Figure at 0x8b93c50>"
      ]
     },
     "metadata": {},
     "output_type": "display_data"
    }
   ],
   "source": [
    "nxx = 100; a = 0; b = 1\n",
    "xx = np.linspace(float(a),float(b),nxx)\n",
    "yy = f(xx)\n",
    "x0 = (a+b)/2; y0 = f(x0)\n",
    "fig,ax = plt.subplots(figsize=(8,8))\n",
    "ax.plot(x0,y0,'ro',)\n",
    "ax.plot(xx,yy,'k',label='función del integrando')\n",
    "ax.add_patch(\n",
    "    patches.Rectangle(\n",
    "        (a, 0),   # (x,y)\n",
    "        b-a,          # width\n",
    "        y0,          # height\n",
    "    )\n",
    ")\n",
    "ax.legend(loc=9)\n",
    "ax.set_xlabel('$x$',fontsize=18)\n",
    "ax.set_ylabel('$y$',fontsize=18)\n",
    "ax.set_title('Fórmula del rectángulo del punto medio');"
   ]
  },
  {
   "cell_type": "code",
   "execution_count": 70,
   "metadata": {
    "collapsed": false
   },
   "outputs": [
    {
     "data": {
      "image/png": "[encoded data removed]",
      "text/plain": [
       "<matplotlib.figure.Figure at 0xa3691d0>"
      ]
     },
     "metadata": {},
     "output_type": "display_data"
    }
   ],
   "source": [
    "nxx = 100; a = 0; b = 1\n",
    "xx = np.linspace(float(a),float(b),nxx)\n",
    "yy = f(xx)\n",
    "x0 = a; y0 = f(x0)\n",
    "fig,ax = plt.subplots(figsize=(8,8))\n",
    "ax.plot(x0,y0,'ro')\n",
    "ax.plot(xx,yy,'k',label='función del integrando')\n",
    "ax.add_patch(\n",
    "    patches.Rectangle(\n",
    "        (a, 0),   # (x,y)\n",
    "        b-a,          # width\n",
    "        y0,          # height\n",
    "    )\n",
    ")\n",
    "ax.legend(loc=9)\n",
    "ax.set_xlabel('$x$',fontsize=18)\n",
    "ax.set_ylabel('$y$',fontsize=18)\n",
    "ax.set_title('Fórmula del rectángulo izquierdo');"
   ]
  },
  {
   "cell_type": "code",
   "execution_count": 71,
   "metadata": {
    "collapsed": false
   },
   "outputs": [
    {
     "data": {
      "image/png": "[encoded data removed]",
      "text/plain": [
       "<matplotlib.figure.Figure at 0xa43e5c0>"
      ]
     },
     "metadata": {},
     "output_type": "display_data"
    }
   ],
   "source": [
    "xx = np.linspace(float(a),float(b),nxx)\n",
    "yy = f(xx)\n",
    "x0 = b; y0 = f(x0)\n",
    "fig,ax = plt.subplots(figsize=(8,8))\n",
    "ax.plot(x0,y0,'ro')\n",
    "ax.plot(xx,yy,'k',label='función del integrando')\n",
    "ax.add_patch(\n",
    "    patches.Rectangle(\n",
    "        (a, 0),   # (x,y)\n",
    "        b-a,          # anchura\n",
    "        y0,           # altura \n",
    "    )\n",
    ")\n",
    "ax.legend(loc=9)\n",
    "ax.set_xlabel('$x$',fontsize=18)\n",
    "ax.set_ylabel('$y$',fontsize=18)\n",
    "ax.set_title('Fórmula del rectángulo derecho');"
   ]
  },
  {
   "cell_type": "markdown",
   "metadata": {},
   "source": [
    "La idea ahora para obtener las correspondientes fórmulas compuestas, asociadas a estas reglas de cuadratura simples, sería aplicarlas a los subintervalos que obtendríamos al subdividir el intervalo original $[a,b]$ mediante una partición cualquiera del mismo:\n",
    "$$a=x_0<x_1 < \\ldots x_{i-1}<x_i<x_{i+1}<\\ldots <x_{n-1}<x_n=b$$\n",
    "aunque se suele emplear *particiones uniformes* (con $x_{i}-x_{i-1}=h\\equiv \\frac{b-a}{n},\\; \\forall i=1,\\ldots,n$ para cierto valor entero natural $n\\in \\mathbb{N}$).\n",
    "\n",
    "Así pues, para estas fórmulas de los rectángulos obtendríamos las siguientes expresiones en cada uno de los casos:\n",
    "\n",
    "$$\\int_a^b f(x)\\,dx = \\sum_{i=0}^{n-1}\\int_{x_{i}}^{x_{i+1}} f(x)\\,dx\\simeq  \\sum_{i=0}^{n-1} (x_{i+1}- x_{i}) f(\\psi_i)$$\n",
    "\n",
    "donde $\\psi_i = x_{i}, x_{i+1}$ o bien $\\frac{x_{i}+ x_{i+1}}{2}$ según se trate de la fórmula de los rectángulos a izquierda, derecha o del punto medio. \n",
    "\n",
    "Si se tratara de particiones uniformes podremos escribir\n",
    "\n",
    "$$\\int_a^b f(x)\\,dx \\simeq h \\sum_{i=0}^{n-1} f(\\psi_i)$$\n",
    "con $\\psi_i = a+ i h, a+(i+1) h$ o bien $a+ (i+1/2)h$ según el caso, y así podríamos programarlo también sin mucha dificultad."
   ]
  },
  {
   "cell_type": "markdown",
   "metadata": {},
   "source": [
    "### Fórmula compuesta de los rectángulos a izquierda"
   ]
  },
  {
   "cell_type": "code",
   "execution_count": 72,
   "metadata": {
    "collapsed": true
   },
   "outputs": [],
   "source": [
    "def formrectangizda(f,a,b,nx):\n",
    "    \"\"\"fórmula compuesta de los rectangulos a izquierda\"\"\"\n",
    "    h = (b-a)/nx\n",
    "    return h*sum([f(a+i*h) for i in range(0,nx)])"
   ]
  },
  {
   "cell_type": "code",
   "execution_count": 73,
   "metadata": {
    "collapsed": false
   },
   "outputs": [
    {
     "data": {
      "image/png": "[encoded data removed]",
      "text/latex": [
       "$$1.3283500000000001$$"
      ],
      "text/plain": [
       "1.3283500000000001"
      ]
     },
     "execution_count": 73,
     "metadata": {},
     "output_type": "execute_result"
    }
   ],
   "source": [
    "formrectangizda(f,a,b,100)"
   ]
  },
  {
   "cell_type": "code",
   "execution_count": 74,
   "metadata": {
    "collapsed": false
   },
   "outputs": [
    {
     "data": {
      "image/png": "[encoded data removed]",
      "text/latex": [
       "$$1.3283500000000001$$"
      ],
      "text/plain": [
       "1.3283500000000001"
      ]
     },
     "execution_count": 74,
     "metadata": {},
     "output_type": "execute_result"
    }
   ],
   "source": [
    "formrectangizda(lambda z:z**2+1,0,1,100)"
   ]
  },
  {
   "cell_type": "code",
   "execution_count": 75,
   "metadata": {
    "collapsed": false
   },
   "outputs": [
    {
     "data": {
      "image/png": "[encoded data removed]",
      "text/plain": [
       "<matplotlib.figure.Figure at 0xa6c8d68>"
      ]
     },
     "metadata": {},
     "output_type": "display_data"
    }
   ],
   "source": [
    "nxx = 100; nx=10\n",
    "xx = np.linspace(float(a),float(b),nxx)\n",
    "yy = f(xx)\n",
    "x = np.linspace(a,b,nx); y = f(x)\n",
    "\n",
    "fig,ax = plt.subplots(figsize=(8,8))\n",
    "ax.plot(x[:-1],y[:-1],'ro')\n",
    "ax.plot(xx,yy,'k',label='función del integrando')\n",
    "for k in range(1,nx):\n",
    "    zz = np.linspace(float(x[k-1]),float(x[k]),nxx)\n",
    "    yk = [linea(z,x[k-1],y[k-1],x[k],y[k-1]) for z in zz]\n",
    "    ax.fill_between(zz,0,yk);\n",
    "\n",
    "\n",
    "ax.legend(loc=9)\n",
    "ax.set_xlabel('$x$',fontsize=18)\n",
    "ax.set_ylabel('$y$',fontsize=18)\n",
    "ax.set_title('Fórmula compuesta de los rectángulos a la izquierda');"
   ]
  },
  {
   "cell_type": "markdown",
   "metadata": {},
   "source": [
    "### Fórmula compuesta de los rectángulos a derecha"
   ]
  },
  {
   "cell_type": "code",
   "execution_count": 76,
   "metadata": {
    "collapsed": true
   },
   "outputs": [],
   "source": [
    "def formrectangdcha(f,a,b,nx):\n",
    "    \"\"\"fórmula compuesta de los rectangulos a la derecha\"\"\"\n",
    "    h = (b-a)/nx\n",
    "    return h*sum([f(a+(i+1)*h) for i in range(0,nx)])"
   ]
  },
  {
   "cell_type": "code",
   "execution_count": 77,
   "metadata": {
    "collapsed": false
   },
   "outputs": [
    {
     "data": {
      "image/png": "[encoded data removed]",
      "text/latex": [
       "$$1.3383500000000002$$"
      ],
      "text/plain": [
       "1.3383500000000002"
      ]
     },
     "execution_count": 77,
     "metadata": {},
     "output_type": "execute_result"
    }
   ],
   "source": [
    "formrectangdcha(lambda z:z**2+1,0,1,100)"
   ]
  },
  {
   "cell_type": "code",
   "execution_count": 78,
   "metadata": {
    "collapsed": false
   },
   "outputs": [
    {
     "data": {
      "image/png": "[encoded data removed]",
      "text/latex": [
       "$$1.3383500000000002$$"
      ],
      "text/plain": [
       "1.3383500000000002"
      ]
     },
     "execution_count": 78,
     "metadata": {},
     "output_type": "execute_result"
    }
   ],
   "source": [
    "formrectangdcha(f,0,1,100)"
   ]
  },
  {
   "cell_type": "code",
   "execution_count": 79,
   "metadata": {
    "collapsed": false
   },
   "outputs": [
    {
     "data": {
      "image/png": "[encoded data removed]",
      "text/plain": [
       "<matplotlib.figure.Figure at 0xbec5128>"
      ]
     },
     "metadata": {},
     "output_type": "display_data"
    }
   ],
   "source": [
    "nx=10; x = np.linspace(a,b,nx); y = f(x)\n",
    "nxx = 100;\n",
    "xx = np.linspace(float(a),float(b),nxx)\n",
    "yy = f(xx)\n",
    "fig,ax = plt.subplots(figsize=(8,8))\n",
    "ax.plot(x[1:],y[1:],'ro')\n",
    "ax.plot(xx,yy,'k',label='función del integrando')\n",
    "for k in range(1,nx):\n",
    "    zz = np.linspace(float(x[k-1]),float(x[k]),nxx)\n",
    "    yk = [linea(z,x[k-1],y[k],x[k],y[k]) for z in zz]\n",
    "    ax.fill_between(zz,0,yk);\n",
    "\n",
    "ax.legend(loc=9)\n",
    "ax.set_xlabel('$x$',fontsize=18)\n",
    "ax.set_ylabel('$y$',fontsize=18)\n",
    "ax.set_title('Fórmula compuesta de los rectángulos a la derecha');"
   ]
  },
  {
   "cell_type": "markdown",
   "metadata": {},
   "source": [
    "### Fórmula compuesta de los rectángulos del punto medio"
   ]
  },
  {
   "cell_type": "code",
   "execution_count": 80,
   "metadata": {
    "collapsed": true
   },
   "outputs": [],
   "source": [
    "def formrectangptomedio(f,a,b,nx):\n",
    "    \"\"\"fórmula compuesta de los rectangulos de punto medio\"\"\"\n",
    "    h = (b-a)/nx\n",
    "    return h*sum([f(a+(i+1/2)*h) for i in range(0,nx)])"
   ]
  },
  {
   "cell_type": "code",
   "execution_count": 81,
   "metadata": {
    "collapsed": false
   },
   "outputs": [
    {
     "data": {
      "image/png": "[encoded data removed]",
      "text/latex": [
       "$$1.333325$$"
      ],
      "text/plain": [
       "1.333325"
      ]
     },
     "execution_count": 81,
     "metadata": {},
     "output_type": "execute_result"
    }
   ],
   "source": [
    "formrectangptomedio(lambda z:z**2+1,0,1,100)"
   ]
  },
  {
   "cell_type": "code",
   "execution_count": 82,
   "metadata": {
    "collapsed": false
   },
   "outputs": [
    {
     "data": {
      "image/png": "[encoded data removed]",
      "text/latex": [
       "$$1.333325$$"
      ],
      "text/plain": [
       "1.333325"
      ]
     },
     "execution_count": 82,
     "metadata": {},
     "output_type": "execute_result"
    }
   ],
   "source": [
    "formrectangptomedio(f,0,1,100)"
   ]
  },
  {
   "cell_type": "code",
   "execution_count": 83,
   "metadata": {
    "collapsed": false
   },
   "outputs": [
    {
     "data": {
      "image/png": "[encoded data removed]",
      "text/plain": [
       "<matplotlib.figure.Figure at 0xa43e4e0>"
      ]
     },
     "metadata": {},
     "output_type": "display_data"
    }
   ],
   "source": [
    "nxx = 100; nx=10\n",
    "xx = np.linspace(float(a),float(b),nxx)\n",
    "yy = f(xx)\n",
    "x = np.linspace(a,b,nx); y = f(x)\n",
    "x0 = (x[1:]+x[:-1])/2; y0 = f(x0)\n",
    "\n",
    "fig,ax = plt.subplots(figsize=(8,8))\n",
    "ax.plot(x0,y0,'ro')\n",
    "ax.plot(xx,yy,'k',label='función del integrando')\n",
    "for k in range(1,nx):\n",
    "    zz = np.linspace(float(x[k-1]),float(x[k]),nxx)\n",
    "    yk = [linea(z,x[k-1],(y[k-1]+y[k])/2,x[k],(y[k-1]+y[k])/2) for z in zz]\n",
    "    ax.fill_between(zz,0,yk);\n",
    "\n",
    "ax.legend(loc=9)\n",
    "ax.set_xlabel('$x$',fontsize=18)\n",
    "ax.set_ylabel('$y$',fontsize=18)\n",
    "ax.set_title('Fórmula compuesta de los rectángulos del punto medio');"
   ]
  },
  {
   "cell_type": "markdown",
   "metadata": {},
   "source": [
    "## Fórmulas de los trapecios (simple y compuesta)"
   ]
  },
  {
   "cell_type": "markdown",
   "metadata": {},
   "source": [
    "Si ahora empleamos trapecios, en vez de rectángulos, para aproximar las integrales de la función integrando en cada uno de los subintervalos $[x_{i},x_{i+1}],\\; i=0,1,\\ldots,n-1$, sabiendo por otra parte que el área de un trapecio de base $[x_{i},x_{i+1}]$ y alturas $f(x_{i})$ y $f(x_{i+1})$ es $(x_{i+1}-x_i)\\frac{f(x_{i})+f(x_{i+1})}{2}$, entonces llegaríamos a las siguientes fórmulas de los trapecios:\n",
    "\n",
    "- simple (con $n=1$ y $x_0=a, \\; x_1=b$): \n",
    "$$\\int_a^b f(x)\\,dx\\simeq (b-a)\\frac{f(a)+f(b)}{2}$$\n",
    "- compuesta (para cierto $n\\in \\mathbb{N}$ con $n>1$ y particiones arbitrarias): \n",
    "$$\\int_a^b f(x)\\,dx = \\sum_{i=0}^{n-1}\\int_{x_{i}}^{x_{i+1}} f(x)\\,dx\\simeq  \\sum_{i=0}^{n-1} (x_{i+1}- x_{i})\\, \\frac{f(x_{i})+f(x_{i+1})}{2}$$\n",
    "- compuesta (para cierto $n\\in \\mathbb{N}$ con $n>1$ y particiones uniformes): \n",
    "$$\\int_a^b f(x)\\,dx = \\sum_{i=0}^{n-1}\\int_{a+i\\,h}^{a+(i+1)\\,h} f(x)\\,dx\\simeq  h\\; \\sum_{i=0}^{n-1} \\frac{f(a+i\\,h)+f(a+(i+1)\\,h)}{2} = \\frac{h}{2}\\left( f(a)+2\\sum_{i=1}^{n-1}f(a+i\\,h)+f(b)\\right)$$\n",
    "\n",
    "Nótese que por otro lado, la fórmula de los trapecios simple se obtiene sin más que integrar en el intervalo $[a,b]$ la función lineal que pasa por los puntos $(a,f(a))$ y $(b,f(b))$ de manera que  $$\\int_a^b \\left( \\frac{f(b)-f(a)}{b-a}(x-a)+f(a) \\right)\\,dx \n",
    "= \\left[ \\frac{f(b)-f(a)}{b-a}\\frac{(x-a)^2}{2}+f(a)(x-a) \\right]_{x=a}^{x=b}=\\frac{f(b)-f(a)}{b-a}\\frac{(b-a)^2}{2}+f(a)(b-a)=\\frac{b-a}{2}(f(b)-f(a)+2f(a))= \\frac{b-a}{2}(f(a)+f(b))$$ "
   ]
  },
  {
   "cell_type": "code",
   "execution_count": 84,
   "metadata": {
    "collapsed": true
   },
   "outputs": [],
   "source": [
    "def formtrapecios(f,a,b,nx):\n",
    "    \"\"\"fórmula compuesta de los trapecios\"\"\"\n",
    "    h = (b-a)/nx\n",
    "    return h/2*(f(a)+2*sum([f(a+i*h) for i in range(1,nx)])+f(b))"
   ]
  },
  {
   "cell_type": "code",
   "execution_count": 85,
   "metadata": {
    "collapsed": false
   },
   "outputs": [
    {
     "data": {
      "image/png": "[encoded data removed]",
      "text/latex": [
       "$$1.33335$$"
      ],
      "text/plain": [
       "1.33335"
      ]
     },
     "execution_count": 85,
     "metadata": {},
     "output_type": "execute_result"
    }
   ],
   "source": [
    "formtrapecios(lambda x:x**2+1 ,0,1,100)"
   ]
  },
  {
   "cell_type": "code",
   "execution_count": 86,
   "metadata": {
    "collapsed": false
   },
   "outputs": [
    {
     "data": {
      "image/png": "[encoded data removed]",
      "text/latex": [
       "$$1.33335$$"
      ],
      "text/plain": [
       "1.33335"
      ]
     },
     "execution_count": 86,
     "metadata": {},
     "output_type": "execute_result"
    }
   ],
   "source": [
    "formtrapecios(f,0,1,100)"
   ]
  },
  {
   "cell_type": "code",
   "execution_count": 87,
   "metadata": {
    "collapsed": false
   },
   "outputs": [
    {
     "data": {
      "image/png": "[encoded data removed]",
      "text/plain": [
       "<matplotlib.figure.Figure at 0xa4332b0>"
      ]
     },
     "metadata": {},
     "output_type": "display_data"
    }
   ],
   "source": [
    "nxx = 100\n",
    "xx = np.linspace(float(a),float(b),nxx)\n",
    "yy = f(xx)\n",
    "x0 = [a,b]; y0 = [f(a),f(b)]\n",
    "zz = (y0[1]-y0[0])/(b-a)*(xx-a)+y0[0]\n",
    "fig,ax = plt.subplots(figsize=(8,8))\n",
    "ax.plot(x0,y0,'ro')\n",
    "ax.plot(xx,yy,'k',label='función del integrando')\n",
    "ax.fill_between(xx,0,zz)\n",
    "ax.legend(loc=9)\n",
    "ax.set_xlabel('$x$',fontsize=18)\n",
    "ax.set_ylabel('$y$',fontsize=18)\n",
    "ax.set_title('Fórmula del trapecio');"
   ]
  },
  {
   "cell_type": "code",
   "execution_count": 88,
   "metadata": {
    "collapsed": false
   },
   "outputs": [
    {
     "data": {
      "image/png": "[encoded data removed]",
      "text/plain": [
       "<matplotlib.figure.Figure at 0xa382cf8>"
      ]
     },
     "metadata": {},
     "output_type": "display_data"
    }
   ],
   "source": [
    "nxx = 100; nx=10\n",
    "xx = np.linspace(float(a),float(b),nxx)\n",
    "yy = f(xx)\n",
    "x = np.linspace(a,b,nx); y = f(x)\n",
    "\n",
    "fig,ax = plt.subplots(figsize=(8,8))\n",
    "ax.plot(x,y,'ro')\n",
    "ax.plot(xx,yy,'k',label='función del integrando')\n",
    "for k in range(1,nx):\n",
    "    zz = np.linspace(float(x[k-1]),float(x[k]),nxx)\n",
    "    yk = [linea(z,x[k-1],y[k-1],x[k],y[k]) for z in zz]\n",
    "    ax.fill_between(zz,0,yk);\n",
    "\n",
    "ax.legend(loc=9)\n",
    "ax.set_xlabel('$x$',fontsize=18)\n",
    "ax.set_ylabel('$y$',fontsize=18)\n",
    "ax.set_title('Fórmula del trapecio compuesta');"
   ]
  },
  {
   "cell_type": "markdown",
   "metadata": {},
   "source": [
    "## Fórmulas de Simpson (simple y compuesta)"
   ]
  },
  {
   "cell_type": "markdown",
   "metadata": {},
   "source": [
    "Ya hemos visto que las *fórmulas simples* de integración numérica  se pueden obtener sin más que sustituir la función del integrando por un polinomio de interpolación de grado cero (en el caso de las fórmulas de los rectángulos) o bien por un polinomio de grado uno que iterpola los valores de la función en ambos extremos del intervalo. \n",
    "\n",
    "Por otro lado, para obtener las correspondientes *fórmulas compuestas*, bastaría con sustituir la función en el intervalo total $[a,b]$ por funciones polinómicas a trozos: ya sea de grado cero discontínuas, (en el caso de las fórmulas de los rectángulos) o bien lineales contínuas (en el caso de la fórmula de los trapecios compuesta).\n",
    "\n",
    "En el caso de la fórmula de Simpson que nos ocupa ahora, este procedimiento se lleva un paso más allá, considerando ahora polinomios de grado $2$ (es decir, una parábola en el caso de la *fórmula de Simpson* simple o bien trozos de parábolas consecutivos, en el caso de la fórmula de Simpson compuesta)."
   ]
  },
  {
   "cell_type": "markdown",
   "metadata": {},
   "source": [
    "Empecemos pues recordando la fórmula que nos proporciona la parábola que pasa por tres puntos del plano distintos, que ya fué deducida en la corespondiente práctica sobre la interpolación lagrangiana."
   ]
  },
  {
   "cell_type": "code",
   "execution_count": 89,
   "metadata": {
    "collapsed": true
   },
   "outputs": [],
   "source": [
    "x = sp.Symbol('x')"
   ]
  },
  {
   "cell_type": "code",
   "execution_count": 90,
   "metadata": {
    "collapsed": true
   },
   "outputs": [],
   "source": [
    "def parabola(x,xL,yL,xM,yM,xR,yR):\n",
    "    return yL -(x-xL)*(x-xM)*(xL*yM-xL*yR-xM*yL+xM*yR+xR*yL-xR*yM)/(xL**2*xM-xL**2*xR-xL*xM**2+xL*xR**2+xM**2*xR-xM*xR**2)+(x-xL)*(yL-yM)/(xL-xM)"
   ]
  },
  {
   "cell_type": "markdown",
   "metadata": {},
   "source": [
    "Si ahora integramos la parábola que pasa por los puntos determinados por los valores de cierta función en los extremos del intervalo $[x_L,x_R]$: $(x_L,y_L)$ y $(x_R,y_R)$, así como por el correspondiente valor $y_M$ en el punto medio del intervalo $\\frac{x_L+x_R}{2}$, obtendremos la fórmula de Simpson simple."
   ]
  },
  {
   "cell_type": "code",
   "execution_count": 91,
   "metadata": {
    "collapsed": false
   },
   "outputs": [
    {
     "data": {
      "image/png": "[encoded data removed]",
      "text/latex": [
       "$$- \\frac{1}{6} \\left(xL - xR\\right) \\left(yL + 4 yM + yR\\right)$$"
      ],
      "text/plain": [
       "-(xL - xR)⋅(yL + 4⋅yM + yR) \n",
       "────────────────────────────\n",
       "             6              "
      ]
     },
     "execution_count": 91,
     "metadata": {},
     "output_type": "execute_result"
    }
   ],
   "source": [
    "sp.integrate(parabola(x,xL,yL,(xL+xR)/2,yM,xR,yR),[x,xL,xR]).factor()"
   ]
  },
  {
   "cell_type": "code",
   "execution_count": 92,
   "metadata": {
    "collapsed": false
   },
   "outputs": [
    {
     "name": "stdout",
     "output_type": "stream",
     "text": [
      "-(xL - xR)*(yL + 4*yM + yR)/6\n"
     ]
    }
   ],
   "source": [
    "print(_)"
   ]
  },
  {
   "cell_type": "code",
   "execution_count": 93,
   "metadata": {
    "collapsed": true
   },
   "outputs": [],
   "source": [
    "def Simpsonsimple(xL,yL,yM,xR,yR):\n",
    "    \"\"\"Fórmula de Simpson simple\"\"\"\n",
    "    return -(xL - xR)*(yL + 4*yM + yR)/6"
   ]
  },
  {
   "cell_type": "code",
   "execution_count": 94,
   "metadata": {
    "collapsed": true
   },
   "outputs": [],
   "source": [
    "f   = sp.Symbol('f')\n",
    "a,b = sp.symbols('a,b')"
   ]
  },
  {
   "cell_type": "code",
   "execution_count": 95,
   "metadata": {
    "collapsed": false
   },
   "outputs": [
    {
     "data": {
      "image/png": "[encoded data removed]",
      "text/latex": [
       "$$\\frac{1}{6} \\left(- a + b\\right) \\left(f{\\left (a \\right )} + f{\\left (b \\right )} + 4 f{\\left (\\frac{a}{2} + \\frac{b}{2} \\right )}\\right)$$"
      ],
      "text/plain": [
       "         ⎛                 ⎛a   b⎞⎞\n",
       "(-a + b)⋅⎜f(a) + f(b) + 4⋅f⎜─ + ─⎟⎟\n",
       "         ⎝                 ⎝2   2⎠⎠\n",
       "───────────────────────────────────\n",
       "                 6                 "
      ]
     },
     "execution_count": 95,
     "metadata": {},
     "output_type": "execute_result"
    }
   ],
   "source": [
    "Simpsonsimple(a,f(a),f((a+b)/2),b,f(b))"
   ]
  },
  {
   "cell_type": "markdown",
   "metadata": {},
   "source": [
    "Un método alternativo, pero equivalente, consistiría en imponer exactitud al menos para los monomios generadores de la base canónica de  $\\mathbb{P}_2\\equiv gen(\\{1,x,x^2\\})$, los polinomios de grado menor o igual que $2$.  Veámos cómo sería el proceso para esta fórmula de Simpson."
   ]
  },
  {
   "cell_type": "code",
   "execution_count": 96,
   "metadata": {
    "collapsed": false
   },
   "outputs": [
    {
     "data": {
      "image/png": "[encoded data removed]",
      "text/latex": [
       "$$\\left[\\begin{matrix}1 & 1 & 1 & - a + b\\\\a & \\frac{a}{2} + \\frac{b}{2} & b & - \\frac{a^{2}}{2} + \\frac{b^{2}}{2}\\\\a^{2} & \\left(\\frac{a}{2} + \\frac{b}{2}\\right)^{2} & b^{2} & - \\frac{a^{3}}{3} + \\frac{b^{3}}{3}\\end{matrix}\\right]$$"
      ],
      "text/plain": [
       "⎡1      1      1    -a + b  ⎤\n",
       "⎢                           ⎥\n",
       "⎢                     2    2⎥\n",
       "⎢     a   b          a    b ⎥\n",
       "⎢a    ─ + ─    b   - ── + ──⎥\n",
       "⎢     2   2          2    2 ⎥\n",
       "⎢                           ⎥\n",
       "⎢           2         3    3⎥\n",
       "⎢ 2  ⎛a   b⎞    2    a    b ⎥\n",
       "⎢a   ⎜─ + ─⎟   b   - ── + ──⎥\n",
       "⎣    ⎝2   2⎠         3    3 ⎦"
      ]
     },
     "execution_count": 96,
     "metadata": {},
     "output_type": "execute_result"
    }
   ],
   "source": [
    "AB = sp.Matrix([ [a**k,((a+b)/2)**k,b**k, sp.integrate(x**k,[x,a,b])] for k in range(3)])\n",
    "AB"
   ]
  },
  {
   "cell_type": "code",
   "execution_count": 97,
   "metadata": {
    "collapsed": true
   },
   "outputs": [],
   "source": [
    "?sp.linsolve"
   ]
  },
  {
   "cell_type": "code",
   "execution_count": 98,
   "metadata": {
    "collapsed": false
   },
   "outputs": [
    {
     "data": {
      "image/png": "[encoded data removed]",
      "text/latex": [
       "$$\\left\\{\\left ( - \\frac{a}{6} + \\frac{b}{6}, \\quad - \\frac{2 a}{3} + \\frac{2 b}{3}, \\quad - \\frac{a}{6} + \\frac{b}{6}\\right )\\right\\}$$"
      ],
      "text/plain": [
       "⎧⎛  a   b    2⋅a   2⋅b    a   b⎞⎫\n",
       "⎨⎜- ─ + ─, - ─── + ───, - ─ + ─⎟⎬\n",
       "⎩⎝  6   6     3     3     6   6⎠⎭"
      ]
     },
     "execution_count": 98,
     "metadata": {},
     "output_type": "execute_result"
    }
   ],
   "source": [
    "c0,c1,c2 = sp.symbols('c0,c1,c2')\n",
    "sp.linsolve(AB,[c0,c1,c2])"
   ]
  },
  {
   "cell_type": "markdown",
   "metadata": {},
   "source": [
    "Vemos que hubiéramos obtenido exactamente la misma fórmula por este procedimiento\n",
    "\n",
    "$$ \\int_a^b f(x)\\,dx \\simeq \\frac{b-a}{6} \\left( f(a)+ 4f(\\frac{a+b}{2}) +f(b) \\right)$$"
   ]
  },
  {
   "cell_type": "markdown",
   "metadata": {},
   "source": [
    "Ahora para obtener la correspondiente fórmula compuesta la idea sigue siendo la de aplicar esta misma fórmula pero aplicada a cada par de subintervalos consecutivos $[x_{i-1},x_i],\\; [x_{i},x_{i+1}]$ con $x_i=\\frac{x_{i-1}+x_{i+1}}{2}$. \n",
    "\n",
    "Esta cuestión la tendremos asegurada por ejemplo si la partición de partida\n",
    "$$a=x_0<x_1<\\ldots<x_n=b$$ \n",
    "es uniforme y tiene un número par de subintervalos ($n=2m$, con $m\\in \\mathbb{N}$). Así pues\n",
    "\n",
    "$$\\int_a^b f(x)\\,dx = \\sum_{i=1}^{m}\\int_{x_{2(i-1)}}^{x_{2i}} f(x)\\,dx\\simeq  \\sum_{i=1}^{m} \\frac{x_{2(i-1)}- x_{2i}}{6}\\,\n",
    "\\left(f(x_{2(i-1)})+ 4 f(x_{2i-1}) + f(x_{2i}) \\right) \\\\\n",
    "= \\frac{h}{3}\\,\\left(f(a)+2\\sum_{i=1}^{m-1}f(x_{2i})\n",
    "+4\\sum_{i=1}^{m}f(x_{2i-1}) + f(b) \\right)\n",
    "$$\n",
    "para $h:=\\frac{b-a}{n}$ con $n=2m$ en el caso de una partición uniforme con un número par de subintervalos de la misma longitud $h$."
   ]
  },
  {
   "cell_type": "code",
   "execution_count": 99,
   "metadata": {
    "collapsed": true
   },
   "outputs": [],
   "source": [
    "def Simpsoncompuesta(f,a,b,m):\n",
    "    \"\"\"fórmula de Simpson compuesta\"\"\"\n",
    "    h= (b-a)/(2*m)\n",
    "    P = sum([f(a+2*i*h) for i in range(1,m)])\n",
    "    I = sum([f(a+(2*i-1)*h) for i in range(1,m+1)])\n",
    "    E = f(a)+f(b)\n",
    "    return h/3*(E+2*P+4*I)"
   ]
  },
  {
   "cell_type": "code",
   "execution_count": 100,
   "metadata": {
    "collapsed": false
   },
   "outputs": [
    {
     "data": {
      "image/png": "[encoded data removed]",
      "text/latex": [
       "$$\\left ( 0.3333333333333333, \\quad \\frac{1}{3}\\right )$$"
      ],
      "text/plain": [
       "(0.3333333333333333, 1/3)"
      ]
     },
     "execution_count": 100,
     "metadata": {},
     "output_type": "execute_result"
    }
   ],
   "source": [
    "Simpsoncompuesta(lambda x:x**2,0,1,10),sp.integrate(x**2,[x,0,1])"
   ]
  },
  {
   "cell_type": "markdown",
   "metadata": {},
   "source": [
    "Observamos la gran precisión de la fórmula de Simpson compuesta, que además es muy fácil de implementar en la práctica.\n",
    "\n",
    "**Ejercicio:** Realice una comparativa entre los errores cometidos al aproximar una integral definida concreta (como por ejemplo, potencias sucesivas $x^i$, con $i=1,2,3,\\ldots$) mediante las fórmulas de los trapecios y de Simpson compuestas; e inducir de ahí, los posibles órdenes de exactitud (a partir de los valores de $i$ que proporcionen valores exactos de la integral) y de aproximación (en función de $h=\\frac{b-a}{n}$, con $n=2m$ para $m\\in\\mathbb{N}$) de ambas fórmulas. No deje de tener en cuenta los posibles errores de redondeo, inevitables en todo cálculo realizado con ordenador."
   ]
  },
  {
   "cell_type": "code",
   "execution_count": 101,
   "metadata": {
    "collapsed": false
   },
   "outputs": [
    {
     "data": {
      "image/png": "[encoded data removed]",
      "text/latex": [
       "$$0.01$$"
      ],
      "text/plain": [
       "0.01"
      ]
     },
     "execution_count": 101,
     "metadata": {},
     "output_type": "execute_result"
    }
   ],
   "source": [
    "m = 50; a = 0; b = 1;\n",
    "h = (b-a)/(2*m); h"
   ]
  },
  {
   "cell_type": "code",
   "execution_count": 102,
   "metadata": {
    "collapsed": false
   },
   "outputs": [
    {
     "data": {
      "image/png": "[encoded data removed]",
      "text/latex": [
       "$$\\left ( 0.5, \\quad 0.5, \\quad 0.5\\right )$$"
      ],
      "text/plain": [
       "(0.5, 0.5, 0.5)"
      ]
     },
     "execution_count": 102,
     "metadata": {},
     "output_type": "execute_result"
    }
   ],
   "source": [
    "k = 1; \n",
    "formtrapecios(lambda x:x**k ,a,b,2*m),Simpsoncompuesta(lambda x:x**k,a,b,m),(b**(k+1)-a**(k+1))/(k+1)"
   ]
  },
  {
   "cell_type": "code",
   "execution_count": 103,
   "metadata": {
    "collapsed": false
   },
   "outputs": [
    {
     "data": {
      "image/png": "[encoded data removed]",
      "text/latex": [
       "$$\\left ( 0.33335000000000004, \\quad 0.33333333333333337, \\quad 0.3333333333333333\\right )$$"
      ],
      "text/plain": [
       "(0.33335000000000004, 0.33333333333333337, 0.3333333333333333)"
      ]
     },
     "execution_count": 103,
     "metadata": {},
     "output_type": "execute_result"
    }
   ],
   "source": [
    "k = 2; \n",
    "formtrapecios(lambda x:x**k ,a,b,2*m),Simpsoncompuesta(lambda x:x**k,a,b,m),(b**(k+1)-a**(k+1))/(k+1)"
   ]
  },
  {
   "cell_type": "code",
   "execution_count": 104,
   "metadata": {
    "collapsed": false
   },
   "outputs": [
    {
     "data": {
      "image/png": "[encoded data removed]",
      "text/latex": [
       "$$\\left ( 0.250025, \\quad 0.25, \\quad 0.25\\right )$$"
      ],
      "text/plain": [
       "(0.250025, 0.25, 0.25)"
      ]
     },
     "execution_count": 104,
     "metadata": {},
     "output_type": "execute_result"
    }
   ],
   "source": [
    "k = 3; \n",
    "formtrapecios(lambda x:x**k ,a,b,2*m),Simpsoncompuesta(lambda x:x**k,a,b,m),(b**(k+1)-a**(k+1))/(k+1)"
   ]
  },
  {
   "cell_type": "code",
   "execution_count": 105,
   "metadata": {
    "collapsed": false
   },
   "outputs": [
    {
     "data": {
      "image/png": "[encoded data removed]",
      "text/latex": [
       "$$\\left ( 0.20003333300000006, \\quad 0.20000000133333337, \\quad 0.2\\right )$$"
      ],
      "text/plain": [
       "(0.20003333300000006, 0.20000000133333337, 0.2)"
      ]
     },
     "execution_count": 105,
     "metadata": {},
     "output_type": "execute_result"
    }
   ],
   "source": [
    "k = 4; \n",
    "formtrapecios(lambda x:x**k ,a,b,2*m),Simpsoncompuesta(lambda x:x**k,a,b,m),(b**(k+1)-a**(k+1))/(k+1)"
   ]
  },
  {
   "cell_type": "code",
   "execution_count": 106,
   "metadata": {
    "collapsed": false
   },
   "outputs": [],
   "source": [
    "f = func"
   ]
  },
  {
   "cell_type": "code",
   "execution_count": 107,
   "metadata": {
    "collapsed": false
   },
   "outputs": [],
   "source": [
    "m=5; # Veámos ahora gráficamente cómo se puede visualizar esta \n",
    "nx=2*m; nxx = 100;  # fórmula de Simpson compuesta\n",
    "xx = np.linspace(float(a),float(b),nxx+1)\n",
    "yy = f(xx)\n",
    "x = np.linspace(a,b,nx+1); y = f(x)"
   ]
  },
  {
   "cell_type": "code",
   "execution_count": 108,
   "metadata": {
    "collapsed": false
   },
   "outputs": [
    {
     "data": {
      "image/png": "[encoded data removed]",
      "text/plain": [
       "<matplotlib.figure.Figure at 0xb6415c0>"
      ]
     },
     "metadata": {},
     "output_type": "display_data"
    }
   ],
   "source": [
    "fig,ax = plt.subplots(figsize=(8,8))\n",
    "ax.plot(x,y,'ro')\n",
    "ax.plot(xx,yy,'k',label='función del integrando')\n",
    "\n",
    "for k in range(1,m+1):\n",
    "    zz = np.linspace(float(x[2*(k-1)]),float(x[2*k]),nxx)\n",
    "    yk = [parabola(z,x[2*(k-1)],y[2*(k-1)],x[2*k-1],y[2*k-1],x[2*k],y[2*k]) for z in zz]\n",
    "    ax.fill_between(zz,0,yk);\n",
    "\n",
    "ax.legend(loc=9)\n",
    "ax.set_xlabel('$x$',fontsize=18)\n",
    "ax.set_ylabel('$y$',fontsize=18)\n",
    "ax.set_title('Fórmula de Simpson compuesta');"
   ]
  },
  {
   "cell_type": "markdown",
   "metadata": {},
   "source": [
    "## Fórmulas del Trapecio corregida"
   ]
  },
  {
   "cell_type": "markdown",
   "metadata": {},
   "source": [
    "Por último, vamos a obtener la fórmula del trapecio corregida, es decir, la que usa como datos el valor de la función y el de la derivada en cada extremo."
   ]
  },
  {
   "cell_type": "code",
   "execution_count": 109,
   "metadata": {
    "collapsed": true
   },
   "outputs": [],
   "source": [
    "def parabolaconderivada(x,d,xL,yL,xR,yR):\n",
    "    \"\"\"parábola con derivada fijada en el primer punto\"\"\"\n",
    "    return (yL*(xL-xR)**2+(x-xL)*(x-xR)*(d*(xL-xR)+(yR-yL))+(x-xL)*(xL-xR)*(yL-yR))/(xL-xR)**2\n",
    "\n",
    "def cubicaconderivadas(x,xL,yL,dL,xR,yR,dR):\n",
    "    \"\"\"cúbica con datos de Lagrange y Hermite en ambos extremos\"\"\"\n",
    "    # DR = sp.Symbol('DR')\n",
    "    # DR = sp.Rational(dL*xL-dL*xR+dR*xL-dR*xR-2*(yL-yR),(xL-xR)**3)\n",
    "    DR = (dL*xL-dL*xR+dR*xL-dR*xR-2*(yL-yR))/(xL-xR)**3\n",
    "    return parabolaconderivada(x,dL,xL,yL,xR,yR) + DR*(x-xL)**2*(x-xR)"
   ]
  },
  {
   "cell_type": "code",
   "execution_count": 110,
   "metadata": {
    "collapsed": true
   },
   "outputs": [],
   "source": [
    "f   = sp.Symbol('f')\n",
    "df  = sp.Symbol('df')\n",
    "a,b = sp.symbols('a,b')\n",
    "x   = sp.Symbol('x')"
   ]
  },
  {
   "cell_type": "code",
   "execution_count": 111,
   "metadata": {
    "collapsed": false
   },
   "outputs": [
    {
     "data": {
      "image/png": "[encoded data removed]",
      "text/latex": [
       "$$\\frac{\\left(- a + x\\right)^{2}}{\\left(a - b\\right)^{3}} \\left(- b + x\\right) \\left(a \\operatorname{df}{\\left (a \\right )} + a \\operatorname{df}{\\left (b \\right )} - b \\operatorname{df}{\\left (a \\right )} - b \\operatorname{df}{\\left (b \\right )} - 2 f{\\left (a \\right )} + 2 f{\\left (b \\right )}\\right) + \\frac{1}{\\left(a - b\\right)^{2}} \\left(\\left(- a + x\\right) \\left(a - b\\right) \\left(f{\\left (a \\right )} - f{\\left (b \\right )}\\right) + \\left(- a + x\\right) \\left(- b + x\\right) \\left(\\left(a - b\\right) \\operatorname{df}{\\left (a \\right )} - f{\\left (a \\right )} + f{\\left (b \\right )}\\right) + \\left(a - b\\right)^{2} f{\\left (a \\right )}\\right)$$"
      ],
      "text/plain": [
       "        2                                                                     \n",
       "(-a + x) ⋅(-b + x)⋅(a⋅df(a) + a⋅df(b) - b⋅df(a) - b⋅df(b) - 2⋅f(a) + 2⋅f(b))  \n",
       "──────────────────────────────────────────────────────────────────────────── +\n",
       "                                         3                                    \n",
       "                                  (a - b)                                     \n",
       "\n",
       "                                                                              \n",
       " (-a + x)⋅(a - b)⋅(f(a) - f(b)) + (-a + x)⋅(-b + x)⋅((a - b)⋅df(a) - f(a) + f(\n",
       " ─────────────────────────────────────────────────────────────────────────────\n",
       "                                                    2                         \n",
       "                                             (a - b)                          \n",
       "\n",
       "             2     \n",
       "b)) + (a - b) ⋅f(a)\n",
       "───────────────────\n",
       "                   \n",
       "                   "
      ]
     },
     "execution_count": 111,
     "metadata": {},
     "output_type": "execute_result"
    }
   ],
   "source": [
    "cubicaconderivadas(x,a,f(a),df(a),b,f(b),df(b))"
   ]
  },
  {
   "cell_type": "code",
   "execution_count": 112,
   "metadata": {
    "collapsed": false
   },
   "outputs": [
    {
     "data": {
      "image/png": "[encoded data removed]",
      "text/latex": [
       "$$\\frac{1}{12} \\left(a - b\\right) \\left(a \\operatorname{df}{\\left (a \\right )} - a \\operatorname{df}{\\left (b \\right )} - b \\operatorname{df}{\\left (a \\right )} + b \\operatorname{df}{\\left (b \\right )} - 6 f{\\left (a \\right )} - 6 f{\\left (b \\right )}\\right)$$"
      ],
      "text/plain": [
       "(a - b)⋅(a⋅df(a) - a⋅df(b) - b⋅df(a) + b⋅df(b) - 6⋅f(a) - 6⋅f(b))\n",
       "─────────────────────────────────────────────────────────────────\n",
       "                                12                               "
      ]
     },
     "execution_count": 112,
     "metadata": {},
     "output_type": "execute_result"
    }
   ],
   "source": [
    "sp.integrate(cubicaconderivadas(x,a,f(a),df(a),b,f(b),df(b)),[x,a,b]).factor()"
   ]
  },
  {
   "cell_type": "code",
   "execution_count": 113,
   "metadata": {
    "collapsed": false
   },
   "outputs": [
    {
     "name": "stdout",
     "output_type": "stream",
     "text": [
      "(a - b)*(a*df(a) - a*df(b) - b*df(a) + b*df(b) - 6*f(a) - 6*f(b))/12\n"
     ]
    }
   ],
   "source": [
    "print(_)"
   ]
  },
  {
   "cell_type": "markdown",
   "metadata": {
    "collapsed": true
   },
   "source": [
    "Obtenemos pues finalmente la siguiente *fórmula del trapecio corregida*\n",
    "\n",
    "$$\\int_a^b f(x)\\,dx \\simeq \\frac{b-a}{12}\\left(6(f(a)+f(b))\n",
    "-(b-a)(f'(b)-f'(a)) \\right)\n",
    "$$"
   ]
  },
  {
   "cell_type": "code",
   "execution_count": 114,
   "metadata": {
    "collapsed": false
   },
   "outputs": [
    {
     "data": {
      "image/png": "[encoded data removed]",
      "text/latex": [
       "$$\\frac{1}{12} \\left(- a + b\\right) \\left(- a \\operatorname{df}{\\left (a \\right )} + a \\operatorname{df}{\\left (b \\right )} + b \\operatorname{df}{\\left (a \\right )} - b \\operatorname{df}{\\left (b \\right )} + 6 f{\\left (a \\right )} + 6 f{\\left (b \\right )}\\right)$$"
      ],
      "text/plain": [
       "(-a + b)⋅(-a⋅df(a) + a⋅df(b) + b⋅df(a) - b⋅df(b) + 6⋅f(a) + 6⋅f(b))\n",
       "───────────────────────────────────────────────────────────────────\n",
       "                                 12                                "
      ]
     },
     "execution_count": 114,
     "metadata": {},
     "output_type": "execute_result"
    }
   ],
   "source": [
    "(b-a)*(-a*df(a)+a*df(b)+b*df(a)-b*df(b)+6*f(a)+6*f(b))/12"
   ]
  },
  {
   "cell_type": "code",
   "execution_count": 115,
   "metadata": {
    "collapsed": false
   },
   "outputs": [],
   "source": [
    "a = 0; b = 1; f = func; df = dfunc"
   ]
  },
  {
   "cell_type": "code",
   "execution_count": 116,
   "metadata": {
    "collapsed": false
   },
   "outputs": [],
   "source": [
    "nx=10;\n",
    "x = np.linspace(a,b,nx); y = f(x)\n",
    "d = df(x)"
   ]
  },
  {
   "cell_type": "code",
   "execution_count": 117,
   "metadata": {
    "collapsed": false
   },
   "outputs": [],
   "source": [
    "nxx = 100;\n",
    "xx = np.linspace(a,b,nxx)\n",
    "yy = f(xx)"
   ]
  },
  {
   "cell_type": "code",
   "execution_count": 118,
   "metadata": {
    "collapsed": false
   },
   "outputs": [
    {
     "data": {
      "image/png": "[encoded data removed]",
      "text/plain": [
       "<matplotlib.figure.Figure at 0xa447780>"
      ]
     },
     "metadata": {},
     "output_type": "display_data"
    }
   ],
   "source": [
    "fig,ax = plt.subplots(figsize=(8,8))\n",
    "ax.plot(x,y,'ro')\n",
    "ax.plot(xx,yy,'k',label='función del integrando')\n",
    "for k in range(1,nx):\n",
    "    zz = np.linspace(float(x[k-1]),float(x[k]),nxx)\n",
    "    yk = [cubicaconderivadas(z,x[k-1],y[k-1],d[k-1],x[k],y[k],d[k]) for z in zz]\n",
    "    ax.fill_between(zz,0,yk);\n",
    "\n",
    "ax.legend(loc=9)\n",
    "ax.set_xlabel('$x$',fontsize=18)\n",
    "ax.set_ylabel('$y$',fontsize=18)\n",
    "ax.set_title('Fórmula del trapecio corregida compuesta');"
   ]
  },
  {
   "cell_type": "markdown",
   "metadata": {},
   "source": [
    "**Ejercicio:** Escribir y a continuación implementar la correspondiente fórmula compuesta asociada a esta nueva fórmula del trapecio corregida cuando se aplicaría a una función derivable en un intervalo genérico $[a,b]$."
   ]
  },
  {
   "cell_type": "code",
   "execution_count": 119,
   "metadata": {
    "collapsed": true
   },
   "outputs": [],
   "source": [
    "def formtrapecioscorregida(f,df,a,b,nx):\n",
    "    h = (b-a)/nx\n",
    "    return h/2*(f(a)+f(b)+2*sum([f(a+i*h) for i in range(1,nx)]))-h**2/12*(df(b)-df(a))"
   ]
  },
  {
   "cell_type": "code",
   "execution_count": 120,
   "metadata": {
    "collapsed": false
   },
   "outputs": [
    {
     "data": {
      "image/png": "[encoded data removed]",
      "text/latex": [
       "$$0.33333333333333326$$"
      ],
      "text/plain": [
       "0.33333333333333326"
      ]
     },
     "execution_count": 120,
     "metadata": {},
     "output_type": "execute_result"
    }
   ],
   "source": [
    "k=2;\n",
    "formtrapecioscorregida(lambda z:z**k,lambda z:k*z**(k-1),0,1,1000)"
   ]
  },
  {
   "cell_type": "code",
   "execution_count": 121,
   "metadata": {
    "collapsed": false
   },
   "outputs": [
    {
     "data": {
      "image/png": "[encoded data removed]",
      "text/latex": [
       "$$\\left ( 0.3333333333, \\quad 0.3333333333\\right )$$"
      ],
      "text/plain": [
       "(0.3333333333, 0.3333333333)"
      ]
     },
     "execution_count": 121,
     "metadata": {},
     "output_type": "execute_result"
    }
   ],
   "source": [
    "k=2; ncifras = 10; # juegue con los valores de k y ncifras\n",
    "sp.N(1/(k+1),ncifras),sp.N(formtrapecioscorregida(lambda z:z**k,lambda z:k*z**(k-1),0,1,1000),ncifras)"
   ]
  },
  {
   "cell_type": "markdown",
   "metadata": {},
   "source": [
    "## Fórmulas gaussianas"
   ]
  },
  {
   "cell_type": "markdown",
   "metadata": {},
   "source": [
    "Las fórmulas gaussianas usan como nodos aquellos que conducen a una precisión máxima. Si vamos a construir una fórmula de integración numérica con $n$ nodos, sabemos que podemos elegirlos de manera única, de forma que la fórmula correspondiente alcanza precisión $2n-1$. Por tanto, para construir fórmulas gaussianas, hemos de calcular los nodos y los coeficientes. Tenemos varias alternativas; una de ellas es plantear el sistema no lineal de las $2n$ incógnitas que resulta de imponer exactitud para $1, x, \\ldots,x^{2n-1}$. \n",
    "\n",
    "Lo haremos a continuación, puesto que *Python* (o cualquier otro sistema que permita realizar cálculos simbólicos, o bien numéricos) lo resuelve sin dificultad para valores de $n$ bajos. También sabemos que los nodos de una fórmula gaussiana son los ceros de cierto polinomio ortogonal. Para los productos escalares más usuales, los *polinomios ortogonales* correspondientes están contenidos en ciertos módulos concretos de *Python*; por tanto, podemos calcular sus raíces para obtener dichos nodos. Lo haremos para el polinomio de Laguerre. En un caso especial es posible encontrar el polinomio ortogonal correspondiente y calcular sus raíces con la orden correspondiente."
   ]
  },
  {
   "cell_type": "markdown",
   "metadata": {},
   "source": [
    "### La fórmula gaussiana con dos nodos y peso $w=1$"
   ]
  },
  {
   "cell_type": "code",
   "execution_count": 122,
   "metadata": {
    "collapsed": true
   },
   "outputs": [],
   "source": [
    "a = -1; b = 1; n = 2\n",
    "grexact = 2*n-1"
   ]
  },
  {
   "cell_type": "code",
   "execution_count": 123,
   "metadata": {
    "collapsed": true
   },
   "outputs": [],
   "source": [
    "p,c = sp.symbols('p,c') \n",
    "nodos1 = [p(i) for i in range(n)]\n",
    "coefs1 = [c(i) for i in range(n)]\n",
    "incogs1 = coefs1 + nodos1   # aquí el signo '+' indica simplemente \n",
    "# yuxtaposición de las listas ps y cs"
   ]
  },
  {
   "cell_type": "code",
   "execution_count": 124,
   "metadata": {
    "collapsed": false
   },
   "outputs": [
    {
     "data": {
      "image/png": "[encoded data removed]",
      "text/latex": [
       "$$\\left [ c{\\left (0 \\right )}, \\quad c{\\left (1 \\right )}, \\quad p{\\left (0 \\right )}, \\quad p{\\left (1 \\right )}\\right ]$$"
      ],
      "text/plain": [
       "[c(0), c(1), p(0), p(1)]"
      ]
     },
     "execution_count": 124,
     "metadata": {},
     "output_type": "execute_result"
    }
   ],
   "source": [
    "incogs1"
   ]
  },
  {
   "cell_type": "code",
   "execution_count": 125,
   "metadata": {
    "collapsed": false
   },
   "outputs": [
    {
     "data": {
      "image/png": "[encoded data removed]",
      "text/latex": [
       "$$\\left [ \\left [ 1, \\quad 1\\right ], \\quad \\left [ p{\\left (0 \\right )}, \\quad p{\\left (1 \\right )}\\right ], \\quad \\left [ p^{2}{\\left (0 \\right )}, \\quad p^{2}{\\left (1 \\right )}\\right ]\\right ]$$"
      ],
      "text/plain": [
       "⎡                      ⎡ 2      2   ⎤⎤\n",
       "⎣[1, 1], [p(0), p(1)], ⎣p (0), p (1)⎦⎦"
      ]
     },
     "execution_count": 125,
     "metadata": {},
     "output_type": "execute_result"
    }
   ],
   "source": [
    "[[(z**i).subs({z:nodos1[j]}) for j in range(n)] for i in range(grexact)]"
   ]
  },
  {
   "cell_type": "code",
   "execution_count": 126,
   "metadata": {
    "collapsed": false
   },
   "outputs": [
    {
     "data": {
      "image/png": "[encoded data removed]",
      "text/latex": [
       "$$\\left [ c{\\left (0 \\right )} + c{\\left (1 \\right )} - 2, \\quad c{\\left (0 \\right )} p{\\left (0 \\right )} + c{\\left (1 \\right )} p{\\left (1 \\right )}, \\quad c{\\left (0 \\right )} p^{2}{\\left (0 \\right )} + c{\\left (1 \\right )} p^{2}{\\left (1 \\right )} - \\frac{2}{3}, \\quad c{\\left (0 \\right )} p^{3}{\\left (0 \\right )} + c{\\left (1 \\right )} p^{3}{\\left (1 \\right )}\\right ]$$"
      ],
      "text/plain": [
       "⎡                                              2            2      2        3 \n",
       "⎢c(0) + c(1) - 2, c(0)⋅p(0) + c(1)⋅p(1), c(0)⋅p (0) + c(1)⋅p (1) - ─, c(0)⋅p (\n",
       "⎣                                                                  3          \n",
       "\n",
       "           3   ⎤\n",
       "0) + c(1)⋅p (1)⎥\n",
       "               ⎦"
      ]
     },
     "execution_count": 126,
     "metadata": {},
     "output_type": "execute_result"
    }
   ],
   "source": [
    "ecs1 = [np.dot([(z**i).subs({z:nodos1[j]}) for j in range(n)],coefs1)-sp.Rational(b**(i+1)-a**(i+1),(i+1)) for i in range(grexact+1)]\n",
    "ecs1"
   ]
  },
  {
   "cell_type": "code",
   "execution_count": 127,
   "metadata": {
    "collapsed": false
   },
   "outputs": [
    {
     "data": {
      "image/png": "[encoded data removed]",
      "text/latex": [
       "$$\\left [ \\left ( 1, \\quad 1, \\quad - \\frac{\\sqrt{3}}{3}, \\quad \\frac{\\sqrt{3}}{3}\\right ), \\quad \\left ( 1, \\quad 1, \\quad \\frac{\\sqrt{3}}{3}, \\quad - \\frac{\\sqrt{3}}{3}\\right )\\right ]$$"
      ],
      "text/plain": [
       "⎡⎛      -√3   √3⎞  ⎛      √3  -√3 ⎞⎤\n",
       "⎢⎜1, 1, ────, ──⎟, ⎜1, 1, ──, ────⎟⎥\n",
       "⎣⎝       3    3 ⎠  ⎝      3    3  ⎠⎦"
      ]
     },
     "execution_count": 127,
     "metadata": {},
     "output_type": "execute_result"
    }
   ],
   "source": [
    "solsGauss1 = sp.solve(ecs1,incogs1)\n",
    "solsGauss1"
   ]
  },
  {
   "cell_type": "code",
   "execution_count": 128,
   "metadata": {
    "collapsed": false
   },
   "outputs": [
    {
     "data": {
      "image/png": "[encoded data removed]",
      "text/latex": [
       "$$\\left [ 1, \\quad 1\\right ]$$"
      ],
      "text/plain": [
       "[1, 1]"
      ]
     },
     "execution_count": 128,
     "metadata": {},
     "output_type": "execute_result"
    }
   ],
   "source": [
    "for i in range(n):\n",
    "    coefs1[i] = solsGauss1[0][i]\n",
    "coefs1"
   ]
  },
  {
   "cell_type": "code",
   "execution_count": 129,
   "metadata": {
    "collapsed": false
   },
   "outputs": [
    {
     "data": {
      "image/png": "[encoded data removed]",
      "text/latex": [
       "$$\\left [ - \\frac{\\sqrt{3}}{3}, \\quad \\frac{\\sqrt{3}}{3}\\right ]$$"
      ],
      "text/plain": [
       "⎡-√3   √3⎤\n",
       "⎢────, ──⎥\n",
       "⎣ 3    3 ⎦"
      ]
     },
     "execution_count": 129,
     "metadata": {},
     "output_type": "execute_result"
    }
   ],
   "source": [
    "for i in range(n):\n",
    "    nodos1[i] = solsGauss1[0][n+i]\n",
    "nodos1"
   ]
  },
  {
   "cell_type": "code",
   "execution_count": 130,
   "metadata": {
    "collapsed": false
   },
   "outputs": [
    {
     "data": {
      "image/png": "[encoded data removed]",
      "text/latex": [
       "$$\\frac{8}{3}$$"
      ],
      "text/plain": [
       "8/3"
      ]
     },
     "execution_count": 130,
     "metadata": {},
     "output_type": "execute_result"
    }
   ],
   "source": [
    "formGauss1 = np.dot([f(nodos1[i]) for i in range(n)],coefs1)\n",
    "formGauss1"
   ]
  },
  {
   "cell_type": "markdown",
   "metadata": {},
   "source": [
    "Vemos pues que con la ayuda del comando `solve` del módulo de cálculo simbólico `SymPy` hemos podido obtener sin demasiado problema tanto los coeficientes de la fórmula Gaussiana como los nodos que hace falta considerar para obtener la máxima exactitud en el intervalo considerado ($[-1,1]$ en este caso). También vemos que\n",
    "uno de los posibles inconvenientes para la obtención de estas fórmulas gaussianas es que debemos resolver sistemas de ecuaciones no lineales, no siempre fáciles de resolver, aparte de que los nodos suelen ser números trascencentes, y si no trabajáramos en simbólico, ya su mera aproximación introduciría un primer error."
   ]
  },
  {
   "cell_type": "markdown",
   "metadata": {},
   "source": [
    "### Una fórmula gaussiana para una función peso no idénticamente uno"
   ]
  },
  {
   "cell_type": "code",
   "execution_count": 131,
   "metadata": {
    "collapsed": false
   },
   "outputs": [
    {
     "data": {
      "image/png": "[encoded data removed]",
      "text/latex": [
       "$$\\left ( 0, \\quad \\infty\\right )$$"
      ],
      "text/plain": [
       "(0, ∞)"
      ]
     },
     "execution_count": 131,
     "metadata": {},
     "output_type": "execute_result"
    }
   ],
   "source": [
    "a = 0; b = sp.oo;\n",
    "(a,b)"
   ]
  },
  {
   "cell_type": "code",
   "execution_count": 132,
   "metadata": {
    "collapsed": true
   },
   "outputs": [],
   "source": [
    "x = sp.Symbol('x')\n",
    "def w(x):\n",
    "    \"\"\"función peso\"\"\"\n",
    "    return sp.exp(-x)"
   ]
  },
  {
   "cell_type": "code",
   "execution_count": 133,
   "metadata": {
    "collapsed": false
   },
   "outputs": [
    {
     "data": {
      "image/png": "[encoded data removed]",
      "text/latex": [
       "$$\\left ( e, \\quad 1, \\quad e^{-1}\\right )$$"
      ],
      "text/plain": [
       "⎛       -1⎞\n",
       "⎝ℯ, 1, ℯ  ⎠"
      ]
     },
     "execution_count": 133,
     "metadata": {},
     "output_type": "execute_result"
    }
   ],
   "source": [
    "w(-1),w(0),w(1)"
   ]
  },
  {
   "cell_type": "code",
   "execution_count": 134,
   "metadata": {
    "collapsed": true
   },
   "outputs": [],
   "source": [
    "n = 2; grexact = 2*n-1"
   ]
  },
  {
   "cell_type": "code",
   "execution_count": 135,
   "metadata": {
    "collapsed": false
   },
   "outputs": [
    {
     "data": {
      "image/png": "[encoded data removed]",
      "text/latex": [
       "$$\\left [ c{\\left (0 \\right )}, \\quad c{\\left (1 \\right )}, \\quad p{\\left (0 \\right )}, \\quad p{\\left (1 \\right )}\\right ]$$"
      ],
      "text/plain": [
       "[c(0), c(1), p(0), p(1)]"
      ]
     },
     "execution_count": 135,
     "metadata": {},
     "output_type": "execute_result"
    }
   ],
   "source": [
    "p,c = sp.symbols('p,c') \n",
    "nodos2 = [p(i) for i in range(n)]\n",
    "coefs2 = [c(i) for i in range(n)]\n",
    "incogs2 = coefs2 + nodos2\n",
    "incogs2"
   ]
  },
  {
   "cell_type": "code",
   "execution_count": 136,
   "metadata": {
    "collapsed": false
   },
   "outputs": [
    {
     "data": {
      "image/png": "[encoded data removed]",
      "text/latex": [
       "$$\\left [ c{\\left (0 \\right )} + c{\\left (1 \\right )} - 1, \\quad c{\\left (0 \\right )} p{\\left (0 \\right )} + c{\\left (1 \\right )} p{\\left (1 \\right )} - 1, \\quad c{\\left (0 \\right )} p^{2}{\\left (0 \\right )} + c{\\left (1 \\right )} p^{2}{\\left (1 \\right )} - 2, \\quad c{\\left (0 \\right )} p^{3}{\\left (0 \\right )} + c{\\left (1 \\right )} p^{3}{\\left (1 \\right )} - 6\\right ]$$"
      ],
      "text/plain": [
       "⎡                                                  2            2             \n",
       "⎣c(0) + c(1) - 1, c(0)⋅p(0) + c(1)⋅p(1) - 1, c(0)⋅p (0) + c(1)⋅p (1) - 2, c(0)\n",
       "\n",
       "  3            3       ⎤\n",
       "⋅p (0) + c(1)⋅p (1) - 6⎦"
      ]
     },
     "execution_count": 136,
     "metadata": {},
     "output_type": "execute_result"
    }
   ],
   "source": [
    "ecs2 = [np.dot([(z**i).subs({z:nodos2[j]}) for j in range(n)],coefs2)-sp.integrate(w(x)*x**i,(x,a,b)) for i in range(grexact+1)]\n",
    "ecs2"
   ]
  },
  {
   "cell_type": "code",
   "execution_count": 137,
   "metadata": {
    "collapsed": false
   },
   "outputs": [
    {
     "data": {
      "image/png": "[encoded data removed]",
      "text/latex": [
       "$$\\left [ \\left ( - \\frac{\\sqrt{2}}{4} + \\frac{1}{2}, \\quad \\frac{\\sqrt{2}}{4} + \\frac{1}{2}, \\quad \\sqrt{2} + 2, \\quad - \\sqrt{2} + 2\\right ), \\quad \\left ( \\frac{\\sqrt{2}}{4} + \\frac{1}{2}, \\quad - \\frac{\\sqrt{2}}{4} + \\frac{1}{2}, \\quad - \\sqrt{2} + 2, \\quad \\sqrt{2} + 2\\right )\\right ]$$"
      ],
      "text/plain": [
       "⎡⎛  √2   1  √2   1                 ⎞  ⎛√2   1    √2   1                 ⎞⎤\n",
       "⎢⎜- ── + ─, ── + ─, √2 + 2, -√2 + 2⎟, ⎜── + ─, - ── + ─, -√2 + 2, √2 + 2⎟⎥\n",
       "⎣⎝  4    2  4    2                 ⎠  ⎝4    2    4    2                 ⎠⎦"
      ]
     },
     "execution_count": 137,
     "metadata": {},
     "output_type": "execute_result"
    }
   ],
   "source": [
    "solsGauss2 = sp.solve(ecs2,incogs2)\n",
    "solsGauss2"
   ]
  },
  {
   "cell_type": "code",
   "execution_count": 138,
   "metadata": {
    "collapsed": false
   },
   "outputs": [
    {
     "data": {
      "image/png": "[encoded data removed]",
      "text/latex": [
       "$$\\left [ - \\frac{\\sqrt{2}}{4} + \\frac{1}{2}, \\quad \\frac{\\sqrt{2}}{4} + \\frac{1}{2}\\right ]$$"
      ],
      "text/plain": [
       "⎡  √2   1  √2   1⎤\n",
       "⎢- ── + ─, ── + ─⎥\n",
       "⎣  4    2  4    2⎦"
      ]
     },
     "execution_count": 138,
     "metadata": {},
     "output_type": "execute_result"
    }
   ],
   "source": [
    "for i in range(n):\n",
    "    coefs2[i] = solsGauss2[0][i]\n",
    "coefs2"
   ]
  },
  {
   "cell_type": "code",
   "execution_count": 139,
   "metadata": {
    "collapsed": false
   },
   "outputs": [
    {
     "data": {
      "image/png": "[encoded data removed]",
      "text/latex": [
       "$$\\left [ \\sqrt{2} + 2, \\quad - \\sqrt{2} + 2\\right ]$$"
      ],
      "text/plain": [
       "[√2 + 2, -√2 + 2]"
      ]
     },
     "execution_count": 139,
     "metadata": {},
     "output_type": "execute_result"
    }
   ],
   "source": [
    "for i in range(n):\n",
    "    nodos2[i] = solsGauss2[0][n+i]\n",
    "nodos2"
   ]
  },
  {
   "cell_type": "code",
   "execution_count": 140,
   "metadata": {
    "collapsed": true
   },
   "outputs": [],
   "source": [
    "f = sp.Symbol('f')\n",
    "?f"
   ]
  },
  {
   "cell_type": "code",
   "execution_count": 141,
   "metadata": {
    "collapsed": false
   },
   "outputs": [
    {
     "data": {
      "image/png": "[encoded data removed]",
      "text/latex": [
       "$$\\left [ - \\frac{\\sqrt{2}}{4} + \\frac{1}{2}, \\quad \\frac{\\sqrt{2}}{4} + \\frac{1}{2}\\right ]$$"
      ],
      "text/plain": [
       "⎡  √2   1  √2   1⎤\n",
       "⎢- ── + ─, ── + ─⎥\n",
       "⎣  4    2  4    2⎦"
      ]
     },
     "execution_count": 141,
     "metadata": {},
     "output_type": "execute_result"
    }
   ],
   "source": [
    "for i in range(n):\n",
    "    coefs2[i] = solsGauss2[0][i]\n",
    "coefs2"
   ]
  },
  {
   "cell_type": "code",
   "execution_count": 142,
   "metadata": {
    "collapsed": false
   },
   "outputs": [
    {
     "data": {
      "image/png": "[encoded data removed]",
      "text/latex": [
       "$$\\left(\\frac{\\sqrt{2}}{4} + \\frac{1}{2}\\right) f{\\left (- \\sqrt{2} + 2 \\right )} + \\left(- \\frac{\\sqrt{2}}{4} + \\frac{1}{2}\\right) f{\\left (\\sqrt{2} + 2 \\right )}$$"
      ],
      "text/plain": [
       "⎛√2   1⎞              ⎛  √2   1⎞          \n",
       "⎜── + ─⎟⋅f(-√2 + 2) + ⎜- ── + ─⎟⋅f(√2 + 2)\n",
       "⎝4    2⎠              ⎝  4    2⎠          "
      ]
     },
     "execution_count": 142,
     "metadata": {},
     "output_type": "execute_result"
    }
   ],
   "source": [
    "formGauss2 = np.dot([f(nodos2[i]) for i in range(n)],coefs2)\n",
    "formGauss2"
   ]
  },
  {
   "cell_type": "markdown",
   "metadata": {},
   "source": [
    "Por otro lado, también podemos llegar a esta misma fórmula partiendo de los ceros del polinomio de Laguerre."
   ]
  },
  {
   "cell_type": "code",
   "execution_count": 143,
   "metadata": {
    "collapsed": true
   },
   "outputs": [],
   "source": [
    "from scipy.special import laguerre"
   ]
  },
  {
   "cell_type": "code",
   "execution_count": 144,
   "metadata": {
    "collapsed": true
   },
   "outputs": [],
   "source": [
    "?laguerre"
   ]
  },
  {
   "cell_type": "code",
   "execution_count": 145,
   "metadata": {
    "collapsed": false
   },
   "outputs": [
    {
     "data": {
      "text/plain": [
       "(poly1d([ 1.]), poly1d([-1.,  1.]), poly1d([ 0.5, -2. ,  1. ]))"
      ]
     },
     "execution_count": 145,
     "metadata": {},
     "output_type": "execute_result"
    }
   ],
   "source": [
    "laguerre(0),laguerre(1),laguerre(2)"
   ]
  },
  {
   "cell_type": "code",
   "execution_count": 146,
   "metadata": {
    "collapsed": false
   },
   "outputs": [
    {
     "data": {
      "text/plain": [
       "poly1d([ 0.5, -2. ,  1. ])"
      ]
     },
     "execution_count": 146,
     "metadata": {},
     "output_type": "execute_result"
    }
   ],
   "source": [
    "laguerre(2) # poly1d es un formato específico para almacenar este \n",
    "# tipo de polinomios ortogonales, pero no vamos a verlo en detalle"
   ]
  },
  {
   "cell_type": "code",
   "execution_count": 147,
   "metadata": {
    "collapsed": false
   },
   "outputs": [
    {
     "data": {
      "text/plain": [
       "array([[ 0.58578644,  0.85355339,  1.53332603],\n",
       "       [ 3.41421356,  0.14644661,  4.45095734]])"
      ]
     },
     "execution_count": 147,
     "metadata": {},
     "output_type": "execute_result"
    }
   ],
   "source": [
    "laguerre(2).weights # este atributo de la clase poly1d nos permite\n",
    "# obtener los ceros del correspondiente polinomio, así como otros\n",
    "# parámetros interesantes para confeccionar fórmulas gaussianas."
   ]
  },
  {
   "cell_type": "code",
   "execution_count": 148,
   "metadata": {
    "collapsed": false
   },
   "outputs": [
    {
     "data": {
      "image/png": "[encoded data removed]",
      "text/latex": [
       "$$\\left ( 0.585786437627, \\quad 3.41421356237\\right )$$"
      ],
      "text/plain": [
       "(0.585786437627, 3.41421356237)"
      ]
     },
     "execution_count": 148,
     "metadata": {},
     "output_type": "execute_result"
    }
   ],
   "source": [
    "nodos = (laguerre(2).weights)[0,0],(laguerre(2).weights)[1,0]\n",
    "nodos"
   ]
  },
  {
   "cell_type": "code",
   "execution_count": 149,
   "metadata": {
    "collapsed": false
   },
   "outputs": [
    {
     "data": {
      "image/png": "[encoded data removed]",
      "text/latex": [
       "$$\\left [ \\sqrt{2} + 2, \\quad - \\sqrt{2} + 2\\right ]$$"
      ],
      "text/plain": [
       "[√2 + 2, -√2 + 2]"
      ]
     },
     "execution_count": 149,
     "metadata": {},
     "output_type": "execute_result"
    }
   ],
   "source": [
    "nodos2"
   ]
  },
  {
   "cell_type": "code",
   "execution_count": 150,
   "metadata": {
    "collapsed": false
   },
   "outputs": [
    {
     "data": {
      "image/png": "[encoded data removed]",
      "text/latex": [
       "$$\\left ( 0.585786437627, \\quad 3.41421356237\\right )$$"
      ],
      "text/plain": [
       "(0.585786437627, 3.41421356237)"
      ]
     },
     "execution_count": 150,
     "metadata": {},
     "output_type": "execute_result"
    }
   ],
   "source": [
    "2-np.sqrt(2),2+np.sqrt(2)"
   ]
  },
  {
   "cell_type": "code",
   "execution_count": 151,
   "metadata": {
    "collapsed": false
   },
   "outputs": [
    {
     "data": {
      "text/plain": [
       "array([[ 0.58578644,  0.85355339,  1.53332603],\n",
       "       [ 3.41421356,  0.14644661,  4.45095734]])"
      ]
     },
     "execution_count": 151,
     "metadata": {},
     "output_type": "execute_result"
    }
   ],
   "source": [
    "laguerre(2).weights"
   ]
  },
  {
   "cell_type": "code",
   "execution_count": 152,
   "metadata": {
    "collapsed": false
   },
   "outputs": [
    {
     "data": {
      "image/png": "[encoded data removed]",
      "text/latex": [
       "$$\\left ( 0.853553390593, \\quad 0.146446609407\\right )$$"
      ],
      "text/plain": [
       "(0.853553390593, 0.146446609407)"
      ]
     },
     "execution_count": 152,
     "metadata": {},
     "output_type": "execute_result"
    }
   ],
   "source": [
    "coefs = (laguerre(2).weights)[0,1],(laguerre(2).weights)[1,1]\n",
    "coefs"
   ]
  },
  {
   "cell_type": "code",
   "execution_count": 153,
   "metadata": {
    "collapsed": false
   },
   "outputs": [
    {
     "data": {
      "image/png": "[encoded data removed]",
      "text/latex": [
       "$$\\left ( 0.853553390593274, \\quad 0.146446609406726\\right )$$"
      ],
      "text/plain": [
       "(0.853553390593274, 0.146446609406726)"
      ]
     },
     "execution_count": 153,
     "metadata": {},
     "output_type": "execute_result"
    }
   ],
   "source": [
    "sp.N(coefs2[1]),sp.N(coefs2[0])\n"
   ]
  },
  {
   "cell_type": "markdown",
   "metadata": {},
   "source": [
    "Vemos entonces que tenemos de esta forma todo lo que necesitamos para construir la fórmula gaussiana de integración numérica que obtuvimos previamente"
   ]
  },
  {
   "cell_type": "code",
   "execution_count": 154,
   "metadata": {
    "collapsed": true
   },
   "outputs": [],
   "source": [
    "f = sp.Symbol('f')"
   ]
  },
  {
   "cell_type": "code",
   "execution_count": 155,
   "metadata": {
    "collapsed": false
   },
   "outputs": [
    {
     "data": {
      "image/png": "[encoded data removed]",
      "text/latex": [
       "$$0.853553390593274 f{\\left (0.585786437626905 \\right )} + 0.146446609406726 f{\\left (3.4142135623731 \\right )}$$"
      ],
      "text/plain": [
       "0.853553390593274⋅f(0.585786437626905) + 0.146446609406726⋅f(3.4142135623731)"
      ]
     },
     "execution_count": 155,
     "metadata": {},
     "output_type": "execute_result"
    }
   ],
   "source": [
    "np.dot([f(nodos[k]) for k in range(len(nodos))],coefs)"
   ]
  },
  {
   "cell_type": "code",
   "execution_count": 156,
   "metadata": {
    "collapsed": true
   },
   "outputs": [],
   "source": [
    "def integGauss2(f):\n",
    "    \"\"\"integración Gaussiana en [0,oo[ usando pols. de Laguerre\"\"\"\n",
    "    return np.dot([f(nodos[k]) for k in range(len(nodos))],coefs)"
   ]
  },
  {
   "cell_type": "code",
   "execution_count": 157,
   "metadata": {
    "collapsed": false
   },
   "outputs": [
    {
     "data": {
      "image/png": "[encoded data removed]",
      "text/latex": [
       "$$2.0$$"
      ],
      "text/plain": [
       "2.0"
      ]
     },
     "execution_count": 157,
     "metadata": {},
     "output_type": "execute_result"
    }
   ],
   "source": [
    "integGauss2(lambda x:x**2)"
   ]
  },
  {
   "cell_type": "markdown",
   "metadata": {},
   "source": [
    "## Otras posibilidades para la integración numérica usando algunos módulos de Python"
   ]
  },
  {
   "cell_type": "markdown",
   "metadata": {},
   "source": [
    "*Python* tiene también  varias órdenes para la integración de funciones, ya sea de manera simbólica o numérica. Cada una de ellas vendrá implementada en cierto módulo concreto de Python, por lo que será conveniente saber dónde y cómo deberemos cargar y usar dichas órdenes.\n",
    "\n",
    "Por ejemplo, para la integración simbólica usaremos evidentemente la orden correspondiente incorporada en el módulo `SymPy`. Esta órden es `integrate` (parecida a la orden `Integrate` de *Mathematica*) y a continuación vemos algunos ejemplos de uso, tanto para obtener integrales indefinidas (primitivas) como integrales definidas, de forma exacta siempre que sea posible. Nótese que esta orden requiere que la función tenga una primitiva, a la que aplica la regla de Barrow en el caso de tratarse de una integral definida."
   ]
  },
  {
   "cell_type": "code",
   "execution_count": 158,
   "metadata": {
    "collapsed": true
   },
   "outputs": [],
   "source": [
    "x = sp.Symbol('x')"
   ]
  },
  {
   "cell_type": "code",
   "execution_count": 159,
   "metadata": {
    "collapsed": false
   },
   "outputs": [
    {
     "data": {
      "image/png": "[encoded data removed]",
      "text/latex": [
       "$$\\left ( \\frac{x^{2}}{2}, \\quad \\frac{1}{2}\\right )$$"
      ],
      "text/plain": [
       "⎛ 2     ⎞\n",
       "⎜x      ⎟\n",
       "⎜──, 1/2⎟\n",
       "⎝2      ⎠"
      ]
     },
     "execution_count": 159,
     "metadata": {},
     "output_type": "execute_result"
    }
   ],
   "source": [
    "sp.integrate(x,x),sp.integrate(x,[x,0,1])"
   ]
  },
  {
   "cell_type": "code",
   "execution_count": 160,
   "metadata": {
    "collapsed": false
   },
   "outputs": [
    {
     "data": {
      "image/png": "[encoded data removed]",
      "text/latex": [
       "$$\\left ( \\frac{x^{3}}{3}, \\quad \\frac{1}{3}\\right )$$"
      ],
      "text/plain": [
       "⎛ 3     ⎞\n",
       "⎜x      ⎟\n",
       "⎜──, 1/3⎟\n",
       "⎝3      ⎠"
      ]
     },
     "execution_count": 160,
     "metadata": {},
     "output_type": "execute_result"
    }
   ],
   "source": [
    "sp.integrate(x**2,x),sp.integrate(x**2,[x,0,1])"
   ]
  },
  {
   "cell_type": "code",
   "execution_count": 161,
   "metadata": {
    "collapsed": false
   },
   "outputs": [
    {
     "data": {
      "image/png": "[encoded data removed]",
      "text/latex": [
       "$$\\frac{x^{4}}{4} - \\frac{x^{2}}{2} + 2 x$$"
      ],
      "text/plain": [
       " 4    2      \n",
       "x    x       \n",
       "── - ── + 2⋅x\n",
       "4    2       "
      ]
     },
     "execution_count": 161,
     "metadata": {},
     "output_type": "execute_result"
    }
   ],
   "source": [
    "sp.integrate(x**3-x+2,x) # primitiva salvo constantes de un polinomio"
   ]
  },
  {
   "cell_type": "code",
   "execution_count": 162,
   "metadata": {
    "collapsed": false
   },
   "outputs": [
    {
     "data": {
      "image/png": "[encoded data removed]",
      "text/latex": [
       "$$\\left ( \\frac{7}{4}, \\quad 1.75\\right )$$"
      ],
      "text/plain": [
       "(7/4, 1.75)"
      ]
     },
     "execution_count": 162,
     "metadata": {},
     "output_type": "execute_result"
    }
   ],
   "source": [
    "sp.integrate(x**3-x+2,[x,0,1]),sp.integrate(x**3-x+2,[x,0,1.])\n",
    "# Nótese aquí el efecto de indicar alguno de los límites \n",
    "# de integración con el punto decimal"
   ]
  },
  {
   "cell_type": "code",
   "execution_count": 163,
   "metadata": {
    "collapsed": false
   },
   "outputs": [
    {
     "data": {
      "image/png": "[encoded data removed]",
      "text/latex": [
       "$$\\frac{\\sqrt{\\pi}}{2} \\operatorname{erfi}{\\left (x \\right )}$$"
      ],
      "text/plain": [
       "√π⋅erfi(x)\n",
       "──────────\n",
       "    2     "
      ]
     },
     "execution_count": 163,
     "metadata": {},
     "output_type": "execute_result"
    }
   ],
   "source": [
    "sp.integrate(sp.exp(x**2),x)"
   ]
  },
  {
   "cell_type": "code",
   "execution_count": 164,
   "metadata": {
    "collapsed": false
   },
   "outputs": [
    {
     "data": {
      "image/png": "[encoded data removed]",
      "text/latex": [
       "$$\\frac{\\sqrt{\\pi}}{2} \\operatorname{erfi}{\\left (1 \\right )}$$"
      ],
      "text/plain": [
       "√π⋅erfi(1)\n",
       "──────────\n",
       "    2     "
      ]
     },
     "execution_count": 164,
     "metadata": {},
     "output_type": "execute_result"
    }
   ],
   "source": [
    "sp.integrate(sp.exp(x**2),[x,0,1])"
   ]
  },
  {
   "cell_type": "code",
   "execution_count": 165,
   "metadata": {
    "collapsed": false
   },
   "outputs": [
    {
     "data": {
      "image/png": "[encoded data removed]",
      "text/latex": [
       "$$\\sqrt{\\pi}$$"
      ],
      "text/plain": [
       "√π"
      ]
     },
     "execution_count": 165,
     "metadata": {},
     "output_type": "execute_result"
    }
   ],
   "source": [
    "sp.integrate(sp.exp(-x**2),[x,-sp.oo,sp.oo])"
   ]
  },
  {
   "cell_type": "code",
   "execution_count": 166,
   "metadata": {
    "collapsed": false
   },
   "outputs": [
    {
     "data": {
      "image/png": "[encoded data removed]",
      "text/latex": [
       "$$\\frac{\\sqrt{2} \\sqrt{\\pi} C\\left(\\frac{\\sqrt{2} x}{\\sqrt{\\pi}}\\right) \\Gamma{\\left(\\frac{1}{4} \\right)}}{8 \\Gamma{\\left(\\frac{5}{4} \\right)}}$$"
      ],
      "text/plain": [
       "              ⎛√2⋅x⎞       \n",
       "√2⋅√π⋅fresnelc⎜────⎟⋅Γ(1/4)\n",
       "              ⎝ √π ⎠       \n",
       "───────────────────────────\n",
       "          8⋅Γ(5/4)         "
      ]
     },
     "execution_count": 166,
     "metadata": {},
     "output_type": "execute_result"
    }
   ],
   "source": [
    "sp.integrate(sp.cos(x**2),x)"
   ]
  },
  {
   "cell_type": "code",
   "execution_count": 167,
   "metadata": {
    "collapsed": false
   },
   "outputs": [
    {
     "data": {
      "image/png": "[encoded data removed]",
      "text/latex": [
       "$$\\frac{\\sqrt{2} \\sqrt{\\pi} C\\left(\\frac{\\sqrt{2}}{\\sqrt{\\pi}}\\right) \\Gamma{\\left(\\frac{1}{4} \\right)}}{8 \\Gamma{\\left(\\frac{5}{4} \\right)}}$$"
      ],
      "text/plain": [
       "              ⎛√2⎞       \n",
       "√2⋅√π⋅fresnelc⎜──⎟⋅Γ(1/4)\n",
       "              ⎝√π⎠       \n",
       "─────────────────────────\n",
       "         8⋅Γ(5/4)        "
      ]
     },
     "execution_count": 167,
     "metadata": {},
     "output_type": "execute_result"
    }
   ],
   "source": [
    "sp.integrate(sp.cos(x**2),[x,0,1])"
   ]
  },
  {
   "cell_type": "markdown",
   "metadata": {},
   "source": [
    "**Ejercicio:** Intente integrar en el intervalo $[1,2]$ las funciones $e^x x$ y $\\frac{e^x}{x}$, usando la orden `integrate` y por otro lado calculando previamente una primitiva de la función integrando y aplicando la conocida regla de Barrow. Compare los resultados."
   ]
  },
  {
   "cell_type": "code",
   "execution_count": 168,
   "metadata": {
    "collapsed": false
   },
   "outputs": [
    {
     "data": {
      "image/png": "[encoded data removed]",
      "text/latex": [
       "$$\\left ( e, \\quad \\frac{e^{2}}{2}\\right )$$"
      ],
      "text/plain": [
       "⎛    2⎞\n",
       "⎜   ℯ ⎟\n",
       "⎜ℯ, ──⎟\n",
       "⎝   2 ⎠"
      ]
     },
     "execution_count": 168,
     "metadata": {},
     "output_type": "execute_result"
    }
   ],
   "source": [
    "def f(x):\n",
    "    return sp.exp(x)/x\n",
    "f(1),f(2)"
   ]
  },
  {
   "cell_type": "code",
   "execution_count": 169,
   "metadata": {
    "collapsed": false
   },
   "outputs": [
    {
     "data": {
      "image/png": "[encoded data removed]",
      "text/latex": [
       "$$\\operatorname{Ei}{\\left (x \\right )}$$"
      ],
      "text/plain": [
       "Ei(x)"
      ]
     },
     "execution_count": 169,
     "metadata": {},
     "output_type": "execute_result"
    }
   ],
   "source": [
    "sp.integrate(f(x),x)"
   ]
  },
  {
   "cell_type": "code",
   "execution_count": 170,
   "metadata": {
    "collapsed": false
   },
   "outputs": [
    {
     "data": {
      "image/png": "[encoded data removed]",
      "text/latex": [
       "$$3.05911653964595$$"
      ],
      "text/plain": [
       "3.05911653964595"
      ]
     },
     "execution_count": 170,
     "metadata": {},
     "output_type": "execute_result"
    }
   ],
   "source": [
    "sp.N(sp.integrate(f(x),[x,1,2]))"
   ]
  },
  {
   "cell_type": "markdown",
   "metadata": {},
   "source": [
    "Por otro lado estarían las órdenes específicas para la integración numérica, entre las que resaltamos la órden `quad` (igual que en MATLAB/Octave) para la integración de funciones de una variable. Existen las correspondientes versiones para funciones de dos y tres variables (`dblquad` y `tplquad`) que nos permmitirán aproximar numéricamente integrales dobles y triples, respectivamente. Todas ellas se encuentran implementadas dentro del submódulo `integrate` del módulo `SciPy` y tendremos que cargarlas previamente para poder usarlas."
   ]
  },
  {
   "cell_type": "code",
   "execution_count": 171,
   "metadata": {
    "collapsed": true
   },
   "outputs": [],
   "source": [
    "from scipy.integrate import quad, dblquad, tplquad"
   ]
  },
  {
   "cell_type": "markdown",
   "metadata": {},
   "source": [
    "Empecemos con la orden `quad`, que nos permitirá aproximar la integral definida de una función real de variable real en un intervalo determinado. Así pues, esta orden lleva programada una integración numérica adaptativa que puede en principio ser aplicada a cualquier función definida y acotada en un intervalo $[a,b]$.\n",
    "Por otro lado, tiene bastantes argumentos opcionales que pueden ser usados para afinar mucho más en el cálculo de dicha aproximación numérica (pruebe a escribir `?quad` o `help(quad)` para más detalles)."
   ]
  },
  {
   "cell_type": "code",
   "execution_count": 172,
   "metadata": {
    "collapsed": true
   },
   "outputs": [],
   "source": [
    "?quad"
   ]
  },
  {
   "cell_type": "code",
   "execution_count": 173,
   "metadata": {
    "collapsed": true
   },
   "outputs": [],
   "source": [
    "def f(x):\n",
    "    \"\"\"función del integrando: x^2+1\"\"\"\n",
    "    return x**2+1"
   ]
  },
  {
   "cell_type": "code",
   "execution_count": 174,
   "metadata": {
    "collapsed": false
   },
   "outputs": [
    {
     "name": "stdout",
     "output_type": "stream",
     "text": [
      "valor aprox. de la integral = 1.3333333333333333 ,\n",
      " error estimado = 1.4802973661668752e-14\n"
     ]
    }
   ],
   "source": [
    "# No obstante, su uso básico sería el siguiente:\n",
    "# f sería la función del integrando, \n",
    "# que debería estar definida previamente\n",
    "# a no ser que usemos una función anónima, del tipo `lambda`\n",
    "    \n",
    "x_min = 0 # el límite inferior en la variable de integración x\n",
    "x_max = 1 # el límite superior en la variable de integración x\n",
    "\n",
    "val, abserr = quad(f, x_min, x_max)\n",
    "\n",
    "# en las variables val y abserr almacenaremos el valor aproximado\n",
    "# de la integral, así como la estimación del error cometido en\n",
    "# valor absoluto\n",
    "\n",
    "print (\"valor aprox. de la integral =\", val, \",\\n\", \"error estimado =\", abserr) "
   ]
  },
  {
   "cell_type": "markdown",
   "metadata": {},
   "source": [
    "# Ejercicios"
   ]
  },
  {
   "cell_type": "markdown",
   "metadata": {},
   "source": [
    "1.- Obtenga mediante interpolación en el espacio $\\mathbb{P}_2$ una fórmula para aproximar $f''(a)$ del tipo combinación\n",
    "de $f(a-h)$, $f(a)$ y $f(a+h)$.\n",
    "\n",
    "2.- Con la fórmula obtenida en el ejercicio 1, halle una tabla de aproximaciones y errores de $f_1'(2.5)$, siendo $f_1(x)=x^x$, para $h=10^{-i},\\; i=1,\\ldots,5.$\n",
    "\n",
    "3.- Sea $f_2(x)=\\frac{x^2+40}{x+\\sqrt{5x}+7}$. Calcule una tabla que recoja las derivadas de $f_2$ en $x_i=1,2,\\ldots,10$, utilizando alguna de las fórmulas de derivación numérica de primer orden obtenidas al inicio de la práctica, con $h=10^{-3}$, y muestre al mismo tiempo el error cometido en cada punto. Repita el ejercicio con la fórmula centrada obtenida para la derivada primera y, finalmente, para la obtenida en el ejercicio 1 (con respecto a la segunda derivada).\n",
    "\n",
    "4.- Divida el intervalo $[1,2]$ en 100 partes iguales y aplique las fórmulas del rectángulo, Simpson y trapecio compuestas para aproximar la integral en dicho intervalo de $f_1$. Compare dichos resultados.\n",
    "\n",
    "5.- Repita el ejercico 4 para $f_2$. \n",
    "\n",
    "6.- Sea $f_3(x)=x^{15} e^x$ en $[0,2]$. Vamos a dividir el intervalo en $10\\;2^n$ subintervalos, es decir, $10,\\,20,\\,40,\\, 80,\\ldots $ y a aplicar la fórmula de Simpson compuesta hasta que la diferencia entre dos aproximaciones consecutivas (por ejemplo, podrían\n",
    "ser con $20$ y $40$ subintervalos) sea menor que $10^{-2}$, dando en tal caso por buena la última aproximación obtenida. Programe\n",
    "y calcule dicha aproximación. Compare ambas aproximaciones con\n",
    "el valor exacto.\n",
    "\n",
    "7.- Calcule las fórmulas gaussianas con $2$ y $3$ nodos,en el intervalo $[-1,1]$, siendo la función peso el valor absoluto de la variable. Aplíquelas para aproximar la función $x\\; e^x$ en $[-1,1]$ y compare los resultados con el valor exacto (organizando los cálculos de forma adecuada)."
   ]
  }
 ],
 "metadata": {
  "anaconda-cloud": {},
  "kernelspec": {
   "display_name": "Python [default]",
   "language": "python",
   "name": "python3"
  },
  "language_info": {
   "codemirror_mode": {
    "name": "ipython",
    "version": 3
   },
   "file_extension": ".py",
   "mimetype": "text/x-python",
   "name": "python",
   "nbconvert_exporter": "python",
   "pygments_lexer": "ipython3",
   "version": "3.5.2"
  }
 },
 "nbformat": 4,
 "nbformat_minor": 1
}
