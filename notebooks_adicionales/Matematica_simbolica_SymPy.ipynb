{
 "cells": [
  {
   "cell_type": "markdown",
   "metadata": {},
   "source": [
    "# Matemática simbólica  con Sympy\n",
    "\n",
    "[Sympy](http://www.sympy.org/en/index.html) suele describirse como:\n",
    "\n",
    "> \"... un módulo o librería de Python para la matemática simbólica.\"\n",
    "\n",
    "Esto significa que puede usarse para:\n",
    "\n",
    "- Manipular expresiones simbólicas;\n",
    "- Resolver ecuaciones simbólicas;\n",
    "- Llevar a cabo cálculos simbólicos ;\n",
    "- Dibujar funciones definidas de manera simbólica.\n",
    "\n",
    "Por supuesto que también tiene otras muchas capacidades en las que no entraremos en este notebook, pero que podrán consultarse en la ayuda online del módulo: http://www.sympy.org/en/index.html\n",
    "\n",
    "## Manipulando expresiones simbólicas\n",
    "\n",
    "Antes de que podeamos empezar a usar este módulo (o librería/biblioteca) para manipular cualquier tipo de expresión, necesitaremos importarlo."
   ]
  },
  {
   "cell_type": "code",
   "execution_count": 1,
   "metadata": {
    "collapsed": true
   },
   "outputs": [],
   "source": [
    "# Existen diferentes posibilidades de importar este o cualquier otro módulo de Python\n",
    "import sympy as sym    # esta sería una de las más estandard en este caso concreto"
   ]
  },
  {
   "cell_type": "markdown",
   "metadata": {},
   "source": [
    "De esta manera se ha importado el módulo integrando sus funciones y métodos (o procedimientos) en nuestro espacio general de nombres sin más que anteponer el prefijo `sym` que es uno de los más usados.\n",
    "\n",
    "\n",
    "Así pues, si ahora nosotros queremos que Python compruebe la expresión simbólica trivial $x - x = 0$ (sea cual sea el símbolo $x$), obtendríamos un error si previamente no le indicamos a Python que $x$ realmente se trata de un símbolo."
   ]
  },
  {
   "cell_type": "code",
   "execution_count": 2,
   "metadata": {
    "collapsed": false
   },
   "outputs": [
    {
     "ename": "NameError",
     "evalue": "name 'x' is not defined",
     "output_type": "error",
     "traceback": [
      "\u001b[0;31m---------------------------------------------------------------------------\u001b[0m",
      "\u001b[0;31mNameError\u001b[0m                                 Traceback (most recent call last)",
      "\u001b[0;32m<ipython-input-2-d0ffa724f5cd>\u001b[0m in \u001b[0;36m<module>\u001b[0;34m()\u001b[0m\n\u001b[0;32m----> 1\u001b[0;31m \u001b[0mx\u001b[0m \u001b[1;33m-\u001b[0m \u001b[0mx\u001b[0m\u001b[1;33m\u001b[0m\u001b[0m\n\u001b[0m",
      "\u001b[0;31mNameError\u001b[0m: name 'x' is not defined"
     ]
    }
   ],
   "source": [
    "x - x"
   ]
  },
  {
   "cell_type": "markdown",
   "metadata": {},
   "source": [
    "Y para eso Sympy tiene pues una forma concreta de indicarle a Python justo eso, que $x$ es una  variable simbólica:"
   ]
  },
  {
   "cell_type": "code",
   "execution_count": 3,
   "metadata": {
    "collapsed": true
   },
   "outputs": [],
   "source": [
    "x = sym.symbols('x')"
   ]
  },
  {
   "cell_type": "markdown",
   "metadata": {},
   "source": [
    "Ya sí que podemos calcular $x - x$ con propiedad:"
   ]
  },
  {
   "cell_type": "code",
   "execution_count": 4,
   "metadata": {
    "collapsed": false
   },
   "outputs": [
    {
     "data": {
      "text/plain": [
       "0"
      ]
     },
     "execution_count": 4,
     "metadata": {},
     "output_type": "execute_result"
    }
   ],
   "source": [
    "x - x"
   ]
  },
  {
   "cell_type": "markdown",
   "metadata": {},
   "source": [
    "De esta manera ya podemos crear y manipular expresiones simbólicas en Sympy. Verifiquemos por ejemplo que:\n",
    "\n",
    "$$(a + b) ^ 2 = a ^ 2 + 2ab + b ^2$$\n",
    "\n",
    "Para ello, en primer lugar deberemos crear las variables simbólicas $a, b$:"
   ]
  },
  {
   "cell_type": "code",
   "execution_count": 6,
   "metadata": {
    "collapsed": true
   },
   "outputs": [],
   "source": [
    "a, b = sym.symbols('a, b')"
   ]
  },
  {
   "cell_type": "markdown",
   "metadata": {},
   "source": [
    "y a continuación construimos una de las expresiones de la igualdad que queremos verificar:"
   ]
  },
  {
   "cell_type": "code",
   "execution_count": 7,
   "metadata": {
    "collapsed": false
   },
   "outputs": [
    {
     "data": {
      "text/plain": [
       "(a + b)**2"
      ]
     },
     "execution_count": 7,
     "metadata": {},
     "output_type": "execute_result"
    }
   ],
   "source": [
    "expr = (a + b) ** 2 \n",
    "expr"
   ]
  },
  {
   "cell_type": "markdown",
   "metadata": {},
   "source": [
    "**Nótese** que en todo momento también podemos hacer que Sympy devuelva dicha expresión formateada como lo haría un compilador de $\\LaTeX$, de manera que la salida correspondiente dentro del notebook sea lo más bonita y elegante posible:"
   ]
  },
  {
   "cell_type": "code",
   "execution_count": 20,
   "metadata": {
    "collapsed": true
   },
   "outputs": [],
   "source": [
    "sym.init_printing()      # esta sería la forma de indicárselo a SymPy"
   ]
  },
  {
   "cell_type": "code",
   "execution_count": 22,
   "metadata": {
    "collapsed": false
   },
   "outputs": [
    {
     "data": {
      "image/png": "[encoded data removed]",
      "text/latex": [
       "$$\\left(a + b\\right)^{2}$$"
      ],
      "text/plain": [
       "       2\n",
       "(a + b) "
      ]
     },
     "execution_count": 22,
     "metadata": {},
     "output_type": "execute_result"
    }
   ],
   "source": [
    "expr"
   ]
  },
  {
   "cell_type": "code",
   "execution_count": 23,
   "metadata": {
    "collapsed": false
   },
   "outputs": [
    {
     "data": {
      "text/plain": [
       "'\\\\left(a + b\\\\right)^{2}'"
      ]
     },
     "execution_count": 23,
     "metadata": {},
     "output_type": "execute_result"
    }
   ],
   "source": [
    "sym.latex(expr)"
   ]
  },
  {
   "cell_type": "markdown",
   "metadata": {},
   "source": [
    "Ahora procederemos a expandir nuestra expresión:"
   ]
  },
  {
   "cell_type": "code",
   "execution_count": 12,
   "metadata": {
    "collapsed": false
   },
   "outputs": [
    {
     "data": {
      "image/png": "[encoded data removed]",
      "text/latex": [
       "$$a^{2} + 2 a b + b^{2}$$"
      ],
      "text/plain": [
       " 2            2\n",
       "a  + 2⋅a⋅b + b "
      ]
     },
     "execution_count": 12,
     "metadata": {},
     "output_type": "execute_result"
    }
   ],
   "source": [
    "sym.expand(expr)"
   ]
  },
  {
   "cell_type": "markdown",
   "metadata": {},
   "source": [
    "Equivalentemente podríamos escribir simplemente"
   ]
  },
  {
   "cell_type": "code",
   "execution_count": 10,
   "metadata": {
    "collapsed": false
   },
   "outputs": [
    {
     "data": {
      "image/png": "[encoded data removed]",
      "text/latex": [
       "$$a^{2} + 2 a b + b^{2}$$"
      ],
      "text/plain": [
       " 2            2\n",
       "a  + 2⋅a⋅b + b "
      ]
     },
     "execution_count": 10,
     "metadata": {},
     "output_type": "execute_result"
    }
   ],
   "source": [
    "expr.expand() "
   ]
  },
  {
   "cell_type": "markdown",
   "metadata": {},
   "source": [
    "gracias a que como `expr` es una expresión simbólica, automáticamente Python interpreta que el procedimiento que se aplica a continuación debe estar dentro de SymPy"
   ]
  },
  {
   "cell_type": "markdown",
   "metadata": {},
   "source": [
    "Nótese que también podemos conseguir que Sympy produzca el correspondiente código $\\LaTeX$ por si lo necesitáramos en el futuro:"
   ]
  },
  {
   "cell_type": "code",
   "execution_count": 24,
   "metadata": {
    "collapsed": false
   },
   "outputs": [
    {
     "data": {
      "text/plain": [
       "'a^{2} + 2 a b + b^{2}'"
      ]
     },
     "execution_count": 24,
     "metadata": {},
     "output_type": "execute_result"
    }
   ],
   "source": [
    "sym.latex(expr.expand())"
   ]
  },
  {
   "cell_type": "markdown",
   "metadata": {},
   "source": [
    "---\n",
    "**EJERCICIO** Use Sympy para verificar las siguientes expresiones:\n",
    "\n",
    "- $(a - b) ^ 2 = a ^ 2 - 2 a b + b^2$\n",
    "- $a ^ 2 - b ^ 2 = (a - b) (a + b)$ (en vez de usar `expand`, pruebe con `factor`)"
   ]
  },
  {
   "cell_type": "markdown",
   "metadata": {},
   "source": [
    "## Resolviendo ecuaciones simbólicas "
   ]
  },
  {
   "cell_type": "markdown",
   "metadata": {},
   "source": [
    "Podemos usar también Sympy para resolver ecuaciones de manera simbólica. Por ejemplo, busquemos la solución en $x$ de la ecuación cuadrática:\n",
    "\n",
    "$$a x ^ 2 + b x + c = 0$$"
   ]
  },
  {
   "cell_type": "code",
   "execution_count": 25,
   "metadata": {
    "collapsed": true
   },
   "outputs": [],
   "source": [
    "# En realidad ya sólo nos faltaría definir como símbolo `c`, pero por estar seguros, haremos\n",
    "a, b, c, x = sym.symbols('a, b, c, x')  "
   ]
  },
  {
   "cell_type": "markdown",
   "metadata": {},
   "source": [
    "Y el comando de Sympy para resolver ecuaciones es `solveset`. El primer argumento es una expresión para la que vamos a buscar las raíces o soluciones. El segundo argumento es la variable simbólica en la que vamos a resolver dicha ecuación."
   ]
  },
  {
   "cell_type": "code",
   "execution_count": 26,
   "metadata": {
    "collapsed": false
   },
   "outputs": [
    {
     "data": {
      "image/png": "[encoded data removed]",
      "text/latex": [
       "$$\\left\\{- \\frac{b}{2 a} - \\frac{1}{2 a} \\sqrt{- 4 a c + b^{2}}, - \\frac{b}{2 a} + \\frac{1}{2 a} \\sqrt{- 4 a c + b^{2}}\\right\\}$$"
      ],
      "text/plain": [
       "⎧           _____________             _____________⎫\n",
       "⎪          ╱           2             ╱           2 ⎪\n",
       "⎨   b    ╲╱  -4⋅a⋅c + b       b    ╲╱  -4⋅a⋅c + b  ⎬\n",
       "⎪- ─── - ────────────────, - ─── + ────────────────⎪\n",
       "⎩  2⋅a         2⋅a           2⋅a         2⋅a       ⎭"
      ]
     },
     "execution_count": 26,
     "metadata": {},
     "output_type": "execute_result"
    }
   ],
   "source": [
    "sym.solveset(a * x ** 2 + b * x + c, x)"
   ]
  },
  {
   "cell_type": "markdown",
   "metadata": {},
   "source": [
    "---\n",
    "**EJERCICIO** Use ahora Sympy para encontrar las soluciones de la ecuación genérica de grado 3:\n",
    "\n",
    "$$a x ^ 3 + b x ^ 2 + c  x + d = 0$$\n",
    "\n",
    "---"
   ]
  },
  {
   "cell_type": "markdown",
   "metadata": {},
   "source": [
    "Es posible pasarle más argumentos a `solveset` para limitar por ejemplo el espacio de soluciones. Veámos por ejemplo cuál es son en general las soluciones de la siguiente ecuación:  $$x^2=-1$$\n",
    "y posteriormente busquemos más concretamente sólo las que estén en $\\mathbb{R}$ "
   ]
  },
  {
   "cell_type": "code",
   "execution_count": 27,
   "metadata": {
    "collapsed": false
   },
   "outputs": [
    {
     "data": {
      "image/png": "[encoded data removed]",
      "text/latex": [
       "$$\\left\\{- i, i\\right\\}$$"
      ],
      "text/plain": [
       "{-ⅈ, ⅈ}"
      ]
     },
     "execution_count": 27,
     "metadata": {},
     "output_type": "execute_result"
    }
   ],
   "source": [
    "sym.solveset(x ** 2 + 1, x)"
   ]
  },
  {
   "cell_type": "code",
   "execution_count": 28,
   "metadata": {
    "collapsed": false
   },
   "outputs": [
    {
     "data": {
      "image/png": "[encoded data removed]",
      "text/latex": [
       "$$\\emptyset$$"
      ],
      "text/plain": [
       "∅"
      ]
     },
     "execution_count": 28,
     "metadata": {},
     "output_type": "execute_result"
    }
   ],
   "source": [
    "sym.solveset(x ** 2 + 1, x, domain=sym.S.Reals)"
   ]
  },
  {
   "cell_type": "markdown",
   "metadata": {},
   "source": [
    "---\n",
    "**EJERCICIO** Use Sympy para encontrar las soluciones de las siguientes ecuaciones:\n",
    "\n",
    "- $x ^ 2 == 2$ en $\\mathbb{N}$;\n",
    "- $x ^ 3 + 2 x = 0$ en $\\mathbb{R}$.\n",
    "\n",
    "---"
   ]
  },
  {
   "cell_type": "markdown",
   "metadata": {},
   "source": [
    "##  Cálculo Simbólico\n",
    "\n",
    "Por supuesto que también podemos usar Sympy para calcular límites. Calculemos por ejemplo:\n",
    "\n",
    "$$\\lim_{x\\to 0^+}\\frac{1}{x}$$"
   ]
  },
  {
   "cell_type": "code",
   "execution_count": 29,
   "metadata": {
    "collapsed": false
   },
   "outputs": [
    {
     "data": {
      "image/png": "[encoded data removed]",
      "text/latex": [
       "$$\\infty$$"
      ],
      "text/plain": [
       "∞"
      ]
     },
     "execution_count": 29,
     "metadata": {},
     "output_type": "execute_result"
    }
   ],
   "source": [
    "sym.limit(1/x, x, 0, dir=\"+\")"
   ]
  },
  {
   "cell_type": "markdown",
   "metadata": {},
   "source": [
    "---\n",
    "**EJERCICIO** Calcule los límites siguientes:\n",
    "\n",
    "1. $\\lim_{x\\to 0^-}\\frac{1}{x}$\n",
    "2.  $\\lim_{x\\to 0}\\frac{1}{x^2}$\n",
    "\n",
    "---"
   ]
  },
  {
   "cell_type": "markdown",
   "metadata": {},
   "source": [
    "Ahora usaremos Sympy para derivar e integrar. Experimentemos primero derivando la siguiente expresión:\n",
    "\n",
    "$$x ^ 2 - \\cos(x)$$"
   ]
  },
  {
   "cell_type": "code",
   "execution_count": 30,
   "metadata": {
    "collapsed": false
   },
   "outputs": [
    {
     "data": {
      "image/png": "[encoded data removed]",
      "text/latex": [
       "$$2 x + \\sin{\\left (x \\right )}$$"
      ],
      "text/plain": [
       "2⋅x + sin(x)"
      ]
     },
     "execution_count": 30,
     "metadata": {},
     "output_type": "execute_result"
    }
   ],
   "source": [
    "sym.diff(x ** 2 - sym.cos(x), x)"
   ]
  },
  {
   "cell_type": "markdown",
   "metadata": {},
   "source": [
    "Similarmente podemos integrarla:"
   ]
  },
  {
   "cell_type": "code",
   "execution_count": 31,
   "metadata": {
    "collapsed": false
   },
   "outputs": [
    {
     "data": {
      "image/png": "[encoded data removed]",
      "text/latex": [
       "$$\\frac{x^{3}}{3} - \\sin{\\left (x \\right )}$$"
      ],
      "text/plain": [
       " 3         \n",
       "x          \n",
       "── - sin(x)\n",
       "3          "
      ]
     },
     "execution_count": 31,
     "metadata": {},
     "output_type": "execute_result"
    }
   ],
   "source": [
    "sym.integrate(x ** 2 - sym.cos(x), x)"
   ]
  },
  {
   "cell_type": "markdown",
   "metadata": {},
   "source": [
    "Y si necesitamos calcular integrales definidas :"
   ]
  },
  {
   "cell_type": "code",
   "execution_count": 32,
   "metadata": {
    "collapsed": false
   },
   "outputs": [
    {
     "data": {
      "image/png": "[encoded data removed]",
      "text/latex": [
       "$$- \\sin{\\left (5 \\right )} + \\frac{125}{3}$$"
      ],
      "text/plain": [
       "-sin(5) + 125/3"
      ]
     },
     "execution_count": 32,
     "metadata": {},
     "output_type": "execute_result"
    }
   ],
   "source": [
    "sym.integrate(x ** 2 - sym.cos(x), (x, 0, 5))"
   ]
  },
  {
   "cell_type": "markdown",
   "metadata": {},
   "source": [
    "---\n",
    "\n",
    "**EJERCICIOS** Use Sympy para calcular:\n",
    "\n",
    "1. $\\frac{d\\sin(x ^2)}{dx}$\n",
    "2. $\\frac{d(x ^2 + xy - \\ln(y))}{dy}$\n",
    "3. $\\int e^x \\cos(x)\\;dx$\n",
    "4. $\\int_0^5 e^{2x}\\;dx$"
   ]
  },
  {
   "cell_type": "markdown",
   "metadata": {},
   "source": [
    "## Dibujando con Sympy\n",
    "\n",
    "Finalmente veremos que también Sympy nos puede servir para dibujar funciones. Para ello haremos uso del módulo por excelencia para dibujar con Python, que se llama [matplotlib](http://matplotlib.org/). Y aunque en principio también SymPy podría realizar gráficos de funciones directamente, sin hacer uso de `matplotlib`, se recomienda usarlo ya que este módulo de dibujo con Python es de lo más potente y versátil, como ya tendrá oportunidad de comprobar si mira su [documentación](https://matplotlib.org/contents.html) o la [galería](https://matplotlib.org/gallery/index.html) de gráficos disponibles\n",
    "\n",
    "\n",
    "Pero antes de poder visualizar via Jupyter estos gráficos necesitaremos correr cierto comando para que éstos aparezcan en línea, incrustados en el propio notebook, y no en una ventana emergente:"
   ]
  },
  {
   "cell_type": "code",
   "execution_count": 33,
   "metadata": {
    "collapsed": true
   },
   "outputs": [],
   "source": [
    "%matplotlib inline"
   ]
  },
  {
   "cell_type": "markdown",
   "metadata": {},
   "source": [
    "Dibujemos simplemente $x^2$:"
   ]
  },
  {
   "cell_type": "code",
   "execution_count": 40,
   "metadata": {
    "collapsed": true
   },
   "outputs": [],
   "source": [
    "?sym.plot"
   ]
  },
  {
   "cell_type": "code",
   "execution_count": 37,
   "metadata": {
    "collapsed": false,
    "tags": [
     "nbval-ignore-output"
    ]
   },
   "outputs": [
    {
     "data": {
      "image/png": "[encoded data removed]",
      "text/plain": [
       "<matplotlib.figure.Figure at 0x9d09358>"
      ]
     },
     "metadata": {},
     "output_type": "display_data"
    }
   ],
   "source": [
    "expr = x ** 2\n",
    "p = sym.plot(expr);"
   ]
  },
  {
   "cell_type": "markdown",
   "metadata": {},
   "source": [
    "Nótese, que por defecto se ha tomado el intervalo $[-10,10]$ para dicha representación.  directly save that plot to a file if we wish to:"
   ]
  },
  {
   "cell_type": "code",
   "execution_count": 42,
   "metadata": {
    "collapsed": false
   },
   "outputs": [
    {
     "data": {
      "image/png": "[encoded data removed]",
      "text/plain": [
       "<matplotlib.figure.Figure at 0x9e2af60>"
      ]
     },
     "metadata": {},
     "output_type": "display_data"
    }
   ],
   "source": [
    "pbis = sym.plot(expr,(x,0,5));"
   ]
  },
  {
   "cell_type": "code",
   "execution_count": 43,
   "metadata": {
    "collapsed": false,
    "tags": [
     "nbval-ignore-output"
    ]
   },
   "outputs": [
    {
     "data": {
      "image/png": "[encoded data removed]",
      "text/plain": [
       "<matplotlib.figure.Figure at 0x9ec6c88>"
      ]
     },
     "metadata": {},
     "output_type": "display_data"
    },
    {
     "data": {
      "image/png": "[encoded data removed]",
      "text/plain": [
       "<matplotlib.figure.Figure at 0x9ec6e10>"
      ]
     },
     "metadata": {},
     "output_type": "display_data"
    }
   ],
   "source": [
    "p.save(\"parabola.pdf\");\n",
    "pbis.save(\"semiparabola.pdf\");"
   ]
  },
  {
   "cell_type": "code",
   "execution_count": 44,
   "metadata": {
    "collapsed": false
   },
   "outputs": [
    {
     "name": "stdout",
     "output_type": "stream",
     "text": [
      " El volumen de la unidad C no tiene etiqueta.\n",
      " El n£mero de serie del volumen es: B86C-57D6\n",
      "\n",
      " Directorio de C:\\Users\\Pedro\\Downloads\\Python-Mathematics-Handbook-master\n",
      "\n",
      "28/09/2018  00:31             8.437 parabola.pdf\n",
      "28/09/2018  00:31             7.338 semiparabola.pdf\n",
      "28/09/2018  00:14             8.406 x_squared.pdf\n",
      "               3 archivos         24.181 bytes\n",
      "               0 dirs  17.229.123.584 bytes libres\n"
     ]
    }
   ],
   "source": [
    "ls *.pdf"
   ]
  },
  {
   "cell_type": "markdown",
   "metadata": {},
   "source": [
    "---\n",
    "**EJERCICIO** Dibuje las siguientes funciones:\n",
    "\n",
    "- $y=x + cos(x)$\n",
    "- $y=x ^ 2 - e^x$ (aquí se podría usar `ylim` como un argumento útil; consultar la documentación)\n",
    "\n",
    "Experimente también con varios dominios de definición, opciones gráficas y distintos formatos de fichero a la hora de grabar los correspondientes gráficos.\n",
    "\n",
    "---\n",
    "\n",
    "## Resumen\n",
    "\n",
    "En esta sección hemos discutido cómo se puede usar Sympy para:\n",
    "\n",
    "- Manipular expresiones simbólicas;\n",
    "- Calcular límites, derivadas e integrales;\n",
    "- Dibujar expresiones simbólicas.  \n",
    "    \n",
    "Pero esto no es más que una pequeña parte de lo que Sympy puede hacer."
   ]
  },
  {
   "cell_type": "code",
   "execution_count": null,
   "metadata": {
    "collapsed": true
   },
   "outputs": [],
   "source": []
  }
 ],
 "metadata": {
  "anaconda-cloud": {},
  "celltoolbar": "Tags",
  "kernelspec": {
   "display_name": "Python 3",
   "language": "python",
   "name": "python3"
  },
  "language_info": {
   "codemirror_mode": {
    "name": "ipython",
    "version": 3
   },
   "file_extension": ".py",
   "mimetype": "text/x-python",
   "name": "python",
   "nbconvert_exporter": "python",
   "pygments_lexer": "ipython3",
   "version": "3.5.2"
  }
 },
 "nbformat": 4,
 "nbformat_minor": 1
}
