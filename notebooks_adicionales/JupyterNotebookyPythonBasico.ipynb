{
 "cells": [
  {
   "cell_type": "markdown",
   "metadata": {},
   "source": [
    "# Introducción a Python e IPython, así como a Jupyter Notebook"
   ]
  },
  {
   "cell_type": "markdown",
   "metadata": {},
   "source": [
    "*Ahora haremos una rápida introducción al lenguaje Python, al intérprete IPython, así como al sistema de Notebooks. Veremos como ejecutar un script de Python y cuáles son los tipos y estructuras básicas de este lenguaje. Seguro que ya has oído hablar mucho sobre las bondades de Python frente a otros lenguajes. Si no es así, échale un vistazo a lo que opinan dos autodidactas natos, como Juan Luis Cano y Alejandro Sáez al [respecto](http://nbviewer.ipython.org/github/AeroPython/Python_HA/blob/master/razones_python.ipynb).\n",
    "¿Estás preparado? ¡Pues Empezamos!*"
   ]
  },
  {
   "cell_type": "markdown",
   "metadata": {},
   "source": [
    "## ¿Qué es Python? "
   ]
  },
  {
   "cell_type": "markdown",
   "metadata": {},
   "source": [
    "* Lenguaje de programación dinámico, interpretado y fácil de aprender\n",
    "* Creado por Guido van Rossum en 1991\n",
    "* Ampliamente utilizado en ciencia e ingeniería\n",
    "* Multitud de bibliotecas para realizar diferentes tareas."
   ]
  },
  {
   "cell_type": "markdown",
   "metadata": {},
   "source": [
    "### El zen de Python"
   ]
  },
  {
   "cell_type": "code",
   "execution_count": 6,
   "metadata": {
    "collapsed": false
   },
   "outputs": [
    {
     "name": "stdout",
     "output_type": "stream",
     "text": [
      "The Zen of Python, by Tim Peters\n",
      "\n",
      "Beautiful is better than ugly.\n",
      "Explicit is better than implicit.\n",
      "Simple is better than complex.\n",
      "Complex is better than complicated.\n",
      "Flat is better than nested.\n",
      "Sparse is better than dense.\n",
      "Readability counts.\n",
      "Special cases aren't special enough to break the rules.\n",
      "Although practicality beats purity.\n",
      "Errors should never pass silently.\n",
      "Unless explicitly silenced.\n",
      "In the face of ambiguity, refuse the temptation to guess.\n",
      "There should be one-- and preferably only one --obvious way to do it.\n",
      "Although that way may not be obvious at first unless you're Dutch.\n",
      "Now is better than never.\n",
      "Although never is often better than *right* now.\n",
      "If the implementation is hard to explain, it's a bad idea.\n",
      "If the implementation is easy to explain, it may be a good idea.\n",
      "Namespaces are one honking great idea -- let's do more of those!\n"
     ]
    }
   ],
   "source": [
    "import this"
   ]
  },
  {
   "cell_type": "markdown",
   "metadata": {},
   "source": [
    "### ¿Qué pinta tiene un programa en Python y cómo lo ejecuto?"
   ]
  },
  {
   "cell_type": "markdown",
   "metadata": {},
   "source": [
    "Vamos a ver `mi_primer_script.py` que está en la carpeta `scripts`. __De momento no te preocupes por el código,__ ya habrá tiempo para eso..."
   ]
  },
  {
   "cell_type": "code",
   "execution_count": 15,
   "metadata": {
    "collapsed": false
   },
   "outputs": [
    {
     "name": "stdout",
     "output_type": "stream",
     "text": [
      "import matplotlib.pyplot as plt\n",
      "     \n",
      "print(\"Â¡Hola gente del taller de Python!\")\n",
      "print(\"Â¿CuÃ¡ntos de vosotros sois completamente novatos con Python?\")\n",
      "nnovatos = input()\n",
      "nnovatos = int(nnovatos)\n",
      "\n",
      "if nnovatos > 20:\n",
      "    print(\"Â¡Â¡Ufff, eso es un montÃ³n!! Espero que aprendÃ¡is mucho hoy... \\n\")\n",
      "\n",
      "\n",
      "print(\"Â¿CuÃ¡ntos de vosotros ya os habÃ©is iniciado un poquito en Python?\")\n",
      "niniciados = input()\n",
      "niniciados = int(niniciados)\n",
      "print(\"Bueno, Â¡siempre hay algo nuevo que aprender!\\n\")\n",
      "\n",
      "\n",
      "print(\"Â¿CuÃ¡ntos de vosotros ya sabÃ©is bastante de Python?\")\n",
      "navanzados = input()\n",
      "navanzados  = int(navanzados)\n",
      "print(\"Bueno, en todo caso Â¡espero que tambiÃ©n aprendÃ¡is algo nuevo hoy!\\n\")\n",
      "\n",
      "print(\"Y por Ãºltimo, Â¿cuÃ¡ntos de vosotros ya sois casi unos expertos en Python?\")\n",
      "nexpertos = input()\n",
      "nexpertos  = int(nexpertos)\n",
      "if nexpertos > 2:\n",
      "    print(\"Bueno,Â¡en realidad no se quÃ© hacÃ©is vosotros aquÃ­! \\n\")\n",
      "\n",
      "\n",
      "# Datos a mostrar\n",
      "labels = 'NeÃ³fitos', 'Iniciados', 'Avanzados', 'Expertos'\n",
      "sizes = [nnovatos, niniciados, navanzados, nexpertos]\n",
      "colors = ['gold', 'yellowgreen', 'lightcoral', 'lightskyblue']\n",
      "explode = (0.1, 0, 0, 0)  # explode 1st slice\n",
      "\n",
      "\n",
      "# GrÃ¡fico por sectores\n",
      "plt.pie(sizes, explode=explode, labels=labels, colors=colors,\n",
      "        autopct='%1.1f%%', shadow=True, startangle=140)\n",
      "\n",
      "plt.axis('equal')\n",
      "plt.show();\n"
     ]
    }
   ],
   "source": [
    "!cat ../scripts/mi_primer_script.py"
   ]
  },
  {
   "cell_type": "markdown",
   "metadata": {},
   "source": [
    "<div class=\"alert alert-info\"><strong>Tip de IPython</strong>:\n",
    "`cat` es un comando de la línea de comandos, no propio de Python. Anteponiendo `!` a comandos de la terminal como `cd`, `ls`, `cat`... se pueden ejecutar desde aquí.\n",
    "</div>"
   ]
  },
  {
   "cell_type": "markdown",
   "metadata": {},
   "source": [
    "<div class=\"alert\"><strong>Si estás usando Windows</strong> y acabas de obtener un error, susituye la línea anterior por:<br>\n",
    "    `!type . ../scripts/mi_primer_script.pyy`\n",
    "\n",
    "<br><br>\n",
    "`type` es un comando similar en Windows a `cat`. De nuevo, podemos ejecutar comandos como `cd`, `dir`, `type`, `find`...  desde aquí anteponiendo `!` y utilizando `\\` en lugar de `/` para la ruta donde se encuentra el archivo.\n",
    "    \n",
    "</div>"
   ]
  },
  {
   "cell_type": "code",
   "execution_count": 19,
   "metadata": {
    "collapsed": false
   },
   "outputs": [
    {
     "name": "stdout",
     "output_type": "stream",
     "text": [
      " El volumen de la unidad C no tiene etiqueta.\n",
      " El n£mero de serie del volumen es: 84A6-5A60\n",
      "\n",
      " Directorio de C:\\Users\\Pedro\\Downloads\\TallerPythonUGR-master (1)\\TallerPythonUGR-master\\notebooks_adicionales\n",
      "\n",
      "24/08/2018  17:35    <DIR>          .\n",
      "24/08/2018  17:35    <DIR>          ..\n",
      "24/08/2018  17:21    <DIR>          .ipynb_checkpoints\n",
      "24/08/2018  04:02    <DIR>          Fundamentos_Lenguaje\n",
      "24/08/2018  04:02            69.750 Introduccion-a-la-programacion-con-Python-Python3.ipynb\n",
      "24/08/2018  17:35            71.675 JupyterNotebookyPythonBasico.ipynb\n",
      "24/08/2018  16:40            24.698 Notebook_0_Introduccion_a_Python.ipynb\n",
      "24/08/2018  04:02             6.121 version_information.pyc\n",
      "               4 archivos        172.244 bytes\n",
      "               4 dirs   4.037.431.296 bytes libres\n"
     ]
    }
   ],
   "source": [
    "!dir"
   ]
  },
  {
   "cell_type": "code",
   "execution_count": 25,
   "metadata": {
    "collapsed": false
   },
   "outputs": [
    {
     "name": "stdout",
     "output_type": "stream",
     "text": [
      "C:\\Users\\Pedro\\Downloads\\TallerPythonUGR-master (1)\\TallerPythonUGR-master\\scripts\n"
     ]
    }
   ],
   "source": [
    "%cd ..\\scripts"
   ]
  },
  {
   "cell_type": "code",
   "execution_count": 26,
   "metadata": {
    "collapsed": false
   },
   "outputs": [
    {
     "name": "stdout",
     "output_type": "stream",
     "text": [
      " El volumen de la unidad C no tiene etiqueta.\n",
      " El n£mero de serie del volumen es: 84A6-5A60\n",
      "\n",
      " Directorio de C:\\Users\\Pedro\\Downloads\\TallerPythonUGR-master (1)\\TallerPythonUGR-master\\scripts\n",
      "\n",
      "24/08/2018  04:02    <DIR>          .\n",
      "24/08/2018  04:02    <DIR>          ..\n",
      "24/08/2018  04:02               881 ajuste_curvas.py\n",
      "24/08/2018  04:02               248 boxplot1.py\n",
      "24/08/2018  04:02               373 characpolynomial.py\n",
      "24/08/2018  04:02               981 color_cycle_demo.py\n",
      "24/08/2018  04:02               490 contourplot1.py\n",
      "24/08/2018  04:02               314 Creando_Fichero_MAT.py\n",
      "24/08/2018  04:02            32.002 curva_ajustada.eps\n",
      "24/08/2018  04:02            16.675 curva_ajustada.pdf\n",
      "24/08/2018  04:02               205 diccionarios.py\n",
      "24/08/2018  04:02             2.848 earthquakes.py\n",
      "24/08/2018  04:02               455 EDOSegundoOrden.py\n",
      "24/08/2018  04:02               490 EDOTercerOrden.py\n",
      "24/08/2018  04:02               214 eigenvalues.py\n",
      "24/08/2018  04:02             1.317 Ejamplo_widgets.py\n",
      "24/08/2018  04:02               761 EjemploAxes3D.py\n",
      "24/08/2018  04:02               667 EjemploCreaPDF.py\n",
      "24/08/2018  04:02               433 Ejemplo_biseccion.py\n",
      "24/08/2018  04:02               277 Ejemplo_fsolve.py\n",
      "24/08/2018  04:02             1.333 Ejemplo_interpolaci¢n.py\n",
      "24/08/2018  04:02             1.590 ejemplo_mayavi.py\n",
      "24/08/2018  04:02               230 Ejemplo_mplot3d.py\n",
      "24/08/2018  04:02               382 Ejemplo_mplot3d_2.py\n",
      "24/08/2018  04:02             1.045 Ejemplo_optimizaci¢n.py\n",
      "24/08/2018  04:02             1.317 Ejemplo_widgets.py\n",
      "24/08/2018  04:02               196 ejer1.py\n",
      "24/08/2018  04:02               249 ejer1bis.py\n",
      "24/08/2018  04:02                93 errorbarplots.py\n",
      "24/08/2018  04:02               234 fib.py\n",
      "24/08/2018  04:02               186 fibonacciIT.py\n",
      "24/08/2018  04:02                28 hello.py\n",
      "24/08/2018  04:02                28 hola.py\n",
      "24/08/2018  04:02               343 integraci¢n num‚rica (Exercise 16.3.1  of Phyton for Computational Science and Engineering).py\n",
      "24/08/2018  04:02               355 integraci¢n num‚rica.py\n",
      "24/08/2018  04:02            14.903 jdcal.py\n",
      "24/08/2018  04:02             2.313 laplace_1d.py\n",
      "24/08/2018  04:02               385 linalg_numpy.py\n",
      "24/08/2018  04:02               488 maxima.py\n",
      "24/08/2018  04:02             1.319 mi_primer_script.py\n",
      "24/08/2018  04:02             3.301 MRI example.py\n",
      "24/08/2018  04:02             2.913 numpy_arrays.py\n",
      "24/08/2018  04:02               628 numpy_arrays_bys.py\n",
      "24/08/2018  04:02             2.972 numpy_arrays_valyvecpropios.py\n",
      "24/08/2018  04:02             2.246 orbital.py\n",
      "24/08/2018  04:02               654 OtroEjemplo_Tkinter.py\n",
      "24/08/2018  04:02               715 OtroEjemplo_Tkinter_conradiobuttons.py\n",
      "24/08/2018  04:02            70.827 pep8.py\n",
      "24/08/2018  04:02               684 pep8magic.py\n",
      "24/08/2018  04:02               889 pi.py\n",
      "24/08/2018  04:02               365 plot.py\n",
      "24/08/2018  04:02                14 printHola.py\n",
      "24/08/2018  04:02                46 printvariable.py\n",
      "24/08/2018  04:02               702 pyplot_ejemplo0.py\n",
      "24/08/2018  04:02               929 pyplot_ejemplo1.py\n",
      "24/08/2018  04:02             1.077 pyplot_ejemplo2.py\n",
      "24/08/2018  04:02               833 pyplot_ejemplo3.py\n",
      "24/08/2018  04:02               899 Resol_EDOs (Exo. 16.4.1).py\n",
      "24/08/2018  04:02               646 Resol_EDOs.py\n",
      "24/08/2018  04:02             1.147 Resol_EDOs_Ejerc1Prac.py\n",
      "24/08/2018  04:02               677 Resol_EDOs_Ejerc1Praccopia.py\n",
      "24/08/2018  04:02               932 SistemaSegundoOrdenAcoplado.py\n",
      "24/08/2018  04:02             1.102 Subplots_FuncionesdeAiry.py\n",
      "24/08/2018  04:02             1.181 Subplots_FuncionesdeAiryYDerivadas.py\n",
      "24/08/2018  04:02               562 Subplots_PolinomiosLegendre.py\n",
      "24/08/2018  04:02               494 test_maxima.py\n",
      "24/08/2018  04:02             1.942 tkPhone copia.py\n",
      "24/08/2018  04:02             1.942 tkPhone.py\n",
      "24/08/2018  04:02               492 Usando_Tkinter.py\n",
      "24/08/2018  04:02             5.898 version_information.py\n",
      "              68 archivos        194.357 bytes\n",
      "               2 dirs   4.037.136.384 bytes libres\n"
     ]
    }
   ],
   "source": [
    "!dir"
   ]
  },
  {
   "cell_type": "code",
   "execution_count": 58,
   "metadata": {
    "collapsed": false
   },
   "outputs": [
    {
     "name": "stdout",
     "output_type": "stream",
     "text": [
      "print(\"Hola desde  Python!\")\n"
     ]
    }
   ],
   "source": [
    "!type hola.py"
   ]
  },
  {
   "cell_type": "code",
   "execution_count": 59,
   "metadata": {
    "collapsed": false
   },
   "outputs": [
    {
     "name": "stdout",
     "output_type": "stream",
     "text": [
      "Hola desde  Python!\n"
     ]
    }
   ],
   "source": [
    "%run hola.py"
   ]
  },
  {
   "cell_type": "markdown",
   "metadata": {},
   "source": [
    "<div class=\"alert alert-info\"><strong>Tip de IPython</strong>:\n",
    "`%run` es un _comando mágico_ del notebook que te permite ejecutar un archivo.\n",
    "\n",
    "Si quieres hacerlo desde una línea de comandos podrías hacer:\n",
    "\n",
    "`$ python3 ../scripts/mi_primer_script.py`\n",
    "</div>\n"
   ]
  },
  {
   "cell_type": "markdown",
   "metadata": {},
   "source": [
    "El método más simple es usar un editor (tu preferido) y ejecutar el script desde la línea de comandos. Pero existen también __IDE__s (_integrated development environment_) pensados para facilitar la escritura de código y tener al alcance de la mano otras herramientas como _profilers_, _debuggers_, _explorador de variables_... Entre los más adecuados para la programación científica se encuentran [IEP](http://www.pyzo.org/iep.html) y [Spyder](https://github.com/spyder-ide/spyder) (instalado con Anaconda)."
   ]
  },
  {
   "cell_type": "markdown",
   "metadata": {},
   "source": [
    "<img src=\"../images/spyder.png\" alt=\"Spyder\" style=\"width: 800px;\"/>"
   ]
  },
  {
   "cell_type": "markdown",
   "metadata": {},
   "source": [
    "## ¿Qué es IPython?"
   ]
  },
  {
   "cell_type": "markdown",
   "metadata": {},
   "source": [
    "[IPython](http://ipython.org/) no es más que un [intérprete](https://es.wikipedia.org/wiki/Int%C3%A9rprete_(inform%C3%A1tica) de Python interactivo con algunas mejoras sustanciales, pero además su interfaz notebook es más cómoda de manejar que la línea de comandos y nos da un poco más de flexibilidad."
   ]
  },
  {
   "cell_type": "markdown",
   "metadata": {},
   "source": [
    "### Notebook de IPython"
   ]
  },
  {
   "cell_type": "markdown",
   "metadata": {},
   "source": [
    "__Será nuestra herramienta de trabajo fundamental durante este tallerr__. Esto que estás leyendo ahora no es más que un notebook de IPython, que como diremos luego además de código puede contener texto e imágenes. Pero veamos primero cómo funciona.\n",
    "\n",
    "__Al iniciar el notebook de IPython, en la pantalla principal podemos ver una ruta y una lista de notebooks__. Cada notebook es un archivo que está almacenado en el ordenador en la ruta que aparece. Si en esa carpeta no hay notebooks, veremos un mensaje indicando que la lista de notebooks está vacía.\n",
    "\n",
    "Al crear un notebook o al abrir uno nuevo se abre la interfaz de IPython propiamente dicha donde ya podemos empezar a trabajar. Es similar a un intérprete, pero está dividida en **celdas**. Las celdas pueden contener, código, texto, imágenes...\n",
    "\n",
    "Cada celda de código está marcada por la palabra `In [<n>]` y están **numeradas**. Tan solo tenemos que escribir el código en ella y hacer click arriba en Cell -> Run, el triángulo (\"Run cell\") o usar el atajo `shift + Enter`. El resultado de la celda se muestra en el campo `Out [<n>]`, también numerado y coincidiendo con la celda que acabamos de ejecutar. Esto también es importante, como ya veremos luego y funciona exactamente de la misma forma que las celdillas de Entrada/Salida de los notebooks de [Mathematica](http://reference.wolfram.com/language/guide/NotebookBasics.html).\n",
    "\n",
    "Si en la barra superior seleccionas Markdown (o usas el atajo `Shift-M`) en lugar de Code puedes escribir texto:"
   ]
  },
  {
   "cell_type": "code",
   "execution_count": 4,
   "metadata": {
    "collapsed": false
   },
   "outputs": [
    {
     "data": {
      "text/html": [
       "<img src=\"../images/markdown_cell.gif\"/>"
      ],
      "text/plain": [
       "<IPython.core.display.Image object>"
      ]
     },
     "execution_count": 4,
     "metadata": {},
     "output_type": "execute_result"
    }
   ],
   "source": [
    "from IPython.display import Image\n",
    "Image(url=\"../images/markdown_cell.gif\")\n",
    "# Fuente Practical Numerical Methods with Python \n",
    "# http://openedx.seas.gwu.edu/courses/GW/MAE6286/2014_fall/about"
   ]
  },
  {
   "cell_type": "markdown",
   "metadata": {},
   "source": [
    "También ecuaciones en latex y mucho más. Esto es una herramienta muy potente para explicar a alguien o a ti mismo lo que tu código hace, para hacer un informe, un trabajo, escribir en un blog...\n",
    "\n",
    "Markdown es un lenguaje aparte, no te preocupes por él demasiado ahora, irás aprendiendo sobre la marcha... Para cuando lo vayas necesitando, aquí tienes una [chuleta](https://guides.github.com/features/mastering-markdown/)."
   ]
  },
  {
   "cell_type": "code",
   "execution_count": 5,
   "metadata": {
    "collapsed": false
   },
   "outputs": [
    {
     "data": {
      "text/html": [
       "<img src=\"../images/markdown_math.gif\"/>"
      ],
      "text/plain": [
       "<IPython.core.display.Image object>"
      ]
     },
     "execution_count": 5,
     "metadata": {},
     "output_type": "execute_result"
    }
   ],
   "source": [
    "Image(url=\"../images/markdown_math.gif\")\n",
    "# Fuente Practical Numerical Methods with Python \n",
    "# http://openedx.seas.gwu.edu/courses/GW/MAE6286/2014_fall/about"
   ]
  },
  {
   "cell_type": "markdown",
   "metadata": {},
   "source": [
    "Puedes mover las celdas de un lugar a otro de este modo:"
   ]
  },
  {
   "cell_type": "code",
   "execution_count": 6,
   "metadata": {
    "collapsed": false
   },
   "outputs": [
    {
     "data": {
      "text/html": [
       "<img src=\"../images/cell_move.gif\"/>"
      ],
      "text/plain": [
       "<IPython.core.display.Image object>"
      ]
     },
     "execution_count": 6,
     "metadata": {},
     "output_type": "execute_result"
    }
   ],
   "source": [
    "Image(url=\"../images/cell_move.gif\")\n",
    "# Fuente: Practical Numerical Methods with Python \n",
    "# http://openedx.seas.gwu.edu/courses/GW/MAE6286/2014_fall/about"
   ]
  },
  {
   "cell_type": "markdown",
   "metadata": {},
   "source": [
    "El Notebook tiene además numerosos atajos que irás aprendiendo sobre la marcha, puedes consultarlos en `Help > Keyboard Shortcourts`"
   ]
  },
  {
   "cell_type": "markdown",
   "metadata": {},
   "source": [
    "---\n",
    "\n",
    "###### Este notebook ha sido confeccionado y adaptado por: Pedro González Rodelas a partir de uno previo ya realizado por Juan Luis Cano, y Álex Sáez \n",
    "<br/>\n",
    "##### <a rel=\"license\" href=\"http://creativecommons.org/licenses/by/4.0/deed.es\"><img alt=\"Licencia Creative Commons\" style=\"border-width:0\" src=\"http://i.creativecommons.org/l/by/4.0/88x31.png\" /></a><br /><span xmlns:dct=\"http://purl.org/dc/terms/\" property=\"dct:title\">Taller de Python UGR</span> por <span xmlns:cc=\"http://creativecommons.org/ns#\" property=\"cc:attributionName\">Pedro Gzlez. Rodelas y Fco. Miguel García Olmedo</span> se distribuye bajo una <a rel=\"license\" href=\"http://creativecommons.org/licenses/by/4.0/deed.es\">Licencia Creative Commons Atribución 4.0 Internacional</a>."
   ]
  },
  {
   "cell_type": "markdown",
   "metadata": {},
   "source": [
    "---\n",
    "_Las siguientes celdas contienen configuración del Notebook_\n"
   ]
  },
  {
   "cell_type": "code",
   "execution_count": 61,
   "metadata": {
    "collapsed": false
   },
   "outputs": [
    {
     "data": {
      "text/html": [
       "/* This template is inspired in the one used by Lorena Barba\n",
       "in the numerical-mooc repository: https://github.com/numerical-mooc/numerical-mooc\n",
       "We thank her work and hope you also enjoy the look of the notobooks with this style */\n",
       "\n",
       "<link href='http://fonts.googleapis.com/css?family=Source+Sans+Pro|Josefin+Sans:400,700,400italic|Ubuntu+Condensed' rel='stylesheet' type='text/css'>\n",
       "\n",
       "El estilo se ha aplicado =)\n",
       "\n",
       "<style>\n",
       "\n",
       "\n",
       "\n",
       "#notebook_panel { /* main background */\n",
       "    background: #f7f7f7;\n",
       "}\n",
       "\n",
       "div.cell { /* set cell width */\n",
       "    width: 900px;\n",
       "}\n",
       "\n",
       "div #notebook { /* centre the content */\n",
       "    background: #fff; /* white background for content */\n",
       "    width: 950px;\n",
       "    margin: auto;\n",
       "    padding-left: 0em;\n",
       "}\n",
       "\n",
       "#notebook li { /* More space between bullet points */\n",
       "    margin-top:0.7em;\n",
       "}\n",
       "\n",
       "/* draw border around running cells */\n",
       "div.cell.border-box-sizing.code_cell.running { \n",
       "    border: 1px solid #111;\n",
       "}\n",
       "\n",
       "/* Put a solid color box around each cell and its output, visually linking them*/\n",
       "div.cell.code_cell {\n",
       "    font-family: 'Source Sans Pro', sans-serif;\n",
       "    background-color: rgb(256,256,256);\n",
       "    font-size: 110%;\n",
       "    border-radius: 0px; \n",
       "    padding: 0.5em;\n",
       "    margin-left:1em;\n",
       "    margin-top: 1em;\n",
       "}\n",
       "\n",
       "div.text_cell_render{\n",
       "    font-family: 'Josefin Sans', serif;\n",
       "    line-height: 145%;\n",
       "    font-size: 125%;\n",
       "    font-weight: 500;\n",
       "    width:750px;\n",
       "    margin-left:auto;\n",
       "    margin-right:auto;\n",
       "}\n",
       "\n",
       "\n",
       "/* Formatting for header cells */\n",
       ".text_cell_render h1, .text_cell_render h2, .text_cell_render h3,\n",
       ".text_cell_render h4, .text_cell_render h5 {\n",
       "    font-family: 'Ubuntu Condensed', sans-serif;\n",
       "}\n",
       "/*\n",
       ".text_cell_render h1 {\n",
       "    font-family: Flux, 'Ubuntu Condensed', serif;\n",
       "    font-style:regular;\n",
       "    font-weight: 400;    \n",
       "    font-size: 30pt;\n",
       "    text-align: center;\n",
       "    line-height: 100%;\n",
       "    color: #335082;\n",
       "    margin-bottom: 0.5em;\n",
       "    margin-top: 0.5em;\n",
       "    display: block;\n",
       "}\n",
       "*/\n",
       ".text_cell_render h1 {\n",
       "    font-weight: 600;\n",
       "    font-size: 35pt;\n",
       "    line-height: 100%;\n",
       "    color: #000000;\n",
       "    margin-bottom: 0.1em;\n",
       "    margin-top: 0.3em;\n",
       "    display: block;\n",
       "}\n",
       "\n",
       ".text_cell_render h2 {\n",
       "    margin-top:16px;\n",
       "    font-size: 27pt;\n",
       "    font-weight: 550;\n",
       "    margin-bottom: 0.1em;\n",
       "    margin-top: 0.3em;\n",
       "    font-style: regular;\n",
       "    color: #2c6391;\n",
       "}\t\n",
       "\n",
       ".text_cell_render h3 {\n",
       "    font-size: 20pt;\n",
       "    font-weight: 550\n",
       "    text-align: left;\n",
       "    margin-bottom: 0.1em;\n",
       "    margin-top: 0.3em;\n",
       "    font-style: regular;\n",
       "    color:  #387eb8;\n",
       "}\n",
       "\n",
       ".text_cell_render h4 {    /*Use this for captions*/\n",
       "    font-size: 18pt;\n",
       "    font-weight: 450\n",
       "    text-align: left;\n",
       "    margin-bottom: 0.1em;\n",
       "    margin-top: 0.3em;\n",
       "    font-style: regular;\n",
       "    color:  #5797cc;\n",
       "}\n",
       "\n",
       ".text_cell_render h5 {  /*Use this for small titles*/\n",
       "    font-size: 18pt;\n",
       "    font-weight: 550;\n",
       "    color: rgb(163,0,0);\n",
       "    font-style: italic;\n",
       "    margin-bottom: .1em;\n",
       "    margin-top: 0.8em;\n",
       "    display: block;\n",
       "    color:  #b21c0d;\n",
       "}\n",
       "\n",
       ".text_cell_render h6 { /*use this for copyright note*/\n",
       "    font-family: 'Ubuntu Condensed', sans-serif;\n",
       "    font-weight: 300;\n",
       "    font-size: 14pt;\n",
       "    line-height: 100%;\n",
       "    color: #252525;\n",
       "    text-align: right;\n",
       "    margin-bottom: 1px;\n",
       "    margin-top: 1px;\n",
       "}\n",
       "\n",
       ".CodeMirror{\n",
       "        font-family: 'Duru Sans', sans-serif;\n",
       "        font-size: 100%;\n",
       "}\n",
       "\n",
       "</style>\n",
       "<script>\n",
       "    MathJax.Hub.Config({\n",
       "                        TeX: {\n",
       "                           extensions: [\"AMSmath.js\"],\n",
       "                           equationNumbers: { autoNumber: \"AMS\", useLabelIds: true}\n",
       "                           },\n",
       "                tex2jax: {\n",
       "                    inlineMath: [ ['$','$'], [\"\\\\(\",\"\\\\)\"] ],\n",
       "                    displayMath: [ ['$$','$$'], [\"\\\\[\",\"\\\\]\"] ]\n",
       "                },\n",
       "                displayAlign: 'center', // Change this to 'center' to center equations.\n",
       "                \"HTML-CSS\": {\n",
       "                    styles: {'.MathJax_Display': {\"margin\": 4}}\n",
       "                }\n",
       "        });\n",
       "</script>\n"
      ],
      "text/plain": [
       "<IPython.core.display.HTML object>"
      ]
     },
     "execution_count": 61,
     "metadata": {},
     "output_type": "execute_result"
    }
   ],
   "source": [
    "# Esta celda da el estilo al notebook\n",
    "from IPython.core.display import HTML\n",
    "css_file = '../styles/aeropython.css'\n",
    "HTML(open(css_file, \"r\").read())"
   ]
  }
 ],
 "metadata": {
  "anaconda-cloud": {},
  "kernelspec": {
   "display_name": "Python [default]",
   "language": "python",
   "name": "python3"
  },
  "language_info": {
   "codemirror_mode": {
    "name": "ipython",
    "version": 3
   },
   "file_extension": ".py",
   "mimetype": "text/x-python",
   "name": "python",
   "nbconvert_exporter": "python",
   "pygments_lexer": "ipython3",
   "version": "3.5.2"
  }
 },
 "nbformat": 4,
 "nbformat_minor": 2
}
