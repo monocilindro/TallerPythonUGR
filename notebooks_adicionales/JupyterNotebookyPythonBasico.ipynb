{
 "cells": [
  {
   "cell_type": "markdown",
   "metadata": {},
   "source": [
    "# Introducción a Python e IPython, así como a Jupyter Notebook"
   ]
  },
  {
   "cell_type": "markdown",
   "metadata": {},
   "source": [
    "*Ahora haremos una rápida introducción al lenguaje Python, al intérprete IPython, así como al sistema de Notebooks. Veremos como ejecutar un script de Python y cuáles son los tipos y estructuras básicas de este lenguaje. Seguro que ya has oído hablar mucho sobre las bondades de Python frente a otros lenguajes. Si no es así, échale un vistazo a lo que opinan dos autodidactas natos, como Juan Luis Cano y Alejandro Sáez al [respecto](http://nbviewer.ipython.org/github/AeroPython/Python_HA/blob/master/razones_python.ipynb).\n",
    "¿Estás preparado? ¡Pues Empezamos!*"
   ]
  },
  {
   "cell_type": "markdown",
   "metadata": {},
   "source": [
    "## ¿Qué es Python? "
   ]
  },
  {
   "cell_type": "markdown",
   "metadata": {},
   "source": [
    "* Lenguaje de programación dinámico, interpretado y fácil de aprender\n",
    "* Creado por Guido van Rossum en 1991\n",
    "* Ampliamente utilizado en ciencia e ingeniería\n",
    "* Multitud de bibliotecas para realizar diferentes tareas."
   ]
  },
  {
   "cell_type": "markdown",
   "metadata": {},
   "source": [
    "### El zen de Python"
   ]
  },
  {
   "cell_type": "code",
   "execution_count": 6,
   "metadata": {},
   "outputs": [
    {
     "name": "stdout",
     "output_type": "stream",
     "text": [
      "The Zen of Python, by Tim Peters\n",
      "\n",
      "Beautiful is better than ugly.\n",
      "Explicit is better than implicit.\n",
      "Simple is better than complex.\n",
      "Complex is better than complicated.\n",
      "Flat is better than nested.\n",
      "Sparse is better than dense.\n",
      "Readability counts.\n",
      "Special cases aren't special enough to break the rules.\n",
      "Although practicality beats purity.\n",
      "Errors should never pass silently.\n",
      "Unless explicitly silenced.\n",
      "In the face of ambiguity, refuse the temptation to guess.\n",
      "There should be one-- and preferably only one --obvious way to do it.\n",
      "Although that way may not be obvious at first unless you're Dutch.\n",
      "Now is better than never.\n",
      "Although never is often better than *right* now.\n",
      "If the implementation is hard to explain, it's a bad idea.\n",
      "If the implementation is easy to explain, it may be a good idea.\n",
      "Namespaces are one honking great idea -- let's do more of those!\n"
     ]
    }
   ],
   "source": [
    "import this"
   ]
  },
  {
   "cell_type": "markdown",
   "metadata": {},
   "source": [
    "### ¿Qué pinta tiene un programa en Python y cómo lo ejecuto?"
   ]
  },
  {
   "cell_type": "markdown",
   "metadata": {},
   "source": [
    "Vamos a ver `mi_primer_script.py` que está en la carpeta `scripts`. __De momento no te preocupes por el código,__ ya habrá tiempo para eso..."
   ]
  },
  {
   "cell_type": "code",
   "execution_count": 1,
   "metadata": {},
   "outputs": [
    {
     "name": "stdout",
     "output_type": "stream",
     "text": [
      "print(\"Hola desde  Python!\")"
     ]
    }
   ],
   "source": [
    "!cat ../scripts/hola.py"
   ]
  },
  {
   "cell_type": "markdown",
   "metadata": {},
   "source": [
    "<div class=\"alert alert-info\"><strong>Tip de IPython</strong>:\n",
    "`cat` es un comando de la línea de comandos, no propio de Python. Anteponiendo `!` a comandos de la terminal como `cd`, `ls`, `cat`... se pueden ejecutar desde aquí.\n",
    "</div>"
   ]
  },
  {
   "cell_type": "markdown",
   "metadata": {},
   "source": [
    "<div class=\"alert\"><strong>Si estás usando Windows</strong> y acabas de obtener un error, susituye la línea anterior por:<br>\n",
    "    `!type . ../scripts/mi_primer_script.pyy`\n",
    "\n",
    "<br><br>\n",
    "`type` es un comando similar en Windows a `cat`. De nuevo, podemos ejecutar comandos como `cd`, `dir`, `type`, `find`...  desde aquí anteponiendo `!` y utilizando `\\` en lugar de `/` para la ruta donde se encuentra el archivo.\n",
    "    \n",
    "</div>"
   ]
  },
  {
   "cell_type": "code",
   "execution_count": 15,
   "metadata": {},
   "outputs": [
    {
     "name": "stdout",
     "output_type": "stream",
     "text": [
      "\u001b[31mREADME.md\u001b[m\u001b[m*             \u001b[34mimages\u001b[m\u001b[m/                \u001b[34mscripts\u001b[m\u001b[m/\r\n",
      "\u001b[31mTallerPython.ipynb\u001b[m\u001b[m*    \u001b[34mnotebooks_AeroPython\u001b[m\u001b[m/  \u001b[34mstyles\u001b[m\u001b[m/\r\n",
      "\u001b[34mdata\u001b[m\u001b[m/                  \u001b[34mnotebooks_adicionales\u001b[m\u001b[m/ \u001b[34mutil\u001b[m\u001b[m/\r\n"
     ]
    }
   ],
   "source": [
    "%ls"
   ]
  },
  {
   "cell_type": "code",
   "execution_count": 21,
   "metadata": {},
   "outputs": [
    {
     "name": "stdout",
     "output_type": "stream",
     "text": [
      "/Users/pedrogonzalez/Downloads/TallerPythonUGR-master/scripts\n"
     ]
    }
   ],
   "source": [
    "%cd \"scripts\""
   ]
  },
  {
   "cell_type": "code",
   "execution_count": 22,
   "metadata": {},
   "outputs": [
    {
     "name": "stdout",
     "output_type": "stream",
     "text": [
      "\u001b[31mCreando_Fichero_MAT.py\u001b[m\u001b[m*\r\n",
      "\u001b[31mEDOSegundoOrden.py\u001b[m\u001b[m*\r\n",
      "\u001b[31mEDOTercerOrden.py\u001b[m\u001b[m*\r\n",
      "\u001b[31mEjamplo_widgets.py\u001b[m\u001b[m*\r\n",
      "\u001b[31mEjemploAxes3D.py\u001b[m\u001b[m*\r\n",
      "\u001b[31mEjemploCreaPDF.py\u001b[m\u001b[m*\r\n",
      "\u001b[31mEjemplo_biseccion.py\u001b[m\u001b[m*\r\n",
      "\u001b[31mEjemplo_fsolve.py\u001b[m\u001b[m*\r\n",
      "\u001b[31mEjemplo_interpolación.py\u001b[m\u001b[m*\r\n",
      "\u001b[31mEjemplo_mplot3d.py\u001b[m\u001b[m*\r\n",
      "\u001b[31mEjemplo_mplot3d_2.py\u001b[m\u001b[m*\r\n",
      "\u001b[31mEjemplo_optimización.py\u001b[m\u001b[m*\r\n",
      "\u001b[31mEjemplo_widgets.py\u001b[m\u001b[m*\r\n",
      "\u001b[31mMRI example.py\u001b[m\u001b[m*\r\n",
      "\u001b[31mOtroEjemplo_Tkinter.py\u001b[m\u001b[m*\r\n",
      "\u001b[31mOtroEjemplo_Tkinter_conradiobuttons.py\u001b[m\u001b[m*\r\n",
      "\u001b[31mResol_EDOs (Exo. 16.4.1).py\u001b[m\u001b[m*\r\n",
      "\u001b[31mResol_EDOs.py\u001b[m\u001b[m*\r\n",
      "\u001b[31mResol_EDOs_Ejerc1Prac.py\u001b[m\u001b[m*\r\n",
      "\u001b[31mResol_EDOs_Ejerc1Praccopia.py\u001b[m\u001b[m*\r\n",
      "\u001b[31mSistemaSegundoOrdenAcoplado.py\u001b[m\u001b[m*\r\n",
      "\u001b[31mSubplots_FuncionesdeAiry.py\u001b[m\u001b[m*\r\n",
      "\u001b[31mSubplots_FuncionesdeAiryYDerivadas.py\u001b[m\u001b[m*\r\n",
      "\u001b[31mSubplots_PolinomiosLegendre.py\u001b[m\u001b[m*\r\n",
      "\u001b[31mUsando_Tkinter.py\u001b[m\u001b[m*\r\n",
      "\u001b[31majuste_curvas.py\u001b[m\u001b[m*\r\n",
      "\u001b[31mboxplot1.py\u001b[m\u001b[m*\r\n",
      "\u001b[31mcharacpolynomial.py\u001b[m\u001b[m*\r\n",
      "\u001b[31mcolor_cycle_demo.py\u001b[m\u001b[m*\r\n",
      "\u001b[31mcontourplot1.py\u001b[m\u001b[m*\r\n",
      "\u001b[31mcurva_ajustada.eps\u001b[m\u001b[m*\r\n",
      "\u001b[31mcurva_ajustada.pdf\u001b[m\u001b[m*\r\n",
      "\u001b[31mdiccionarios.py\u001b[m\u001b[m*\r\n",
      "\u001b[31mearthquakes.py\u001b[m\u001b[m*\r\n",
      "\u001b[31meigenvalues.py\u001b[m\u001b[m*\r\n",
      "\u001b[31mejemplo_mayavi.py\u001b[m\u001b[m*\r\n",
      "\u001b[31mejer1.py\u001b[m\u001b[m*\r\n",
      "\u001b[31mejer1bis.py\u001b[m\u001b[m*\r\n",
      "\u001b[31merrorbarplots.py\u001b[m\u001b[m*\r\n",
      "\u001b[31mfib.py\u001b[m\u001b[m*\r\n",
      "\u001b[31mfibonacciIT.py\u001b[m\u001b[m*\r\n",
      "\u001b[31mhello.py\u001b[m\u001b[m*\r\n",
      "\u001b[31mhola.py\u001b[m\u001b[m*\r\n",
      "\u001b[31mintegración numérica (Exercise 16.3.1  of Phyton for Computational Science and Engineering).py\u001b[m\u001b[m*\r\n",
      "\u001b[31mintegración numérica.py\u001b[m\u001b[m*\r\n",
      "\u001b[31mjdcal.py\u001b[m\u001b[m*\r\n",
      "\u001b[31mlaplace_1d.py\u001b[m\u001b[m*\r\n",
      "\u001b[31mlinalg_numpy.py\u001b[m\u001b[m*\r\n",
      "\u001b[31mmaxima.py\u001b[m\u001b[m*\r\n",
      "\u001b[31mmi_primer_script.py\u001b[m\u001b[m*\r\n",
      "\u001b[31mnumpy_arrays.py\u001b[m\u001b[m*\r\n",
      "\u001b[31mnumpy_arrays_bys.py\u001b[m\u001b[m*\r\n",
      "\u001b[31mnumpy_arrays_valyvecpropios.py\u001b[m\u001b[m*\r\n",
      "\u001b[31morbital.py\u001b[m\u001b[m*\r\n",
      "\u001b[31mpep8.py\u001b[m\u001b[m*\r\n",
      "\u001b[31mpep8magic.py\u001b[m\u001b[m*\r\n",
      "\u001b[31mpi.py\u001b[m\u001b[m*\r\n",
      "\u001b[31mplot.py\u001b[m\u001b[m*\r\n",
      "\u001b[31mprintHola.py\u001b[m\u001b[m*\r\n",
      "\u001b[31mprintvariable.py\u001b[m\u001b[m*\r\n",
      "\u001b[31mpyplot_ejemplo0.py\u001b[m\u001b[m*\r\n",
      "\u001b[31mpyplot_ejemplo1.py\u001b[m\u001b[m*\r\n",
      "\u001b[31mpyplot_ejemplo2.py\u001b[m\u001b[m*\r\n",
      "\u001b[31mpyplot_ejemplo3.py\u001b[m\u001b[m*\r\n",
      "\u001b[31mtest_maxima.py\u001b[m\u001b[m*\r\n",
      "\u001b[31mtkPhone copia.py\u001b[m\u001b[m*\r\n",
      "\u001b[31mtkPhone.py\u001b[m\u001b[m*\r\n",
      "\u001b[31mversion_information.py\u001b[m\u001b[m*\r\n"
     ]
    }
   ],
   "source": [
    "%ls"
   ]
  },
  {
   "cell_type": "code",
   "execution_count": 24,
   "metadata": {},
   "outputs": [
    {
     "name": "stdout",
     "output_type": "stream",
     "text": [
      "print(\"Hola desde  Python!\")"
     ]
    }
   ],
   "source": [
    "!cat hola.py"
   ]
  },
  {
   "cell_type": "code",
   "execution_count": 25,
   "metadata": {},
   "outputs": [
    {
     "name": "stdout",
     "output_type": "stream",
     "text": [
      "Hola desde  Python!\n"
     ]
    }
   ],
   "source": [
    "%run hola.py"
   ]
  },
  {
   "cell_type": "markdown",
   "metadata": {},
   "source": [
    "<div class=\"alert alert-info\"><strong>Tip de IPython</strong>:\n",
    "`%run` es un _comando mágico_ del notebook que te permite ejecutar un archivo.\n",
    "\n",
    "Si quieres hacerlo desde una línea de comandos podrías hacer:\n",
    "\n",
    "`$ python3 ../scripts/mi_primer_script.py`\n",
    "</div>\n"
   ]
  },
  {
   "cell_type": "markdown",
   "metadata": {},
   "source": [
    "El método más simple es usar un editor (tu preferido) y ejecutar el script desde la línea de comandos. Pero existen también __IDE__s (_integrated development environment_) pensados para facilitar la escritura de código y tener al alcance de la mano otras herramientas como _profilers_, _debuggers_, _explorador de variables_... Entre los más adecuados para la programación científica se encuentran [IEP](http://www.pyzo.org/iep.html) y [Spyder](https://github.com/spyder-ide/spyder) (instalado con Anaconda)."
   ]
  },
  {
   "cell_type": "markdown",
   "metadata": {},
   "source": [
    "<img src=\"../images/spyder.png\" alt=\"Spyder\" style=\"width: 800px;\"/>"
   ]
  },
  {
   "cell_type": "markdown",
   "metadata": {},
   "source": [
    "## ¿Qué es IPython?"
   ]
  },
  {
   "cell_type": "markdown",
   "metadata": {},
   "source": [
    "[IPython](http://ipython.org/) no es más que un [intérprete](https://es.wikipedia.org/wiki/Int%C3%A9rprete_inform%C3%A1tica) de Python interactivo con algunas mejoras sustanciales, pero además su interfaz es más cómoda de manejar que la línea de comandos y nos da un poco más de flexibilidad."
   ]
  },
  {
   "cell_type": "markdown",
   "metadata": {},
   "source": [
    "### Notebook de IPython"
   ]
  },
  {
   "cell_type": "markdown",
   "metadata": {},
   "source": [
    "__Será nuestra herramienta de trabajo fundamental durante este tallerr__. Esto que estás leyendo ahora no es más que un notebook de IPython, que como diremos luego además de código puede contener texto e imágenes. Pero veamos primero cómo funciona.\n",
    "\n",
    "__Al iniciar el notebook de IPython, en la pantalla principal podemos ver una ruta y una lista de notebooks__. Cada notebook es un archivo que está almacenado en el ordenador en la ruta que aparece. Si en esa carpeta no hay notebooks, veremos un mensaje indicando que la lista de notebooks está vacía.\n",
    "\n",
    "Al crear un notebook o al abrir uno nuevo se abre la interfaz de IPython propiamente dicha donde ya podemos empezar a trabajar. Es similar a un intérprete, pero está dividida en **celdas**. Las celdas pueden contener, código, texto, imágenes...\n",
    "\n",
    "Cada celda de código está marcada por la palabra `In [<n>]` y están **numeradas**. Tan solo tenemos que escribir el código en ella y hacer click arriba en Cell -> Run, el triángulo (\"Run cell\") o usar el atajo `shift + Enter`. El resultado de la celda se muestra en el campo `Out [<n>]`, también numerado y coincidiendo con la celda que acabamos de ejecutar. Esto también es importante, como ya veremos luego y funciona exactamente de la misma forma que las celdillas de Entrada/Salida de los notebooks de [Mathematica](http://reference.wolfram.com/language/guide/NotebookBasics.html).\n",
    "\n",
    "Si en la barra superior seleccionas Markdown (o usas el atajo `Shift-M`) en lugar de Code puedes escribir texto:"
   ]
  },
  {
   "cell_type": "code",
   "execution_count": 4,
   "metadata": {},
   "outputs": [
    {
     "data": {
      "text/html": [
       "<img src=\"../images/markdown_cell.gif\"/>"
      ],
      "text/plain": [
       "<IPython.core.display.Image object>"
      ]
     },
     "execution_count": 4,
     "metadata": {},
     "output_type": "execute_result"
    }
   ],
   "source": [
    "from IPython.display import Image\n",
    "Image(url=\"../images/markdown_cell.gif\")\n",
    "# Fuente Practical Numerical Methods with Python \n",
    "# http://openedx.seas.gwu.edu/courses/GW/MAE6286/2014_fall/about"
   ]
  },
  {
   "cell_type": "markdown",
   "metadata": {},
   "source": [
    "También ecuaciones en latex y mucho más. Esto es una herramienta muy potente para explicar a alguien o a ti mismo lo que tu código hace, para hacer un informe, un trabajo, escribir en un blog...\n",
    "\n",
    "Markdown es un lenguaje aparte, no te preocupes por él demasiado ahora, irás aprendiendo sobre la marcha... Para cuando lo vayas necesitando, aquí tienes una [chuleta](https://guides.github.com/features/mastering-markdown/)."
   ]
  },
  {
   "cell_type": "code",
   "execution_count": 5,
   "metadata": {},
   "outputs": [
    {
     "data": {
      "text/html": [
       "<img src=\"../images/markdown_math.gif\"/>"
      ],
      "text/plain": [
       "<IPython.core.display.Image object>"
      ]
     },
     "execution_count": 5,
     "metadata": {},
     "output_type": "execute_result"
    }
   ],
   "source": [
    "Image(url=\"../images/markdown_math.gif\")\n",
    "# Fuente Practical Numerical Methods with Python \n",
    "# http://openedx.seas.gwu.edu/courses/GW/MAE6286/2014_fall/about"
   ]
  },
  {
   "cell_type": "markdown",
   "metadata": {},
   "source": [
    "Puedes mover las celdas de un lugar a otro de este modo:"
   ]
  },
  {
   "cell_type": "code",
   "execution_count": 6,
   "metadata": {},
   "outputs": [
    {
     "data": {
      "text/html": [
       "<img src=\"../images/cell_move.gif\"/>"
      ],
      "text/plain": [
       "<IPython.core.display.Image object>"
      ]
     },
     "execution_count": 6,
     "metadata": {},
     "output_type": "execute_result"
    }
   ],
   "source": [
    "Image(url=\"../images/cell_move.gif\")\n",
    "# Fuente: Practical Numerical Methods with Python \n",
    "# http://openedx.seas.gwu.edu/courses/GW/MAE6286/2014_fall/about"
   ]
  },
  {
   "cell_type": "markdown",
   "metadata": {},
   "source": [
    "El Notebook tiene además numerosos atajos que irás aprendiendo sobre la marcha, puedes consultarlos en `Help > Keyboard Shortcourts`"
   ]
  },
  {
   "cell_type": "markdown",
   "metadata": {},
   "source": [
    "---\n",
    "\n",
    "###### Este notebook ha sido confeccionado y adaptado por: Pedro González Rodelas a partir de uno previo ya realizado por Juan Luis Cano, y Álex Sáez \n",
    "<br/>\n",
    "##### <a rel=\"license\" href=\"http://creativecommons.org/licenses/by/4.0/deed.es\"><img alt=\"Licencia Creative Commons\" style=\"border-width:0\" src=\"http://i.creativecommons.org/l/by/4.0/88x31.png\" /></a><br /><span xmlns:dct=\"http://purl.org/dc/terms/\" property=\"dct:title\">Taller de Python UGR</span> por <span xmlns:cc=\"http://creativecommons.org/ns#\" property=\"cc:attributionName\">Pedro Gzlez. Rodelas y Fco. Miguel García Olmedo</span> se distribuye bajo una <a rel=\"license\" href=\"http://creativecommons.org/licenses/by/4.0/deed.es\">Licencia Creative Commons Atribución 4.0 Internacional</a>."
   ]
  },
  {
   "cell_type": "markdown",
   "metadata": {},
   "source": [
    "---\n",
    "_Las siguientes celdas contienen configuración del Notebook_\n"
   ]
  },
  {
   "cell_type": "code",
   "execution_count": 26,
   "metadata": {},
   "outputs": [
    {
     "data": {
      "text/html": [
       "/* This template is inspired in the one used by Lorena Barba\n",
       "in the numerical-mooc repository: https://github.com/numerical-mooc/numerical-mooc\n",
       "We thank her work and hope you also enjoy the look of the notobooks with this style */\n",
       "\n",
       "<link href='http://fonts.googleapis.com/css?family=Source+Sans+Pro|Josefin+Sans:400,700,400italic|Ubuntu+Condensed' rel='stylesheet' type='text/css'>\n",
       "\n",
       "El estilo se ha aplicado =)\n",
       "\n",
       "<style>\n",
       "\n",
       "\n",
       "\n",
       "#notebook_panel { /* main background */\n",
       "    background: #f7f7f7;\n",
       "}\n",
       "\n",
       "div.cell { /* set cell width */\n",
       "    width: 900px;\n",
       "}\n",
       "\n",
       "div #notebook { /* centre the content */\n",
       "    background: #fff; /* white background for content */\n",
       "    width: 950px;\n",
       "    margin: auto;\n",
       "    padding-left: 0em;\n",
       "}\n",
       "\n",
       "#notebook li { /* More space between bullet points */\n",
       "    margin-top:0.7em;\n",
       "}\n",
       "\n",
       "/* draw border around running cells */\n",
       "div.cell.border-box-sizing.code_cell.running { \n",
       "    border: 1px solid #111;\n",
       "}\n",
       "\n",
       "/* Put a solid color box around each cell and its output, visually linking them*/\n",
       "div.cell.code_cell {\n",
       "    font-family: 'Source Sans Pro', sans-serif;\n",
       "    background-color: rgb(256,256,256);\n",
       "    font-size: 110%;\n",
       "    border-radius: 0px; \n",
       "    padding: 0.5em;\n",
       "    margin-left:1em;\n",
       "    margin-top: 1em;\n",
       "}\n",
       "\n",
       "div.text_cell_render{\n",
       "    font-family: 'Josefin Sans', serif;\n",
       "    line-height: 145%;\n",
       "    font-size: 125%;\n",
       "    font-weight: 500;\n",
       "    width:750px;\n",
       "    margin-left:auto;\n",
       "    margin-right:auto;\n",
       "}\n",
       "\n",
       "\n",
       "/* Formatting for header cells */\n",
       ".text_cell_render h1, .text_cell_render h2, .text_cell_render h3,\n",
       ".text_cell_render h4, .text_cell_render h5 {\n",
       "    font-family: 'Ubuntu Condensed', sans-serif;\n",
       "}\n",
       "/*\n",
       ".text_cell_render h1 {\n",
       "    font-family: Flux, 'Ubuntu Condensed', serif;\n",
       "    font-style:regular;\n",
       "    font-weight: 400;    \n",
       "    font-size: 30pt;\n",
       "    text-align: center;\n",
       "    line-height: 100%;\n",
       "    color: #335082;\n",
       "    margin-bottom: 0.5em;\n",
       "    margin-top: 0.5em;\n",
       "    display: block;\n",
       "}\n",
       "*/\n",
       ".text_cell_render h1 {\n",
       "    font-weight: 600;\n",
       "    font-size: 35pt;\n",
       "    line-height: 100%;\n",
       "    color: #000000;\n",
       "    margin-bottom: 0.1em;\n",
       "    margin-top: 0.3em;\n",
       "    display: block;\n",
       "}\n",
       "\n",
       ".text_cell_render h2 {\n",
       "    margin-top:16px;\n",
       "    font-size: 27pt;\n",
       "    font-weight: 550;\n",
       "    margin-bottom: 0.1em;\n",
       "    margin-top: 0.3em;\n",
       "    font-style: regular;\n",
       "    color: #2c6391;\n",
       "}\t\n",
       "\n",
       ".text_cell_render h3 {\n",
       "    font-size: 20pt;\n",
       "    font-weight: 550\n",
       "    text-align: left;\n",
       "    margin-bottom: 0.1em;\n",
       "    margin-top: 0.3em;\n",
       "    font-style: regular;\n",
       "    color:  #387eb8;\n",
       "}\n",
       "\n",
       ".text_cell_render h4 {    /*Use this for captions*/\n",
       "    font-size: 18pt;\n",
       "    font-weight: 450\n",
       "    text-align: left;\n",
       "    margin-bottom: 0.1em;\n",
       "    margin-top: 0.3em;\n",
       "    font-style: regular;\n",
       "    color:  #5797cc;\n",
       "}\n",
       "\n",
       ".text_cell_render h5 {  /*Use this for small titles*/\n",
       "    font-size: 18pt;\n",
       "    font-weight: 550;\n",
       "    color: rgb(163,0,0);\n",
       "    font-style: italic;\n",
       "    margin-bottom: .1em;\n",
       "    margin-top: 0.8em;\n",
       "    display: block;\n",
       "    color:  #b21c0d;\n",
       "}\n",
       "\n",
       ".text_cell_render h6 { /*use this for copyright note*/\n",
       "    font-family: 'Ubuntu Condensed', sans-serif;\n",
       "    font-weight: 300;\n",
       "    font-size: 14pt;\n",
       "    line-height: 100%;\n",
       "    color: #252525;\n",
       "    text-align: right;\n",
       "    margin-bottom: 1px;\n",
       "    margin-top: 1px;\n",
       "}\n",
       "\n",
       ".CodeMirror{\n",
       "        font-family: 'Duru Sans', sans-serif;\n",
       "        font-size: 100%;\n",
       "}\n",
       "\n",
       "</style>\n",
       "<script>\n",
       "    MathJax.Hub.Config({\n",
       "                        TeX: {\n",
       "                           extensions: [\"AMSmath.js\"],\n",
       "                           equationNumbers: { autoNumber: \"AMS\", useLabelIds: true}\n",
       "                           },\n",
       "                tex2jax: {\n",
       "                    inlineMath: [ ['$','$'], [\"\\\\(\",\"\\\\)\"] ],\n",
       "                    displayMath: [ ['$$','$$'], [\"\\\\[\",\"\\\\]\"] ]\n",
       "                },\n",
       "                displayAlign: 'center', // Change this to 'center' to center equations.\n",
       "                \"HTML-CSS\": {\n",
       "                    styles: {'.MathJax_Display': {\"margin\": 4}}\n",
       "                }\n",
       "        });\n",
       "</script>\n"
      ],
      "text/plain": [
       "<IPython.core.display.HTML object>"
      ]
     },
     "execution_count": 26,
     "metadata": {},
     "output_type": "execute_result"
    }
   ],
   "source": [
    "# Esta celda da el estilo al notebook\n",
    "from IPython.core.display import HTML\n",
    "css_file = '../styles/aeropython.css'\n",
    "HTML(open(css_file, \"r\").read())"
   ]
  }
 ],
 "metadata": {
  "anaconda-cloud": {},
  "kernelspec": {
   "display_name": "Python [default]",
   "language": "python",
   "name": "python3"
  },
  "language_info": {
   "codemirror_mode": {
    "name": "ipython",
    "version": 3
   },
   "file_extension": ".py",
   "mimetype": "text/x-python",
   "name": "python",
   "nbconvert_exporter": "python",
   "pygments_lexer": "ipython3",
   "version": "3.5.5"
  }
 },
 "nbformat": 4,
 "nbformat_minor": 2
}
