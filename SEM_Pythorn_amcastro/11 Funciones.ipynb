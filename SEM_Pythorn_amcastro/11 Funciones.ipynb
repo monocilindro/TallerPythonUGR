{
 "cells": [
  {
   "cell_type": "markdown",
   "metadata": {},
   "source": [
    "# Introducción a las Funciones\n",
    "\n",
    "Alejandro E. Martínez Castro\n",
    "\n",
    "_Departamento de Mecánica de Estructuras e Ingeniería Hidráulica. \n",
    "Universidad de Granada_"
   ]
  },
  {
   "cell_type": "markdown",
   "metadata": {},
   "source": [
    "Las funciones son un constructor básico para estructurar los programas. \n",
    "\n",
    "Son conocidas en muchos lenguajes de programación. \n",
    "\n",
    "En otros lenguajes existen funciones, subrutinas y procedimientos. En Python estos entes se engloban dentro de las funciones. \n",
    "\n",
    "Las funciones se definen mediante la sentencia _def_: \n",
    "\n",
    "    def function-name(Parameter list):\n",
    "        statements, i.e. the function body\n",
    "\n",
    "A continuación se muestra un ejemplo"
   ]
  },
  {
   "cell_type": "code",
   "execution_count": 1,
   "metadata": {
    "collapsed": true
   },
   "outputs": [],
   "source": [
    "def add(x, y):\n",
    "    return x + y"
   ]
  },
  {
   "cell_type": "markdown",
   "metadata": {},
   "source": [
    "Su uso es sencillo"
   ]
  },
  {
   "cell_type": "code",
   "execution_count": 2,
   "metadata": {
    "collapsed": false
   },
   "outputs": [
    {
     "data": {
      "text/plain": [
       "5"
      ]
     },
     "execution_count": 2,
     "metadata": {},
     "output_type": "execute_result"
    }
   ],
   "source": [
    "add(2,3)"
   ]
  },
  {
   "cell_type": "markdown",
   "metadata": {},
   "source": [
    "## Ejemplo: raiz cuadrada\n",
    "\n",
    "La raíz cuadrada de un número puede calcularse por iteraciones\n"
   ]
  },
  {
   "cell_type": "code",
   "execution_count": 3,
   "metadata": {
    "collapsed": false
   },
   "outputs": [
    {
     "name": "stdout",
     "output_type": "stream",
     "text": [
      "Iteración  1 valor de raiz de 2 1.5\n",
      "Iteración  2 valor de raiz de 2 1.41666666667\n",
      "Iteración  3 valor de raiz de 2 1.41421568627\n",
      "Iteración  4 valor de raiz de 2 1.41421356237\n",
      "Iteración  5 valor de raiz de 2 1.41421356237\n",
      "Iteración  6 valor de raiz de 2 1.41421356237\n",
      "Iteración  7 valor de raiz de 2 1.41421356237\n",
      "Iteración  8 valor de raiz de 2 1.41421356237\n",
      "Iteración  9 valor de raiz de 2 1.41421356237\n",
      "Iteración  10 valor de raiz de 2 1.41421356237\n"
     ]
    }
   ],
   "source": [
    "n = 10\n",
    "\n",
    "x = 1 # Número inicial: prueba cambiar este valor\n",
    "i = 1 # Valor inicial de i\n",
    "while i <= n:\n",
    "    s = 0.5 * (x + 2. / x)\n",
    "    print \"Iteración \", i, \"valor de raiz de 2\", s\n",
    "    i = i+1\n",
    "    x = s # Se actualiza el valor de x, "
   ]
  },
  {
   "cell_type": "markdown",
   "metadata": {},
   "source": [
    "Esto puede transformarse en una función para calcular la raíz de cualquier número"
   ]
  },
  {
   "cell_type": "code",
   "execution_count": 4,
   "metadata": {
    "collapsed": true
   },
   "outputs": [],
   "source": [
    "def mi_raiz(num):\n",
    "    n = 10\n",
    "    x = 1 # Número inicial: prueba cambiar este valor\n",
    "    i = 1 # Valor inicial de i\n",
    "    while i <= n:\n",
    "       s = 0.5 * (x + num / x)\n",
    "       print \"Iteración \", i, \"valor de raiz de 2\", s\n",
    "       i = i+1\n",
    "       x = s # Se actualiza el valor de x\n",
    "    return x"
   ]
  },
  {
   "cell_type": "code",
   "execution_count": 5,
   "metadata": {
    "collapsed": false
   },
   "outputs": [
    {
     "name": "stdout",
     "output_type": "stream",
     "text": [
      "Iteración  1 valor de raiz de 2 3.0\n",
      "Iteración  2 valor de raiz de 2 2.33333333333\n",
      "Iteración  3 valor de raiz de 2 2.2380952381\n",
      "Iteración  4 valor de raiz de 2 2.23606889564\n",
      "Iteración  5 valor de raiz de 2 2.2360679775\n",
      "Iteración  6 valor de raiz de 2 2.2360679775\n",
      "Iteración  7 valor de raiz de 2 2.2360679775\n",
      "Iteración  8 valor de raiz de 2 2.2360679775\n",
      "Iteración  9 valor de raiz de 2 2.2360679775\n",
      "Iteración  10 valor de raiz de 2 2.2360679775\n"
     ]
    },
    {
     "data": {
      "text/plain": [
       "2.23606797749979"
      ]
     },
     "execution_count": 5,
     "metadata": {},
     "output_type": "execute_result"
    }
   ],
   "source": [
    "mi_raiz(5.)"
   ]
  },
  {
   "cell_type": "code",
   "execution_count": 6,
   "metadata": {
    "collapsed": false
   },
   "outputs": [
    {
     "data": {
      "text/plain": [
       "2.23606797749979"
      ]
     },
     "execution_count": 6,
     "metadata": {},
     "output_type": "execute_result"
    }
   ],
   "source": [
    "from math import sqrt\n",
    "sqrt(5.)"
   ]
  },
  {
   "cell_type": "markdown",
   "metadata": {},
   "source": [
    "## Funciones con parámetros optativos\n",
    "\n",
    "Una función puede tener varios parámetros, fijándose un valor por defecto para alguno de ellos. \n",
    "\n",
    "En relación a la función anterior, para el cálculo de raíces cuadradas, consideraremos que el número de iteraciones va a ser una variable, pero que por defecto, se va a tomar el valor de 10 iteraciones.\n",
    "\n",
    "El código queda como sigue: "
   ]
  },
  {
   "cell_type": "code",
   "execution_count": 7,
   "metadata": {
    "collapsed": true
   },
   "outputs": [],
   "source": [
    "def mi_raiz2(num, n=10):\n",
    "    x = 1 # Número inicial: prueba cambiar este valor\n",
    "    i = 1 # Valor inicial de i\n",
    "    while i <= n:\n",
    "       s = 0.5 * (x + num / x)\n",
    "       print \"Iteración \", i, \"valor de raiz de 2\", s\n",
    "       i = i+1\n",
    "       x = s # Se actualiza el valor de x\n",
    "    return x"
   ]
  },
  {
   "cell_type": "code",
   "execution_count": 8,
   "metadata": {
    "collapsed": false
   },
   "outputs": [
    {
     "name": "stdout",
     "output_type": "stream",
     "text": [
      "Iteración  1 valor de raiz de 2 3.0\n",
      "Iteración  2 valor de raiz de 2 2.33333333333\n",
      "Iteración  3 valor de raiz de 2 2.2380952381\n",
      "Iteración  4 valor de raiz de 2 2.23606889564\n",
      "Iteración  5 valor de raiz de 2 2.2360679775\n",
      "Iteración  6 valor de raiz de 2 2.2360679775\n",
      "Iteración  7 valor de raiz de 2 2.2360679775\n",
      "Iteración  8 valor de raiz de 2 2.2360679775\n",
      "Iteración  9 valor de raiz de 2 2.2360679775\n",
      "Iteración  10 valor de raiz de 2 2.2360679775\n"
     ]
    },
    {
     "data": {
      "text/plain": [
       "2.23606797749979"
      ]
     },
     "execution_count": 8,
     "metadata": {},
     "output_type": "execute_result"
    }
   ],
   "source": [
    "mi_raiz2(5.) # Observe que sólo se le pasa un parámetro a esta función, y toma por defecto el 10"
   ]
  },
  {
   "cell_type": "code",
   "execution_count": 9,
   "metadata": {
    "collapsed": false
   },
   "outputs": [
    {
     "name": "stdout",
     "output_type": "stream",
     "text": [
      "Iteración  1 valor de raiz de 2 3.0\n",
      "Iteración  2 valor de raiz de 2 2.33333333333\n",
      "Iteración  3 valor de raiz de 2 2.2380952381\n",
      "Iteración  4 valor de raiz de 2 2.23606889564\n",
      "Iteración  5 valor de raiz de 2 2.2360679775\n",
      "Iteración  6 valor de raiz de 2 2.2360679775\n",
      "Iteración  7 valor de raiz de 2 2.2360679775\n",
      "Iteración  8 valor de raiz de 2 2.2360679775\n",
      "Iteración  9 valor de raiz de 2 2.2360679775\n",
      "Iteración  10 valor de raiz de 2 2.2360679775\n",
      "Iteración  11 valor de raiz de 2 2.2360679775\n",
      "Iteración  12 valor de raiz de 2 2.2360679775\n",
      "Iteración  13 valor de raiz de 2 2.2360679775\n",
      "Iteración  14 valor de raiz de 2 2.2360679775\n",
      "Iteración  15 valor de raiz de 2 2.2360679775\n",
      "Iteración  16 valor de raiz de 2 2.2360679775\n",
      "Iteración  17 valor de raiz de 2 2.2360679775\n",
      "Iteración  18 valor de raiz de 2 2.2360679775\n",
      "Iteración  19 valor de raiz de 2 2.2360679775\n",
      "Iteración  20 valor de raiz de 2 2.2360679775\n"
     ]
    },
    {
     "data": {
      "text/plain": [
       "2.23606797749979"
      ]
     },
     "execution_count": 9,
     "metadata": {},
     "output_type": "execute_result"
    }
   ],
   "source": [
    "mi_raiz2(5.,20) # Ahora se establecen 20 iteraciones"
   ]
  },
  {
   "cell_type": "markdown",
   "metadata": {},
   "source": [
    "## Funciones con un número arbitrario de parámetros\n",
    "\n",
    "Hay situaciones en programación en las cuales no se conoce con exactitud el número de parámetros con el que será llamada una función. Para plantear una función con un número arbitrario de parámetros se utiliza la referencia de las tuplas en Python. El asterisco se utiliza para indicar que se trata de una tupla por referencia. \n",
    "\n",
    "Ejemplo:"
   ]
  },
  {
   "cell_type": "code",
   "execution_count": 10,
   "metadata": {
    "collapsed": true
   },
   "outputs": [],
   "source": [
    "def arbitrary(x, y, *more):\n",
    "    print \"x=\", x, \", x=\", y \n",
    "    print \"arbitrary: \", more"
   ]
  },
  {
   "cell_type": "code",
   "execution_count": 11,
   "metadata": {
    "collapsed": false
   },
   "outputs": [
    {
     "name": "stdout",
     "output_type": "stream",
     "text": [
      "x= 3 , x= 4\n",
      "arbitrary:  ()\n"
     ]
    }
   ],
   "source": [
    "arbitrary(3,4)"
   ]
  },
  {
   "cell_type": "code",
   "execution_count": 12,
   "metadata": {
    "collapsed": false
   },
   "outputs": [
    {
     "name": "stdout",
     "output_type": "stream",
     "text": [
      "x= 3 , x= 4\n",
      "arbitrary:  ('Hola, mundo', 32, [12, 2])\n"
     ]
    }
   ],
   "source": [
    "arbitrary(3,4,\"Hola, mundo\", 32, [12,2])"
   ]
  },
  {
   "cell_type": "markdown",
   "metadata": {},
   "source": [
    "## Funciones lambda\n",
    "\n",
    "El operador lambda o funciones lambda es un recurso interesante para crear pequeñas funciones anónimas. Son funciones sin un nombre, que se crean y se utilizan en el lugar donde son creadas. Las funciones lambda son utilizadas con frecuencia en combinación con recursos como filter(), map(), y reduce(). Las funciones lambda fueron añadidas a Python debido a la demanda de los programadores de Lisp. \n",
    "\n",
    "Observe cómo funcionan: \n"
   ]
  },
  {
   "cell_type": "code",
   "execution_count": 13,
   "metadata": {
    "collapsed": false
   },
   "outputs": [
    {
     "data": {
      "text/plain": [
       "2"
      ]
     },
     "execution_count": 13,
     "metadata": {},
     "output_type": "execute_result"
    }
   ],
   "source": [
    "f = lambda x, y : x + y\n",
    "f(1,1)"
   ]
  },
  {
   "cell_type": "markdown",
   "metadata": {},
   "source": [
    "### La función map()\n",
    "\n",
    "La ventaja del operador lambda puede verse con su uso combinado con la función map().\n",
    "\n",
    "map() es una función con dos argumentos: \n",
    "\n",
    "    r = map(func, seq)\n",
    "    \n",
    "Siendo _func_ una función, y _seq_ una secuencia (por ejemplo, una lista) sobre la que se aplica a todos los elementos la función. Veamos un ejemplo."
   ]
  },
  {
   "cell_type": "code",
   "execution_count": 14,
   "metadata": {
    "collapsed": true
   },
   "outputs": [],
   "source": [
    "def fahrenheit(T):\n",
    "    return ((float(9)/5)*T + 32)\n",
    "def celsius(T):\n",
    "    return (float(5)/9)*(T-32)\n",
    "temp = (36.5, 37, 37.5,39)\n",
    "\n",
    "F = map(fahrenheit, temp)\n",
    "C = map(celsius, F)"
   ]
  },
  {
   "cell_type": "markdown",
   "metadata": {},
   "source": [
    "Veamos el resultado de F y C"
   ]
  },
  {
   "cell_type": "code",
   "execution_count": 15,
   "metadata": {
    "collapsed": false
   },
   "outputs": [
    {
     "name": "stdout",
     "output_type": "stream",
     "text": [
      "[97.7, 98.60000000000001, 99.5, 102.2]\n",
      "[36.5, 37.00000000000001, 37.5, 39.0]\n"
     ]
    }
   ],
   "source": [
    "print F\n",
    "print C"
   ]
  },
  {
   "cell_type": "markdown",
   "metadata": {},
   "source": [
    "En el ejemplo anterior se han definido dos funciones y se ha aplicado map(). Ahora, veamos cómo queda el mismo código usando funciones lambda. "
   ]
  },
  {
   "cell_type": "code",
   "execution_count": 16,
   "metadata": {
    "collapsed": false
   },
   "outputs": [
    {
     "name": "stdout",
     "output_type": "stream",
     "text": [
      "[102.56, 97.7, 99.14, 100.03999999999999]\n",
      "[39.2, 36.5, 37.300000000000004, 37.8]\n"
     ]
    }
   ],
   "source": [
    "Celsius = [39.2, 36.5, 37.3, 37.8]\n",
    "Fahrenheit = map(lambda x: (float(9)/5)*x + 32, Celsius)\n",
    "print Fahrenheit\n",
    "\n",
    "C = map(lambda x: (float(5)/9)*(x-32), Fahrenheit)\n",
    "print C\n"
   ]
  },
  {
   "cell_type": "markdown",
   "metadata": {},
   "source": [
    "Observe que no ha sido necesario definir una función por nombre, como antes fue necesario definir \"farenheit\" y \"celsius\". "
   ]
  },
  {
   "cell_type": "markdown",
   "metadata": {},
   "source": [
    "map() puede aplicarse a más de una lista. Las listas deben ser de la misma longitud. map() aplicará su función lambda a los elementos e cada lista: primero a los elementos con índice 0, luego a los elementos con índice 1, hasta que se alcance el índice n-simo. "
   ]
  },
  {
   "cell_type": "code",
   "execution_count": 17,
   "metadata": {
    "collapsed": false
   },
   "outputs": [
    {
     "name": "stdout",
     "output_type": "stream",
     "text": [
      "[18, 14, 14, 14]\n",
      "[17, 10, 19, 23]\n",
      "[19, 18, 9, 5]\n"
     ]
    }
   ],
   "source": [
    "a = [1,2,3,4]\n",
    "b = [17,12,11,10]\n",
    "c = [-1,-4,5,9]\n",
    "print map(lambda x,y:x+y, a,b)\n",
    "print map(lambda x,y,z:x+y+z, a,b,c)\n",
    "print map(lambda x,y,z:x+y-z, a,b,c)\n"
   ]
  },
  {
   "cell_type": "markdown",
   "metadata": {},
   "source": [
    "En general, este tipo de estructuras, para cálculo numérico, están mejor implementadas en la librería NumPy, que se verá en mayor profundidad. "
   ]
  },
  {
   "cell_type": "markdown",
   "metadata": {},
   "source": [
    "## Funciones recursivas\n",
    "\n",
    "La recursión es una forma de programar o codificar un problema, tal que una función se llama a sí misma una o mas veces. La condición de finalización es un requisito para poder utilizarse en un programa, ya que de lo contrario la función estaría ejecutándose por tiempo infinito hasta que el usuario decida interrumpir la ejecución. \n",
    "\n",
    "Recursion is a way of programming or coding a problem, in which a function calls itself one or more times in its body. Usually, it is returning the return value of this function call. If a function definition fulfils the condition of recursion, we call this function a recursive function.\n",
    "\n",
    "Un ejemplo típico en números es el cálculo del factorial de un número: \n",
    "\n",
    "    4! = 4 * 3!\n",
    "    3! = 3 * 2!\n",
    "    2! = 2 * 1\n",
    "    \n",
    "Sustituyendo, se obtiene: \n",
    "\n",
    "    4! = 4 * 3 * 2 * 1\n",
    "\n",
    "Generalmente, podemos decir que la recursividad en ciencia de la computación es un método en el cual la solución de un problema se basa en resolver pequeñas instancias del mismo problema. \n",
    "\n",
    "Veamos cómo se implementa en Python. "
   ]
  },
  {
   "cell_type": "code",
   "execution_count": 18,
   "metadata": {
    "collapsed": true
   },
   "outputs": [],
   "source": [
    "def factorial(n):\n",
    "    if n == 1:\n",
    "        return 1\n",
    "    else:\n",
    "        return n * factorial(n-1)"
   ]
  },
  {
   "cell_type": "markdown",
   "metadata": {},
   "source": [
    "Para realizar el seguimiento de la función, se va a añadir la función print"
   ]
  },
  {
   "cell_type": "code",
   "execution_count": 19,
   "metadata": {
    "collapsed": false
   },
   "outputs": [
    {
     "name": "stdout",
     "output_type": "stream",
     "text": [
      "factorial has been called with n = 5\n",
      "factorial has been called with n = 4\n",
      "factorial has been called with n = 3\n",
      "factorial has been called with n = 2\n",
      "factorial has been called with n = 1\n",
      "('intermediate result for ', 2, ' * factorial(', 1, '): ', 2)\n",
      "('intermediate result for ', 3, ' * factorial(', 2, '): ', 6)\n",
      "('intermediate result for ', 4, ' * factorial(', 3, '): ', 24)\n",
      "('intermediate result for ', 5, ' * factorial(', 4, '): ', 120)\n",
      "120\n"
     ]
    }
   ],
   "source": [
    "def factorial(n):\n",
    "    print(\"factorial has been called with n = \" + str(n))\n",
    "    if n == 1:\n",
    "        return 1\n",
    "    else:\n",
    "        res = n * factorial(n-1)\n",
    "        print(\"intermediate result for \", n, \" * factorial(\" ,n-1, \"): \",res)\n",
    "        return res\t\n",
    "\n",
    "print(factorial(5))"
   ]
  },
  {
   "cell_type": "markdown",
   "metadata": {},
   "source": [
    "Esta función puede implementarse de forma iterativa, no recursiva: "
   ]
  },
  {
   "cell_type": "code",
   "execution_count": 20,
   "metadata": {
    "collapsed": true
   },
   "outputs": [],
   "source": [
    "def iterative_factorial(n):\n",
    "    result = 1\n",
    "    for i in range(2,n+1):\n",
    "        result *= i\n",
    "    return result"
   ]
  },
  {
   "cell_type": "code",
   "execution_count": 21,
   "metadata": {
    "collapsed": false
   },
   "outputs": [
    {
     "data": {
      "text/plain": [
       "120"
      ]
     },
     "execution_count": 21,
     "metadata": {},
     "output_type": "execute_result"
    }
   ],
   "source": [
    "iterative_factorial(5)"
   ]
  },
  {
   "cell_type": "code",
   "execution_count": null,
   "metadata": {
    "collapsed": true
   },
   "outputs": [],
   "source": []
  }
 ],
 "metadata": {
  "anaconda-cloud": {},
  "kernelspec": {
   "display_name": "Python [conda root]",
   "language": "python",
   "name": "conda-root-py"
  },
  "language_info": {
   "codemirror_mode": {
    "name": "ipython",
    "version": 3
   },
   "file_extension": ".py",
   "mimetype": "text/x-python",
   "name": "python",
   "nbconvert_exporter": "python",
   "pygments_lexer": "ipython3",
   "version": "3.5.2"
  }
 },
 "nbformat": 4,
 "nbformat_minor": 2
}
