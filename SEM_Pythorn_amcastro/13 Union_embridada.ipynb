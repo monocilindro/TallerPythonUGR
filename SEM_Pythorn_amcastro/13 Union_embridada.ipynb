{
 "cells": [
  {
   "cell_type": "markdown",
   "metadata": {
    "nbpresent": {
     "id": "1d073d66-fdaa-4780-be75-9ec1fdac4a91"
    }
   },
   "source": [
    "# Tensiones en una unión embridada\n",
    "\n",
    "Alejandro E. Martínez Castro\n",
    "\n",
    "_Departamento de Mecánica de Estructuras e Ingeniería Hidráulica. \n",
    "Universidad de Granada_"
   ]
  },
  {
   "cell_type": "markdown",
   "metadata": {
    "nbpresent": {
     "id": "758aa5e2-985c-4ba0-adb7-0fd0b99d3ffc"
    }
   },
   "source": [
    "## Introducción\n",
    "\n",
    "En esta ocasión se propone el análisis de una unión embridada entre perfiles tubulares circulares que pertenecen a una celosía metálica. Las uniones de este tipo se realizan mediante tornillos de alta resistencia, que se colocan en obra y se pretensan hasta alcanzar una tensión prefijada. En una celosía metálica, los tubos trabajan fundamentalmente a axil (tracción o compresión).\n",
    "\n",
    "La siguiente imagen muestra una brida de unión, con los tornillos pretensados ya fijados, y un sellante anticorrosión aplicado a la unión.\n",
    "\n",
    "<img src=\"./images/brida_real.png\" width=\"500\" border=\"0\" hspace=\"12\" vspace=\"0\" alt=\"Union atornillada\">"
   ]
  },
  {
   "cell_type": "markdown",
   "metadata": {
    "nbpresent": {
     "id": "6ba00c27-4336-4fa9-afdf-2f13982b7881"
    }
   },
   "source": [
    "Esta unión debe verificarse en proyecto. El Método de los Elementos Finitos es un método que permite obtener soluciones numéricas a problemas de elasticidad, entre otros.\n",
    "\n",
    "En este caso, se ha analizado un modelo en el que se ha introducido un cuarto de brida (ya que el problema tiene simetría radial). La siguiente figura muestra la geometría de la brida.\n",
    "\n",
    "<img src=\"./images/brida_general.png\" width=\"600\" border=\"0\" hspace=\"12\" vspace=\"0\" alt=\"Union atornillada\">"
   ]
  },
  {
   "cell_type": "markdown",
   "metadata": {
    "nbpresent": {
     "id": "9fd93b5c-3001-448a-9b61-873fdb3bce66"
    }
   },
   "source": [
    "En esta brida,\n",
    "\n",
    "+    el espesor de la placa circular que contiene los taladros es de 45 mm\n",
    "+    la altura del tubo circular que se modeliza es de 45 mm.\n",
    "+    el espesor de cálculo del tubo circular es de 9 mm.\n",
    "+    se ha modelizado el cordón de soldadura\n",
    "+    se han considerado las zonas de arandelas circulares.\n"
   ]
  },
  {
   "cell_type": "markdown",
   "metadata": {
    "nbpresent": {
     "id": "fd228d92-4f02-4893-9196-5dc61baa23fc"
    }
   },
   "source": [
    "La siguiente imagen muestra las zonas donde se aplican tracciones\n",
    "\n",
    "<img src=\"./images/brida_traccion_arandelas.png\" width=\"600\" border=\"0\" hspace=\"12\" vspace=\"0\" alt=\"Union atornillada\">\n",
    "\n",
    "\n",
    "+    En la zona superior (rojo) se introduce una tensión de tracción de 355 MPa.\n",
    "+    En la zona de arandelas (azul) se introduce una compresión de 200 MPa, simulando la   acción de los tornillos pretensados.\n",
    "+    En la base hay condiciones de desplazamiento nulas.\n",
    "+    Se anulan los desplazamientos circunferenciales en los planos verticales.\n"
   ]
  },
  {
   "cell_type": "markdown",
   "metadata": {
    "nbpresent": {
     "id": "7caf83f6-721b-4f5c-b652-31a11246db95"
    }
   },
   "source": [
    " El modelo se ha resuelto empleando una malla de elementos tetraédricos cuadráticos.\n",
    " \n",
    " <img src=\"./images/malla_3d.png\" width=\"600\" border=\"0\" hspace=\"12\" vspace=\"0\" alt=\"Union atornillada\">\n",
    "\n"
   ]
  },
  {
   "cell_type": "markdown",
   "metadata": {
    "nbpresent": {
     "id": "3d7f992e-2b0a-49e1-875f-f240abcfda61"
    }
   },
   "source": [
    "Este modelo se ha resuelto mediante el software libre Code Aster (que es el motor de cálculo de Salomé-Meca).\n",
    "\n",
    "A continuación se muestra la deformada del modelo, que permite verificar de un vistazo si hay anomalías en la entrada de datos. La siguiente figura muestra la geometría deformada del modelo, escalada 500 veces. En escala de colores, se representa el módulo del vector desplazamiento.\n",
    "\n",
    " <img src=\"./images/desplazamiento.png\" width=\"600\" border=\"0\" hspace=\"12\" vspace=\"0\" alt=\"Union atornillada\">\n"
   ]
  },
  {
   "cell_type": "markdown",
   "metadata": {
    "nbpresent": {
     "id": "7d0a2866-1c37-4b3f-b7a1-79c0b63858da"
    }
   },
   "source": [
    "A continuación, se han seleccionado un conjunto de puntos que están en una línea vertical, y se han calculado todos los resultados en los puntos de esta línea. Este resultado se ha guardado en un fichero de tipo .cvs (valores separados por comas).\n",
    "\n",
    "La siguiente figura muestra la línea elegida. El punto inicial es el inferior (en contacto con el plano de unión), y el final es el superior.\n",
    "\n",
    " <img src=\"./images/linea.png\" width=\"600\" border=\"0\" hspace=\"12\" vspace=\"0\" alt=\"Union atornillada\">\n"
   ]
  },
  {
   "cell_type": "markdown",
   "metadata": {
    "nbpresent": {
     "id": "1720bc78-64f7-48f9-abba-be33e048edf5"
    }
   },
   "source": [
    "Utilizando Spyder de ANACONDA, abra el fichero\n",
    "\n",
    "    003-Ejemplo-brida-atornillada.py\n",
    "    \n",
    "En este código se leen los datos del fichero \"datos.csv\". Observe que para importar este fichero se requiere activar el módulo \"csv\".\n",
    "\n",
    "El código Python convierte, en primer lugar, los datos, en un recurso muy útil de Python, que se denomina \"diccionario\".\n",
    "\n",
    "Un diccionario es una lista de elementos que se pueden referenciar mediante un texto.\n",
    "\n",
    "Este diccionario se almacena en la variable \"result\". En este caso, se almacena información de 48 resultados. \n",
    "\n",
    "Ejecute este fichero en Spyder."
   ]
  },
  {
   "cell_type": "code",
   "execution_count": null,
   "metadata": {
    "collapsed": true,
    "nbpresent": {
     "id": "b42ad0ae-b851-4282-b2fb-e34f141f805c"
    }
   },
   "outputs": [],
   "source": []
  }
 ],
 "metadata": {
  "anaconda-cloud": {},
  "kernelspec": {
   "display_name": "Python [conda root]",
   "language": "python",
   "name": "conda-root-py"
  },
  "language_info": {
   "codemirror_mode": {
    "name": "ipython",
    "version": 3
   },
   "file_extension": ".py",
   "mimetype": "text/x-python",
   "name": "python",
   "nbconvert_exporter": "python",
   "pygments_lexer": "ipython3",
   "version": "3.5.5"
  },
  "nbpresent": {
   "slides": {
    "0668fd0c-68e6-40c3-85b8-69a8c0ebf807": {
     "id": "0668fd0c-68e6-40c3-85b8-69a8c0ebf807",
     "prev": "9a089f2b-50c6-4de8-bc18-6b97bc55d9c3",
     "regions": {
      "cb3d53cd-679a-47ef-b3d3-c42d9575fadf": {
       "attrs": {
        "height": 0.8,
        "width": 0.8,
        "x": 0.1,
        "y": 0.1
       },
       "content": {
        "cell": "6ba00c27-4336-4fa9-afdf-2f13982b7881",
        "part": "whole"
       },
       "id": "cb3d53cd-679a-47ef-b3d3-c42d9575fadf"
      }
     }
    },
    "156f59f7-a863-47f2-b715-c068b5773ba5": {
     "id": "156f59f7-a863-47f2-b715-c068b5773ba5",
     "prev": "92ec105c-09fd-4ede-b5d6-e21d7b2ec378",
     "regions": {
      "9d98526a-a711-43d1-a394-8f2df785d049": {
       "attrs": {
        "height": 0.8,
        "width": 0.8,
        "x": 0.1,
        "y": 0.1
       },
       "content": {
        "cell": "7d0a2866-1c37-4b3f-b7a1-79c0b63858da",
        "part": "whole"
       },
       "id": "9d98526a-a711-43d1-a394-8f2df785d049"
      }
     }
    },
    "20965306-ce6b-4db9-a2d7-c8b1d3024c31": {
     "id": "20965306-ce6b-4db9-a2d7-c8b1d3024c31",
     "prev": "0668fd0c-68e6-40c3-85b8-69a8c0ebf807",
     "regions": {
      "e1ce6072-ffac-4b1d-b1c1-344fd7c1294a": {
       "attrs": {
        "height": 0.8,
        "width": 0.8,
        "x": 0.1,
        "y": 0.1
       },
       "content": {
        "cell": "9fd93b5c-3001-448a-9b61-873fdb3bce66",
        "part": "whole"
       },
       "id": "e1ce6072-ffac-4b1d-b1c1-344fd7c1294a"
      }
     }
    },
    "6abfb307-d50b-473b-95c9-3009cc3251b5": {
     "id": "6abfb307-d50b-473b-95c9-3009cc3251b5",
     "prev": null,
     "regions": {
      "de41ee89-16c0-4470-867e-ad38e1671bb5": {
       "attrs": {
        "height": 0.8,
        "width": 0.8,
        "x": 0.1,
        "y": 0.1
       },
       "content": {
        "cell": "1d073d66-fdaa-4780-be75-9ec1fdac4a91",
        "part": "whole"
       },
       "id": "de41ee89-16c0-4470-867e-ad38e1671bb5"
      }
     }
    },
    "92ec105c-09fd-4ede-b5d6-e21d7b2ec378": {
     "id": "92ec105c-09fd-4ede-b5d6-e21d7b2ec378",
     "prev": "9caf7429-8501-4e46-a605-cfb3016edf01",
     "regions": {
      "c8013103-d68d-4278-8c9d-3cb4e657e105": {
       "attrs": {
        "height": 0.8,
        "width": 0.8,
        "x": 0.1,
        "y": 0.1
       },
       "content": {
        "cell": "3d7f992e-2b0a-49e1-875f-f240abcfda61",
        "part": "whole"
       },
       "id": "c8013103-d68d-4278-8c9d-3cb4e657e105"
      }
     }
    },
    "9a089f2b-50c6-4de8-bc18-6b97bc55d9c3": {
     "id": "9a089f2b-50c6-4de8-bc18-6b97bc55d9c3",
     "prev": "6abfb307-d50b-473b-95c9-3009cc3251b5",
     "regions": {
      "4cff3774-ae9a-4b6b-b19f-70ac4f62a788": {
       "attrs": {
        "height": 0.8,
        "width": 0.8,
        "x": 0.1,
        "y": 0.1
       },
       "content": {
        "cell": "758aa5e2-985c-4ba0-adb7-0fd0b99d3ffc",
        "part": "whole"
       },
       "id": "4cff3774-ae9a-4b6b-b19f-70ac4f62a788"
      }
     }
    },
    "9caf7429-8501-4e46-a605-cfb3016edf01": {
     "id": "9caf7429-8501-4e46-a605-cfb3016edf01",
     "prev": "a93c1f6c-2304-4d5d-9395-bf2752f34498",
     "regions": {
      "11e90a5e-76c9-47d2-ae53-7ce8ef46337f": {
       "attrs": {
        "height": 0.8,
        "width": 0.8,
        "x": 0.1,
        "y": 0.1
       },
       "content": {
        "cell": "7caf83f6-721b-4f5c-b652-31a11246db95",
        "part": "whole"
       },
       "id": "11e90a5e-76c9-47d2-ae53-7ce8ef46337f"
      }
     }
    },
    "a93c1f6c-2304-4d5d-9395-bf2752f34498": {
     "id": "a93c1f6c-2304-4d5d-9395-bf2752f34498",
     "prev": "20965306-ce6b-4db9-a2d7-c8b1d3024c31",
     "regions": {
      "2b3e1871-0599-4e3e-b274-5c86de2a3ea1": {
       "attrs": {
        "height": 0.8,
        "width": 0.8,
        "x": 0.1,
        "y": 0.1
       },
       "content": {
        "cell": "fd228d92-4f02-4893-9196-5dc61baa23fc",
        "part": "whole"
       },
       "id": "2b3e1871-0599-4e3e-b274-5c86de2a3ea1"
      }
     }
    },
    "b3551f10-7b71-4ce8-ac89-79b5413b9a8a": {
     "id": "b3551f10-7b71-4ce8-ac89-79b5413b9a8a",
     "prev": "156f59f7-a863-47f2-b715-c068b5773ba5",
     "regions": {
      "c61461e4-4bec-4552-96bc-c855c5d52cb4": {
       "attrs": {
        "height": 0.8,
        "width": 0.8,
        "x": 0.1,
        "y": 0.1
       },
       "content": {
        "cell": "1720bc78-64f7-48f9-abba-be33e048edf5",
        "part": "whole"
       },
       "id": "c61461e4-4bec-4552-96bc-c855c5d52cb4"
      }
     }
    },
    "c87efcc3-3815-4a3d-9ac3-e661ff4550ab": {
     "id": "c87efcc3-3815-4a3d-9ac3-e661ff4550ab",
     "prev": "b3551f10-7b71-4ce8-ac89-79b5413b9a8a",
     "regions": {
      "bdcfb688-acb6-49d0-b936-b5da6e8799ca": {
       "attrs": {
        "height": 0.8,
        "width": 0.8,
        "x": 0.1,
        "y": 0.1
       },
       "content": {
        "cell": "b42ad0ae-b851-4282-b2fb-e34f141f805c",
        "part": "whole"
       },
       "id": "bdcfb688-acb6-49d0-b936-b5da6e8799ca"
      }
     }
    }
   },
   "themes": {}
  }
 },
 "nbformat": 4,
 "nbformat_minor": 2
}
