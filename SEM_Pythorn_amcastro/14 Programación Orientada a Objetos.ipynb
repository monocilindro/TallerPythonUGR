{
 "cells": [
  {
   "cell_type": "markdown",
   "metadata": {},
   "source": [
    "# Introducción a la Programación Orientada a Objetos. \n",
    "\n",
    "Alejandro E. Martínez Castro\n",
    "\n",
    "_Departamento de Mecánica de Estructuras e Ingeniería Hidráulica. \n",
    "Universidad de Granada_"
   ]
  },
  {
   "cell_type": "markdown",
   "metadata": {},
   "source": [
    "## Introducción a la Programación Orientada a Objetos\n",
    "\n",
    "Aunque Python es un lenguaje de programación orientado a objetos, se ha evitado en los capítulos anteriores tratar este paradigma. Sin embargo, el lector comprobará más adelante que todo lo que ha utilizado en Python hasta el momento son objetos y funciones. \n",
    "\n",
    "Aunque muchos programadores consideran la Programación Orientada a Objetos un paradigma moderno, los inicios de este estilo de programación vienen de la década de 1960. El primer lenguaje de programación que utilizó objetos fue Simula 67. Como su nombre sugiere, Simula 67 se introdujo en 1967. El siguiente hito en este estilo lo impuso el lenguaje Smalltalk en los años 70. \n",
    "\n",
    "En este capítulo se aprenderá acerca de los cuatro principios básicos de la programación orientada a objetos, y el modo en el que Python trata este paradigma. \n",
    "\n",
    "+ Encapsulado\n",
    "+ Abstracción de datos\n",
    "+ Polimorfismo\n",
    "+ Herencia\n",
    "\n",
    "Antes de comenzar con la exposición de la forma en la que Python trata el paradigma de los objetos, es conveniente tener una idea general del nuevo paradigma. Para ello, imagine el edificio de una biblioteca pública física (e.g. Biblioteca del Edificio Politécnico). Una biblioteca contiene una colección ordenada de libros, revistas, periódicos, diapositivas, recursos informáticos, etc.  \n",
    "\n",
    "De forma general, hay dos formas de manejar el stock de una biblioteca. Se puede usar un método de \"acceso cerrado\", mediante el cual sólo se permite acceder al catálogo general para su manejo a personal especializado, el cual suministra los libros a los lectores. Otra forma es el \"acceso abierto\", es decir, cualquier lector puede ir a los stands de libros y coger el ejemplar deseado. \n",
    "\n",
    "Los lenguajes imperativos, como C, pueden ser vistos como de \"acceso abierto\". El usuario puede hacer lo que quiera. Es tarea del usuario encontrar el libro, y volver a ponerlo en su sitio una vez utilizado. Aunque esto es estupendo para el usuario, esto genera problemas serios a largo plazo. Por ejemplo, algunos libros puede que no se coloquen en su sitio correcto, siendo difícil su localización para futuros usuarios. \n",
    "\n",
    "El \"acceso cerrado\" es la comparativa perfecta para la Programación Orientada a Objetos. La analogía es la siguiente: el libro, y otras publicaciones, son los datos de un programa orientado a objetos. El acceso a los libros está restringido, como el acceso a los objetos lo está en un programa. Coger un libro o devolverlo sólo se autoriza a personal especializado. Las funciones que realiza ese personal es comparable a los métodos que se realizan en la programación de objtos, que controlan el acceso a los datos. Por tanto, los datos, que suelen llamarse \"atributos\", en programas orientados a objetos, están protegidos por una \"coraza\", y sólo son accesibles para ciertas funciones especiales, llamadas métodos en programación a objetos. Esta forma de poner los datos detrás de una \"coraza\" se denomina _Encapsulación_. \n",
    "\n",
    "Por tanto, una biblioteca puede verse como una _Clase_, y un libro es una instanciación o un objeto de esa clase. Un objeto se define mediante una clase. Una clase es una descripción formal de cómo un objeto es diseñado, es decir, qué atributos y métodos es capaz de hacer. Una clase no debe ser confundida con un objeto. \n"
   ]
  },
  {
   "cell_type": "markdown",
   "metadata": {},
   "source": [
    "## Objetos: ejemplo de cálculo del tensor de inercia plano\n",
    "\n",
    "En este apartado se introducirán conceptos básicos de Programación Orientada a Objetos, en un contexto estructural. La programación orientada a objetos representa un nuevo paradigma en programación. La palabra \"paradigma\" hace referencia en lenguajes de programación a \"manera de hacer las cosas\", en términos coloquiales. Si el alumno ha estudiado previamente un lenguaje como FORTRAN, estará familiarizado con los paradigmas propios de la programación procedimental: subrutinas, funciones, módulos, etc. \n",
    "\n",
    "Un objeto se introduce en Python definiendo una clase. Para entender mejor este nuevo paradigma, se va a introducir un problema. \n",
    "\n",
    "Considere que se desea calcular el centro de gravedad, y tensor de inercia en direcciones principales, de la siguiente figura:\n",
    "\n",
    "<img src=\"images/objetos_seccion1.png\" width=\"350\" border=\"0\" hspace=\"12\" vspace=\"0\" alt=\"Ejemplo de objeto\">"
   ]
  },
  {
   "cell_type": "markdown",
   "metadata": {},
   "source": [
    "Observe que la figura se compone de tres objetos geométricos:\n",
    "\n",
    "- Un rectángulo, de 6 m de base, y 8 m de altura.\n",
    "\n",
    "- Un círculo, de rado 1 m, que supone un hueco en el rectángulo.\n",
    "\n",
    "- Otro hueco, esta vez de forma triangular, de 4 m de base y 3 m de altura.\n",
    "\n",
    "Sabemos que las operaciones para definir el centro de gravedad, y el tensor de inercia, se pueden hacer dividiendo la figura en figuras simples. En efecto, si se definen el rectángulo, círculo, y triángulo, a partir de sus propiedades básicas, como pueden ser: las coordenadas del centro, la base, la altura, o el radio, es posible automatizar las operaciones para definir el centro de gravedad, y las componentes del tensor de inercia."
   ]
  },
  {
   "cell_type": "markdown",
   "metadata": {},
   "source": [
    "## Definición de la clase \"Punto\"\n",
    "\n",
    "A continuación se define la clase Punto. Debido a futuras operaciones, se va a importar la librería numpy, y se va a preservar la división entera. "
   ]
  },
  {
   "cell_type": "code",
   "execution_count": 1,
   "metadata": {
    "collapsed": true
   },
   "outputs": [],
   "source": [
    "from __future__ import division\n",
    "import numpy as np\n",
    "\n",
    "#==============================================================================\n",
    "# Definición de la clase \"Punto\". Coordenadas (x, y) de un punto\n",
    "#==============================================================================\n",
    "#         ^ y\n",
    "#         |\n",
    "#         |\n",
    "#         |         ·P(x,y)\n",
    "#         |\n",
    "#         |\n",
    "#    -----|-------------------------> x\n",
    "\n",
    "class Punto:\n",
    "    \"\"\" Clase para representar los puntos, coordenadas x, y \"\"\"\n",
    "    def __init__(self, x=0, y=0):\n",
    "        self.x = x\n",
    "        self.y = y \n",
    "    def coords(self):\n",
    "        return \"({0}, {1})\".format(self.x, self.y)\n"
   ]
  },
  {
   "cell_type": "markdown",
   "metadata": {},
   "source": [
    "Observe cómo se utiliza esta clase. En primer lugar, la clase tiene un _inicializador_; por defecto, si no es especifica más, las coordenadas serán x=0, y=0. Observe que las coordenadas son características propias del objeto (self). \n",
    "\n",
    "Además, se define una función que actúa sobre las coordenadas. Esta función se encarga de mostrar por pantalla las componentes x e y del punto. \n",
    "\n",
    "Observe el funcionamiento"
   ]
  },
  {
   "cell_type": "code",
   "execution_count": 2,
   "metadata": {
    "collapsed": true
   },
   "outputs": [],
   "source": [
    "punto1 = Punto() #No se especifican coordenadas. Por tanto, asiga x=0, y=0"
   ]
  },
  {
   "cell_type": "markdown",
   "metadata": {},
   "source": [
    "Ahora \"punto1\" es un punto, de coordenadas (0,0). Para acceder a las variables y métodos de este objeto, se utiliza el punto, seguido del nombre de la variable o método a usar. En Jupyter observe que al escribir \"punto1.\" puede, mediante el tabulador, elegirse la variable o método a activar. "
   ]
  },
  {
   "cell_type": "code",
   "execution_count": 3,
   "metadata": {
    "collapsed": false
   },
   "outputs": [
    {
     "data": {
      "text/plain": [
       "0"
      ]
     },
     "execution_count": 3,
     "metadata": {},
     "output_type": "execute_result"
    }
   ],
   "source": [
    "punto1.x"
   ]
  },
  {
   "cell_type": "code",
   "execution_count": 4,
   "metadata": {
    "collapsed": false
   },
   "outputs": [
    {
     "data": {
      "text/plain": [
       "0"
      ]
     },
     "execution_count": 4,
     "metadata": {},
     "output_type": "execute_result"
    }
   ],
   "source": [
    "punto1.y"
   ]
  },
  {
   "cell_type": "code",
   "execution_count": 5,
   "metadata": {
    "collapsed": false
   },
   "outputs": [
    {
     "data": {
      "text/plain": [
       "'(0, 0)'"
      ]
     },
     "execution_count": 5,
     "metadata": {},
     "output_type": "execute_result"
    }
   ],
   "source": [
    "punto1.coords()"
   ]
  },
  {
   "cell_type": "markdown",
   "metadata": {},
   "source": [
    "## Definición de una función para calcular el punto medio\n",
    "\n",
    "Se define una función que actúa sobre objetos de tipo Punto. Devuelve un nuevo objeto de tipo Punto, cuyas coordenadas son el punto medio de dos puntos."
   ]
  },
  {
   "cell_type": "code",
   "execution_count": 6,
   "metadata": {
    "collapsed": true
   },
   "outputs": [],
   "source": [
    "def midpoint(p1, p2):\n",
    "    \"\"\" Devuelve el punto medio entre p1 y p2 \"\"\"\n",
    "    mx = (p1.x + p2.x)/2.\n",
    "    my = (p1.y + p2.y)/2.\n",
    "    return Punto(mx, my)"
   ]
  },
  {
   "cell_type": "markdown",
   "metadata": {},
   "source": [
    "Observe su comportamiento"
   ]
  },
  {
   "cell_type": "code",
   "execution_count": 7,
   "metadata": {
    "collapsed": false
   },
   "outputs": [
    {
     "data": {
      "text/plain": [
       "'(3.0, 4.5)'"
      ]
     },
     "execution_count": 7,
     "metadata": {},
     "output_type": "execute_result"
    }
   ],
   "source": [
    "p1 = Punto(2,3)\n",
    "p2 = Punto(4,6)\n",
    "pmedio = midpoint(p1,p2)\n",
    "pmedio.coords()"
   ]
  },
  {
   "cell_type": "markdown",
   "metadata": {},
   "source": [
    "## Definición de la clase Rectángulo\n",
    "\n",
    "A continuación se genera la clase Rectangulo, definida a partir de las coordenadas del centro de gravedad del rectángulo, la base y la altura. Observe que dentro de esta clase, se definen funciones para calcular momentos de inercia."
   ]
  },
  {
   "cell_type": "code",
   "execution_count": 8,
   "metadata": {
    "collapsed": true
   },
   "outputs": [],
   "source": [
    "class Rectangulo: \n",
    "    \"\"\" Rectángulo centro, base, altura\"\"\"\n",
    "    def __init__(self, centro = Punto(), base = 0, altura = 0):\n",
    "        self.centro = centro # Se definirá un objeto de tipo Punto\n",
    "        self.base = base\n",
    "        self.altura = altura\n",
    "    def area(self): # Area del rectángulo\n",
    "        return self.base * self.altura\n",
    "\n",
    "    def Ixg (self): # Momento de inercia respecto al eje x en CG\n",
    "        return 1./12 * self.base  * self.altura **3\n",
    "    \n",
    "    def Iyg (self): # Momento de inercia respecto al eje y en CG\n",
    "        return 1./12 * self.base **3 * self.altura"
   ]
  },
  {
   "cell_type": "markdown",
   "metadata": {},
   "source": [
    "## Definición de la clase Círculo. \n",
    "\n",
    "La clase Círculo se define a partir del centro y radio. Se definen funciones para el área y momentos de inercia"
   ]
  },
  {
   "cell_type": "code",
   "execution_count": 9,
   "metadata": {
    "collapsed": true
   },
   "outputs": [],
   "source": [
    "class Circulo:\n",
    "    \"\"\" Círculo, dado el centro y el radio\"\"\"\n",
    "    def __init__(self, centro = Punto(), radio = 0):\n",
    "        self.centro = centro # Objeto de tipo Punto\n",
    "        self.radio = radio\n",
    "\n",
    "    def area(self): # Area del rectángulo\n",
    "        return np.pi * self.radio ** 2\n",
    "\n",
    "    def Ixg (self): # Momento de inercia respecto al eje x en CG\n",
    "        return 1./4 * np.pi * self.radio**4\n",
    "    \n",
    "    def Iyg (self): # Momento de inercia respecto al eje y en CG\n",
    "        return 1./4 * np.pi * self.radio**4"
   ]
  },
  {
   "cell_type": "markdown",
   "metadata": {},
   "source": [
    "## Definición de la clase Triángulo\n",
    "\n",
    "La clase Triángulo se define a partir del centro, base y altura. Igualmente se introducen funciones para calcular el área, y momentos de inercia. \n"
   ]
  },
  {
   "cell_type": "code",
   "execution_count": 10,
   "metadata": {
    "collapsed": true
   },
   "outputs": [],
   "source": [
    "class Triangulo:\n",
    "    \"\"\" Triangulo isósceles, centro, base, altura \"\"\"\n",
    "    def __init__(self, centro = Punto(), base = 0, altura = 0):\n",
    "        self.centro = centro # Objeto de tipo Punto\n",
    "        self.base = base\n",
    "        self.altura = altura\n",
    "\n",
    "    def area(self): # Area del rectángulo\n",
    "        return 1 / 2. * self.base * self.altura\n",
    "\n",
    "    def Ixg (self): # Momento de inercia respecto al eje x en CG\n",
    "        return 1. / 36 * self.base * self.altura ** 3\n",
    "    \n",
    "    def Iyg (self): # Momento de inercia respecto al eje y en CG\n",
    "        return 1. / 48 * self.altura * self.base ** 3"
   ]
  },
  {
   "cell_type": "markdown",
   "metadata": {},
   "source": [
    "## Resolución del problema propuesto. Paso 1: generación de objetos. \n",
    "\n",
    "Para resolver el problema, en primer lugar, generaremos tres objetos: el rectángulo, el círculo y el triángulo"
   ]
  },
  {
   "cell_type": "code",
   "execution_count": 11,
   "metadata": {
    "collapsed": true
   },
   "outputs": [],
   "source": [
    "#==============================================================================\n",
    "# Definición del rectángulo\n",
    "#==============================================================================\n",
    "\n",
    "r_centro = Punto(3, 4)\n",
    "rect = Rectangulo(r_centro, 6, 8)\n",
    "\n",
    "#==============================================================================\n",
    "#  Definición del hueco circular\n",
    "#==============================================================================\n",
    "\n",
    "c_centro = Punto(1.5, 6)\n",
    "radio = 1\n",
    "circ = Circulo(c_centro, radio)\n",
    "\n",
    "#==============================================================================\n",
    "#  Definición del hueco triangular\n",
    "#==============================================================================\n",
    "\n",
    "c_tri = Punto(3.5, 2)\n",
    "triang = Triangulo(c_tri, 4, 3)"
   ]
  },
  {
   "cell_type": "markdown",
   "metadata": {},
   "source": [
    "A continuación se imprimen las propiedades de cada objeto. "
   ]
  },
  {
   "cell_type": "code",
   "execution_count": 12,
   "metadata": {
    "collapsed": false
   },
   "outputs": [
    {
     "name": "stdout",
     "output_type": "stream",
     "text": [
      "Propiedades del rectangulo\n",
      "---------------------------\n",
      "Coordenadas del centro (3, 4)\n",
      "Área 48\n",
      "Inercia Ix en el centro de gravedad 256.0\n",
      "Inercia Iy en el centro de gravedad 144.0\n",
      "================================================\n",
      "\n",
      "Propiedades del circulo\n",
      "-----------------------\n",
      "Coordenadas del centro (1.5, 6)\n",
      "Área 3.14159265359\n",
      "Inercia Ix en el centro de gravedad 0.785398163397\n",
      "Inercia Iy en el centro de gravedad 0.785398163397\n",
      "================================================\n",
      "\n",
      "Propiedades del triángulo\n",
      "-------------------------\n",
      "Coordenadas del centro (3.5, 2)\n",
      "Área 6.0\n",
      "Inercia Ix en el centro de gravedad 3.0\n",
      "Inercia Iy en el centro de gravedad 4.0\n",
      "================================================\n",
      "\n"
     ]
    }
   ],
   "source": [
    "print \"Propiedades del rectangulo\"\n",
    "print \"---------------------------\"\n",
    "\n",
    "print \"Coordenadas del centro\", rect.centro.coords()\n",
    "print \"Área\", rect.area()\n",
    "print \"Inercia Ix en el centro de gravedad\", rect.Ixg()\n",
    "print \"Inercia Iy en el centro de gravedad\", rect.Iyg()\n",
    "\n",
    "print \"================================================\"\n",
    "print \n",
    "\n",
    "print \"Propiedades del circulo\"\n",
    "print \"-----------------------\"\n",
    "print \"Coordenadas del centro\", circ.centro.coords()\n",
    "print \"Área\", circ.area()\n",
    "print \"Inercia Ix en el centro de gravedad\", circ.Ixg()\n",
    "print \"Inercia Iy en el centro de gravedad\", circ.Iyg()\n",
    "\n",
    "print \"================================================\"\n",
    "print \n",
    "\n",
    "print \"Propiedades del triángulo\"\n",
    "print \"-------------------------\"\n",
    "\n",
    "print \"Coordenadas del centro\", triang.centro.coords()\n",
    "print \"Área\", triang.area()\n",
    "print \"Inercia Ix en el centro de gravedad\", triang.Ixg()\n",
    "print \"Inercia Iy en el centro de gravedad\", triang.Iyg()\n",
    "\n",
    "print \"================================================\"\n",
    "print "
   ]
  },
  {
   "cell_type": "markdown",
   "metadata": {},
   "source": [
    "## Cálculo del centro de gravedad de la figura compuesta\n",
    "\n",
    "Para calcular el centro de gravedad se procede calculando el área global, el momento estático, y estableciendo el cociente. \n",
    "\n",
    "Observe que es muy sencillo seguir los cálculos que se han hecho en cada línea, sabiendo a qué objeto se están refiriendo. Esta es la principal ventaja de este paradigma. Los objetos son más sencillos para el pensamiento humano, y la forma de referirse a ellos nos es más familar que la llamada a funciones específicas. \n",
    "\n",
    "Observe la primera línea. Para el cálculo del área en programación por funciones se hubiese requerido definir tres funciones diferentes (con diferentes nombres) a las que pasarles argumentos diferentes para definir el área del rectángulo, del círculo y del triángulo. En cambio, con objetos, simplemente añadimos el nombre de la función \"area()\", la cual actúa diferente sobre cada objeto, según se ha definido en cada clase. \n"
   ]
  },
  {
   "cell_type": "code",
   "execution_count": 13,
   "metadata": {
    "collapsed": false
   },
   "outputs": [
    {
     "name": "stdout",
     "output_type": "stream",
     "text": [
      "Centro de gravedad (3.04406740001, 4.14711911998)\n"
     ]
    }
   ],
   "source": [
    "area = rect.area() - circ.area() - triang.area()\n",
    "\n",
    "xg =  rect.area() * rect.centro.x  # Primero el momento estático del rectángulo\n",
    "xg -= circ.area() * circ.centro.x  # Se resta el me del círculo\n",
    "xg -= triang.area() * triang.centro.x # Se resta el me del triángulo\n",
    "xg = xg / area \n",
    "\n",
    "yg =  rect.area() * rect.centro.y \n",
    "yg -= circ.area() * circ.centro.y \n",
    "yg -= triang.area() * triang.centro.y\n",
    "\n",
    "yg = yg / area\n",
    "\n",
    "CG = Punto(xg, yg) #Se crea un objeto de tipo punto, con el centro de gravedad\n",
    "print \"Centro de gravedad\", CG.coords()"
   ]
  },
  {
   "cell_type": "markdown",
   "metadata": {},
   "source": [
    "## Cálculo de las componentes del tensor de inercia. \n",
    "\n",
    "A continuación se calculan los momentos de inercia de la figura compuesta, aplicando el Teorema de Steiner para trasladar cada momento individual a la posición del centro de gravedad de la figura compuesta. "
   ]
  },
  {
   "cell_type": "code",
   "execution_count": 14,
   "metadata": {
    "collapsed": true
   },
   "outputs": [],
   "source": [
    "Ixg =  rect.Ixg() + rect.area() * (rect.centro.y - CG.y ) **2\n",
    "Ixg -= circ.Ixg() + circ.area() * (circ.centro.y - CG.y ) **2\n",
    "Ixg -= triang.Ixg() + triang.area() * (triang.centro.y - CG.y ) **2\n",
    "\n",
    "Iyg =  rect.Iyg() + rect.area() * (rect.centro.x - CG.x ) **2\n",
    "Iyg -= circ.Iyg() + circ.area() * (circ.centro.x - CG.x ) **2\n",
    "Iyg -= triang.Iyg() + triang.area() * (triang.centro.x - CG.x ) **2"
   ]
  },
  {
   "cell_type": "markdown",
   "metadata": {},
   "source": [
    "Tras esto, se calculan los productos de inercia y se trasladan al centro de gravedad de la figura compuesta."
   ]
  },
  {
   "cell_type": "code",
   "execution_count": 15,
   "metadata": {
    "collapsed": true
   },
   "outputs": [],
   "source": [
    "Pxyg =  rect.area() * (rect.centro.x - CG.x) * (rect.centro.y - CG.y)\n",
    "Pxyg -= circ.area() * (circ.centro.x - CG.x) * (circ.centro.y - CG.y)\n",
    "Pxyg -= triang.area() * (triang.centro.x - CG.x) * (triang.centro.y - CG.y)"
   ]
  },
  {
   "cell_type": "markdown",
   "metadata": {},
   "source": [
    "## Resultado final"
   ]
  },
  {
   "cell_type": "code",
   "execution_count": 16,
   "metadata": {
    "collapsed": false
   },
   "outputs": [
    {
     "name": "stdout",
     "output_type": "stream",
     "text": [
      "Tensor de Inercia en el centro de gravedad\n",
      "------------------------------------------\n",
      "Ixg = 214.807178476\n",
      "Iyg = 130.570557836\n",
      "Pxyg= 15.1728528009\n"
     ]
    }
   ],
   "source": [
    "print \"Tensor de Inercia en el centro de gravedad\"\n",
    "print \"------------------------------------------\"\n",
    "print \"Ixg =\", Ixg\n",
    "print \"Iyg =\", Iyg\n",
    "print \"Pxyg=\", Pxyg"
   ]
  },
  {
   "cell_type": "markdown",
   "metadata": {},
   "source": [
    "## Cálculo de las componentes y direcciones principales del tensor de inercia\n",
    "\n",
    "Diagonalizando el tensor de inercia se obtienen los valores de los momentos principales de inercia y las direcciones principales. En primer lugar, se define el tensor de inercia (observe el signo negativo para los productos de inercia)"
   ]
  },
  {
   "cell_type": "code",
   "execution_count": 17,
   "metadata": {
    "collapsed": true
   },
   "outputs": [],
   "source": [
    "Inercia = np.array([[Ixg, -Pxyg],\n",
    "                    [-Pxyg, Iyg]])\n",
    "                    "
   ]
  },
  {
   "cell_type": "markdown",
   "metadata": {},
   "source": [
    "Finalmente, se diagonalizará el tensor de inercia. Esto se hace con una función de Numpy específica. "
   ]
  },
  {
   "cell_type": "code",
   "execution_count": 18,
   "metadata": {
    "collapsed": false
   },
   "outputs": [
    {
     "name": "stdout",
     "output_type": "stream",
     "text": [
      "--------------------------------\n",
      "Momentos principales de inercia [ 217.45679782  127.92093849]\n",
      "Matriz de paso M(B,E) \n",
      "[[ 0.98509247  0.17202566]\n",
      " [-0.17202566  0.98509247]]\n"
     ]
    }
   ],
   "source": [
    "Iprin, vect = np.linalg.eig(Inercia)\n",
    "print \"--------------------------------\"\n",
    "print \"Momentos principales de inercia\", Iprin\n",
    "\n",
    "print \"Matriz de paso M(B,E) \"\n",
    "print vect"
   ]
  },
  {
   "cell_type": "code",
   "execution_count": null,
   "metadata": {
    "collapsed": true
   },
   "outputs": [],
   "source": []
  }
 ],
 "metadata": {
  "anaconda-cloud": {},
  "kernelspec": {
   "display_name": "Python [conda root]",
   "language": "python",
   "name": "conda-root-py"
  },
  "language_info": {
   "codemirror_mode": {
    "name": "ipython",
    "version": 3
   },
   "file_extension": ".py",
   "mimetype": "text/x-python",
   "name": "python",
   "nbconvert_exporter": "python",
   "pygments_lexer": "ipython3",
   "version": "3.5.2"
  }
 },
 "nbformat": 4,
 "nbformat_minor": 1
}
