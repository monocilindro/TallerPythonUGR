{
 "cells": [
  {
   "cell_type": "markdown",
   "metadata": {},
   "source": [
    "# Entrada por teclado\n",
    "\n",
    "Alejandro E. Martínez Castro\n",
    "\n",
    "_Departamento de Mecánica de Estructuras e Ingeniería Hidráulica. \n",
    "Universidad de Granada_"
   ]
  },
  {
   "cell_type": "markdown",
   "metadata": {},
   "source": [
    "Para la entrada de datos desde el teclado se utilizan los comandos\n",
    "\n",
    "    input\n",
    "    \n",
    "    raw_input\n",
    "    \n",
    "Las entradas por teclado son necesarias en determinados programas. En estos casos, Python detiene la ejecución del programa y espera a que el usuario introduzca un dato por teclado. \n",
    "\n",
    "### La función input()\n",
    "    \n",
    "Esta función permite introducir texto. La principal peculiaridad es que Python interpretará qué tipo de dato se está introduciendo. Veámoslo con un ejemplo. \n",
    "\n",
    "Ejecute la siguiente celda. Para que no de error, es necesario introducir el nombre entre comillas. "
   ]
  },
  {
   "cell_type": "code",
   "execution_count": 1,
   "metadata": {
    "collapsed": false
   },
   "outputs": [
    {
     "name": "stdout",
     "output_type": "stream",
     "text": [
      "¿Cuál es tu nombre?\n",
      "\"Alex\"\n",
      "¡ Encantado de conocerte Alex!\n",
      "¿Cuál es tu edad?\n",
      "20\n",
      "¡ Por tanto, tienes 20 años, Alex!\n",
      "------------------------------\n",
      "Observe\n",
      "El argumento 'age' es de tipo <type 'int'>\n",
      "Si lo multiplico por 2 obtengo 40\n"
     ]
    }
   ],
   "source": [
    "print \"¿Cuál es tu nombre?\"\n",
    "nombre = input()\n",
    "print(\"¡ Encantado de conocerte \" + nombre + \"!\")\n",
    "print \"¿Cuál es tu edad?\"\n",
    "age = input()\n",
    "print \"¡ Por tanto, tienes \" + str(age) + \" años, \" + nombre + \"!\"\n",
    "print \"---\"*10\n",
    "print \"Observe\"\n",
    "print \"El argumento \\'age\\' es de tipo\", type(age)\n",
    "print \"Si lo multiplico por 2 obtengo\", age * 2"
   ]
  },
  {
   "cell_type": "markdown",
   "metadata": {},
   "source": [
    "### La función raw_input()\n",
    "\n",
    "En el ejemplo anterior, era necesario introducir expresamente las comillas para cadenas de texto. Si no, Python daba error. Por otro lado, al introducir el número, lo interpreta como entero, y por tanto, es posible multiplicarlo por 2. \n",
    "\n",
    "Existe otra forma de introducir los valores por teclado, y es \"en bruto\" (raw). \n",
    "\n",
    "Observe la diferencia ahora: "
   ]
  },
  {
   "cell_type": "code",
   "execution_count": 2,
   "metadata": {
    "collapsed": false
   },
   "outputs": [
    {
     "name": "stdout",
     "output_type": "stream",
     "text": [
      "¿Cuál es tu nombre?\n",
      "Alex\n",
      "¡ Encantado de conocerte Alex!\n",
      "¿Cuál es tu edad?\n",
      "20\n",
      "¡ Por tanto, tienes 20 años, Alex!\n",
      "------------------------------\n",
      "Observe\n",
      "El argumento 'age' es de tipo <type 'str'>\n",
      "Si lo multiplico por 2 obtengo 2020\n"
     ]
    }
   ],
   "source": [
    "print \"¿Cuál es tu nombre?\"\n",
    "nombre = raw_input()\n",
    "print(\"¡ Encantado de conocerte \" + nombre + \"!\")\n",
    "print \"¿Cuál es tu edad?\"\n",
    "age = raw_input()\n",
    "print \"¡ Por tanto, tienes \" + str(age) + \" años, \" + nombre + \"!\"\n",
    "print \"---\"*10\n",
    "print \"Observe\"\n",
    "print \"El argumento \\'age\\' es de tipo\", type(age)\n",
    "print \"Si lo multiplico por 2 obtengo\", age * 2"
   ]
  },
  {
   "cell_type": "markdown",
   "metadata": {},
   "source": [
    "Pruebe ejecutar en Spyder el fichero \n",
    "\n",
    "    002-Input.py\n",
    "    \n",
    "Para ver la ejecución en modo script. O bien, exporte este cuaderno como fichero Python y ábralo dentro de Spyder."
   ]
  },
  {
   "cell_type": "code",
   "execution_count": null,
   "metadata": {
    "collapsed": true
   },
   "outputs": [],
   "source": []
  }
 ],
 "metadata": {
  "anaconda-cloud": {},
  "kernelspec": {
   "display_name": "Python [default]",
   "language": "python",
   "name": "python2"
  },
  "language_info": {
   "codemirror_mode": {
    "name": "ipython",
    "version": 2
   },
   "file_extension": ".py",
   "mimetype": "text/x-python",
   "name": "python",
   "nbconvert_exporter": "python",
   "pygments_lexer": "ipython2",
   "version": "2.7.12"
  }
 },
 "nbformat": 4,
 "nbformat_minor": 1
}
