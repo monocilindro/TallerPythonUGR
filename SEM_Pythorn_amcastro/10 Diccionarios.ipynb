{
 "cells": [
  {
   "cell_type": "markdown",
   "metadata": {},
   "source": [
    "# Diccionarios\n",
    "\n",
    "Alejandro E. Martínez Castro\n",
    "\n",
    "_Departamento de Mecánica de Estructuras e Ingeniería Hidráulica. \n",
    "Universidad de Granada_"
   ]
  },
  {
   "cell_type": "markdown",
   "metadata": {},
   "source": [
    "## Introducción\n",
    "\n",
    "En esta sección se presentan los diccionarios, y los operadores y métodos que pueden operar sobre los mismos. Los diccionarios son recursos que se utilizan con frecuencia. Al igual que las listas, los diccionarios son mutables, y pueden modificarse sin requerir copias. \n",
    "\n",
    "Los diccionarios pueden contenerse en listas, y viceversa. \n",
    "\n",
    "¿Cuál es la diferencia entre listas y diccionarios?\n",
    "\n",
    "Las listas son conjuntos ordenados de objetos, mientras que los diccionarios son conjuntos no ordenados. La principal diferencia es que los items en los diccionarios son accesibles mediante palabras clave, y no mediante sus posiciones. \n",
    "\n",
    "Los diccionarios no trabajan con operaciones secuenciadas (indexadas), como las cadenas de caracteres, o las tuplas y listas. Cualquier valor de un diccionario se asocia (o aplica) a un valor. \n",
    "\n",
    "Los valores de los diccionarios pueden ser cualquier tipo de dato en Python. Los diccionarios son parejas no ordenadas clave-variable. "
   ]
  },
  {
   "cell_type": "markdown",
   "metadata": {
    "collapsed": true
   },
   "source": [
    "## Ejemplos de diccionarios\n",
    "\n",
    "Para definir diccionarios se emplean las llaves. En primer lugar, definiremos el diccionario vacío. "
   ]
  },
  {
   "cell_type": "code",
   "execution_count": 1,
   "metadata": {
    "collapsed": false
   },
   "outputs": [
    {
     "data": {
      "text/plain": [
       "dict"
      ]
     },
     "execution_count": 1,
     "metadata": {},
     "output_type": "execute_result"
    }
   ],
   "source": [
    "empty = {}\n",
    "type(empty)"
   ]
  },
  {
   "cell_type": "markdown",
   "metadata": {},
   "source": [
    "Diccionario \"honorífico\" a los Monty Python."
   ]
  },
  {
   "cell_type": "code",
   "execution_count": 2,
   "metadata": {
    "collapsed": true
   },
   "outputs": [],
   "source": [
    "food = {\"ham\" : \"yes\", \"egg\" : \"yes\", \"spam\" : \"no\" }"
   ]
  },
  {
   "cell_type": "markdown",
   "metadata": {},
   "source": [
    "Para acceder a las posiciones se utiliza la etiqueta del campo a la izquierda de los dos puntos. "
   ]
  },
  {
   "cell_type": "code",
   "execution_count": 3,
   "metadata": {
    "collapsed": false
   },
   "outputs": [
    {
     "data": {
      "text/plain": [
       "'yes'"
      ]
     },
     "execution_count": 3,
     "metadata": {},
     "output_type": "execute_result"
    }
   ],
   "source": [
    "food[\"ham\"]"
   ]
  },
  {
   "cell_type": "code",
   "execution_count": 4,
   "metadata": {
    "collapsed": false
   },
   "outputs": [
    {
     "data": {
      "text/plain": [
       "'yes'"
      ]
     },
     "execution_count": 4,
     "metadata": {},
     "output_type": "execute_result"
    }
   ],
   "source": [
    "food[\"egg\"]"
   ]
  },
  {
   "cell_type": "markdown",
   "metadata": {},
   "source": [
    "Diccionario con palabras en español y traducción a inglés"
   ]
  },
  {
   "cell_type": "code",
   "execution_count": 5,
   "metadata": {
    "collapsed": true
   },
   "outputs": [],
   "source": [
    "es_en = {\"rojo\" : \"red\", \"verde\" : \"green\", \"azul\" : \"blue\", \"amarillo\":\"yellow\"}"
   ]
  },
  {
   "cell_type": "code",
   "execution_count": 6,
   "metadata": {
    "collapsed": false
   },
   "outputs": [
    {
     "data": {
      "text/plain": [
       "'green'"
      ]
     },
     "execution_count": 6,
     "metadata": {},
     "output_type": "execute_result"
    }
   ],
   "source": [
    "es_en[\"verde\"]"
   ]
  },
  {
   "cell_type": "markdown",
   "metadata": {},
   "source": [
    "## Operadores en diccionarios\n",
    "\n",
    "<p>\n",
    "<table\n",
    "style=\"text-align: left; width: 100%; background-color: rgb(255, 255, 153);\"\n",
    "border=\"0\" cellpadding=\"2\" cellspacing=\"2\">\n",
    "<tbody>\n",
    "<tr>\n",
    "<th style=\"vertical-align: top;\">Operator<br>\n",
    "</th>\n",
    "<th style=\"vertical-align: top;\">Explanation<br>\n",
    "</th>\n",
    "</tr>\n",
    "<tr>\n",
    "<td style=\"vertical-align: top;\">len(d)<br>\n",
    "</td>\n",
    "<td style=\"vertical-align: top;\">returns the number of stored entries, i.e. \n",
    "the number of (key,value) pairs.<br>\n",
    "</td>\n",
    "</tr>\n",
    "<tr>\n",
    "<td style=\"vertical-align: top;\">del d[k]<br>\n",
    "</td>\n",
    "<td style=\"vertical-align: top;\">deletes the key k together with his value<br>\n",
    "</td>\n",
    "</tr>\n",
    "<tr>\n",
    "<td style=\"vertical-align: top;\">k in d<br>\n",
    "</td>\n",
    "<td style=\"vertical-align: top;\">True, if a key k exists in the dictionary d<br>\n",
    "</td>\n",
    "</tr>\n",
    "<tr>\n",
    "<td style=\"vertical-align: top;\">k not in d<br>\n",
    "</td>\n",
    "<td style=\"vertical-align: top;\">True, if a key k doesn't exist in the dictionary d<br>\n",
    "</td>\n",
    "</tr>\n",
    "</tbody>\n",
    "</table>\n",
    "</p>"
   ]
  },
  {
   "cell_type": "markdown",
   "metadata": {},
   "source": [
    "## Copia de diccionarios\n",
    "\n",
    "Para copiar diccionarios se debe usar el procedimiento copy"
   ]
  },
  {
   "cell_type": "code",
   "execution_count": 7,
   "metadata": {
    "collapsed": false
   },
   "outputs": [
    {
     "name": "stdout",
     "output_type": "stream",
     "text": [
      "{'house': 'Haus', 'cat': 'Katze'}\n"
     ]
    }
   ],
   "source": [
    "words = {\"house\" : \"Haus\", \"cat\":\"Katze\"}\n",
    "\n",
    "w = words.copy()\n",
    "\n",
    "words[\"cat\"]=\"chat\"\n",
    "print w"
   ]
  },
  {
   "cell_type": "markdown",
   "metadata": {},
   "source": [
    "## Unión de diccionarios\n",
    "\n",
    "Los diccionarios se pueden concatenar, de forma similar a lo como se hace en listas. Esto se hace con un método, denominado update. \n",
    "\n",
    "    update()\n",
    "    \n",
    "Este método une las claves y los valores de dos diccionarios, sobreescribiendo los valores que tienen la misma clave. "
   ]
  },
  {
   "cell_type": "code",
   "execution_count": 8,
   "metadata": {
    "collapsed": false
   },
   "outputs": [
    {
     "name": "stdout",
     "output_type": "stream",
     "text": [
      "{'house': 'Haus', 'blau': 'bleu', 'red': 'rouge', 'cat': 'Katze'}\n"
     ]
    }
   ],
   "source": [
    "w={\"house\":\"Haus\",\"cat\":\"Katze\",\"red\":\"rot\"}\n",
    "w1 = {\"red\":\"rouge\",\"blau\":\"bleu\"}\n",
    "w.update(w1)\n",
    "print w"
   ]
  },
  {
   "cell_type": "code",
   "execution_count": null,
   "metadata": {
    "collapsed": true
   },
   "outputs": [],
   "source": []
  }
 ],
 "metadata": {
  "anaconda-cloud": {},
  "kernelspec": {
   "display_name": "Python [default]",
   "language": "python",
   "name": "python2"
  },
  "language_info": {
   "codemirror_mode": {
    "name": "ipython",
    "version": 2
   },
   "file_extension": ".py",
   "mimetype": "text/x-python",
   "name": "python",
   "nbconvert_exporter": "python",
   "pygments_lexer": "ipython2",
   "version": "2.7.12"
  }
 },
 "nbformat": 4,
 "nbformat_minor": 1
}
