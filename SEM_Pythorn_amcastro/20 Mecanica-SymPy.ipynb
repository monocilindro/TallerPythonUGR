{
 "cells": [
  {
   "cell_type": "markdown",
   "metadata": {},
   "source": [
    "# La librería SymPy\n",
    "\n",
    "Alejandro E. Martínez Castro\n",
    "\n",
    "_Departamento de Mecánica de Estructuras e Ingeniería Hidráulica. \n",
    "Universidad de Granada_\n",
    "\n",
    "Basado en el notebook de Juan Luis Cano para AeroPython"
   ]
  },
  {
   "cell_type": "markdown",
   "metadata": {},
   "source": [
    "# Mecánica con SymPy"
   ]
  },
  {
   "cell_type": "markdown",
   "metadata": {},
   "source": [
    "_Si SymPy te ha parecido hasta ahora un CAS decente e incluso interesante (nada como tener los resultados en $\\LaTeX$ incrustados en el notebook y la sintaxis de Python para hacer cálculo simbólico) entonces espera a ver el paquete `mechanics`. Con él, podremos manipular velocidades y aceleraciones de sólidos expresadas en distintos sistemas de referencia con una facilidad impresionante._\n",
    "\n",
    "_Tienes disponible la documentación de `mechanics` en http://docs.sympy.org/0.7.5/modules/physics/mechanics/index.html._"
   ]
  },
  {
   "cell_type": "markdown",
   "metadata": {},
   "source": [
    "## Sistemas de referencia"
   ]
  },
  {
   "cell_type": "markdown",
   "metadata": {},
   "source": [
    "El objeto primordial que vamos a manejar van a ser los sistemas de referencia. Podremos definir relaciones geométricas entre ellos y de esta forma las transformaciones de vectores entre un sistema y otro serán triviales."
   ]
  },
  {
   "cell_type": "code",
   "execution_count": 1,
   "metadata": {},
   "outputs": [
    {
     "name": "stdout",
     "output_type": "stream",
     "text": [
      "IPython console for SymPy 1.2 (Python 3.5.5-64-bit) (ground types: gmpy)\n",
      "\n",
      "These commands were executed:\n",
      ">>> from __future__ import division\n",
      ">>> from sympy import *\n",
      ">>> x, y, z, t = symbols('x y z t')\n",
      ">>> k, m, n = symbols('k m n', integer=True)\n",
      ">>> f, g, h = symbols('f g h', cls=Function)\n",
      ">>> init_printing()\n",
      "\n",
      "Documentation can be found at http://docs.sympy.org/1.2/\n",
      "\n"
     ]
    }
   ],
   "source": [
    "from sympy import init_session\n",
    "init_session(use_latex=True)"
   ]
  },
  {
   "cell_type": "markdown",
   "metadata": {},
   "source": [
    "Todo lo que necesitamos está en `sympy.physics.mechanics`, incluyendo la clase `ReferenceFrame`. Nada más crear un sistema de referencia podemos acceder a sus versores unitarios: `x`, `y` y `z`.\n",
    "\n",
    "http://docs.sympy.org/0.7.5/modules/physics/vector/vectors.html"
   ]
  },
  {
   "cell_type": "code",
   "execution_count": 2,
   "metadata": {},
   "outputs": [],
   "source": [
    "from sympy.physics.mechanics import ReferenceFrame"
   ]
  },
  {
   "cell_type": "code",
   "execution_count": 3,
   "metadata": {},
   "outputs": [
    {
     "data": {
      "image/png": "[encoded data removed]",
      "text/latex": [
       "$$\\mathbf{\\hat{a}_x}$$"
      ],
      "text/plain": [
       "a_x"
      ]
     },
     "execution_count": 3,
     "metadata": {},
     "output_type": "execute_result"
    }
   ],
   "source": [
    "A = ReferenceFrame(\"A\")\n",
    "A.x"
   ]
  },
  {
   "cell_type": "markdown",
   "metadata": {},
   "source": [
    "Y para definir vectores solo tenemos que **multiplicar cada componente por su versor**:"
   ]
  },
  {
   "cell_type": "code",
   "execution_count": 4,
   "metadata": {},
   "outputs": [
    {
     "data": {
      "image/png": "[encoded data removed]",
      "text/latex": [
       "$$2\\mathbf{\\hat{a}_x} - \\mathbf{\\hat{a}_y}$$"
      ],
      "text/plain": [
       "2 a_x - a_y"
      ]
     },
     "execution_count": 4,
     "metadata": {},
     "output_type": "execute_result"
    }
   ],
   "source": [
    "2 * A.x - 1 * A.y"
   ]
  },
  {
   "cell_type": "markdown",
   "metadata": {},
   "source": [
    "De ahora en adelante, para trabajar como si nos enfrentáramos a un problema de la escuela, vamos a hacer dos cosas:\n",
    "\n",
    "* Definir un sistema inercial $1$ del que partir, para así poder referir todos los demás sistemas a él.\n",
    "* Que los versores de ese sistema sean $i, j, k$."
   ]
  },
  {
   "cell_type": "code",
   "execution_count": 5,
   "metadata": {},
   "outputs": [
    {
     "data": {
      "image/png": "[encoded data removed]",
      "text/latex": [
       "$$\\mathbf{i} + \\mathbf{j} + \\mathbf{k}$$"
      ],
      "text/plain": [
       "1_x + 1_y + 1_z"
      ]
     },
     "execution_count": 5,
     "metadata": {},
     "output_type": "execute_result"
    }
   ],
   "source": [
    "A = ReferenceFrame(\"1\", latexs=['\\mathbf{i}', '\\mathbf{j}', '\\mathbf{k}'])\n",
    "A.x + A.y + A.z"
   ]
  },
  {
   "cell_type": "markdown",
   "metadata": {},
   "source": [
    "Y para no tener que hacerlo siempre, un pequeño truco de magia:"
   ]
  },
  {
   "cell_type": "code",
   "execution_count": 6,
   "metadata": {},
   "outputs": [],
   "source": [
    "# Definimos nuestra propia clase para que los versores sean IJK\n",
    "class IJKReferenceFrame(ReferenceFrame):\n",
    "    def __init__(self, name):\n",
    "        super(IJKReferenceFrame,self).__init__(name, latexs=['\\mathbf{%s}_{%s}' % (idx, name) for idx in (\"i\", \"j\", \"k\")])\n",
    "        self.i = self.x\n",
    "        self.j = self.y\n",
    "        self.k = self.z"
   ]
  },
  {
   "cell_type": "code",
   "execution_count": 7,
   "metadata": {},
   "outputs": [
    {
     "data": {
      "image/png": "[encoded data removed]",
      "text/latex": [
       "$$\\mathbf{i}_{1} + \\mathbf{j}_{1} + \\mathbf{k}_{1}$$"
      ],
      "text/plain": [
       "1_x + 1_y + 1_z"
      ]
     },
     "execution_count": 7,
     "metadata": {},
     "output_type": "execute_result"
    }
   ],
   "source": [
    "A = IJKReferenceFrame(\"1\")\n",
    "A.i + A.j + A.k"
   ]
  },
  {
   "cell_type": "markdown",
   "metadata": {},
   "source": [
    "### Álgebra vectorial"
   ]
  },
  {
   "cell_type": "markdown",
   "metadata": {},
   "source": [
    "Nuestros vectores funcionan también con símbolos, y podemos realizar las operaciones de producto escalar y producto vectorial con ellos."
   ]
  },
  {
   "cell_type": "code",
   "execution_count": 8,
   "metadata": {},
   "outputs": [],
   "source": [
    "R, V = symbols('R, V', positive=True)\n",
    "r1 = R * (A.x + A.y + A.z)\n",
    "v1 = V * (A.x - 2 * A.z)"
   ]
  },
  {
   "cell_type": "code",
   "execution_count": 9,
   "metadata": {},
   "outputs": [
    {
     "data": {
      "image/png": "[encoded data removed]",
      "text/latex": [
       "$$R\\mathbf{i}_{1} + R\\mathbf{j}_{1} + R\\mathbf{k}_{1}$$"
      ],
      "text/plain": [
       "R 1_x + R 1_y + R 1_z"
      ]
     },
     "execution_count": 9,
     "metadata": {},
     "output_type": "execute_result"
    }
   ],
   "source": [
    "r1"
   ]
  },
  {
   "cell_type": "code",
   "execution_count": 10,
   "metadata": {},
   "outputs": [
    {
     "data": {
      "image/png": "[encoded data removed]",
      "text/latex": [
       "$$V\\mathbf{i}_{1} -  2 V\\mathbf{k}_{1}$$"
      ],
      "text/plain": [
       "V 1_x + -2⋅V 1_z"
      ]
     },
     "execution_count": 10,
     "metadata": {},
     "output_type": "execute_result"
    }
   ],
   "source": [
    "v1"
   ]
  },
  {
   "cell_type": "code",
   "execution_count": 11,
   "metadata": {},
   "outputs": [],
   "source": [
    "from sympy.physics.mechanics import dot, cross"
   ]
  },
  {
   "cell_type": "code",
   "execution_count": 12,
   "metadata": {},
   "outputs": [
    {
     "data": {
      "image/png": "[encoded data removed]",
      "text/latex": [
       "$$- R V$$"
      ],
      "text/plain": [
       "-R⋅V"
      ]
     },
     "execution_count": 12,
     "metadata": {},
     "output_type": "execute_result"
    }
   ],
   "source": [
    "r1.dot(v1)\n",
    "dot(r1, v1)\n",
    "r1 & v1"
   ]
  },
  {
   "cell_type": "code",
   "execution_count": 13,
   "metadata": {},
   "outputs": [
    {
     "data": {
      "image/png": "[encoded data removed]",
      "text/latex": [
       "$$-  2 R V\\mathbf{i}_{1} + 3 R V\\mathbf{j}_{1} -  R V\\mathbf{k}_{1}$$"
      ],
      "text/plain": [
       "-2⋅R⋅V 1_x + 3⋅R⋅V 1_y + -R⋅V 1_z"
      ]
     },
     "execution_count": 13,
     "metadata": {},
     "output_type": "execute_result"
    }
   ],
   "source": [
    "r1.cross(v1)\n",
    "cross(r1, v1)\n",
    "r1 ^ v1"
   ]
  },
  {
   "cell_type": "markdown",
   "metadata": {},
   "source": [
    "Podemos hallar también la norma de los vectores con su método `magnitude` e incluso normalizarlos con `normalize`:"
   ]
  },
  {
   "cell_type": "code",
   "execution_count": 14,
   "metadata": {},
   "outputs": [
    {
     "data": {
      "image/png": "[encoded data removed]",
      "text/latex": [
       "$$\\sqrt{14} R V$$"
      ],
      "text/plain": [
       "√14⋅R⋅V"
      ]
     },
     "execution_count": 14,
     "metadata": {},
     "output_type": "execute_result"
    }
   ],
   "source": [
    "(r1 ^ v1).magnitude()"
   ]
  },
  {
   "cell_type": "code",
   "execution_count": 15,
   "metadata": {},
   "outputs": [
    {
     "data": {
      "image/png": "[encoded data removed]",
      "text/latex": [
       "$$-  \\frac{\\sqrt{14}}{7}\\mathbf{i}_{1} + \\frac{3 \\sqrt{14}}{14}\\mathbf{j}_{1} -  \\frac{\\sqrt{14}}{14}\\mathbf{k}_{1}$$"
      ],
      "text/plain": [
       "-√14        3⋅√14       -√14\n",
       "───── 1_x + ───── 1_y + ───── 1_z\n",
       "  7           14          14"
      ]
     },
     "execution_count": 15,
     "metadata": {},
     "output_type": "execute_result"
    }
   ],
   "source": [
    "(r1 ^ v1).normalize()"
   ]
  },
  {
   "cell_type": "markdown",
   "metadata": {},
   "source": [
    "##### Ejercicio\n",
    "\n",
    "Usando directamente la fórmula para la derivada en ejes móviles:\n",
    "\n",
    "$$\\left(\\frac{\\operatorname{d}\\!\\mathbf{a}}{\\operatorname{d}\\!t}\\right)_1 = \\left(\\frac{\\operatorname{d}\\!\\mathbf{a}}{\\operatorname{d}\\!t}\\right)_0 + \\mathbf{\\omega}_{01}\\! \\times \\mathbf{a}$$\n",
    "\n",
    "Calcula la derivada del vector de posición $R \\mathbf{i}_0$, siendo $A_0$ un sistema de referencia que gira respecto al inercial con velocidad angular $\\mathbf{\\omega}_{01}=\\Omega \\mathbf{k}_0$. **¿Cuál es el módulo de la derivada?**"
   ]
  },
  {
   "cell_type": "code",
   "execution_count": 16,
   "metadata": {},
   "outputs": [],
   "source": [
    "R, Omega = symbols('R, Omega', positive=True)\n",
    "A0 = IJKReferenceFrame('0')"
   ]
  },
  {
   "cell_type": "code",
   "execution_count": 17,
   "metadata": {},
   "outputs": [
    {
     "data": {
      "image/png": "[encoded data removed]",
      "text/latex": [
       "$$R\\mathbf{i}_{0}$$"
      ],
      "text/plain": [
       "R 0_x"
      ]
     },
     "execution_count": 17,
     "metadata": {},
     "output_type": "execute_result"
    }
   ],
   "source": [
    "a = R * A0.i\n",
    "a"
   ]
  },
  {
   "cell_type": "code",
   "execution_count": 18,
   "metadata": {},
   "outputs": [
    {
     "data": {
      "image/png": "[encoded data removed]",
      "text/latex": [
       "$$\\Omega\\mathbf{k}_{0}$$"
      ],
      "text/plain": [
       "Ω 0_z"
      ]
     },
     "execution_count": 18,
     "metadata": {},
     "output_type": "execute_result"
    }
   ],
   "source": [
    "omega01 = Omega * A0.k\n",
    "omega01"
   ]
  },
  {
   "cell_type": "code",
   "execution_count": 19,
   "metadata": {},
   "outputs": [
    {
     "data": {
      "image/png": "[encoded data removed]",
      "text/latex": [
       "$$\\Omega R\\mathbf{j}_{0}$$"
      ],
      "text/plain": [
       "Ω⋅R 0_y"
      ]
     },
     "execution_count": 19,
     "metadata": {},
     "output_type": "execute_result"
    }
   ],
   "source": [
    "da = omega01 ^ a\n",
    "da"
   ]
  },
  {
   "cell_type": "code",
   "execution_count": 20,
   "metadata": {},
   "outputs": [
    {
     "data": {
      "image/png": "[encoded data removed]",
      "text/latex": [
       "$$\\Omega R$$"
      ],
      "text/plain": [
       "Ω⋅R"
      ]
     },
     "execution_count": 20,
     "metadata": {},
     "output_type": "execute_result"
    }
   ],
   "source": [
    "da.magnitude()"
   ]
  },
  {
   "cell_type": "markdown",
   "metadata": {},
   "source": [
    "<div class=\"alert alert-warning\">Si no especificaste `positive=True` vas a ver algo como $\\sqrt{\\Omega^2 R^2}$. Debería haber una forma de simplificar esta expresión _a posteriori_, pero de momento no funciona del todo bien. Preparando este notebook nos hemos dado cuenta y ya les hemos avisado :) https://github.com/sympy/sympy/issues/8326\n",
    "</div>"
   ]
  },
  {
   "cell_type": "markdown",
   "metadata": {},
   "source": [
    "### Movimiento relativo"
   ]
  },
  {
   "cell_type": "markdown",
   "metadata": {},
   "source": [
    "¿A quién no le gusta multiplicar matrices de rotación? Para esa minoría que lo detesta, existe SymPy. Para ello debemos especificar la orientación de nuestros sistemas de referencia usando el método `orient`, y recuperaremos la matriz de cosenos directores usando el método `dcm`."
   ]
  },
  {
   "cell_type": "code",
   "execution_count": 21,
   "metadata": {},
   "outputs": [],
   "source": [
    "A1 = IJKReferenceFrame(\"1\")\n",
    "A0 = IJKReferenceFrame(\"0\")"
   ]
  },
  {
   "cell_type": "code",
   "execution_count": 22,
   "metadata": {},
   "outputs": [
    {
     "data": {
      "image/png": "[encoded data removed]",
      "text/latex": [
       "$$\\left[\\begin{matrix}\\cos{\\left (\\phi \\right )} & \\sin{\\left (\\phi \\right )} & 0\\\\- \\sin{\\left (\\phi \\right )} & \\cos{\\left (\\phi \\right )} & 0\\\\0 & 0 & 1\\end{matrix}\\right]$$"
      ],
      "text/plain": [
       "⎡cos(φ)   sin(φ)  0⎤\n",
       "⎢                  ⎥\n",
       "⎢-sin(φ)  cos(φ)  0⎥\n",
       "⎢                  ⎥\n",
       "⎣   0       0     1⎦"
      ]
     },
     "execution_count": 22,
     "metadata": {},
     "output_type": "execute_result"
    }
   ],
   "source": [
    "phi = symbols('phi')\n",
    "A0.orient(A1, 'Axis', [phi, A1.z])  # Rotación phi alrededor del eje A1.z\n",
    "A0.dcm(A1)  # \"Direct Cosine Matrix\""
   ]
  },
  {
   "cell_type": "markdown",
   "metadata": {},
   "source": [
    "Usando el argumento `Axis` hemos especificado que rotamos el sistema un ángulo especificado alrededor de un eje. Otros métodos son:\n",
    "\n",
    "* `Body`: se especifican los tres ángulos de Euler.\n",
    "* `Space`: igual que `Body`, pero las rotaciones se aplican en orden inverso.\n",
    "* `Quaternion`: utilizando cuaternios, rotación alrededor de un vector unitario $\\lambda$ una cantidad $\\theta$."
   ]
  },
  {
   "cell_type": "markdown",
   "metadata": {},
   "source": [
    "<div class=\"alert alert-success\">¿Qué es lo bueno de usar uno de estos métodos? ¡Que **siempre** tenemos la transformación bien definida! Es imposible meter \"a capón\" una matriz de rotación que sea incorrecta o absurda.</div>"
   ]
  },
  {
   "cell_type": "markdown",
   "metadata": {},
   "source": [
    "#### Diferente sistema de referencia\n",
    "\n",
    "Para expresar un vector en otro sistema de referencia, no hay más que usar los métodos `express` o `to_matrix`:"
   ]
  },
  {
   "cell_type": "code",
   "execution_count": 23,
   "metadata": {},
   "outputs": [
    {
     "data": {
      "image/png": "[encoded data removed]",
      "text/latex": [
       "$$\\operatorname{cos}\\left(\\phi\\right)\\mathbf{i}_{1} + \\operatorname{sin}\\left(\\phi\\right)\\mathbf{j}_{1}$$"
      ],
      "text/plain": [
       "cos(φ) 1_x + sin(φ) 1_y"
      ]
     },
     "execution_count": 23,
     "metadata": {},
     "output_type": "execute_result"
    }
   ],
   "source": [
    "A0.x.express(A1)"
   ]
  },
  {
   "cell_type": "code",
   "execution_count": 24,
   "metadata": {},
   "outputs": [
    {
     "data": {
      "image/png": "[encoded data removed]",
      "text/latex": [
       "$$\\left[\\begin{matrix}\\cos{\\left (\\phi \\right )}\\\\\\sin{\\left (\\phi \\right )}\\\\0\\end{matrix}\\right]$$"
      ],
      "text/plain": [
       "⎡cos(φ)⎤\n",
       "⎢      ⎥\n",
       "⎢sin(φ)⎥\n",
       "⎢      ⎥\n",
       "⎣  0   ⎦"
      ]
     },
     "execution_count": 24,
     "metadata": {},
     "output_type": "execute_result"
    }
   ],
   "source": [
    "A0.x.to_matrix(A1)"
   ]
  },
  {
   "cell_type": "markdown",
   "metadata": {},
   "source": [
    "#### Símbolos dinámicos\n",
    "\n",
    "Si queremos especificar que un símbolo puede variar con el tiempo, hay que usar la función `dynamicsymbols`:"
   ]
  },
  {
   "cell_type": "code",
   "execution_count": 25,
   "metadata": {},
   "outputs": [],
   "source": [
    "from sympy.physics.mechanics import dynamicsymbols"
   ]
  },
  {
   "cell_type": "code",
   "execution_count": 26,
   "metadata": {},
   "outputs": [
    {
     "data": {
      "image/png": "[encoded data removed]",
      "text/latex": [
       "$$\\alpha{\\left (t \\right )}$$"
      ],
      "text/plain": [
       "α(t)"
      ]
     },
     "execution_count": 26,
     "metadata": {},
     "output_type": "execute_result"
    }
   ],
   "source": [
    "alpha = dynamicsymbols('alpha')\n",
    "alpha"
   ]
  },
  {
   "cell_type": "markdown",
   "metadata": {},
   "source": [
    "Y pedir su derivada con el método `diff`:"
   ]
  },
  {
   "cell_type": "code",
   "execution_count": 27,
   "metadata": {},
   "outputs": [
    {
     "data": {
      "image/png": "[encoded data removed]",
      "text/latex": [
       "$$\\frac{d}{d t} \\alpha{\\left (t \\right )}$$"
      ],
      "text/plain": [
       "d       \n",
       "──(α(t))\n",
       "dt      "
      ]
     },
     "execution_count": 27,
     "metadata": {},
     "output_type": "execute_result"
    }
   ],
   "source": [
    "alpha.diff()"
   ]
  },
  {
   "cell_type": "markdown",
   "metadata": {},
   "source": [
    "##### Ejercicio\n",
    "\n",
    "![Sistemas de ejes asociados a la pala](../static/ejes_pala.jpg)\n",
    "\n",
    "(Sacado de Cuerva et al. \"Teoría de los Helicópteros\")\n",
    "\n",
    "**Obtener la matriz de rotación de la pala $B$ respecto a los ejes $A1$.**"
   ]
  },
  {
   "cell_type": "code",
   "execution_count": 28,
   "metadata": {},
   "outputs": [],
   "source": [
    "A = IJKReferenceFrame(\"A\")"
   ]
  },
  {
   "cell_type": "code",
   "execution_count": 29,
   "metadata": {},
   "outputs": [
    {
     "data": {
      "image/png": "[encoded data removed]",
      "text/latex": [
       "$$\\left[\\begin{matrix}\\cos{\\left (\\psi{\\left (t \\right )} \\right )} & \\sin{\\left (\\psi{\\left (t \\right )} \\right )} & 0\\\\- \\sin{\\left (\\psi{\\left (t \\right )} \\right )} & \\cos{\\left (\\psi{\\left (t \\right )} \\right )} & 0\\\\0 & 0 & 1\\end{matrix}\\right]$$"
      ],
      "text/plain": [
       "⎡cos(ψ(t))   sin(ψ(t))  0⎤\n",
       "⎢                        ⎥\n",
       "⎢-sin(ψ(t))  cos(ψ(t))  0⎥\n",
       "⎢                        ⎥\n",
       "⎣    0           0      1⎦"
      ]
     },
     "execution_count": 29,
     "metadata": {},
     "output_type": "execute_result"
    }
   ],
   "source": [
    "A1 = IJKReferenceFrame(\"A1\")\n",
    "psi = dynamicsymbols('psi')\n",
    "A1.orient(A, 'Axis', [psi, A.z])\n",
    "A1.dcm(A)  # T_{A1A}"
   ]
  },
  {
   "cell_type": "code",
   "execution_count": 30,
   "metadata": {},
   "outputs": [
    {
     "data": {
      "image/png": "[encoded data removed]",
      "text/latex": [
       "$$\\left[\\begin{matrix}\\cos{\\left (\\beta{\\left (t \\right )} \\right )} & 0 & \\sin{\\left (\\beta{\\left (t \\right )} \\right )}\\\\0 & 1 & 0\\\\- \\sin{\\left (\\beta{\\left (t \\right )} \\right )} & 0 & \\cos{\\left (\\beta{\\left (t \\right )} \\right )}\\end{matrix}\\right]$$"
      ],
      "text/plain": [
       "⎡cos(β(t))   0  sin(β(t))⎤\n",
       "⎢                        ⎥\n",
       "⎢    0       1      0    ⎥\n",
       "⎢                        ⎥\n",
       "⎣-sin(β(t))  0  cos(β(t))⎦"
      ]
     },
     "execution_count": 30,
     "metadata": {},
     "output_type": "execute_result"
    }
   ],
   "source": [
    "A2 = IJKReferenceFrame(\"A2\")\n",
    "beta = dynamicsymbols('beta')\n",
    "A2.orient(A1, 'Axis', [beta, -A1.y])\n",
    "A2.dcm(A1)  # T_{A2A1}"
   ]
  },
  {
   "cell_type": "code",
   "execution_count": 31,
   "metadata": {},
   "outputs": [
    {
     "data": {
      "image/png": "[encoded data removed]",
      "text/latex": [
       "$$\\left[\\begin{matrix}\\cos{\\left (\\beta{\\left (t \\right )} \\right )} \\cos{\\left (\\zeta{\\left (t \\right )} \\right )} & \\sin{\\left (\\zeta{\\left (t \\right )} \\right )} & \\sin{\\left (\\beta{\\left (t \\right )} \\right )} \\cos{\\left (\\zeta{\\left (t \\right )} \\right )}\\\\- \\sin{\\left (\\zeta{\\left (t \\right )} \\right )} \\cos{\\left (\\beta{\\left (t \\right )} \\right )} & \\cos{\\left (\\zeta{\\left (t \\right )} \\right )} & - \\sin{\\left (\\beta{\\left (t \\right )} \\right )} \\sin{\\left (\\zeta{\\left (t \\right )} \\right )}\\\\- \\sin{\\left (\\beta{\\left (t \\right )} \\right )} & 0 & \\cos{\\left (\\beta{\\left (t \\right )} \\right )}\\end{matrix}\\right]$$"
      ],
      "text/plain": [
       "⎡cos(β(t))⋅cos(ζ(t))   sin(ζ(t))  sin(β(t))⋅cos(ζ(t)) ⎤\n",
       "⎢                                                     ⎥\n",
       "⎢-sin(ζ(t))⋅cos(β(t))  cos(ζ(t))  -sin(β(t))⋅sin(ζ(t))⎥\n",
       "⎢                                                     ⎥\n",
       "⎣     -sin(β(t))           0           cos(β(t))      ⎦"
      ]
     },
     "execution_count": 31,
     "metadata": {},
     "output_type": "execute_result"
    }
   ],
   "source": [
    "A3 = IJKReferenceFrame(\"A3\")\n",
    "zeta = dynamicsymbols('zeta')\n",
    "A3.orient(A2, 'Axis', [zeta, A2.z])\n",
    "A3.dcm(A1)  # T_{A3A1}"
   ]
  },
  {
   "cell_type": "code",
   "execution_count": 32,
   "metadata": {},
   "outputs": [
    {
     "data": {
      "image/png": "[encoded data removed]",
      "text/latex": [
       "$$\\left[\\begin{matrix}1 & 0 & 0\\\\0 & \\cos{\\left (\\theta{\\left (t \\right )} \\right )} & \\sin{\\left (\\theta{\\left (t \\right )} \\right )}\\\\0 & - \\sin{\\left (\\theta{\\left (t \\right )} \\right )} & \\cos{\\left (\\theta{\\left (t \\right )} \\right )}\\end{matrix}\\right]$$"
      ],
      "text/plain": [
       "⎡1      0           0    ⎤\n",
       "⎢                        ⎥\n",
       "⎢0  cos(θ(t))   sin(θ(t))⎥\n",
       "⎢                        ⎥\n",
       "⎣0  -sin(θ(t))  cos(θ(t))⎦"
      ]
     },
     "execution_count": 32,
     "metadata": {},
     "output_type": "execute_result"
    }
   ],
   "source": [
    "B = IJKReferenceFrame(\"B\")\n",
    "theta = dynamicsymbols('theta')\n",
    "B.orient(A3, 'Axis', [theta, A3.x])\n",
    "B.dcm(A3)  # T_{BA3}"
   ]
  },
  {
   "cell_type": "code",
   "execution_count": 33,
   "metadata": {},
   "outputs": [
    {
     "data": {
      "image/png": "[encoded data removed]",
      "text/latex": [
       "$$\\left[\\begin{matrix}\\cos{\\left (\\zeta{\\left (t \\right )} \\right )} & \\sin{\\left (\\zeta{\\left (t \\right )} \\right )} & 0\\\\- \\sin{\\left (\\zeta{\\left (t \\right )} \\right )} \\cos{\\left (\\theta{\\left (t \\right )} \\right )} & \\cos{\\left (\\theta{\\left (t \\right )} \\right )} \\cos{\\left (\\zeta{\\left (t \\right )} \\right )} & \\sin{\\left (\\theta{\\left (t \\right )} \\right )}\\\\\\sin{\\left (\\theta{\\left (t \\right )} \\right )} \\sin{\\left (\\zeta{\\left (t \\right )} \\right )} & - \\sin{\\left (\\theta{\\left (t \\right )} \\right )} \\cos{\\left (\\zeta{\\left (t \\right )} \\right )} & \\cos{\\left (\\theta{\\left (t \\right )} \\right )}\\end{matrix}\\right]$$"
      ],
      "text/plain": [
       "⎡     cos(ζ(t))             sin(ζ(t))            0    ⎤\n",
       "⎢                                                     ⎥\n",
       "⎢-sin(ζ(t))⋅cos(θ(t))  cos(θ(t))⋅cos(ζ(t))   sin(θ(t))⎥\n",
       "⎢                                                     ⎥\n",
       "⎣sin(θ(t))⋅sin(ζ(t))   -sin(θ(t))⋅cos(ζ(t))  cos(θ(t))⎦"
      ]
     },
     "execution_count": 33,
     "metadata": {},
     "output_type": "execute_result"
    }
   ],
   "source": [
    "B.dcm(A2)"
   ]
  },
  {
   "cell_type": "code",
   "execution_count": 34,
   "metadata": {},
   "outputs": [
    {
     "data": {
      "image/png": "[encoded data removed]",
      "text/latex": [
       "$$\\left[\\begin{matrix}\\cos{\\left (\\beta{\\left (t \\right )} \\right )} \\cos{\\left (\\zeta{\\left (t \\right )} \\right )} & \\sin{\\left (\\zeta{\\left (t \\right )} \\right )} & \\sin{\\left (\\beta{\\left (t \\right )} \\right )} \\cos{\\left (\\zeta{\\left (t \\right )} \\right )}\\\\- \\sin{\\left (\\beta{\\left (t \\right )} \\right )} \\sin{\\left (\\theta{\\left (t \\right )} \\right )} - \\sin{\\left (\\zeta{\\left (t \\right )} \\right )} \\cos{\\left (\\beta{\\left (t \\right )} \\right )} \\cos{\\left (\\theta{\\left (t \\right )} \\right )} & \\cos{\\left (\\theta{\\left (t \\right )} \\right )} \\cos{\\left (\\zeta{\\left (t \\right )} \\right )} & - \\sin{\\left (\\beta{\\left (t \\right )} \\right )} \\sin{\\left (\\zeta{\\left (t \\right )} \\right )} \\cos{\\left (\\theta{\\left (t \\right )} \\right )} + \\sin{\\left (\\theta{\\left (t \\right )} \\right )} \\cos{\\left (\\beta{\\left (t \\right )} \\right )}\\\\- \\sin{\\left (\\beta{\\left (t \\right )} \\right )} \\cos{\\left (\\theta{\\left (t \\right )} \\right )} + \\sin{\\left (\\theta{\\left (t \\right )} \\right )} \\sin{\\left (\\zeta{\\left (t \\right )} \\right )} \\cos{\\left (\\beta{\\left (t \\right )} \\right )} & - \\sin{\\left (\\theta{\\left (t \\right )} \\right )} \\cos{\\left (\\zeta{\\left (t \\right )} \\right )} & \\sin{\\left (\\beta{\\left (t \\right )} \\right )} \\sin{\\left (\\theta{\\left (t \\right )} \\right )} \\sin{\\left (\\zeta{\\left (t \\right )} \\right )} + \\cos{\\left (\\beta{\\left (t \\right )} \\right )} \\cos{\\left (\\theta{\\left (t \\right )} \\right )}\\end{matrix}\\right]$$"
      ],
      "text/plain": [
       "⎡                cos(β(t))⋅cos(ζ(t))                        sin(ζ(t))         \n",
       "⎢                                                                             \n",
       "⎢-sin(β(t))⋅sin(θ(t)) - sin(ζ(t))⋅cos(β(t))⋅cos(θ(t))  cos(θ(t))⋅cos(ζ(t))   -\n",
       "⎢                                                                             \n",
       "⎣-sin(β(t))⋅cos(θ(t)) + sin(θ(t))⋅sin(ζ(t))⋅cos(β(t))  -sin(θ(t))⋅cos(ζ(t))  s\n",
       "\n",
       "               sin(β(t))⋅cos(ζ(t))                 ⎤\n",
       "                                                   ⎥\n",
       "sin(β(t))⋅sin(ζ(t))⋅cos(θ(t)) + sin(θ(t))⋅cos(β(t))⎥\n",
       "                                                   ⎥\n",
       "in(β(t))⋅sin(θ(t))⋅sin(ζ(t)) + cos(β(t))⋅cos(θ(t)) ⎦"
      ]
     },
     "execution_count": 34,
     "metadata": {},
     "output_type": "execute_result"
    }
   ],
   "source": [
    "B.dcm(A1)"
   ]
  },
  {
   "cell_type": "markdown",
   "metadata": {},
   "source": [
    "#### Velocidad angular\n",
    "\n",
    "También podemos hallar la velocidad angular de un sistema respecto a otro usando el método `ang_vel_in`:"
   ]
  },
  {
   "cell_type": "code",
   "execution_count": 35,
   "metadata": {},
   "outputs": [
    {
     "data": {
      "image/png": "[encoded data removed]",
      "text/latex": [
       "$$\\dot{\\theta}\\mathbf{i}_{A3} + \\dot{\\zeta}\\mathbf{k}_{A2}$$"
      ],
      "text/plain": [
       "d               d\n",
       "──(θ(t)) a3_x + ──(ζ(t)) a2_z\n",
       "dt              dt"
      ]
     },
     "execution_count": 35,
     "metadata": {},
     "output_type": "execute_result"
    }
   ],
   "source": [
    "B.ang_vel_in(A2)"
   ]
  },
  {
   "cell_type": "code",
   "execution_count": 36,
   "metadata": {},
   "outputs": [
    {
     "data": {
      "image/png": "[encoded data removed]",
      "text/latex": [
       "$$\\dot{\\psi}\\mathbf{k}_{A} + \\dot{\\theta}\\mathbf{i}_{A3} + \\dot{\\zeta}\\mathbf{k}_{A2} -  \\dot{\\beta}\\mathbf{j}_{A1}$$"
      ],
      "text/plain": [
       "d              d               d                d\n",
       "──(ψ(t)) a_z + ──(θ(t)) a3_x + ──(ζ(t)) a2_z + -──(β(t)) a1_y\n",
       "dt             dt              dt               dt"
      ]
     },
     "execution_count": 36,
     "metadata": {},
     "output_type": "execute_result"
    }
   ],
   "source": [
    "B.ang_vel_in(A)"
   ]
  },
  {
   "cell_type": "code",
   "execution_count": 37,
   "metadata": {},
   "outputs": [
    {
     "data": {
      "image/png": "[encoded data removed]",
      "text/latex": [
       "$$(\\left(- \\operatorname{sin}\\left(\\psi\\right) \\operatorname{sin}\\left(\\zeta\\right) + \\operatorname{cos}\\left(\\beta\\right) \\operatorname{cos}\\left(\\psi\\right) \\operatorname{cos}\\left(\\zeta\\right)\\right) \\dot{\\theta} - \\operatorname{sin}\\left(\\beta\\right) \\operatorname{cos}\\left(\\psi\\right) \\dot{\\zeta} + \\operatorname{sin}\\left(\\psi\\right) \\dot{\\beta})\\mathbf{i}_{A} + (\\left(\\operatorname{sin}\\left(\\psi\\right) \\operatorname{cos}\\left(\\beta\\right) \\operatorname{cos}\\left(\\zeta\\right) + \\operatorname{sin}\\left(\\zeta\\right) \\operatorname{cos}\\left(\\psi\\right)\\right) \\dot{\\theta} - \\operatorname{sin}\\left(\\beta\\right) \\operatorname{sin}\\left(\\psi\\right) \\dot{\\zeta} - \\operatorname{cos}\\left(\\psi\\right) \\dot{\\beta})\\mathbf{j}_{A} + (\\operatorname{sin}\\left(\\beta\\right) \\operatorname{cos}\\left(\\zeta\\right) \\dot{\\theta} + \\operatorname{cos}\\left(\\beta\\right) \\dot{\\zeta} + \\dot{\\psi})\\mathbf{k}_{A}$$"
      ],
      "text/plain": [
       "⎛                                                       d\n",
       "⎜(-sin(ψ(t))⋅sin(ζ(t)) + cos(β(t))⋅cos(ψ(t))⋅cos(ζ(t)))⋅──(θ(t)) - sin(β(t))⋅c\n",
       "⎝                                                       dt\n",
       "\n",
       "         d                    d       ⎞       ⎛\n",
       "os(ψ(t))⋅──(ζ(t)) + sin(ψ(t))⋅──(β(t))⎟ a_x + ⎜(sin(ψ(t))⋅cos(β(t))⋅cos(ζ(t))\n",
       "         dt                   dt      ⎠       ⎝\n",
       "\n",
       "                       d                              d                    d\n",
       "+ sin(ζ(t))⋅cos(ψ(t)))⋅──(θ(t)) - sin(β(t))⋅sin(ψ(t))⋅──(ζ(t)) - cos(ψ(t))⋅──(\n",
       "                       dt                             dt                   dt\n",
       "\n",
       "     ⎞       ⎛                    d                    d          d       ⎞\n",
       "β(t))⎟ a_y + ⎜sin(β(t))⋅cos(ζ(t))⋅──(θ(t)) + cos(β(t))⋅──(ζ(t)) + ──(ψ(t))⎟ a_\n",
       "     ⎠       ⎝                    dt                   dt         dt      ⎠\n",
       "\n",
       "\n",
       "z\n"
      ]
     },
     "execution_count": 37,
     "metadata": {},
     "output_type": "execute_result"
    }
   ],
   "source": [
    "B.ang_vel_in(A).express(A)"
   ]
  },
  {
   "cell_type": "markdown",
   "metadata": {},
   "source": [
    "### Derivada en ejes móviles\n",
    "\n",
    "Hacer una derivada con la fórmula lo hace cualquiera, pero SymPy puede encargarse automáticamente."
   ]
  },
  {
   "cell_type": "code",
   "execution_count": 38,
   "metadata": {},
   "outputs": [
    {
     "data": {
      "image/png": "[encoded data removed]",
      "text/latex": [
       "$$\\mathbf{i}_{A1}$$"
      ],
      "text/plain": [
       "a1_x"
      ]
     },
     "execution_count": 38,
     "metadata": {},
     "output_type": "execute_result"
    }
   ],
   "source": [
    "v1 = A1.x\n",
    "v1"
   ]
  },
  {
   "cell_type": "code",
   "execution_count": 39,
   "metadata": {},
   "outputs": [
    {
     "data": {
      "image/png": "[encoded data removed]",
      "text/latex": [
       "$$(\\operatorname{sin}^{2}\\left(\\psi\\right) \\dot{\\psi} + \\operatorname{cos}^{2}\\left(\\psi\\right) \\dot{\\psi})\\mathbf{j}_{A1}$$"
      ],
      "text/plain": [
       "⎛   2       d             2       d       ⎞\n",
       "⎜sin (ψ(t))⋅──(ψ(t)) + cos (ψ(t))⋅──(ψ(t))⎟ a1_y\n",
       "⎝           dt                    dt      ⎠"
      ]
     },
     "execution_count": 39,
     "metadata": {},
     "output_type": "execute_result"
    }
   ],
   "source": [
    "#v1.diff(dynamicsymbols._t, A2)\n",
    "dv1 = v1.diff(symbols('t'), A)\n",
    "dv1"
   ]
  },
  {
   "cell_type": "code",
   "execution_count": 40,
   "metadata": {},
   "outputs": [
    {
     "data": {
      "image/png": "[encoded data removed]",
      "text/latex": [
       "$$\\left[\\begin{matrix}0\\\\\\sin^{2}{\\left (\\psi{\\left (t \\right )} \\right )} \\frac{d}{d t} \\psi{\\left (t \\right )} + \\cos^{2}{\\left (\\psi{\\left (t \\right )} \\right )} \\frac{d}{d t} \\psi{\\left (t \\right )}\\\\0\\end{matrix}\\right]$$"
      ],
      "text/plain": [
       "⎡                    0                    ⎤\n",
       "⎢                                         ⎥\n",
       "⎢   2       d             2       d       ⎥\n",
       "⎢sin (ψ(t))⋅──(ψ(t)) + cos (ψ(t))⋅──(ψ(t))⎥\n",
       "⎢           dt                    dt      ⎥\n",
       "⎢                                         ⎥\n",
       "⎣                    0                    ⎦"
      ]
     },
     "execution_count": 40,
     "metadata": {},
     "output_type": "execute_result"
    }
   ],
   "source": [
    "dv1.to_matrix(A1)"
   ]
  },
  {
   "cell_type": "code",
   "execution_count": 41,
   "metadata": {},
   "outputs": [
    {
     "data": {
      "image/png": "[encoded data removed]",
      "text/latex": [
       "$$\\frac{d}{d t} \\psi{\\left (t \\right )}$$"
      ],
      "text/plain": [
       "d       \n",
       "──(ψ(t))\n",
       "dt      "
      ]
     },
     "execution_count": 41,
     "metadata": {},
     "output_type": "execute_result"
    }
   ],
   "source": [
    "(dv1 & A1.j).simplify()"
   ]
  },
  {
   "cell_type": "markdown",
   "metadata": {},
   "source": [
    "### Puntos, velocidades y la rueda que no desliza"
   ]
  },
  {
   "cell_type": "markdown",
   "metadata": {},
   "source": [
    "El último paso que nos queda para completar la cinemática es la posibilidad de definir puntos en sólidos y aplicar su campo de velocidades. SymPy también permite esto, y para ello no tenemos más que importar la clase `Point`."
   ]
  },
  {
   "cell_type": "code",
   "execution_count": 42,
   "metadata": {},
   "outputs": [],
   "source": [
    "from sympy.physics.mechanics import Point"
   ]
  },
  {
   "cell_type": "code",
   "execution_count": 43,
   "metadata": {},
   "outputs": [],
   "source": [
    "O = Point(\"O\")"
   ]
  },
  {
   "cell_type": "markdown",
   "metadata": {},
   "source": [
    "Para trabajar como lo haríamos en la escuela, vamos a especificar que $O$ es el origen de $A$, y para eso vamos a imponer que su velocidad es cero con el método `set_vel`:"
   ]
  },
  {
   "cell_type": "code",
   "execution_count": 44,
   "metadata": {},
   "outputs": [],
   "source": [
    "O.set_vel(A, 0)"
   ]
  },
  {
   "cell_type": "markdown",
   "metadata": {},
   "source": [
    "Para definir nuevos puntos, podemos utilizar el método `locate_new`:"
   ]
  },
  {
   "cell_type": "code",
   "execution_count": 45,
   "metadata": {},
   "outputs": [],
   "source": [
    "e_b = symbols('e_b')\n",
    "E_b = O.locatenew('E_b', e_b * A1.x)"
   ]
  },
  {
   "cell_type": "markdown",
   "metadata": {},
   "source": [
    "Y para obtener vectores de un punto a otro, el método `pos_from`:"
   ]
  },
  {
   "cell_type": "code",
   "execution_count": 46,
   "metadata": {},
   "outputs": [
    {
     "data": {
      "image/png": "[encoded data removed]",
      "text/latex": [
       "$$e_{b}\\mathbf{i}_{A1}$$"
      ],
      "text/plain": [
       "e_b a1_x"
      ]
     },
     "execution_count": 46,
     "metadata": {},
     "output_type": "execute_result"
    }
   ],
   "source": [
    "E_b.pos_from(O)"
   ]
  },
  {
   "cell_type": "markdown",
   "metadata": {},
   "source": [
    "<div class=\"alert alert-info\">La notación de este paquete está influenciada por el libro Kane, T. R. & Levinson, D. A. \"Dynamics, Theory and Applications\". Es ligeramente distinto a como estudiamos nosotros en la escuela, pero ¡están abiertos a que les hagamos cualquier tipo de sugerencia! https://github.com/sympy/sympy/issues/2584#issuecomment-31552654</div>"
   ]
  },
  {
   "cell_type": "markdown",
   "metadata": {},
   "source": [
    "Por último, el **campo de velocidades de un sólido rígido** se formula usando el método `v2pt_theory`.\n",
    "\n",
    "$$v^P_A = v^O_A + \\omega_{A_1 A} \\times \\mathbf{OP}$$\n",
    "\n",
    "Este método pertenece *al punto del cual queremos conocer la velocidad* y recibe tres parámetros:\n",
    "\n",
    "* `O`, punto de velocidad conocida respecto a A\n",
    "* `A`, sistema de referencia donde queremos calcular la velocidad\n",
    "* `A1`, sistema de referencia donde están fijos ambos puntos (_sistema de arrastre_)\n"
   ]
  },
  {
   "cell_type": "markdown",
   "metadata": {},
   "source": [
    "Por tanto, para hallar la velocidad del punto que acabamos de crear:"
   ]
  },
  {
   "cell_type": "code",
   "execution_count": 47,
   "metadata": {},
   "outputs": [
    {
     "data": {
      "image/png": "[encoded data removed]",
      "text/latex": [
       "$$e_{b} \\dot{\\psi}\\mathbf{j}_{A1}$$"
      ],
      "text/plain": [
       "    d       \n",
       "e_b⋅──(ψ(t))\n",
       "    dt       a1_y"
      ]
     },
     "execution_count": 47,
     "metadata": {},
     "output_type": "execute_result"
    }
   ],
   "source": [
    "E_b.v2pt_theory(O, A, A1)"
   ]
  },
  {
   "cell_type": "markdown",
   "metadata": {},
   "source": [
    "##### Ejercicio\n",
    "\n",
    "![Disco que rueda](../static/disco.png)\n",
    "\n",
    "(Apuntes de Óscar López Rebollal)\n",
    "\n",
    "**¡Halla la velocidad y la aceleración de $P$!**"
   ]
  },
  {
   "cell_type": "code",
   "execution_count": 48,
   "metadata": {},
   "outputs": [],
   "source": [
    "# Creamos nuestros sistemas de referencia\n",
    "A1 = IJKReferenceFrame('1')\n",
    "A0 = IJKReferenceFrame('0')\n",
    "A2 = IJKReferenceFrame('2')"
   ]
  },
  {
   "cell_type": "code",
   "execution_count": 49,
   "metadata": {},
   "outputs": [
    {
     "data": {
      "image/png": "[encoded data removed]",
      "text/latex": [
       "$$\\left ( \\xi{\\left (t \\right )}, \\quad \\theta{\\left (t \\right )}\\right )$$"
      ],
      "text/plain": [
       "(ξ(t), θ(t))"
      ]
     },
     "execution_count": 49,
     "metadata": {},
     "output_type": "execute_result"
    }
   ],
   "source": [
    "# Creamos los símbolos dinámicos necesarios\n",
    "xi, theta = dynamicsymbols('xi, theta')\n",
    "xi, theta"
   ]
  },
  {
   "cell_type": "code",
   "execution_count": 50,
   "metadata": {},
   "outputs": [],
   "source": [
    "# Orientamos los sistemas de referencia\n",
    "A0.orient(A1, 'Axis', [0, A1.k])  # A0 no gira respecto a A1\n",
    "A2.orient(A0, 'Axis', [theta, A0.k])"
   ]
  },
  {
   "cell_type": "code",
   "execution_count": 51,
   "metadata": {},
   "outputs": [
    {
     "data": {
      "image/png": "[encoded data removed]",
      "text/latex": [
       "$$\\left[\\begin{matrix}\\cos{\\left (\\theta{\\left (t \\right )} \\right )} & \\sin{\\left (\\theta{\\left (t \\right )} \\right )} & 0\\\\- \\sin{\\left (\\theta{\\left (t \\right )} \\right )} & \\cos{\\left (\\theta{\\left (t \\right )} \\right )} & 0\\\\0 & 0 & 1\\end{matrix}\\right]$$"
      ],
      "text/plain": [
       "⎡cos(θ(t))   sin(θ(t))  0⎤\n",
       "⎢                        ⎥\n",
       "⎢-sin(θ(t))  cos(θ(t))  0⎥\n",
       "⎢                        ⎥\n",
       "⎣    0           0      1⎦"
      ]
     },
     "execution_count": 51,
     "metadata": {},
     "output_type": "execute_result"
    }
   ],
   "source": [
    "A2.dcm(A1)"
   ]
  },
  {
   "cell_type": "code",
   "execution_count": 52,
   "metadata": {},
   "outputs": [],
   "source": [
    "# Creamos el punto C, centro del disco, y especificamos su velocidad\n",
    "# respecto a A1\n",
    "C = Point('C')\n",
    "C.set_vel(A1, xi.diff() * A1.x)"
   ]
  },
  {
   "cell_type": "code",
   "execution_count": 53,
   "metadata": {},
   "outputs": [
    {
     "data": {
      "image/png": "[encoded data removed]",
      "text/latex": [
       "$$-  R\\mathbf{j}_{2}$$"
      ],
      "text/plain": [
       "- R 2_y"
      ]
     },
     "execution_count": 53,
     "metadata": {},
     "output_type": "execute_result"
    }
   ],
   "source": [
    "# Localizamos el punto P, punto fijo del disco, respecto a C, en\n",
    "# el sistema A2 (que gira solidariamente con el disco)\n",
    "R = symbols('R')\n",
    "P = C.locatenew('P', -R * A2.j)\n",
    "P.pos_from(C)"
   ]
  },
  {
   "cell_type": "code",
   "execution_count": 54,
   "metadata": {},
   "outputs": [
    {
     "data": {
      "image/png": "[encoded data removed]",
      "text/latex": [
       "$$(R \\operatorname{cos}\\left(\\theta\\right) \\dot{\\theta} + \\dot{\\xi})\\mathbf{i}_{0} + R \\operatorname{sin}\\left(\\theta\\right) \\dot{\\theta}\\mathbf{j}_{0}$$"
      ],
      "text/plain": [
       "⎛            d          d       ⎞\n",
       "⎜R⋅cos(θ(t))⋅──(θ(t)) + ──(ξ(t))⎟\n",
       "⎝            dt         dt      ⎠ 0_x +             d       \n",
       "R⋅sin(θ(t))⋅──(θ(t))\n",
       "            dt       0_y"
      ]
     },
     "execution_count": 54,
     "metadata": {},
     "output_type": "execute_result"
    }
   ],
   "source": [
    "# Hallamos la velocidad de P en A1, expresada en A0\n",
    "# ¡Con esta llamada ya estamos diciendo que C y P son fijos en A2!\n",
    "P.v2pt_theory(C, A1, A2).express(A0)"
   ]
  },
  {
   "cell_type": "markdown",
   "metadata": {},
   "source": [
    "**Misión cumplida :)**"
   ]
  },
  {
   "cell_type": "markdown",
   "metadata": {},
   "source": [
    "---"
   ]
  },
  {
   "cell_type": "markdown",
   "metadata": {},
   "source": [
    "_Hemos hecho un repaso bastante profundo de las posibilidades del paquete `mechanics` de SymPy. Nos hemos dejado algunas cosas en el tintero pero no demasiadas: esta funcionalidad aún se está expandiendo y necesita pulir algunos detalles._\n",
    "\n",
    "**Referencias**\n",
    "\n",
    "* Capítulo de **aeromecánica** del libro de Cuerva y otros http://nbviewer.ipython.org/gist/Juanlu001/7711865\n",
    "* Estabilidad longitudinal de un Boeing 747 http://nbviewer.ipython.org/github/AlexS12/Mecanica_Vuelo/blob/master/MVII_MatrizSistema.ipynb\n",
    "\n",
    "_¿Serás tú el siguiente que publique un notebook usando SymPy? ;)_"
   ]
  }
 ],
 "metadata": {
  "anaconda-cloud": {},
  "kernelspec": {
   "display_name": "Python [conda root]",
   "language": "python",
   "name": "conda-root-py"
  },
  "language_info": {
   "codemirror_mode": {
    "name": "ipython",
    "version": 3
   },
   "file_extension": ".py",
   "mimetype": "text/x-python",
   "name": "python",
   "nbconvert_exporter": "python",
   "pygments_lexer": "ipython3",
   "version": "3.5.5"
  }
 },
 "nbformat": 4,
 "nbformat_minor": 1
}
