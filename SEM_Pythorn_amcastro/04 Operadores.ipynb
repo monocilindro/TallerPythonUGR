{
 "cells": [
  {
   "cell_type": "markdown",
   "metadata": {},
   "source": [
    "# Operadores\n",
    "\n",
    "Alejandro E. Martínez Castro\n",
    "\n",
    "_Departamento de Mecánica de Estructuras e Ingeniería Hidráulica. \n",
    "Universidad de Granada_"
   ]
  },
  {
   "cell_type": "markdown",
   "metadata": {},
   "source": [
    "En esta sección se muestran los diferentes operadores incluidos con la librería standard de Python. "
   ]
  },
  {
   "cell_type": "code",
   "execution_count": 1,
   "metadata": {
    "collapsed": false
   },
   "outputs": [
    {
     "data": {
      "text/html": [
       "<table\n",
       "style=\"text-align: left; width: 100%; background-color: rgb(255, 255, 102);\"\n",
       "border=\"1\" cellpadding=\"2\" cellspacing=\"2\">\n",
       "<tbody>\n",
       "\n",
       "<tr>\n",
       "<th style=\"vertical-align: top;\">Operator\n",
       "</th>\n",
       "<th style=\"vertical-align: top;\">Description\n",
       "</th>\n",
       "<th  width=30% style=\"vertical-align: top;\">Example\n",
       "</th>\n",
       "</tr>\n",
       "\n",
       "<tr>\n",
       "<td style=\"vertical-align: top;\"><FONT FACE=\"Courier 10 Pitch\">\n",
       "+, -\n",
       "</FONT></td>\n",
       "<td style=\"vertical-align: top;\">Addition, Subtraction\n",
       "</td>\n",
       "<td style=\"vertical-align: top;\"><FONT FACE=\"Courier 10 Pitch\">\n",
       "10 -3 \n",
       "</FONT></td>\n",
       "</tr>\n",
       "\n",
       "<tr>\n",
       "<td style=\"vertical-align: top;\"><FONT FACE=\"Courier 10 Pitch\">\n",
       "*, /, %\n",
       "</FONT></td>\n",
       "<td style=\"vertical-align: top;\">\n",
       "Multiplication, Division, Modulo</td>\n",
       "<td style=\"vertical-align: top;\"><FONT FACE=\"Courier 10 Pitch\">\n",
       "27 % 7<br>Result: 6\n",
       "</FONT></td>\n",
       "</tr>\n",
       "\n",
       "<tr>\n",
       "<td style=\"vertical-align: top;\"><FONT FACE=\"Courier 10 Pitch\">\n",
       "//\n",
       "</FONT></td>\n",
       "<td style=\"vertical-align: top;\">\n",
       "Truncation Division (also known as floordivision or floor division)<br>The result of this  division is the integral part of the result, i.e. the fractional part is truncated, if there is any. If both the divident and the divisor are integers, the result will be also an integer. If either the divident or the divisor is a float, the result will be the truncated result as a float.</td>\n",
       "<td style=\"vertical-align: top;\"><FONT FACE=\"Courier 10 Pitch\">\n",
       "<FONT FACE=\"Courier 10 Pitch\">\n",
       ">>> 10 // 3\n",
       "<br>3\n",
       ">>> 10.0 // 3\n",
       "<br>3.0\n",
       ">>> \n",
       "</FONT></td>\n",
       "</tr>\n",
       "\n",
       "\n",
       "<tr>\n",
       "<td style=\"vertical-align: top;\"><FONT FACE=\"Courier 10 Pitch\">\n",
       "+x, -x\n",
       "</FONT></td>\n",
       "\n",
       "<td style=\"vertical-align: top;\">\n",
       "Unary minus and Unary plus (Algebraic signs)</td>\n",
       "<td style=\"vertical-align: top;\"><FONT FACE=\"Courier 10 Pitch\">\n",
       "-3\n",
       "</FONT></td>\n",
       "</tr>\n",
       "\n",
       "<tr>\n",
       "<td style=\"vertical-align: top;\"><FONT FACE=\"Courier 10 Pitch\">\n",
       "~x\n",
       "</FONT></td>\n",
       "<td style=\"vertical-align: top;\">\n",
       "Bitwise negation</td>\n",
       "<td style=\"vertical-align: top;\"><FONT FACE=\"Courier 10 Pitch\">\n",
       "~3 - 4<br>Result: -8\n",
       "</FONT></td>\n",
       "</tr>\n",
       "\n",
       "<tr>\n",
       "<td style=\"vertical-align: top;\"><FONT FACE=\"Courier 10 Pitch\">\n",
       "**\n",
       "</FONT></td>\n",
       "<td style=\"vertical-align: top;\">Exponentiation\n",
       "</td>\n",
       "<td style=\"vertical-align: top;\"><FONT FACE=\"Courier 10 Pitch\">\n",
       "10 ** 3<br>Result: 1000\n",
       "</FONT></td>\n",
       "</tr>\n",
       "\n",
       "<tr>\n",
       "<td style=\"vertical-align: top;\"><FONT FACE=\"Courier 10 Pitch\">\n",
       "or, and, not\n",
       "</FONT></td>\n",
       "<td style=\"vertical-align: top;\">\n",
       "Boolean Or, Boolean And, Boolean Not</td>\n",
       "<td style=\"vertical-align: top;\"><FONT FACE=\"Courier 10 Pitch\">\n",
       "(a or b) and c\n",
       "</FONT></td>\n",
       "</tr>\n",
       "\n",
       "<tr>\n",
       "<td style=\"vertical-align: top;\"><FONT FACE=\"Courier 10 Pitch\">\n",
       "in\n",
       "</FONT></td>\n",
       "<td style=\"vertical-align: top;\">\n",
       "\"Element of\"\n",
       "<td style=\"vertical-align: top;\"><FONT FACE=\"Courier 10 Pitch\">\n",
       "1 in [3, 2, 1]\n",
       "</FONT></td>\n",
       "</tr>\n",
       "\n",
       "<tr>\n",
       "<td style=\"vertical-align: top;\"><FONT FACE=\"Courier 10 Pitch\">\n",
       "<, <=, >, >=, !=, ==\n",
       "</FONT></td>\n",
       "<td style=\"vertical-align: top;\">\n",
       "The usual comparison operators\n",
       "<td style=\"vertical-align: top;\"><FONT FACE=\"Courier 10 Pitch\">\n",
       "2 <= 3\n",
       "</FONT></td>\n",
       "</tr>\n",
       "\n",
       "<tr>\n",
       "<td style=\"vertical-align: top;\"><FONT FACE=\"Courier 10 Pitch\">\n",
       "|, &, ^\n",
       "</FONT></td>\n",
       "<td style=\"vertical-align: top;\">\n",
       "Bitwise Or, Bitwise And, Bitwise XOR\n",
       "<td style=\"vertical-align: top;\"><FONT FACE=\"Courier 10 Pitch\">\n",
       "6 ^ 3\n",
       "</FONT></td>\n",
       "</tr>\n",
       "\n",
       "<tr>\n",
       "<td style=\"vertical-align: top;\"><FONT FACE=\"Courier 10 Pitch\">\n",
       "<<, >>\n",
       "</FONT></td>\n",
       "<td style=\"vertical-align: top;\">\n",
       "Shift Operators\n",
       "<td style=\"vertical-align: top;\"><FONT FACE=\"Courier 10 Pitch\">\n",
       "6 << 3\n",
       "</FONT></td>\n",
       "</tr>\n",
       "</tbody>\n",
       "</table>"
      ],
      "text/plain": [
       "<IPython.core.display.HTML object>"
      ]
     },
     "metadata": {},
     "output_type": "display_data"
    }
   ],
   "source": [
    "%%html\n",
    "operadores.html\n"
   ]
  },
  {
   "cell_type": "code",
   "execution_count": 2,
   "metadata": {
    "collapsed": false
   },
   "outputs": [
    {
     "data": {
      "text/plain": [
       "5"
      ]
     },
     "execution_count": 2,
     "metadata": {},
     "output_type": "execute_result"
    }
   ],
   "source": [
    "a = 2\n",
    "b = 3 \n",
    "a + b"
   ]
  },
  {
   "cell_type": "code",
   "execution_count": 3,
   "metadata": {
    "collapsed": false
   },
   "outputs": [
    {
     "data": {
      "text/plain": [
       "4"
      ]
     },
     "execution_count": 3,
     "metadata": {},
     "output_type": "execute_result"
    }
   ],
   "source": [
    "b += 1 # Equivalente a b = b + 1\n",
    "b"
   ]
  },
  {
   "cell_type": "code",
   "execution_count": null,
   "metadata": {
    "collapsed": false
   },
   "outputs": [],
   "source": [
    "25 % 2 # Módulo de la división entera de 25 entre 2"
   ]
  },
  {
   "cell_type": "code",
   "execution_count": null,
   "metadata": {
    "collapsed": false
   },
   "outputs": [],
   "source": [
    "10**3 # 10 elevado a 3"
   ]
  }
 ],
 "metadata": {
  "anaconda-cloud": {},
  "celltoolbar": "Raw Cell Format",
  "kernelspec": {
   "display_name": "Python [default]",
   "language": "python",
   "name": "python2"
  },
  "language_info": {
   "codemirror_mode": {
    "name": "ipython",
    "version": 2
   },
   "file_extension": ".py",
   "mimetype": "text/x-python",
   "name": "python",
   "nbconvert_exporter": "python",
   "pygments_lexer": "ipython2",
   "version": "2.7.12"
  }
 },
 "nbformat": 4,
 "nbformat_minor": 1
}
