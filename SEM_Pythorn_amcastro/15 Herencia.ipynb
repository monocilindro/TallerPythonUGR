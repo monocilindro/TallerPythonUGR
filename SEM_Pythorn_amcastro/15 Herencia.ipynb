{
 "cells": [
  {
   "cell_type": "markdown",
   "metadata": {},
   "source": [
    "# Herencia\n",
    "\n",
    "Alejandro E. Martínez Castro\n",
    "\n",
    "_Departamento de Mecánica de Estructuras e Ingeniería Hidráulica. \n",
    "Universidad de Granada_\n",
    "\n"
   ]
  },
  {
   "cell_type": "markdown",
   "metadata": {},
   "source": [
    "## Introducción\n",
    "\n",
    "Cada lenguaje de programación orientado a objetos utiliza el recurso de la herencia de clases.  Python soporta herencia, y multi-herencia. Las clases pueden heredar propiedades desde otras clases. La clase desde la cual se heredan las propiedades se denomina \"superclase\". Una clase que hereda de una superclase se denomina \"subclase\". Existe una relación jerárquica entre las clases. \n",
    "\n",
    "Para ver esto con un ejemplo, considere la siguiente figura, que muestra objetos relacionados con vehículos. \n",
    "\n",
    "\n",
    "<img class=\"imgright\" width=450 src=\"images/vehicles_classification.png\" alt=\"Classification of vehicles\" />\n",
    "\n",
    "Las motos, coches, autobuses o camiones son vehículos. Pero dentro de estos grupos, hay subgrupos. Se puede implementar una clase general en Python para los vehículos, que tengan funciones como acelerar o frenar. Estas funciones son comunes a las subclases, con independencia de que sean motos, o coches. \n",
    "\n",
    "Las motos, coches, autobuses y camiones se pueden implementar como subclases, las cuales heredan los métodos generales de la clase de referencia para los vehículos. "
   ]
  },
  {
   "cell_type": "markdown",
   "metadata": {},
   "source": [
    "## Sintaxis y ejemplo simple de herencia\n",
    "\n",
    "Se introducirá un ejemplo sencillo de herencia. Crearemos una clase Person con dos atributos \"firstname\" y \"lastname\". esta clase tiene sólo un método, Name. Este método permite generar una salida. \n",
    "\n",
    "A partir de la clase Person, se generarán subclases para definir a los empleados (Employee), que siendo personas, tienen unas características particulares. La clase Employee heredará los rasgos de la clase Person, pero tendrá también métodos propios. \n",
    "\n",
    "La sintaxis de una clase derivada es la siguiente: \n",
    "\n",
    "    class DerivedClassName(BaseClassName):\n",
    "        argumentos"
   ]
  },
  {
   "cell_type": "markdown",
   "metadata": {},
   "source": [
    "### Definición de la clase Person\n",
    "\n",
    "Se asume que una persona tiene un nombre y un apellido. Se genera la clase, que tiene como parámetros privados el nombre y apellido, y una función que actúa con el nombre y apellido, y simplemente los muestra concatenados."
   ]
  },
  {
   "cell_type": "code",
   "execution_count": 1,
   "metadata": {
    "collapsed": true
   },
   "outputs": [],
   "source": [
    "class Person:\n",
    "\n",
    "    def __init__(self, first, last):\n",
    "        self.firstname = first\n",
    "        self.lastname = last\n",
    "\n",
    "    def Name(self):\n",
    "        return self.firstname + \" \" + self.lastname\n"
   ]
  },
  {
   "cell_type": "markdown",
   "metadata": {},
   "source": [
    "### Definición de la subclase para un empleado\n",
    "\n",
    "Los empleados se generarán con la clase Employee. Un empleado es una Persona, esto está claro. Pero un empleado tiene un rasgo peculiar, que es un número de empleado, el cual no todas las personas lo tienen. Por eso, se genera la clase empleado, que heredará las características de una persona, pero añadirá métodos propios. \n",
    "\n"
   ]
  },
  {
   "cell_type": "code",
   "execution_count": 2,
   "metadata": {
    "collapsed": true
   },
   "outputs": [],
   "source": [
    "class Employee(Person):\n",
    "\n",
    "    def __init__(self, first, last, staffnum):\n",
    "        Person.__init__(self,first, last)\n",
    "        self.staffnumber = staffnum\n",
    "\n",
    "    def GetEmployee(self):\n",
    "        return self.Name() + \", \" +  self.staffnumber"
   ]
  },
  {
   "cell_type": "markdown",
   "metadata": {},
   "source": [
    "### Creación de un objeto\n",
    "\n",
    "A continuación se crea un objeto de tipo Person, y otro de tipo Employee"
   ]
  },
  {
   "cell_type": "code",
   "execution_count": 4,
   "metadata": {
    "collapsed": false
   },
   "outputs": [
    {
     "name": "stdout",
     "output_type": "stream",
     "text": [
      "Marge Simpson\n",
      "Homer Simpson, 1007\n"
     ]
    }
   ],
   "source": [
    "x = Person(\"Marge\", \"Simpson\")\n",
    "y = Employee(\"Homer\", \"Simpson\", \"1007\")\n",
    "\n",
    "print(x.Name())\n",
    "print(y.GetEmployee())"
   ]
  },
  {
   "cell_type": "code",
   "execution_count": null,
   "metadata": {
    "collapsed": true
   },
   "outputs": [],
   "source": []
  }
 ],
 "metadata": {
  "anaconda-cloud": {},
  "kernelspec": {
   "display_name": "Python [default]",
   "language": "python",
   "name": "python2"
  },
  "language_info": {
   "codemirror_mode": {
    "name": "ipython",
    "version": 2
   },
   "file_extension": ".py",
   "mimetype": "text/x-python",
   "name": "python",
   "nbconvert_exporter": "python",
   "pygments_lexer": "ipython2",
   "version": "2.7.12"
  }
 },
 "nbformat": 4,
 "nbformat_minor": 1
}
