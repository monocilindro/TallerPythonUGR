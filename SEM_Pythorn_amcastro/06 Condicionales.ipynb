{
 "cells": [
  {
   "cell_type": "markdown",
   "metadata": {},
   "source": [
    "# Condicionales\n",
    "\n",
    "Alejandro E. Martínez Castro\n",
    "\n",
    "_Departamento de Mecánica de Estructuras e Ingeniería Hidráulica. \n",
    "Universidad de Granada_"
   ]
  },
  {
   "cell_type": "markdown",
   "metadata": {},
   "source": [
    "En lenguajes de programación, las sentencias condicionales o _constructores condicionales_ se utilizan para realizar acciones dependiendo de ciertas condiciones, que se evalúan como _verdadero_ o _falso_. \n",
    "\n",
    "En Python, verdadero o falso se escribirá como True o False. \n",
    "\n",
    "Los condicionales utilizan comparaciones y expresiones aritméticas con variables. Estas expresiones se evalúan a sus valores booleanos True o False. Las sentencias para las cuales se toma la decisión se denominan sentencias condicionales (conditional statemensts), y se conocen como _expresiones condicionales_ o _constructores condicionales_. \n",
    "\n",
    "El constructor if-then (a veces llamada la clase if-then-else) es común entre los diferentes lenguajes de programación, pero la sintaxis varía de lenguaje en lenguaje."
   ]
  },
  {
   "cell_type": "markdown",
   "metadata": {},
   "source": [
    "## Condicionales con _if_\n",
    "\n",
    "La forma general de este condicional es: \n",
    "\n",
    "     if condition_1:\n",
    "        statement_block_1\n",
    "     elif condition_2:\n",
    "        statement_block_2\n",
    "     else:\n",
    "        statement_block_3\n",
    "        \n",
    "Si la condición \"condition_1\" es True (verdadera), se ejecutan las sentencias del bloque de sentencias 1. Si no, se comprueba la condición 2, y en caso de ser cierta, se ejecuta el bloque 2. Finalmente, si ninguno de las condiciones se cumple, se ejecuta el bloque de sentencias 3. \n",
    "\n",
    "### Ejemplo: equivalencia entre edad de un perro y de un hombre. \n",
    "\n",
    "A continuación se muestra un código que asigna la edad equivalente de un hombre en función de la edad de un perro. \n",
    "\n",
    "Observe cómo estructura el código Python. La indentación es suficiente para separar los bloques de código. \n",
    "\n",
    "Este código sólo funciona con números enteros para la edad. "
   ]
  },
  {
   "cell_type": "code",
   "execution_count": 1,
   "metadata": {
    "collapsed": false
   },
   "outputs": [
    {
     "name": "stdout",
     "output_type": "stream",
     "text": [
      "Edad del perro: 5\n",
      "\n",
      "Edad humana:  37\n"
     ]
    }
   ],
   "source": [
    "age = input(\"Edad del perro: \")\n",
    "print\n",
    "if age < 0:\n",
    "    print \"Es imposible!\"\n",
    "elif age == 1:\n",
    "    print \"en torno a 14 años humanos\"\n",
    "elif age == 2:\n",
    "    print \"en torno a 22 años humanos\"\n",
    "elif age > 2:\n",
    "    human = 22 + (age -2)*5\n",
    "    print \"Edad humana: \", human"
   ]
  },
  {
   "cell_type": "markdown",
   "metadata": {},
   "source": [
    "### Verdadero o falso\n",
    "\n",
    "Los siguientes objetos son evaluados como False por Python: \n",
    "\n",
    "+ Valores numéricos cero (0, 0L, 0.0, 0.0+0.0j)\n",
    "+ El valor booleano False\n",
    "+ Cadenas vacías\n",
    "+ Listas y tuplas vacías\n",
    "+ Diccionarios vacíos\n",
    "+ El valor especial None\n",
    "\n",
    "El resto de valores se consideran True"
   ]
  },
  {
   "cell_type": "code",
   "execution_count": 2,
   "metadata": {
    "collapsed": true
   },
   "outputs": [],
   "source": [
    "var_bool = 2 == 3"
   ]
  },
  {
   "cell_type": "code",
   "execution_count": 3,
   "metadata": {
    "collapsed": false
   },
   "outputs": [
    {
     "data": {
      "text/plain": [
       "False"
      ]
     },
     "execution_count": 3,
     "metadata": {},
     "output_type": "execute_result"
    }
   ],
   "source": [
    "var_bool"
   ]
  },
  {
   "cell_type": "code",
   "execution_count": 4,
   "metadata": {
    "collapsed": false
   },
   "outputs": [
    {
     "name": "stdout",
     "output_type": "stream",
     "text": [
      "Interpreta 1 como True\n"
     ]
    }
   ],
   "source": [
    "if 1: \n",
    "    print \"Interpreta 1 como True\""
   ]
  },
  {
   "cell_type": "code",
   "execution_count": 5,
   "metadata": {
    "collapsed": false
   },
   "outputs": [
    {
     "name": "stdout",
     "output_type": "stream",
     "text": [
      "Ha interpretado el 0 como False; por eso se ejecuta esta parte\n"
     ]
    }
   ],
   "source": [
    "if 0: \n",
    "    print \"Interpreta 1 como True\"\n",
    "else:\n",
    "    print \"Ha interpretado el 0 como False; por eso se ejecuta esta parte\""
   ]
  },
  {
   "cell_type": "markdown",
   "metadata": {},
   "source": [
    "### Forma abreviada\n",
    "\n",
    "El código \n",
    "   \n",
    "    max = (a > b) ? a : b; \n",
    "   \n",
    "es la forma abreviada en lenguaje C de: \n",
    "\n",
    "    if (a > b)\n",
    "       max=a;\n",
    "    else\n",
    "       max=b;\n",
    "       \n",
    "       \n",
    "En Python es posible escribir el condicional de forma abreviada. Obseve el siguiente código:"
   ]
  },
  {
   "cell_type": "code",
   "execution_count": 6,
   "metadata": {
    "collapsed": false
   },
   "outputs": [
    {
     "name": "stdout",
     "output_type": "stream",
     "text": [
      "El máximo es  20\n"
     ]
    }
   ],
   "source": [
    "a = 10\n",
    "b = 20\n",
    "\n",
    "max = a if (a > b) else b\n",
    "\n",
    "print \"El máximo es \", max"
   ]
  },
  {
   "cell_type": "markdown",
   "metadata": {},
   "source": [
    "Es equivalente al siguiente código,"
   ]
  },
  {
   "cell_type": "code",
   "execution_count": 7,
   "metadata": {
    "collapsed": false
   },
   "outputs": [
    {
     "name": "stdout",
     "output_type": "stream",
     "text": [
      "El máximo es  20\n"
     ]
    }
   ],
   "source": [
    "if a > b: \n",
    "    max = a\n",
    "else:\n",
    "    max = b\n",
    "\n",
    "print \"El máximo es \", max"
   ]
  },
  {
   "cell_type": "code",
   "execution_count": null,
   "metadata": {
    "collapsed": true
   },
   "outputs": [],
   "source": []
  }
 ],
 "metadata": {
  "anaconda-cloud": {},
  "kernelspec": {
   "display_name": "Python [default]",
   "language": "python",
   "name": "python2"
  },
  "language_info": {
   "codemirror_mode": {
    "name": "ipython",
    "version": 2
   },
   "file_extension": ".py",
   "mimetype": "text/x-python",
   "name": "python",
   "nbconvert_exporter": "python",
   "pygments_lexer": "ipython2",
   "version": "2.7.12"
  }
 },
 "nbformat": 4,
 "nbformat_minor": 1
}
