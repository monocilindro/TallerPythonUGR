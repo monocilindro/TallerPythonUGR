{
 "cells": [
  {
   "cell_type": "markdown",
   "metadata": {},
   "source": [
    "# El intérprete de Python\n",
    "\n",
    "Alejandro E. Martínez Castro\n",
    "\n",
    "_Departamento de Mecánica de Estructuras e Ingeniería Hidráulica. \n",
    "Universidad de Granada_"
   ]
  },
  {
   "cell_type": "markdown",
   "metadata": {},
   "source": [
    "## El intérprete en consola \n",
    "\n",
    "El uso más simple de Python es mediante el modo _consola_. Pruebe abrir una \"ventana\" de Python. Dependiendo de su sistema operativo, esto podrá hacerse: \n",
    "\n",
    "+ En Linux o Mac: abra una _shell_ del sistema operativo. \n",
    "+ En Windows: Si ha instalado Anaconda, podrá acceder a una ventana de Anaconda Prompt. También puede escribirse en Inicio-> Buscar Programas, \"cmd\". Esto abrirá una ventana del procesador de comandos. \n",
    "\n",
    "Dentro de esa ventana, pruebe escribir: \n",
    "\n",
    "    python\n",
    "\n",
    "Observará que se activa el modo intérprete. \n",
    "\n",
    "Para el seguimiento de esta parte del curso, siga las instrucciones que se verán en clase para aprender el manejo básico de:\n",
    "\n",
    "+ La terminal de Python. \n",
    "+ Python mejorado: Ipython. \n",
    "+ El entorno Spyder de Anaconda: un IDE gráfico parecido a Matlab. \n",
    "+ El servidor Jupyter. \n",
    "\n",
    "En lo que sigue de este documento, se presentan los comandos básicos dentro de un cuaderno de Ipython notebook. \n",
    "\n",
    "Para ejecutar las celdas, basta con pulsar a la vez las teclas \"Mayúscula derecha\" y \"Enter\". Pulse con el índice de la mano derecha la tecla que tiene una \"flechita\" hacia arriba. Una vez pulsado, y sin soltarla, pulse con el dedo corazón de la mano derecha la tecla \"Enter\". Tras esto, levante ambos dedos y verá que se ha ejecutado la celda. \n",
    "\n",
    "Todas las celdas de los cuadernos de Jupyter notebook son editables haciendo doble clik sobre las mismas. Pruebe hacer doble clik sobre ESTA celda, y verá que el texto fuente no está formateado. El título de esta sección, por ejemplo, aparecerá escrito con una \"doble almohadilla\" delante. Al hacer \"Mayúscula derecha + Enter\", el texto se formateará y quedará \"bonito\". \n",
    "\n",
    "Pruebe ejecutar la siguiente celda: \n",
    "\n",
    "\n"
   ]
  },
  {
   "cell_type": "code",
   "execution_count": 1,
   "metadata": {
    "collapsed": false
   },
   "outputs": [
    {
     "name": "stdout",
     "output_type": "stream",
     "text": [
      "Hola, mundo\n"
     ]
    }
   ],
   "source": [
    "print \"Hola, mundo\""
   ]
  },
  {
   "cell_type": "markdown",
   "metadata": {},
   "source": [
    "Pruebe ejecutar este mismo comando en su terminal de Python. Observe que en modo comandos, no es necesaria la sentencia \"print\". "
   ]
  },
  {
   "cell_type": "code",
   "execution_count": 2,
   "metadata": {
    "collapsed": false
   },
   "outputs": [
    {
     "data": {
      "text/plain": [
       "'Hola, mundo'"
      ]
     },
     "execution_count": 2,
     "metadata": {},
     "output_type": "execute_result"
    }
   ],
   "source": [
    "\"Hola, mundo\""
   ]
  },
  {
   "cell_type": "markdown",
   "metadata": {
    "collapsed": true
   },
   "source": [
    "## Ejecución de scripts\n",
    "\n",
    "Otra forma de trabajar con Python consiste en generar ficheros, con extensión .py, para ser ejecutados. Estos ficheros se denominan habitualmente _scripts_ de Python. \n",
    "\n",
    "Pruebe ejecutar el script _001-ejercicio1.py_ que se encuentra en el directorio de scripts de Python \"Ejercicios_scripts\", que se suministran junto a estos cuadernos, para ver cómo ejecutar scrips"
   ]
  },
  {
   "cell_type": "markdown",
   "metadata": {
    "collapsed": true
   },
   "source": [
    "## Python: lenguaje interpretado y compilado\n",
    "\n",
    "Probablemente, habrá leído u oído hablar acerca de Python, como lenguaje de programación interpretado, o de scripts. La verdad es que Python no sólo es un lenguaje interpretado, sino también compilado. Pero llamar a Python lenguaje puramente compilado es confuso. El compilador traduce el código Python en código \"máquina\", pero especial. El código se traduce en un lenguaje máquina intermedio, que puede ser ejecutado en una máquina virtual, conocido como PVM, (Python Virtual Machine). \n",
    "\n",
    "Este enfoque es similar al que hace el lenguaje Java. Hay una forma de traducir los programas escritos para Python en programas para el byte de Java, (para la Java Virtual Machine, JVM). Esto se puede hacer con Jython. \n",
    "\n",
    "La cuestión es, ¿debo compilar mis scripts de Python para hacer que se ejecuten más rápido?. La respuesta es fácil: normalmente, no es necesario hacer nada, porque Python ya lo hace por defecto. \n",
    "\n",
    "Si por cualquier razón se desea compilar un programa Python manualmente, no hay problema. Se puede hacer con el módulo _py_compile_, bien usando el intérprete en una consola o en este cuaderno.\n",
    "\n",
    "Para cambiar de directorio y acceder a comandos del sistema operativo, activaremos el módulo _os_\n",
    "\n",
    "Para ver más funciones de esta librería puede visitar esta [página](http://librosweb.es/libro/python/capitulo_10/modulos_de_sistema.html)"
   ]
  },
  {
   "cell_type": "code",
   "execution_count": 3,
   "metadata": {
    "collapsed": false
   },
   "outputs": [
    {
     "data": {
      "text/plain": [
       "'C:\\\\Users\\\\alex\\\\Documents\\\\DOCENCIA\\\\Curso2016_2017\\\\Seminarios\\\\SEM_Python_Sesion1'"
      ]
     },
     "execution_count": 3,
     "metadata": {},
     "output_type": "execute_result"
    }
   ],
   "source": [
    "import os\n",
    "os.getcwd() # Obtener el Current Working Directory"
   ]
  },
  {
   "cell_type": "markdown",
   "metadata": {},
   "source": [
    "A continuación vamos a listar los ficheros que están en el directorio actual. "
   ]
  },
  {
   "cell_type": "code",
   "execution_count": 4,
   "metadata": {
    "collapsed": false
   },
   "outputs": [
    {
     "name": "stdout",
     "output_type": "stream",
     "text": [
      " El volumen de la unidad C es OS\n",
      " El n£mero de serie del volumen es: 78C7-90D6\n",
      "\n",
      " Directorio de C:\\Users\\alex\\Documents\\DOCENCIA\\Curso2016_2017\\Seminarios\\SEM_Python_Sesion1\n",
      "\n",
      "17/11/2016  13:27    <DIR>          .\n",
      "17/11/2016  13:27    <DIR>          ..\n",
      "10/11/2016  11:14    <DIR>          .ipynb_checkpoints\n",
      "17/11/2016  13:00            24.273 01-Introduccion_Python.ipynb\n",
      "17/11/2016  13:27            23.356 02 El int‚rprete de Python.ipynb\n",
      "10/11/2016  18:49            28.208 03 Tipos de datos y variables.ipynb\n",
      "10/11/2016  13:50             7.758 04 Operadores.ipynb\n",
      "10/11/2016  13:54             4.108 05 Entrada por teclado.ipynb\n",
      "10/11/2016  14:03             6.731 06 Condicionales.ipynb\n",
      "10/11/2016  10:05             9.452 07 Bucles while.ipynb\n",
      "10/11/2016  10:06            13.848 08 Tuplas y listas.ipynb\n",
      "10/11/2016  10:12            20.303 09 Bucles for.ipynb\n",
      "10/11/2016  11:09             6.473 10 Diccionarios.ipynb\n",
      "10/11/2016  11:23             3.664 11 Funciones.ipynb\n",
      "10/11/2016  10:34            23.460 12 Introduccion-Numpy.ipynb\n",
      "10/11/2016  11:14            11.742 13 Union_embridada.ipynb\n",
      "17/11/2016  13:21    <DIR>          cuaderno_02\n",
      "10/11/2016  11:05    <DIR>          Ejercicios_scripts\n",
      "10/11/2016  11:02    <DIR>          images\n",
      "09/11/2016  14:18             3.630 operadores.html\n",
      "              14 archivos        187.006 bytes\n",
      "               6 dirs  115.877.265.408 bytes libres\n"
     ]
    }
   ],
   "source": [
    "ls"
   ]
  },
  {
   "cell_type": "markdown",
   "metadata": {},
   "source": [
    "Observe que hay un directorio, denominado \"cuaderno_02\". Cambiaremos a ese directorio."
   ]
  },
  {
   "cell_type": "code",
   "execution_count": 5,
   "metadata": {
    "collapsed": false
   },
   "outputs": [],
   "source": [
    "os.chdir(\"./cuaderno_02/\")"
   ]
  },
  {
   "cell_type": "code",
   "execution_count": 6,
   "metadata": {
    "collapsed": false
   },
   "outputs": [
    {
     "name": "stdout",
     "output_type": "stream",
     "text": [
      " El volumen de la unidad C es OS\n",
      " El n£mero de serie del volumen es: 78C7-90D6\n",
      "\n",
      " Directorio de C:\\Users\\alex\\Documents\\DOCENCIA\\Curso2016_2017\\Seminarios\\SEM_Python_Sesion1\\cuaderno_02\n",
      "\n",
      "17/11/2016  13:21    <DIR>          .\n",
      "17/11/2016  13:21    <DIR>          ..\n",
      "06/11/2016  09:29               851 001-Ejercicio1.py\n",
      "               1 archivos            851 bytes\n",
      "               2 dirs  115.877.273.600 bytes libres\n"
     ]
    }
   ],
   "source": [
    "ls"
   ]
  },
  {
   "cell_type": "markdown",
   "metadata": {},
   "source": [
    "A continuación podemos comprobar que estamos dentro del directorio adecuado. Para ello, volvemos a preguntar a Python ¿cuál es el directorio actual? (what is the Current Working Directory?)"
   ]
  },
  {
   "cell_type": "code",
   "execution_count": 7,
   "metadata": {
    "collapsed": false
   },
   "outputs": [
    {
     "data": {
      "text/plain": [
       "'C:\\\\Users\\\\alex\\\\Documents\\\\DOCENCIA\\\\Curso2016_2017\\\\Seminarios\\\\SEM_Python_Sesion1\\\\cuaderno_02'"
      ]
     },
     "execution_count": 7,
     "metadata": {},
     "output_type": "execute_result"
    }
   ],
   "source": [
    "os.getcwd()"
   ]
  },
  {
   "cell_type": "markdown",
   "metadata": {},
   "source": [
    "A continuación se compila el fichero .py. Esto se hace activando la función \"compile\" de py_compile"
   ]
  },
  {
   "cell_type": "code",
   "execution_count": 8,
   "metadata": {
    "collapsed": false
   },
   "outputs": [],
   "source": [
    "import py_compile\n",
    "py_compile.compile(\"001-Ejercicio1.py\")"
   ]
  },
  {
   "cell_type": "markdown",
   "metadata": {},
   "source": [
    "Con el comando \"ls\" procedemos a listar el directorio actual. Observe que se ha generado un fichero, con extensión .pyc"
   ]
  },
  {
   "cell_type": "code",
   "execution_count": 9,
   "metadata": {
    "collapsed": false
   },
   "outputs": [
    {
     "name": "stdout",
     "output_type": "stream",
     "text": [
      " El volumen de la unidad C es OS\n",
      " El n£mero de serie del volumen es: 78C7-90D6\n",
      "\n",
      " Directorio de C:\\Users\\alex\\Documents\\DOCENCIA\\Curso2016_2017\\Seminarios\\SEM_Python_Sesion1\\cuaderno_02\n",
      "\n",
      "17/11/2016  13:28    <DIR>          .\n",
      "17/11/2016  13:28    <DIR>          ..\n",
      "06/11/2016  09:29               851 001-Ejercicio1.py\n",
      "17/11/2016  13:28               445 001-Ejercicio1.pyc\n",
      "               2 archivos          1.296 bytes\n",
      "               2 dirs  115.877.265.408 bytes libres\n"
     ]
    }
   ],
   "source": [
    "ls"
   ]
  },
  {
   "cell_type": "markdown",
   "metadata": {},
   "source": [
    "Observe que se ha cread un fichero, con extesión .pyc. Este fichero es la versión compilada para máquina virtual linux PVM. \n",
    "\n",
    "Normalmente, no es necesario \"compilar\" expresamente un fichero Python, puesto que el compilador de Python se encarga de eso cuando se invoca. El proceso puede explicarse con el siguiente esquema: \n",
    "\n",
    "<img src=\"images/py_pyc_overview.gif\" width=\"400\" border=\"0\" hspace=\"12\" vspace=\"0\" alt=\"Compilation of a Python script\">\n",
    "\n",
    "El código fuente se convierte en código de bytes, en fase de compilación. Este código, de extensión \".pyc\" se puede ejecutar en la máquina virtual de Python (PVM)\n",
    "\n",
    "Python normalmente compila el código fuente, pero no deja una copia del fichero .pyc. Directamente, tras ejecutar el fichero, lo borra. \n",
    "\n",
    "Si un fichero de Python es importando como módulo, se generará automáticamente un fichero .pyc. \n",
    "\n",
    "Más adelante se verá qué son los módulos y cómo se utilizan. Normalmente, no es necesario compilar expresamente, puesto que Python se encarga de ello. El fichero .pyc normalmente se borra automáticamente una vez terminada la ejecución."
   ]
  },
  {
   "cell_type": "markdown",
   "metadata": {
    "collapsed": true
   },
   "source": [
    "### Compilador\n",
    "\n",
    "Un compilador es un programa que transforma (traduce) el código fuente (source code) de un lenguaje de programación (Fortran, C, C++, Java, Python, etc) en otro lenguaje del ordenador (que es capaz de ser ejecutado por una computadora). En la mayoría de los casos, los compiladores se utilizan para transformar el código fuente en código ejecutable en lenguaje-máquina. Se traduce el código desde leguajes de programación de alto nivel (y con esto se indica que está más cercano al humano y menos a la máquina) a lenguajes de bajo nivel (más cercanos al ordenador, como son el lenguaje ensamblador, o el código máquina). \n",
    "\n",
    "### Intérprete\n",
    "\n",
    "Un intérprete es un programa de ordenador que ejecuta instrucciones escritas en un determinado lenguaje de programación. Un intérprete puede: \n",
    "\n",
    "+ ejecutar código directamente desde el fichero fuente. (e.g. ficheros de Python o Matlab)  \n",
    "+ traducir el código fuente en código ejecutable, para ser posteriormente ejecutado (e.g. Desde un fichero .for de fortran a un .exe ejecutable).  "
   ]
  },
  {
   "cell_type": "markdown",
   "metadata": {},
   "source": [
    "### Obtener ayuda de los comandos\n",
    "\n",
    "Basta escribir \"help\" seguido, entre paréntesis y comillas, del nombre del comando. \n",
    "\n",
    "Observe el siguiente ejemplo, donde se obtiene ayuda del comando \"print\". \n"
   ]
  },
  {
   "cell_type": "code",
   "execution_count": 10,
   "metadata": {
    "collapsed": false
   },
   "outputs": [
    {
     "name": "stdout",
     "output_type": "stream",
     "text": [
      "The \"print\" statement\n",
      "*********************\n",
      "\n",
      "   print_stmt ::= \"print\" ([expression (\",\" expression)* [\",\"]]\n",
      "                  | \">>\" expression [(\",\" expression)+ [\",\"]])\n",
      "\n",
      "\"print\" evaluates each expression in turn and writes the resulting\n",
      "object to standard output (see below).  If an object is not a string,\n",
      "it is first converted to a string using the rules for string\n",
      "conversions.  The (resulting or original) string is then written.  A\n",
      "space is written before each object is (converted and) written, unless\n",
      "the output system believes it is positioned at the beginning of a\n",
      "line.  This is the case (1) when no characters have yet been written\n",
      "to standard output, (2) when the last character written to standard\n",
      "output is a whitespace character except \"' '\", or (3) when the last\n",
      "write operation on standard output was not a \"print\" statement. (In\n",
      "some cases it may be functional to write an empty string to standard\n",
      "output for this reason.)\n",
      "\n",
      "Note: Objects which act like file objects but which are not the\n",
      "  built-in file objects often do not properly emulate this aspect of\n",
      "  the file object's behavior, so it is best not to rely on this.\n",
      "\n",
      "A \"'\\n'\" character is written at the end, unless the \"print\" statement\n",
      "ends with a comma.  This is the only action if the statement contains\n",
      "just the keyword \"print\".\n",
      "\n",
      "Standard output is defined as the file object named \"stdout\" in the\n",
      "built-in module \"sys\".  If no such object exists, or if it does not\n",
      "have a \"write()\" method, a \"RuntimeError\" exception is raised.\n",
      "\n",
      "\"print\" also has an extended form, defined by the second portion of\n",
      "the syntax described above. This form is sometimes referred to as\n",
      "\"\"print\" chevron.\" In this form, the first expression after the \">>\"\n",
      "must evaluate to a \"file-like\" object, specifically an object that has\n",
      "a \"write()\" method as described above.  With this extended form, the\n",
      "subsequent expressions are printed to this file object.  If the first\n",
      "expression evaluates to \"None\", then \"sys.stdout\" is used as the file\n",
      "for output.\n",
      "\n"
     ]
    }
   ],
   "source": [
    "help(\"print\")"
   ]
  },
  {
   "cell_type": "markdown",
   "metadata": {
    "collapsed": true
   },
   "source": [
    "## Estructuración del código mediante la indentación\n",
    "\n",
    "Muchos lenguajes de programación usan determinados caracteres para agrupar las sentencias, o bloques de código:\n",
    "\n",
    "    begin ... end\n",
    "    do ... done\n",
    "    { ... }\n",
    "    if ... end if\n",
    "\n",
    "Python usa un principio diferente. Los programas se estructuran mediante la indentación. Esto significa que los bloques de códigos se definen mediante separaciones que recuerdan a la tabulación. \n",
    "\n",
    "Esto es lo deseable en cualquier lenguaje de programación. La diferencia con Python es que ahora es obligatorio, y si no se respeta, el compilador da error. Python obliga desde el principio a escribir el código de forma ordenada y clara. Por eso el código es fácilmente legible. \n",
    "\n",
    "¿Cómo funciona?. Es sencillo: todas las sentencias que están a la misma distancia al borde izquierdo pertenecen a un mismo grupo de sentencias. \n",
    "\n",
    "Si un bloque necesita sub-bloques, simplemente se debe aumentar un nivel en la indentación. \n",
    "\n",
    "<img class=\"imgright\" src=\"images/blocks.png\" alt=\"Blocks in Python through indentation\" />\n",
    "\n",
    "\n",
    "Finalmente, para continuar líneas se puede usar el carácter \"\\\". \n",
    "\n",
    "Veámoslo con un ejemplo. La sentencia \n",
    "\n",
    "    range(n)\n",
    "\n",
    "Devuelve una lista de todos los números consecutivos desde el 0 hasta el n-1. Obsérvelo: "
   ]
  },
  {
   "cell_type": "code",
   "execution_count": 11,
   "metadata": {
    "collapsed": false
   },
   "outputs": [
    {
     "data": {
      "text/plain": [
       "[0, 1, 2, 3, 4]"
      ]
     },
     "execution_count": 11,
     "metadata": {},
     "output_type": "execute_result"
    }
   ],
   "source": [
    "range(5)"
   ]
  },
  {
   "cell_type": "markdown",
   "metadata": {},
   "source": [
    "Veamos de qué tipo es el resultado anterior. Con el guión bajo, dentro de Jypyter, nos referimos a \"la celda anteriormente ejecutada\""
   ]
  },
  {
   "cell_type": "code",
   "execution_count": 12,
   "metadata": {
    "collapsed": false
   },
   "outputs": [
    {
     "data": {
      "text/plain": [
       "list"
      ]
     },
     "execution_count": 12,
     "metadata": {},
     "output_type": "execute_result"
    }
   ],
   "source": [
    "type(_)  "
   ]
  },
  {
   "cell_type": "markdown",
   "metadata": {},
   "source": [
    "Ahora se generará un bucle para mostrar el índice por pantalla: "
   ]
  },
  {
   "cell_type": "code",
   "execution_count": 13,
   "metadata": {
    "collapsed": false
   },
   "outputs": [
    {
     "name": "stdout",
     "output_type": "stream",
     "text": [
      "0\n",
      "1\n",
      "2\n",
      "3\n",
      "4\n"
     ]
    }
   ],
   "source": [
    "for i in range(5):\n",
    "    print i"
   ]
  },
  {
   "cell_type": "markdown",
   "metadata": {},
   "source": [
    "Se pueden hacer bucles anidados"
   ]
  },
  {
   "cell_type": "code",
   "execution_count": 14,
   "metadata": {
    "collapsed": false
   },
   "outputs": [
    {
     "name": "stdout",
     "output_type": "stream",
     "text": [
      "j 0\n",
      "i 0\n",
      "j 1\n",
      "i 0\n",
      "j 2\n",
      "i 0\n",
      "j 3\n",
      "i 0\n",
      "j 0\n",
      "i 1\n",
      "j 1\n",
      "i 1\n",
      "j 2\n",
      "i 1\n",
      "j 3\n",
      "i 1\n",
      "j 0\n",
      "i 2\n",
      "j 1\n",
      "i 2\n",
      "j 2\n",
      "i 2\n",
      "j 3\n",
      "i 2\n",
      "j 0\n",
      "i 3\n",
      "j 1\n",
      "i 3\n",
      "j 2\n",
      "i 3\n",
      "j 3\n",
      "i 3\n",
      "j 0\n",
      "i 4\n",
      "j 1\n",
      "i 4\n",
      "j 2\n",
      "i 4\n",
      "j 3\n",
      "i 4\n"
     ]
    }
   ],
   "source": [
    "for i in range(5):\n",
    "    for j in range(4):\n",
    "        print \"j\", j\n",
    "        print \"i\", i"
   ]
  },
  {
   "cell_type": "markdown",
   "metadata": {},
   "source": [
    "Observe el efecto que tiene modificar la indentación de la última línea, sacándola del bucle para la j"
   ]
  },
  {
   "cell_type": "code",
   "execution_count": 15,
   "metadata": {
    "collapsed": false
   },
   "outputs": [
    {
     "name": "stdout",
     "output_type": "stream",
     "text": [
      "j 0\n",
      "j 1\n",
      "j 2\n",
      "j 3\n",
      "j 4\n",
      "i 0\n",
      "j 0\n",
      "j 1\n",
      "j 2\n",
      "j 3\n",
      "j 4\n",
      "i 1\n",
      "j 0\n",
      "j 1\n",
      "j 2\n",
      "j 3\n",
      "j 4\n",
      "i 2\n",
      "j 0\n",
      "j 1\n",
      "j 2\n",
      "j 3\n",
      "j 4\n",
      "i 3\n",
      "j 0\n",
      "j 1\n",
      "j 2\n",
      "j 3\n",
      "j 4\n",
      "i 4\n"
     ]
    }
   ],
   "source": [
    "for i in range(5):\n",
    "    for j in range(5):\n",
    "        print \"j\", j\n",
    "    print \"i\", i"
   ]
  },
  {
   "cell_type": "markdown",
   "metadata": {},
   "source": [
    "Observe que si no se respeta la indentación, se produce un \"error de indentación\""
   ]
  },
  {
   "cell_type": "code",
   "execution_count": 16,
   "metadata": {
    "collapsed": false
   },
   "outputs": [
    {
     "ename": "IndentationError",
     "evalue": "expected an indented block (<ipython-input-16-d730dfebc22a>, line 2)",
     "output_type": "error",
     "traceback": [
      "\u001b[0;36m  File \u001b[0;32m\"<ipython-input-16-d730dfebc22a>\"\u001b[0;36m, line \u001b[0;32m2\u001b[0m\n\u001b[0;31m    print i\u001b[0m\n\u001b[0m        ^\u001b[0m\n\u001b[0;31mIndentationError\u001b[0m\u001b[0;31m:\u001b[0m expected an indented block\n"
     ]
    }
   ],
   "source": [
    "for i in range(10):\n",
    "print i"
   ]
  },
  {
   "cell_type": "code",
   "execution_count": null,
   "metadata": {
    "collapsed": true
   },
   "outputs": [],
   "source": []
  }
 ],
 "metadata": {
  "anaconda-cloud": {},
  "kernelspec": {
   "display_name": "Python [default]",
   "language": "python",
   "name": "python2"
  },
  "language_info": {
   "codemirror_mode": {
    "name": "ipython",
    "version": 2
   },
   "file_extension": ".py",
   "mimetype": "text/x-python",
   "name": "python",
   "nbconvert_exporter": "python",
   "pygments_lexer": "ipython2",
   "version": "2.7.12"
  }
 },
 "nbformat": 4,
 "nbformat_minor": 1
}
