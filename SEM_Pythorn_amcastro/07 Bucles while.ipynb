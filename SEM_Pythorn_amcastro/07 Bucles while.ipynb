{
 "cells": [
  {
   "cell_type": "markdown",
   "metadata": {
    "nbpresent": {
     "id": "fe3552fc-40c6-43c2-a334-b8c787a59eb9"
    }
   },
   "source": [
    "# Bucles _while_\n",
    "\n",
    "Alejandro E. Martínez Castro\n",
    "\n",
    "_Departamento de Mecánica de Estructuras e Ingeniería Hidráulica. \n",
    "Universidad de Granada_"
   ]
  },
  {
   "cell_type": "markdown",
   "metadata": {
    "nbpresent": {
     "id": "64118f8d-9c6c-42a9-8957-722ee0b93bca"
    }
   },
   "source": [
    "## Estructura general de un bucle\n",
    "\n",
    "En ocasiones es necesario hacer que una parte del código se ejecute de forma repetitiva. El código dentro del bucle es denominado el _cuerpo del bucle_. \n",
    "\n",
    "<img class=\"imgleft\" src=\"images/while_loop_1.png\" alt=\"Flowchart of a loop\">\n",
    "\n",
    "La mayoría de los bucles tienen un contador, o de forma general, variables, que cambian sus valores durante la ejecución. Estas variables tienen que ser inicializadas antes de que el bucle comience. El contador, o las variables, pueden ser alteradas durante la ejecución del bucle. Éstas variables están contenidas en la condición. \n",
    "\n",
    "Antes de ejecutares el cuerpo del bucle, la condición se evalúa. Si se evalúa a verdadero (True), el cuerpo del bucle se ejecuta. Cuando el cuerpo del bucle se ha ejecutado, la condición se evalúa de nuevo. El cuerpo del bucle se ejecutará tantas veces como la condición a verificar sea verdadera. \n",
    "\n",
    "Para ver cómo funciona en Python, se ilustra con un primer ejemplo. "
   ]
  },
  {
   "cell_type": "code",
   "execution_count": 1,
   "metadata": {
    "collapsed": false,
    "nbpresent": {
     "id": "04e6dd53-dd41-44da-aec2-8f2f05b4fd9c"
    }
   },
   "outputs": [
    {
     "name": "stdout",
     "output_type": "stream",
     "text": [
      "La suma desde 1 hasta 100: 5050\n"
     ]
    }
   ],
   "source": [
    "n = 100\n",
    "\n",
    "sum = 0\n",
    "i = 1\n",
    "while i <= n:\n",
    "    sum = sum + i\n",
    "    i = i + 1\n",
    "\n",
    "print \"La suma desde 1 hasta %d: %d\" % (n,sum)"
   ]
  },
  {
   "cell_type": "markdown",
   "metadata": {
    "nbpresent": {
     "id": "774728b0-c78e-44e2-9463-91c3a5919ea6"
    }
   },
   "source": [
    "### Cálculo iterativo de la raíz cuadrada de un número\n",
    "\n",
    "A continuación se muestra un ejemplo de uso de este tipo de bucle para el cálculo por iteraciones de la raíz cuadrada de un número. \n",
    "\n",
    "Dado un número $x$, la raíz cuadrada de 2 es un número que está entre $x$ y $\\dfrac{2}{x}$. \n",
    "\n",
    "Por tanto, un número intermedio es una buena aproximación a $\\sqrt{2}$. \n",
    "\\begin{equation}\n",
    "\\sqrt{2} \\simeq \\dfrac{1}{2}\\,\\left( x + \\dfrac{2}{x} \\right)\n",
    "\\end{equation}\n",
    "\n",
    "(observe lo fácil que es escribir código LaTeX en Jupyter notebook)\n",
    "\n",
    "Para encontrar el valor de $\\sqrt{2}$ por iteraciones, basta con: \n",
    "\n",
    "+ Plantear un valor inicial para $x = \\sqrt{2}$. Llamémosle $\\hat{x}$\n",
    "+ Entrar en un bucle. Dentro del bucle.\n",
    "   + Calcular el valor actualizado de la aproximación a $\\sqrt{2}$\n",
    "\n",
    "Repetir un número de iteraciones y parar cuando se haya alcanzado el número máximo de iteraciones. "
   ]
  },
  {
   "cell_type": "code",
   "execution_count": 2,
   "metadata": {
    "collapsed": false,
    "nbpresent": {
     "id": "9c403e68-8b9c-4ff4-bc1e-a27052a61569"
    }
   },
   "outputs": [
    {
     "name": "stdout",
     "output_type": "stream",
     "text": [
      "Iteración  1 valor de raiz de 2 1.5\n",
      "Iteración  2 valor de raiz de 2 1.41666666667\n",
      "Iteración  3 valor de raiz de 2 1.41421568627\n",
      "Iteración  4 valor de raiz de 2 1.41421356237\n",
      "Iteración  5 valor de raiz de 2 1.41421356237\n",
      "Iteración  6 valor de raiz de 2 1.41421356237\n",
      "Iteración  7 valor de raiz de 2 1.41421356237\n",
      "Iteración  8 valor de raiz de 2 1.41421356237\n",
      "Iteración  9 valor de raiz de 2 1.41421356237\n",
      "Iteración  10 valor de raiz de 2 1.41421356237\n",
      "La raiz cuadrada de 2 es  1.41421356237\n"
     ]
    }
   ],
   "source": [
    "n = 10\n",
    "\n",
    "x = 1 # Número inicial: prueba cambiar este valor\n",
    "i = 1 # Valor inicial de i\n",
    "while i <= n:\n",
    "    s = 0.5 * (x + 2. / x)\n",
    "    print \"Iteración \", i, \"valor de raiz de 2\", s\n",
    "    i = i+1\n",
    "    x = s # Se actualiza el valor de x, \n",
    "\n",
    "print \"La raiz cuadrada de 2 es \", x"
   ]
  },
  {
   "cell_type": "markdown",
   "metadata": {
    "nbpresent": {
     "id": "68113487-ddeb-4f6c-9e2c-cb58e9e40b7a"
    }
   },
   "source": [
    "La librería standard de Python no incluye funciones matemáticas. Para poder disponer de una función que realice la raiz cuadrada es necesario importar la librería matemática _math_. \n",
    "\n",
    "Más adelante se verá más a fondo el uso de librerías y módulos. "
   ]
  },
  {
   "cell_type": "code",
   "execution_count": 3,
   "metadata": {
    "collapsed": false,
    "nbpresent": {
     "id": "8ab2ae13-99b8-4a09-b521-2e4fa8518081"
    }
   },
   "outputs": [
    {
     "name": "stdout",
     "output_type": "stream",
     "text": [
      "La raíz cuadrada de 2 es  1.41421356237\n"
     ]
    }
   ],
   "source": [
    "from math import sqrt # Con esto se está importando sólo la función \"sqrt\" desde la librería math.\n",
    "\n",
    "print \"La raíz cuadrada de 2 es \", sqrt(2)"
   ]
  },
  {
   "cell_type": "code",
   "execution_count": null,
   "metadata": {
    "collapsed": true,
    "nbpresent": {
     "id": "d7a3ddbb-4dd9-436d-bbc1-3f2763b068ec"
    }
   },
   "outputs": [],
   "source": []
  }
 ],
 "metadata": {
  "anaconda-cloud": {},
  "kernelspec": {
   "display_name": "Python [default]",
   "language": "python",
   "name": "python2"
  },
  "language_info": {
   "codemirror_mode": {
    "name": "ipython",
    "version": 2
   },
   "file_extension": ".py",
   "mimetype": "text/x-python",
   "name": "python",
   "nbconvert_exporter": "python",
   "pygments_lexer": "ipython2",
   "version": "2.7.12"
  },
  "nbpresent": {
   "slides": {
    "46f7d007-7834-45ae-813e-08f746321d96": {
     "id": "46f7d007-7834-45ae-813e-08f746321d96",
     "prev": null,
     "regions": {
      "ab8bc286-ee24-48ec-b469-047cf4b23b2c": {
       "attrs": {
        "height": 0.8,
        "width": 0.8,
        "x": 0.1,
        "y": 0.1
       },
       "content": {
        "cell": "fe3552fc-40c6-43c2-a334-b8c787a59eb9",
        "part": "whole"
       },
       "id": "ab8bc286-ee24-48ec-b469-047cf4b23b2c"
      }
     }
    },
    "50057c3d-10f7-4604-8adf-7cac634cc158": {
     "id": "50057c3d-10f7-4604-8adf-7cac634cc158",
     "prev": "a3ce471f-4db9-408b-ab71-67fcfa465c6c",
     "regions": {
      "6055b84d-002c-434e-a983-88729733a3fe": {
       "attrs": {
        "height": 0.8,
        "width": 0.8,
        "x": 0.1,
        "y": 0.1
       },
       "content": {
        "cell": "68113487-ddeb-4f6c-9e2c-cb58e9e40b7a",
        "part": "whole"
       },
       "id": "6055b84d-002c-434e-a983-88729733a3fe"
      }
     }
    },
    "a3ce471f-4db9-408b-ab71-67fcfa465c6c": {
     "id": "a3ce471f-4db9-408b-ab71-67fcfa465c6c",
     "prev": "b8832c4f-dae7-468d-950d-dd7f3c208ff4",
     "regions": {
      "60168eb3-cc46-4ab7-8231-26e079d9c611": {
       "attrs": {
        "height": 0.8,
        "width": 0.8,
        "x": 0.1,
        "y": 0.1
       },
       "content": {
        "cell": "9c403e68-8b9c-4ff4-bc1e-a27052a61569",
        "part": "whole"
       },
       "id": "60168eb3-cc46-4ab7-8231-26e079d9c611"
      }
     }
    },
    "aaf7da0d-f4a0-4684-8fcc-d5284d0d96f9": {
     "id": "aaf7da0d-f4a0-4684-8fcc-d5284d0d96f9",
     "prev": "ed1a3d55-bb8b-4175-bf8f-87ba94984041",
     "regions": {
      "c3064d89-2c87-462f-a3f6-bfc0f6c82ef0": {
       "attrs": {
        "height": 0.8,
        "width": 0.8,
        "x": 0.1,
        "y": 0.1
       },
       "content": {
        "cell": "04e6dd53-dd41-44da-aec2-8f2f05b4fd9c",
        "part": "whole"
       },
       "id": "c3064d89-2c87-462f-a3f6-bfc0f6c82ef0"
      }
     }
    },
    "b3f73683-e17d-4761-8495-c49bffd21a22": {
     "id": "b3f73683-e17d-4761-8495-c49bffd21a22",
     "prev": "b8e1f158-bebd-49de-84bf-55db0683aacb",
     "regions": {
      "126d2af8-7d64-44e3-bd49-258667e52985": {
       "attrs": {
        "height": 0.8,
        "width": 0.8,
        "x": 0.1,
        "y": 0.1
       },
       "content": {
        "cell": "d7a3ddbb-4dd9-436d-bbc1-3f2763b068ec",
        "part": "whole"
       },
       "id": "126d2af8-7d64-44e3-bd49-258667e52985"
      }
     }
    },
    "b8832c4f-dae7-468d-950d-dd7f3c208ff4": {
     "id": "b8832c4f-dae7-468d-950d-dd7f3c208ff4",
     "prev": "aaf7da0d-f4a0-4684-8fcc-d5284d0d96f9",
     "regions": {
      "5b8dcff3-fd6b-4e98-ac81-c06996e3542b": {
       "attrs": {
        "height": 0.8,
        "width": 0.8,
        "x": 0.1,
        "y": 0.1
       },
       "content": {
        "cell": "774728b0-c78e-44e2-9463-91c3a5919ea6",
        "part": "whole"
       },
       "id": "5b8dcff3-fd6b-4e98-ac81-c06996e3542b"
      }
     }
    },
    "b8e1f158-bebd-49de-84bf-55db0683aacb": {
     "id": "b8e1f158-bebd-49de-84bf-55db0683aacb",
     "prev": "50057c3d-10f7-4604-8adf-7cac634cc158",
     "regions": {
      "d2be8291-d9de-4c1c-9e26-2ab42de9dacc": {
       "attrs": {
        "height": 0.8,
        "width": 0.8,
        "x": 0.1,
        "y": 0.1
       },
       "content": {
        "cell": "8ab2ae13-99b8-4a09-b521-2e4fa8518081",
        "part": "whole"
       },
       "id": "d2be8291-d9de-4c1c-9e26-2ab42de9dacc"
      }
     }
    },
    "ed1a3d55-bb8b-4175-bf8f-87ba94984041": {
     "id": "ed1a3d55-bb8b-4175-bf8f-87ba94984041",
     "prev": "46f7d007-7834-45ae-813e-08f746321d96",
     "regions": {
      "befa7e9e-1413-4a69-adc7-9ddff56f3483": {
       "attrs": {
        "height": 0.8,
        "width": 0.8,
        "x": 0.1,
        "y": 0.1
       },
       "content": {
        "cell": "64118f8d-9c6c-42a9-8957-722ee0b93bca",
        "part": "whole"
       },
       "id": "befa7e9e-1413-4a69-adc7-9ddff56f3483"
      }
     }
    }
   },
   "themes": {}
  }
 },
 "nbformat": 4,
 "nbformat_minor": 1
}
