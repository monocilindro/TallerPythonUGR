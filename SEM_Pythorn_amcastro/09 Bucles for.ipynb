{
 "cells": [
  {
   "cell_type": "markdown",
   "metadata": {
    "nbpresent": {
     "id": "6408a171-dad1-4e42-85ff-9af9b267a377"
    }
   },
   "source": [
    "# Bucles _for_\n",
    "\n",
    "Alejandro E. Martínez Castro\n",
    "\n",
    "_Departamento de Mecánica de Estructuras e Ingeniería Hidráulica. \n",
    "Universidad de Granada_"
   ]
  },
  {
   "cell_type": "markdown",
   "metadata": {
    "nbpresent": {
     "id": "c500cb1e-9935-4811-8fce-c090a7d7beb2"
    }
   },
   "source": [
    "El uso de los bucles _for_ en Python difiere del modo en el que se realizan en C o Fortran. \n",
    "\n",
    "Para realizar un bucle _for_ es necesario generar antes todos los elementos de una lista, o realizar operaciones sobre una serie de números. "
   ]
  },
  {
   "cell_type": "markdown",
   "metadata": {
    "nbpresent": {
     "id": "2ed14af0-e5cc-4920-bdf6-9895769104be"
    }
   },
   "source": [
    "## Sintaxis de bucles _for_\n",
    "\n",
    "La sintaxis de un bucle for es la siguiente: \n",
    "\n",
    "    for variable in secuencia:\n",
    "\t    Statement1\n",
    "\t    Statement2\t\n",
    "\t    ...\n",
    "\t    Statementn\n",
    "    else:\n",
    "\t    Else-Statement1\n",
    "\t    Else-Statement2\n",
    "\t    ...\n",
    "\t    Else-Statementm\n",
    "        "
   ]
  },
  {
   "cell_type": "code",
   "execution_count": 2,
   "metadata": {
    "collapsed": false,
    "nbpresent": {
     "id": "b29c1f38-5327-4688-a50d-eab20bedb351"
    }
   },
   "outputs": [
    {
     "name": "stdout",
     "output_type": "stream",
     "text": [
      "C\n",
      "C++\n",
      "Perl\n",
      "Python\n"
     ]
    }
   ],
   "source": [
    "lenguajes = [\"C\", \"C++\", \"Perl\", \"Python\"] \n",
    "for lenguaje in lenguajes:\n",
    "    print (lenguaje)"
   ]
  },
  {
   "cell_type": "markdown",
   "metadata": {
    "nbpresent": {
     "id": "aadc67b9-dc8a-4d50-8156-0af5149fef5e"
    }
   },
   "source": [
    "## La función range()\n",
    "\n",
    "Esta función permite obtener un iterador numérico, puesto que\n",
    "\n",
    "    range(n)\n",
    "    \n",
    "Devuelve una lista de _n_ números naturales, desde el 0 hasta el n-1"
   ]
  },
  {
   "cell_type": "code",
   "execution_count": 3,
   "metadata": {
    "collapsed": false,
    "nbpresent": {
     "id": "cbab4441-8d74-48e8-9ff6-a27043641f6a"
    }
   },
   "outputs": [
    {
     "name": "stdout",
     "output_type": "stream",
     "text": [
      "0 0\n",
      "1 1\n",
      "2 4\n",
      "3 9\n",
      "4 16\n",
      "5 25\n",
      "6 36\n",
      "7 49\n",
      "8 64\n",
      "9 81\n"
     ]
    }
   ],
   "source": [
    "for i in range(10):\n",
    "    print (i, i*i)"
   ]
  },
  {
   "cell_type": "markdown",
   "metadata": {
    "nbpresent": {
     "id": "c35746c6-cec3-45f1-bd7b-b1835ef48b3d"
    }
   },
   "source": [
    "La función range() permite iterar con un paso de número diferente al 1"
   ]
  },
  {
   "cell_type": "code",
   "execution_count": 4,
   "metadata": {
    "collapsed": false,
    "nbpresent": {
     "id": "537ce0c2-3c2d-4128-a0dc-f4e9f9b37c49"
    }
   },
   "outputs": [
    {
     "data": {
      "text/plain": [
       "range(4, 50, 5)"
      ]
     },
     "execution_count": 4,
     "metadata": {},
     "output_type": "execute_result"
    }
   ],
   "source": [
    "range(4,50,5) # Números naturales desde el 4, de 5 en 5, hasta el 50 (sin incluir al 50)"
   ]
  },
  {
   "cell_type": "markdown",
   "metadata": {
    "nbpresent": {
     "id": "c3c8935f-60b5-4d91-816a-6956ac22d666"
    }
   },
   "source": [
    "Con esta función se puede obtener, por ejemplo, la siguiente suma: \n",
    "\n",
    "\\begin{equation}\n",
    "\\sum_{i=0}^{N-1} i\n",
    "\\end{equation}\n",
    "\n",
    "Por ejemplo, si N = 50;"
   ]
  },
  {
   "cell_type": "code",
   "execution_count": 5,
   "metadata": {
    "collapsed": false,
    "nbpresent": {
     "id": "5b217b28-e25d-4355-a3e2-d44f3c645795"
    }
   },
   "outputs": [
    {
     "data": {
      "text/plain": [
       "1225"
      ]
     },
     "execution_count": 5,
     "metadata": {},
     "output_type": "execute_result"
    }
   ],
   "source": [
    "suma = 0\n",
    "for i in range(50):\n",
    "    suma += i # Esto equivale a suma = suma + i\n",
    "    \n",
    "suma"
   ]
  },
  {
   "cell_type": "markdown",
   "metadata": {
    "nbpresent": {
     "id": "c74eda72-7c12-4c86-afc1-9e586b3ca899"
    }
   },
   "source": [
    "## Ejemplo: Cálculo de números pitagóricos\n",
    "\n",
    "Sean $a,b,c$ números enteros. Se dice que estos números son pitagóricos si satisfacen: \n",
    "\n",
    "$$a^2 + b^2 = c^2$$\n",
    "\n",
    "El siguiente programa calcula todos los números pitagóricos que hay por debajo de un máximo número. \n",
    "\n",
    "Obsérvese que para disponer de la función _sqrt()_ es necesario importar el módulo _math_"
   ]
  },
  {
   "cell_type": "code",
   "execution_count": 6,
   "metadata": {
    "collapsed": false,
    "nbpresent": {
     "id": "77de7da2-97ac-4497-90eb-b4de2ef7fb65"
    }
   },
   "outputs": [
    {
     "name": "stdout",
     "output_type": "stream",
     "text": [
      "3 4 5\n",
      "5 12 13\n",
      "6 8 10\n",
      "7 24 25\n",
      "8 15 17\n",
      "9 12 15\n",
      "9 40 41\n",
      "10 24 26\n",
      "11 60 61\n",
      "12 16 20\n",
      "12 35 37\n",
      "13 84 85\n",
      "14 48 50\n",
      "15 20 25\n",
      "15 36 39\n",
      "16 30 34\n",
      "16 63 65\n",
      "18 24 30\n",
      "18 80 82\n",
      "20 21 29\n",
      "20 48 52\n",
      "20 99 101\n",
      "21 28 35\n",
      "21 72 75\n",
      "24 32 40\n",
      "24 45 51\n",
      "24 70 74\n",
      "25 60 65\n",
      "27 36 45\n",
      "28 45 53\n",
      "28 96 100\n",
      "30 40 50\n",
      "30 72 78\n",
      "32 60 68\n",
      "33 44 55\n",
      "33 56 65\n",
      "35 84 91\n",
      "36 48 60\n",
      "36 77 85\n",
      "39 52 65\n",
      "39 80 89\n",
      "40 42 58\n",
      "40 75 85\n",
      "40 96 104\n",
      "42 56 70\n",
      "45 60 75\n",
      "48 55 73\n",
      "48 64 80\n",
      "48 90 102\n",
      "51 68 85\n",
      "54 72 90\n",
      "56 90 106\n",
      "57 76 95\n",
      "60 63 87\n",
      "60 80 100\n",
      "60 91 109\n",
      "63 84 105\n",
      "65 72 97\n",
      "66 88 110\n",
      "69 92 115\n",
      "72 96 120\n",
      "75 100 125\n",
      "80 84 116\n"
     ]
    }
   ],
   "source": [
    "from math import sqrt\n",
    "n = 100 # Número máximo\n",
    "n += 1  # Otra forma de hacer n = n+1\n",
    "for a in range(1,n): # Observe porqué se ha tenido que hacer n = n+1\n",
    "    for b in range(a,n):\n",
    "        c_square = a**2 + b**2\n",
    "        c = int(sqrt(c_square)) # Se convierte la raiz a entero, y con esto se pierden decimales si no es exacto.\n",
    "        if ((c_square - c**2) == 0): # Se comprueba si c**2 es un número entero\n",
    "            print (a, b, c)"
   ]
  },
  {
   "cell_type": "markdown",
   "metadata": {
    "nbpresent": {
     "id": "de740dca-79f3-4077-9380-816d58d2eaa5"
    }
   },
   "source": [
    "## Iterando sobre listas con _range()_\n",
    "\n",
    "Si es necesario acceder a los índices de una lista, no parece buena idea usar el bucle para iterar sobre los elementos de una lista, sino sobre sus índices. Se puede acceder a todos los elementos, pero el índice de un elemento no está directamente disponible. Hay una forma de acceder tanto al elemento como al índice, y es combinar el uso de las funciones range() y len(). "
   ]
  },
  {
   "cell_type": "code",
   "execution_count": 8,
   "metadata": {
    "collapsed": false,
    "nbpresent": {
     "id": "eb70faad-231f-4e16-974f-54d5ea35cac6"
    }
   },
   "outputs": [
    {
     "name": "stdout",
     "output_type": "stream",
     "text": [
      "0 0\n",
      "1 1\n",
      "2 1\n",
      "3 2\n",
      "4 3\n",
      "5 5\n",
      "6 8\n",
      "7 13\n",
      "8 21\n",
      "\n"
     ]
    }
   ],
   "source": [
    "fibonacci = [0,1,1,2,3,5,8,13,21]\n",
    "for i in range(len(fibonacci)):\n",
    "    print (i,fibonacci[i])\n",
    "print()"
   ]
  },
  {
   "cell_type": "markdown",
   "metadata": {
    "nbpresent": {
     "id": "6fbf382a-ccb0-4fb9-8e87-cc993215f459"
    }
   },
   "source": [
    "## Iteración sobre listas con _efectos secundarios_\n",
    "\n",
    "Si se itera sobre una lista, es muy importante asegurarse que no se cambian los valores de la lista durante la ejecución del bucle. "
   ]
  },
  {
   "cell_type": "code",
   "execution_count": 9,
   "metadata": {
    "collapsed": false,
    "nbpresent": {
     "id": "c96021a1-e310-4b45-a45b-30533db4fc3e"
    }
   },
   "outputs": [
    {
     "name": "stdout",
     "output_type": "stream",
     "text": [
      "['rojo', 'negro', 'blanco']\n"
     ]
    }
   ],
   "source": [
    "colores = [\"rojo\"]\n",
    "for i in colores:\n",
    "    if i == \"rojo\":\n",
    "        colores += [\"negro\"] # Concatenación de listas\n",
    "    if i == \"negro\":\n",
    "        colores += [\"blanco\"]\n",
    "print (colores)"
   ]
  },
  {
   "cell_type": "markdown",
   "metadata": {
    "nbpresent": {
     "id": "d88e00c8-6aa9-4d62-9b5c-127235a58b36"
    }
   },
   "source": [
    "Este no es el resultado deseado, puesto que lo que se quería era añadir sólo el \"rojo\". Para evitar esto puede trabajarse con una copia, usando el operador [:] dentro de la lista. "
   ]
  },
  {
   "cell_type": "code",
   "execution_count": 10,
   "metadata": {
    "collapsed": false,
    "nbpresent": {
     "id": "1eb7d6f2-3ca7-402b-9083-06cae029daf2"
    }
   },
   "outputs": [
    {
     "name": "stdout",
     "output_type": "stream",
     "text": [
      "['rojo', 'negro']\n"
     ]
    }
   ],
   "source": [
    "colores = [\"rojo\"]\n",
    "for i in colores[:]:\n",
    "    if i == \"rojo\":\n",
    "        colores += [\"negro\"] # Concatenación de listas\n",
    "    if i == \"negro\":\n",
    "        colores += [\"blanco\"]\n",
    "print (colores)"
   ]
  },
  {
   "cell_type": "code",
   "execution_count": 11,
   "metadata": {
    "collapsed": false,
    "nbpresent": {
     "id": "91e735dc-fa61-4b14-bb4c-ae264658d39e"
    }
   },
   "outputs": [
    {
     "data": {
      "text/plain": [
       "['rojo', 'negro']"
      ]
     },
     "execution_count": 11,
     "metadata": {},
     "output_type": "execute_result"
    }
   ],
   "source": [
    "colores[:] # Esto es una copia. "
   ]
  },
  {
   "cell_type": "code",
   "execution_count": 12,
   "metadata": {
    "collapsed": false,
    "nbpresent": {
     "id": "8924e952-ece6-4981-a1e0-c1ccc91bc882"
    }
   },
   "outputs": [
    {
     "data": {
      "text/plain": [
       "True"
      ]
     },
     "execution_count": 12,
     "metadata": {},
     "output_type": "execute_result"
    },
    {
     "name": "stdout",
     "output_type": "stream",
     "text": [
      "The history saving thread hit an unexpected error (OperationalError('unable to open database file',)).History will not be written to the database.\n"
     ]
    }
   ],
   "source": [
    "colores == colores[:]"
   ]
  },
  {
   "cell_type": "markdown",
   "metadata": {
    "nbpresent": {
     "id": "3c7de175-574d-4d69-94c8-f81086402b6b"
    }
   },
   "source": [
    "Se ha cambiado la lista \"colores\", pero su efecto no tiene influencia en el bucle, puesto que colores[:] es la lista original, y no la nueva lista. "
   ]
  },
  {
   "cell_type": "code",
   "execution_count": null,
   "metadata": {
    "collapsed": true,
    "nbpresent": {
     "id": "c548b4b7-dc9c-474a-ab98-a15dcd741a82"
    }
   },
   "outputs": [],
   "source": []
  }
 ],
 "metadata": {
  "anaconda-cloud": {},
  "kernelspec": {
   "display_name": "Python [default]",
   "language": "python",
   "name": "python3"
  },
  "language_info": {
   "codemirror_mode": {
    "name": "ipython",
    "version": 3
   },
   "file_extension": ".py",
   "mimetype": "text/x-python",
   "name": "python",
   "nbconvert_exporter": "python",
   "pygments_lexer": "ipython3",
   "version": "3.5.2"
  },
  "nbpresent": {
   "slides": {
    "0107c6af-3c56-43bd-9f71-d28164ef0d08": {
     "id": "0107c6af-3c56-43bd-9f71-d28164ef0d08",
     "prev": "a21ae46d-d53a-408c-82a7-3ea991b845e4",
     "regions": {
      "c8eb577e-e78f-461c-b2b3-cc515edddd94": {
       "attrs": {
        "height": 0.8,
        "width": 0.8,
        "x": 0.1,
        "y": 0.1
       },
       "content": {
        "cell": "c35746c6-cec3-45f1-bd7b-b1835ef48b3d",
        "part": "whole"
       },
       "id": "c8eb577e-e78f-461c-b2b3-cc515edddd94"
      }
     }
    },
    "056877b9-65c0-4919-94b6-dcea99be678a": {
     "id": "056877b9-65c0-4919-94b6-dcea99be678a",
     "prev": "0107c6af-3c56-43bd-9f71-d28164ef0d08",
     "regions": {
      "f83c8bd9-23f8-4c6f-bc62-2c51a3f500d7": {
       "attrs": {
        "height": 0.8,
        "width": 0.8,
        "x": 0.1,
        "y": 0.1
       },
       "content": {
        "cell": "537ce0c2-3c2d-4128-a0dc-f4e9f9b37c49",
        "part": "whole"
       },
       "id": "f83c8bd9-23f8-4c6f-bc62-2c51a3f500d7"
      }
     }
    },
    "0b5b6667-4b5c-47d1-9a80-e66dcde61bcf": {
     "id": "0b5b6667-4b5c-47d1-9a80-e66dcde61bcf",
     "prev": "dc9964e0-ecca-4cb2-9f41-bcb3e866b807",
     "regions": {
      "027a4bce-a314-432a-88bd-b043ac6c18d2": {
       "attrs": {
        "height": 0.8,
        "width": 0.8,
        "x": 0.1,
        "y": 0.1
       },
       "content": {
        "cell": "c74eda72-7c12-4c86-afc1-9e586b3ca899",
        "part": "whole"
       },
       "id": "027a4bce-a314-432a-88bd-b043ac6c18d2"
      }
     }
    },
    "2528136a-5af9-4775-8d32-2b9ebccedbc7": {
     "id": "2528136a-5af9-4775-8d32-2b9ebccedbc7",
     "prev": "6e69a39e-4523-47f9-8c01-f8842e7f34a6",
     "regions": {
      "fa107f53-6655-4fa2-a91a-3806f0588b13": {
       "attrs": {
        "height": 0.8,
        "width": 0.8,
        "x": 0.1,
        "y": 0.1
       },
       "content": {
        "cell": "c500cb1e-9935-4811-8fce-c090a7d7beb2",
        "part": "whole"
       },
       "id": "fa107f53-6655-4fa2-a91a-3806f0588b13"
      }
     }
    },
    "4b5f1373-f1d6-49d9-8f81-cfe7bb9651de": {
     "id": "4b5f1373-f1d6-49d9-8f81-cfe7bb9651de",
     "prev": "0b5b6667-4b5c-47d1-9a80-e66dcde61bcf",
     "regions": {
      "4a4e653d-f09b-4771-8254-32152f7486ba": {
       "attrs": {
        "height": 0.8,
        "width": 0.8,
        "x": 0.1,
        "y": 0.1
       },
       "content": {
        "cell": "77de7da2-97ac-4497-90eb-b4de2ef7fb65",
        "part": "whole"
       },
       "id": "4a4e653d-f09b-4771-8254-32152f7486ba"
      }
     }
    },
    "525797b2-b26e-4f61-a26b-58beea4db6a3": {
     "id": "525797b2-b26e-4f61-a26b-58beea4db6a3",
     "prev": "b4e5cd2a-293e-44c1-a89c-aca5740d9d42",
     "regions": {
      "9eda20ea-8563-4469-8050-739a9d6d1606": {
       "attrs": {
        "height": 0.8,
        "width": 0.8,
        "x": 0.1,
        "y": 0.1
       },
       "content": {
        "cell": "c548b4b7-dc9c-474a-ab98-a15dcd741a82",
        "part": "whole"
       },
       "id": "9eda20ea-8563-4469-8050-739a9d6d1606"
      }
     }
    },
    "63c26705-25f6-4991-9df2-64c2e81f2f8f": {
     "id": "63c26705-25f6-4991-9df2-64c2e81f2f8f",
     "prev": "f17d01f3-308a-4451-9d17-ee09f5f28fe6",
     "regions": {
      "f880be04-6594-45f7-a480-988cda0ceaf2": {
       "attrs": {
        "height": 0.8,
        "width": 0.8,
        "x": 0.1,
        "y": 0.1
       },
       "content": {
        "cell": "eb70faad-231f-4e16-974f-54d5ea35cac6",
        "part": "whole"
       },
       "id": "f880be04-6594-45f7-a480-988cda0ceaf2"
      }
     }
    },
    "6e69a39e-4523-47f9-8c01-f8842e7f34a6": {
     "id": "6e69a39e-4523-47f9-8c01-f8842e7f34a6",
     "prev": null,
     "regions": {
      "9fd9ff37-ab38-4f5b-9e69-b21444795e72": {
       "attrs": {
        "height": 0.8,
        "width": 0.8,
        "x": 0.1,
        "y": 0.1
       },
       "content": {
        "cell": "6408a171-dad1-4e42-85ff-9af9b267a377",
        "part": "whole"
       },
       "id": "9fd9ff37-ab38-4f5b-9e69-b21444795e72"
      }
     }
    },
    "85a92943-d7d2-44c3-a4b6-5d360e09dfff": {
     "id": "85a92943-d7d2-44c3-a4b6-5d360e09dfff",
     "prev": "f8c9b362-7dd3-45fc-b632-8f81295c4cd4",
     "regions": {
      "d2df776e-f31f-480d-af2b-6f75039b7885": {
       "attrs": {
        "height": 0.8,
        "width": 0.8,
        "x": 0.1,
        "y": 0.1
       },
       "content": {
        "cell": "d88e00c8-6aa9-4d62-9b5c-127235a58b36",
        "part": "whole"
       },
       "id": "d2df776e-f31f-480d-af2b-6f75039b7885"
      }
     }
    },
    "87bed7f3-ca4a-4333-8423-33bfc57c1611": {
     "id": "87bed7f3-ca4a-4333-8423-33bfc57c1611",
     "prev": "056877b9-65c0-4919-94b6-dcea99be678a",
     "regions": {
      "d32dc19c-1779-4287-981d-2608de96994d": {
       "attrs": {
        "height": 0.8,
        "width": 0.8,
        "x": 0.1,
        "y": 0.1
       },
       "content": {
        "cell": "c3c8935f-60b5-4d91-816a-6956ac22d666",
        "part": "whole"
       },
       "id": "d32dc19c-1779-4287-981d-2608de96994d"
      }
     }
    },
    "8f3b737e-3105-4275-8439-43a82ceae1fb": {
     "id": "8f3b737e-3105-4275-8439-43a82ceae1fb",
     "prev": "2528136a-5af9-4775-8d32-2b9ebccedbc7",
     "regions": {
      "5bed4183-04c7-46e8-ac51-8044331037ef": {
       "attrs": {
        "height": 0.8,
        "width": 0.8,
        "x": 0.1,
        "y": 0.1
       },
       "content": {
        "cell": "2ed14af0-e5cc-4920-bdf6-9895769104be",
        "part": "whole"
       },
       "id": "5bed4183-04c7-46e8-ac51-8044331037ef"
      }
     }
    },
    "9ee50a85-d799-428b-98d7-e0769e7f04e9": {
     "id": "9ee50a85-d799-428b-98d7-e0769e7f04e9",
     "prev": "fbd081a6-cf63-4769-9198-aeb6031eb701",
     "regions": {
      "bfefeafa-5b47-474f-9778-a99c5c39c6a2": {
       "attrs": {
        "height": 0.8,
        "width": 0.8,
        "x": 0.1,
        "y": 0.1
       },
       "content": {
        "cell": "91e735dc-fa61-4b14-bb4c-ae264658d39e",
        "part": "whole"
       },
       "id": "bfefeafa-5b47-474f-9778-a99c5c39c6a2"
      }
     }
    },
    "a21ae46d-d53a-408c-82a7-3ea991b845e4": {
     "id": "a21ae46d-d53a-408c-82a7-3ea991b845e4",
     "prev": "f000734a-28f7-4575-9ccd-3e683f554686",
     "regions": {
      "2604286d-2bd6-4e2a-9d0f-db95c401b6d3": {
       "attrs": {
        "height": 0.8,
        "width": 0.8,
        "x": 0.1,
        "y": 0.1
       },
       "content": {
        "cell": "cbab4441-8d74-48e8-9ff6-a27043641f6a",
        "part": "whole"
       },
       "id": "2604286d-2bd6-4e2a-9d0f-db95c401b6d3"
      }
     }
    },
    "ab5098b4-f736-412d-ba97-eb6a4b365dba": {
     "id": "ab5098b4-f736-412d-ba97-eb6a4b365dba",
     "prev": "9ee50a85-d799-428b-98d7-e0769e7f04e9",
     "regions": {
      "4a9798f4-3f6a-4a44-b6d0-d1121da7676b": {
       "attrs": {
        "height": 0.8,
        "width": 0.8,
        "x": 0.1,
        "y": 0.1
       },
       "content": {
        "cell": "8924e952-ece6-4981-a1e0-c1ccc91bc882",
        "part": "whole"
       },
       "id": "4a9798f4-3f6a-4a44-b6d0-d1121da7676b"
      }
     }
    },
    "b4e5cd2a-293e-44c1-a89c-aca5740d9d42": {
     "id": "b4e5cd2a-293e-44c1-a89c-aca5740d9d42",
     "prev": "ab5098b4-f736-412d-ba97-eb6a4b365dba",
     "regions": {
      "39dbae10-8ef7-4e6a-a598-378eedd60741": {
       "attrs": {
        "height": 0.8,
        "width": 0.8,
        "x": 0.1,
        "y": 0.1
       },
       "content": {
        "cell": "3c7de175-574d-4d69-94c8-f81086402b6b",
        "part": "whole"
       },
       "id": "39dbae10-8ef7-4e6a-a598-378eedd60741"
      }
     }
    },
    "dc9964e0-ecca-4cb2-9f41-bcb3e866b807": {
     "id": "dc9964e0-ecca-4cb2-9f41-bcb3e866b807",
     "prev": "87bed7f3-ca4a-4333-8423-33bfc57c1611",
     "regions": {
      "8635df22-e944-4097-9e74-882c58d15cad": {
       "attrs": {
        "height": 0.8,
        "width": 0.8,
        "x": 0.1,
        "y": 0.1
       },
       "content": {
        "cell": "5b217b28-e25d-4355-a3e2-d44f3c645795",
        "part": "whole"
       },
       "id": "8635df22-e944-4097-9e74-882c58d15cad"
      }
     }
    },
    "e17f549d-7bc8-47eb-9730-1debcec29421": {
     "id": "e17f549d-7bc8-47eb-9730-1debcec29421",
     "prev": "63c26705-25f6-4991-9df2-64c2e81f2f8f",
     "regions": {
      "e27e0c33-d887-46a8-b178-5ee9cd4be5ee": {
       "attrs": {
        "height": 0.8,
        "width": 0.8,
        "x": 0.1,
        "y": 0.1
       },
       "content": {
        "cell": "6fbf382a-ccb0-4fb9-8e87-cc993215f459",
        "part": "whole"
       },
       "id": "e27e0c33-d887-46a8-b178-5ee9cd4be5ee"
      }
     }
    },
    "e84ab48f-3f73-4b90-acfd-05aff75b9d86": {
     "id": "e84ab48f-3f73-4b90-acfd-05aff75b9d86",
     "prev": "8f3b737e-3105-4275-8439-43a82ceae1fb",
     "regions": {
      "0b319eb5-5949-4620-8e4f-2e8bab211081": {
       "attrs": {
        "height": 0.8,
        "width": 0.8,
        "x": 0.1,
        "y": 0.1
       },
       "content": {
        "cell": "b29c1f38-5327-4688-a50d-eab20bedb351",
        "part": "whole"
       },
       "id": "0b319eb5-5949-4620-8e4f-2e8bab211081"
      }
     }
    },
    "f000734a-28f7-4575-9ccd-3e683f554686": {
     "id": "f000734a-28f7-4575-9ccd-3e683f554686",
     "prev": "e84ab48f-3f73-4b90-acfd-05aff75b9d86",
     "regions": {
      "358ec011-544f-4236-a48e-80fd83c7ff42": {
       "attrs": {
        "height": 0.8,
        "width": 0.8,
        "x": 0.1,
        "y": 0.1
       },
       "content": {
        "cell": "aadc67b9-dc8a-4d50-8156-0af5149fef5e",
        "part": "whole"
       },
       "id": "358ec011-544f-4236-a48e-80fd83c7ff42"
      }
     }
    },
    "f17d01f3-308a-4451-9d17-ee09f5f28fe6": {
     "id": "f17d01f3-308a-4451-9d17-ee09f5f28fe6",
     "prev": "4b5f1373-f1d6-49d9-8f81-cfe7bb9651de",
     "regions": {
      "9eb4459e-02ab-4794-8545-a44dda3c8b67": {
       "attrs": {
        "height": 0.8,
        "width": 0.8,
        "x": 0.1,
        "y": 0.1
       },
       "content": {
        "cell": "de740dca-79f3-4077-9380-816d58d2eaa5",
        "part": "whole"
       },
       "id": "9eb4459e-02ab-4794-8545-a44dda3c8b67"
      }
     }
    },
    "f8c9b362-7dd3-45fc-b632-8f81295c4cd4": {
     "id": "f8c9b362-7dd3-45fc-b632-8f81295c4cd4",
     "prev": "e17f549d-7bc8-47eb-9730-1debcec29421",
     "regions": {
      "61e24b93-51c4-4492-ac20-5ff04d8e4dea": {
       "attrs": {
        "height": 0.8,
        "width": 0.8,
        "x": 0.1,
        "y": 0.1
       },
       "content": {
        "cell": "c96021a1-e310-4b45-a45b-30533db4fc3e",
        "part": "whole"
       },
       "id": "61e24b93-51c4-4492-ac20-5ff04d8e4dea"
      }
     }
    },
    "fbd081a6-cf63-4769-9198-aeb6031eb701": {
     "id": "fbd081a6-cf63-4769-9198-aeb6031eb701",
     "prev": "85a92943-d7d2-44c3-a4b6-5d360e09dfff",
     "regions": {
      "df357d33-9000-45d2-887f-d7fd50f0b56c": {
       "attrs": {
        "height": 0.8,
        "width": 0.8,
        "x": 0.1,
        "y": 0.1
       },
       "content": {
        "cell": "1eb7d6f2-3ca7-402b-9083-06cae029daf2",
        "part": "whole"
       },
       "id": "df357d33-9000-45d2-887f-d7fd50f0b56c"
      }
     }
    }
   },
   "themes": {
    "default": "c72ed80d-da6f-4062-a9bb-fc242845109d",
    "theme": {}
   }
  }
 },
 "nbformat": 4,
 "nbformat_minor": 2
}
