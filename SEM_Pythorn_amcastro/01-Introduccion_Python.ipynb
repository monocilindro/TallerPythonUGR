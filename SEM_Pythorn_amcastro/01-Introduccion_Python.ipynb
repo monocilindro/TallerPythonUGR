{
 "cells": [
  {
   "cell_type": "markdown",
   "metadata": {
    "slideshow": {
     "slide_type": "slide"
    }
   },
   "source": [
    "# Introducción a Python\n",
    "\n",
    "## Primer cuaderno\n",
    "\n",
    "Alejandro E. Martínez Castro\n",
    "\n",
    "_Departamento de Mecánica de Estructuras e Ingeniería Hidráulica. \n",
    "Universidad de Granada_"
   ]
  },
  {
   "cell_type": "markdown",
   "metadata": {},
   "source": [
    "## Historia de Python\n",
    "\n",
    "La historia de Python comienza con el lenguaje [ABC](https://en.wikipedia.org/wiki/ABC_(programming_language)). Es un lenguaje de programación de propósito general, que fue desarrollado en Amsterdam (Holanda) en el CWI (Centrum Wiskunde & Informatica).\n",
    "\n",
    "El origen del lenguaje Python se remonta a finales de la década de 1980. \n",
    "\n",
    "[Guido van Rossum](https://es.wikipedia.org/wiki/Guido_van_Rossum) trabajaba en ese momento en un proyecto en el CWI, llamado Amoeba. Era un sistema operativo distribuido. Lo programó en [ABC](https://en.wikipedia.org/wiki/ABC_(programming_language)). En una entrevista con Bill Venners (enero de 2003), Guido van Rossum dijo: \n",
    "\n",
    "_\"Recordaba todas mis experiencias y algunas de mis frustraciones con ABC. Decidí intentar diseñar un lenguaje de scripts sencillo, que tuviese algunas de las mejores propiedades de ABC, pero sin sus problemas. Y comencé a teclear.\n",
    "Primero creé una máquina virtual simple, un enlazador y un entorno de ejecución. Hice mi propia versión de las distintas partes de ABC. Creé una sintaxis básica, utilizando la indentación para agupar las sentencias en lugar de otros recursos como las llaves, o los bloques begin-end, y desarrollé un conjunto menor de tipos de datos potentes (diccionarios, listas, cadenas, números, etc. \"_\n",
    "\n",
    "Sobre el nombre \"Python\", mucha gente piensa que se trata de una alusión a las serpientes. Pero el nombre está más ligado al grupo de humoristas británico [Monty Python](https://es.wikipedia.org/wiki/Monty_Python). Guido van Rossum, el creador de Python, escribió en 1996 sobre el origen del nombre de su lenguaje de programación: _\"Hace seis años, en diciembre de 1989, estaba buscando un hobby que me mantuviese ocupado durante la semana de Navidad. Mi oficina... estaba cerrada, pero tenía un ordenador en casa, y poco más. Decidí escribir un intérprete para el nuevo lenguaje de script que estaba pensando: una variante de ABC que sirviese a usuarios de Unix/C. Decidí usar Python como nombre de trabajo para el proyecto, a modo de broma ireverente (como fan del Monty Python's Flying Circus)\"_. \n",
    "\n",
    "Vea en el siguiente vídeo (y de paso, observe lo fácil que es incrustar vídeos de Youtube en Jupyter notebook) una entrevista a Guido van Rossum, por Charles Severance (Dr. Chuck, gran docente del mundo Python)"
   ]
  },
  {
   "cell_type": "code",
   "execution_count": 1,
   "metadata": {
    "collapsed": false
   },
   "outputs": [
    {
     "data": {
      "image/jpeg": "[encoded data removed]",
      "text/html": [
       "\n",
       "        <iframe\n",
       "            width=\"400\"\n",
       "            height=\"300\"\n",
       "            src=\"https://www.youtube.com/embed/rTTFh7HOlC0\"\n",
       "            frameborder=\"0\"\n",
       "            allowfullscreen\n",
       "        ></iframe>\n",
       "        "
      ],
      "text/plain": [
       "<IPython.lib.display.YouTubeVideo at 0x2550f98>"
      ]
     },
     "execution_count": 1,
     "metadata": {},
     "output_type": "execute_result"
    }
   ],
   "source": [
    "from IPython.display import YouTubeVideo\n",
    "YouTubeVideo(\"rTTFh7HOlC0\")"
   ]
  },
  {
   "cell_type": "markdown",
   "metadata": {
    "slideshow": {
     "slide_type": "slide"
    }
   },
   "source": [
    "## ¿Por qué Python?\n",
    "\n",
    "Existen numerosas razones para elegir Python como lenguaje de programación primario. \n",
    "\n",
    "+ Aprender Python es muy sencillo. \n",
    "+ Python es un lenguaje potente. \n",
    "+ Tiene estructuras de datos de alto nivel, que permiten escribir código complejo en pocas líneas. \n",
    "+ La programación orientada a objetos es más sencilla que en otros lenguajes. \n",
    "+ Es extensible. \n",
    "+ Es _gratuito_. \n",
    "\n",
    "Python se ha convertido en uno de los lenguajes de programación más populares entre los desarrolladores, programadores. La principal ventaja de Python es la sencillez y claridad en la sintaxis del código, lo cual lo hace fácilmente comprensible y exportable. Los programas escritos en Python pueden ser ejecutados en Windows, Linux, Unix, Mac OS X, y pueden correr en máquinas virtuales Java y .NET. \n",
    "\n",
    "\n",
    "Guido van Rossum comenzó a trabajar en Python en Holanda, en el Instituto Nacional para las Matemáticas y las Ciencias de la Computación (Centrum voor Wiskunde en Informatica, CWI). Cuando se le pregunta acerca de los rasgos de Python de los que se siente más orgulloso, Guido van Rossum dijo en una entrevista para Linux Journal: _\"La sensación del sistema completo encaja con mi estilo de programación, por razones obvias. La capacidad de correr el intérprete de forma interactiva y la capacidad de escribir código y testearlo permite escribir código rápidamente. Otra gente encuentra que Python les hace ser más productivos\" (LJ, no 55)_.\n",
    "\n"
   ]
  },
  {
   "cell_type": "markdown",
   "metadata": {
    "slideshow": {
     "slide_type": "slide"
    }
   },
   "source": [
    "## Comparación con Java, Perl, y otros lenguajes de programación\n",
    "\n",
    "El prof. Lutz Prechelt de la Universidad de Karlsruhe comparó Python con otros lenguajes de programación. Sus conclusiones se resumieron en estos resultados: _\"Se compararon 80 implementaciones del mismo conjunto de requisitos, tales como: tiempo de ejecución, consumo de memoria, longitud del código fuente, comentarios, estructura del programa, fiabilidad, y la cantidad de esfuerzo requerido para escribirlos. Los resultados indican que, para un problema de programación dado, con independencia de la manipulación de cadenas y búsqueda en un diccionario, los lenguajes de scripts (Perl, Python, Rexx, Tcl) son más productivos que los lenguajes convencionales (C, C++, Java). En términos de tiempo de ejecución y consumo de memoria, funcionan mejor que Java y no mucho peor que C o C++. En general, las diferencias entre lenguajes tienden a ser menores que las diferencias típicas debidas a diferentes programadores con el mismo lenguaje. (ver Lutz Prechelt, An empirical comparison of C, C++, Java, Perl, Python, Rexx, and Tcl, IEEE Computer, Vol. 30, (10), p. 23-29, Oct 2000.)_ "
   ]
  },
  {
   "cell_type": "markdown",
   "metadata": {
    "slideshow": {
     "slide_type": "slide"
    }
   },
   "source": [
    "## Otras ventajas de Python\n",
    "\n",
    "En lo que sigue se resumen otras ventajas del lenguaje: \n",
    "\n",
    "+ Es fácil incorporar el intérprete de Python dentro de otras aplicaciones. (Salomé Meca, Code Aster, etc). \n",
    "+ Python se puede extender mediante librerías (Numpy, Sympy, Matplotlib, etc). \n",
    "+ En aspectos numéricos y científicos, presenta ventajas en comparación con otros lenguajes interpretados. Python es un lenguaje para la ciencia. Existen numerosos recursos en la red sobre este aspecto. Es interesante la [página de Fernando Pérez, desarrollador de Ipython Notebook](http://fperez.org/py4science/)\n",
    "\n",
    "+ Existe una amplia comunidad de ususarios. A través de código compartido, como en Github, es posible acceder a código fuente, cuadernos de Jupyter, etc. Véanse los ejemplos en de [Fernando Pérez](https://github.com/ipython/ipython/wiki/A-gallery-of-interesting-IPython-Notebooks) o del autor de los cuadernos que se verán en este curso\n",
    "[Alejandro M. Castro](https://github.com/alexmacastro)\n",
    "\n",
    "+ En relación a la comparativa con Matlab, es interesante la información que se muestra en los siguientes enlaces: \n",
    "    + [10 ventajas de Python para ciencia](https://www.stat.washington.edu/~hoytak/blog/whypython.html)\n",
    "    + [Python vs. Matlab](http://www.pyzo.org/python_vs_matlab.html)\n",
    "    + [8 ventajas de Python frente a Matlab](http://phillipmfeldman.org/Python/Advantages_of_Python_Over_Matlab.html)\n",
    "    + [Yo usaba Matlab. Ahora uso Python](https://stevetjoa.com/305/)\n",
    "    + [Las 9 razones para pasarse de Matlab a Python](https://ajminich.com/2013/06/22/9-reasons-to-switch-from-matlab-to-python/)\n",
    "    \n",
    "\n",
    "\n",
    "Python permite una fácil extensión mediante módulos. \n",
    "\n",
    "<img alt=\"./images/Python\" src=\"./images/python.png\" />"
   ]
  }
 ],
 "metadata": {
  "anaconda-cloud": {},
  "kernelspec": {
   "display_name": "Python [conda root]",
   "language": "python",
   "name": "conda-root-py"
  },
  "language_info": {
   "codemirror_mode": {
    "name": "ipython",
    "version": 3
   },
   "file_extension": ".py",
   "mimetype": "text/x-python",
   "name": "python",
   "nbconvert_exporter": "python",
   "pygments_lexer": "ipython3",
   "version": "3.5.2"
  }
 },
 "nbformat": 4,
 "nbformat_minor": 1
}
