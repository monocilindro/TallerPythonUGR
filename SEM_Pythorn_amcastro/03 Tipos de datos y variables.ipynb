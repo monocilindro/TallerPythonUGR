{
 "cells": [
  {
   "cell_type": "markdown",
   "metadata": {},
   "source": [
    "# Tipos de datos y Variables\n",
    "\n",
    "Alejandro E. Martínez Castro\n",
    "\n",
    "_Departamento de Mecánica de Estructuras e Ingeniería Hidráulica. \n",
    "Universidad de Granada_"
   ]
  },
  {
   "cell_type": "markdown",
   "metadata": {},
   "source": [
    "## Introducción\n",
    "\n",
    "Aunque pueda pensar que tiene amplios conocimientos sobre tipos de datos y variables, se recomienda la lectura de esta sección, puesto que Python tiene sus propios tipos da datos y variables.\n",
    "\n",
    "Existen enteros, números de punto flotante, cadenas de caracteres, y más, pero su uso no es igual que en C o en FORTRAN. Si se desean usar listas en C, por ejemplo, es necesario construirlas. Python tiene un tipo de dato específico para el manejo de listas, que optimiza diversos aspectos (como el acceso a memoria) y que cuenta con procedimientos propios. \n"
   ]
  },
  {
   "cell_type": "markdown",
   "metadata": {},
   "source": [
    "## Variables\n",
    "\n",
    "Como su nombre indica, una variable es algo que puede cambiar. Una variable es una forma de referirse a una localización en memoria utilizada por un programa de ordenador. Una variable tiene un nombre simbólico que \"apunta\" a una dirección de memoria física. Esta dirección de memoria contiene valores, como números, o bien texto u otros datos. \n",
    "\n",
    "Una variable puede verse como un contenedor para almacenar determinados valores. \n",
    "\n",
    "Cuando un programa está corriendo accede a las variables y a veces cambia sus valores (e.g. se asigna un nuevo valor a una variable). \n",
    "\n",
    "Una de las principales diferencias entre Python y otros lenguajes fuertemente tipados, como C, C++ o Java es la forma en la que maneja los tipos. En lenguajes fuertemente tipados, cada variable debe tener un único tipo de dato. Por ejemplo, si una variable es de tipo \"entero\" (integer), se le pueden asignar únicamente enteros. En Java, Fortran o C, cada variable tiene que ser declarada antes de ser usada. \n",
    "\n",
    "La declaración de una variable la asocia con un tipo de dato. Por ejemplo\n",
    "\n",
    "    int i\n",
    "    \n",
    "Indica que \"i\" va a ser un número de tipo entero. Posteriormente, se puede hacer una asignación del tipo: \n",
    "\n",
    "    i = 10\n",
    "    \n",
    "Pero si se intenta hacer la asignación sin haber declarado de qué tipo es \"i\", el compilador dará un error. \n",
    "\n",
    "En Python no se requiere una declaración de variables. Si se necesita una variable, se debe elegir un nombre y se le asignan directamente los valores. El tipo de variable que se asigna puede controlarse y cambiarse durante la ejecución del programa. Obsérvelo con el siguiente ejemplo, en el cual se usa la orden \n",
    "    type()\n",
    "Para indicar el tipo de dato. "
   ]
  },
  {
   "cell_type": "code",
   "execution_count": 1,
   "metadata": {
    "collapsed": false
   },
   "outputs": [
    {
     "name": "stdout",
     "output_type": "stream",
     "text": [
      "El valor de i es 10\n",
      "El tipo de i es <type 'int'>\n"
     ]
    }
   ],
   "source": [
    "i = 10\n",
    "print \"El valor de i es\", i\n",
    "print \"El tipo de i es\", type(i)"
   ]
  },
  {
   "cell_type": "code",
   "execution_count": 2,
   "metadata": {
    "collapsed": false
   },
   "outputs": [
    {
     "name": "stdout",
     "output_type": "stream",
     "text": [
      "El valor de i es 10.1\n",
      "El tipo de i es <type 'float'>\n"
     ]
    }
   ],
   "source": [
    "i = 10.1\n",
    "print \"El valor de i es\", i\n",
    "print \"El tipo de i es\", type(i)"
   ]
  },
  {
   "cell_type": "code",
   "execution_count": 3,
   "metadata": {
    "collapsed": false
   },
   "outputs": [
    {
     "name": "stdout",
     "output_type": "stream",
     "text": [
      "El valor de i es Hola, mundo\n",
      "El tipo de i es <type 'str'>\n"
     ]
    }
   ],
   "source": [
    "i = \"Hola, mundo\"\n",
    "print \"El valor de i es\", i\n",
    "print \"El tipo de i es\", type(i)"
   ]
  },
  {
   "cell_type": "markdown",
   "metadata": {},
   "source": [
    "El signo \"=\" no debe ser visto como \"igual a\", sino como \"asignado a\""
   ]
  },
  {
   "cell_type": "code",
   "execution_count": 4,
   "metadata": {
    "collapsed": false
   },
   "outputs": [
    {
     "name": "stdout",
     "output_type": "stream",
     "text": [
      "11\n"
     ]
    }
   ],
   "source": [
    "i = 10\n",
    "i = i+1\n",
    "print i"
   ]
  },
  {
   "cell_type": "markdown",
   "metadata": {},
   "source": [
    "## Variables frente a Identificadores\n",
    "\n",
    "Las variables y los identificadores son, a menudo, tomados como sinónimos. El nombre de una variable es un identifiador. Pero una variable es \"más que un nombre\". Una variable tiene un nombre, un tipo, un contexto y sobre todo, un valor. Un identificador se utiliza no sólo para variables, sino para otras entidades, como etiquetas, subrutinas, funciones, paquetes, etc. \n"
   ]
  },
  {
   "cell_type": "markdown",
   "metadata": {},
   "source": [
    "## Reglas para nombres de identificadores de variables\n",
    "\n",
    "Cada lenguaje tiene sus reglas para identificadores. Las reglas en Python son las siguientes: \n",
    "\n",
    "Un identificador válido es una secuencia de caracterers no vacía de cualquier longitud, tal que: \n",
    "\n",
    "+ El carácter inicial puede ser el guión bajo, o una letra mayúscula o minúscula. \n",
    "+ Las letras que siguen al carácter inicial puede ser cualquiera de entre las que puede ser el inicial, y los dígitos. \n",
    "+ Aviso para los usuarios de Windows: los identificadores son sensibles a mayúsculas o minúsculas. \n",
    "+ Las palabras reservadas de Python no pueden ser utilizadas como identificadores. Así, no pueden usarse como identificadores palabras como _and, as, assert, break, class, continue, def, del, elif, else, except, exec, finally, for, from, global, if, import, in, is, lambda, not, or, pass, print, raise, return, try, while, with, yield_"
   ]
  },
  {
   "cell_type": "markdown",
   "metadata": {},
   "source": [
    "## Cambiando tipos de datos y localización de almacenamiento en memoria\n",
    "\n",
    "El tipo de una variable cambia en ejecución. Python automáticamente tiene cuidado de la representación física para los diferentes tipos de datos, y de su almacenamiento y localización en memoria. \n",
    "\n",
    "¿Qué ocurre cuando se hacen asignaciones?. Veámoslo con un ejemplo: \n"
   ]
  },
  {
   "cell_type": "code",
   "execution_count": 5,
   "metadata": {
    "collapsed": true
   },
   "outputs": [],
   "source": [
    "x = 3\n",
    "y = x\n",
    "y = 2"
   ]
  },
  {
   "cell_type": "markdown",
   "metadata": {},
   "source": [
    "La primera asignación no tiene problema: Python elige una localización en memoria para la \"x\" y asigna el valor entero 3 a esta variable. \n",
    "\n",
    "La segunda asignación es menos intuitiva. De forma intuitiva, parece que Python genera un nuevo nombre de variable para la \"y\", y le asigna el contenido de la \"x\", pero en un lugar diferente de la memoria, creando una copia del valor \"3\". \n",
    "\n",
    "Pero esto no es así. \n",
    "\n",
    "Como ambas variables tienen el mismo valor tras asignarlas, Python permite que \"y\" apunte hacia la localización de memoria de la \"x\". Python genera un enlace \"por referencia\", y no \"por valor\", cuando las variables son iguales. \n",
    "\n",
    "La cuestión crítica viene en la siguiente línea de código. La variable \"y\" es asignada ahora a otro valor, el \"2\". Pero se vio que la \"y\" simplemente estaba apuntando al valor que tenía la \"x\". Ahora se está asignando un valor que es diferente del que tenía para \"x=2\". \n",
    "\n",
    "¿Qué valor tendrá entonces la \"x\" tras la asignación?. \n",
    "\n",
    "Tras asignar \"y=2\", los valores de \"x\" e \"y\" ya no serán iguales. Python asigna una dirección de memoria para \"y=2\" y destruye el \"enlace\" que había con la dirección de memoria donde estaba el \"2\". "
   ]
  },
  {
   "cell_type": "code",
   "execution_count": 6,
   "metadata": {
    "collapsed": false
   },
   "outputs": [
    {
     "name": "stdout",
     "output_type": "stream",
     "text": [
      "x =  3\n",
      "y =  2\n"
     ]
    }
   ],
   "source": [
    "print \"x = \", x\n",
    "print \"y = \", y"
   ]
  },
  {
   "cell_type": "markdown",
   "metadata": {},
   "source": [
    "Podemos usar la orden \"id()\" para ver el identificador de las variables. El identificador es un número que identifica cada objeto o variable que se ejecuta dentro de un programa. "
   ]
  },
  {
   "cell_type": "code",
   "execution_count": 7,
   "metadata": {
    "collapsed": false
   },
   "outputs": [
    {
     "name": "stdout",
     "output_type": "stream",
     "text": [
      "Identificador de la x 35224776\n",
      "Identificador de la y 35224776\n",
      "Tras asignar y = 2\n",
      "Nuevo identificador de la y 35224800\n",
      "Identificador de la x 35224776\n"
     ]
    }
   ],
   "source": [
    "x = 3\n",
    "print \"Identificador de la x\", id(x)\n",
    "y = x\n",
    "print \"Identificador de la y\", id(y)\n",
    "\n",
    "print \"Tras asignar y = 2\"\n",
    "y = 2\n",
    "print \"Nuevo identificador de la y\", id(y)\n",
    "print \"Identificador de la x\", id(x)"
   ]
  },
  {
   "cell_type": "markdown",
   "metadata": {},
   "source": [
    "Lo que ha ocurrido puede visualizarse como sigue: \n",
    "\n",
    "<img class=\"imgright\" src=\"images/variable_memory.gif\" alt=\"Variables and memory locations\" />"
   ]
  },
  {
   "cell_type": "markdown",
   "metadata": {},
   "source": [
    "Observe ahora el efecto que tiene la siguiente asignación: "
   ]
  },
  {
   "cell_type": "code",
   "execution_count": 8,
   "metadata": {
    "collapsed": true
   },
   "outputs": [],
   "source": [
    "x = 3\n",
    "y = x\n",
    "x = 2"
   ]
  },
  {
   "cell_type": "markdown",
   "metadata": {},
   "source": [
    "¿Qué valor toma la variable \"y\"?. Puesto que la \"y\" está apuntando a la dirección de la x, y ahora se ha cambiado..."
   ]
  },
  {
   "cell_type": "code",
   "execution_count": 9,
   "metadata": {
    "collapsed": false
   },
   "outputs": [
    {
     "name": "stdout",
     "output_type": "stream",
     "text": [
      "Nuevo valor de y = 3\n"
     ]
    }
   ],
   "source": [
    "print \"Nuevo valor de y =\", y"
   ]
  },
  {
   "cell_type": "markdown",
   "metadata": {},
   "source": [
    "Se observa que la asignación respeta lo que intuitivamente se puede pensar. \n",
    "\n",
    "Es interesante entender que este comportamiento ocurre únicamente con variables de la librería standard, y no tiene porqué ocurrir con variables de otras librerías. \n",
    "\n",
    "En cálculo científico y técnico es habitual utilizar objetos de la librería Numpy. \n",
    "\n",
    "En el siguiente ejemplo crearemos un vector de tipo \"array de Numpy\", y le vamos a asignar un vector de 3 componentes, todas iguales, de valor 1. "
   ]
  },
  {
   "cell_type": "code",
   "execution_count": 10,
   "metadata": {
    "collapsed": false
   },
   "outputs": [
    {
     "name": "stdout",
     "output_type": "stream",
     "text": [
      "vector x [ 1.  1.  1.]\n",
      "vector y [ 1.  1.  1.]\n"
     ]
    }
   ],
   "source": [
    "import numpy as np # Le decimos a Python \"Importa la librería numpy con el alias \"np\" \"\n",
    "x = np.ones(3)\n",
    "y = x\n",
    "\n",
    "print \"vector x\", x\n",
    "print \"vector y\", y"
   ]
  },
  {
   "cell_type": "markdown",
   "metadata": {},
   "source": [
    "A continuación cambiaremos una posición del vector x. ¿Cambiará el vector \"y\"?"
   ]
  },
  {
   "cell_type": "code",
   "execution_count": 11,
   "metadata": {
    "collapsed": false
   },
   "outputs": [
    {
     "name": "stdout",
     "output_type": "stream",
     "text": [
      "vector x [ 1.  2.  1.]\n",
      "vector y [ 1.  2.  1.]\n"
     ]
    }
   ],
   "source": [
    "x[1] = 2 # Segunda posición. Python indexa los vectores comenzando por el 0\n",
    "print \"vector x\", x\n",
    "print \"vector y\", y"
   ]
  },
  {
   "cell_type": "markdown",
   "metadata": {},
   "source": [
    "Al cambiar una posición del vector x, ha cambiado también esa misma posición del vector y. \n",
    "\n",
    "Esto no ocurre cuando la asignación no es a una parte del vector x, sino a todo el vector. Observe ahora. "
   ]
  },
  {
   "cell_type": "code",
   "execution_count": 12,
   "metadata": {
    "collapsed": false
   },
   "outputs": [
    {
     "name": "stdout",
     "output_type": "stream",
     "text": [
      "vector x [ 1.  1.  1.]\n",
      "vector y [ 1.  1.  1.]\n",
      "vector x [ 1.  2.  3.]\n",
      "vector y [ 1.  1.  1.]\n"
     ]
    }
   ],
   "source": [
    "x = np.ones(3)\n",
    "y = x\n",
    "\n",
    "print \"vector x\", x\n",
    "print \"vector y\", y\n",
    "\n",
    "x = np.array([1.,2.,3.]) # Con esta asignación cambiamos TODO el vector completo, y no una parte. \n",
    "print \"vector x\", x\n",
    "print \"vector y\", y"
   ]
  },
  {
   "cell_type": "markdown",
   "metadata": {},
   "source": [
    "## Números\n",
    "\n",
    "Python incluye un conjunto de números (objetos) dentro de su librería standard. \n",
    "\n",
    "### Números enteros\n",
    "\n",
    "Pueden ser de tres tipos: normales, octales, o hexadecimales."
   ]
  },
  {
   "cell_type": "code",
   "execution_count": 13,
   "metadata": {
    "collapsed": false
   },
   "outputs": [
    {
     "data": {
      "text/plain": [
       "int"
      ]
     },
     "execution_count": 13,
     "metadata": {},
     "output_type": "execute_result"
    }
   ],
   "source": [
    "a = 2\n",
    "type (a)"
   ]
  },
  {
   "cell_type": "markdown",
   "metadata": {},
   "source": [
    "Un número entero precedido de un 0 (cero) se interpreta como número octal (base 8)"
   ]
  },
  {
   "cell_type": "code",
   "execution_count": 14,
   "metadata": {
    "collapsed": false
   },
   "outputs": [
    {
     "name": "stdout",
     "output_type": "stream",
     "text": [
      "8\n"
     ]
    },
    {
     "data": {
      "text/plain": [
       "int"
      ]
     },
     "execution_count": 14,
     "metadata": {},
     "output_type": "execute_result"
    }
   ],
   "source": [
    "a = 010 \n",
    "print a \n",
    "type(a)"
   ]
  },
  {
   "cell_type": "markdown",
   "metadata": {},
   "source": [
    "Un número entero precedido de \"0x\" o \"0X\" se considera en representación hexadecimal (base 16)"
   ]
  },
  {
   "cell_type": "code",
   "execution_count": 15,
   "metadata": {
    "collapsed": false
   },
   "outputs": [
    {
     "name": "stdout",
     "output_type": "stream",
     "text": [
      "2575\n"
     ]
    }
   ],
   "source": [
    "hex_number = 0xA0F\n",
    "print hex_number"
   ]
  },
  {
   "cell_type": "markdown",
   "metadata": {},
   "source": [
    "### Enteros largos (long integers)\n",
    "\n",
    "Son números enteros no acotados superiormente o inferiormente."
   ]
  },
  {
   "cell_type": "code",
   "execution_count": 16,
   "metadata": {
    "collapsed": false
   },
   "outputs": [
    {
     "data": {
      "text/plain": [
       "long"
      ]
     },
     "execution_count": 16,
     "metadata": {},
     "output_type": "execute_result"
    }
   ],
   "source": [
    "a = 42000000000000000000L\n",
    "type(a)"
   ]
  },
  {
   "cell_type": "markdown",
   "metadata": {},
   "source": [
    "### Números de punto flotante"
   ]
  },
  {
   "cell_type": "code",
   "execution_count": 17,
   "metadata": {
    "collapsed": false
   },
   "outputs": [
    {
     "name": "stdout",
     "output_type": "stream",
     "text": [
      "x es de tipo <type 'float'>\n",
      "y es de tipo <type 'float'>\n"
     ]
    }
   ],
   "source": [
    "x = 12.2\n",
    "y = 3E-2\n",
    "print \"x es de tipo\", type(x)\n",
    "print \"y es de tipo\", type(y)"
   ]
  },
  {
   "cell_type": "markdown",
   "metadata": {},
   "source": [
    "### Números complejos\n",
    "\n",
    "Los números complejos se escriben indicando la parte real y con la letra \"j\" la parte imaginaria"
   ]
  },
  {
   "cell_type": "code",
   "execution_count": 18,
   "metadata": {
    "collapsed": false
   },
   "outputs": [
    {
     "data": {
      "text/plain": [
       "complex"
      ]
     },
     "execution_count": 18,
     "metadata": {},
     "output_type": "execute_result"
    }
   ],
   "source": [
    "c = 3.2 + 5j\n",
    "type(c)"
   ]
  },
  {
   "cell_type": "code",
   "execution_count": 19,
   "metadata": {
    "collapsed": false
   },
   "outputs": [
    {
     "name": "stdout",
     "output_type": "stream",
     "text": [
      "(3.2+5j)\n"
     ]
    }
   ],
   "source": [
    "print c"
   ]
  },
  {
   "cell_type": "markdown",
   "metadata": {},
   "source": [
    "Cada tipo de número creado es un objeto, y pueden hacerse determinadas funciones. Pruebe escribir un punto junto al nombre de una de las variables creadas, y pulse el tabulador (dentro del cuaderno de Jupyter Notebook, en Spyder o en Ipython) y observará un listado de las posibles funciones y procedimientos. "
   ]
  },
  {
   "cell_type": "code",
   "execution_count": 20,
   "metadata": {
    "collapsed": false
   },
   "outputs": [
    {
     "data": {
      "text/plain": [
       "5.0"
      ]
     },
     "execution_count": 20,
     "metadata": {},
     "output_type": "execute_result"
    }
   ],
   "source": [
    "c.imag # Escrito con c. y el tabulador, y elegido \"imag\". Muestra la parte imaginaria. Pruebe otras funciones aquí."
   ]
  },
  {
   "cell_type": "markdown",
   "metadata": {},
   "source": [
    "## Cadenas de caracteres\n",
    "\n",
    "Las cadenas de caracteres son otro tipo de dato importante en Python. Las cadenas se indican mediante comilla simple, doble o triple. \n",
    "\n",
    "+ Mediante comilla simple ( ' ).\n",
    "+ Mediante doble comilla ( \" ).\n",
    "+ Mediante triple comilla (''' o \"\"\"). \n",
    "  "
   ]
  },
  {
   "cell_type": "code",
   "execution_count": 21,
   "metadata": {
    "collapsed": true
   },
   "outputs": [],
   "source": [
    "texto1 = 'Esto es una cadena simple'\n",
    "texto2 = \"Con doble comilla funciona igual que con comilla simple\"\n",
    "texto3 = \"\"\" \n",
    "\n",
    "La triple comilla:\n",
    "\n",
    "permite extenderse con múltiples líneas y saltos de página, y puede \n",
    "contener comillas 'simples' o 'dobles' \"\"\""
   ]
  },
  {
   "cell_type": "code",
   "execution_count": 22,
   "metadata": {
    "collapsed": false
   },
   "outputs": [
    {
     "name": "stdout",
     "output_type": "stream",
     "text": [
      "Esto es una cadena simple\n"
     ]
    }
   ],
   "source": [
    "print texto1"
   ]
  },
  {
   "cell_type": "code",
   "execution_count": 23,
   "metadata": {
    "collapsed": false
   },
   "outputs": [
    {
     "name": "stdout",
     "output_type": "stream",
     "text": [
      "Con doble comilla funciona igual que con comilla simple\n"
     ]
    }
   ],
   "source": [
    "print texto2"
   ]
  },
  {
   "cell_type": "code",
   "execution_count": 24,
   "metadata": {
    "collapsed": false
   },
   "outputs": [
    {
     "name": "stdout",
     "output_type": "stream",
     "text": [
      " \n",
      "\n",
      "La triple comilla:\n",
      "\n",
      "permite extenderse con múltiples líneas y saltos de página, y puede \n",
      "contener comillas 'simples' o 'dobles' \n"
     ]
    }
   ],
   "source": [
    "print texto3"
   ]
  },
  {
   "cell_type": "markdown",
   "metadata": {},
   "source": [
    "Una cadena de caracteres en Python es una secuencia indexada de caracteres. Python comienza sus índices en 0, y consecutivamente continúa con el 1, 2, 3, etc (números enteros)"
   ]
  },
  {
   "cell_type": "code",
   "execution_count": 25,
   "metadata": {
    "collapsed": false
   },
   "outputs": [
    {
     "data": {
      "text/plain": [
       "'s'"
      ]
     },
     "execution_count": 25,
     "metadata": {},
     "output_type": "execute_result"
    }
   ],
   "source": [
    "s = \"Esto es una cadena de caracteres\"\n",
    "s[1] # Se accede a la primera letra, la E en este caso"
   ]
  },
  {
   "cell_type": "markdown",
   "metadata": {},
   "source": [
    "El comando \"len\" se utiliza para indicar el número de caracteres que hay en una cadena"
   ]
  },
  {
   "cell_type": "code",
   "execution_count": 26,
   "metadata": {
    "collapsed": false
   },
   "outputs": [
    {
     "data": {
      "text/plain": [
       "32"
      ]
     },
     "execution_count": 26,
     "metadata": {},
     "output_type": "execute_result"
    }
   ],
   "source": [
    "len(s)"
   ]
  },
  {
   "cell_type": "markdown",
   "metadata": {},
   "source": [
    "En Python no existe el tipo \"caracter\". Un caracter es una cadena de dimensión 1. \n",
    "\n",
    "Los índices pueden ser negativos. En ese caso, el acceso es desde el último caracter."
   ]
  },
  {
   "cell_type": "code",
   "execution_count": 27,
   "metadata": {
    "collapsed": true
   },
   "outputs": [],
   "source": [
    "cadena = \"Python\""
   ]
  },
  {
   "cell_type": "markdown",
   "metadata": {},
   "source": [
    "En este ejemplo, \n",
    "\n",
    "<img class=\"img\" src=\"images/string_indices.gif\" alt=\"String Indexing or subscripting\" width=\"200\"> \n"
   ]
  },
  {
   "cell_type": "code",
   "execution_count": 28,
   "metadata": {
    "collapsed": false
   },
   "outputs": [
    {
     "data": {
      "text/plain": [
       "'y'"
      ]
     },
     "execution_count": 28,
     "metadata": {},
     "output_type": "execute_result"
    }
   ],
   "source": [
    "cadena[1]"
   ]
  },
  {
   "cell_type": "markdown",
   "metadata": {},
   "source": [
    "Si los índices son negativos, el acceso se realiza desde el último caracter, hacia atrás. \n",
    "\n",
    "<img class=\"img\" src=\"images/string_indices_negative.png\" alt=\"Negative String indices from the right\" width=\"200\"> "
   ]
  },
  {
   "cell_type": "code",
   "execution_count": 29,
   "metadata": {
    "collapsed": false
   },
   "outputs": [
    {
     "data": {
      "text/plain": [
       "'n'"
      ]
     },
     "execution_count": 29,
     "metadata": {},
     "output_type": "execute_result"
    }
   ],
   "source": [
    "cadena[-1]"
   ]
  },
  {
   "cell_type": "markdown",
   "metadata": {},
   "source": [
    "A continuación se indican otras operaciones con cadenas de caracteres: \n",
    "\n",
    "- Concatenación: Las cadenas se \"pegan\" en el orden definido con el signo +"
   ]
  },
  {
   "cell_type": "code",
   "execution_count": 30,
   "metadata": {
    "collapsed": false
   },
   "outputs": [
    {
     "name": "stdout",
     "output_type": "stream",
     "text": [
      "HolaMundo\n"
     ]
    }
   ],
   "source": [
    "cadena1 = \"Hola\"\n",
    "cadena2 = \"Mundo\"\n",
    "cadena3 = cadena1 + cadena2\n",
    "print cadena3"
   ]
  },
  {
   "cell_type": "markdown",
   "metadata": {},
   "source": [
    "- Repetición: Las cadenas pueden concatenarse de forma repetida, utilizando el asterisco como operador: "
   ]
  },
  {
   "cell_type": "code",
   "execution_count": 31,
   "metadata": {
    "collapsed": false
   },
   "outputs": [
    {
     "name": "stdout",
     "output_type": "stream",
     "text": [
      "HolaHolaHola\n"
     ]
    }
   ],
   "source": [
    "cadena4 = cadena1 * 3\n",
    "print cadena4"
   ]
  },
  {
   "cell_type": "markdown",
   "metadata": {},
   "source": [
    "- Extracción: Se pueden extraer subcadenas dentro de una cadena, indicando las posiciones inicial (inclusiva) y final (exclusiva) entre corchetes. Observe el ejemplo. "
   ]
  },
  {
   "cell_type": "code",
   "execution_count": 32,
   "metadata": {
    "collapsed": false
   },
   "outputs": [
    {
     "name": "stdout",
     "output_type": "stream",
     "text": [
      "yth\n"
     ]
    }
   ],
   "source": [
    "cadena = \"Python\"\n",
    "subcadena = cadena[1:4] # Recuerde: Python comienza a indexar en 0; el 3 es exclusivo, es decir, no se toma\n",
    "print subcadena"
   ]
  },
  {
   "cell_type": "markdown",
   "metadata": {},
   "source": [
    "### Inmutabilidad de las cadenas\n",
    "\n",
    "Como ocurre en C o en Java, las cadenas en Python son inmutables. Es decir, que no se pueden cambiar mediante accesos a sus posiciones. Si se intenta hacer, causará un error. Véase. "
   ]
  },
  {
   "cell_type": "code",
   "execution_count": 33,
   "metadata": {
    "collapsed": false
   },
   "outputs": [
    {
     "ename": "TypeError",
     "evalue": "'str' object does not support item assignment",
     "output_type": "error",
     "traceback": [
      "\u001b[0;31m---------------------------------------------------------------------------\u001b[0m",
      "\u001b[0;31mTypeError\u001b[0m                                 Traceback (most recent call last)",
      "\u001b[0;32m<ipython-input-33-bb9da9a78642>\u001b[0m in \u001b[0;36m<module>\u001b[0;34m()\u001b[0m\n\u001b[1;32m      1\u001b[0m \u001b[0mcadena\u001b[0m \u001b[1;33m=\u001b[0m \u001b[1;34m\"Python\"\u001b[0m\u001b[1;33m\u001b[0m\u001b[0m\n\u001b[0;32m----> 2\u001b[0;31m \u001b[0mcadena\u001b[0m\u001b[1;33m[\u001b[0m\u001b[1;36m0\u001b[0m\u001b[1;33m]\u001b[0m \u001b[1;33m=\u001b[0m \u001b[1;34m\"V\"\u001b[0m\u001b[1;33m\u001b[0m\u001b[0m\n\u001b[0m",
      "\u001b[0;31mTypeError\u001b[0m: 'str' object does not support item assignment"
     ]
    }
   ],
   "source": [
    "cadena = \"Python\"\n",
    "cadena[0] = \"V\""
   ]
  },
  {
   "cell_type": "markdown",
   "metadata": {},
   "source": [
    "## Secuencias de escape\n",
    "\n",
    "La barra inclinada (\\) es un caracter especial que se utiliza como secuencia de escape. Se utiliza para los saltos de línea, por ejemplo. A continuación se muestran algunas secuencias de caracteres que son especiales: \n",
    "\n",
    "<table  cellpadding=\"6\" cellspacing=\"0\" border=\"1\" bgcolor=\"#F5F5F5\">\n",
    "<th>Secuencia de escape</th><th>Significado</td></th>\n",
    "<tr></tr>\n",
    "<tr><td>\\newline</td><td>Ignorado </td></tr>\t \n",
    "<tr><td>\\\\</td><td> \tBarra inclinada (\\) \t</td></tr> \n",
    "<tr><td>\\'</td><td> \tComilla simple (') \t</td></tr> \n",
    "<tr><td>\\\"</td><td> \tComilla doble (\") \t</td></tr> \n",
    "<tr><td>\\a </td><td>\tASCII Bell (BEL) \t </td></tr>\n",
    "<tr><td>\\b </td><td>\tASCII Backspace (BS) </td></tr>\t \n",
    "<tr><td>\\f </td><td>\tASCII Formfeed (FF) \t</td></tr> \n",
    "<tr><td>\\n </td><td>\tASCII Linefeed (LF) \t</td></tr> \n",
    "<tr><td>\\N{name} </td><td>\tCharacter named name in the Unicode database (Unicode only)</td></tr> \t \n",
    "<tr><td>\\r </td><td>\tASCII Carriage Return (CR) \t</td></tr> \n",
    "<tr><td>\\t </td><td>\tASCII Horizontal Tab (TAB) \t</td></tr> \n",
    "<tr><td>\\uxxxx </td><td>\tCharacter with 16-bit hex value xxxx (Unicode only)</td></tr>\n",
    "<tr><td>\\Uxxxxxxxx </td><td>\tCharacter with 32-bit hex value xxxxxxxx (Unicode only)</td></tr>\n",
    "<tr><td>\\v </td><td>\tASCII Vertical Tab (VT) \t</td></tr> \n",
    "<tr><td>\\ooo </td><td>\tCharacter with octal value ooo </td></tr>\n",
    "<tr><td>\\xhh </td><td>\tCharacter with hex value hh</td></tr>\n",
    "</table>"
   ]
  },
  {
   "cell_type": "code",
   "execution_count": null,
   "metadata": {
    "collapsed": true
   },
   "outputs": [],
   "source": []
  }
 ],
 "metadata": {
  "anaconda-cloud": {},
  "kernelspec": {
   "display_name": "Python [default]",
   "language": "python",
   "name": "python2"
  },
  "language_info": {
   "codemirror_mode": {
    "name": "ipython",
    "version": 2
   },
   "file_extension": ".py",
   "mimetype": "text/x-python",
   "name": "python",
   "nbconvert_exporter": "python",
   "pygments_lexer": "ipython2",
   "version": "2.7.12"
  }
 },
 "nbformat": 4,
 "nbformat_minor": 1
}
